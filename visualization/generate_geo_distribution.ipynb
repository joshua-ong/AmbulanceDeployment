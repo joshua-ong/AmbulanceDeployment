{
 "cells": [
  {
   "cell_type": "markdown",
   "id": "22e3816a",
   "metadata": {},
   "source": [
    "Summary: Read the data and generate the frequency calls at every location.\n",
    "V1 <br>\n",
    "V2 using updated grid v3 and maybe switched index from 3,4 to 13,14<br>"
   ]
  },
  {
   "cell_type": "code",
   "execution_count": 1,
   "id": "2427a4c2",
   "metadata": {},
   "outputs": [],
   "source": [
    "import numpy as np\n",
    "import matplotlib.pyplot as plt\n",
    "import seaborn as sns\n",
    "import csv\n",
    "import collections\n",
    "import pandas as pd\n",
    "import math\n",
    "import json"
   ]
  },
  {
   "cell_type": "code",
   "execution_count": 2,
   "id": "8e2716ca",
   "metadata": {},
   "outputs": [],
   "source": [
    "# This is the grid object, which is used throughout all data preprocessing.\n",
    "# It represents the city of Austin through a series of grids.\n",
    "# It thus makes a tractable way to compute distance between grids, ect. \n",
    "class Grid():\n",
    "    def __init__(self, grid_json):\n",
    "        self.grid = grid_json\n",
    "        self.min_lat = self.grid[\"latitude_min\"]\n",
    "        self.min_lon = self.grid[\"longitude_min\"]\n",
    "        self.max_lat = self.grid[\"latitude_max\"]\n",
    "        self.max_lon = self.grid[\"longitude_max\"]\n",
    "        self.latitude_delta = self.grid[\"latitude_step\"]\n",
    "        self.longitude_delta = self.grid[\"longitude_step\"]\n",
    "        self.nrows = math.ceil((self.max_lat - self.min_lat) / self.latitude_delta)\n",
    "        self.ncols = math.ceil((self.max_lon - self.min_lon) / self.longitude_delta)\n",
    "        self.times = self.grid[\"time_matrix\"]\n",
    "        self.census_tract_region_map = self.grid[\"census_tract_region_mapping\"]\n",
    "        self.region_to_tract = collections.defaultdict(list)\n",
    "        for census_tract in self.census_tract_region_map:\n",
    "            for region in self.census_tract_region_map[census_tract]:\n",
    "                self.region_to_tract[region].append(census_tract)\n",
    "    def map_point_to_region(self, latitude, longitude):\n",
    "        return math.floor((latitude-self.min_lat)/self.latitude_delta) * self.ncols  + math.floor((longitude-self.min_lon)/self.longitude_delta)\n",
    "    def get_representative(self, region_num):\n",
    "        row_num = region_num//self.ncols\n",
    "        col_num = region_num - row_num*self.ncols\n",
    "        lat = self.min_lat + row_num * self.latitude_delta + 0.5*self.latitude_delta\n",
    "        lon = self.min_lon + col_num * self.longitude_delta + 0.5*self.longitude_delta\n",
    "        return [lon, lat]\n",
    "    def get_time(self, region1, region2):\n",
    "        try:\n",
    "            return self.times[region1][region2]\n",
    "        except IndexError:\n",
    "            return -1\n",
    "    def region_to_census_tract(self, region):\n",
    "        try:\n",
    "            return self.region_to_tract[region]\n",
    "        except KeyError:\n",
    "            return \"0_0\""
   ]
  },
  {
   "cell_type": "code",
   "execution_count": 6,
   "id": "0667b824",
   "metadata": {},
   "outputs": [
    {
     "name": "stdout",
     "output_type": "stream",
     "text": [
      "(210108, 17)\n"
     ]
    }
   ],
   "source": [
    "clean_data = (np.genfromtxt(\"../Input_Data/cleaned_data.csv\", delimiter=\",\"))\n",
    "clean_data_s = (np.genfromtxt(\"../Input_Data/cleaned_data.csv\", delimiter=\",\", dtype = str))\n",
    "print(clean_data_s.shape)"
   ]
  },
  {
   "cell_type": "code",
   "execution_count": 9,
   "id": "da95b122",
   "metadata": {},
   "outputs": [],
   "source": [
    "# Using smaller distance matrix for hopefully faster runtime of Julia code\n",
    "with open(\"../Input_Data/grid_info_3200_v3.json\", \"r\") as f:\n",
    "    grid_json = json.load(f)\n",
    "g = Grid(grid_json)"
   ]
  },
  {
   "cell_type": "code",
   "execution_count": 10,
   "id": "97c37225",
   "metadata": {},
   "outputs": [
    {
     "name": "stdout",
     "output_type": "stream",
     "text": [
      "['' 'IncidentForeignKey' 'Radio_Name' 'Longitude_At_Assign_Time'\n",
      " 'Latitude_At_Assign_Time' 'Time_Assigned' 'Time_Enroute'\n",
      " 'Time_ArrivedAtScene' 'Time_Depart_Scene' 'Time_Arrive_Destination'\n",
      " 'Time_Available' 'Time_Call_Cleared' 'Call_Disposition'\n",
      " 'Longitude_Of_Emergency' 'Latitude_Of_Emergency' 'transport_time'\n",
      " 'grid_time']\n",
      "['1' '23397873' 'M09' '-97.972866' '30.333385' '2019-01-01 19:43:36.000'\n",
      " '2019-01-01 19:45:27.030' '2019-01-01 19:48:39.770'\n",
      " '2019-01-01 20:19:00.870' '2019-01-01 20:24:43.093'\n",
      " '2019-01-01 20:51:12.877' '2019-01-01 20:51:12.877'\n",
      " 'Baylor Scott & White - Lakeway' '-97.961' '30.325' '192' '222.72']\n",
      "Longitude_At_Assign_Time\n",
      "Latitude_At_Assign_Time\n",
      "Longitude_Of_Emergency\n",
      "Latitude_Of_Emergency\n"
     ]
    }
   ],
   "source": [
    "print(clean_data_s[0])\n",
    "print(clean_data_s[1])\n",
    "print(clean_data_s[0][3])\n",
    "print(clean_data_s[0][4])\n",
    "print(clean_data_s[0][13])\n",
    "print(clean_data_s[0][14])\n"
   ]
  },
  {
   "cell_type": "code",
   "execution_count": 11,
   "id": "dad30ac9",
   "metadata": {},
   "outputs": [
    {
     "data": {
      "text/plain": [
       "507"
      ]
     },
     "execution_count": 11,
     "metadata": {},
     "output_type": "execute_result"
    }
   ],
   "source": [
    "num_regions = len(g.times)\n",
    "region_freq = np.zeros([num_regions])\n",
    "skipped = 0\n",
    "\n",
    "for i in range(2, len(clean_data_s)):\n",
    "    longs = clean_data[i][13]\n",
    "    lats = clean_data[i][14]\n",
    "    region = g.map_point_to_region(lats,longs)\n",
    "    if(longs < g.min_lon) or (longs > g.max_lon):\n",
    "        skipped = skipped + 1\n",
    "        continue\n",
    "    elif(lats < g.min_lat) or (lats >g.max_lat):\n",
    "        skipped = skipped + 1\n",
    "        continue\n",
    "    elif(region < 0 or region > num_regions):\n",
    "        skipped = skipped + 1\n",
    "        continue\n",
    "    region_freq[region] = region_freq[region] + 1\n",
    "#     print(str(lats) + str (longs) + \"region \" +str(region))\n",
    "# print(longs)\n",
    "# print(lats)\n",
    "# print(g.min_lon)\n",
    "# print(g.max_lon)\n",
    "# print(g.min_lat)\n",
    "# print(g.max_lat)\n",
    "skipped"
   ]
  },
  {
   "cell_type": "code",
   "execution_count": 12,
   "id": "32549152",
   "metadata": {},
   "outputs": [
    {
     "data": {
      "text/plain": [
       "209599.0"
      ]
     },
     "execution_count": 12,
     "metadata": {},
     "output_type": "execute_result"
    }
   ],
   "source": [
    "sum(region_freq)"
   ]
  },
  {
   "cell_type": "code",
   "execution_count": 14,
   "id": "c03dc4ed",
   "metadata": {},
   "outputs": [],
   "source": [
    "    np.savetxt('../Output_Data/geo_distribution_flat_v2.csv', region_freq, delimiter=',') "
   ]
  },
  {
   "cell_type": "code",
   "execution_count": 15,
   "id": "ab853bdc",
   "metadata": {},
   "outputs": [
    {
     "data": {
      "text/plain": [
       "0.0"
      ]
     },
     "execution_count": 15,
     "metadata": {},
     "output_type": "execute_result"
    }
   ],
   "source": [
    "#list 1-200 (1D) to \"geographical\" rowsxcolumns (2d)\n",
    "num_regions = len(g.times)\n",
    "geo_freq = np.zeros([g.nrows, g.ncols])\n",
    "for i in range(num_regions):\n",
    "    row_num = i//g.ncols # Correct\n",
    "    col_num = i - row_num*g.ncols\n",
    "    geo_freq[row_num,col_num] = region_freq[i]\n",
    "np.min(geo_freq)"
   ]
  },
  {
   "cell_type": "code",
   "execution_count": 16,
   "id": "ecfab3aa",
   "metadata": {},
   "outputs": [],
   "source": [
    "bool_mask = np.zeros([g.nrows, g.ncols])\n",
    "for i in range(len(geo_freq)):\n",
    "    for j in range(len(geo_freq[0])):\n",
    "        if(geo_freq[i,j] == 0):\n",
    "            bool_mask[i,j] = 0\n",
    "        else: \n",
    "            bool_mask[i,j] = 1"
   ]
  },
  {
   "cell_type": "code",
   "execution_count": 17,
   "id": "3507f997",
   "metadata": {},
   "outputs": [
    {
     "data": {
      "text/plain": [
       "746"
      ]
     },
     "execution_count": 17,
     "metadata": {},
     "output_type": "execute_result"
    }
   ],
   "source": [
    "zero_count = 0\n",
    "for i in range(len(geo_freq)):\n",
    "    for j in range(len(geo_freq[0])):\n",
    "        if(geo_freq[i,j] == 0):\n",
    "            zero_count = zero_count + 1\n",
    "zero_count\n",
    "3200 - 2454"
   ]
  },
  {
   "cell_type": "code",
   "execution_count": null,
   "id": "a0604712",
   "metadata": {},
   "outputs": [],
   "source": []
  },
  {
   "cell_type": "code",
   "execution_count": 18,
   "id": "122c5d0f",
   "metadata": {},
   "outputs": [
    {
     "data": {
      "text/plain": [
       "Text(0.5, 1.0, 'ln(frequency of calls) so e^10 ~= 20k')"
      ]
     },
     "execution_count": 18,
     "metadata": {},
     "output_type": "execute_result"
    },
    {
     "data": {
      "image/png": "[encoded data removed]",
      "text/plain": [
       "<Figure size 432x288 with 2 Axes>"
      ]
     },
     "metadata": {
      "needs_background": "light"
     },
     "output_type": "display_data"
    }
   ],
   "source": [
    "log_geo_freq = np.log(geo_freq + .01)\n",
    "ax = sns.heatmap(log_geo_freq, square = True, vmin = 0) #, cbar_kws={\"ticks\":np.arange(0,40000,8000)}) #, cbar_ax = [0,10])\n",
    "\n",
    "# #x = np.arange(2,10,2)\n",
    "# y_ticks_labels = ['Mon','Tue','Wed','Thu','Fri','Sat','Sun']\n",
    "# # Set number of ticks for x-axis\n",
    "# ax.set_yticks(np.arange(0,7,1))\n",
    "# # Set ticks labels for x-axis\n",
    "# ax.set_yticklabels(y_ticks_labels, rotation='horizontal', fontsize=12)\n",
    "plt.xlabel ('distance')\n",
    "plt.ylabel ('distance')\n",
    "plt.title('ln(frequency of calls) so e^10 ~= 20k')\n"
   ]
  },
  {
   "cell_type": "code",
   "execution_count": 29,
   "id": "17a3585c",
   "metadata": {},
   "outputs": [
    {
     "data": {
      "image/png": "[encoded data removed]",
      "text/plain": [
       "<Figure size 432x288 with 2 Axes>"
      ]
     },
     "metadata": {},
     "output_type": "display_data"
    }
   ],
   "source": [
    "ax = sns.heatmap(bool_mask, square = True)"
   ]
  },
  {
   "cell_type": "code",
   "execution_count": 35,
   "id": "c0e36d7b",
   "metadata": {},
   "outputs": [],
   "source": [
    "np.savetxt('geo_distribution.csv', geo_freq, delimiter=',') \n",
    "a = (np.genfromtxt(\"geo_distribution.csv\", delimiter=\",\"))"
   ]
  },
  {
   "cell_type": "code",
   "execution_count": 11,
   "id": "5388c742",
   "metadata": {},
   "outputs": [
    {
     "data": {
      "image/png": "[encoded data removed]",
      "text/plain": [
       "<Figure size 432x288 with 2 Axes>"
      ]
     },
     "metadata": {},
     "output_type": "display_data"
    }
   ],
   "source": [
    "import numpy as np; np.random.seed(0)\n",
    "import seaborn as sns; sns.set_theme()\n",
    "uniform_data = np.random.rand(60, 50)\n",
    "ax = sns.heatmap(uniform_data)"
   ]
  },
  {
   "cell_type": "code",
   "execution_count": 12,
   "id": "2e2b07c9",
   "metadata": {},
   "outputs": [
    {
     "data": {
      "text/plain": [
       "61"
      ]
     },
     "execution_count": 12,
     "metadata": {},
     "output_type": "execute_result"
    }
   ],
   "source": [
    "len(a[0])"
   ]
  },
  {
   "cell_type": "code",
   "execution_count": null,
   "id": "07b3e887",
   "metadata": {},
   "outputs": [],
   "source": []
  }
 ],
 "metadata": {
  "kernelspec": {
   "display_name": "Python 3",
   "language": "python",
   "name": "python3"
  },
  "language_info": {
   "codemirror_mode": {
    "name": "ipython",
    "version": 3
   },
   "file_extension": ".py",
   "mimetype": "text/x-python",
   "name": "python",
   "nbconvert_exporter": "python",
   "pygments_lexer": "ipython3",
   "version": "3.7.3"
  }
 },
 "nbformat": 4,
 "nbformat_minor": 5
}

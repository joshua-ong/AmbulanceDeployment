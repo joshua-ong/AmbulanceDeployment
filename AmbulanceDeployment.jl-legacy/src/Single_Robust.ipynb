{
 "cells": [
  {
   "cell_type": "markdown",
   "id": "33f4574c",
   "metadata": {},
   "source": [
    "@Joshua Ong"
   ]
  },
  {
   "cell_type": "code",
   "execution_count": 1,
   "id": "14e6c706",
   "metadata": {},
   "outputs": [
    {
     "name": "stderr",
     "output_type": "stream",
     "text": [
      "\u001b[32m\u001b[1m   Updating\u001b[22m\u001b[39m registry at `C:\\Users\\Owner\\.julia\\registries\\General`\n",
      "\u001b[32m\u001b[1m  Resolving\u001b[22m\u001b[39m package versions...\n",
      "\u001b[32m\u001b[1mNo Changes\u001b[22m\u001b[39m to `C:\\Users\\Owner\\Documents\\Austin\\AmbulanceDeployment\\AmbulanceDeployment.jl-legacy\\Project.toml`\n",
      "\u001b[32m\u001b[1mNo Changes\u001b[22m\u001b[39m to `C:\\Users\\Owner\\Documents\\Austin\\AmbulanceDeployment\\AmbulanceDeployment.jl-legacy\\Manifest.toml`\n",
      "\u001b[32m\u001b[1m  Resolving\u001b[22m\u001b[39m package versions...\n",
      "\u001b[32m\u001b[1mNo Changes\u001b[22m\u001b[39m to `C:\\Users\\Owner\\Documents\\Austin\\AmbulanceDeployment\\AmbulanceDeployment.jl-legacy\\Project.toml`\n",
      "\u001b[32m\u001b[1mNo Changes\u001b[22m\u001b[39m to `C:\\Users\\Owner\\Documents\\Austin\\AmbulanceDeployment\\AmbulanceDeployment.jl-legacy\\Manifest.toml`\n",
      "\u001b[32m\u001b[1m Activating\u001b[22m\u001b[39m environment at `C:\\Users\\Owner\\Documents\\Austin\\AmbulanceDeployment\\AmbulanceDeployment.jl-legacy\\Project.toml`\n",
      "┌ Info: Precompiling AmbulanceDeployment [d2c08a37-75f3-4934-bcbc-64feba624d07]\n",
      "└ @ Base loading.jl:1278\n",
      "┌ Warning: Package AmbulanceDeployment does not have Random in its dependencies:\n",
      "│ - If you have AmbulanceDeployment checked out for development and have\n",
      "│   added Random as a dependency but haven't updated your primary\n",
      "│   environment's manifest file, try `Pkg.resolve()`.\n",
      "│ - Otherwise you may need to report an issue with AmbulanceDeployment\n",
      "└ Loading Random into AmbulanceDeployment from project dependency, future warnings for AmbulanceDeployment are suppressed.\n",
      "WARNING: using AmbulanceDeployment.PROJECT_ROOT in module Main conflicts with an existing identifier.\n"
     ]
    }
   ],
   "source": [
    "using Pkg\n",
    "Pkg.add(\"Pkg\")\n",
    "Pkg.add(\"Dates\")\n",
    "\n",
    "joshpath = \"C:/Users/Owner/Documents/Austin/AmbulanceDeployment/AmbulanceDeployment.jl-legacy\"\n",
    "\n",
    "PROJECT_ROOT = joshpath\n",
    "currentpath = joshpath\n",
    "\n",
    "cd(currentpath)\n",
    "Pkg.activate(\".\")\n",
    "\n",
    "#include(\".//src//problem.jl\")\n",
    "#include(\".//src//model.jl\")\n",
    "\n",
    "using AmbulanceDeployment \n",
    "using DataFrames, Winston, JLD, CSV, Gurobi, JuMP, GLPK, Dates"
   ]
  },
  {
   "cell_type": "code",
   "execution_count": 3,
   "id": "884b427d",
   "metadata": {},
   "outputs": [
    {
     "data": {
      "text/plain": [
       "210×44 Array{Bool,2}:\n",
       " 1  1  1  1  1  1  1  1  1  1  1  1  1  …  1  1  1  1  1  1  1  1  1  1  1  1\n",
       " 1  1  1  1  1  1  1  1  1  1  1  1  1     1  1  1  1  1  1  1  1  1  1  1  1\n",
       " 1  1  1  1  1  1  1  1  1  1  1  1  1     1  1  1  1  1  1  1  1  1  1  1  1\n",
       " 1  1  1  1  1  1  1  1  1  1  1  1  1     1  1  1  1  1  1  1  1  1  1  1  1\n",
       " 1  1  1  1  1  1  1  1  1  1  1  1  1     1  1  1  1  1  1  1  1  1  1  1  1\n",
       " 1  1  1  1  1  1  1  1  1  1  1  1  1  …  1  1  1  1  1  1  1  1  1  1  1  1\n",
       " 1  1  1  1  1  1  1  1  1  1  1  1  1     1  1  1  1  1  1  1  1  1  1  1  1\n",
       " 0  0  0  0  0  0  0  0  0  0  0  0  0     0  0  0  0  0  0  0  0  0  0  0  0\n",
       " 0  0  0  0  0  0  0  0  0  0  0  0  0     0  0  0  0  0  0  0  0  0  0  1  0\n",
       " 1  1  1  1  1  1  1  1  1  1  1  1  1     1  1  1  1  1  1  1  1  1  1  1  1\n",
       " 1  1  1  1  1  1  1  1  1  1  1  1  1  …  1  1  1  1  1  1  1  1  1  1  1  1\n",
       " 1  1  1  1  1  1  1  1  1  1  1  1  1     1  1  1  1  1  1  1  1  1  1  1  1\n",
       " 1  1  1  1  1  1  1  1  1  1  1  1  1     1  1  1  1  1  1  1  1  1  1  1  1\n",
       " ⋮              ⋮              ⋮        ⋱           ⋮              ⋮        \n",
       " 1  1  1  1  1  1  1  1  1  1  1  1  1     1  1  1  1  1  1  1  1  1  1  1  1\n",
       " 1  1  1  1  1  1  1  1  1  1  1  1  1     1  1  1  1  1  1  1  1  1  1  1  1\n",
       " 1  1  1  1  1  1  1  1  1  1  1  1  1  …  1  1  1  1  1  1  1  1  1  1  1  1\n",
       " 1  1  1  1  1  1  1  1  1  1  1  1  1     1  1  1  1  1  1  1  1  1  1  1  1\n",
       " 1  1  1  1  1  1  1  1  1  1  1  1  1     1  1  1  1  1  1  1  1  1  1  1  1\n",
       " 1  1  1  1  1  1  1  1  1  1  1  1  1     1  1  1  1  1  1  1  1  1  1  1  1\n",
       " 1  1  1  1  1  1  1  1  1  1  1  1  1     1  1  1  1  1  1  1  1  1  1  1  1\n",
       " 1  1  1  1  1  1  1  1  1  1  1  1  1  …  1  1  1  1  1  1  1  1  1  1  1  1\n",
       " 1  1  1  1  1  1  1  1  1  1  1  1  1     1  1  1  1  1  1  1  1  1  1  1  1\n",
       " 1  1  1  1  1  1  1  1  1  1  1  1  1     1  1  1  1  1  1  1  1  1  1  1  1\n",
       " 1  1  1  1  1  1  1  1  1  1  1  1  1     1  1  1  1  1  1  1  1  1  1  1  1\n",
       " 1  1  1  1  1  1  1  1  1  1  1  1  1     1  1  1  1  1  1  1  1  1  1  1  1"
      ]
     },
     "execution_count": 3,
     "metadata": {},
     "output_type": "execute_result"
    }
   ],
   "source": [
    "# hourly calls - regions x hours x number of calls/ per region per hour (e.g. 210 x 10000 x Z)\n",
    "#adjacent_nbhd - boolean matrix, regionxregion (210x210) - if neighborhoods/region are adjacent?\n",
    "#coverage - boolean matrix, regions x stations (210x44) - true if station is within coverage of region\n",
    "#incidents - god object\n",
    "hourly_calls = CSV.File(PROJECT_ROOT * \"/test/austin-data/Full_WeekdayCalls.csv\") |> DataFrame\n",
    "# weekend_hourly_calls = CSV.File(\"data/processed/2-weekend_calls.csv\") |> DataFrame\n",
    "adjacent_nbhd = CSV.File(PROJECT_ROOT * \"/test/austin-data/adjacent_nbhd.csv\") |> DataFrame\n",
    "coverage = CSV.read(PROJECT_ROOT * \"/test/austin-data/coverage_real.csv\", DataFrame, header=false)\n",
    "coverage = convert(Array{Bool, 2}, coverage[:, :])\n",
    "#incidents = CSV.File(PROJECT_ROOT * \"/test/austin-data/austin_incidents.csv\") |> DataFrame"
   ]
  },
  {
   "cell_type": "code",
   "execution_count": 5,
   "id": "1c9933d9",
   "metadata": {},
   "outputs": [],
   "source": [
    "#regions - list of regions/neighborhoods where demands come from (1 ... 210)\n",
    "#locations -list of stations (1 ... 44)\n",
    "#demands - hours x regions = demands\n",
    "regions = Int[parse(Int,string(x)) for x in names(hourly_calls[:,6:ncol(hourly_calls)])]\n",
    "locations = collect(1:size(coverage,2))\n",
    "adjacent = convert(Array, adjacent_nbhd[:,2:ncol(adjacent_nbhd)])[regions,regions] .> 0.5\n",
    "demand = convert(Array,hourly_calls[:,6:end]);"
   ]
  },
  {
   "cell_type": "code",
   "execution_count": 7,
   "id": "c05b6532",
   "metadata": {},
   "outputs": [],
   "source": [
    "# We focus on emergency calls during the \"peak period\" (8AM - 8PM),\n",
    "# with the emergency calls from the first 3 month as our training set,\n",
    "# and the subsequent emergency calls from the remaining months as our test set\n",
    "peak_period = (hourly_calls[!,:hour] .>= 8) .* (hourly_calls[!,:hour] .<= 20)\n",
    "indices = 1:DataFrames.nrow(hourly_calls);\n",
    "train_filter = (hourly_calls[!,:year] .== 2019) .* (hourly_calls[!,:month] .<= 3)\n",
    "test_filter  = .~train_filter;\n",
    "train_indices = indices[train_filter]\n",
    "test_indices = indices[test_filter];"
   ]
  },
  {
   "cell_type": "code",
   "execution_count": 8,
   "id": "b39faefa",
   "metadata": {},
   "outputs": [],
   "source": [
    "# Same as for the hourly calls; but this is for individual emergency calls\n",
    "# inc_peak_period = (calls[!,:hour] .>= 8) .* (calls[!,:hour] .<= 20)\n",
    "# inc_indices = 1:DataFrames.nrow(calls);\n",
    "\n",
    "# inc_train_filter = (calls[!,:year] .== 2019) .* (calls[!,:month] .<= 3)\n",
    "# inc_test_filter  = .~inc_train_filter\n",
    "\n",
    "# inc_train_indices = inc_indices[inc_train_filter]\n",
    "# inc_test_indices = inc_indices[inc_test_filter];"
   ]
  },
  {
   "cell_type": "code",
   "execution_count": 11,
   "id": "d47f2495",
   "metadata": {},
   "outputs": [],
   "source": [
    "# we distinguish between peak and offpeak hours\n",
    "train_peak = indices[peak_period .* train_filter]\n",
    "train_offpeak = indices[.~peak_period .* train_filter]\n",
    "\n",
    "test_peak = indices[peak_period .* test_filter]\n",
    "test_offpeak = indices[.~peak_period .* test_filter]\n",
    "\n",
    "p = DeploymentProblem(30, length(locations), length(regions), demand, train_indices,\n",
    "      test_indices, coverage[regions,:], Array{Bool,2}(adjacent));\n",
    "\n",
    "#test_inc_peak = inc_peak_period .* inc_test_filter\n",
    "#test_inc_offpeak = .~inc_peak_period .* inc_test_filter;"
   ]
  },
  {
   "cell_type": "code",
   "execution_count": 14,
   "id": "69a376c5",
   "metadata": {},
   "outputs": [
    {
     "data": {
      "text/plain": [
       "Dict{Symbol,Dict{Int64,Array{Int64,1}}}()"
      ]
     },
     "execution_count": 14,
     "metadata": {},
     "output_type": "execute_result"
    }
   ],
   "source": [
    "#data structures to record results\n",
    "scenarios = Dict{Symbol, Dict{Int, Vector{Vector{Int}}}}()\n",
    "generated_deployment = Dict{Symbol, Dict{Int, Vector{Vector{Int}}}}()\n",
    "upperbounds = Dict{Symbol, Dict{Int, Vector{Float64}}}()\n",
    "lowerbounds = Dict{Symbol, Dict{Int, Vector{Float64}}}()\n",
    "upptiming = Dict{Symbol, Dict{Int, Vector{Float64}}}()\n",
    "lowtiming = Dict{Symbol, Dict{Int, Vector{Float64}}}()\n",
    "amb_deployment = Dict{Symbol, Dict{Int, Vector{Int}}}()"
   ]
  },
  {
   "cell_type": "code",
   "execution_count": 20,
   "id": "1aec62fa",
   "metadata": {},
   "outputs": [
    {
     "name": "stdout",
     "output_type": "stream",
     "text": [
      "50 \n"
     ]
    },
    {
     "data": {
      "text/plain": [
       "50"
      ]
     },
     "execution_count": 20,
     "metadata": {},
     "output_type": "execute_result"
    }
   ],
   "source": [
    "(deployment_model, name) = (next_dp -> RobustDeployment(next_dp, α=0.1), :Robust01)\n",
    "amb_deployment[name] = Dict{Int, Vector{Int}}()\n",
    "scenarios[name] = Dict{Int, Vector{Vector{Int}}}()\n",
    "generated_deployment[name] = Dict{Int, Vector{Vector{Int}}}()\n",
    "upperbounds[name] = Dict{Int, Vector{Float64}}()\n",
    "lowerbounds[name] = Dict{Int, Vector{Float64}}()\n",
    "upptiming[name] = Dict{Int, Vector{Float64}}()\n",
    "lowtiming[name] = Dict{Int, Vector{Float64}}()\n",
    "namb = 50\n",
    "println(\"$namb \")\n",
    "p.nambulances = namb\n"
   ]
  },
  {
   "cell_type": "code",
   "execution_count": 21,
   "id": "bf3b38f6",
   "metadata": {},
   "outputs": [
    {
     "name": "stdout",
     "output_type": "stream",
     "text": [
      "Academic license - for non-commercial use only\r\n",
      "Academic license - for non-commercial use only\r\n",
      "Academic license - for non-commercial use only\r\n",
      "Academic license - for non-commercial use only\r\n",
      "Optimize a model with 254 rows, 45 columns and 5858 nonzeros\r\n",
      "Variable types: 1 continuous, 44 integer (0 binary)\r\n",
      "Coefficient statistics:\r\n",
      "  Matrix range     [1e+00, 1e+00]\r\n",
      "  Objective range  [1e+00, 1e+00]\r\n",
      "  Bounds range     [0e+00, 0e+00]\r\n",
      "  RHS range        [1e+00, 5e+01]\r\n",
      "\r\n",
      "Loaded MIP start with objective 0\r\n",
      "\r\n",
      "\r\n",
      "Explored 0 nodes (0 simplex iterations) in 0.00 seconds\r\n",
      "Thread count was 1 (of 8 available processors)\r\n",
      "\r\n",
      "Solution count 1: 0 \r\n",
      "\r\n",
      "Optimal solution found (tolerance 1.00e-04)\r\n",
      "Best objective 0.000000000000e+00, best bound 0.000000000000e+00, gap 0.0000%\r\n",
      "  0.003798 seconds (16.41 k allocations: 857.992 KiB)\n"
     ]
    }
   ],
   "source": [
    "model = deployment_model(p)\n",
    "set_optimizer(model.m, Gurobi.Optimizer)\n",
    "@time AmbulanceDeployment.optimize!(model, p);"
   ]
  },
  {
   "cell_type": "code",
   "execution_count": 23,
   "id": "31835d82",
   "metadata": {},
   "outputs": [
    {
     "data": {
      "text/plain": [
       "Float64[]"
      ]
     },
     "execution_count": 23,
     "metadata": {},
     "output_type": "execute_result"
    }
   ],
   "source": [
    "amb_deployment[name][namb] = deployment(model)\n",
    "\n",
    "# for tracking purposes\n",
    "scenarios[name][namb] = model.scenarios\n",
    "generated_deployment[name][namb] = model.deployment\n",
    "upperbounds[name][namb] = model.upperbounds\n",
    "lowerbounds[name][namb] = model.lowerbounds\n",
    "upptiming[name][namb] = model.upptiming\n",
    "lowtiming[name][namb] = model.lowtiming"
   ]
  },
  {
   "cell_type": "code",
   "execution_count": 27,
   "id": "f892467c",
   "metadata": {},
   "outputs": [
    {
     "ename": "LoadError",
     "evalue": "\u001b[91mBoundsError: attempt to access 0-element Array{Float64,1} at index [0]\u001b[39m",
     "output_type": "error",
     "traceback": [
      "\u001b[91mBoundsError: attempt to access 0-element Array{Float64,1} at index [0]\u001b[39m",
      "",
      "Stacktrace:",
      " [1] getindex(::Array{Float64,1}, ::Int64) at .\\array.jl:809",
      " [2] top-level scope at In[27]:1",
      " [3] include_string(::Function, ::Module, ::String, ::String) at .\\loading.jl:1091"
     ]
    }
   ],
   "source": [
    "model.upperbounds[0]"
   ]
  },
  {
   "cell_type": "code",
   "execution_count": null,
   "id": "d18c22d2",
   "metadata": {},
   "outputs": [],
   "source": []
  }
 ],
 "metadata": {
  "kernelspec": {
   "display_name": "Julia 1.5.2",
   "language": "julia",
   "name": "julia-1.5"
  },
  "language_info": {
   "file_extension": ".jl",
   "mimetype": "application/julia",
   "name": "julia",
   "version": "1.5.2"
  }
 },
 "nbformat": 4,
 "nbformat_minor": 5
}

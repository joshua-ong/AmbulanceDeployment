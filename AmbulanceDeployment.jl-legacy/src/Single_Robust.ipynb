{
 "cells": [
  {
   "cell_type": "markdown",
   "id": "e9821e1a",
   "metadata": {},
   "source": [
    "@Joshua Ong"
   ]
  },
  {
   "cell_type": "code",
   "execution_count": 124,
   "id": "e4573dbb",
   "metadata": {},
   "outputs": [
    {
     "name": "stderr",
     "output_type": "stream",
     "text": [
      "\u001b[32m\u001b[1m  Resolving\u001b[22m\u001b[39m package versions...\n",
      "\u001b[32m\u001b[1mNo Changes\u001b[22m\u001b[39m to `C:\\Users\\Owner\\Documents\\Austin\\AmbulanceDeployment\\AmbulanceDeployment.jl-legacy\\Project.toml`\n",
      "\u001b[32m\u001b[1mNo Changes\u001b[22m\u001b[39m to `C:\\Users\\Owner\\Documents\\Austin\\AmbulanceDeployment\\AmbulanceDeployment.jl-legacy\\Manifest.toml`\n",
      "\u001b[32m\u001b[1m  Resolving\u001b[22m\u001b[39m package versions...\n",
      "\u001b[32m\u001b[1mNo Changes\u001b[22m\u001b[39m to `C:\\Users\\Owner\\Documents\\Austin\\AmbulanceDeployment\\AmbulanceDeployment.jl-legacy\\Project.toml`\n",
      "\u001b[32m\u001b[1mNo Changes\u001b[22m\u001b[39m to `C:\\Users\\Owner\\Documents\\Austin\\AmbulanceDeployment\\AmbulanceDeployment.jl-legacy\\Manifest.toml`\n",
      "\u001b[32m\u001b[1m Activating\u001b[22m\u001b[39m environment at `C:\\Users\\Owner\\Documents\\Austin\\AmbulanceDeployment\\AmbulanceDeployment.jl-legacy\\Project.toml`\n"
     ]
    }
   ],
   "source": [
    "using Pkg\n",
    "Pkg.add(\"Pkg\")\n",
    "Pkg.add(\"Dates\")\n",
    "\n",
    "joshpath = \"C:/Users/Owner/Documents/Austin/AmbulanceDeployment/AmbulanceDeployment.jl-legacy\"\n",
    "\n",
    "PROJECT_ROOT = joshpath\n",
    "currentpath = joshpath\n",
    "\n",
    "cd(currentpath)\n",
    "Pkg.activate(\".\")\n",
    "\n",
    "#include(\".//src//problem.jl\")\n",
    "#include(\".//src//model.jl\")\n",
    "\n",
    "using AmbulanceDeployment \n",
    "using DataFrames, Winston, JLD, CSV, Gurobi, JuMP, GLPK, Dates"
   ]
  },
  {
   "cell_type": "code",
   "execution_count": 74,
   "id": "5cfe68e9",
   "metadata": {},
   "outputs": [
    {
     "name": "stdout",
     "output_type": "stream",
     "text": [
      "\n",
      " coverage (209, 44)\n",
      " hourly_calls (10296, 214)\n",
      " adjacent_nbhd (224, 225)\n",
      " coverage (209, 44)\n",
      " demand (10296, 209)\n",
      " adjacent (209, 209)"
     ]
    }
   ],
   "source": [
    "# hourly calls - regions x hours x number of calls/ per region per hour (e.g. 210 x 10000 x Z)\n",
    "#adjacent_nbhd - boolean matrix, regionxregion (210x210) - if neighborhoods/region are adjacent?\n",
    "#coverage - boolean matrix, regions x stations (210x44) - true if station is within coverage of region\n",
    "#incidents - god object\n",
    "\n",
    "# PROJECT_ROOT = \"C:/Users/Owner/Documents/Austin/AmbulanceDeployment/AmbulanceDeployment.jl-legacy\"\n",
    "# adjacent_nbhd = CSV.File(PROJECT_ROOT * \"/test/austin-data/adjacent_nbhd.csv\") |> DataFrame\n",
    "# #I CAN'T for the life of me see the difference.\n",
    "adjacent_nbhd = CSV.File(\"C:/Users/Owner/Documents/Austin/AmbulanceDeployment/AmbulanceDeployment.jl-legacy/test/austin_data/adjacent_nbhd.csv\") |> DataFrame\n",
    "coverage = CSV.File(\"C:/Users/Owner/Documents/Austin/AmbulanceDeployment/AmbulanceDeployment.jl-legacy/test/austin_data/coverage.csv\") |> DataFrame\n",
    "#coverage = convert(Array{Bool, 2}, coverage[:, :])\n",
    "hourly_calls = CSV.File(\"C:/Users/Owner/Documents/Austin/AmbulanceDeployment/AmbulanceDeployment.jl-legacy/test/austin_data/Full_WeekdayCalls.csv\") |> DataFrame\n",
    "# weekend_hourly_calls = CSV.File(\"data/processed/2-weekend_calls.csv\") |> DataFrame\n",
    "\n",
    "print(\"\\n coverage \",size(coverage))\n",
    "print(\"\\n hourly_calls \",size(hourly_calls))\n",
    "print(\"\\n adjacent_nbhd \",size(adjacent_nbhd))\n",
    "\n",
    "num_regions = 209\n",
    "regions = collect(1:209)\n",
    "\n",
    "#reformat data frames as matrix data\n",
    "#regions - list of regions/neighborhoods where demands come from (1 ... 210)\n",
    "#locations -list of stations (1 ... 44)\n",
    "#demands - hours x regions = demands\n",
    "#regions = Int[parse(Int,string(x)) for x in names(hourly_calls[:,6:ncol(hourly_calls)])]\n",
    "locations = collect(1:size(coverage,2))\n",
    "coverage = Matrix(coverage)\n",
    "coverage = convert(Array{Bool, 2}, coverage[:, :])\n",
    "adjacent = Matrix(adjacent_nbhd[!,2:end]) \n",
    "adjacent = adjacent[regions,regions] .> 0.5\n",
    "demand = Matrix(hourly_calls[!,5:end-1]); #we were trimming first 6 collumns but it seems to me it only the first 5 contain extraneous data\n",
    "\n",
    "print(\"\\n coverage \",size(coverage))\n",
    "print(\"\\n demand \",size(demand))\n",
    "print(\"\\n adjacent \",size(adjacent))"
   ]
  },
  {
   "cell_type": "code",
   "execution_count": 75,
   "id": "0aa66e15",
   "metadata": {},
   "outputs": [],
   "source": [
    "# We focus on emergency calls during the \"peak period\" (8AM - 8PM),\n",
    "# with the emergency calls from the first 3 month as our training set,\n",
    "# and the subsequent emergency calls from the remaining months as our test set\n",
    "peak_period = (hourly_calls[!,:hour] .>= 8) .* (hourly_calls[!,:hour] .<= 20)\n",
    "indices = 1:DataFrames.nrow(hourly_calls);\n",
    "train_filter = (hourly_calls[!,:year] .== 2019) .* (hourly_calls[!,:month] .<= 3)\n",
    "test_filter  = .~train_filter;\n",
    "train_indices = indices[train_filter]\n",
    "test_indices = indices[test_filter];"
   ]
  },
  {
   "cell_type": "code",
   "execution_count": 76,
   "id": "677f6cfc",
   "metadata": {},
   "outputs": [
    {
     "data": {
      "text/plain": [
       "(10296,)"
      ]
     },
     "execution_count": 76,
     "metadata": {},
     "output_type": "execute_result"
    }
   ],
   "source": [
    "size(peak_period)"
   ]
  },
  {
   "cell_type": "code",
   "execution_count": 77,
   "id": "303fe24d",
   "metadata": {},
   "outputs": [],
   "source": [
    "# Same as for the hourly calls; but this is for individual emergency calls\n",
    "# inc_peak_period = (calls[!,:hour] .>= 8) .* (calls[!,:hour] .<= 20)\n",
    "# inc_indices = 1:DataFrames.nrow(calls);\n",
    "\n",
    "# inc_train_filter = (calls[!,:year] .== 2019) .* (calls[!,:month] .<= 3)\n",
    "# inc_test_filter  = .~inc_train_filter\n",
    "\n",
    "# inc_train_indices = inc_indices[inc_train_filter]\n",
    "# inc_test_indices = inc_indices[inc_test_filter];"
   ]
  },
  {
   "cell_type": "code",
   "execution_count": 78,
   "id": "602c40c7",
   "metadata": {},
   "outputs": [],
   "source": [
    "# we distinguish between peak and offpeak hours\n",
    "train_peak = indices[peak_period .* train_filter]\n",
    "train_offpeak = indices[.~peak_period .* train_filter]\n",
    "\n",
    "test_peak = indices[peak_period .* test_filter]\n",
    "test_offpeak = indices[.~peak_period .* test_filter]\n",
    "\n",
    "p = DeploymentProblem(30, length(locations), length(regions), demand, train_indices,\n",
    "      test_indices, coverage[regions,:], Array{Bool,2}(adjacent));\n",
    "\n",
    "#test_inc_peak = inc_peak_period .* inc_test_filter\n",
    "#test_inc_offpeak = .~inc_peak_period .* inc_test_filter;"
   ]
  },
  {
   "cell_type": "code",
   "execution_count": 79,
   "id": "c70d4e71",
   "metadata": {},
   "outputs": [
    {
     "data": {
      "text/plain": [
       "Dict{Symbol,Dict{Int64,Array{Int64,1}}}()"
      ]
     },
     "execution_count": 79,
     "metadata": {},
     "output_type": "execute_result"
    }
   ],
   "source": [
    "#declare data structures to record results\n",
    "scenarios = Dict{Symbol, Dict{Int, Vector{Vector{Int}}}}()\n",
    "generated_deployment = Dict{Symbol, Dict{Int, Vector{Vector{Int}}}}()\n",
    "upperbounds = Dict{Symbol, Dict{Int, Vector{Float64}}}()\n",
    "lowerbounds = Dict{Symbol, Dict{Int, Vector{Float64}}}()\n",
    "upptiming = Dict{Symbol, Dict{Int, Vector{Float64}}}()\n",
    "lowtiming = Dict{Symbol, Dict{Int, Vector{Float64}}}()\n",
    "amb_deployment = Dict{Symbol, Dict{Int, Vector{Int}}}()"
   ]
  },
  {
   "cell_type": "code",
   "execution_count": 112,
   "id": "2fa9aba5",
   "metadata": {},
   "outputs": [
    {
     "name": "stdout",
     "output_type": "stream",
     "text": [
      "40 \n"
     ]
    },
    {
     "data": {
      "text/plain": [
       "40"
      ]
     },
     "execution_count": 112,
     "metadata": {},
     "output_type": "execute_result"
    }
   ],
   "source": [
    "(deployment_model, name) = (next_dp -> RobustDeployment(next_dp, α=0.5), :Robust01)\n",
    "amb_deployment[name] = Dict{Int, Vector{Int}}()\n",
    "scenarios[name] = Dict{Int, Vector{Vector{Int}}}()\n",
    "generated_deployment[name] = Dict{Int, Vector{Vector{Int}}}()\n",
    "upperbounds[name] = Dict{Int, Vector{Float64}}()\n",
    "lowerbounds[name] = Dict{Int, Vector{Float64}}()\n",
    "upptiming[name] = Dict{Int, Vector{Float64}}()\n",
    "lowtiming[name] = Dict{Int, Vector{Float64}}()\n",
    "namb = 40\n",
    "println(\"$namb \")\n",
    "p.nambulances = namb"
   ]
  },
  {
   "cell_type": "code",
   "execution_count": 128,
   "id": "01ecd338",
   "metadata": {},
   "outputs": [
    {
     "ename": "LoadError",
     "evalue": "\u001b[91mMethodError: no method matching Gamma(::DeploymentProblem, ::Float64)\u001b[39m\n\u001b[91m\u001b[0mClosest candidates are:\u001b[39m\n\u001b[91m\u001b[0m  Gamma(\u001b[91m::T\u001b[39m, ::T; check_args) where T<:Real at C:\\Users\\Owner\\.julia\\packages\\Distributions\\Xrm9e\\src\\univariate\\continuous\\gamma.jl:33\u001b[39m\n\u001b[91m\u001b[0m  Gamma(\u001b[91m::Real\u001b[39m, ::Real) at C:\\Users\\Owner\\.julia\\packages\\Distributions\\Xrm9e\\src\\univariate\\continuous\\gamma.jl:38\u001b[39m\n\u001b[91m\u001b[0m  Gamma(::DeploymentProblem; α) at C:\\Users\\Owner\\Documents\\Austin\\AmbulanceDeployment\\AmbulanceDeployment.jl-legacy\\src\\deployment\\robust.jl:46\u001b[39m",
     "output_type": "error",
     "traceback": [
      "\u001b[91mMethodError: no method matching Gamma(::DeploymentProblem, ::Float64)\u001b[39m\n\u001b[91m\u001b[0mClosest candidates are:\u001b[39m\n\u001b[91m\u001b[0m  Gamma(\u001b[91m::T\u001b[39m, ::T; check_args) where T<:Real at C:\\Users\\Owner\\.julia\\packages\\Distributions\\Xrm9e\\src\\univariate\\continuous\\gamma.jl:33\u001b[39m\n\u001b[91m\u001b[0m  Gamma(\u001b[91m::Real\u001b[39m, ::Real) at C:\\Users\\Owner\\.julia\\packages\\Distributions\\Xrm9e\\src\\univariate\\continuous\\gamma.jl:38\u001b[39m\n\u001b[91m\u001b[0m  Gamma(::DeploymentProblem; α) at C:\\Users\\Owner\\Documents\\Austin\\AmbulanceDeployment\\AmbulanceDeployment.jl-legacy\\src\\deployment\\robust.jl:46\u001b[39m",
      "",
      "Stacktrace:",
      " [1] top-level scope at In[128]:10",
      " [2] include_string(::Function, ::Module, ::String, ::String) at .\\loading.jl:1091"
     ]
    }
   ],
   "source": [
    "import JuMP, Gurobi\n",
    "import DataStructures: PriorityQueue, enqueue!, dequeue!\n",
    "import DataFrames: DataFrame, nrow\n",
    "import Distributions\n",
    "import DataStructures: PriorityQueue, enqueue!, dequeue!\n",
    "import Pkg\n",
    "import CSV, Query\n",
    "using Gurobi, CSV, Query, JuMP, Dates, JLD, GLPK\n",
    "using DataFrames, CSV, Random, JSON, Distributions #Plots\n",
    "AmbulanceDeployment.Gamma(p,.01)"
   ]
  },
  {
   "cell_type": "code",
   "execution_count": 126,
   "id": "f2fe8fd0",
   "metadata": {
    "scrolled": true
   },
   "outputs": [
    {
     "name": "stdout",
     "output_type": "stream",
     "text": [
      "Academic license - for non-commercial use only - expires 2022-07-26\r\n",
      "Academic license - for non-commercial use only - expires 2022-07-26\r\n"
     ]
    },
    {
     "name": "stderr",
     "output_type": "stream",
     "text": [
      "┌ Warning: Passing optimizer attributes as keyword arguments to\n",
      "│ Gurobi.Optimizer is deprecated. Use\n",
      "│     MOI.set(model, MOI.RawParameter(\"key\"), value)\n",
      "│ or\n",
      "│     JuMP.set_optimizer_attribute(model, \"key\", value)\n",
      "│ instead.\n",
      "└ @ Gurobi C:\\Users\\Owner\\.julia\\packages\\Gurobi\\BAtIN\\src\\MOI_wrapper\\MOI_wrapper.jl:273\n",
      "┌ Warning: Passing optimizer attributes as keyword arguments to\n",
      "│ Gurobi.Optimizer is deprecated. Use\n",
      "│     MOI.set(model, MOI.RawParameter(\"key\"), value)\n",
      "│ or\n",
      "│     JuMP.set_optimizer_attribute(model, \"key\", value)\n",
      "│ instead.\n",
      "└ @ Gurobi C:\\Users\\Owner\\.julia\\packages\\Gurobi\\BAtIN\\src\\MOI_wrapper\\MOI_wrapper.jl:273\n"
     ]
    },
    {
     "name": "stdout",
     "output_type": "stream",
     "text": [
      "Academic license - for non-commercial use only - expires 2022-07-26\n",
      "Gurobi Optimizer version 9.1.2 build v9.1.2rc0 (win64)\n",
      "Thread count: 4 physical cores, 8 logical processors, using up to 8 threads\n",
      "Optimize a model with 508 rows, 9450 columns and 27057 nonzeros\n",
      "Model fingerprint: 0x5cf34807\n",
      "Variable types: 1 continuous, 9449 integer (0 binary)\n",
      "Coefficient statistics:\n",
      "  Matrix range     [1e-06, 1e+00]\n",
      "  Objective range  [1e+00, 1e+00]\n",
      "  Bounds range     [4e+01, 4e+01]\n",
      "  RHS range        [1e+00, 4e+01]\n",
      "\n",
      "Warning: Completing partial solution with 9405 unfixed non-continuous variables out of 9449\n",
      "User MIP start did not produce a new incumbent solution\n",
      "User MIP start violates constraint R23 by 1.000000000\n",
      "\n",
      "Found heuristic solution: objective 2.000000e+09\n",
      "Presolve removed 358 rows and 7292 columns\n",
      "Presolve time: 0.02s\n",
      "Presolved: 150 rows, 2158 columns, 4259 nonzeros\n",
      "Found heuristic solution: objective 254.0000400\n",
      "Variable types: 0 continuous, 2158 integer (1249 binary)\n",
      "\n",
      "Root relaxation: cutoff, 307 iterations, 0.00 seconds\n",
      "\n",
      "    Nodes    |    Current Node    |     Objective Bounds      |     Work\n",
      " Expl Unexpl |  Obj  Depth IntInf | Incumbent    BestBd   Gap | It/Node Time\n",
      "\n",
      "     0     0     cutoff    0       254.00004  254.00004  0.00%     -    0s\n",
      "\n",
      "Explored 0 nodes (307 simplex iterations) in 0.03 seconds\n",
      "Thread count was 8 (of 8 available processors)\n",
      "\n",
      "Solution count 2: 254 2e+09 \n",
      "\n",
      "Optimal solution found (tolerance 1.00e-04)\n",
      "Best objective 2.540000400000e+02, best bound 2.540000400000e+02, gap 0.0000%\n",
      "\n",
      "User-callback calls 77, time in user-callback 0.00 sec\n",
      "  0.176775 seconds (247.52 k allocations: 27.508 MiB)\n",
      "[0, 5, 5, 0, 0, 0, 1, 0, 0, 0, 0, 0, 0, 0, 0, 1, 1, 1, 0, 0, 0, 0, 0, 0, 2, 1, 1, 0, 3, 1, 1, 3, 1, 1, 5, 1, 0, 0, 1, 0, 1, 1, 1, 2]"
     ]
    }
   ],
   "source": [
    "#include(\"src/deployment/robust.jl\")\n",
    "model = deployment_model(p)\n",
    "set_optimizer(model.m, Gurobi.Optimizer)\n",
    "@time AmbulanceDeployment.optimize_robust!(model, p);\n",
    "print(deployment(model))"
   ]
  },
  {
   "cell_type": "code",
   "execution_count": 114,
   "id": "b90b4ee2",
   "metadata": {},
   "outputs": [
    {
     "data": {
      "text/plain": [
       "Float64[]"
      ]
     },
     "execution_count": 114,
     "metadata": {},
     "output_type": "execute_result"
    }
   ],
   "source": [
    "amb_deployment[name][namb] = deployment(model)\n",
    "\n",
    "# for tracking purposes\n",
    "scenarios[name][namb] = model.scenarios\n",
    "generated_deployment[name][namb] = model.deployment\n",
    "upperbounds[name][namb] = model.upperbounds\n",
    "lowerbounds[name][namb] = model.lowerbounds\n",
    "upptiming[name][namb] = model.upptiming\n",
    "lowtiming[name][namb] = model.lowtiming"
   ]
  },
  {
   "cell_type": "code",
   "execution_count": 115,
   "id": "a265a832",
   "metadata": {},
   "outputs": [
    {
     "name": "stdout",
     "output_type": "stream",
     "text": [
      "294"
     ]
    }
   ],
   "source": [
    "print(sum(model.scenarios[1])) #why are we testing on 299 test calls???"
   ]
  },
  {
   "cell_type": "markdown",
   "id": "6b3ebc4c",
   "metadata": {},
   "source": [
    "# Cross validation"
   ]
  },
  {
   "cell_type": "code",
   "execution_count": 107,
   "id": "e2cc9df9",
   "metadata": {},
   "outputs": [
    {
     "name": "stdout",
     "output_type": "stream",
     "text": [
      "40 \n",
      "Academic license - for non-commercial use only - expires 2022-07-26\r\n",
      "Academic license - for non-commercial use only - expires 2022-07-26\r\n"
     ]
    },
    {
     "name": "stderr",
     "output_type": "stream",
     "text": [
      "┌ Warning: Passing optimizer attributes as keyword arguments to\n",
      "│ Gurobi.Optimizer is deprecated. Use\n",
      "│     MOI.set(model, MOI.RawParameter(\"key\"), value)\n",
      "│ or\n",
      "│     JuMP.set_optimizer_attribute(model, \"key\", value)\n",
      "│ instead.\n",
      "└ @ Gurobi C:\\Users\\Owner\\.julia\\packages\\Gurobi\\BAtIN\\src\\MOI_wrapper\\MOI_wrapper.jl:273\n",
      "┌ Warning: Passing optimizer attributes as keyword arguments to\n",
      "│ Gurobi.Optimizer is deprecated. Use\n",
      "│     MOI.set(model, MOI.RawParameter(\"key\"), value)\n",
      "│ or\n",
      "│     JuMP.set_optimizer_attribute(model, \"key\", value)\n",
      "│ instead.\n",
      "└ @ Gurobi C:\\Users\\Owner\\.julia\\packages\\Gurobi\\BAtIN\\src\\MOI_wrapper\\MOI_wrapper.jl:273\n"
     ]
    },
    {
     "name": "stdout",
     "output_type": "stream",
     "text": [
      "Academic license - for non-commercial use only - expires 2022-07-26\n",
      "Gurobi Optimizer version 9.1.2 build v9.1.2rc0 (win64)\n",
      "Thread count: 4 physical cores, 8 logical processors, using up to 8 threads\n",
      "Optimize a model with 508 rows, 9450 columns and 27057 nonzeros\n",
      "Model fingerprint: 0x9fb4eda8\n",
      "Variable types: 1 continuous, 9449 integer (0 binary)\n",
      "Coefficient statistics:\n",
      "  Matrix range     [1e-06, 1e+00]\n",
      "  Objective range  [1e+00, 1e+00]\n",
      "  Bounds range     [4e+01, 4e+01]\n",
      "  RHS range        [1e+00, 4e+01]\n",
      "\n",
      "Warning: Completing partial solution with 9405 unfixed non-continuous variables out of 9449\n",
      "User MIP start did not produce a new incumbent solution\n",
      "User MIP start violates constraint R23 by 1.000000000\n",
      "\n",
      "Found heuristic solution: objective 2.000000e+09\n",
      "Presolve removed 354 rows and 7112 columns\n",
      "Presolve time: 0.02s\n",
      "Presolved: 154 rows, 2338 columns, 4615 nonzeros\n",
      "Found heuristic solution: objective 258.0000400\n",
      "Variable types: 0 continuous, 2338 integer (1421 binary)\n",
      "\n",
      "Root relaxation: cutoff, 314 iterations, 0.00 seconds\n",
      "\n",
      "    Nodes    |    Current Node    |     Objective Bounds      |     Work\n",
      " Expl Unexpl |  Obj  Depth IntInf | Incumbent    BestBd   Gap | It/Node Time\n",
      "\n",
      "     0     0     cutoff    0       258.00004  258.00004  0.00%     -    0s\n",
      "\n",
      "Explored 0 nodes (314 simplex iterations) in 0.03 seconds\n",
      "Thread count was 8 (of 8 available processors)\n",
      "\n",
      "Solution count 2: 258 2e+09 \n",
      "\n",
      "Optimal solution found (tolerance 1.00e-04)\n",
      "Best objective 2.580000400000e+02, best bound 2.580000400000e+02, gap 0.0000%\n",
      "\n",
      "User-callback calls 75, time in user-callback 0.00 sec\n",
      "  0.197103 seconds (247.51 k allocations: 27.484 MiB)\n",
      "[0, 1, 5, 1, 0, 0, 2, 0, 0, 0, 0, 0, 0, 0, 0, 2, 1, 2, 0, 0, 0, 0, 0, 0, 1, 2, 1, 0, 2, 2, 2, 2, 1, 4, 1, 0, 0, 4, 1, 0, 1, 0, 1, 1]40 \n",
      "Academic license - for non-commercial use only - expires 2022-07-26\n",
      "Academic license - for non-commercial use only - expires 2022-07-26\n"
     ]
    },
    {
     "name": "stderr",
     "output_type": "stream",
     "text": [
      "┌ Warning: Passing optimizer attributes as keyword arguments to\n",
      "│ Gurobi.Optimizer is deprecated. Use\n",
      "│     MOI.set(model, MOI.RawParameter(\"key\"), value)\n",
      "│ or\n",
      "│     JuMP.set_optimizer_attribute(model, \"key\", value)\n",
      "│ instead.\n",
      "└ @ Gurobi C:\\Users\\Owner\\.julia\\packages\\Gurobi\\BAtIN\\src\\MOI_wrapper\\MOI_wrapper.jl:273\n",
      "┌ Warning: Passing optimizer attributes as keyword arguments to\n",
      "│ Gurobi.Optimizer is deprecated. Use\n",
      "│     MOI.set(model, MOI.RawParameter(\"key\"), value)\n",
      "│ or\n",
      "│     JuMP.set_optimizer_attribute(model, \"key\", value)\n",
      "│ instead.\n",
      "└ @ Gurobi C:\\Users\\Owner\\.julia\\packages\\Gurobi\\BAtIN\\src\\MOI_wrapper\\MOI_wrapper.jl:273\n"
     ]
    },
    {
     "name": "stdout",
     "output_type": "stream",
     "text": [
      "Academic license - for non-commercial use only - expires 2022-07-26\n",
      "Gurobi Optimizer version 9.1.2 build v9.1.2rc0 (win64)\n",
      "Thread count: 4 physical cores, 8 logical processors, using up to 8 threads\n",
      "Optimize a model with 508 rows, 9450 columns and 27057 nonzeros\n",
      "Model fingerprint: 0xa2d857de\n",
      "Variable types: 1 continuous, 9449 integer (0 binary)\n",
      "Coefficient statistics:\n",
      "  Matrix range     [1e-06, 1e+00]\n",
      "  Objective range  [1e+00, 1e+00]\n",
      "  Bounds range     [4e+01, 4e+01]\n",
      "  RHS range        [1e+00, 4e+01]\n",
      "\n",
      "Warning: Completing partial solution with 9405 unfixed non-continuous variables out of 9449\n",
      "User MIP start did not produce a new incumbent solution\n",
      "User MIP start violates constraint R23 by 1.000000000\n",
      "\n",
      "Found heuristic solution: objective 2.000000e+09\n",
      "Presolve removed 353 rows and 7067 columns\n",
      "Presolve time: 0.02s\n",
      "Presolved: 155 rows, 2383 columns, 4704 nonzeros\n",
      "Found heuristic solution: objective 259.0000400\n",
      "Variable types: 0 continuous, 2383 integer (1464 binary)\n",
      "\n",
      "Root relaxation: cutoff, 313 iterations, 0.00 seconds\n",
      "\n",
      "    Nodes    |    Current Node    |     Objective Bounds      |     Work\n",
      " Expl Unexpl |  Obj  Depth IntInf | Incumbent    BestBd   Gap | It/Node Time\n",
      "\n",
      "     0     0     cutoff    0       259.00004  259.00004  0.00%     -    0s\n",
      "\n",
      "Explored 0 nodes (313 simplex iterations) in 0.03 seconds\n",
      "Thread count was 8 (of 8 available processors)\n",
      "\n",
      "Solution count 2: 259 2e+09 \n",
      "\n",
      "Optimal solution found (tolerance 1.00e-04)\n",
      "Best objective 2.590000400000e+02, best bound 2.590000400000e+02, gap 0.0000%\n",
      "\n",
      "User-callback calls 74, time in user-callback 0.00 sec\n",
      "  0.185535 seconds (247.51 k allocations: 27.484 MiB)\n",
      "[0, 1, 1, 0, 0, 0, 1, 0, 0, 0, 0, 0, 0, 0, 0, 1, 0, 4, 0, 0, 5, 5, 1, 0, 1, 2, 0, 0, 1, 5, 1, 1, 1, 1, 2, 0, 0, 1, 1, 0, 1, 1, 1, 1]40 \n",
      "Academic license - for non-commercial use only - expires 2022-07-26\n",
      "Academic license - for non-commercial use only - expires 2022-07-26\n"
     ]
    },
    {
     "name": "stderr",
     "output_type": "stream",
     "text": [
      "┌ Warning: Passing optimizer attributes as keyword arguments to\n",
      "│ Gurobi.Optimizer is deprecated. Use\n",
      "│     MOI.set(model, MOI.RawParameter(\"key\"), value)\n",
      "│ or\n",
      "│     JuMP.set_optimizer_attribute(model, \"key\", value)\n",
      "│ instead.\n",
      "└ @ Gurobi C:\\Users\\Owner\\.julia\\packages\\Gurobi\\BAtIN\\src\\MOI_wrapper\\MOI_wrapper.jl:273\n",
      "┌ Warning: Passing optimizer attributes as keyword arguments to\n",
      "│ Gurobi.Optimizer is deprecated. Use\n",
      "│     MOI.set(model, MOI.RawParameter(\"key\"), value)\n",
      "│ or\n",
      "│     JuMP.set_optimizer_attribute(model, \"key\", value)\n",
      "│ instead.\n",
      "└ @ Gurobi C:\\Users\\Owner\\.julia\\packages\\Gurobi\\BAtIN\\src\\MOI_wrapper\\MOI_wrapper.jl:273\n"
     ]
    },
    {
     "name": "stdout",
     "output_type": "stream",
     "text": [
      "Academic license - for non-commercial use only - expires 2022-07-26\n",
      "Gurobi Optimizer version 9.1.2 build v9.1.2rc0 (win64)\n",
      "Thread count: 4 physical cores, 8 logical processors, using up to 8 threads\n",
      "Optimize a model with 508 rows, 9450 columns and 27057 nonzeros\n",
      "Model fingerprint: 0xa2d857de\n",
      "Variable types: 1 continuous, 9449 integer (0 binary)\n",
      "Coefficient statistics:\n",
      "  Matrix range     [1e-06, 1e+00]\n",
      "  Objective range  [1e+00, 1e+00]\n",
      "  Bounds range     [4e+01, 4e+01]\n",
      "  RHS range        [1e+00, 4e+01]\n",
      "\n",
      "Warning: Completing partial solution with 9405 unfixed non-continuous variables out of 9449\n",
      "User MIP start did not produce a new incumbent solution\n",
      "User MIP start violates constraint R23 by 1.000000000\n",
      "\n",
      "Found heuristic solution: objective 2.000000e+09\n",
      "Presolve removed 353 rows and 7067 columns\n",
      "Presolve time: 0.02s\n",
      "Presolved: 155 rows, 2383 columns, 4704 nonzeros\n",
      "Found heuristic solution: objective 259.0000400\n",
      "Variable types: 0 continuous, 2383 integer (1464 binary)\n",
      "\n",
      "Root relaxation: cutoff, 313 iterations, 0.00 seconds\n",
      "\n",
      "    Nodes    |    Current Node    |     Objective Bounds      |     Work\n",
      " Expl Unexpl |  Obj  Depth IntInf | Incumbent    BestBd   Gap | It/Node Time\n",
      "\n",
      "     0     0     cutoff    0       259.00004  259.00004  0.00%     -    0s\n",
      "\n",
      "Explored 0 nodes (313 simplex iterations) in 0.03 seconds\n",
      "Thread count was 8 (of 8 available processors)\n",
      "\n",
      "Solution count 2: 259 2e+09 \n",
      "\n",
      "Optimal solution found (tolerance 1.00e-04)\n",
      "Best objective 2.590000400000e+02, best bound 2.590000400000e+02, gap 0.0000%\n",
      "\n",
      "User-callback calls 75, time in user-callback 0.00 sec\n",
      "  0.183225 seconds (247.52 k allocations: 27.500 MiB)\n",
      "[0, 1, 1, 0, 0, 0, 1, 0, 0, 0, 0, 0, 0, 0, 0, 1, 0, 4, 0, 0, 5, 5, 1, 0, 1, 2, 0, 0, 1, 5, 1, 1, 1, 1, 2, 0, 0, 1, 1, 0, 1, 1, 1, 1]40 \n",
      "Academic license - for non-commercial use only - expires 2022-07-26\n",
      "Academic license - for non-commercial use only - expires 2022-07-26\n"
     ]
    },
    {
     "name": "stderr",
     "output_type": "stream",
     "text": [
      "┌ Warning: Passing optimizer attributes as keyword arguments to\n",
      "│ Gurobi.Optimizer is deprecated. Use\n",
      "│     MOI.set(model, MOI.RawParameter(\"key\"), value)\n",
      "│ or\n",
      "│     JuMP.set_optimizer_attribute(model, \"key\", value)\n",
      "│ instead.\n",
      "└ @ Gurobi C:\\Users\\Owner\\.julia\\packages\\Gurobi\\BAtIN\\src\\MOI_wrapper\\MOI_wrapper.jl:273\n",
      "┌ Warning: Passing optimizer attributes as keyword arguments to\n",
      "│ Gurobi.Optimizer is deprecated. Use\n",
      "│     MOI.set(model, MOI.RawParameter(\"key\"), value)\n",
      "│ or\n",
      "│     JuMP.set_optimizer_attribute(model, \"key\", value)\n",
      "│ instead.\n",
      "└ @ Gurobi C:\\Users\\Owner\\.julia\\packages\\Gurobi\\BAtIN\\src\\MOI_wrapper\\MOI_wrapper.jl:273\n"
     ]
    },
    {
     "name": "stdout",
     "output_type": "stream",
     "text": [
      "Academic license - for non-commercial use only - expires 2022-07-26\n",
      "Gurobi Optimizer version 9.1.2 build v9.1.2rc0 (win64)\n",
      "Thread count: 4 physical cores, 8 logical processors, using up to 8 threads\n",
      "Optimize a model with 508 rows, 9450 columns and 27057 nonzeros\n",
      "Model fingerprint: 0xa2d857de\n",
      "Variable types: 1 continuous, 9449 integer (0 binary)\n",
      "Coefficient statistics:\n",
      "  Matrix range     [1e-06, 1e+00]\n",
      "  Objective range  [1e+00, 1e+00]\n",
      "  Bounds range     [4e+01, 4e+01]\n",
      "  RHS range        [1e+00, 4e+01]\n",
      "\n",
      "Warning: Completing partial solution with 9405 unfixed non-continuous variables out of 9449\n",
      "User MIP start did not produce a new incumbent solution\n",
      "User MIP start violates constraint R23 by 1.000000000\n",
      "\n",
      "Found heuristic solution: objective 2.000000e+09\n",
      "Presolve removed 353 rows and 7067 columns\n",
      "Presolve time: 0.02s\n",
      "Presolved: 155 rows, 2383 columns, 4704 nonzeros\n",
      "Found heuristic solution: objective 259.0000400\n",
      "Variable types: 0 continuous, 2383 integer (1464 binary)\n",
      "\n",
      "Root relaxation: cutoff, 313 iterations, 0.00 seconds\n",
      "\n",
      "    Nodes    |    Current Node    |     Objective Bounds      |     Work\n",
      " Expl Unexpl |  Obj  Depth IntInf | Incumbent    BestBd   Gap | It/Node Time\n",
      "\n",
      "     0     0     cutoff    0       259.00004  259.00004  0.00%     -    0s\n",
      "\n",
      "Explored 0 nodes (313 simplex iterations) in 0.03 seconds\n",
      "Thread count was 8 (of 8 available processors)\n",
      "\n",
      "Solution count 2: 259 2e+09 \n",
      "\n",
      "Optimal solution found (tolerance 1.00e-04)\n",
      "Best objective 2.590000400000e+02, best bound 2.590000400000e+02, gap 0.0000%\n",
      "\n",
      "User-callback calls 76, time in user-callback 0.00 sec\n",
      "  0.178236 seconds (247.52 k allocations: 27.512 MiB)\n",
      "[0, 1, 1, 0, 0, 0, 1, 0, 0, 0, 0, 0, 0, 0, 0, 1, 0, 4, 0, 0, 5, 5, 1, 0, 1, 2, 0, 0, 1, 5, 1, 1, 1, 1, 2, 0, 0, 1, 1, 0, 1, 1, 1, 1]40 \n",
      "Academic license - for non-commercial use only - expires 2022-07-26\n",
      "Academic license - for non-commercial use only - expires 2022-07-26\n"
     ]
    },
    {
     "name": "stderr",
     "output_type": "stream",
     "text": [
      "┌ Warning: Passing optimizer attributes as keyword arguments to\n",
      "│ Gurobi.Optimizer is deprecated. Use\n",
      "│     MOI.set(model, MOI.RawParameter(\"key\"), value)\n",
      "│ or\n",
      "│     JuMP.set_optimizer_attribute(model, \"key\", value)\n",
      "│ instead.\n",
      "└ @ Gurobi C:\\Users\\Owner\\.julia\\packages\\Gurobi\\BAtIN\\src\\MOI_wrapper\\MOI_wrapper.jl:273\n",
      "┌ Warning: Passing optimizer attributes as keyword arguments to\n",
      "│ Gurobi.Optimizer is deprecated. Use\n",
      "│     MOI.set(model, MOI.RawParameter(\"key\"), value)\n",
      "│ or\n",
      "│     JuMP.set_optimizer_attribute(model, \"key\", value)\n",
      "│ instead.\n",
      "└ @ Gurobi C:\\Users\\Owner\\.julia\\packages\\Gurobi\\BAtIN\\src\\MOI_wrapper\\MOI_wrapper.jl:273\n"
     ]
    },
    {
     "name": "stdout",
     "output_type": "stream",
     "text": [
      "Academic license - for non-commercial use only - expires 2022-07-26\n",
      "Gurobi Optimizer version 9.1.2 build v9.1.2rc0 (win64)\n",
      "Thread count: 4 physical cores, 8 logical processors, using up to 8 threads\n",
      "Optimize a model with 508 rows, 9450 columns and 27057 nonzeros\n",
      "Model fingerprint: 0xa2d857de\n",
      "Variable types: 1 continuous, 9449 integer (0 binary)\n",
      "Coefficient statistics:\n",
      "  Matrix range     [1e-06, 1e+00]\n",
      "  Objective range  [1e+00, 1e+00]\n",
      "  Bounds range     [4e+01, 4e+01]\n",
      "  RHS range        [1e+00, 4e+01]\n",
      "\n",
      "Warning: Completing partial solution with 9405 unfixed non-continuous variables out of 9449\n",
      "User MIP start did not produce a new incumbent solution\n",
      "User MIP start violates constraint R23 by 1.000000000\n",
      "\n",
      "Found heuristic solution: objective 2.000000e+09\n",
      "Presolve removed 353 rows and 7067 columns\n",
      "Presolve time: 0.02s\n",
      "Presolved: 155 rows, 2383 columns, 4704 nonzeros\n",
      "Found heuristic solution: objective 259.0000400\n",
      "Variable types: 0 continuous, 2383 integer (1464 binary)\n",
      "\n",
      "Root relaxation: cutoff, 313 iterations, 0.00 seconds\n",
      "\n",
      "    Nodes    |    Current Node    |     Objective Bounds      |     Work\n",
      " Expl Unexpl |  Obj  Depth IntInf | Incumbent    BestBd   Gap | It/Node Time\n",
      "\n",
      "     0     0     cutoff    0       259.00004  259.00004  0.00%     -    0s\n",
      "\n",
      "Explored 0 nodes (313 simplex iterations) in 0.03 seconds\n",
      "Thread count was 8 (of 8 available processors)\n",
      "\n",
      "Solution count 2: 259 2e+09 \n",
      "\n",
      "Optimal solution found (tolerance 1.00e-04)\n",
      "Best objective 2.590000400000e+02, best bound 2.590000400000e+02, gap 0.0000%\n",
      "\n",
      "User-callback calls 74, time in user-callback 0.00 sec\n",
      "  0.189012 seconds (247.51 k allocations: 27.484 MiB)\n",
      "[0, 1, 1, 0, 0, 0, 1, 0, 0, 0, 0, 0, 0, 0, 0, 1, 0, 4, 0, 0, 5, 5, 1, 0, 1, 2, 0, 0, 1, 5, 1, 1, 1, 1, 2, 0, 0, 1, 1, 0, 1, 1, 1, 1]"
     ]
    }
   ],
   "source": [
    "using DelimitedFiles\n",
    "alpha_list = [.1,.05,.01,.001,.0001]\n",
    "for x in alpha_list\n",
    "    (deployment_model, name) = (next_dp -> RobustDeployment(next_dp, α= x), :Robust01)\n",
    "    amb_deployment[name] = Dict{Int, Vector{Int}}()\n",
    "    scenarios[name] = Dict{Int, Vector{Vector{Int}}}()\n",
    "    generated_deployment[name] = Dict{Int, Vector{Vector{Int}}}()\n",
    "    upperbounds[name] = Dict{Int, Vector{Float64}}()\n",
    "    lowerbounds[name] = Dict{Int, Vector{Float64}}()\n",
    "    upptiming[name] = Dict{Int, Vector{Float64}}()\n",
    "    lowtiming[name] = Dict{Int, Vector{Float64}}()\n",
    "    namb = 40\n",
    "    println(\"$namb \")\n",
    "    p.nambulances = namb\n",
    "\n",
    "    model = deployment_model(p)\n",
    "    set_optimizer(model.m, Gurobi.Optimizer)\n",
    "    @time AmbulanceDeployment.optimize_robust!(model, p);\n",
    "    print(deployment(model))\n",
    "\n",
    "    amb_deployment[name][namb] = deployment(model)\n",
    "\n",
    "    # for tracking purposes\n",
    "    scenarios[name][namb] = model.scenarios\n",
    "    generated_deployment[name][namb] = model.deployment\n",
    "    upperbounds[name][namb] = model.upperbounds\n",
    "    lowerbounds[name][namb] = model.lowerbounds\n",
    "    upptiming[name][namb] = model.upptiming\n",
    "    lowtiming[name][namb] = model.lowtiming\n",
    "\n",
    "    #save julia variable as .csv\n",
    "    deployment(model)\n",
    "    #or\n",
    "    x_save = Array{Int64}(undef, 44)\n",
    "    count = 1\n",
    "    for i in JuMP.value.(model.x)\n",
    "        x_save[count] = convert(Int,i)\n",
    "        count = count + 1\n",
    "    end\n",
    "\n",
    "\n",
    "    writedlm( \"robust\" * string(x) * \".csv\",  x_save, ',') #it writes to pwd(), ambulance_legacy\n",
    "end"
   ]
  },
  {
   "cell_type": "code",
   "execution_count": null,
   "id": "a0ec56e0",
   "metadata": {},
   "outputs": [],
   "source": []
  }
 ],
 "metadata": {
  "kernelspec": {
   "display_name": "Julia 1.5.2",
   "language": "julia",
   "name": "julia-1.5"
  },
  "language_info": {
   "file_extension": ".jl",
   "mimetype": "application/julia",
   "name": "julia",
   "version": "1.5.2"
  }
 },
 "nbformat": 4,
 "nbformat_minor": 5
}

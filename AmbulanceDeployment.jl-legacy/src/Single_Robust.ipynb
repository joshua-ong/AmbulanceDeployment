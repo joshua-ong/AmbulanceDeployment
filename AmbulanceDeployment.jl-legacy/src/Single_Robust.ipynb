{
 "cells": [
  {
   "cell_type": "markdown",
   "id": "e9821e1a",
   "metadata": {},
   "source": [
    "@Joshua Ong"
   ]
  },
  {
   "cell_type": "code",
   "execution_count": 1,
   "id": "e4573dbb",
   "metadata": {},
   "outputs": [
    {
     "name": "stderr",
     "output_type": "stream",
     "text": [
      "\u001b[32m\u001b[1m   Updating\u001b[22m\u001b[39m registry at `C:\\Users\\Owner\\.julia\\registries\\General`\n",
      "\u001b[32m\u001b[1m  Resolving\u001b[22m\u001b[39m package versions...\n",
      "\u001b[32m\u001b[1mNo Changes\u001b[22m\u001b[39m to `C:\\Users\\Owner\\Documents\\Austin\\AmbulanceDeployment\\AmbulanceDeployment.jl-legacy\\Project.toml`\n",
      "\u001b[32m\u001b[1mNo Changes\u001b[22m\u001b[39m to `C:\\Users\\Owner\\Documents\\Austin\\AmbulanceDeployment\\AmbulanceDeployment.jl-legacy\\Manifest.toml`\n",
      "\u001b[32m\u001b[1m  Resolving\u001b[22m\u001b[39m package versions...\n",
      "\u001b[32m\u001b[1mNo Changes\u001b[22m\u001b[39m to `C:\\Users\\Owner\\Documents\\Austin\\AmbulanceDeployment\\AmbulanceDeployment.jl-legacy\\Project.toml`\n",
      "\u001b[32m\u001b[1mNo Changes\u001b[22m\u001b[39m to `C:\\Users\\Owner\\Documents\\Austin\\AmbulanceDeployment\\AmbulanceDeployment.jl-legacy\\Manifest.toml`\n",
      "\u001b[32m\u001b[1m Activating\u001b[22m\u001b[39m environment at `C:\\Users\\Owner\\Documents\\Austin\\AmbulanceDeployment\\AmbulanceDeployment.jl-legacy\\Project.toml`\n",
      "┌ Info: Precompiling AmbulanceDeployment [d2c08a37-75f3-4934-bcbc-64feba624d07]\n",
      "└ @ Base loading.jl:1278\n",
      "WARNING: redefinition of constant PROJECT_ROOT. This may fail, cause incorrect answers, or produce other errors.\n",
      "WARNING: using AmbulanceDeployment.PROJECT_ROOT in module Main conflicts with an existing identifier.\n"
     ]
    }
   ],
   "source": [
    "using Pkg\n",
    "Pkg.add(\"Pkg\")\n",
    "Pkg.add(\"Dates\")\n",
    "\n",
    "joshpath = \"C:/Users/Owner/Documents/Austin/AmbulanceDeployment/AmbulanceDeployment.jl-legacy\"\n",
    "\n",
    "PROJECT_ROOT = joshpath\n",
    "currentpath = joshpath\n",
    "\n",
    "cd(currentpath)\n",
    "Pkg.activate(\".\")\n",
    "\n",
    "#include(\".//src//problem.jl\")\n",
    "#include(\".//src//model.jl\")\n",
    "\n",
    "using AmbulanceDeployment \n",
    "using DataFrames, Winston, JLD, CSV, Gurobi, JuMP, GLPK, Dates"
   ]
  },
  {
   "cell_type": "code",
   "execution_count": 8,
   "id": "a5bb620a",
   "metadata": {},
   "outputs": [
    {
     "name": "stdout",
     "output_type": "stream",
     "text": [
      "\n",
      " coverage (209, 44)\n",
      " hourly_calls (10296, 214)\n",
      " adjacent_nbhd (224, 225)\n",
      " coverage (209, 44)\n",
      " demand (10296, 209)\n",
      " adjacent (209, 209)"
     ]
    }
   ],
   "source": [
    "adjacent_nbhd = CSV.File(\"C:/Users/Owner/Documents/Austin/AmbulanceDeployment/AmbulanceDeployment.jl-legacy/test/austin_data/adjacent_nbhd.csv\") |> DataFrame\n",
    "coverage = CSV.File(\"C:/Users/Owner/Documents/Austin/AmbulanceDeployment/AmbulanceDeployment.jl-legacy/test/austin_data/coverage.csv\") |> DataFrame\n",
    "hourly_calls = CSV.File(\"C:/Users/Owner/Documents/Austin/AmbulanceDeployment/AmbulanceDeployment.jl-legacy/test/austin_data/Full_WeekdayCalls.csv\") |> DataFrame\n",
    "\n",
    "print(\"\\n coverage \",size(coverage))\n",
    "print(\"\\n hourly_calls \",size(hourly_calls))\n",
    "print(\"\\n adjacent_nbhd \",size(adjacent_nbhd))\n",
    "\n",
    "num_regions = 209\n",
    "regions = collect(1:209)\n",
    "\n",
    "#reformat data frames as matrix data\n",
    "locations = collect(1:size(coverage,2))\n",
    "coverage = Matrix(coverage)\n",
    "coverage = convert(Array{Bool, 2}, coverage[:, :])\n",
    "adjacent = Matrix(adjacent_nbhd[!,2:end])\n",
    "adjacent = adjacent[regions,regions] .> 0.5\n",
    "demand = Matrix(hourly_calls[!,5:end-1]); #we were trimming first 6 collumns but it seems to me it only the first 5 contain extraneous data\n",
    "\n",
    "print(\"\\n coverage \",size(coverage))\n",
    "print(\"\\n demand \",size(demand))\n",
    "print(\"\\n adjacent \",size(adjacent))"
   ]
  },
  {
   "cell_type": "code",
   "execution_count": 9,
   "id": "d98cac13",
   "metadata": {},
   "outputs": [],
   "source": [
    "# We focus on emergency calls during the \"peak period\" (8AM - 8PM),\n",
    "# with the emergency calls from the first 3 month as our training set,\n",
    "# and the subsequent emergency calls from the remaining months as our test set\n",
    "peak_period = (hourly_calls[!,:hour] .>= 8) .* (hourly_calls[!,:hour] .<= 20)\n",
    "indices = 1:DataFrames.nrow(hourly_calls);\n",
    "train_filter = (hourly_calls[!,:year] .== 2019) .* (hourly_calls[!,:month] .<= 3)\n",
    "test_filter  = .~train_filter;\n",
    "train_indices = indices[train_filter]\n",
    "test_indices = indices[test_filter];\n",
    "\n",
    "# we distinguish between peak and offpeak hours\n",
    "train_peak = indices[peak_period .* train_filter]\n",
    "train_offpeak = indices[.~peak_period .* train_filter]\n",
    "\n",
    "test_peak = indices[peak_period .* test_filter]\n",
    "test_offpeak = indices[.~peak_period .* test_filter]\n",
    "\n",
    "p = DeploymentProblem(30, length(locations), length(regions), demand, train_indices,\n",
    "      test_indices, coverage[regions,:], Array{Bool,2}(adjacent));"
   ]
  },
  {
   "cell_type": "code",
   "execution_count": 11,
   "id": "2885a502",
   "metadata": {},
   "outputs": [
    {
     "name": "stdout",
     "output_type": "stream",
     "text": [
      "50 \n"
     ]
    },
    {
     "data": {
      "text/plain": [
       "50"
      ]
     },
     "execution_count": 11,
     "metadata": {},
     "output_type": "execute_result"
    }
   ],
   "source": [
    "namb = 50\n",
    "alpha = .1\n",
    "#data structures to record results\n",
    "scenarios = Dict{Symbol, Dict{Int, Vector{Vector{Int}}}}()\n",
    "generated_deployment = Dict{Symbol, Dict{Int, Vector{Vector{Int}}}}()\n",
    "upperbounds = Dict{Symbol, Dict{Int, Vector{Float64}}}()\n",
    "lowerbounds = Dict{Symbol, Dict{Int, Vector{Float64}}}()\n",
    "upptiming = Dict{Symbol, Dict{Int, Vector{Float64}}}()\n",
    "lowtiming = Dict{Symbol, Dict{Int, Vector{Float64}}}()\n",
    "amb_deployment = Dict{Symbol, Dict{Int, Vector{Int}}}()\n",
    "\n",
    "(deployment_model, name) = (next_dp -> RobustDeployment(next_dp, α=alpha), :Robust01)\n",
    "amb_deployment[name] = Dict{Int, Vector{Int}}()\n",
    "scenarios[name] = Dict{Int, Vector{Vector{Int}}}()\n",
    "generated_deployment[name] = Dict{Int, Vector{Vector{Int}}}()\n",
    "upperbounds[name] = Dict{Int, Vector{Float64}}()\n",
    "lowerbounds[name] = Dict{Int, Vector{Float64}}()\n",
    "upptiming[name] = Dict{Int, Vector{Float64}}()\n",
    "lowtiming[name] = Dict{Int, Vector{Float64}}()\n",
    "println(\"$namb \")\n",
    "p.nambulances = namb"
   ]
  },
  {
   "cell_type": "code",
   "execution_count": 19,
   "id": "b40984f6",
   "metadata": {},
   "outputs": [
    {
     "data": {
      "text/plain": [
       "63"
      ]
     },
     "execution_count": 19,
     "metadata": {},
     "output_type": "execute_result"
    }
   ],
   "source": [
    "sum(model.scenarios[3])"
   ]
  },
  {
   "cell_type": "code",
   "execution_count": 12,
   "id": "ca33d13a",
   "metadata": {},
   "outputs": [
    {
     "name": "stdout",
     "output_type": "stream",
     "text": [
      "Academic license - for non-commercial use only - expires 2022-07-26\r\n"
     ]
    },
    {
     "name": "stderr",
     "output_type": "stream",
     "text": [
      "┌ Warning: Passing optimizer attributes as keyword arguments to\n",
      "│ Gurobi.Optimizer is deprecated. Use\n",
      "│     MOI.set(model, MOI.RawParameter(\"key\"), value)\n",
      "│ or\n",
      "│     JuMP.set_optimizer_attribute(model, \"key\", value)\n",
      "│ instead.\n",
      "└ @ Gurobi C:\\Users\\Owner\\.julia\\packages\\Gurobi\\BAtIN\\src\\MOI_wrapper\\MOI_wrapper.jl:273\n"
     ]
    },
    {
     "name": "stdout",
     "output_type": "stream",
     "text": [
      "Academic license - for non-commercial use only - expires 2022-07-26\r\n"
     ]
    },
    {
     "name": "stderr",
     "output_type": "stream",
     "text": [
      "┌ Warning: Passing optimizer attributes as keyword arguments to\n",
      "│ Gurobi.Optimizer is deprecated. Use\n",
      "│     MOI.set(model, MOI.RawParameter(\"key\"), value)\n",
      "│ or\n",
      "│     JuMP.set_optimizer_attribute(model, \"key\", value)\n",
      "│ instead.\n",
      "└ @ Gurobi C:\\Users\\Owner\\.julia\\packages\\Gurobi\\BAtIN\\src\\MOI_wrapper\\MOI_wrapper.jl:273\n"
     ]
    },
    {
     "name": "stdout",
     "output_type": "stream",
     "text": [
      "gamma global 63gamma global AmbulanceDeployment.robustGamma([1, 1, 1, 1, 1, 1, 1, 1, 2, 1, 1, 1, 1, 1, 1, 1, 1, 1, 1, 1, 2, 2, 3, 1, 1, 1, 1, 1, 1, 1, 1, 1, 1, 1, 2, 2, 3, 1, 2, 2, 1, 1, 1, 1, 1, 1, 1, 1, 2, 4, 7, 5, 3, 4, 1, 2, 1, 1, 1, 1, 1, 1, 2, 2, 4, 6, 6, 6, 8, 2, 2, 1, 1, 1, 1, 1, 1, 1, 1, 3, 3, 11, 8, 3, 3, 2, 1, 1, 1, 1, 1, 2, 3, 2, 2, 2, 4, 8, 6, 1, 1, 1, 1, 1, 1, 2, 3, 4, 2, 3, 2, 6, 8, 3, 5, 3, 2, 2, 1, 1, 1, 1, 2, 1, 3, 1, 5, 6, 4, 2, 2, 1, 1, 1, 1, 1, 2, 1, 1, 2, 3, 5, 3, 2, 1, 1, 1, 1, 1, 1, 1, 1, 1, 3, 1, 3, 2, 1, 1, 1, 1, 1, 1, 1, 1, 1, 1, 2, 1, 2, 1, 1, 1, 1, 1, 1, 1, 1, 1, 1, 1, 1, 1, 1, 1, 1, 1, 1, 1, 1, 1, 1, 1, 1, 1, 1, 1, 1, 1, 1, 1, 1, 1, 1, 1, 1, 1, 1, 1], [0, 0, 0, 0, 0, 0, 0, 0, 0, 0, 0, 0, 0, 0, 0, 0, 0, 0, 1, 2, 1, 1, 1, 1, 0, 0, 0, 0, 0, 0, 0, 0, 0, 2, 5, 5, 2, 2, 1, 1, 0, 0, 0, 0, 0, 0, 0, 1, 3, 8, 12, 11, 7, 2, 2, 1, 0, 0, 0, 0, 0, 0, 1, 1, 6, 19, 18, 14, 7, 4, 1, 0, 0, 0, 0, 0, 1, 1, 1, 2, 14, 22, 20, 10, 4, 1, 1, 0, 0, 0, 0, 2, 2, 2, 2, 4, 16, 19, 12, 5, 1, 1, 0, 0, 0, 1, 2, 2, 3, 2, 5, 7, 11, 13, 5, 2, 2, 0, 0, 0, 1, 1, 1, 3, 3, 5, 6, 8, 9, 3, 1, 2, 0, 0, 0, 1, 1, 1, 1, 3, 4, 4, 5, 5, 2, 0, 0, 0, 0, 0, 0, 0, 1, 1, 1, 2, 3, 3, 1, 1, 0, 0, 0, 0, 0, 0, 0, 0, 0, 1, 0, 1, 1, 0, 0, 0, 0, 0, 0, 0, 0, 0, 0, 0, 0, 0, 0, 0, 0, 0, 0, 0, 0, 0, 0, 0, 0, 0, 0, 0, 0, 0, 0, 0, 0, 0, 0, 0, 0], [37, 8, 31, 21, 31, 30, 4, 31, 24, 31, 37, 30, 31, 30, 28, 4, 25, 15, 18, 30, 30, 17, 5, 31, 21, 8, 13, 22, 3, 12, 4, 3, 3, 4, 13, 14, 13, 3, 4, 30, 6, 7, 17, 6], 63)Academic license - for non-commercial use only - expires 2022-07-26\n",
      "Gurobi Optimizer version 9.1.2 build v9.1.2rc0 (win64)\n",
      "Thread count: 4 physical cores, 8 logical processors, using up to 8 threads\n",
      "Optimize a model with 508 rows, 9450 columns and 27057 nonzeros\n",
      "Model fingerprint: 0x208e140d\n",
      "Variable types: 1 continuous, 9449 integer (0 binary)\n",
      "Coefficient statistics:\n",
      "  Matrix range     [1e-06, 1e+00]\n",
      "  Objective range  [1e+00, 1e+00]\n",
      "  Bounds range     [5e+01, 5e+01]\n",
      "  RHS range        [1e+00, 5e+01]\n",
      "\n",
      "Warning: Completing partial solution with 9405 unfixed non-continuous variables out of 9449\n",
      "User MIP start produced solution with objective 27 (0.05s)\n",
      "Loaded user MIP start with objective 27\n",
      "\n",
      "Presolve removed 450 rows and 9208 columns\n",
      "Presolve time: 0.01s\n",
      "Presolved: 58 rows, 242 columns, 516 nonzeros\n",
      "Variable types: 0 continuous, 242 integer (44 binary)\n",
      "\n",
      "Root relaxation: objective 2.400004e+01, 100 iterations, 0.00 seconds\n",
      "\n",
      "    Nodes    |    Current Node    |     Objective Bounds      |     Work\n",
      " Expl Unexpl |  Obj  Depth IntInf | Incumbent    BestBd   Gap | It/Node Time\n",
      "\n",
      "*    0     0               0      24.0000390   24.00004  0.00%     -    0s\n",
      "\n",
      "Explored 0 nodes (100 simplex iterations) in 0.07 seconds\n",
      "Thread count was 8 (of 8 available processors)\n",
      "\n",
      "Solution count 2: 24 27 \n",
      "\n",
      "Optimal solution found (tolerance 1.00e-04)\n",
      "Best objective 2.400003900000e+01, best bound 2.400003900000e+01, gap 0.0000%\n",
      "\n",
      "User-callback calls 80, time in user-callback 0.00 sec\n",
      "Gurobi Optimizer version 9.1.2 build v9.1.2rc0 (win64)\n",
      "Thread count: 4 physical cores, 8 logical processors, using up to 8 threads\n",
      "Optimize a model with 762 rows, 18855 columns and 48256 nonzeros\n",
      "Model fingerprint: 0x4be4bdb1\n",
      "Variable types: 1 continuous, 18854 integer (0 binary)\n",
      "Coefficient statistics:\n",
      "  Matrix range     [1e-06, 1e+00]\n",
      "  Objective range  [1e+00, 1e+00]\n",
      "  Bounds range     [5e+01, 5e+01]\n",
      "  RHS range        [1e+00, 5e+01]\n",
      "\n",
      "Warning: Completing partial solution with 18810 unfixed non-continuous variables out of 18854\n",
      "User MIP start produced solution with objective 27 (0.02s)\n",
      "Loaded user MIP start with objective 27\n",
      "MIP start from previous solve did not produce a new incumbent solution\n",
      "\n",
      "Presolve removed 642 rows and 18401 columns\n",
      "Presolve time: 0.02s\n",
      "Presolved: 120 rows, 454 columns, 1354 nonzeros\n",
      "Variable types: 1 continuous, 453 integer (131 binary)\n",
      "\n",
      "Root relaxation: objective 2.400004e+01, 223 iterations, 0.00 seconds\n",
      "\n",
      "    Nodes    |    Current Node    |     Objective Bounds      |     Work\n",
      " Expl Unexpl |  Obj  Depth IntInf | Incumbent    BestBd   Gap | It/Node Time\n",
      "\n",
      "*    0     0               0      24.0000390   24.00004  0.00%     -    0s\n",
      "\n",
      "Explored 0 nodes (223 simplex iterations) in 0.08 seconds\n",
      "Thread count was 8 (of 8 available processors)\n",
      "\n",
      "Solution count 2: 24 27 \n",
      "\n",
      "Optimal solution found (tolerance 1.00e-04)\n",
      "Best objective 2.400003900000e+01, best bound 2.400003900000e+01, gap 0.0000%\n",
      "\n",
      "User-callback calls 168, time in user-callback 0.00 sec\n",
      "Gurobi Optimizer version 9.1.2 build v9.1.2rc0 (win64)\n",
      "Thread count: 4 physical cores, 8 logical processors, using up to 8 threads\n",
      "Optimize a model with 1016 rows, 28260 columns and 69455 nonzeros\n",
      "Model fingerprint: 0x387a334c\n",
      "Variable types: 1 continuous, 28259 integer (0 binary)\n",
      "Coefficient statistics:\n",
      "  Matrix range     [1e-06, 1e+00]\n",
      "  Objective range  [1e+00, 1e+00]\n",
      "  Bounds range     [5e+01, 5e+01]\n",
      "  RHS range        [1e+00, 5e+01]\n",
      "\n",
      "Warning: Completing partial solution with 28215 unfixed non-continuous variables out of 28259\n",
      "User MIP start produced solution with objective 27 (0.03s)\n",
      "Loaded user MIP start with objective 27\n",
      "MIP start from previous solve produced solution with objective 27 (0.05s)\n",
      "Loaded MIP start from previous solve with objective 27\n",
      "\n",
      "Presolve removed 840 rows and 27622 columns\n",
      "Presolve time: 0.02s\n",
      "Presolved: 176 rows, 638 columns, 1916 nonzeros\n",
      "Variable types: 1 continuous, 637 integer (193 binary)\n",
      "\n",
      "Root relaxation: objective 2.400004e+01, 300 iterations, 0.00 seconds\n",
      "\n",
      "    Nodes    |    Current Node    |     Objective Bounds      |     Work\n",
      " Expl Unexpl |  Obj  Depth IntInf | Incumbent    BestBd   Gap | It/Node Time\n",
      "\n",
      "*    0     0               0      24.0000390   24.00004  0.00%     -    0s\n",
      "\n",
      "Explored 0 nodes (300 simplex iterations) in 0.08 seconds\n",
      "Thread count was 8 (of 8 available processors)\n",
      "\n",
      "Solution count 3: 24 27 27 \n",
      "\n",
      "Optimal solution found (tolerance 1.00e-04)\n",
      "Best objective 2.400003900000e+01, best bound 2.400003900000e+01, gap 0.0000%\n",
      "\n",
      "User-callback calls 260, time in user-callback 0.00 sec\n",
      "Gurobi Optimizer version 9.1.2 build v9.1.2rc0 (win64)\n",
      "Thread count: 4 physical cores, 8 logical processors, using up to 8 threads\n",
      "Optimize a model with 1270 rows, 37665 columns and 90654 nonzeros\n",
      "Model fingerprint: 0x7c4194b0\n",
      "Variable types: 1 continuous, 37664 integer (0 binary)\n",
      "Coefficient statistics:\n",
      "  Matrix range     [1e-06, 1e+00]\n",
      "  Objective range  [1e+00, 1e+00]\n",
      "  Bounds range     [5e+01, 5e+01]\n",
      "  RHS range        [1e+00, 5e+01]\n",
      "\n",
      "Warning: Completing partial solution with 37620 unfixed non-continuous variables out of 37664\n",
      "User MIP start produced solution with objective 27 (0.04s)\n",
      "Loaded user MIP start with objective 27\n",
      "MIP start from previous solve produced solution with objective 26 (0.07s)\n",
      "Loaded MIP start from previous solve with objective 26\n",
      "\n",
      "Presolve removed 1038 rows and 36836 columns\n",
      "Presolve time: 0.02s\n",
      "Presolved: 232 rows, 829 columns, 2498 nonzeros\n",
      "Variable types: 1 continuous, 828 integer (233 binary)\n",
      "\n",
      "Root relaxation: objective 2.400004e+01, 387 iterations, 0.00 seconds\n",
      "\n",
      "    Nodes    |    Current Node    |     Objective Bounds      |     Work\n",
      " Expl Unexpl |  Obj  Depth IntInf | Incumbent    BestBd   Gap | It/Node Time\n",
      "\n",
      "*    0     0               0      24.0000390   24.00004  0.00%     -    0s\n",
      "\n",
      "Explored 0 nodes (387 simplex iterations) in 0.11 seconds\n",
      "Thread count was 8 (of 8 available processors)\n",
      "\n",
      "Solution count 4: 24 26 27 27 \n",
      "\n",
      "Optimal solution found (tolerance 1.00e-04)\n",
      "Best objective 2.400003900000e+01, best bound 2.400003900000e+01, gap 0.0000%\n",
      "\n",
      "User-callback calls 357, time in user-callback 0.01 sec\n",
      "3541.294678 seconds (29.93 M allocations: 1.514 GiB, 0.02% gc time)\n"
     ]
    },
    {
     "data": {
      "text/plain": [
       "Float64[]"
      ]
     },
     "execution_count": 12,
     "metadata": {},
     "output_type": "execute_result"
    }
   ],
   "source": [
    "model = deployment_model(p)\n",
    "set_optimizer(model.m, Gurobi.Optimizer)\n",
    "@time AmbulanceDeployment.optimize_robust!(model, p);\n",
    "\n",
    "amb_deployment[name][namb] = deployment(model)\n",
    "# for tracking purposes\n",
    "scenarios[name][namb] = model.scenarios\n",
    "generated_deployment[name][namb] = model.deployment\n",
    "upperbounds[name][namb] = model.upperbounds\n",
    "lowerbounds[name][namb] = model.lowerbounds\n",
    "upptiming[name][namb] = model.upptiming\n",
    "lowtiming[name][namb] = model.lowtiming"
   ]
  },
  {
   "cell_type": "code",
   "execution_count": 13,
   "id": "85980618",
   "metadata": {},
   "outputs": [
    {
     "ename": "LoadError",
     "evalue": "\u001b[91mUndefVarError: JSON not defined\u001b[39m",
     "output_type": "error",
     "traceback": [
      "\u001b[91mUndefVarError: JSON not defined\u001b[39m",
      "",
      "Stacktrace:",
      " [1] top-level scope at In[13]:9",
      " [2] include_string(::Function, ::Module, ::String, ::String) at .\\loading.jl:1091"
     ]
    }
   ],
   "source": [
    "solver_stats = Dict{String, Any}()\n",
    "push!(solver_stats, \"amb_deployment\" => amb_deployment)\n",
    "push!(solver_stats, \"scenarios\" => scenarios)\n",
    "push!(solver_stats, \"generated_deployment\" => generated_deployment)\n",
    "push!(solver_stats, \"upperbounds\" => upperbounds)\n",
    "push!(solver_stats, \"lowerbounds\" => lowerbounds)\n",
    "push!(solver_stats, \"upptiming\" => upptiming)\n",
    "push!(solver_stats, \"lowtiming\" => lowtiming)\n",
    "json_string = JSON.json(solver_stats)\n",
    "\n",
    "open(string(PROJECT_ROOT , \"/src/outputs/solver_stats_8_7.json\"),\"w\") do f\n",
    " write(f, json_string)\n",
    "end"
   ]
  },
  {
   "cell_type": "code",
   "execution_count": null,
   "id": "d79c0e73",
   "metadata": {},
   "outputs": [],
   "source": []
  },
  {
   "cell_type": "code",
   "execution_count": null,
   "id": "bafffa24",
   "metadata": {},
   "outputs": [],
   "source": []
  },
  {
   "cell_type": "code",
   "execution_count": null,
   "id": "39cb0cf1",
   "metadata": {},
   "outputs": [],
   "source": []
  },
  {
   "cell_type": "code",
   "execution_count": null,
   "id": "7a072efd",
   "metadata": {},
   "outputs": [],
   "source": []
  },
  {
   "cell_type": "markdown",
   "id": "de8410ec",
   "metadata": {},
   "source": [
    "# warning"
   ]
  },
  {
   "cell_type": "code",
   "execution_count": 2,
   "id": "5cfe68e9",
   "metadata": {},
   "outputs": [
    {
     "name": "stdout",
     "output_type": "stream",
     "text": [
      "\n",
      " coverage (209, 44)\n",
      " hourly_calls (10296, 214)\n",
      " adjacent_nbhd (224, 225)\n",
      " coverage (209, 44)\n",
      " demand (10296, 209)\n",
      " adjacent (209, 209)"
     ]
    }
   ],
   "source": [
    "# hourly calls - regions x hours x number of calls/ per region per hour (e.g. 210 x 10000 x Z)\n",
    "#adjacent_nbhd - boolean matrix, regionxregion (210x210) - if neighborhoods/region are adjacent?\n",
    "#coverage - boolean matrix, regions x stations (210x44) - true if station is within coverage of region\n",
    "#incidents - god object\n",
    "\n",
    "# PROJECT_ROOT = \"C:/Users/Owner/Documents/Austin/AmbulanceDeployment/AmbulanceDeployment.jl-legacy\"\n",
    "# adjacent_nbhd = CSV.File(PROJECT_ROOT * \"/test/austin-data/adjacent_nbhd.csv\") |> DataFrame\n",
    "# #I CAN'T for the life of me see the difference.\n",
    "adjacent_nbhd = CSV.File(\"C:/Users/Owner/Documents/Austin/AmbulanceDeployment/AmbulanceDeployment.jl-legacy/test/austin_data/adjacent_nbhd.csv\") |> DataFrame\n",
    "coverage = CSV.File(\"C:/Users/Owner/Documents/Austin/AmbulanceDeployment/AmbulanceDeployment.jl-legacy/test/austin_data/coverage.csv\") |> DataFrame\n",
    "#coverage = convert(Array{Bool, 2}, coverage[:, :])\n",
    "hourly_calls = CSV.File(\"C:/Users/Owner/Documents/Austin/AmbulanceDeployment/AmbulanceDeployment.jl-legacy/test/austin_data/Full_WeekdayCalls.csv\") |> DataFrame\n",
    "# weekend_hourly_calls = CSV.File(\"data/processed/2-weekend_calls.csv\") |> DataFrame\n",
    "\n",
    "print(\"\\n coverage \",size(coverage))\n",
    "print(\"\\n hourly_calls \",size(hourly_calls))\n",
    "print(\"\\n adjacent_nbhd \",size(adjacent_nbhd))\n",
    "\n",
    "num_regions = 209\n",
    "regions = collect(1:209)\n",
    "\n",
    "#reformat data frames as matrix data\n",
    "#regions - list of regions/neighborhoods where demands come from (1 ... 210)\n",
    "#locations -list of stations (1 ... 44)\n",
    "#demands - hours x regions = demands\n",
    "#regions = Int[parse(Int,string(x)) for x in names(hourly_calls[:,6:ncol(hourly_calls)])]\n",
    "locations = collect(1:size(coverage,2))\n",
    "coverage = Matrix(coverage)\n",
    "coverage = convert(Array{Bool, 2}, coverage[:, :])\n",
    "adjacent = Matrix(adjacent_nbhd[!,2:end]) \n",
    "adjacent = adjacent[regions,regions] .> 0.5\n",
    "demand = Matrix(hourly_calls[!,5:end-1]); #we were trimming first 6 collumns but it seems to me it only the first 5 contain extraneous data\n",
    "\n",
    "print(\"\\n coverage \",size(coverage))\n",
    "print(\"\\n demand \",size(demand))\n",
    "print(\"\\n adjacent \",size(adjacent))"
   ]
  },
  {
   "cell_type": "code",
   "execution_count": 3,
   "id": "0aa66e15",
   "metadata": {},
   "outputs": [],
   "source": [
    "# We focus on emergency calls during the \"peak period\" (8AM - 8PM),\n",
    "# with the emergency calls from the first 3 month as our training set,\n",
    "# and the subsequent emergency calls from the remaining months as our test set\n",
    "peak_period = (hourly_calls[!,:hour] .>= 8) .* (hourly_calls[!,:hour] .<= 20)\n",
    "indices = 1:DataFrames.nrow(hourly_calls);\n",
    "train_filter = (hourly_calls[!,:year] .== 2019) .* (hourly_calls[!,:month] .<= 3)\n",
    "test_filter  = .~train_filter;\n",
    "train_indices = indices[train_filter]\n",
    "test_indices = indices[test_filter];"
   ]
  },
  {
   "cell_type": "code",
   "execution_count": 4,
   "id": "677f6cfc",
   "metadata": {},
   "outputs": [
    {
     "data": {
      "text/plain": [
       "(10296,)"
      ]
     },
     "execution_count": 4,
     "metadata": {},
     "output_type": "execute_result"
    }
   ],
   "source": [
    "size(peak_period)"
   ]
  },
  {
   "cell_type": "code",
   "execution_count": 5,
   "id": "303fe24d",
   "metadata": {},
   "outputs": [],
   "source": [
    "# Same as for the hourly calls; but this is for individual emergency calls\n",
    "# inc_peak_period = (calls[!,:hour] .>= 8) .* (calls[!,:hour] .<= 20)\n",
    "# inc_indices = 1:DataFrames.nrow(calls);\n",
    "\n",
    "# inc_train_filter = (calls[!,:year] .== 2019) .* (calls[!,:month] .<= 3)\n",
    "# inc_test_filter  = .~inc_train_filter\n",
    "\n",
    "# inc_train_indices = inc_indices[inc_train_filter]\n",
    "# inc_test_indices = inc_indices[inc_test_filter];"
   ]
  },
  {
   "cell_type": "code",
   "execution_count": 6,
   "id": "602c40c7",
   "metadata": {},
   "outputs": [],
   "source": [
    "# we distinguish between peak and offpeak hours\n",
    "train_peak = indices[peak_period .* train_filter]\n",
    "train_offpeak = indices[.~peak_period .* train_filter]\n",
    "\n",
    "test_peak = indices[peak_period .* test_filter]\n",
    "test_offpeak = indices[.~peak_period .* test_filter]\n",
    "\n",
    "p = DeploymentProblem(30, length(locations), length(regions), demand, train_indices,\n",
    "      test_indices, coverage[regions,:], Array{Bool,2}(adjacent));\n",
    "\n",
    "#test_inc_peak = inc_peak_period .* inc_test_filter\n",
    "#test_inc_offpeak = .~inc_peak_period .* inc_test_filter;"
   ]
  },
  {
   "cell_type": "code",
   "execution_count": 21,
   "id": "c70d4e71",
   "metadata": {},
   "outputs": [
    {
     "data": {
      "text/plain": [
       "Dict{Symbol,Dict{Int64,Array{Int64,1}}}()"
      ]
     },
     "execution_count": 21,
     "metadata": {},
     "output_type": "execute_result"
    }
   ],
   "source": [
    "#declare data structures to record results\n",
    "scenarios = Dict{Symbol, Dict{Int, Vector{Vector{Int}}}}()\n",
    "generated_deployment = Dict{Symbol, Dict{Int, Vector{Vector{Int}}}}()\n",
    "upperbounds = Dict{Symbol, Dict{Int, Vector{Float64}}}()\n",
    "lowerbounds = Dict{Symbol, Dict{Int, Vector{Float64}}}()\n",
    "upptiming = Dict{Symbol, Dict{Int, Vector{Float64}}}()\n",
    "lowtiming = Dict{Symbol, Dict{Int, Vector{Float64}}}()\n",
    "amb_deployment = Dict{Symbol, Dict{Int, Vector{Int}}}()"
   ]
  },
  {
   "cell_type": "code",
   "execution_count": 25,
   "id": "2fa9aba5",
   "metadata": {},
   "outputs": [
    {
     "name": "stdout",
     "output_type": "stream",
     "text": [
      "40 \n"
     ]
    },
    {
     "ename": "LoadError",
     "evalue": "\u001b[91mUndefVarError: paramss not defined\u001b[39m",
     "output_type": "error",
     "traceback": [
      "\u001b[91mUndefVarError: paramss not defined\u001b[39m",
      "",
      "Stacktrace:",
      " [1] RobustDeployment(::DeploymentProblem; α::Float64) at C:\\Users\\Owner\\Documents\\Austin\\AmbulanceDeployment\\AmbulanceDeployment.jl-legacy\\src\\deployment\\robust.jl:113",
      " [2] (::var\"#9#10\")(::DeploymentProblem) at .\\In[25]:1",
      " [3] top-level scope at In[25]:15",
      " [4] include_string(::Function, ::Module, ::String, ::String) at .\\loading.jl:1091"
     ]
    }
   ],
   "source": [
    "(deployment_model, name) = (next_dp -> RobustDeployment(next_dp, α= .1), :Robust01)\n",
    "amb_deployment[name] = Dict{Int, Vector{Int}}()\n",
    "scenarios[name] = Dict{Int, Vector{Vector{Int}}}()\n",
    "generated_deployment[name] = Dict{Int, Vector{Vector{Int}}}()\n",
    "upperbounds[name] = Dict{Int, Vector{Float64}}()\n",
    "lowerbounds[name] = Dict{Int, Vector{Float64}}()\n",
    "upptiming[name] = Dict{Int, Vector{Float64}}()\n",
    "lowtiming[name] = Dict{Int, Vector{Float64}}()\n",
    "namb = 40\n",
    "println(\"$namb \")\n",
    "p.nambulances = namb\n",
    "\n",
    "#AmbulanceDeployment.Gamma(p,.01)\n",
    "\n",
    "model = deployment_model(p)\n",
    "# set_optimizer(model.m, Gurobi.Optimizer)\n",
    "# @time AmbulanceDeployment.optimize_robust!(model, p);\n",
    "# print(deployment(model))\n",
    "\n",
    "# amb_deployment[name][namb] = deployment(model)\n",
    "\n",
    "# # for tracking purposes\n",
    "# scenarios[name][namb] = model.scenarios\n",
    "# generated_deployment[name][namb] = model.deployment\n",
    "# upperbounds[name][namb] = model.upperbounds\n",
    "# lowerbounds[name][namb] = model.lowerbounds\n",
    "# upptiming[name][namb] = model.upptiming\n",
    "# lowtiming[name][namb] = model.lowtiming"
   ]
  },
  {
   "cell_type": "code",
   "execution_count": 115,
   "id": "a265a832",
   "metadata": {},
   "outputs": [
    {
     "name": "stdout",
     "output_type": "stream",
     "text": [
      "294"
     ]
    }
   ],
   "source": [
    "print(sum(model.scenarios[1])) #why are we testing on 299 test calls???"
   ]
  },
  {
   "cell_type": "markdown",
   "id": "6b3ebc4c",
   "metadata": {},
   "source": [
    "# Cross validation"
   ]
  },
  {
   "cell_type": "code",
   "execution_count": 107,
   "id": "e2cc9df9",
   "metadata": {},
   "outputs": [
    {
     "name": "stdout",
     "output_type": "stream",
     "text": [
      "40 \n",
      "Academic license - for non-commercial use only - expires 2022-07-26\r\n",
      "Academic license - for non-commercial use only - expires 2022-07-26\r\n"
     ]
    },
    {
     "name": "stderr",
     "output_type": "stream",
     "text": [
      "┌ Warning: Passing optimizer attributes as keyword arguments to\n",
      "│ Gurobi.Optimizer is deprecated. Use\n",
      "│     MOI.set(model, MOI.RawParameter(\"key\"), value)\n",
      "│ or\n",
      "│     JuMP.set_optimizer_attribute(model, \"key\", value)\n",
      "│ instead.\n",
      "└ @ Gurobi C:\\Users\\Owner\\.julia\\packages\\Gurobi\\BAtIN\\src\\MOI_wrapper\\MOI_wrapper.jl:273\n",
      "┌ Warning: Passing optimizer attributes as keyword arguments to\n",
      "│ Gurobi.Optimizer is deprecated. Use\n",
      "│     MOI.set(model, MOI.RawParameter(\"key\"), value)\n",
      "│ or\n",
      "│     JuMP.set_optimizer_attribute(model, \"key\", value)\n",
      "│ instead.\n",
      "└ @ Gurobi C:\\Users\\Owner\\.julia\\packages\\Gurobi\\BAtIN\\src\\MOI_wrapper\\MOI_wrapper.jl:273\n"
     ]
    },
    {
     "name": "stdout",
     "output_type": "stream",
     "text": [
      "Academic license - for non-commercial use only - expires 2022-07-26\n",
      "Gurobi Optimizer version 9.1.2 build v9.1.2rc0 (win64)\n",
      "Thread count: 4 physical cores, 8 logical processors, using up to 8 threads\n",
      "Optimize a model with 508 rows, 9450 columns and 27057 nonzeros\n",
      "Model fingerprint: 0x9fb4eda8\n",
      "Variable types: 1 continuous, 9449 integer (0 binary)\n",
      "Coefficient statistics:\n",
      "  Matrix range     [1e-06, 1e+00]\n",
      "  Objective range  [1e+00, 1e+00]\n",
      "  Bounds range     [4e+01, 4e+01]\n",
      "  RHS range        [1e+00, 4e+01]\n",
      "\n",
      "Warning: Completing partial solution with 9405 unfixed non-continuous variables out of 9449\n",
      "User MIP start did not produce a new incumbent solution\n",
      "User MIP start violates constraint R23 by 1.000000000\n",
      "\n",
      "Found heuristic solution: objective 2.000000e+09\n",
      "Presolve removed 354 rows and 7112 columns\n",
      "Presolve time: 0.02s\n",
      "Presolved: 154 rows, 2338 columns, 4615 nonzeros\n",
      "Found heuristic solution: objective 258.0000400\n",
      "Variable types: 0 continuous, 2338 integer (1421 binary)\n",
      "\n",
      "Root relaxation: cutoff, 314 iterations, 0.00 seconds\n",
      "\n",
      "    Nodes    |    Current Node    |     Objective Bounds      |     Work\n",
      " Expl Unexpl |  Obj  Depth IntInf | Incumbent    BestBd   Gap | It/Node Time\n",
      "\n",
      "     0     0     cutoff    0       258.00004  258.00004  0.00%     -    0s\n",
      "\n",
      "Explored 0 nodes (314 simplex iterations) in 0.03 seconds\n",
      "Thread count was 8 (of 8 available processors)\n",
      "\n",
      "Solution count 2: 258 2e+09 \n",
      "\n",
      "Optimal solution found (tolerance 1.00e-04)\n",
      "Best objective 2.580000400000e+02, best bound 2.580000400000e+02, gap 0.0000%\n",
      "\n",
      "User-callback calls 75, time in user-callback 0.00 sec\n",
      "  0.197103 seconds (247.51 k allocations: 27.484 MiB)\n",
      "[0, 1, 5, 1, 0, 0, 2, 0, 0, 0, 0, 0, 0, 0, 0, 2, 1, 2, 0, 0, 0, 0, 0, 0, 1, 2, 1, 0, 2, 2, 2, 2, 1, 4, 1, 0, 0, 4, 1, 0, 1, 0, 1, 1]40 \n",
      "Academic license - for non-commercial use only - expires 2022-07-26\n",
      "Academic license - for non-commercial use only - expires 2022-07-26\n"
     ]
    },
    {
     "name": "stderr",
     "output_type": "stream",
     "text": [
      "┌ Warning: Passing optimizer attributes as keyword arguments to\n",
      "│ Gurobi.Optimizer is deprecated. Use\n",
      "│     MOI.set(model, MOI.RawParameter(\"key\"), value)\n",
      "│ or\n",
      "│     JuMP.set_optimizer_attribute(model, \"key\", value)\n",
      "│ instead.\n",
      "└ @ Gurobi C:\\Users\\Owner\\.julia\\packages\\Gurobi\\BAtIN\\src\\MOI_wrapper\\MOI_wrapper.jl:273\n",
      "┌ Warning: Passing optimizer attributes as keyword arguments to\n",
      "│ Gurobi.Optimizer is deprecated. Use\n",
      "│     MOI.set(model, MOI.RawParameter(\"key\"), value)\n",
      "│ or\n",
      "│     JuMP.set_optimizer_attribute(model, \"key\", value)\n",
      "│ instead.\n",
      "└ @ Gurobi C:\\Users\\Owner\\.julia\\packages\\Gurobi\\BAtIN\\src\\MOI_wrapper\\MOI_wrapper.jl:273\n"
     ]
    },
    {
     "name": "stdout",
     "output_type": "stream",
     "text": [
      "Academic license - for non-commercial use only - expires 2022-07-26\n",
      "Gurobi Optimizer version 9.1.2 build v9.1.2rc0 (win64)\n",
      "Thread count: 4 physical cores, 8 logical processors, using up to 8 threads\n",
      "Optimize a model with 508 rows, 9450 columns and 27057 nonzeros\n",
      "Model fingerprint: 0xa2d857de\n",
      "Variable types: 1 continuous, 9449 integer (0 binary)\n",
      "Coefficient statistics:\n",
      "  Matrix range     [1e-06, 1e+00]\n",
      "  Objective range  [1e+00, 1e+00]\n",
      "  Bounds range     [4e+01, 4e+01]\n",
      "  RHS range        [1e+00, 4e+01]\n",
      "\n",
      "Warning: Completing partial solution with 9405 unfixed non-continuous variables out of 9449\n",
      "User MIP start did not produce a new incumbent solution\n",
      "User MIP start violates constraint R23 by 1.000000000\n",
      "\n",
      "Found heuristic solution: objective 2.000000e+09\n",
      "Presolve removed 353 rows and 7067 columns\n",
      "Presolve time: 0.02s\n",
      "Presolved: 155 rows, 2383 columns, 4704 nonzeros\n",
      "Found heuristic solution: objective 259.0000400\n",
      "Variable types: 0 continuous, 2383 integer (1464 binary)\n",
      "\n",
      "Root relaxation: cutoff, 313 iterations, 0.00 seconds\n",
      "\n",
      "    Nodes    |    Current Node    |     Objective Bounds      |     Work\n",
      " Expl Unexpl |  Obj  Depth IntInf | Incumbent    BestBd   Gap | It/Node Time\n",
      "\n",
      "     0     0     cutoff    0       259.00004  259.00004  0.00%     -    0s\n",
      "\n",
      "Explored 0 nodes (313 simplex iterations) in 0.03 seconds\n",
      "Thread count was 8 (of 8 available processors)\n",
      "\n",
      "Solution count 2: 259 2e+09 \n",
      "\n",
      "Optimal solution found (tolerance 1.00e-04)\n",
      "Best objective 2.590000400000e+02, best bound 2.590000400000e+02, gap 0.0000%\n",
      "\n",
      "User-callback calls 74, time in user-callback 0.00 sec\n",
      "  0.185535 seconds (247.51 k allocations: 27.484 MiB)\n",
      "[0, 1, 1, 0, 0, 0, 1, 0, 0, 0, 0, 0, 0, 0, 0, 1, 0, 4, 0, 0, 5, 5, 1, 0, 1, 2, 0, 0, 1, 5, 1, 1, 1, 1, 2, 0, 0, 1, 1, 0, 1, 1, 1, 1]40 \n",
      "Academic license - for non-commercial use only - expires 2022-07-26\n",
      "Academic license - for non-commercial use only - expires 2022-07-26\n"
     ]
    },
    {
     "name": "stderr",
     "output_type": "stream",
     "text": [
      "┌ Warning: Passing optimizer attributes as keyword arguments to\n",
      "│ Gurobi.Optimizer is deprecated. Use\n",
      "│     MOI.set(model, MOI.RawParameter(\"key\"), value)\n",
      "│ or\n",
      "│     JuMP.set_optimizer_attribute(model, \"key\", value)\n",
      "│ instead.\n",
      "└ @ Gurobi C:\\Users\\Owner\\.julia\\packages\\Gurobi\\BAtIN\\src\\MOI_wrapper\\MOI_wrapper.jl:273\n",
      "┌ Warning: Passing optimizer attributes as keyword arguments to\n",
      "│ Gurobi.Optimizer is deprecated. Use\n",
      "│     MOI.set(model, MOI.RawParameter(\"key\"), value)\n",
      "│ or\n",
      "│     JuMP.set_optimizer_attribute(model, \"key\", value)\n",
      "│ instead.\n",
      "└ @ Gurobi C:\\Users\\Owner\\.julia\\packages\\Gurobi\\BAtIN\\src\\MOI_wrapper\\MOI_wrapper.jl:273\n"
     ]
    },
    {
     "name": "stdout",
     "output_type": "stream",
     "text": [
      "Academic license - for non-commercial use only - expires 2022-07-26\n",
      "Gurobi Optimizer version 9.1.2 build v9.1.2rc0 (win64)\n",
      "Thread count: 4 physical cores, 8 logical processors, using up to 8 threads\n",
      "Optimize a model with 508 rows, 9450 columns and 27057 nonzeros\n",
      "Model fingerprint: 0xa2d857de\n",
      "Variable types: 1 continuous, 9449 integer (0 binary)\n",
      "Coefficient statistics:\n",
      "  Matrix range     [1e-06, 1e+00]\n",
      "  Objective range  [1e+00, 1e+00]\n",
      "  Bounds range     [4e+01, 4e+01]\n",
      "  RHS range        [1e+00, 4e+01]\n",
      "\n",
      "Warning: Completing partial solution with 9405 unfixed non-continuous variables out of 9449\n",
      "User MIP start did not produce a new incumbent solution\n",
      "User MIP start violates constraint R23 by 1.000000000\n",
      "\n",
      "Found heuristic solution: objective 2.000000e+09\n",
      "Presolve removed 353 rows and 7067 columns\n",
      "Presolve time: 0.02s\n",
      "Presolved: 155 rows, 2383 columns, 4704 nonzeros\n",
      "Found heuristic solution: objective 259.0000400\n",
      "Variable types: 0 continuous, 2383 integer (1464 binary)\n",
      "\n",
      "Root relaxation: cutoff, 313 iterations, 0.00 seconds\n",
      "\n",
      "    Nodes    |    Current Node    |     Objective Bounds      |     Work\n",
      " Expl Unexpl |  Obj  Depth IntInf | Incumbent    BestBd   Gap | It/Node Time\n",
      "\n",
      "     0     0     cutoff    0       259.00004  259.00004  0.00%     -    0s\n",
      "\n",
      "Explored 0 nodes (313 simplex iterations) in 0.03 seconds\n",
      "Thread count was 8 (of 8 available processors)\n",
      "\n",
      "Solution count 2: 259 2e+09 \n",
      "\n",
      "Optimal solution found (tolerance 1.00e-04)\n",
      "Best objective 2.590000400000e+02, best bound 2.590000400000e+02, gap 0.0000%\n",
      "\n",
      "User-callback calls 75, time in user-callback 0.00 sec\n",
      "  0.183225 seconds (247.52 k allocations: 27.500 MiB)\n",
      "[0, 1, 1, 0, 0, 0, 1, 0, 0, 0, 0, 0, 0, 0, 0, 1, 0, 4, 0, 0, 5, 5, 1, 0, 1, 2, 0, 0, 1, 5, 1, 1, 1, 1, 2, 0, 0, 1, 1, 0, 1, 1, 1, 1]40 \n",
      "Academic license - for non-commercial use only - expires 2022-07-26\n",
      "Academic license - for non-commercial use only - expires 2022-07-26\n"
     ]
    },
    {
     "name": "stderr",
     "output_type": "stream",
     "text": [
      "┌ Warning: Passing optimizer attributes as keyword arguments to\n",
      "│ Gurobi.Optimizer is deprecated. Use\n",
      "│     MOI.set(model, MOI.RawParameter(\"key\"), value)\n",
      "│ or\n",
      "│     JuMP.set_optimizer_attribute(model, \"key\", value)\n",
      "│ instead.\n",
      "└ @ Gurobi C:\\Users\\Owner\\.julia\\packages\\Gurobi\\BAtIN\\src\\MOI_wrapper\\MOI_wrapper.jl:273\n",
      "┌ Warning: Passing optimizer attributes as keyword arguments to\n",
      "│ Gurobi.Optimizer is deprecated. Use\n",
      "│     MOI.set(model, MOI.RawParameter(\"key\"), value)\n",
      "│ or\n",
      "│     JuMP.set_optimizer_attribute(model, \"key\", value)\n",
      "│ instead.\n",
      "└ @ Gurobi C:\\Users\\Owner\\.julia\\packages\\Gurobi\\BAtIN\\src\\MOI_wrapper\\MOI_wrapper.jl:273\n"
     ]
    },
    {
     "name": "stdout",
     "output_type": "stream",
     "text": [
      "Academic license - for non-commercial use only - expires 2022-07-26\n",
      "Gurobi Optimizer version 9.1.2 build v9.1.2rc0 (win64)\n",
      "Thread count: 4 physical cores, 8 logical processors, using up to 8 threads\n",
      "Optimize a model with 508 rows, 9450 columns and 27057 nonzeros\n",
      "Model fingerprint: 0xa2d857de\n",
      "Variable types: 1 continuous, 9449 integer (0 binary)\n",
      "Coefficient statistics:\n",
      "  Matrix range     [1e-06, 1e+00]\n",
      "  Objective range  [1e+00, 1e+00]\n",
      "  Bounds range     [4e+01, 4e+01]\n",
      "  RHS range        [1e+00, 4e+01]\n",
      "\n",
      "Warning: Completing partial solution with 9405 unfixed non-continuous variables out of 9449\n",
      "User MIP start did not produce a new incumbent solution\n",
      "User MIP start violates constraint R23 by 1.000000000\n",
      "\n",
      "Found heuristic solution: objective 2.000000e+09\n",
      "Presolve removed 353 rows and 7067 columns\n",
      "Presolve time: 0.02s\n",
      "Presolved: 155 rows, 2383 columns, 4704 nonzeros\n",
      "Found heuristic solution: objective 259.0000400\n",
      "Variable types: 0 continuous, 2383 integer (1464 binary)\n",
      "\n",
      "Root relaxation: cutoff, 313 iterations, 0.00 seconds\n",
      "\n",
      "    Nodes    |    Current Node    |     Objective Bounds      |     Work\n",
      " Expl Unexpl |  Obj  Depth IntInf | Incumbent    BestBd   Gap | It/Node Time\n",
      "\n",
      "     0     0     cutoff    0       259.00004  259.00004  0.00%     -    0s\n",
      "\n",
      "Explored 0 nodes (313 simplex iterations) in 0.03 seconds\n",
      "Thread count was 8 (of 8 available processors)\n",
      "\n",
      "Solution count 2: 259 2e+09 \n",
      "\n",
      "Optimal solution found (tolerance 1.00e-04)\n",
      "Best objective 2.590000400000e+02, best bound 2.590000400000e+02, gap 0.0000%\n",
      "\n",
      "User-callback calls 76, time in user-callback 0.00 sec\n",
      "  0.178236 seconds (247.52 k allocations: 27.512 MiB)\n",
      "[0, 1, 1, 0, 0, 0, 1, 0, 0, 0, 0, 0, 0, 0, 0, 1, 0, 4, 0, 0, 5, 5, 1, 0, 1, 2, 0, 0, 1, 5, 1, 1, 1, 1, 2, 0, 0, 1, 1, 0, 1, 1, 1, 1]40 \n",
      "Academic license - for non-commercial use only - expires 2022-07-26\n",
      "Academic license - for non-commercial use only - expires 2022-07-26\n"
     ]
    },
    {
     "name": "stderr",
     "output_type": "stream",
     "text": [
      "┌ Warning: Passing optimizer attributes as keyword arguments to\n",
      "│ Gurobi.Optimizer is deprecated. Use\n",
      "│     MOI.set(model, MOI.RawParameter(\"key\"), value)\n",
      "│ or\n",
      "│     JuMP.set_optimizer_attribute(model, \"key\", value)\n",
      "│ instead.\n",
      "└ @ Gurobi C:\\Users\\Owner\\.julia\\packages\\Gurobi\\BAtIN\\src\\MOI_wrapper\\MOI_wrapper.jl:273\n",
      "┌ Warning: Passing optimizer attributes as keyword arguments to\n",
      "│ Gurobi.Optimizer is deprecated. Use\n",
      "│     MOI.set(model, MOI.RawParameter(\"key\"), value)\n",
      "│ or\n",
      "│     JuMP.set_optimizer_attribute(model, \"key\", value)\n",
      "│ instead.\n",
      "└ @ Gurobi C:\\Users\\Owner\\.julia\\packages\\Gurobi\\BAtIN\\src\\MOI_wrapper\\MOI_wrapper.jl:273\n"
     ]
    },
    {
     "name": "stdout",
     "output_type": "stream",
     "text": [
      "Academic license - for non-commercial use only - expires 2022-07-26\n",
      "Gurobi Optimizer version 9.1.2 build v9.1.2rc0 (win64)\n",
      "Thread count: 4 physical cores, 8 logical processors, using up to 8 threads\n",
      "Optimize a model with 508 rows, 9450 columns and 27057 nonzeros\n",
      "Model fingerprint: 0xa2d857de\n",
      "Variable types: 1 continuous, 9449 integer (0 binary)\n",
      "Coefficient statistics:\n",
      "  Matrix range     [1e-06, 1e+00]\n",
      "  Objective range  [1e+00, 1e+00]\n",
      "  Bounds range     [4e+01, 4e+01]\n",
      "  RHS range        [1e+00, 4e+01]\n",
      "\n",
      "Warning: Completing partial solution with 9405 unfixed non-continuous variables out of 9449\n",
      "User MIP start did not produce a new incumbent solution\n",
      "User MIP start violates constraint R23 by 1.000000000\n",
      "\n",
      "Found heuristic solution: objective 2.000000e+09\n",
      "Presolve removed 353 rows and 7067 columns\n",
      "Presolve time: 0.02s\n",
      "Presolved: 155 rows, 2383 columns, 4704 nonzeros\n",
      "Found heuristic solution: objective 259.0000400\n",
      "Variable types: 0 continuous, 2383 integer (1464 binary)\n",
      "\n",
      "Root relaxation: cutoff, 313 iterations, 0.00 seconds\n",
      "\n",
      "    Nodes    |    Current Node    |     Objective Bounds      |     Work\n",
      " Expl Unexpl |  Obj  Depth IntInf | Incumbent    BestBd   Gap | It/Node Time\n",
      "\n",
      "     0     0     cutoff    0       259.00004  259.00004  0.00%     -    0s\n",
      "\n",
      "Explored 0 nodes (313 simplex iterations) in 0.03 seconds\n",
      "Thread count was 8 (of 8 available processors)\n",
      "\n",
      "Solution count 2: 259 2e+09 \n",
      "\n",
      "Optimal solution found (tolerance 1.00e-04)\n",
      "Best objective 2.590000400000e+02, best bound 2.590000400000e+02, gap 0.0000%\n",
      "\n",
      "User-callback calls 74, time in user-callback 0.00 sec\n",
      "  0.189012 seconds (247.51 k allocations: 27.484 MiB)\n",
      "[0, 1, 1, 0, 0, 0, 1, 0, 0, 0, 0, 0, 0, 0, 0, 1, 0, 4, 0, 0, 5, 5, 1, 0, 1, 2, 0, 0, 1, 5, 1, 1, 1, 1, 2, 0, 0, 1, 1, 0, 1, 1, 1, 1]"
     ]
    }
   ],
   "source": [
    "using DelimitedFiles\n",
    "alpha_list = [.1,.05,.01,.001,.0001]\n",
    "for x in alpha_list\n",
    "    (deployment_model, name) = (next_dp -> RobustDeployment(next_dp, α= x), :Robust01)\n",
    "    amb_deployment[name] = Dict{Int, Vector{Int}}()\n",
    "    scenarios[name] = Dict{Int, Vector{Vector{Int}}}()\n",
    "    generated_deployment[name] = Dict{Int, Vector{Vector{Int}}}()\n",
    "    upperbounds[name] = Dict{Int, Vector{Float64}}()\n",
    "    lowerbounds[name] = Dict{Int, Vector{Float64}}()\n",
    "    upptiming[name] = Dict{Int, Vector{Float64}}()\n",
    "    lowtiming[name] = Dict{Int, Vector{Float64}}()\n",
    "    namb = 40\n",
    "    println(\"$namb \")\n",
    "    p.nambulances = namb\n",
    "\n",
    "    model = deployment_model(p)\n",
    "    set_optimizer(model.m, Gurobi.Optimizer)\n",
    "    @time AmbulanceDeployment.optimize_robust!(model, p);\n",
    "    print(deployment(model))\n",
    "\n",
    "    amb_deployment[name][namb] = deployment(model)\n",
    "\n",
    "    # for tracking purposes\n",
    "    scenarios[name][namb] = model.scenarios\n",
    "    generated_deployment[name][namb] = model.deployment\n",
    "    upperbounds[name][namb] = model.upperbounds\n",
    "    lowerbounds[name][namb] = model.lowerbounds\n",
    "    upptiming[name][namb] = model.upptiming\n",
    "    lowtiming[name][namb] = model.lowtiming\n",
    "\n",
    "    #save julia variable as .csv\n",
    "    deployment(model)\n",
    "    #or\n",
    "    x_save = Array{Int64}(undef, 44)\n",
    "    count = 1\n",
    "    for i in JuMP.value.(model.x)\n",
    "        x_save[count] = convert(Int,i)\n",
    "        count = count + 1\n",
    "    end\n",
    "\n",
    "\n",
    "    writedlm( \"robust\" * string(x) * \".csv\",  x_save, ',') #it writes to pwd(), ambulance_legacy\n",
    "end"
   ]
  },
  {
   "cell_type": "code",
   "execution_count": null,
   "id": "a0ec56e0",
   "metadata": {},
   "outputs": [],
   "source": []
  }
 ],
 "metadata": {
  "kernelspec": {
   "display_name": "Julia 1.5.2",
   "language": "julia",
   "name": "julia-1.5"
  },
  "language_info": {
   "file_extension": ".jl",
   "mimetype": "application/julia",
   "name": "julia",
   "version": "1.5.2"
  }
 },
 "nbformat": 4,
 "nbformat_minor": 5
}

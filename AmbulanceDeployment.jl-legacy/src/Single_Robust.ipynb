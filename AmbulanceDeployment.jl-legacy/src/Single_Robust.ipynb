{
 "cells": [
  {
   "cell_type": "markdown",
   "id": "e9821e1a",
   "metadata": {},
   "source": [
    "@Joshua Ong"
   ]
  },
  {
   "cell_type": "code",
   "execution_count": 1,
   "id": "e4573dbb",
   "metadata": {},
   "outputs": [
    {
     "name": "stderr",
     "output_type": "stream",
     "text": [
      "\u001b[32m\u001b[1m   Updating\u001b[22m\u001b[39m registry at `C:\\Users\\Owner\\.julia\\registries\\General`\n",
      "\u001b[32m\u001b[1m  Resolving\u001b[22m\u001b[39m package versions...\n",
      "\u001b[32m\u001b[1mNo Changes\u001b[22m\u001b[39m to `C:\\Users\\Owner\\Documents\\Austin\\AmbulanceDeployment\\AmbulanceDeployment.jl-legacy\\Project.toml`\n",
      "\u001b[32m\u001b[1mNo Changes\u001b[22m\u001b[39m to `C:\\Users\\Owner\\Documents\\Austin\\AmbulanceDeployment\\AmbulanceDeployment.jl-legacy\\Manifest.toml`\n",
      "\u001b[32m\u001b[1m  Resolving\u001b[22m\u001b[39m package versions...\n",
      "\u001b[32m\u001b[1mNo Changes\u001b[22m\u001b[39m to `C:\\Users\\Owner\\Documents\\Austin\\AmbulanceDeployment\\AmbulanceDeployment.jl-legacy\\Project.toml`\n",
      "\u001b[32m\u001b[1mNo Changes\u001b[22m\u001b[39m to `C:\\Users\\Owner\\Documents\\Austin\\AmbulanceDeployment\\AmbulanceDeployment.jl-legacy\\Manifest.toml`\n",
      "\u001b[32m\u001b[1m Activating\u001b[22m\u001b[39m environment at `C:\\Users\\Owner\\Documents\\Austin\\AmbulanceDeployment\\AmbulanceDeployment.jl-legacy\\Project.toml`\n",
      "┌ Info: Precompiling AmbulanceDeployment [d2c08a37-75f3-4934-bcbc-64feba624d07]\n",
      "└ @ Base loading.jl:1278\n",
      "┌ Warning: Package AmbulanceDeployment does not have Random in its dependencies:\n",
      "│ - If you have AmbulanceDeployment checked out for development and have\n",
      "│   added Random as a dependency but haven't updated your primary\n",
      "│   environment's manifest file, try `Pkg.resolve()`.\n",
      "│ - Otherwise you may need to report an issue with AmbulanceDeployment\n",
      "└ Loading Random into AmbulanceDeployment from project dependency, future warnings for AmbulanceDeployment are suppressed.\n",
      "WARNING: Method definition optimize!(AmbulanceDeployment.RobustDeployment, AmbulanceDeployment.DeploymentProblem) in module AmbulanceDeployment at C:\\Users\\Owner\\Documents\\Austin\\AmbulanceDeployment\\AmbulanceDeployment.jl-legacy\\src\\deployment\\robust.jl:190 overwritten at C:\\Users\\Owner\\Documents\\Austin\\AmbulanceDeployment\\AmbulanceDeployment.jl-legacy\\src\\deployment\\robust.jl:225.\n",
      "  ** incremental compilation may be fatally broken for this module **\n",
      "\n",
      "WARNING: using AmbulanceDeployment.PROJECT_ROOT in module Main conflicts with an existing identifier.\n"
     ]
    }
   ],
   "source": [
    "using Pkg\n",
    "Pkg.add(\"Pkg\")\n",
    "Pkg.add(\"Dates\")\n",
    "\n",
    "joshpath = \"C:/Users/Owner/Documents/Austin/AmbulanceDeployment/AmbulanceDeployment.jl-legacy\"\n",
    "\n",
    "PROJECT_ROOT = joshpath\n",
    "currentpath = joshpath\n",
    "\n",
    "cd(currentpath)\n",
    "Pkg.activate(\".\")\n",
    "\n",
    "#include(\".//src//problem.jl\")\n",
    "#include(\".//src//model.jl\")\n",
    "\n",
    "using AmbulanceDeployment \n",
    "using DataFrames, Winston, JLD, CSV, Gurobi, JuMP, GLPK, Dates"
   ]
  },
  {
   "cell_type": "code",
   "execution_count": 2,
   "id": "5cfe68e9",
   "metadata": {},
   "outputs": [
    {
     "data": {
      "text/plain": [
       "210×44 Array{Bool,2}:\n",
       " 1  1  1  1  1  1  1  1  1  1  1  1  1  …  1  1  1  1  1  1  1  1  1  1  1  1\n",
       " 1  1  1  1  1  1  1  1  1  1  1  1  1     1  1  1  1  1  1  1  1  1  1  1  1\n",
       " 1  1  1  1  1  1  1  1  1  1  1  1  1     1  1  1  1  1  1  1  1  1  1  1  1\n",
       " 1  1  1  1  1  1  1  1  1  1  1  1  1     1  1  1  1  1  1  1  1  1  1  1  1\n",
       " 1  1  1  1  1  1  1  1  1  1  1  1  1     1  1  1  1  1  1  1  1  1  1  1  1\n",
       " 1  1  1  1  1  1  1  1  1  1  1  1  1  …  1  1  1  1  1  1  1  1  1  1  1  1\n",
       " 1  1  1  1  1  1  1  1  1  1  1  1  1     1  1  1  1  1  1  1  1  1  1  1  1\n",
       " 0  0  0  0  0  0  0  0  0  0  0  0  0     0  0  0  0  0  0  0  0  0  0  0  0\n",
       " 0  0  0  0  0  0  0  0  0  0  0  0  0     0  0  0  0  0  0  0  0  0  0  1  0\n",
       " 1  1  1  1  1  1  1  1  1  1  1  1  1     1  1  1  1  1  1  1  1  1  1  1  1\n",
       " 1  1  1  1  1  1  1  1  1  1  1  1  1  …  1  1  1  1  1  1  1  1  1  1  1  1\n",
       " 1  1  1  1  1  1  1  1  1  1  1  1  1     1  1  1  1  1  1  1  1  1  1  1  1\n",
       " 1  1  1  1  1  1  1  1  1  1  1  1  1     1  1  1  1  1  1  1  1  1  1  1  1\n",
       " ⋮              ⋮              ⋮        ⋱           ⋮              ⋮        \n",
       " 1  1  1  1  1  1  1  1  1  1  1  1  1     1  1  1  1  1  1  1  1  1  1  1  1\n",
       " 1  1  1  1  1  1  1  1  1  1  1  1  1     1  1  1  1  1  1  1  1  1  1  1  1\n",
       " 1  1  1  1  1  1  1  1  1  1  1  1  1  …  1  1  1  1  1  1  1  1  1  1  1  1\n",
       " 1  1  1  1  1  1  1  1  1  1  1  1  1     1  1  1  1  1  1  1  1  1  1  1  1\n",
       " 1  1  1  1  1  1  1  1  1  1  1  1  1     1  1  1  1  1  1  1  1  1  1  1  1\n",
       " 1  1  1  1  1  1  1  1  1  1  1  1  1     1  1  1  1  1  1  1  1  1  1  1  1\n",
       " 1  1  1  1  1  1  1  1  1  1  1  1  1     1  1  1  1  1  1  1  1  1  1  1  1\n",
       " 1  1  1  1  1  1  1  1  1  1  1  1  1  …  1  1  1  1  1  1  1  1  1  1  1  1\n",
       " 1  1  1  1  1  1  1  1  1  1  1  1  1     1  1  1  1  1  1  1  1  1  1  1  1\n",
       " 1  1  1  1  1  1  1  1  1  1  1  1  1     1  1  1  1  1  1  1  1  1  1  1  1\n",
       " 1  1  1  1  1  1  1  1  1  1  1  1  1     1  1  1  1  1  1  1  1  1  1  1  1\n",
       " 1  1  1  1  1  1  1  1  1  1  1  1  1     1  1  1  1  1  1  1  1  1  1  1  1"
      ]
     },
     "execution_count": 2,
     "metadata": {},
     "output_type": "execute_result"
    }
   ],
   "source": [
    "# hourly calls - regions x hours x number of calls/ per region per hour (e.g. 210 x 10000 x Z)\n",
    "#adjacent_nbhd - boolean matrix, regionxregion (210x210) - if neighborhoods/region are adjacent?\n",
    "#coverage - boolean matrix, regions x stations (210x44) - true if station is within coverage of region\n",
    "#incidents - god object\n",
    "hourly_calls = CSV.File(PROJECT_ROOT * \"/test/austin-data/Full_WeekdayCalls.csv\") |> DataFrame\n",
    "# weekend_hourly_calls = CSV.File(\"data/processed/2-weekend_calls.csv\") |> DataFrame\n",
    "adjacent_nbhd = CSV.File(PROJECT_ROOT * \"/test/austin-data/adjacent_nbhd.csv\") |> DataFrame\n",
    "coverage = CSV.read(PROJECT_ROOT * \"/test/austin-data/coverage_real.csv\", DataFrame, header=false)\n",
    "coverage = convert(Array{Bool, 2}, coverage[:, :])\n",
    "#incidents = CSV.File(PROJECT_ROOT * \"/test/austin-data/austin_incidents.csv\") |> DataFrame"
   ]
  },
  {
   "cell_type": "code",
   "execution_count": 3,
   "id": "7016b9e7",
   "metadata": {},
   "outputs": [],
   "source": [
    "#regions - list of regions/neighborhoods where demands come from (1 ... 210)\n",
    "#locations -list of stations (1 ... 44)\n",
    "#demands - hours x regions = demands\n",
    "regions = Int[parse(Int,string(x)) for x in names(hourly_calls[:,6:ncol(hourly_calls)])]\n",
    "locations = collect(1:size(coverage,2))\n",
    "adjacent = convert(Array, adjacent_nbhd[:,2:ncol(adjacent_nbhd)])[regions,regions] .> 0.5\n",
    "demand = convert(Array,hourly_calls[:,6:end]);"
   ]
  },
  {
   "cell_type": "code",
   "execution_count": 4,
   "id": "0aa66e15",
   "metadata": {},
   "outputs": [],
   "source": [
    "# We focus on emergency calls during the \"peak period\" (8AM - 8PM),\n",
    "# with the emergency calls from the first 3 month as our training set,\n",
    "# and the subsequent emergency calls from the remaining months as our test set\n",
    "peak_period = (hourly_calls[!,:hour] .>= 8) .* (hourly_calls[!,:hour] .<= 20)\n",
    "indices = 1:DataFrames.nrow(hourly_calls);\n",
    "train_filter = (hourly_calls[!,:year] .== 2019) .* (hourly_calls[!,:month] .<= 3)\n",
    "test_filter  = .~train_filter;\n",
    "train_indices = indices[train_filter]\n",
    "test_indices = indices[test_filter];"
   ]
  },
  {
   "cell_type": "code",
   "execution_count": 5,
   "id": "303fe24d",
   "metadata": {},
   "outputs": [],
   "source": [
    "# Same as for the hourly calls; but this is for individual emergency calls\n",
    "# inc_peak_period = (calls[!,:hour] .>= 8) .* (calls[!,:hour] .<= 20)\n",
    "# inc_indices = 1:DataFrames.nrow(calls);\n",
    "\n",
    "# inc_train_filter = (calls[!,:year] .== 2019) .* (calls[!,:month] .<= 3)\n",
    "# inc_test_filter  = .~inc_train_filter\n",
    "\n",
    "# inc_train_indices = inc_indices[inc_train_filter]\n",
    "# inc_test_indices = inc_indices[inc_test_filter];"
   ]
  },
  {
   "cell_type": "code",
   "execution_count": 6,
   "id": "602c40c7",
   "metadata": {},
   "outputs": [],
   "source": [
    "# we distinguish between peak and offpeak hours\n",
    "train_peak = indices[peak_period .* train_filter]\n",
    "train_offpeak = indices[.~peak_period .* train_filter]\n",
    "\n",
    "test_peak = indices[peak_period .* test_filter]\n",
    "test_offpeak = indices[.~peak_period .* test_filter]\n",
    "\n",
    "p = DeploymentProblem(30, length(locations), length(regions), demand, train_indices,\n",
    "      test_indices, coverage[regions,:], Array{Bool,2}(adjacent));\n",
    "\n",
    "#test_inc_peak = inc_peak_period .* inc_test_filter\n",
    "#test_inc_offpeak = .~inc_peak_period .* inc_test_filter;"
   ]
  },
  {
   "cell_type": "code",
   "execution_count": 7,
   "id": "c70d4e71",
   "metadata": {},
   "outputs": [
    {
     "data": {
      "text/plain": [
       "Dict{Symbol,Dict{Int64,Array{Int64,1}}}()"
      ]
     },
     "execution_count": 7,
     "metadata": {},
     "output_type": "execute_result"
    }
   ],
   "source": [
    "#data structures to record results\n",
    "scenarios = Dict{Symbol, Dict{Int, Vector{Vector{Int}}}}()\n",
    "generated_deployment = Dict{Symbol, Dict{Int, Vector{Vector{Int}}}}()\n",
    "upperbounds = Dict{Symbol, Dict{Int, Vector{Float64}}}()\n",
    "lowerbounds = Dict{Symbol, Dict{Int, Vector{Float64}}}()\n",
    "upptiming = Dict{Symbol, Dict{Int, Vector{Float64}}}()\n",
    "lowtiming = Dict{Symbol, Dict{Int, Vector{Float64}}}()\n",
    "amb_deployment = Dict{Symbol, Dict{Int, Vector{Int}}}()"
   ]
  },
  {
   "cell_type": "code",
   "execution_count": 15,
   "id": "2fa9aba5",
   "metadata": {},
   "outputs": [
    {
     "name": "stdout",
     "output_type": "stream",
     "text": [
      "30 \n"
     ]
    },
    {
     "data": {
      "text/plain": [
       "30"
      ]
     },
     "execution_count": 15,
     "metadata": {},
     "output_type": "execute_result"
    }
   ],
   "source": [
    "(deployment_model, name) = (next_dp -> RobustDeployment(next_dp, α=0.1), :Robust01)\n",
    "amb_deployment[name] = Dict{Int, Vector{Int}}()\n",
    "scenarios[name] = Dict{Int, Vector{Vector{Int}}}()\n",
    "generated_deployment[name] = Dict{Int, Vector{Vector{Int}}}()\n",
    "upperbounds[name] = Dict{Int, Vector{Float64}}()\n",
    "lowerbounds[name] = Dict{Int, Vector{Float64}}()\n",
    "upptiming[name] = Dict{Int, Vector{Float64}}()\n",
    "lowtiming[name] = Dict{Int, Vector{Float64}}()\n",
    "namb = 30\n",
    "println(\"$namb \")\n",
    "p.nambulances = namb"
   ]
  },
  {
   "cell_type": "code",
   "execution_count": 17,
   "id": "f2fe8fd0",
   "metadata": {},
   "outputs": [
    {
     "name": "stdout",
     "output_type": "stream",
     "text": [
      "Academic license - for non-commercial use only\n",
      "Academic license - for non-commercial use only\n",
      "Academic license - for non-commercial use only\n",
      "Academic license - for non-commercial use only\n",
      "Optimize a model with 254 rows, 45 columns and 5858 nonzeros\n",
      "Variable types: 1 continuous, 44 integer (0 binary)\n",
      "Coefficient statistics:\n",
      "  Matrix range     [1e+00, 1e+00]\n",
      "  Objective range  [1e+00, 1e+00]\n",
      "  Bounds range     [0e+00, 0e+00]\n",
      "  RHS range        [1e+00, 3e+01]\n",
      "\n",
      "MIP start did not produce a new incumbent solution\n",
      "MIP start violates constraint R6 by 1.000000000\n",
      "\n",
      "Found heuristic solution: objective 0.0000000\n",
      "\n",
      "Explored 0 nodes (0 simplex iterations) in 0.00 seconds\n",
      "Thread count was 1 (of 8 available processors)\n",
      "\n",
      "Solution count 1: 0 \n",
      "\n",
      "Optimal solution found (tolerance 1.00e-04)\n",
      "Best objective 0.000000000000e+00, best bound 0.000000000000e+00, gap 0.0000%\n",
      "  0.003143 seconds (16.41 k allocations: 857.992 KiB)\n"
     ]
    }
   ],
   "source": [
    "model = deployment_model(p)\n",
    "set_optimizer(model.m, Gurobi.Optimizer)\n",
    "@time AmbulanceDeployment.optimize!(model, p);"
   ]
  },
  {
   "cell_type": "code",
   "execution_count": 18,
   "id": "b90b4ee2",
   "metadata": {},
   "outputs": [
    {
     "data": {
      "text/plain": [
       "Float64[]"
      ]
     },
     "execution_count": 18,
     "metadata": {},
     "output_type": "execute_result"
    }
   ],
   "source": [
    "amb_deployment[name][namb] = deployment(model)\n",
    "\n",
    "# for tracking purposes\n",
    "scenarios[name][namb] = model.scenarios\n",
    "generated_deployment[name][namb] = model.deployment\n",
    "upperbounds[name][namb] = model.upperbounds\n",
    "lowerbounds[name][namb] = model.lowerbounds\n",
    "upptiming[name][namb] = model.upptiming\n",
    "lowtiming[name][namb] = model.lowtiming"
   ]
  },
  {
   "cell_type": "code",
   "execution_count": 20,
   "id": "72e97a60",
   "metadata": {},
   "outputs": [
    {
     "data": {
      "text/plain": [
       "44-element Array{Int64,1}:\n",
       " 1\n",
       " 1\n",
       " 1\n",
       " 1\n",
       " 1\n",
       " 1\n",
       " 1\n",
       " 1\n",
       " 1\n",
       " 1\n",
       " 1\n",
       " 1\n",
       " 1\n",
       " ⋮\n",
       " 0\n",
       " 0\n",
       " 0\n",
       " 0\n",
       " 0\n",
       " 0\n",
       " 0\n",
       " 0\n",
       " 0\n",
       " 0\n",
       " 0\n",
       " 0"
      ]
     },
     "execution_count": 20,
     "metadata": {},
     "output_type": "execute_result"
    }
   ],
   "source": [
    "deployment(model)"
   ]
  },
  {
   "cell_type": "code",
   "execution_count": null,
   "id": "a265a832",
   "metadata": {},
   "outputs": [],
   "source": []
  }
 ],
 "metadata": {
  "kernelspec": {
   "display_name": "Julia 1.5.2",
   "language": "julia",
   "name": "julia-1.5"
  },
  "language_info": {
   "file_extension": ".jl",
   "mimetype": "application/julia",
   "name": "julia",
   "version": "1.5.2"
  }
 },
 "nbformat": 4,
 "nbformat_minor": 5
}

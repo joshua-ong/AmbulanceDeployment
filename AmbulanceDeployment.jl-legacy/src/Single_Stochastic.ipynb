{
 "cells": [
  {
   "cell_type": "markdown",
   "metadata": {},
   "source": [
    "Author: Joshua\n",
    "Summary: Run a single instance of the two stage stochastic program <br>\n",
    "Input: <br>\n",
    "Output: The ambulance stationing allocation x. <br>"
   ]
  },
  {
   "cell_type": "code",
   "execution_count": 1,
   "metadata": {},
   "outputs": [
    {
     "name": "stderr",
     "output_type": "stream",
     "text": [
      "\u001b[32m\u001b[1m   Updating\u001b[22m\u001b[39m registry at `C:\\Users\\Owner\\.julia\\registries\\General`\n",
      "\u001b[32m\u001b[1m  Resolving\u001b[22m\u001b[39m package versions...\n",
      "\u001b[32m\u001b[1mNo Changes\u001b[22m\u001b[39m to `C:\\Users\\Owner\\Documents\\Austin\\AmbulanceDeployment\\AmbulanceDeployment.jl-legacy\\Project.toml`\n",
      "\u001b[32m\u001b[1mNo Changes\u001b[22m\u001b[39m to `C:\\Users\\Owner\\Documents\\Austin\\AmbulanceDeployment\\AmbulanceDeployment.jl-legacy\\Manifest.toml`\n",
      "\u001b[32m\u001b[1m  Resolving\u001b[22m\u001b[39m package versions...\n",
      "\u001b[32m\u001b[1mNo Changes\u001b[22m\u001b[39m to `C:\\Users\\Owner\\Documents\\Austin\\AmbulanceDeployment\\AmbulanceDeployment.jl-legacy\\Project.toml`\n",
      "\u001b[32m\u001b[1mNo Changes\u001b[22m\u001b[39m to `C:\\Users\\Owner\\Documents\\Austin\\AmbulanceDeployment\\AmbulanceDeployment.jl-legacy\\Manifest.toml`\n",
      "\u001b[32m\u001b[1m Activating\u001b[22m\u001b[39m environment at `C:\\Users\\Owner\\Documents\\Austin\\AmbulanceDeployment\\AmbulanceDeployment.jl-legacy\\Project.toml`\n",
      "┌ Info: Precompiling DataFrames [a93c6f00-e57d-5684-b7b6-d8193f3e46c0]\n",
      "└ @ Base loading.jl:1278\n",
      "┌ Info: Precompiling Winston [bd07be1c-e76f-5ff0-9c0b-f51ef45303c6]\n",
      "└ @ Base loading.jl:1278\n",
      "┌ Info: Precompiling JLD [4138dd39-2aa7-5051-a626-17a0bb65d9c8]\n",
      "└ @ Base loading.jl:1278\n",
      "┌ Info: Precompiling CSV [336ed68f-0bac-5ca0-87d4-7b16caf5d00b]\n",
      "└ @ Base loading.jl:1278\n",
      "┌ Info: Precompiling Gurobi [2e9cd046-0924-5485-92f1-d5272153d98b]\n",
      "└ @ Base loading.jl:1278\n",
      "┌ Info: Precompiling JuMP [4076af6c-e467-56ae-b986-b466b2749572]\n",
      "└ @ Base loading.jl:1278\n",
      "┌ Info: Precompiling GLPK [60bf3e95-4087-53dc-ae20-288a0d20c6a6]\n",
      "└ @ Base loading.jl:1278\n"
     ]
    }
   ],
   "source": [
    "using Pkg\n",
    "Pkg.add(\"Pkg\")\n",
    "Pkg.add(\"Dates\")\n",
    "\n",
    "           \n",
    "joshpath = \"C:/Users/Owner/Documents/Austin/AmbulanceDeployment/AmbulanceDeployment.jl-legacy\"\n",
    "joshpath = \"C:/Users/Owner/Documents/Austin/AmbulanceDeployment/AmbulanceDeployment.jl-legacy\"\n",
    "\n",
    "PROJECT_ROOT = joshpath\n",
    "currentpath = joshpath\n",
    "\n",
    "cd(currentpath)\n",
    "Pkg.activate(\".\")\n",
    "\n",
    "#include(\".//src//problem.jl\")\n",
    "#include(\".//src//model.jl\")\n",
    "\n",
    "using DataFrames, Winston, JLD, CSV, Gurobi, JuMP, GLPK, Dates"
   ]
  },
  {
   "cell_type": "code",
   "execution_count": 2,
   "metadata": {},
   "outputs": [
    {
     "name": "stderr",
     "output_type": "stream",
     "text": [
      "┌ Info: Precompiling AmbulanceDeployment [d2c08a37-75f3-4934-bcbc-64feba624d07]\n",
      "└ @ Base loading.jl:1278\n",
      "WARNING: redefinition of constant PROJECT_ROOT. This may fail, cause incorrect answers, or produce other errors.\n",
      "WARNING: using AmbulanceDeployment.PROJECT_ROOT in module Main conflicts with an existing identifier.\n"
     ]
    }
   ],
   "source": [
    "using AmbulanceDeployment "
   ]
  },
  {
   "cell_type": "code",
   "execution_count": 3,
   "metadata": {},
   "outputs": [
    {
     "data": {
      "text/plain": [
       "\"C:/Users/Owner/Documents/Austin/AmbulanceDeployment/AmbulanceDeployment.jl-legacy/test/austin-data/adjacent_nbhd.csv\""
      ]
     },
     "execution_count": 3,
     "metadata": {},
     "output_type": "execute_result"
    }
   ],
   "source": [
    "PROJECT_ROOT * \"/test/austin-data/adjacent_nbhd.csv\""
   ]
  },
  {
   "cell_type": "code",
   "execution_count": 4,
   "metadata": {},
   "outputs": [
    {
     "name": "stdout",
     "output_type": "stream",
     "text": [
      "\n",
      " coverage (209, 44)\n",
      " hourly_calls (10296, 214)\n",
      " adjacency (224, 225)"
     ]
    }
   ],
   "source": [
    "# hourly calls - regions x hours x number of calls/ per region per hour (e.g. 210 x 10000 x Z)\n",
    "#adjacent_nbhd - boolean matrix, regionxregion (210x210) - if neighborhoods/region are adjacent?\n",
    "#coverage - boolean matrix, regions x stations (210x44) - true if station is within coverage of region\n",
    "#incidents - god object\n",
    "\n",
    "# PROJECT_ROOT = \"C:/Users/Owner/Documents/Austin/AmbulanceDeployment/AmbulanceDeployment.jl-legacy\"\n",
    "# adjacent_nbhd = CSV.File(PROJECT_ROOT * \"/test/austin-data/adjacent_nbhd.csv\") |> DataFrame\n",
    "# #I CAN'T for the life of me see the difference.\n",
    "adjacent_nbhd = CSV.File(\"C:/Users/Owner/Documents/Austin/AmbulanceDeployment/AmbulanceDeployment.jl-legacy/test/austin_data/adjacent_nbhd.csv\") |> DataFrame\n",
    "coverage = CSV.File(\"C:/Users/Owner/Documents/Austin/AmbulanceDeployment/AmbulanceDeployment.jl-legacy/test/austin_data/coverage.csv\") |> DataFrame\n",
    "#coverage = convert(Array{Bool, 2}, coverage[:, :])\n",
    "hourly_calls = CSV.File(\"C:/Users/Owner/Documents/Austin/AmbulanceDeployment/AmbulanceDeployment.jl-legacy/test/austin_data/Full_WeekdayCalls.csv\") |> DataFrame\n",
    "# weekend_hourly_calls = CSV.File(\"data/processed/2-weekend_calls.csv\") |> DataFrame\n",
    "\n",
    "print(\"\\n coverage \",size(coverage))\n",
    "print(\"\\n hourly_calls \",size(hourly_calls))\n",
    "print(\"\\n adjacency \",size(adjacent_nbhd))"
   ]
  },
  {
   "cell_type": "code",
   "execution_count": 5,
   "metadata": {},
   "outputs": [
    {
     "data": {
      "text/plain": [
       "209-element Array{Int64,1}:\n",
       "   1\n",
       "   2\n",
       "   3\n",
       "   4\n",
       "   5\n",
       "   6\n",
       "   7\n",
       "   8\n",
       "   9\n",
       "  10\n",
       "  11\n",
       "  12\n",
       "  13\n",
       "   ⋮\n",
       " 198\n",
       " 199\n",
       " 200\n",
       " 201\n",
       " 202\n",
       " 203\n",
       " 204\n",
       " 205\n",
       " 206\n",
       " 207\n",
       " 208\n",
       " 209"
      ]
     },
     "execution_count": 5,
     "metadata": {},
     "output_type": "execute_result"
    }
   ],
   "source": [
    "num_regions = 209\n",
    "regions = collect(1:209)"
   ]
  },
  {
   "cell_type": "code",
   "execution_count": 6,
   "metadata": {},
   "outputs": [],
   "source": [
    "#reformat data frames as matrix data\n",
    "#regions - list of regions/neighborhoods where demands come from (1 ... 210)\n",
    "#locations -list of stations (1 ... 44)\n",
    "#demands - hours x regions = demands\n",
    "#regions = Int[parse(Int,string(x)) for x in names(hourly_calls[:,6:ncol(hourly_calls)])]\n",
    "locations = collect(1:size(coverage,2))\n",
    "coverage = Matrix(coverage)\n",
    "coverage = convert(Array{Bool, 2}, coverage[:, :])\n",
    "adjacent = Matrix(adjacent_nbhd[!,2:end]) \n",
    "adjacent = adjacent[regions,regions] .> 0.5\n",
    "demand = Matrix(hourly_calls[!,5:end]); #we were trimming first 6 collumns but it seems to me it only the first contain extraneous data"
   ]
  },
  {
   "cell_type": "code",
   "execution_count": 7,
   "metadata": {},
   "outputs": [],
   "source": [
    "#filter incidents\n",
    "#incidents = incidents[.~ismissing.(incidents[!,:stn1_min]), :] # drop 44 calls that were \"unreachable\" (because all stations are reachable from each other)\n",
    "#remove \"faulty data\" if events in the log do not come in order\n",
    "# incidents[!,:interarrival_seconds] = [0; incidents[!,:arrival_seconds][2:end] - incidents[!,:arrival_seconds][1:end-1]]\n",
    "# incidents[!,:isweekday] .= true\n",
    "# incidents[!,:isweekday][incidents[!,:dow] .== \"Sun\"] .= false\n",
    "# incidents[!,:isweekday][incidents[!,:dow] .== \"Sat\"] .= false;\n",
    "# incidents = incidents[incidents[!,:isweekday],:]\n",
    "\n",
    "#regions2index = Dict{Int,Int}(regions[i]=>i for i in 1:length(regions))"
   ]
  },
  {
   "cell_type": "code",
   "execution_count": 8,
   "metadata": {},
   "outputs": [],
   "source": [
    "#= previously there was an error that didnt account for all the regions because it\n",
    " it only included regions for incidents. the regions without incidents are changed\n",
    " to 0=#\n",
    "# for x in incidents[!,:neighborhood]\n",
    "#     if(!haskey(regions2index,x))\n",
    "#         regions2index[x] = 0\n",
    "#     end\n",
    "# end\n",
    "# incidents[!,:neighborhood] = [regions2index[x] for x in incidents[!,:neighborhood]];\n",
    "\n",
    "# calls = incidents[:,[[:hour,:dow,:month,:year,:neighborhood,:interarrival_seconds];\n",
    "#                      Symbol[Symbol(\"stn$(i)_min\") for i in locations]]]\n",
    "\n",
    "# DataFrames.first(calls, 6)"
   ]
  },
  {
   "cell_type": "code",
   "execution_count": 9,
   "metadata": {},
   "outputs": [],
   "source": [
    "# We focus on emergency calls during the \"peak period\" (8AM - 8PM),\n",
    "# with the emergency calls from the first 3 month as our training set,\n",
    "# and the subsequent emergency calls from the remaining months as our test set\n",
    "peak_period = (hourly_calls[!,:hour] .>= 8) .* (hourly_calls[!,:hour] .<= 20)\n",
    "indices = 1:DataFrames.nrow(hourly_calls);\n",
    "train_filter = (hourly_calls[!,:year] .== 2019) .* (hourly_calls[!,:month] .<= 3)\n",
    "test_filter  = .~train_filter;\n",
    "train_indices = indices[train_filter]\n",
    "test_indices = indices[test_filter];\n",
    "\n",
    "#will change the 30 later\n",
    "p = DeploymentProblem(30, length(locations), length(regions), demand, train_indices,\n",
    "                      test_indices, coverage[regions,:], Array{Bool,2}(adjacent));"
   ]
  },
  {
   "cell_type": "code",
   "execution_count": 10,
   "metadata": {},
   "outputs": [
    {
     "data": {
      "text/plain": [
       "Dict{Symbol,Dict{Int64,Array{Int64,1}}}()"
      ]
     },
     "execution_count": 10,
     "metadata": {},
     "output_type": "execute_result"
    }
   ],
   "source": [
    "amb_deployment = Dict{Symbol, Dict{Int, Vector{Int}}}()  "
   ]
  },
  {
   "cell_type": "code",
   "execution_count": 18,
   "metadata": {},
   "outputs": [
    {
     "name": "stdout",
     "output_type": "stream",
     "text": [
      "Stochastic: \n",
      "40 \n",
      "time for model generation - stochastic 40 ambulances\n",
      "Academic license - for non-commercial use only - expires 2022-07-26\r\n"
     ]
    },
    {
     "name": "stderr",
     "output_type": "stream",
     "text": [
      "┌ Warning: Passing optimizer attributes as keyword arguments to\n",
      "│ Gurobi.Optimizer is deprecated. Use\n",
      "│     MOI.set(model, MOI.RawParameter(\"key\"), value)\n",
      "│ or\n",
      "│     JuMP.set_optimizer_attribute(model, \"key\", value)\n",
      "│ instead.\n",
      "└ @ Gurobi C:\\Users\\Owner\\.julia\\packages\\Gurobi\\BAtIN\\src\\MOI_wrapper\\MOI_wrapper.jl:273\n"
     ]
    },
    {
     "name": "stdout",
     "output_type": "stream",
     "text": [
      " 21.356134 seconds (56.54 M allocations: 4.489 GiB, 60.35% gc time)\n",
      "Academic license - for non-commercial use only - expires 2022-07-26\n",
      "time for model solution - stochastic 40 ambulances\n",
      "Gurobi Optimizer version 9.1.2 build v9.1.2rc0 (win64)\n",
      "Thread count: 4 physical cores, 8 logical processors, using up to 8 threads\n",
      "Optimize a model with 126754 rows, 4702544 columns and 5902358 nonzeros\n",
      "Model fingerprint: 0xb3b567e9\n",
      "Variable types: 0 continuous, 4702544 integer (0 binary)\n",
      "Coefficient statistics:\n",
      "  Matrix range     [1e+00, 1e+00]\n",
      "  Objective range  [1e-06, 1e+00]\n",
      "  Bounds range     [0e+00, 0e+00]\n",
      "  RHS range        [1e+00, 4e+01]\n",
      "Found heuristic solution: objective 6644.0000000\n",
      "Presolve removed 110348 rows and 4663502 columns\n",
      "Presolve time: 3.79s\n",
      "Presolved: 16406 rows, 39042 columns, 87909 nonzeros\n",
      "Found heuristic solution: objective 2275.0043690\n",
      "Variable types: 0 continuous, 39042 integer (22516 binary)\n",
      "\n",
      "Root simplex log...\n",
      "\n",
      "Iteration    Objective       Primal Inf.    Dual Inf.      Time\n",
      "   12149    1.1007003e+01   9.600000e+02   0.000000e+00      5s\n",
      "   14827    1.1006633e+01   0.000000e+00   0.000000e+00      6s\n",
      "\n",
      "Root relaxation: objective 1.100663e+01, 14827 iterations, 0.99 seconds\n",
      "\n",
      "    Nodes    |    Current Node    |     Objective Bounds      |     Work\n",
      " Expl Unexpl |  Obj  Depth IntInf | Incumbent    BestBd   Gap | It/Node Time\n",
      "\n",
      "*    0     0               0      11.0066330   11.00663  0.00%     -    5s\n",
      "\n",
      "Explored 0 nodes (14827 simplex iterations) in 5.80 seconds\n",
      "Thread count was 8 (of 8 available processors)\n",
      "\n",
      "Solution count 3: 11.0066 2275 6644 \n",
      "\n",
      "Optimal solution found (tolerance 1.00e-04)\n",
      "Best objective 1.100663300000e+01, best bound 1.100663299999e+01, gap 0.0000%\n",
      "\n",
      "User-callback calls 353, time in user-callback 0.00 sec\n",
      " 33.006814 seconds (10.29 M allocations: 3.269 GiB, 17.40% gc time)\n"
     ]
    }
   ],
   "source": [
    "(deployment_model, name) = (next_dp -> StochasticDeployment(next_dp, nperiods=500), :Stochastic)\n",
    "println(\"$name: \")\n",
    "amb_deployment[name] = Dict{Int, Vector{Int}}()\n",
    "namb = 40\n",
    "println(\"$namb \")\n",
    "p.nambulances = namb\n",
    "println(\"time for model generation - stochastic $namb ambulances\")\n",
    "## make sure to include @time begin\n",
    "@time model = deployment_model(p)\n",
    "set_optimizer(model.m, Gurobi.Optimizer)\n",
    "println(\"time for model solution - stochastic $namb ambulances\")\n",
    "#@time AmbulanceDeployment.optimize!(model, p)\n",
    "@time AmbulanceDeployment.StochasticDeployment_hyp!(model, p, extra_amb = 1)\n"
   ]
  },
  {
   "cell_type": "code",
   "execution_count": 19,
   "metadata": {},
   "outputs": [
    {
     "data": {
      "text/plain": [
       "44-element Array{Int64,1}:\n",
       " 1\n",
       " 1\n",
       " 1\n",
       " 2\n",
       " 0\n",
       " 0\n",
       " 1\n",
       " 2\n",
       " 2\n",
       " 0\n",
       " 2\n",
       " 0\n",
       " 0\n",
       " ⋮\n",
       " 1\n",
       " 1\n",
       " 0\n",
       " 1\n",
       " 0\n",
       " 0\n",
       " 1\n",
       " 1\n",
       " 1\n",
       " 0\n",
       " 2\n",
       " 1"
      ]
     },
     "execution_count": 19,
     "metadata": {},
     "output_type": "execute_result"
    }
   ],
   "source": [
    "amb_deployment[name][namb] = deployment(model)"
   ]
  },
  {
   "cell_type": "code",
   "execution_count": 20,
   "metadata": {},
   "outputs": [
    {
     "data": {
      "text/plain": [
       "44-element Array{Int64,1}:\n",
       " 1\n",
       " 1\n",
       " 1\n",
       " 2\n",
       " 0\n",
       " 0\n",
       " 1\n",
       " 2\n",
       " 2\n",
       " 0\n",
       " 2\n",
       " 0\n",
       " 0\n",
       " ⋮\n",
       " 1\n",
       " 1\n",
       " 0\n",
       " 1\n",
       " 0\n",
       " 0\n",
       " 1\n",
       " 1\n",
       " 1\n",
       " 0\n",
       " 2\n",
       " 1"
      ]
     },
     "execution_count": 20,
     "metadata": {},
     "output_type": "execute_result"
    }
   ],
   "source": [
    "x40 = deployment(model)"
   ]
  },
  {
   "cell_type": "code",
   "execution_count": 24,
   "metadata": {},
   "outputs": [
    {
     "data": {
      "text/plain": [
       "40"
      ]
     },
     "execution_count": 24,
     "metadata": {},
     "output_type": "execute_result"
    }
   ],
   "source": [
    "sum(x40)"
   ]
  },
  {
   "cell_type": "code",
   "execution_count": 25,
   "metadata": {
    "scrolled": true
   },
   "outputs": [
    {
     "name": "stdout",
     "output_type": "stream",
     "text": [
      "[0, 0, 0, 0, 0, 0, 0, -1, 0, 0, 0, 0, 0, 0, 0, 0, 0, 0, 1, 0, 0, 0, 0, 0, 0, 0, 0, 1, 0, 0, 0, 0, 0, 0, 0, 0, 0, 0, 0, 0, 0, 0, 0, 0]"
     ]
    }
   ],
   "source": [
    "print(x41 - x40) #one is moved, one is added... no go"
   ]
  },
  {
   "cell_type": "code",
   "execution_count": 21,
   "metadata": {},
   "outputs": [
    {
     "name": "stdout",
     "output_type": "stream",
     "text": [
      "[1, 1, 1, 2, 0, 0, 1, 2, 2, 0, 2, 0, 0, 1, 2, 2, 1, 2, 0, 1, 0, 1, 0, 1, 0, 1, 1, 1, 1, 2, 1, 1, 1, 1, 0, 1, 0, 0, 1, 1, 1, 0, 2, 1]"
     ]
    }
   ],
   "source": [
    "print(x40)"
   ]
  },
  {
   "cell_type": "code",
   "execution_count": 17,
   "metadata": {},
   "outputs": [
    {
     "name": "stdout",
     "output_type": "stream",
     "text": [
      "[1, 1, 1, 2, 0, 0, 1, 1, 2, 0, 2, 0, 0, 1, 2, 2, 1, 2, 1, 1, 0, 1, 0, 1, 0, 1, 1, 2, 1, 2, 1, 1, 1, 1, 0, 1, 0, 0, 1, 1, 1, 0, 2, 1]"
     ]
    }
   ],
   "source": [
    "print(x41)"
   ]
  },
  {
   "cell_type": "code",
   "execution_count": 21,
   "metadata": {},
   "outputs": [
    {
     "data": {
      "text/plain": [
       "44-element Array{VariableRef,1}:\n",
       " x[1]\n",
       " x[2]\n",
       " x[3]\n",
       " x[4]\n",
       " x[5]\n",
       " x[6]\n",
       " x[7]\n",
       " x[8]\n",
       " x[9]\n",
       " x[10]\n",
       " x[11]\n",
       " x[12]\n",
       " x[13]\n",
       " ⋮\n",
       " x[33]\n",
       " x[34]\n",
       " x[35]\n",
       " x[36]\n",
       " x[37]\n",
       " x[38]\n",
       " x[39]\n",
       " x[40]\n",
       " x[41]\n",
       " x[42]\n",
       " x[43]\n",
       " x[44]"
      ]
     },
     "execution_count": 21,
     "metadata": {},
     "output_type": "execute_result"
    }
   ],
   "source": [
    "model.x"
   ]
  },
  {
   "cell_type": "code",
   "execution_count": 22,
   "metadata": {},
   "outputs": [
    {
     "data": {
      "text/plain": [
       "44-element Array{Int64,1}:\n",
       " 1\n",
       " 2\n",
       " 1\n",
       " 1\n",
       " 1\n",
       " 0\n",
       " 1\n",
       " 2\n",
       " 2\n",
       " 0\n",
       " 1\n",
       " 0\n",
       " 0\n",
       " ⋮\n",
       " 1\n",
       " 2\n",
       " 0\n",
       " 0\n",
       " 0\n",
       " 0\n",
       " 1\n",
       " 0\n",
       " 1\n",
       " 0\n",
       " 1\n",
       " 1"
      ]
     },
     "execution_count": 22,
     "metadata": {},
     "output_type": "execute_result"
    }
   ],
   "source": [
    "#save julia variable as .csv\n",
    "deployment(model)\n",
    "#or\n",
    "x_save = Array{Int64}(undef, 44)\n",
    "count = 1\n",
    "for x in JuMP.value.(model.x)\n",
    "    x_save[count] = convert(Int,x)\n",
    "    count = count + 1\n",
    "end\n",
    "\n",
    "using DelimitedFiles\n",
    "writedlm( \"stoch_x.csv\",  x_save, ',')\n",
    "x_save"
   ]
  },
  {
   "cell_type": "markdown",
   "metadata": {},
   "source": [
    "#### Save the optimal routing. (Not stationing)"
   ]
  },
  {
   "cell_type": "code",
   "execution_count": 12,
   "metadata": {},
   "outputs": [],
   "source": [
    "#save julia variable as .csv\n",
    "I = size(model.y)[1]\n",
    "J = size(model.y)[2]\n",
    "K = size(model.y)[3]\n",
    "y_save = Array{Int64}(undef, I,J,K)\n",
    "for i in 1:I\n",
    "    for j in 1:J\n",
    "        for k in 1:K\n",
    "            y_save[i,j,k] = convert(Int,JuMP.value.(model.y[i,j,k]))\n",
    "        end\n",
    "    end\n",
    "end\n",
    "\n"
   ]
  },
  {
   "cell_type": "code",
   "execution_count": 13,
   "metadata": {},
   "outputs": [],
   "source": [
    "using DelimitedFiles\n",
    "writedlm( \"stoch_y.csv\",  y_save, ',')"
   ]
  },
  {
   "cell_type": "code",
   "execution_count": 14,
   "metadata": {},
   "outputs": [
    {
     "name": "stdout",
     "output_type": "stream",
     "text": [
      "6.0"
     ]
    }
   ],
   "source": [
    "print(sum(JuMP.value.(model.y[:,:,100])))"
   ]
  },
  {
   "cell_type": "code",
   "execution_count": 15,
   "metadata": {},
   "outputs": [
    {
     "data": {
      "text/html": [
       "<table class=\"data-frame\"><thead><tr><th></th><th>x1</th><th>x2</th><th>x3</th><th>x4</th><th>x5</th><th>x6</th><th>x7</th><th>x8</th><th>x9</th><th>x10</th><th>x11</th><th>x12</th></tr><tr><th></th><th>Int64</th><th>Int64</th><th>Int64</th><th>Int64</th><th>Int64</th><th>Int64</th><th>Int64</th><th>Int64</th><th>Int64</th><th>Int64</th><th>Int64</th><th>Int64</th></tr></thead><tbody><p>44 rows × 209 columns (omitted printing of 197 columns)</p><tr><th>1</th><td>0</td><td>0</td><td>0</td><td>0</td><td>0</td><td>0</td><td>0</td><td>0</td><td>0</td><td>0</td><td>0</td><td>0</td></tr><tr><th>2</th><td>0</td><td>0</td><td>0</td><td>0</td><td>0</td><td>0</td><td>0</td><td>0</td><td>0</td><td>0</td><td>0</td><td>0</td></tr><tr><th>3</th><td>0</td><td>0</td><td>0</td><td>0</td><td>0</td><td>0</td><td>0</td><td>0</td><td>0</td><td>0</td><td>0</td><td>0</td></tr><tr><th>4</th><td>0</td><td>0</td><td>0</td><td>0</td><td>0</td><td>0</td><td>0</td><td>0</td><td>0</td><td>0</td><td>0</td><td>0</td></tr><tr><th>5</th><td>0</td><td>0</td><td>0</td><td>0</td><td>0</td><td>0</td><td>0</td><td>0</td><td>0</td><td>0</td><td>0</td><td>0</td></tr><tr><th>6</th><td>0</td><td>0</td><td>0</td><td>0</td><td>0</td><td>0</td><td>0</td><td>0</td><td>0</td><td>0</td><td>0</td><td>0</td></tr><tr><th>7</th><td>0</td><td>0</td><td>0</td><td>0</td><td>0</td><td>0</td><td>0</td><td>0</td><td>0</td><td>0</td><td>0</td><td>0</td></tr><tr><th>8</th><td>0</td><td>0</td><td>0</td><td>0</td><td>0</td><td>0</td><td>0</td><td>0</td><td>0</td><td>0</td><td>0</td><td>0</td></tr><tr><th>9</th><td>0</td><td>0</td><td>0</td><td>0</td><td>0</td><td>0</td><td>0</td><td>0</td><td>0</td><td>0</td><td>0</td><td>0</td></tr><tr><th>10</th><td>0</td><td>0</td><td>0</td><td>0</td><td>0</td><td>0</td><td>0</td><td>0</td><td>0</td><td>0</td><td>0</td><td>0</td></tr><tr><th>11</th><td>0</td><td>0</td><td>0</td><td>0</td><td>0</td><td>0</td><td>0</td><td>0</td><td>0</td><td>0</td><td>0</td><td>0</td></tr><tr><th>12</th><td>0</td><td>0</td><td>0</td><td>0</td><td>0</td><td>0</td><td>0</td><td>0</td><td>0</td><td>0</td><td>0</td><td>0</td></tr><tr><th>13</th><td>0</td><td>0</td><td>0</td><td>0</td><td>0</td><td>0</td><td>0</td><td>0</td><td>0</td><td>0</td><td>0</td><td>0</td></tr><tr><th>14</th><td>0</td><td>0</td><td>0</td><td>0</td><td>0</td><td>0</td><td>0</td><td>0</td><td>0</td><td>0</td><td>0</td><td>0</td></tr><tr><th>15</th><td>0</td><td>0</td><td>0</td><td>0</td><td>0</td><td>0</td><td>0</td><td>0</td><td>0</td><td>0</td><td>0</td><td>0</td></tr><tr><th>16</th><td>0</td><td>0</td><td>0</td><td>0</td><td>0</td><td>0</td><td>0</td><td>0</td><td>0</td><td>0</td><td>0</td><td>0</td></tr><tr><th>17</th><td>0</td><td>0</td><td>0</td><td>0</td><td>0</td><td>0</td><td>0</td><td>0</td><td>0</td><td>0</td><td>0</td><td>0</td></tr><tr><th>18</th><td>0</td><td>0</td><td>0</td><td>0</td><td>0</td><td>0</td><td>0</td><td>0</td><td>0</td><td>0</td><td>0</td><td>0</td></tr><tr><th>19</th><td>0</td><td>0</td><td>0</td><td>0</td><td>0</td><td>0</td><td>0</td><td>0</td><td>0</td><td>0</td><td>0</td><td>0</td></tr><tr><th>20</th><td>0</td><td>0</td><td>0</td><td>0</td><td>0</td><td>0</td><td>0</td><td>0</td><td>0</td><td>0</td><td>0</td><td>0</td></tr><tr><th>21</th><td>0</td><td>0</td><td>0</td><td>0</td><td>0</td><td>0</td><td>0</td><td>0</td><td>0</td><td>0</td><td>0</td><td>0</td></tr><tr><th>22</th><td>0</td><td>0</td><td>0</td><td>0</td><td>0</td><td>0</td><td>0</td><td>0</td><td>0</td><td>0</td><td>0</td><td>0</td></tr><tr><th>23</th><td>0</td><td>0</td><td>0</td><td>0</td><td>0</td><td>0</td><td>0</td><td>0</td><td>0</td><td>0</td><td>0</td><td>0</td></tr><tr><th>24</th><td>0</td><td>0</td><td>0</td><td>0</td><td>0</td><td>0</td><td>0</td><td>0</td><td>0</td><td>0</td><td>0</td><td>0</td></tr><tr><th>25</th><td>0</td><td>0</td><td>0</td><td>0</td><td>0</td><td>0</td><td>0</td><td>0</td><td>0</td><td>0</td><td>0</td><td>0</td></tr><tr><th>26</th><td>0</td><td>0</td><td>0</td><td>0</td><td>0</td><td>0</td><td>0</td><td>0</td><td>0</td><td>0</td><td>0</td><td>0</td></tr><tr><th>27</th><td>0</td><td>0</td><td>0</td><td>0</td><td>0</td><td>0</td><td>0</td><td>0</td><td>0</td><td>0</td><td>0</td><td>0</td></tr><tr><th>28</th><td>0</td><td>0</td><td>0</td><td>0</td><td>0</td><td>0</td><td>0</td><td>0</td><td>0</td><td>0</td><td>0</td><td>0</td></tr><tr><th>29</th><td>0</td><td>0</td><td>0</td><td>0</td><td>0</td><td>0</td><td>0</td><td>0</td><td>0</td><td>0</td><td>0</td><td>0</td></tr><tr><th>30</th><td>0</td><td>0</td><td>0</td><td>0</td><td>0</td><td>0</td><td>0</td><td>0</td><td>0</td><td>0</td><td>0</td><td>0</td></tr><tr><th>&vellip;</th><td>&vellip;</td><td>&vellip;</td><td>&vellip;</td><td>&vellip;</td><td>&vellip;</td><td>&vellip;</td><td>&vellip;</td><td>&vellip;</td><td>&vellip;</td><td>&vellip;</td><td>&vellip;</td><td>&vellip;</td></tr></tbody></table>"
      ],
      "text/latex": [
       "\\begin{tabular}{r|ccccccccccccc}\n",
       "\t& x1 & x2 & x3 & x4 & x5 & x6 & x7 & x8 & x9 & x10 & x11 & x12 & \\\\\n",
       "\t\\hline\n",
       "\t& Int64 & Int64 & Int64 & Int64 & Int64 & Int64 & Int64 & Int64 & Int64 & Int64 & Int64 & Int64 & \\\\\n",
       "\t\\hline\n",
       "\t1 & 0 & 0 & 0 & 0 & 0 & 0 & 0 & 0 & 0 & 0 & 0 & 0 & $\\dots$ \\\\\n",
       "\t2 & 0 & 0 & 0 & 0 & 0 & 0 & 0 & 0 & 0 & 0 & 0 & 0 & $\\dots$ \\\\\n",
       "\t3 & 0 & 0 & 0 & 0 & 0 & 0 & 0 & 0 & 0 & 0 & 0 & 0 & $\\dots$ \\\\\n",
       "\t4 & 0 & 0 & 0 & 0 & 0 & 0 & 0 & 0 & 0 & 0 & 0 & 0 & $\\dots$ \\\\\n",
       "\t5 & 0 & 0 & 0 & 0 & 0 & 0 & 0 & 0 & 0 & 0 & 0 & 0 & $\\dots$ \\\\\n",
       "\t6 & 0 & 0 & 0 & 0 & 0 & 0 & 0 & 0 & 0 & 0 & 0 & 0 & $\\dots$ \\\\\n",
       "\t7 & 0 & 0 & 0 & 0 & 0 & 0 & 0 & 0 & 0 & 0 & 0 & 0 & $\\dots$ \\\\\n",
       "\t8 & 0 & 0 & 0 & 0 & 0 & 0 & 0 & 0 & 0 & 0 & 0 & 0 & $\\dots$ \\\\\n",
       "\t9 & 0 & 0 & 0 & 0 & 0 & 0 & 0 & 0 & 0 & 0 & 0 & 0 & $\\dots$ \\\\\n",
       "\t10 & 0 & 0 & 0 & 0 & 0 & 0 & 0 & 0 & 0 & 0 & 0 & 0 & $\\dots$ \\\\\n",
       "\t11 & 0 & 0 & 0 & 0 & 0 & 0 & 0 & 0 & 0 & 0 & 0 & 0 & $\\dots$ \\\\\n",
       "\t12 & 0 & 0 & 0 & 0 & 0 & 0 & 0 & 0 & 0 & 0 & 0 & 0 & $\\dots$ \\\\\n",
       "\t13 & 0 & 0 & 0 & 0 & 0 & 0 & 0 & 0 & 0 & 0 & 0 & 0 & $\\dots$ \\\\\n",
       "\t14 & 0 & 0 & 0 & 0 & 0 & 0 & 0 & 0 & 0 & 0 & 0 & 0 & $\\dots$ \\\\\n",
       "\t15 & 0 & 0 & 0 & 0 & 0 & 0 & 0 & 0 & 0 & 0 & 0 & 0 & $\\dots$ \\\\\n",
       "\t16 & 0 & 0 & 0 & 0 & 0 & 0 & 0 & 0 & 0 & 0 & 0 & 0 & $\\dots$ \\\\\n",
       "\t17 & 0 & 0 & 0 & 0 & 0 & 0 & 0 & 0 & 0 & 0 & 0 & 0 & $\\dots$ \\\\\n",
       "\t18 & 0 & 0 & 0 & 0 & 0 & 0 & 0 & 0 & 0 & 0 & 0 & 0 & $\\dots$ \\\\\n",
       "\t19 & 0 & 0 & 0 & 0 & 0 & 0 & 0 & 0 & 0 & 0 & 0 & 0 & $\\dots$ \\\\\n",
       "\t20 & 0 & 0 & 0 & 0 & 0 & 0 & 0 & 0 & 0 & 0 & 0 & 0 & $\\dots$ \\\\\n",
       "\t21 & 0 & 0 & 0 & 0 & 0 & 0 & 0 & 0 & 0 & 0 & 0 & 0 & $\\dots$ \\\\\n",
       "\t22 & 0 & 0 & 0 & 0 & 0 & 0 & 0 & 0 & 0 & 0 & 0 & 0 & $\\dots$ \\\\\n",
       "\t23 & 0 & 0 & 0 & 0 & 0 & 0 & 0 & 0 & 0 & 0 & 0 & 0 & $\\dots$ \\\\\n",
       "\t24 & 0 & 0 & 0 & 0 & 0 & 0 & 0 & 0 & 0 & 0 & 0 & 0 & $\\dots$ \\\\\n",
       "\t25 & 0 & 0 & 0 & 0 & 0 & 0 & 0 & 0 & 0 & 0 & 0 & 0 & $\\dots$ \\\\\n",
       "\t26 & 0 & 0 & 0 & 0 & 0 & 0 & 0 & 0 & 0 & 0 & 0 & 0 & $\\dots$ \\\\\n",
       "\t27 & 0 & 0 & 0 & 0 & 0 & 0 & 0 & 0 & 0 & 0 & 0 & 0 & $\\dots$ \\\\\n",
       "\t28 & 0 & 0 & 0 & 0 & 0 & 0 & 0 & 0 & 0 & 0 & 0 & 0 & $\\dots$ \\\\\n",
       "\t29 & 0 & 0 & 0 & 0 & 0 & 0 & 0 & 0 & 0 & 0 & 0 & 0 & $\\dots$ \\\\\n",
       "\t30 & 0 & 0 & 0 & 0 & 0 & 0 & 0 & 0 & 0 & 0 & 0 & 0 & $\\dots$ \\\\\n",
       "\t$\\dots$ & $\\dots$ & $\\dots$ & $\\dots$ & $\\dots$ & $\\dots$ & $\\dots$ & $\\dots$ & $\\dots$ & $\\dots$ & $\\dots$ & $\\dots$ & $\\dots$ &  \\\\\n",
       "\\end{tabular}\n"
      ],
      "text/plain": [
       "44×209 DataFrame. Omitted printing of 200 columns\n",
       "│ Row │ x1    │ x2    │ x3    │ x4    │ x5    │ x6    │ x7    │ x8    │ x9    │\n",
       "│     │ \u001b[90mInt64\u001b[39m │ \u001b[90mInt64\u001b[39m │ \u001b[90mInt64\u001b[39m │ \u001b[90mInt64\u001b[39m │ \u001b[90mInt64\u001b[39m │ \u001b[90mInt64\u001b[39m │ \u001b[90mInt64\u001b[39m │ \u001b[90mInt64\u001b[39m │ \u001b[90mInt64\u001b[39m │\n",
       "├─────┼───────┼───────┼───────┼───────┼───────┼───────┼───────┼───────┼───────┤\n",
       "│ 1   │ 0     │ 0     │ 0     │ 0     │ 0     │ 0     │ 0     │ 0     │ 0     │\n",
       "│ 2   │ 0     │ 0     │ 0     │ 0     │ 0     │ 0     │ 0     │ 0     │ 0     │\n",
       "│ 3   │ 0     │ 0     │ 0     │ 0     │ 0     │ 0     │ 0     │ 0     │ 0     │\n",
       "│ 4   │ 0     │ 0     │ 0     │ 0     │ 0     │ 0     │ 0     │ 0     │ 0     │\n",
       "│ 5   │ 0     │ 0     │ 0     │ 0     │ 0     │ 0     │ 0     │ 0     │ 0     │\n",
       "│ 6   │ 0     │ 0     │ 0     │ 0     │ 0     │ 0     │ 0     │ 0     │ 0     │\n",
       "│ 7   │ 0     │ 0     │ 0     │ 0     │ 0     │ 0     │ 0     │ 0     │ 0     │\n",
       "│ 8   │ 0     │ 0     │ 0     │ 0     │ 0     │ 0     │ 0     │ 0     │ 0     │\n",
       "│ 9   │ 0     │ 0     │ 0     │ 0     │ 0     │ 0     │ 0     │ 0     │ 0     │\n",
       "│ 10  │ 0     │ 0     │ 0     │ 0     │ 0     │ 0     │ 0     │ 0     │ 0     │\n",
       "⋮\n",
       "│ 34  │ 0     │ 0     │ 0     │ 0     │ 0     │ 0     │ 0     │ 0     │ 0     │\n",
       "│ 35  │ 0     │ 0     │ 0     │ 0     │ 0     │ 0     │ 0     │ 0     │ 0     │\n",
       "│ 36  │ 0     │ 0     │ 0     │ 0     │ 0     │ 0     │ 0     │ 0     │ 0     │\n",
       "│ 37  │ 0     │ 0     │ 0     │ 0     │ 0     │ 0     │ 0     │ 0     │ 0     │\n",
       "│ 38  │ 0     │ 0     │ 0     │ 0     │ 0     │ 0     │ 0     │ 0     │ 0     │\n",
       "│ 39  │ 0     │ 0     │ 0     │ 0     │ 0     │ 0     │ 0     │ 0     │ 0     │\n",
       "│ 40  │ 0     │ 0     │ 0     │ 0     │ 0     │ 0     │ 0     │ 0     │ 0     │\n",
       "│ 41  │ 0     │ 0     │ 0     │ 0     │ 0     │ 0     │ 0     │ 0     │ 0     │\n",
       "│ 42  │ 0     │ 0     │ 0     │ 0     │ 0     │ 0     │ 0     │ 0     │ 0     │\n",
       "│ 43  │ 0     │ 0     │ 0     │ 0     │ 0     │ 0     │ 0     │ 0     │ 0     │\n",
       "│ 44  │ 0     │ 0     │ 0     │ 0     │ 0     │ 0     │ 0     │ 0     │ 0     │"
      ]
     },
     "execution_count": 15,
     "metadata": {},
     "output_type": "execute_result"
    }
   ],
   "source": [
    "d = convert(DataFrame,y_save[:,:,1])"
   ]
  },
  {
   "cell_type": "code",
   "execution_count": 16,
   "metadata": {
    "scrolled": false
   },
   "outputs": [
    {
     "data": {
      "text/plain": [
       "31"
      ]
     },
     "execution_count": 16,
     "metadata": {},
     "output_type": "execute_result"
    }
   ],
   "source": [
    "sum(y_save[:,:,2])\n"
   ]
  },
  {
   "cell_type": "code",
   "execution_count": 17,
   "metadata": {},
   "outputs": [
    {
     "ename": "LoadError",
     "evalue": "\u001b[91mUndefVarError: json_string not defined\u001b[39m",
     "output_type": "error",
     "traceback": [
      "\u001b[91mUndefVarError: json_string not defined\u001b[39m",
      "",
      "Stacktrace:",
      " [1] (::var\"#3#4\")(::IOStream) at .\\In[17]:2",
      " [2] open(::var\"#3#4\", ::String, ::Vararg{String,N} where N; kwargs::Base.Iterators.Pairs{Union{},Union{},Tuple{},NamedTuple{(),Tuple{}}}) at .\\io.jl:325",
      " [3] open(::Function, ::String, ::String) at .\\io.jl:323",
      " [4] top-level scope at In[17]:1",
      " [5] include_string(::Function, ::Module, ::String, ::String) at .\\loading.jl:1091"
     ]
    }
   ],
   "source": [
    "open(\"stoch_y.json\",\"w\") do f\n",
    "    write(f, json_string)\n",
    "end"
   ]
  },
  {
   "cell_type": "code",
   "execution_count": 18,
   "metadata": {},
   "outputs": [
    {
     "name": "stderr",
     "output_type": "stream",
     "text": [
      "\u001b[32m\u001b[1m  Resolving\u001b[22m\u001b[39m package versions...\n",
      "\u001b[32m\u001b[1mNo Changes\u001b[22m\u001b[39m to `C:\\Users\\Owner\\Documents\\Austin\\AmbulanceDeployment\\AmbulanceDeployment.jl-legacy\\Project.toml`\n",
      "\u001b[32m\u001b[1mNo Changes\u001b[22m\u001b[39m to `C:\\Users\\Owner\\Documents\\Austin\\AmbulanceDeployment\\AmbulanceDeployment.jl-legacy\\Manifest.toml`\n"
     ]
    }
   ],
   "source": [
    "Pkg.add(\"NPZ\")"
   ]
  },
  {
   "cell_type": "code",
   "execution_count": 19,
   "metadata": {},
   "outputs": [],
   "source": [
    "using NPZ\n",
    "npzwrite(\"stoch_y.npz\",y_save)"
   ]
  },
  {
   "cell_type": "code",
   "execution_count": null,
   "metadata": {},
   "outputs": [],
   "source": []
  }
 ],
 "metadata": {
  "kernelspec": {
   "display_name": "Julia 1.5.2",
   "language": "julia",
   "name": "julia-1.5"
  },
  "language_info": {
   "file_extension": ".jl",
   "mimetype": "application/julia",
   "name": "julia",
   "version": "1.5.2"
  }
 },
 "nbformat": 4,
 "nbformat_minor": 2
}

{
 "cells": [
  {
   "cell_type": "markdown",
   "metadata": {},
   "source": [
    "Author: Joshua\n",
    "Summary: Run a single instance of the two stage stochastic program\n",
    "Input:\n",
    "Output:"
   ]
  },
  {
   "cell_type": "code",
   "execution_count": 1,
   "metadata": {},
   "outputs": [
    {
     "name": "stderr",
     "output_type": "stream",
     "text": [
      "\u001b[32m\u001b[1m   Updating\u001b[22m\u001b[39m registry at `C:\\Users\\Owner\\.julia\\registries\\General`\n",
      "\u001b[32m\u001b[1m  Resolving\u001b[22m\u001b[39m package versions...\n",
      "\u001b[32m\u001b[1mNo Changes\u001b[22m\u001b[39m to `C:\\Users\\Owner\\Documents\\Austin\\AmbulanceDeployment\\AmbulanceDeployment.jl-legacy\\Project.toml`\n",
      "\u001b[32m\u001b[1mNo Changes\u001b[22m\u001b[39m to `C:\\Users\\Owner\\Documents\\Austin\\AmbulanceDeployment\\AmbulanceDeployment.jl-legacy\\Manifest.toml`\n",
      "\u001b[32m\u001b[1m  Resolving\u001b[22m\u001b[39m package versions...\n",
      "\u001b[32m\u001b[1mNo Changes\u001b[22m\u001b[39m to `C:\\Users\\Owner\\Documents\\Austin\\AmbulanceDeployment\\AmbulanceDeployment.jl-legacy\\Project.toml`\n",
      "\u001b[32m\u001b[1mNo Changes\u001b[22m\u001b[39m to `C:\\Users\\Owner\\Documents\\Austin\\AmbulanceDeployment\\AmbulanceDeployment.jl-legacy\\Manifest.toml`\n",
      "\u001b[32m\u001b[1m Activating\u001b[22m\u001b[39m environment at `C:\\Users\\Owner\\Documents\\Austin\\AmbulanceDeployment\\AmbulanceDeployment.jl-legacy\\Project.toml`\n",
      "┌ Info: Precompiling AmbulanceDeployment [d2c08a37-75f3-4934-bcbc-64feba624d07]\n",
      "└ @ Base loading.jl:1278\n",
      "┌ Warning: Module MathOptInterface with build ID 2519160928401 is missing from the cache.\n",
      "│ This may mean MathOptInterface [b8f27783-ece8-5eb3-8dc8-9495eed66fee] does not support precompilation but is imported by a module that does.\n",
      "└ @ Base loading.jl:1017\n",
      "┌ Warning: Package AmbulanceDeployment does not have Random in its dependencies:\n",
      "│ - If you have AmbulanceDeployment checked out for development and have\n",
      "│   added Random as a dependency but haven't updated your primary\n",
      "│   environment's manifest file, try `Pkg.resolve()`.\n",
      "│ - Otherwise you may need to report an issue with AmbulanceDeployment\n",
      "└ Loading Random into AmbulanceDeployment from project dependency, future warnings for AmbulanceDeployment are suppressed.\n",
      "WARNING: Method definition optimize!(AmbulanceDeployment.RobustDeployment, AmbulanceDeployment.DeploymentProblem) in module AmbulanceDeployment at C:\\Users\\Owner\\Documents\\Austin\\AmbulanceDeployment\\AmbulanceDeployment.jl-legacy\\src\\deployment\\robust.jl:190 overwritten at C:\\Users\\Owner\\Documents\\Austin\\AmbulanceDeployment\\AmbulanceDeployment.jl-legacy\\src\\deployment\\robust.jl:225.\n",
      "  ** incremental compilation may be fatally broken for this module **\n",
      "\n",
      "WARNING: redefinition of constant PROJECT_ROOT. This may fail, cause incorrect answers, or produce other errors.\n",
      "┌ Warning: The call to compilecache failed to create a usable precompiled cache file for AmbulanceDeployment [d2c08a37-75f3-4934-bcbc-64feba624d07]\n",
      "│   exception = ErrorException(\"Required dependency MathOptInterface [b8f27783-ece8-5eb3-8dc8-9495eed66fee] failed to load from a cache file.\")\n",
      "└ @ Base loading.jl:1042\n",
      "┌ Info: Precompiling JuMP [4076af6c-e467-56ae-b986-b466b2749572]\n",
      "└ @ Base loading.jl:1278\n",
      "┌ Info: Precompiling Gurobi [2e9cd046-0924-5485-92f1-d5272153d98b]\n",
      "└ @ Base loading.jl:1278\n",
      "┌ Info: Precompiling DataFrames [a93c6f00-e57d-5684-b7b6-d8193f3e46c0]\n",
      "└ @ Base loading.jl:1278\n",
      "┌ Info: Precompiling Distributions [31c24e10-a181-5473-b8eb-7969acd0382f]\n",
      "└ @ Base loading.jl:1278\n",
      "┌ Info: Precompiling JLD [4138dd39-2aa7-5051-a626-17a0bb65d9c8]\n",
      "└ @ Base loading.jl:1278\n",
      "┌ Info: Precompiling GLPK [60bf3e95-4087-53dc-ae20-288a0d20c6a6]\n",
      "└ @ Base loading.jl:1278\n",
      "┌ Warning: Package AmbulanceDeployment does not have Random in its dependencies:\n",
      "│ - If you have AmbulanceDeployment checked out for development and have\n",
      "│   added Random as a dependency but haven't updated your primary\n",
      "│   environment's manifest file, try `Pkg.resolve()`.\n",
      "│ - Otherwise you may need to report an issue with AmbulanceDeployment\n",
      "│ Loading Random into AmbulanceDeployment from project dependency, future warnings for AmbulanceDeployment are suppressed.\n",
      "└ @ nothing nothing:910\n",
      "┌ Info: Precompiling Plots [91a5bcdd-55d7-5caf-9e0b-520d859cae80]\n",
      "└ @ Base loading.jl:1278\n",
      "WARNING: redefinition of constant PROJECT_ROOT. This may fail, cause incorrect answers, or produce other errors.\n",
      "WARNING: using AmbulanceDeployment.PROJECT_ROOT in module Main conflicts with an existing identifier.\n"
     ]
    }
   ],
   "source": [
    "using Pkg\n",
    "Pkg.add(\"Pkg\")\n",
    "Pkg.add(\"Dates\")\n",
    "\n",
    "joshpath = \"C:/Users/Owner/Documents/Austin/AmbulanceDeployment/AmbulanceDeployment.jl-legacy\"\n",
    "\n",
    "PROJECT_ROOT = joshpath\n",
    "currentpath = joshpath\n",
    "\n",
    "cd(currentpath)\n",
    "Pkg.activate(\".\")\n",
    "\n",
    "#include(\".//src//problem.jl\")\n",
    "#include(\".//src//model.jl\")\n",
    "\n",
    "using AmbulanceDeployment \n",
    "using DataFrames, Winston, JLD, CSV, Gurobi, JuMP, GLPK, Dates"
   ]
  },
  {
   "cell_type": "code",
   "execution_count": 2,
   "metadata": {},
   "outputs": [
    {
     "data": {
      "text/plain": [
       "210×44 Array{Bool,2}:\n",
       " 1  1  1  1  1  1  1  1  1  1  1  1  1  …  1  1  1  1  1  1  1  1  1  1  1  1\n",
       " 1  1  1  1  1  1  1  1  1  1  1  1  1     1  1  1  1  1  1  1  1  1  1  1  1\n",
       " 1  1  1  1  1  1  1  1  1  1  1  1  1     1  1  1  1  1  1  1  1  1  1  1  1\n",
       " 1  1  1  1  1  1  1  1  1  1  1  1  1     1  1  1  1  1  1  1  1  1  1  1  1\n",
       " 1  1  1  1  1  1  1  1  1  1  1  1  1     1  1  1  1  1  1  1  1  1  1  1  1\n",
       " 1  1  1  1  1  1  1  1  1  1  1  1  1  …  1  1  1  1  1  1  1  1  1  1  1  1\n",
       " 1  1  1  1  1  1  1  1  1  1  1  1  1     1  1  1  1  1  1  1  1  1  1  1  1\n",
       " 0  0  0  0  0  0  0  0  0  0  0  0  0     0  0  0  0  0  0  0  0  0  0  0  0\n",
       " 0  0  0  0  0  0  0  0  0  0  0  0  0     0  0  0  0  0  0  0  0  0  0  1  0\n",
       " 1  1  1  1  1  1  1  1  1  1  1  1  1     1  1  1  1  1  1  1  1  1  1  1  1\n",
       " 1  1  1  1  1  1  1  1  1  1  1  1  1  …  1  1  1  1  1  1  1  1  1  1  1  1\n",
       " 1  1  1  1  1  1  1  1  1  1  1  1  1     1  1  1  1  1  1  1  1  1  1  1  1\n",
       " 1  1  1  1  1  1  1  1  1  1  1  1  1     1  1  1  1  1  1  1  1  1  1  1  1\n",
       " ⋮              ⋮              ⋮        ⋱           ⋮              ⋮        \n",
       " 1  1  1  1  1  1  1  1  1  1  1  1  1     1  1  1  1  1  1  1  1  1  1  1  1\n",
       " 1  1  1  1  1  1  1  1  1  1  1  1  1     1  1  1  1  1  1  1  1  1  1  1  1\n",
       " 1  1  1  1  1  1  1  1  1  1  1  1  1  …  1  1  1  1  1  1  1  1  1  1  1  1\n",
       " 1  1  1  1  1  1  1  1  1  1  1  1  1     1  1  1  1  1  1  1  1  1  1  1  1\n",
       " 1  1  1  1  1  1  1  1  1  1  1  1  1     1  1  1  1  1  1  1  1  1  1  1  1\n",
       " 1  1  1  1  1  1  1  1  1  1  1  1  1     1  1  1  1  1  1  1  1  1  1  1  1\n",
       " 1  1  1  1  1  1  1  1  1  1  1  1  1     1  1  1  1  1  1  1  1  1  1  1  1\n",
       " 1  1  1  1  1  1  1  1  1  1  1  1  1  …  1  1  1  1  1  1  1  1  1  1  1  1\n",
       " 1  1  1  1  1  1  1  1  1  1  1  1  1     1  1  1  1  1  1  1  1  1  1  1  1\n",
       " 1  1  1  1  1  1  1  1  1  1  1  1  1     1  1  1  1  1  1  1  1  1  1  1  1\n",
       " 1  1  1  1  1  1  1  1  1  1  1  1  1     1  1  1  1  1  1  1  1  1  1  1  1\n",
       " 1  1  1  1  1  1  1  1  1  1  1  1  1     1  1  1  1  1  1  1  1  1  1  1  1"
      ]
     },
     "execution_count": 2,
     "metadata": {},
     "output_type": "execute_result"
    }
   ],
   "source": [
    "# hourly calls - regions x hours x number of calls/ per region per hour (e.g. 210 x 10000 x Z)\n",
    "#adjacent_nbhd - boolean matrix, regionxregion (210x210) - if neighborhoods/region are adjacent?\n",
    "#coverage - boolean matrix, regions x stations (210x44) - true if station is within coverage of region\n",
    "#incidents - god object\n",
    "hourly_calls = CSV.File(PROJECT_ROOT * \"/test/austin-data/Full_WeekdayCalls.csv\") |> DataFrame\n",
    "# weekend_hourly_calls = CSV.File(\"data/processed/2-weekend_calls.csv\") |> DataFrame\n",
    "adjacent_nbhd = CSV.File(PROJECT_ROOT * \"/test/austin-data/adjacent_nbhd.csv\") |> DataFrame\n",
    "coverage = CSV.read(PROJECT_ROOT * \"/test/austin-data/coverage_real.csv\", DataFrame, header=false)\n",
    "coverage = convert(Array{Bool, 2}, coverage[:, :])\n",
    "#incidents = CSV.File(PROJECT_ROOT * \"/test/austin-data/austin_incidents.csv\") |> DataFrame"
   ]
  },
  {
   "cell_type": "code",
   "execution_count": 3,
   "metadata": {},
   "outputs": [],
   "source": [
    "#regions - list of regions/neighborhoods where demands come from (1 ... 210)\n",
    "#locations -list of stations (1 ... 44)\n",
    "#demands - hours x regions = demands\n",
    "regions = Int[parse(Int,string(x)) for x in names(hourly_calls[:,6:ncol(hourly_calls)])]\n",
    "locations = collect(1:size(coverage,2))\n",
    "adjacent = convert(Array, adjacent_nbhd[:,2:ncol(adjacent_nbhd)])[regions,regions] .> 0.5\n",
    "demand = convert(Array,hourly_calls[:,6:end]);"
   ]
  },
  {
   "cell_type": "code",
   "execution_count": 4,
   "metadata": {},
   "outputs": [],
   "source": [
    "#filter incidents\n",
    "#incidents = incidents[.~ismissing.(incidents[!,:stn1_min]), :] # drop 44 calls that were \"unreachable\" (because all stations are reachable from each other)\n",
    "#remove \"faulty data\" if events in the log do not come in order\n",
    "# incidents[!,:interarrival_seconds] = [0; incidents[!,:arrival_seconds][2:end] - incidents[!,:arrival_seconds][1:end-1]]\n",
    "# incidents[!,:isweekday] .= true\n",
    "# incidents[!,:isweekday][incidents[!,:dow] .== \"Sun\"] .= false\n",
    "# incidents[!,:isweekday][incidents[!,:dow] .== \"Sat\"] .= false;\n",
    "# incidents = incidents[incidents[!,:isweekday],:]\n",
    "\n",
    "#regions2index = Dict{Int,Int}(regions[i]=>i for i in 1:length(regions))"
   ]
  },
  {
   "cell_type": "code",
   "execution_count": 5,
   "metadata": {},
   "outputs": [],
   "source": [
    "#= previously there was an error that didnt account for all the regions because it\n",
    " it only included regions for incidents. the regions without incidents are changed\n",
    " to 0=#\n",
    "# for x in incidents[!,:neighborhood]\n",
    "#     if(!haskey(regions2index,x))\n",
    "#         regions2index[x] = 0\n",
    "#     end\n",
    "# end\n",
    "# incidents[!,:neighborhood] = [regions2index[x] for x in incidents[!,:neighborhood]];\n",
    "\n",
    "# calls = incidents[:,[[:hour,:dow,:month,:year,:neighborhood,:interarrival_seconds];\n",
    "#                      Symbol[Symbol(\"stn$(i)_min\") for i in locations]]]\n",
    "\n",
    "# DataFrames.first(calls, 6)"
   ]
  },
  {
   "cell_type": "code",
   "execution_count": 6,
   "metadata": {},
   "outputs": [],
   "source": [
    "# We focus on emergency calls during the \"peak period\" (8AM - 8PM),\n",
    "# with the emergency calls from the first 3 month as our training set,\n",
    "# and the subsequent emergency calls from the remaining months as our test set\n",
    "peak_period = (hourly_calls[!,:hour] .>= 8) .* (hourly_calls[!,:hour] .<= 20)\n",
    "indices = 1:DataFrames.nrow(hourly_calls);\n",
    "train_filter = (hourly_calls[!,:year] .== 2019) .* (hourly_calls[!,:month] .<= 3)\n",
    "test_filter  = .~train_filter;\n",
    "train_indices = indices[train_filter]\n",
    "test_indices = indices[test_filter];\n",
    "\n",
    "#will change the 30 later\n",
    "p = DeploymentProblem(30, length(locations), length(regions), demand, train_indices,\n",
    "                      test_indices, coverage[regions,:], Array{Bool,2}(adjacent));"
   ]
  },
  {
   "cell_type": "code",
   "execution_count": 7,
   "metadata": {},
   "outputs": [
    {
     "data": {
      "text/plain": [
       "Dict{Symbol,Dict{Int64,Array{Int64,1}}}()"
      ]
     },
     "execution_count": 7,
     "metadata": {},
     "output_type": "execute_result"
    }
   ],
   "source": [
    "amb_deployment = Dict{Symbol, Dict{Int, Vector{Int}}}()  "
   ]
  },
  {
   "cell_type": "code",
   "execution_count": 8,
   "metadata": {},
   "outputs": [
    {
     "name": "stdout",
     "output_type": "stream",
     "text": [
      "Stochastic: \n",
      "50 \n",
      "time for model generation - stochastic 50 ambulances\n",
      "Academic license - for non-commercial use only\n",
      " 19.409247 seconds (70.06 M allocations: 5.055 GiB, 22.50% gc time)\n",
      "Academic license - for non-commercial use only\n",
      "time for model solution - stochastic 50 ambulances\n",
      "Academic license - for non-commercial use only\n",
      "Optimize a model with 126754 rows, 4702544 columns and 5902358 nonzeros\n",
      "Variable types: 0 continuous, 4702544 integer (0 binary)\n",
      "Coefficient statistics:\n",
      "  Matrix range     [1e+00, 1e+00]\n",
      "  Objective range  [1e-06, 1e+00]\n",
      "  Bounds range     [0e+00, 0e+00]\n",
      "  RHS range        [1e+00, 5e+01]\n",
      "Found heuristic solution: objective 6644.0000000\n",
      "Presolve removed 110313 rows and 4662566 columns\n",
      "Presolve time: 4.10s\n",
      "Presolved: 16441 rows, 39978 columns, 89622 nonzeros\n",
      "Found heuristic solution: objective 2111.0045330\n",
      "Variable types: 0 continuous, 39978 integer (24410 binary)\n",
      "\n",
      "Root simplex log...\n",
      "\n",
      "Iteration    Objective       Primal Inf.    Dual Inf.      Time\n",
      "    9884    3.0067913e+00   1.099500e+03   0.000000e+00      5s\n",
      "   12371    3.0066410e+00   0.000000e+00   0.000000e+00      5s\n",
      "\n",
      "Root relaxation: objective 3.006641e+00, 12371 iterations, 0.64 seconds\n",
      "\n",
      "    Nodes    |    Current Node    |     Objective Bounds      |     Work\n",
      " Expl Unexpl |  Obj  Depth IntInf | Incumbent    BestBd   Gap | It/Node Time\n",
      "\n",
      "*    0     0               0       3.0066410    3.00664  0.00%     -    5s\n",
      "\n",
      "Explored 0 nodes (12371 simplex iterations) in 5.68 seconds\n",
      "Thread count was 8 (of 8 available processors)\n",
      "\n",
      "Solution count 3: 3.00664 2111 5362 \n",
      "\n",
      "Optimal solution found (tolerance 1.00e-04)\n",
      "Best objective 3.006641000000e+00, best bound 3.006640999987e+00, gap 0.0000%\n",
      " 55.583734 seconds (182.54 M allocations: 7.185 GiB, 7.33% gc time)\n"
     ]
    }
   ],
   "source": [
    "(deployment_model, name) = (next_dp -> StochasticDeployment(next_dp, nperiods=500), :Stochastic)\n",
    "println(\"$name: \")\n",
    "amb_deployment[name] = Dict{Int, Vector{Int}}()\n",
    "namb = 50\n",
    "println(\"$namb \")\n",
    "p.nambulances = namb\n",
    "println(\"time for model generation - stochastic $namb ambulances\")\n",
    "## make sure to include @time begin\n",
    "@time model = deployment_model(p)\n",
    "set_optimizer(model.m, Gurobi.Optimizer)\n",
    "println(\"time for model solution - stochastic $namb ambulances\")\n",
    "@time AmbulanceDeployment.optimize!(model, p)\n"
   ]
  },
  {
   "cell_type": "code",
   "execution_count": 9,
   "metadata": {},
   "outputs": [
    {
     "data": {
      "text/plain": [
       "println (generic function with 4 methods)"
      ]
     },
     "execution_count": 9,
     "metadata": {},
     "output_type": "execute_result"
    }
   ],
   "source": [
    "amb_deployment[name][namb] = deployment(model)\n",
    "println"
   ]
  },
  {
   "cell_type": "code",
   "execution_count": null,
   "metadata": {},
   "outputs": [],
   "source": []
  }
 ],
 "metadata": {
  "kernelspec": {
   "display_name": "Julia 1.5.2",
   "language": "julia",
   "name": "julia-1.5"
  },
  "language_info": {
   "file_extension": ".jl",
   "mimetype": "application/julia",
   "name": "julia",
   "version": "1.5.2"
  }
 },
 "nbformat": 4,
 "nbformat_minor": 2
}

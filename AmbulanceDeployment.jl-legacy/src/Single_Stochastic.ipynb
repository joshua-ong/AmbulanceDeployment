{
 "cells": [
  {
   "cell_type": "markdown",
   "metadata": {},
   "source": [
    "Author: Joshua\n",
    "Summary: Run a single instance of the two stage stochastic program <br>\n",
    "Input: <br>\n",
    "Output: The ambulance stationing allocation x. <br>"
   ]
  },
  {
   "cell_type": "code",
   "execution_count": 1,
   "metadata": {},
   "outputs": [
    {
     "name": "stderr",
     "output_type": "stream",
     "text": [
      "\u001b[32m\u001b[1m   Updating\u001b[22m\u001b[39m registry at `C:\\Users\\Owner\\.julia\\registries\\General`\n",
      "\u001b[32m\u001b[1m  Resolving\u001b[22m\u001b[39m package versions...\n",
      "\u001b[32m\u001b[1mNo Changes\u001b[22m\u001b[39m to `C:\\Users\\Owner\\Documents\\Austin\\AmbulanceDeployment\\AmbulanceDeployment.jl-legacy\\Project.toml`\n",
      "\u001b[32m\u001b[1mNo Changes\u001b[22m\u001b[39m to `C:\\Users\\Owner\\Documents\\Austin\\AmbulanceDeployment\\AmbulanceDeployment.jl-legacy\\Manifest.toml`\n",
      "\u001b[32m\u001b[1m  Resolving\u001b[22m\u001b[39m package versions...\n",
      "\u001b[32m\u001b[1mNo Changes\u001b[22m\u001b[39m to `C:\\Users\\Owner\\Documents\\Austin\\AmbulanceDeployment\\AmbulanceDeployment.jl-legacy\\Project.toml`\n",
      "\u001b[32m\u001b[1mNo Changes\u001b[22m\u001b[39m to `C:\\Users\\Owner\\Documents\\Austin\\AmbulanceDeployment\\AmbulanceDeployment.jl-legacy\\Manifest.toml`\n",
      "\u001b[32m\u001b[1m Activating\u001b[22m\u001b[39m environment at `C:\\Users\\Owner\\Documents\\Austin\\AmbulanceDeployment\\AmbulanceDeployment.jl-legacy\\Project.toml`\n"
     ]
    }
   ],
   "source": [
    "using Pkg\n",
    "Pkg.add(\"Pkg\")\n",
    "Pkg.add(\"Dates\")\n",
    "\n",
    "           \n",
    "joshpath = \"C:/Users/Owner/Documents/Austin/AmbulanceDeployment/AmbulanceDeployment.jl-legacy\"\n",
    "joshpath = \"C:/Users/Owner/Documents/Austin/AmbulanceDeployment/AmbulanceDeployment.jl-legacy\"\n",
    "\n",
    "PROJECT_ROOT = joshpath\n",
    "currentpath = joshpath\n",
    "\n",
    "cd(currentpath)\n",
    "Pkg.activate(\".\")\n",
    "\n",
    "#include(\".//src//problem.jl\")\n",
    "#include(\".//src//model.jl\")\n",
    "\n",
    "using DataFrames, Winston, JLD, CSV, Gurobi, JuMP, GLPK, Dates"
   ]
  },
  {
   "cell_type": "code",
   "execution_count": 2,
   "metadata": {},
   "outputs": [
    {
     "name": "stderr",
     "output_type": "stream",
     "text": [
      "WARNING: using AmbulanceDeployment.PROJECT_ROOT in module Main conflicts with an existing identifier.\n"
     ]
    }
   ],
   "source": [
    "using AmbulanceDeployment "
   ]
  },
  {
   "cell_type": "code",
   "execution_count": 3,
   "metadata": {},
   "outputs": [
    {
     "data": {
      "text/plain": [
       "\"C:/Users/Owner/Documents/Austin/AmbulanceDeployment/AmbulanceDeployment.jl-legacy/test/austin-data/adjacent_nbhd.csv\""
      ]
     },
     "execution_count": 3,
     "metadata": {},
     "output_type": "execute_result"
    }
   ],
   "source": [
    "PROJECT_ROOT * \"/test/austin-data/adjacent_nbhd.csv\""
   ]
  },
  {
   "cell_type": "code",
   "execution_count": 5,
   "metadata": {},
   "outputs": [
    {
     "name": "stdout",
     "output_type": "stream",
     "text": [
      "\n",
      " coverage (209, 44)\n",
      " hourly_calls (10296, 214)\n",
      " adjacency (224, 225)"
     ]
    }
   ],
   "source": [
    "# hourly calls - regions x hours x number of calls/ per region per hour (e.g. 210 x 10000 x Z)\n",
    "#adjacent_nbhd - boolean matrix, regionxregion (210x210) - if neighborhoods/region are adjacent?\n",
    "#coverage - boolean matrix, regions x stations (210x44) - true if station is within coverage of region\n",
    "#incidents - god object\n",
    "\n",
    "# PROJECT_ROOT = \"C:/Users/Owner/Documents/Austin/AmbulanceDeployment/AmbulanceDeployment.jl-legacy\"\n",
    "# adjacent_nbhd = CSV.File(PROJECT_ROOT * \"/test/austin-data/adjacent_nbhd.csv\") |> DataFrame\n",
    "# #I CAN'T for the life of me see the difference.\n",
    "adjacent_nbhd = CSV.File(\"C:/Users/Owner/Documents/Austin/AmbulanceDeployment/AmbulanceDeployment.jl-legacy/test/austin_data/adjacent_nbhd.csv\") |> DataFrame\n",
    "coverage = CSV.File(\"C:/Users/Owner/Documents/Austin/AmbulanceDeployment/AmbulanceDeployment.jl-legacy/test/austin_data/coverage.csv\") |> DataFrame\n",
    "#coverage = convert(Array{Bool, 2}, coverage[:, :])\n",
    "hourly_calls = CSV.File(\"C:/Users/Owner/Documents/Austin/AmbulanceDeployment/AmbulanceDeployment.jl-legacy/test/austin_data/Full_WeekdayCalls.csv\") |> DataFrame\n",
    "# weekend_hourly_calls = CSV.File(\"data/processed/2-weekend_calls.csv\") |> DataFrame\n",
    "\n",
    "print(\"\\n coverage \",size(coverage))\n",
    "print(\"\\n hourly_calls \",size(hourly_calls))\n",
    "print(\"\\n adjacency \",size(adjacent_nbhd))"
   ]
  },
  {
   "cell_type": "code",
   "execution_count": 6,
   "metadata": {},
   "outputs": [
    {
     "data": {
      "text/plain": [
       "209-element Array{Int64,1}:\n",
       "   1\n",
       "   2\n",
       "   3\n",
       "   4\n",
       "   5\n",
       "   6\n",
       "   7\n",
       "   8\n",
       "   9\n",
       "  10\n",
       "  11\n",
       "  12\n",
       "  13\n",
       "   ⋮\n",
       " 198\n",
       " 199\n",
       " 200\n",
       " 201\n",
       " 202\n",
       " 203\n",
       " 204\n",
       " 205\n",
       " 206\n",
       " 207\n",
       " 208\n",
       " 209"
      ]
     },
     "execution_count": 6,
     "metadata": {},
     "output_type": "execute_result"
    }
   ],
   "source": [
    "num_regions = 209\n",
    "regions = collect(1:209)"
   ]
  },
  {
   "cell_type": "code",
   "execution_count": 7,
   "metadata": {},
   "outputs": [],
   "source": [
    "#reformat data frames as matrix data\n",
    "#regions - list of regions/neighborhoods where demands come from (1 ... 210)\n",
    "#locations -list of stations (1 ... 44)\n",
    "#demands - hours x regions = demands\n",
    "#regions = Int[parse(Int,string(x)) for x in names(hourly_calls[:,6:ncol(hourly_calls)])]\n",
    "locations = collect(1:size(coverage,2))\n",
    "coverage = Matrix(coverage)\n",
    "coverage = convert(Array{Bool, 2}, coverage[:, :])\n",
    "adjacent = Matrix(adjacent_nbhd[!,2:end]) \n",
    "adjacent = adjacent[regions,regions] .> 0.5\n",
    "demand = Matrix(hourly_calls[!,5:end-1]); #we were trimming first 6 collumns but it seems to me it only the first contain extraneous data"
   ]
  },
  {
   "cell_type": "code",
   "execution_count": 8,
   "metadata": {},
   "outputs": [],
   "source": [
    "# We focus on emergency calls during the \"peak period\" (8AM - 8PM),\n",
    "# with the emergency calls from the first 3 month as our training set,\n",
    "# and the subsequent emergency calls from the remaining months as our test set\n",
    "peak_period = (hourly_calls[!,:hour] .>= 8) .* (hourly_calls[!,:hour] .<= 20)\n",
    "indices = 1:DataFrames.nrow(hourly_calls);\n",
    "train_filter = (hourly_calls[!,:year] .== 2019) .* (hourly_calls[!,:month] .<= 3)\n",
    "test_filter  = .~train_filter;\n",
    "train_indices = indices[train_filter]\n",
    "test_indices = indices[test_filter];\n",
    "\n",
    "#will change the 30 later\n",
    "p = DeploymentProblem(30, length(locations), length(regions), demand, train_indices,\n",
    "                      test_indices, coverage[regions,:], Array{Bool,2}(adjacent));"
   ]
  },
  {
   "cell_type": "code",
   "execution_count": 9,
   "metadata": {},
   "outputs": [
    {
     "name": "stdout",
     "output_type": "stream",
     "text": [
      "Stochastic: \n",
      "39 \n",
      "time for model generation - stochastic 39 ambulances\n"
     ]
    }
   ],
   "source": [
    "amb_deployment = Dict{Symbol, Dict{Int, Vector{Int}}}()  \n",
    "(deployment_model, name) = (next_dp -> StochasticDeployment(next_dp, nperiods=500), :Stochastic)\n",
    "println(\"$name: \")\n",
    "amb_deployment[name] = Dict{Int, Vector{Int}}()\n",
    "namb = 39\n",
    "println(\"$namb \")\n",
    "p.nambulances = namb\n",
    "println(\"time for model generation - stochastic $namb ambulances\")"
   ]
  },
  {
   "cell_type": "code",
   "execution_count": 25,
   "metadata": {},
   "outputs": [
    {
     "name": "stdout",
     "output_type": "stream",
     "text": [
      "35 \n",
      "time for model generation - stochastic 35 ambulances\n",
      "Academic license - for non-commercial use only - expires 2022-07-26\n",
      " 20.106328 seconds (56.54 M allocations: "
     ]
    },
    {
     "name": "stderr",
     "output_type": "stream",
     "text": [
      "┌ Warning: Passing optimizer attributes as keyword arguments to\n",
      "│ Gurobi.Optimizer is deprecated. Use\n",
      "│     MOI.set(model, MOI.RawParameter(\"key\"), value)\n",
      "│ or\n",
      "│     JuMP.set_optimizer_attribute(model, \"key\", value)\n",
      "│ instead.\n",
      "└ @ Gurobi C:\\Users\\Owner\\.julia\\packages\\Gurobi\\BAtIN\\src\\MOI_wrapper\\MOI_wrapper.jl:273\n"
     ]
    },
    {
     "name": "stdout",
     "output_type": "stream",
     "text": [
      "4.489 GiB, 49.24% gc time)\n",
      "Academic license - for non-commercial use only - expires 2022-07-26\n",
      "time for model solution - stochastic 35 ambulances\n",
      "Gurobi Optimizer version 9.1.2 build v9.1.2rc0 (win64)\n",
      "Thread count: 4 physical cores, 8 logical processors, using up to 8 threads\n",
      "Optimize a model with 126754 rows, 4702544 columns and 5902358 nonzeros\n",
      "Model fingerprint: 0xbe5c9938\n",
      "Variable types: 0 continuous, 4702544 integer (0 binary)\n",
      "Coefficient statistics:\n",
      "  Matrix range     [1e+00, 1e+00]\n",
      "  Objective range  [1e-06, 1e+00]\n",
      "  Bounds range     [0e+00, 0e+00]\n",
      "  RHS range        [1e+00, 4e+01]\n",
      "Found heuristic solution: objective 6644.0000000\n",
      "Presolve removed 110348 rows and 4663502 columns\n",
      "Presolve time: 3.89s\n",
      "Presolved: 16406 rows, 39042 columns, 87909 nonzeros\n",
      "Found heuristic solution: objective 2275.0043690\n",
      "Variable types: 0 continuous, 39042 integer (22516 binary)\n",
      "\n",
      "Root simplex log...\n",
      "\n",
      "Iteration    Objective       Primal Inf.    Dual Inf.      Time\n",
      "   11485    4.3007027e+01   1.008500e+03   0.000000e+00      5s\n",
      "   15940    4.4006600e+01   0.000000e+00   0.000000e+00      6s\n",
      "\n",
      "Root relaxation: objective 4.400660e+01, 15940 iterations, 1.14 seconds\n",
      "\n",
      "    Nodes    |    Current Node    |     Objective Bounds      |     Work\n",
      " Expl Unexpl |  Obj  Depth IntInf | Incumbent    BestBd   Gap | It/Node Time\n",
      "\n",
      "*    0     0               0      44.0066000   44.00660  0.00%     -    5s\n",
      "\n",
      "Explored 0 nodes (15940 simplex iterations) in 6.02 seconds\n",
      "Thread count was 8 (of 8 available processors)\n",
      "\n",
      "Solution count 3: 44.0066 2275 6644 \n",
      "\n",
      "Optimal solution found (tolerance 1.00e-04)\n",
      "Best objective 4.400660000000e+01, best bound 4.400659999999e+01, gap 0.0000%\n",
      "\n",
      "User-callback calls 365, time in user-callback 0.00 sec\n",
      " 29.963496 seconds (10.29 M allocations: 3.277 GiB, 8.40% gc time)\n",
      "stoch_35.csv36 \n",
      "time for model generation - stochastic 36 ambulances\n",
      "Academic license - for non-commercial use only - expires 2022-07-26\n",
      " 20.171834 seconds (56.54 M allocations: 4.489 GiB, "
     ]
    },
    {
     "name": "stderr",
     "output_type": "stream",
     "text": [
      "┌ Warning: Passing optimizer attributes as keyword arguments to\n",
      "│ Gurobi.Optimizer is deprecated. Use\n",
      "│     MOI.set(model, MOI.RawParameter(\"key\"), value)\n",
      "│ or\n",
      "│     JuMP.set_optimizer_attribute(model, \"key\", value)\n",
      "│ instead.\n",
      "└ @ Gurobi C:\\Users\\Owner\\.julia\\packages\\Gurobi\\BAtIN\\src\\MOI_wrapper\\MOI_wrapper.jl:273\n"
     ]
    },
    {
     "name": "stdout",
     "output_type": "stream",
     "text": [
      "56.47% gc time)\n",
      "Academic license - for non-commercial use only - expires 2022-07-26\n",
      "time for model solution - stochastic 36 ambulances\n",
      "Gurobi Optimizer version 9.1.2 build v9.1.2rc0 (win64)\n",
      "Thread count: 4 physical cores, 8 logical processors, using up to 8 threads\n",
      "Optimize a model with 126754 rows, 4702544 columns and 5902358 nonzeros\n",
      "Model fingerprint: 0x6916660f\n",
      "Variable types: 0 continuous, 4702544 integer (0 binary)\n",
      "Coefficient statistics:\n",
      "  Matrix range     [1e+00, 1e+00]\n",
      "  Objective range  [1e-06, 1e+00]\n",
      "  Bounds range     [0e+00, 0e+00]\n",
      "  RHS range        [1e+00, 4e+01]\n",
      "Found heuristic solution: objective 6644.0000000\n",
      "Presolve removed 110348 rows and 4663502 columns\n",
      "Presolve time: 3.81s\n",
      "Presolved: 16406 rows, 39042 columns, 87909 nonzeros\n",
      "Found heuristic solution: objective 2275.0043690\n",
      "Variable types: 0 continuous, 39042 integer (22516 binary)\n",
      "\n",
      "Root simplex log...\n",
      "\n",
      "Iteration    Objective       Primal Inf.    Dual Inf.      Time\n",
      "   12694    2.9007108e+01   1.724000e+03   0.000000e+00      5s\n",
      "   17448    3.5006609e+01   0.000000e+00   0.000000e+00      6s\n",
      "\n",
      "Root relaxation: objective 3.500661e+01, 17448 iterations, 1.20 seconds\n",
      "\n",
      "    Nodes    |    Current Node    |     Objective Bounds      |     Work\n",
      " Expl Unexpl |  Obj  Depth IntInf | Incumbent    BestBd   Gap | It/Node Time\n",
      "\n",
      "*    0     0               0      35.0066090   35.00661  0.00%     -    5s\n",
      "\n",
      "Explored 0 nodes (17448 simplex iterations) in 6.04 seconds\n",
      "Thread count was 8 (of 8 available processors)\n",
      "\n",
      "Solution count 3: 35.0066 2275 6644 \n",
      "\n",
      "Optimal solution found (tolerance 1.00e-04)\n",
      "Best objective 3.500660900000e+01, best bound 3.500660899999e+01, gap 0.0000%\n",
      "\n",
      "User-callback calls 383, time in user-callback 0.00 sec\n",
      " 33.883361 seconds (10.29 M allocations: 3.269 GiB, 18.46% gc time)\n",
      "stoch_36.csv37 \n",
      "time for model generation - stochastic 37 ambulances\n",
      "Academic license - for non-commercial use only - expires 2022-07-26\n"
     ]
    },
    {
     "name": "stderr",
     "output_type": "stream",
     "text": [
      "┌ Warning: Passing optimizer attributes as keyword arguments to\n",
      "│ Gurobi.Optimizer is deprecated. Use\n",
      "│     MOI.set(model, MOI.RawParameter(\"key\"), value)\n",
      "│ or\n",
      "│     JuMP.set_optimizer_attribute(model, \"key\", value)\n",
      "│ instead.\n",
      "└ @ Gurobi C:\\Users\\Owner\\.julia\\packages\\Gurobi\\BAtIN\\src\\MOI_wrapper\\MOI_wrapper.jl:273\n"
     ]
    },
    {
     "name": "stdout",
     "output_type": "stream",
     "text": [
      " 19.441307 seconds (56.54 M allocations: 4.489 GiB, 53.21% gc time)\n",
      "Academic license - for non-commercial use only - expires 2022-07-26\n",
      "time for model solution - stochastic 37 ambulances\n",
      "Gurobi Optimizer version 9.1.2 build v9.1.2rc0 (win64)\n",
      "Thread count: 4 physical cores, 8 logical processors, using up to 8 threads\n",
      "Optimize a model with 126754 rows, 4702544 columns and 5902358 nonzeros\n",
      "Model fingerprint: 0xf3f0e3d4\n",
      "Variable types: 0 continuous, 4702544 integer (0 binary)\n",
      "Coefficient statistics:\n",
      "  Matrix range     [1e+00, 1e+00]\n",
      "  Objective range  [1e-06, 1e+00]\n",
      "  Bounds range     [0e+00, 0e+00]\n",
      "  RHS range        [1e+00, 4e+01]\n",
      "Found heuristic solution: objective 6644.0000000\n",
      "Presolve removed 110348 rows and 4663502 columns\n",
      "Presolve time: 3.85s\n",
      "Presolved: 16406 rows, 39042 columns, 87909 nonzeros\n",
      "Found heuristic solution: objective 2275.0043690\n",
      "Variable types: 0 continuous, 39042 integer (22516 binary)\n",
      "\n",
      "Root simplex log...\n",
      "\n",
      "Iteration    Objective       Primal Inf.    Dual Inf.      Time\n",
      "   12167    2.1007064e+01   1.200000e+03   0.000000e+00      5s\n",
      "   14870    2.7006617e+01   0.000000e+00   0.000000e+00      5s\n",
      "\n",
      "Root relaxation: objective 2.700662e+01, 14870 iterations, 0.87 seconds\n",
      "\n",
      "    Nodes    |    Current Node    |     Objective Bounds      |     Work\n",
      " Expl Unexpl |  Obj  Depth IntInf | Incumbent    BestBd   Gap | It/Node Time\n",
      "\n",
      "*    0     0               0      27.0066170   27.00662  0.00%     -    5s\n",
      "\n",
      "Explored 0 nodes (14870 simplex iterations) in 5.73 seconds\n",
      "Thread count was 8 (of 8 available processors)\n",
      "\n",
      "Solution count 3: 27.0066 2275 6644 \n",
      "\n",
      "Optimal solution found (tolerance 1.00e-04)\n",
      "Best objective 2.700661700000e+01, best bound 2.700661699999e+01, gap 0.0000%\n",
      "\n",
      "User-callback calls 352, time in user-callback 0.00 sec\n",
      " 29.807570 seconds (10.29 M allocations: 3.277 GiB, 9.09% gc time)\n",
      "stoch_37.csv38 \n",
      "time for model generation - stochastic 38 ambulances\n",
      "Academic license - for non-commercial use only - expires 2022-07-26\n"
     ]
    },
    {
     "name": "stderr",
     "output_type": "stream",
     "text": [
      "┌ Warning: Passing optimizer attributes as keyword arguments to\n",
      "│ Gurobi.Optimizer is deprecated. Use\n",
      "│     MOI.set(model, MOI.RawParameter(\"key\"), value)\n",
      "│ or\n",
      "│     JuMP.set_optimizer_attribute(model, \"key\", value)\n",
      "│ instead.\n",
      "└ @ Gurobi C:\\Users\\Owner\\.julia\\packages\\Gurobi\\BAtIN\\src\\MOI_wrapper\\MOI_wrapper.jl:273\n"
     ]
    },
    {
     "name": "stdout",
     "output_type": "stream",
     "text": [
      " 24.230938 seconds (56.54 M allocations: 4.489 GiB, 63.03% gc time)\n",
      "Academic license - for non-commercial use only - expires 2022-07-26\n",
      "time for model solution - stochastic 38 ambulances\n",
      "Gurobi Optimizer version 9.1.2 build v9.1.2rc0 (win64)\n",
      "Thread count: 4 physical cores, 8 logical processors, using up to 8 threads\n",
      "Optimize a model with 126754 rows, 4702544 columns and 5902358 nonzeros\n",
      "Model fingerprint: 0xc5bd7982\n",
      "Variable types: 0 continuous, 4702544 integer (0 binary)\n",
      "Coefficient statistics:\n",
      "  Matrix range     [1e+00, 1e+00]\n",
      "  Objective range  [1e-06, 1e+00]\n",
      "  Bounds range     [0e+00, 0e+00]\n",
      "  RHS range        [1e+00, 4e+01]\n",
      "Found heuristic solution: objective 6644.0000000\n",
      "Presolve removed 110348 rows and 4663502 columns\n",
      "Presolve time: 3.76s\n",
      "Presolved: 16406 rows, 39042 columns, 87909 nonzeros\n",
      "Found heuristic solution: objective 2275.0043690\n",
      "Variable types: 0 continuous, 39042 integer (22516 binary)\n",
      "\n",
      "Root simplex log...\n",
      "\n",
      "Iteration    Objective       Primal Inf.    Dual Inf.      Time\n",
      "   12147    1.9007086e+01   1.152500e+03   0.000000e+00      5s\n",
      "   13702    2.1006623e+01   0.000000e+00   0.000000e+00      5s\n",
      "\n",
      "Root relaxation: objective 2.100662e+01, 13702 iterations, 0.78 seconds\n",
      "\n",
      "    Nodes    |    Current Node    |     Objective Bounds      |     Work\n",
      " Expl Unexpl |  Obj  Depth IntInf | Incumbent    BestBd   Gap | It/Node Time\n",
      "\n",
      "*    0     0               0      21.0066230   21.00662  0.00%     -    5s\n",
      "\n",
      "Explored 0 nodes (13702 simplex iterations) in 5.55 seconds\n",
      "Thread count was 8 (of 8 available processors)\n",
      "\n",
      "Solution count 3: 21.0066 2275 6644 \n",
      "\n",
      "Optimal solution found (tolerance 1.00e-04)\n",
      "Best objective 2.100662300000e+01, best bound 2.100662299999e+01, gap 0.0000%\n",
      "\n",
      "User-callback calls 336, time in user-callback 0.00 sec\n",
      " 32.846103 seconds (10.29 M allocations: 3.269 GiB, 17.69% gc time)\n",
      "stoch_38.csv39 \n",
      "time for model generation - stochastic 39 ambulances\n",
      "Academic license - for non-commercial use only - expires 2022-07-26\n"
     ]
    },
    {
     "name": "stderr",
     "output_type": "stream",
     "text": [
      "┌ Warning: Passing optimizer attributes as keyword arguments to\n",
      "│ Gurobi.Optimizer is deprecated. Use\n",
      "│     MOI.set(model, MOI.RawParameter(\"key\"), value)\n",
      "│ or\n",
      "│     JuMP.set_optimizer_attribute(model, \"key\", value)\n",
      "│ instead.\n",
      "└ @ Gurobi C:\\Users\\Owner\\.julia\\packages\\Gurobi\\BAtIN\\src\\MOI_wrapper\\MOI_wrapper.jl:273\n"
     ]
    },
    {
     "name": "stdout",
     "output_type": "stream",
     "text": [
      " 19.096417 seconds (56.54 M allocations: 4.489 GiB, 52.36% gc time)\n",
      "Academic license - for non-commercial use only - expires 2022-07-26\n",
      "time for model solution - stochastic 39 ambulances\n",
      "Gurobi Optimizer version 9.1.2 build v9.1.2rc0 (win64)\n",
      "Thread count: 4 physical cores, 8 logical processors, using up to 8 threads\n",
      "Optimize a model with 126754 rows, 4702544 columns and 5902358 nonzeros\n",
      "Model fingerprint: 0x801a038e\n",
      "Variable types: 0 continuous, 4702544 integer (0 binary)\n",
      "Coefficient statistics:\n",
      "  Matrix range     [1e+00, 1e+00]\n",
      "  Objective range  [1e-06, 1e+00]\n",
      "  Bounds range     [0e+00, 0e+00]\n",
      "  RHS range        [1e+00, 4e+01]\n",
      "Found heuristic solution: objective 6644.0000000\n",
      "Presolve removed 110348 rows and 4663502 columns\n",
      "Presolve time: 3.82s\n",
      "Presolved: 16406 rows, 39042 columns, 87909 nonzeros\n",
      "Found heuristic solution: objective 2275.0043690\n",
      "Variable types: 0 continuous, 39042 integer (22516 binary)\n",
      "\n",
      "Root simplex log...\n",
      "\n",
      "Iteration    Objective       Primal Inf.    Dual Inf.      Time\n",
      "   11075    1.0007033e+01   7.875000e+02   0.000000e+00      5s\n",
      "   15012    1.6006628e+01   0.000000e+00   0.000000e+00      6s\n",
      "\n",
      "Root relaxation: objective 1.600663e+01, 15012 iterations, 1.09 seconds\n",
      "\n",
      "    Nodes    |    Current Node    |     Objective Bounds      |     Work\n",
      " Expl Unexpl |  Obj  Depth IntInf | Incumbent    BestBd   Gap | It/Node Time\n",
      "\n",
      "*    0     0               0      16.0066280   16.00663  0.00%     -    5s\n",
      "\n",
      "Explored 0 nodes (15012 simplex iterations) in 5.94 seconds\n",
      "Thread count was 8 (of 8 available processors)\n",
      "\n",
      "Solution count 3: 16.0066 2275 6644 \n",
      "\n",
      "Optimal solution found (tolerance 1.00e-04)\n",
      "Best objective 1.600662800000e+01, best bound 1.600662799999e+01, gap 0.0000%\n",
      "\n",
      "User-callback calls 353, time in user-callback 0.00 sec\n",
      " 29.836948 seconds (10.29 M allocations: 3.277 GiB, 9.02% gc time)\n",
      "stoch_39.csv40 \n",
      "time for model generation - stochastic 40 ambulances\n",
      "Academic license - for non-commercial use only - expires 2022-07-26\n"
     ]
    },
    {
     "name": "stderr",
     "output_type": "stream",
     "text": [
      "┌ Warning: Passing optimizer attributes as keyword arguments to\n",
      "│ Gurobi.Optimizer is deprecated. Use\n",
      "│     MOI.set(model, MOI.RawParameter(\"key\"), value)\n",
      "│ or\n",
      "│     JuMP.set_optimizer_attribute(model, \"key\", value)\n",
      "│ instead.\n",
      "└ @ Gurobi C:\\Users\\Owner\\.julia\\packages\\Gurobi\\BAtIN\\src\\MOI_wrapper\\MOI_wrapper.jl:273\n"
     ]
    },
    {
     "name": "stdout",
     "output_type": "stream",
     "text": [
      " 24.181188 seconds (56.54 M allocations: 4.489 GiB, 63.30% gc time)\n",
      "Academic license - for non-commercial use only - expires 2022-07-26\n",
      "time for model solution - stochastic 40 ambulances\n",
      "Gurobi Optimizer version 9.1.2 build v9.1.2rc0 (win64)\n",
      "Thread count: 4 physical cores, 8 logical processors, using up to 8 threads\n",
      "Optimize a model with 126754 rows, 4702544 columns and 5902358 nonzeros\n",
      "Model fingerprint: 0xb3b567e9\n",
      "Variable types: 0 continuous, 4702544 integer (0 binary)\n",
      "Coefficient statistics:\n",
      "  Matrix range     [1e+00, 1e+00]\n",
      "  Objective range  [1e-06, 1e+00]\n",
      "  Bounds range     [0e+00, 0e+00]\n",
      "  RHS range        [1e+00, 4e+01]\n",
      "Found heuristic solution: objective 6644.0000000\n",
      "Presolve removed 110348 rows and 4663502 columns\n",
      "Presolve time: 3.80s\n",
      "Presolved: 16406 rows, 39042 columns, 87909 nonzeros\n",
      "Found heuristic solution: objective 2275.0043690\n",
      "Variable types: 0 continuous, 39042 integer (22516 binary)\n",
      "\n",
      "Root simplex log...\n",
      "\n",
      "Iteration    Objective       Primal Inf.    Dual Inf.      Time\n",
      "   12149    1.1007003e+01   9.600000e+02   0.000000e+00      5s\n",
      "   14827    1.1006633e+01   0.000000e+00   0.000000e+00      6s\n",
      "\n",
      "Root relaxation: objective 1.100663e+01, 14827 iterations, 1.02 seconds\n",
      "\n",
      "    Nodes    |    Current Node    |     Objective Bounds      |     Work\n",
      " Expl Unexpl |  Obj  Depth IntInf | Incumbent    BestBd   Gap | It/Node Time\n",
      "\n",
      "*    0     0               0      11.0066330   11.00663  0.00%     -    5s\n",
      "\n",
      "Explored 0 nodes (14827 simplex iterations) in 5.82 seconds\n",
      "Thread count was 8 (of 8 available processors)\n",
      "\n",
      "Solution count 3: 11.0066 2275 6644 \n",
      "\n",
      "Optimal solution found (tolerance 1.00e-04)\n",
      "Best objective 1.100663300000e+01, best bound 1.100663299999e+01, gap 0.0000%\n",
      "\n",
      "User-callback calls 349, time in user-callback 0.00 sec\n",
      " 33.110303 seconds (10.29 M allocations: 3.269 GiB, 17.72% gc time)\n",
      "stoch_40.csv41 \n",
      "time for model generation - stochastic 41 ambulances\n",
      "Academic license - for non-commercial use only - expires 2022-07-26\n"
     ]
    },
    {
     "name": "stderr",
     "output_type": "stream",
     "text": [
      "┌ Warning: Passing optimizer attributes as keyword arguments to\n",
      "│ Gurobi.Optimizer is deprecated. Use\n",
      "│     MOI.set(model, MOI.RawParameter(\"key\"), value)\n",
      "│ or\n",
      "│     JuMP.set_optimizer_attribute(model, \"key\", value)\n",
      "│ instead.\n",
      "└ @ Gurobi C:\\Users\\Owner\\.julia\\packages\\Gurobi\\BAtIN\\src\\MOI_wrapper\\MOI_wrapper.jl:273\n"
     ]
    },
    {
     "name": "stdout",
     "output_type": "stream",
     "text": [
      " 19.118238 seconds (56.54 M allocations: 4.489 GiB, 52.67% gc time)\n",
      "Academic license - for non-commercial use only - expires 2022-07-26\n",
      "time for model solution - stochastic 41 ambulances\n",
      "Gurobi Optimizer version 9.1.2 build v9.1.2rc0 (win64)\n",
      "Thread count: 4 physical cores, 8 logical processors, using up to 8 threads\n",
      "Optimize a model with 126754 rows, 4702544 columns and 5902358 nonzeros\n",
      "Model fingerprint: 0xf428396e\n",
      "Variable types: 0 continuous, 4702544 integer (0 binary)\n",
      "Coefficient statistics:\n",
      "  Matrix range     [1e+00, 1e+00]\n",
      "  Objective range  [1e-06, 1e+00]\n",
      "  Bounds range     [0e+00, 0e+00]\n",
      "  RHS range        [1e+00, 4e+01]\n",
      "Found heuristic solution: objective 6644.0000000\n",
      "Presolve removed 110348 rows and 4663502 columns\n",
      "Presolve time: 3.85s\n",
      "Presolved: 16406 rows, 39042 columns, 87909 nonzeros\n",
      "Found heuristic solution: objective 2275.0043690\n",
      "Variable types: 0 continuous, 39042 integer (22516 binary)\n",
      "\n",
      "Root simplex log...\n",
      "\n",
      "Iteration    Objective       Primal Inf.    Dual Inf.      Time\n",
      "   11449    9.0068819e+00   1.154000e+03   0.000000e+00      5s\n",
      "   15467    9.0066350e+00   0.000000e+00   0.000000e+00      6s\n",
      "\n",
      "Root relaxation: objective 9.006635e+00, 15467 iterations, 1.30 seconds\n",
      "\n",
      "    Nodes    |    Current Node    |     Objective Bounds      |     Work\n",
      " Expl Unexpl |  Obj  Depth IntInf | Incumbent    BestBd   Gap | It/Node Time\n",
      "\n",
      "*    0     0               0       9.0066350    9.00663  0.00%     -    5s\n",
      "\n",
      "Explored 0 nodes (15467 simplex iterations) in 6.17 seconds\n",
      "Thread count was 8 (of 8 available processors)\n",
      "\n",
      "Solution count 3: 9.00663 2275 6644 \n",
      "\n",
      "Optimal solution found (tolerance 1.00e-04)\n",
      "Best objective 9.006635000000e+00, best bound 9.006634999992e+00, gap 0.0000%\n",
      "\n",
      "User-callback calls 363, time in user-callback 0.00 sec\n",
      " 30.039176 seconds (10.29 M allocations: 3.277 GiB, 8.98% gc time)\n",
      "stoch_41.csv42 \n",
      "time for model generation - stochastic 42 ambulances\n",
      "Academic license - for non-commercial use only - expires 2022-07-26\n"
     ]
    },
    {
     "name": "stderr",
     "output_type": "stream",
     "text": [
      "┌ Warning: Passing optimizer attributes as keyword arguments to\n",
      "│ Gurobi.Optimizer is deprecated. Use\n",
      "│     MOI.set(model, MOI.RawParameter(\"key\"), value)\n",
      "│ or\n",
      "│     JuMP.set_optimizer_attribute(model, \"key\", value)\n",
      "│ instead.\n",
      "└ @ Gurobi C:\\Users\\Owner\\.julia\\packages\\Gurobi\\BAtIN\\src\\MOI_wrapper\\MOI_wrapper.jl:273\n"
     ]
    },
    {
     "name": "stdout",
     "output_type": "stream",
     "text": [
      " 24.136258 seconds (56.54 M allocations: 4.489 GiB, 62.84% gc time)\n",
      "Academic license - for non-commercial use only - expires 2022-07-26\n",
      "time for model solution - stochastic 42 ambulances\n",
      "Gurobi Optimizer version 9.1.2 build v9.1.2rc0 (win64)\n",
      "Thread count: 4 physical cores, 8 logical processors, using up to 8 threads\n",
      "Optimize a model with 126754 rows, 4702544 columns and 5902358 nonzeros\n",
      "Model fingerprint: 0x71d74039\n",
      "Variable types: 0 continuous, 4702544 integer (0 binary)\n",
      "Coefficient statistics:\n",
      "  Matrix range     [1e+00, 1e+00]\n",
      "  Objective range  [1e-06, 1e+00]\n",
      "  Bounds range     [0e+00, 0e+00]\n",
      "  RHS range        [1e+00, 4e+01]\n",
      "Found heuristic solution: objective 6644.0000000\n",
      "Presolve removed 110348 rows and 4663502 columns\n",
      "Presolve time: 3.83s\n",
      "Presolved: 16406 rows, 39042 columns, 87909 nonzeros\n",
      "Found heuristic solution: objective 2275.0043690\n",
      "Variable types: 0 continuous, 39042 integer (22516 binary)\n",
      "\n",
      "Root simplex log...\n",
      "\n",
      "Iteration    Objective       Primal Inf.    Dual Inf.      Time\n",
      "   11489    7.0566283e-03   1.970500e+03   0.000000e+00      5s\n",
      "   16513    7.0066370e+00   0.000000e+00   0.000000e+00      6s\n",
      "\n",
      "Root relaxation: objective 7.006637e+00, 16513 iterations, 1.46 seconds\n",
      "\n",
      "    Nodes    |    Current Node    |     Objective Bounds      |     Work\n",
      " Expl Unexpl |  Obj  Depth IntInf | Incumbent    BestBd   Gap | It/Node Time\n",
      "\n",
      "*    0     0               0       7.0066370    7.00664  0.00%     -    6s\n",
      "\n",
      "Explored 0 nodes (22393 simplex iterations) in 6.64 seconds\n",
      "Thread count was 8 (of 8 available processors)\n",
      "\n",
      "Solution count 3: 7.00664 2275 6644 \n",
      "\n",
      "Optimal solution found (tolerance 1.00e-04)\n",
      "Best objective 7.006637000000e+00, best bound 7.006636999992e+00, gap 0.0000%\n",
      "\n",
      "User-callback calls 383, time in user-callback 0.00 sec\n",
      " 33.975145 seconds (10.29 M allocations: 3.269 GiB, 17.14% gc time)\n",
      "stoch_42.csv43 \n",
      "time for model generation - stochastic 43 ambulances\n",
      "Academic license - for non-commercial use only - expires 2022-07-26\n"
     ]
    },
    {
     "name": "stderr",
     "output_type": "stream",
     "text": [
      "┌ Warning: Passing optimizer attributes as keyword arguments to\n",
      "│ Gurobi.Optimizer is deprecated. Use\n",
      "│     MOI.set(model, MOI.RawParameter(\"key\"), value)\n",
      "│ or\n",
      "│     JuMP.set_optimizer_attribute(model, \"key\", value)\n",
      "│ instead.\n",
      "└ @ Gurobi C:\\Users\\Owner\\.julia\\packages\\Gurobi\\BAtIN\\src\\MOI_wrapper\\MOI_wrapper.jl:273\n"
     ]
    },
    {
     "name": "stdout",
     "output_type": "stream",
     "text": [
      " 19.268971 seconds (56.54 M allocations: 4.489 GiB, 52.50% gc time)\n",
      "Academic license - for non-commercial use only - expires 2022-07-26\n",
      "time for model solution - stochastic 43 ambulances\n",
      "Gurobi Optimizer version 9.1.2 build v9.1.2rc0 (win64)\n",
      "Thread count: 4 physical cores, 8 logical processors, using up to 8 threads\n",
      "Optimize a model with 126754 rows, 4702544 columns and 5902358 nonzeros\n",
      "Model fingerprint: 0xae871fd7\n",
      "Variable types: 0 continuous, 4702544 integer (0 binary)\n",
      "Coefficient statistics:\n",
      "  Matrix range     [1e+00, 1e+00]\n",
      "  Objective range  [1e-06, 1e+00]\n",
      "  Bounds range     [0e+00, 0e+00]\n",
      "  RHS range        [1e+00, 4e+01]\n",
      "Found heuristic solution: objective 6644.0000000\n",
      "Presolve removed 110348 rows and 4663502 columns\n",
      "Presolve time: 3.81s\n",
      "Presolved: 16406 rows, 39042 columns, 87909 nonzeros\n",
      "Found heuristic solution: objective 2275.0043690\n",
      "Variable types: 0 continuous, 39042 integer (22516 binary)\n",
      "\n",
      "Root simplex log...\n",
      "\n",
      "Iteration    Objective       Primal Inf.    Dual Inf.      Time\n",
      "   11493    4.0068749e+00   1.151000e+03   0.000000e+00      5s\n",
      "   14853    5.0066390e+00   0.000000e+00   0.000000e+00      6s\n",
      "\n",
      "Root relaxation: objective 5.006639e+00, 14853 iterations, 1.06 seconds\n",
      "\n",
      "    Nodes    |    Current Node    |     Objective Bounds      |     Work\n",
      " Expl Unexpl |  Obj  Depth IntInf | Incumbent    BestBd   Gap | It/Node Time\n",
      "\n",
      "*    0     0               0       5.0066390    5.00664  0.00%     -    5s\n",
      "\n",
      "Explored 0 nodes (19492 simplex iterations) in 6.10 seconds\n",
      "Thread count was 8 (of 8 available processors)\n",
      "\n",
      "Solution count 3: 5.00664 2275 6644 \n",
      "\n",
      "Optimal solution found (tolerance 1.00e-04)\n",
      "Best objective 5.006639000000e+00, best bound 5.006638999992e+00, gap 0.0000%\n",
      "\n",
      "User-callback calls 351, time in user-callback 0.00 sec\n",
      " 29.956415 seconds (10.29 M allocations: 3.277 GiB, 8.83% gc time)\n",
      "stoch_43.csv44 \n",
      "time for model generation - stochastic 44 ambulances\n",
      "Academic license - for non-commercial use only - expires 2022-07-26\n"
     ]
    },
    {
     "name": "stderr",
     "output_type": "stream",
     "text": [
      "┌ Warning: Passing optimizer attributes as keyword arguments to\n",
      "│ Gurobi.Optimizer is deprecated. Use\n",
      "│     MOI.set(model, MOI.RawParameter(\"key\"), value)\n",
      "│ or\n",
      "│     JuMP.set_optimizer_attribute(model, \"key\", value)\n",
      "│ instead.\n",
      "└ @ Gurobi C:\\Users\\Owner\\.julia\\packages\\Gurobi\\BAtIN\\src\\MOI_wrapper\\MOI_wrapper.jl:273\n"
     ]
    },
    {
     "name": "stdout",
     "output_type": "stream",
     "text": [
      " 24.944374 seconds (56.54 M allocations: 4.489 GiB, 63.71% gc time)\n",
      "Academic license - for non-commercial use only - expires 2022-07-26\n",
      "time for model solution - stochastic 44 ambulances\n",
      "Gurobi Optimizer version 9.1.2 build v9.1.2rc0 (win64)\n",
      "Thread count: 4 physical cores, 8 logical processors, using up to 8 threads\n",
      "Optimize a model with 126754 rows, 4702544 columns and 5902358 nonzeros\n",
      "Model fingerprint: 0x164c6bd5\n",
      "Variable types: 0 continuous, 4702544 integer (0 binary)\n",
      "Coefficient statistics:\n",
      "  Matrix range     [1e+00, 1e+00]\n",
      "  Objective range  [1e-06, 1e+00]\n",
      "  Bounds range     [0e+00, 0e+00]\n",
      "  RHS range        [1e+00, 4e+01]\n",
      "Found heuristic solution: objective 6644.0000000\n",
      "Presolve removed 110348 rows and 4663502 columns\n",
      "Presolve time: 3.75s\n",
      "Presolved: 16406 rows, 39042 columns, 87909 nonzeros\n",
      "Found heuristic solution: objective 2275.0043690\n",
      "Variable types: 0 continuous, 39042 integer (22516 binary)\n",
      "\n",
      "Root simplex log...\n",
      "\n",
      "Iteration    Objective       Primal Inf.    Dual Inf.      Time\n",
      "   12069    3.0068747e+00   2.672500e+03   0.000000e+00      5s\n",
      "   15289    3.0066410e+00   0.000000e+00   0.000000e+00      6s\n",
      "\n",
      "Root relaxation: objective 3.006641e+00, 15289 iterations, 1.06 seconds\n",
      "\n",
      "    Nodes    |    Current Node    |     Objective Bounds      |     Work\n",
      " Expl Unexpl |  Obj  Depth IntInf | Incumbent    BestBd   Gap | It/Node Time\n",
      "\n",
      "*    0     0               0       3.0066410    3.00664  0.00%     -    6s\n",
      "\n",
      "Explored 0 nodes (20348 simplex iterations) in 6.28 seconds\n",
      "Thread count was 8 (of 8 available processors)\n",
      "\n",
      "Solution count 3: 3.00664 2275 6644 \n",
      "\n",
      "Optimal solution found (tolerance 1.00e-04)\n",
      "Best objective 3.006641000000e+00, best bound 3.006640999991e+00, gap 0.0000%\n",
      "\n",
      "User-callback calls 357, time in user-callback 0.00 sec\n",
      " 33.769207 seconds (10.29 M allocations: 3.269 GiB, 17.33% gc time)\n",
      "stoch_44.csv45 \n",
      "time for model generation - stochastic 45 ambulances\n",
      "Academic license - for non-commercial use only - expires 2022-07-26\n"
     ]
    },
    {
     "name": "stderr",
     "output_type": "stream",
     "text": [
      "┌ Warning: Passing optimizer attributes as keyword arguments to\n",
      "│ Gurobi.Optimizer is deprecated. Use\n",
      "│     MOI.set(model, MOI.RawParameter(\"key\"), value)\n",
      "│ or\n",
      "│     JuMP.set_optimizer_attribute(model, \"key\", value)\n",
      "│ instead.\n",
      "└ @ Gurobi C:\\Users\\Owner\\.julia\\packages\\Gurobi\\BAtIN\\src\\MOI_wrapper\\MOI_wrapper.jl:273\n"
     ]
    },
    {
     "name": "stdout",
     "output_type": "stream",
     "text": [
      " 19.009901 seconds (56.54 M allocations: 4.488 GiB, 52.58% gc time)\n",
      "Academic license - for non-commercial use only - expires 2022-07-26\n",
      "time for model solution - stochastic 45 ambulances\n",
      "Gurobi Optimizer version 9.1.2 build v9.1.2rc0 (win64)\n",
      "Thread count: 4 physical cores, 8 logical processors, using up to 8 threads\n",
      "Optimize a model with 126754 rows, 4702544 columns and 5902358 nonzeros\n",
      "Model fingerprint: 0x5efafc50\n",
      "Variable types: 0 continuous, 4702544 integer (0 binary)\n",
      "Coefficient statistics:\n",
      "  Matrix range     [1e+00, 1e+00]\n",
      "  Objective range  [1e-06, 1e+00]\n",
      "  Bounds range     [0e+00, 0e+00]\n",
      "  RHS range        [1e+00, 5e+01]\n",
      "Found heuristic solution: objective 6644.0000000\n",
      "Presolve removed 110348 rows and 4663502 columns\n",
      "Presolve time: 3.79s\n",
      "Presolved: 16406 rows, 39042 columns, 87909 nonzeros\n",
      "Found heuristic solution: objective 2275.0043690\n",
      "Variable types: 0 continuous, 39042 integer (22516 binary)\n",
      "\n",
      "Root simplex log...\n",
      "\n",
      "Iteration    Objective       Primal Inf.    Dual Inf.      Time\n",
      "   11597    2.0068188e+00   9.735000e+02   0.000000e+00      5s\n",
      "   17115    2.0066420e+00   0.000000e+00   0.000000e+00      6s\n",
      "\n",
      "Root relaxation: objective 2.006642e+00, 17115 iterations, 1.96 seconds\n",
      "\n",
      "    Nodes    |    Current Node    |     Objective Bounds      |     Work\n",
      " Expl Unexpl |  Obj  Depth IntInf | Incumbent    BestBd   Gap | It/Node Time\n",
      "\n",
      "*    0     0               0       2.0066420    2.00664  0.00%     -    7s\n",
      "\n",
      "Explored 0 nodes (22277 simplex iterations) in 7.28 seconds\n",
      "Thread count was 8 (of 8 available processors)\n",
      "\n",
      "Solution count 3: 2.00664 2275 6644 \n",
      "\n",
      "Optimal solution found (tolerance 1.00e-04)\n",
      "Best objective 2.006642000000e+00, best bound 2.006641999991e+00, gap 0.0000%\n",
      "\n",
      "User-callback calls 403, time in user-callback 0.00 sec\n",
      " 31.758266 seconds (10.29 M allocations: 3.277 GiB, 8.39% gc time)\n",
      "stoch_45.csv"
     ]
    }
   ],
   "source": [
    "using DelimitedFiles\n",
    "for i in collect(35:45)\n",
    "    namb = i\n",
    "    println(\"$namb \")\n",
    "    p.nambulances = namb\n",
    "    println(\"time for model generation - stochastic $namb ambulances\")\n",
    "    @time model = deployment_model(p)\n",
    "    set_optimizer(model.m, Gurobi.Optimizer)\n",
    "    println(\"time for model solution - stochastic $namb ambulances\")\n",
    "    @time AmbulanceDeployment.optimize!(model, p)\n",
    "    filename = \"stoch_\" * string(i) * \".csv\"\n",
    "    print(filename)\n",
    "    writedlm(filename,  deployment(model), ',')\n",
    "end"
   ]
  },
  {
   "cell_type": "code",
   "execution_count": 12,
   "metadata": {},
   "outputs": [],
   "source": [
    "# old_x = [1, 1, 1, 2, 0, 0, 1, 2, 2, 0, 2, 0, 0, 1, 2, 2, 1, 2, 0, 1, 0, 1, 0, 1, 0, 1, 1, 1, 1, 2, 1, 1, 1, 1, 0, 1, 0, 0, 1, 1, 1, 0, 2, 1]\n",
    "# slack = [round(Int,x) for x in JuMP.value.(model2.slack)];\n",
    "# x = [round(Int,x) for x in JuMP.value.(model2.x)];\n",
    "# print(sum(x))\n",
    "# print(\"\\n\")\n",
    "# print(sum(slack))"
   ]
  },
  {
   "cell_type": "code",
   "execution_count": 4,
   "metadata": {
    "scrolled": true
   },
   "outputs": [],
   "source": [
    "# @time model2 = StochasticDeployment_rem(p, extra_amb = 1)\n",
    "# set_optimizer(model2.m, Gurobi.Optimizer)\n",
    "# println(\"time for model solution - stochastic $namb ambulances\")\n",
    "# @time AmbulanceDeployment.optimize!(model2, p)"
   ]
  },
  {
   "cell_type": "code",
   "execution_count": 21,
   "metadata": {},
   "outputs": [
    {
     "name": "stdout",
     "output_type": "stream",
     "text": [
      "Academic license - for non-commercial use only - expires 2022-07-26\r\n"
     ]
    },
    {
     "name": "stderr",
     "output_type": "stream",
     "text": [
      "┌ Warning: Passing optimizer attributes as keyword arguments to\n",
      "│ Gurobi.Optimizer is deprecated. Use\n",
      "│     MOI.set(model, MOI.RawParameter(\"key\"), value)\n",
      "│ or\n",
      "│     JuMP.set_optimizer_attribute(model, \"key\", value)\n",
      "│ instead.\n",
      "└ @ Gurobi C:\\Users\\Owner\\.julia\\packages\\Gurobi\\BAtIN\\src\\MOI_wrapper\\MOI_wrapper.jl:273\n"
     ]
    },
    {
     "name": "stdout",
     "output_type": "stream",
     "text": [
      " 20.965177 seconds (56.54 M allocations: 4.489 GiB, 58.40% gc time)\n",
      "Academic license - for non-commercial use only - expires 2022-07-26\n",
      "time for model solution - stochastic 40 ambulances\n",
      "Gurobi Optimizer version 9.1.2 build v9.1.2rc0 (win64)\n",
      "Thread count: 4 physical cores, 8 logical processors, using up to 8 threads\n",
      "Optimize a model with 126799 rows, 4702588 columns and 5902490 nonzeros\n",
      "Model fingerprint: 0x5053c232\n",
      "Variable types: 0 continuous, 4702588 integer (0 binary)\n",
      "Coefficient statistics:\n",
      "  Matrix range     [1e+00, 1e+00]\n",
      "  Objective range  [1e-06, 1e+00]\n",
      "  Bounds range     [0e+00, 0e+00]\n",
      "  RHS range        [1e+00, 4e+01]\n",
      "Found heuristic solution: objective 6644.0000000\n",
      "Presolve removed 118839 rows and 4684822 columns (presolve time = 5s) ...\n",
      "Presolve removed 118905 rows and 4684895 columns\n",
      "Presolve time: 8.13s\n",
      "Presolved: 7894 rows, 17693 columns, 40105 nonzeros\n",
      "Found heuristic solution: objective 1437.0052070\n",
      "Variable types: 0 continuous, 17693 integer (10607 binary)\n",
      "\n",
      "Root simplex log...\n",
      "\n",
      "Iteration    Objective       Primal Inf.    Dual Inf.      Time\n",
      "       0    1.0036640e+00   2.686000e+03   0.000000e+00      9s\n",
      "    6603    9.0066350e+00   0.000000e+00   0.000000e+00      9s\n",
      "\n",
      "Root relaxation: objective 9.006635e+00, 6603 iterations, 0.04 seconds\n",
      "\n",
      "    Nodes    |    Current Node    |     Objective Bounds      |     Work\n",
      " Expl Unexpl |  Obj  Depth IntInf | Incumbent    BestBd   Gap | It/Node Time\n",
      "\n",
      "*    0     0               0       9.0066350    9.00663  0.00%     -    8s\n",
      "\n",
      "Explored 0 nodes (6603 simplex iterations) in 9.16 seconds\n",
      "Thread count was 8 (of 8 available processors)\n",
      "\n",
      "Solution count 3: 9.00663 1437.01 6644 \n",
      "\n",
      "Optimal solution found (tolerance 1.00e-04)\n",
      "Best objective 9.006635000000e+00, best bound 9.006634999994e+00, gap 0.0000%\n",
      "\n",
      "User-callback calls 357, time in user-callback 0.00 sec\n",
      " 36.556512 seconds (10.29 M allocations: 3.269 GiB, 16.13% gc time)\n",
      "41\n",
      "1Academic license - for non-commercial use only - expires 2022-07-26\n"
     ]
    },
    {
     "name": "stderr",
     "output_type": "stream",
     "text": [
      "┌ Warning: Passing optimizer attributes as keyword arguments to\n",
      "│ Gurobi.Optimizer is deprecated. Use\n",
      "│     MOI.set(model, MOI.RawParameter(\"key\"), value)\n",
      "│ or\n",
      "│     JuMP.set_optimizer_attribute(model, \"key\", value)\n",
      "│ instead.\n",
      "└ @ Gurobi C:\\Users\\Owner\\.julia\\packages\\Gurobi\\BAtIN\\src\\MOI_wrapper\\MOI_wrapper.jl:273\n"
     ]
    },
    {
     "name": "stdout",
     "output_type": "stream",
     "text": [
      " 18.785399 seconds (56.54 M allocations: 4.489 GiB, 52.94% gc time)\n",
      "Academic license - for non-commercial use only - expires 2022-07-26\n",
      "time for model solution - stochastic 40 ambulances\n",
      "Gurobi Optimizer version 9.1.2 build v9.1.2rc0 (win64)\n",
      "Thread count: 4 physical cores, 8 logical processors, using up to 8 threads\n",
      "Optimize a model with 126799 rows, 4702588 columns and 5902490 nonzeros\n",
      "Model fingerprint: 0x44b3ce0d\n",
      "Variable types: 0 continuous, 4702588 integer (0 binary)\n",
      "Coefficient statistics:\n",
      "  Matrix range     [1e+00, 1e+00]\n",
      "  Objective range  [1e-06, 1e+00]\n",
      "  Bounds range     [0e+00, 0e+00]\n",
      "  RHS range        [1e+00, 4e+01]\n",
      "Found heuristic solution: objective 6644.0000000\n",
      "Presolve removed 118903 rows and 4684893 columns\n",
      "Presolve time: 4.83s\n",
      "Presolved: 7896 rows, 17695 columns, 40109 nonzeros\n",
      "Found heuristic solution: objective 1436.0052080\n",
      "Variable types: 0 continuous, 17695 integer (7188 binary)\n",
      "\n",
      "Root simplex log...\n",
      "\n",
      "Iteration    Objective       Primal Inf.    Dual Inf.      Time\n",
      "       0   -3.9963310e+00   2.688000e+03   0.000000e+00      6s\n",
      "    6012    7.0066370e+00   0.000000e+00   0.000000e+00      6s\n",
      "\n",
      "Root relaxation: objective 7.006637e+00, 6012 iterations, 0.03 seconds\n",
      "\n",
      "    Nodes    |    Current Node    |     Objective Bounds      |     Work\n",
      " Expl Unexpl |  Obj  Depth IntInf | Incumbent    BestBd   Gap | It/Node Time\n",
      "\n",
      "*    0     0               0       7.0066370    7.00664  0.00%     -    5s\n",
      "\n",
      "Explored 0 nodes (6012 simplex iterations) in 5.86 seconds\n",
      "Thread count was 8 (of 8 available processors)\n",
      "\n",
      "Solution count 3: 7.00664 1436.01 6644 \n",
      "\n",
      "Optimal solution found (tolerance 1.00e-04)\n",
      "Best objective 7.006637000000e+00, best bound 7.006636999994e+00, gap 0.0000%\n",
      "\n",
      "User-callback calls 292, time in user-callback 0.00 sec\n",
      " 44.411267 seconds (10.29 M allocations: 3.277 GiB, 38.86% gc time)\n",
      "42\n",
      "2Academic license - for non-commercial use only - expires 2022-07-26\n"
     ]
    },
    {
     "name": "stderr",
     "output_type": "stream",
     "text": [
      "┌ Warning: Passing optimizer attributes as keyword arguments to\n",
      "│ Gurobi.Optimizer is deprecated. Use\n",
      "│     MOI.set(model, MOI.RawParameter(\"key\"), value)\n",
      "│ or\n",
      "│     JuMP.set_optimizer_attribute(model, \"key\", value)\n",
      "│ instead.\n",
      "└ @ Gurobi C:\\Users\\Owner\\.julia\\packages\\Gurobi\\BAtIN\\src\\MOI_wrapper\\MOI_wrapper.jl:273\n"
     ]
    },
    {
     "name": "stdout",
     "output_type": "stream",
     "text": [
      " 21.149090 seconds (56.54 M allocations: 4.365 GiB, 54.65% gc time)\n",
      "Academic license - for non-commercial use only - expires 2022-07-26\n",
      "time for model solution - stochastic 40 ambulances\n",
      "Gurobi Optimizer version 9.1.2 build v9.1.2rc0 (win64)\n",
      "Thread count: 4 physical cores, 8 logical processors, using up to 8 threads\n",
      "Optimize a model with 126799 rows, 4702588 columns and 5902490 nonzeros\n",
      "Model fingerprint: 0xc53b9420\n",
      "Variable types: 0 continuous, 4702588 integer (0 binary)\n",
      "Coefficient statistics:\n",
      "  Matrix range     [1e+00, 1e+00]\n",
      "  Objective range  [1e-06, 1e+00]\n",
      "  Bounds range     [0e+00, 0e+00]\n",
      "  RHS range        [1e+00, 4e+01]\n",
      "Found heuristic solution: objective 6644.0000000\n",
      "Presolve removed 118902 rows and 4684892 columns\n",
      "Presolve time: 4.31s\n",
      "Presolved: 7897 rows, 17696 columns, 40111 nonzeros\n",
      "Found heuristic solution: objective 1437.0052070\n",
      "Variable types: 0 continuous, 17696 integer (7188 binary)\n",
      "\n",
      "Root simplex log...\n",
      "\n",
      "Iteration    Objective       Primal Inf.    Dual Inf.      Time\n",
      "       0   -8.9963260e+00   2.689500e+03   0.000000e+00      5s\n",
      "    4901    5.0066390e+00   0.000000e+00   0.000000e+00      5s\n",
      "\n",
      "Root relaxation: objective 5.006639e+00, 4901 iterations, 0.05 seconds\n",
      "\n",
      "    Nodes    |    Current Node    |     Objective Bounds      |     Work\n",
      " Expl Unexpl |  Obj  Depth IntInf | Incumbent    BestBd   Gap | It/Node Time\n",
      "\n",
      "*    0     0               0       5.0066390    5.00664  0.00%     -    5s\n",
      "\n",
      "Explored 0 nodes (4901 simplex iterations) in 5.47 seconds\n",
      "Thread count was 8 (of 8 available processors)\n",
      "\n",
      "Solution count 3: 5.00664 1437.01 6644 \n",
      "\n",
      "Optimal solution found (tolerance 1.00e-04)\n",
      "Best objective 5.006639000000e+00, best bound 5.006638999994e+00, gap 0.0000%\n",
      "\n",
      "User-callback calls 294, time in user-callback 0.00 sec\n",
      " 44.352299 seconds (10.29 M allocations: 3.277 GiB, 38.98% gc time)\n",
      "43\n",
      "3Academic license - for non-commercial use only - expires 2022-07-26\n"
     ]
    },
    {
     "name": "stderr",
     "output_type": "stream",
     "text": [
      "┌ Warning: Passing optimizer attributes as keyword arguments to\n",
      "│ Gurobi.Optimizer is deprecated. Use\n",
      "│     MOI.set(model, MOI.RawParameter(\"key\"), value)\n",
      "│ or\n",
      "│     JuMP.set_optimizer_attribute(model, \"key\", value)\n",
      "│ instead.\n",
      "└ @ Gurobi C:\\Users\\Owner\\.julia\\packages\\Gurobi\\BAtIN\\src\\MOI_wrapper\\MOI_wrapper.jl:273\n"
     ]
    },
    {
     "name": "stdout",
     "output_type": "stream",
     "text": [
      " 19.408817 seconds (56.54 M allocations: 4.365 GiB, 54.44% gc time)\n",
      "Academic license - for non-commercial use only - expires 2022-07-26\n",
      "time for model solution - stochastic 40 ambulances\n",
      "Gurobi Optimizer version 9.1.2 build v9.1.2rc0 (win64)\n",
      "Thread count: 4 physical cores, 8 logical processors, using up to 8 threads\n",
      "Optimize a model with 126799 rows, 4702588 columns and 5902490 nonzeros\n",
      "Model fingerprint: 0xe620fe95\n",
      "Variable types: 0 continuous, 4702588 integer (0 binary)\n",
      "Coefficient statistics:\n",
      "  Matrix range     [1e+00, 1e+00]\n",
      "  Objective range  [1e-06, 1e+00]\n",
      "  Bounds range     [0e+00, 0e+00]\n",
      "  RHS range        [1e+00, 4e+01]\n",
      "Found heuristic solution: objective 6644.0000000\n",
      "Presolve removed 118902 rows and 4684892 columns\n",
      "Presolve time: 3.89s\n",
      "Presolved: 7897 rows, 17696 columns, 40111 nonzeros\n",
      "Found heuristic solution: objective 1435.0052090\n",
      "Variable types: 0 continuous, 17696 integer (7188 binary)\n",
      "\n",
      "Root relaxation: objective 4.006640e+00, 5135 iterations, 0.03 seconds\n",
      "\n",
      "    Nodes    |    Current Node    |     Objective Bounds      |     Work\n",
      " Expl Unexpl |  Obj  Depth IntInf | Incumbent    BestBd   Gap | It/Node Time\n",
      "\n",
      "*    0     0               0       4.0066400    4.00664  0.00%     -    4s\n",
      "\n",
      "Explored 0 nodes (5135 simplex iterations) in 4.89 seconds\n",
      "Thread count was 8 (of 8 available processors)\n",
      "\n",
      "Solution count 3: 4.00664 1435.01 6644 \n",
      "\n",
      "Optimal solution found (tolerance 1.00e-04)\n",
      "Best objective 4.006640000000e+00, best bound 4.006639999994e+00, gap 0.0000%\n",
      "\n",
      "User-callback calls 277, time in user-callback 0.00 sec\n",
      " 44.145053 seconds (10.29 M allocations: 3.277 GiB, 39.55% gc time)\n",
      "44\n",
      "4Academic license - for non-commercial use only - expires 2022-07-26\n"
     ]
    },
    {
     "name": "stderr",
     "output_type": "stream",
     "text": [
      "┌ Warning: Passing optimizer attributes as keyword arguments to\n",
      "│ Gurobi.Optimizer is deprecated. Use\n",
      "│     MOI.set(model, MOI.RawParameter(\"key\"), value)\n",
      "│ or\n",
      "│     JuMP.set_optimizer_attribute(model, \"key\", value)\n",
      "│ instead.\n",
      "└ @ Gurobi C:\\Users\\Owner\\.julia\\packages\\Gurobi\\BAtIN\\src\\MOI_wrapper\\MOI_wrapper.jl:273\n"
     ]
    },
    {
     "name": "stdout",
     "output_type": "stream",
     "text": [
      " 19.365617 seconds (56.54 M allocations: 4.366 GiB, 54.82% gc time)\n",
      "Academic license - for non-commercial use only - expires 2022-07-26\n",
      "time for model solution - stochastic 40 ambulances\n",
      "Gurobi Optimizer version 9.1.2 build v9.1.2rc0 (win64)\n",
      "Thread count: 4 physical cores, 8 logical processors, using up to 8 threads\n",
      "Optimize a model with 126799 rows, 4702588 columns and 5902490 nonzeros\n",
      "Model fingerprint: 0x58bbd43b\n",
      "Variable types: 0 continuous, 4702588 integer (0 binary)\n",
      "Coefficient statistics:\n",
      "  Matrix range     [1e+00, 1e+00]\n",
      "  Objective range  [1e-06, 1e+00]\n",
      "  Bounds range     [0e+00, 0e+00]\n",
      "  RHS range        [1e+00, 5e+01]\n",
      "Found heuristic solution: objective 6644.0000000\n",
      "Presolve removed 118902 rows and 4684892 columns\n",
      "Presolve time: 3.96s\n",
      "Presolved: 7897 rows, 17696 columns, 40111 nonzeros\n",
      "Found heuristic solution: objective 1435.0052090\n",
      "Variable types: 0 continuous, 17696 integer (7188 binary)\n",
      "\n",
      "Root relaxation: objective 3.006641e+00, 5041 iterations, 0.06 seconds\n",
      "\n",
      "    Nodes    |    Current Node    |     Objective Bounds      |     Work\n",
      " Expl Unexpl |  Obj  Depth IntInf | Incumbent    BestBd   Gap | It/Node Time\n",
      "\n",
      "*    0     0               0       3.0066410    3.00664  0.00%     -    4s\n",
      "\n",
      "Explored 0 nodes (5041 simplex iterations) in 5.02 seconds\n",
      "Thread count was 8 (of 8 available processors)\n",
      "\n",
      "Solution count 3: 3.00664 1435.01 6644 \n",
      "\n",
      "Optimal solution found (tolerance 1.00e-04)\n",
      "Best objective 3.006641000000e+00, best bound 3.006640999994e+00, gap 0.0000%\n",
      "\n",
      "User-callback calls 274, time in user-callback 0.00 sec\n",
      " 42.749364 seconds (10.29 M allocations: 3.277 GiB, 38.88% gc time)\n",
      "45\n",
      "5"
     ]
    }
   ],
   "source": [
    "#extra ambulance experiment\n",
    "using DelimitedFiles\n",
    "for i in collect(1:5)\n",
    "    @time model2 = StochasticDeployment_hyp(p, extra_amb = i)\n",
    "    set_optimizer(model2.m, Gurobi.Optimizer)\n",
    "    println(\"time for model solution - stochastic $namb ambulances\")\n",
    "    @time AmbulanceDeployment.optimize!(model2, p)\n",
    "    slack = [round(Int,x) for x in JuMP.value.(model2.slack)];\n",
    "    x = [round(Int,x) for x in JuMP.value.(model2.x)];\n",
    "    print(sum(x))\n",
    "    print(\"\\n\")\n",
    "    print(sum(slack))\n",
    "    filename = \"stoch_extra_amb_\" * string(i) * \".csv\"\n",
    "    writedlm(filename,  x, ',')\n",
    "end "
   ]
  },
  {
   "cell_type": "code",
   "execution_count": 12,
   "metadata": {},
   "outputs": [
    {
     "ename": "LoadError",
     "evalue": "\u001b[91msyntax: line break in \":\" expression\u001b[39m",
     "output_type": "error",
     "traceback": [
      "\u001b[91msyntax: line break in \":\" expression\u001b[39m",
      "",
      "Stacktrace:",
      " [1] top-level scope at In[12]:2",
      " [2] include_string(::Function, ::Module, ::String, ::String) at .\\loading.jl:1091"
     ]
    }
   ],
   "source": [
    "if(false):\n",
    "    @time model = deployment_model(p)\n",
    "    set_optimizer(model.m, Gurobi.Optimizer)\n",
    "    println(\"time for model solution - stochastic $namb ambulances\")\n",
    "    @time AmbulanceDeployment.optimize!(model, p)\n",
    "if(true):\n",
    "    @time model2 = StochasticDeployment_hyp(p, extra_amb = 1)\n",
    "    set_optimizer(model2.m, Gurobi.Optimizer)\n",
    "    println(\"time for model solution - stochastic $namb ambulances\")\n",
    "    @time AmbulanceDeployment.optimize!(model2, p)"
   ]
  },
  {
   "cell_type": "code",
   "execution_count": 22,
   "metadata": {},
   "outputs": [
    {
     "data": {
      "text/plain": [
       "44-element Array{Int64,1}:\n",
       " 1\n",
       " 2\n",
       " 1\n",
       " 1\n",
       " 1\n",
       " 0\n",
       " 1\n",
       " 2\n",
       " 2\n",
       " 0\n",
       " 1\n",
       " 0\n",
       " 0\n",
       " ⋮\n",
       " 1\n",
       " 2\n",
       " 0\n",
       " 0\n",
       " 0\n",
       " 0\n",
       " 1\n",
       " 0\n",
       " 1\n",
       " 0\n",
       " 1\n",
       " 1"
      ]
     },
     "execution_count": 22,
     "metadata": {},
     "output_type": "execute_result"
    }
   ],
   "source": [
    "#save julia variable as .csv\n",
    "deployment(model)\n",
    "#or\n",
    "x_save = Array{Int64}(undef, 44)\n",
    "count = 1\n",
    "for x in JuMP.value.(model.x)\n",
    "    x_save[count] = convert(Int,x)\n",
    "    count = count + 1\n",
    "end\n",
    "\n",
    "using DelimitedFiles\n",
    "writedlm(\"stoch_x.csv\",  x_save, ',')\n",
    "x_save"
   ]
  },
  {
   "cell_type": "markdown",
   "metadata": {},
   "source": [
    "#### Save the optimal routing. (Not stationing)"
   ]
  },
  {
   "cell_type": "code",
   "execution_count": 12,
   "metadata": {},
   "outputs": [],
   "source": [
    "#save julia variable as .csv\n",
    "I = size(model.y)[1]\n",
    "J = size(model.y)[2]\n",
    "K = size(model.y)[3]\n",
    "y_save = Array{Int64}(undef, I,J,K)\n",
    "for i in 1:I\n",
    "    for j in 1:J\n",
    "        for k in 1:K\n",
    "            y_save[i,j,k] = convert(Int,JuMP.value.(model.y[i,j,k]))\n",
    "        end\n",
    "    end\n",
    "end\n",
    "\n"
   ]
  },
  {
   "cell_type": "code",
   "execution_count": 13,
   "metadata": {},
   "outputs": [],
   "source": [
    "using DelimitedFiles\n",
    "writedlm( \"stoch_y.csv\",  y_save, ',')"
   ]
  },
  {
   "cell_type": "code",
   "execution_count": 14,
   "metadata": {},
   "outputs": [
    {
     "name": "stdout",
     "output_type": "stream",
     "text": [
      "6.0"
     ]
    }
   ],
   "source": [
    "print(sum(JuMP.value.(model.y[:,:,100])))"
   ]
  },
  {
   "cell_type": "code",
   "execution_count": 15,
   "metadata": {},
   "outputs": [
    {
     "data": {
      "text/html": [
       "<table class=\"data-frame\"><thead><tr><th></th><th>x1</th><th>x2</th><th>x3</th><th>x4</th><th>x5</th><th>x6</th><th>x7</th><th>x8</th><th>x9</th><th>x10</th><th>x11</th><th>x12</th></tr><tr><th></th><th>Int64</th><th>Int64</th><th>Int64</th><th>Int64</th><th>Int64</th><th>Int64</th><th>Int64</th><th>Int64</th><th>Int64</th><th>Int64</th><th>Int64</th><th>Int64</th></tr></thead><tbody><p>44 rows × 209 columns (omitted printing of 197 columns)</p><tr><th>1</th><td>0</td><td>0</td><td>0</td><td>0</td><td>0</td><td>0</td><td>0</td><td>0</td><td>0</td><td>0</td><td>0</td><td>0</td></tr><tr><th>2</th><td>0</td><td>0</td><td>0</td><td>0</td><td>0</td><td>0</td><td>0</td><td>0</td><td>0</td><td>0</td><td>0</td><td>0</td></tr><tr><th>3</th><td>0</td><td>0</td><td>0</td><td>0</td><td>0</td><td>0</td><td>0</td><td>0</td><td>0</td><td>0</td><td>0</td><td>0</td></tr><tr><th>4</th><td>0</td><td>0</td><td>0</td><td>0</td><td>0</td><td>0</td><td>0</td><td>0</td><td>0</td><td>0</td><td>0</td><td>0</td></tr><tr><th>5</th><td>0</td><td>0</td><td>0</td><td>0</td><td>0</td><td>0</td><td>0</td><td>0</td><td>0</td><td>0</td><td>0</td><td>0</td></tr><tr><th>6</th><td>0</td><td>0</td><td>0</td><td>0</td><td>0</td><td>0</td><td>0</td><td>0</td><td>0</td><td>0</td><td>0</td><td>0</td></tr><tr><th>7</th><td>0</td><td>0</td><td>0</td><td>0</td><td>0</td><td>0</td><td>0</td><td>0</td><td>0</td><td>0</td><td>0</td><td>0</td></tr><tr><th>8</th><td>0</td><td>0</td><td>0</td><td>0</td><td>0</td><td>0</td><td>0</td><td>0</td><td>0</td><td>0</td><td>0</td><td>0</td></tr><tr><th>9</th><td>0</td><td>0</td><td>0</td><td>0</td><td>0</td><td>0</td><td>0</td><td>0</td><td>0</td><td>0</td><td>0</td><td>0</td></tr><tr><th>10</th><td>0</td><td>0</td><td>0</td><td>0</td><td>0</td><td>0</td><td>0</td><td>0</td><td>0</td><td>0</td><td>0</td><td>0</td></tr><tr><th>11</th><td>0</td><td>0</td><td>0</td><td>0</td><td>0</td><td>0</td><td>0</td><td>0</td><td>0</td><td>0</td><td>0</td><td>0</td></tr><tr><th>12</th><td>0</td><td>0</td><td>0</td><td>0</td><td>0</td><td>0</td><td>0</td><td>0</td><td>0</td><td>0</td><td>0</td><td>0</td></tr><tr><th>13</th><td>0</td><td>0</td><td>0</td><td>0</td><td>0</td><td>0</td><td>0</td><td>0</td><td>0</td><td>0</td><td>0</td><td>0</td></tr><tr><th>14</th><td>0</td><td>0</td><td>0</td><td>0</td><td>0</td><td>0</td><td>0</td><td>0</td><td>0</td><td>0</td><td>0</td><td>0</td></tr><tr><th>15</th><td>0</td><td>0</td><td>0</td><td>0</td><td>0</td><td>0</td><td>0</td><td>0</td><td>0</td><td>0</td><td>0</td><td>0</td></tr><tr><th>16</th><td>0</td><td>0</td><td>0</td><td>0</td><td>0</td><td>0</td><td>0</td><td>0</td><td>0</td><td>0</td><td>0</td><td>0</td></tr><tr><th>17</th><td>0</td><td>0</td><td>0</td><td>0</td><td>0</td><td>0</td><td>0</td><td>0</td><td>0</td><td>0</td><td>0</td><td>0</td></tr><tr><th>18</th><td>0</td><td>0</td><td>0</td><td>0</td><td>0</td><td>0</td><td>0</td><td>0</td><td>0</td><td>0</td><td>0</td><td>0</td></tr><tr><th>19</th><td>0</td><td>0</td><td>0</td><td>0</td><td>0</td><td>0</td><td>0</td><td>0</td><td>0</td><td>0</td><td>0</td><td>0</td></tr><tr><th>20</th><td>0</td><td>0</td><td>0</td><td>0</td><td>0</td><td>0</td><td>0</td><td>0</td><td>0</td><td>0</td><td>0</td><td>0</td></tr><tr><th>21</th><td>0</td><td>0</td><td>0</td><td>0</td><td>0</td><td>0</td><td>0</td><td>0</td><td>0</td><td>0</td><td>0</td><td>0</td></tr><tr><th>22</th><td>0</td><td>0</td><td>0</td><td>0</td><td>0</td><td>0</td><td>0</td><td>0</td><td>0</td><td>0</td><td>0</td><td>0</td></tr><tr><th>23</th><td>0</td><td>0</td><td>0</td><td>0</td><td>0</td><td>0</td><td>0</td><td>0</td><td>0</td><td>0</td><td>0</td><td>0</td></tr><tr><th>24</th><td>0</td><td>0</td><td>0</td><td>0</td><td>0</td><td>0</td><td>0</td><td>0</td><td>0</td><td>0</td><td>0</td><td>0</td></tr><tr><th>25</th><td>0</td><td>0</td><td>0</td><td>0</td><td>0</td><td>0</td><td>0</td><td>0</td><td>0</td><td>0</td><td>0</td><td>0</td></tr><tr><th>26</th><td>0</td><td>0</td><td>0</td><td>0</td><td>0</td><td>0</td><td>0</td><td>0</td><td>0</td><td>0</td><td>0</td><td>0</td></tr><tr><th>27</th><td>0</td><td>0</td><td>0</td><td>0</td><td>0</td><td>0</td><td>0</td><td>0</td><td>0</td><td>0</td><td>0</td><td>0</td></tr><tr><th>28</th><td>0</td><td>0</td><td>0</td><td>0</td><td>0</td><td>0</td><td>0</td><td>0</td><td>0</td><td>0</td><td>0</td><td>0</td></tr><tr><th>29</th><td>0</td><td>0</td><td>0</td><td>0</td><td>0</td><td>0</td><td>0</td><td>0</td><td>0</td><td>0</td><td>0</td><td>0</td></tr><tr><th>30</th><td>0</td><td>0</td><td>0</td><td>0</td><td>0</td><td>0</td><td>0</td><td>0</td><td>0</td><td>0</td><td>0</td><td>0</td></tr><tr><th>&vellip;</th><td>&vellip;</td><td>&vellip;</td><td>&vellip;</td><td>&vellip;</td><td>&vellip;</td><td>&vellip;</td><td>&vellip;</td><td>&vellip;</td><td>&vellip;</td><td>&vellip;</td><td>&vellip;</td><td>&vellip;</td></tr></tbody></table>"
      ],
      "text/latex": [
       "\\begin{tabular}{r|ccccccccccccc}\n",
       "\t& x1 & x2 & x3 & x4 & x5 & x6 & x7 & x8 & x9 & x10 & x11 & x12 & \\\\\n",
       "\t\\hline\n",
       "\t& Int64 & Int64 & Int64 & Int64 & Int64 & Int64 & Int64 & Int64 & Int64 & Int64 & Int64 & Int64 & \\\\\n",
       "\t\\hline\n",
       "\t1 & 0 & 0 & 0 & 0 & 0 & 0 & 0 & 0 & 0 & 0 & 0 & 0 & $\\dots$ \\\\\n",
       "\t2 & 0 & 0 & 0 & 0 & 0 & 0 & 0 & 0 & 0 & 0 & 0 & 0 & $\\dots$ \\\\\n",
       "\t3 & 0 & 0 & 0 & 0 & 0 & 0 & 0 & 0 & 0 & 0 & 0 & 0 & $\\dots$ \\\\\n",
       "\t4 & 0 & 0 & 0 & 0 & 0 & 0 & 0 & 0 & 0 & 0 & 0 & 0 & $\\dots$ \\\\\n",
       "\t5 & 0 & 0 & 0 & 0 & 0 & 0 & 0 & 0 & 0 & 0 & 0 & 0 & $\\dots$ \\\\\n",
       "\t6 & 0 & 0 & 0 & 0 & 0 & 0 & 0 & 0 & 0 & 0 & 0 & 0 & $\\dots$ \\\\\n",
       "\t7 & 0 & 0 & 0 & 0 & 0 & 0 & 0 & 0 & 0 & 0 & 0 & 0 & $\\dots$ \\\\\n",
       "\t8 & 0 & 0 & 0 & 0 & 0 & 0 & 0 & 0 & 0 & 0 & 0 & 0 & $\\dots$ \\\\\n",
       "\t9 & 0 & 0 & 0 & 0 & 0 & 0 & 0 & 0 & 0 & 0 & 0 & 0 & $\\dots$ \\\\\n",
       "\t10 & 0 & 0 & 0 & 0 & 0 & 0 & 0 & 0 & 0 & 0 & 0 & 0 & $\\dots$ \\\\\n",
       "\t11 & 0 & 0 & 0 & 0 & 0 & 0 & 0 & 0 & 0 & 0 & 0 & 0 & $\\dots$ \\\\\n",
       "\t12 & 0 & 0 & 0 & 0 & 0 & 0 & 0 & 0 & 0 & 0 & 0 & 0 & $\\dots$ \\\\\n",
       "\t13 & 0 & 0 & 0 & 0 & 0 & 0 & 0 & 0 & 0 & 0 & 0 & 0 & $\\dots$ \\\\\n",
       "\t14 & 0 & 0 & 0 & 0 & 0 & 0 & 0 & 0 & 0 & 0 & 0 & 0 & $\\dots$ \\\\\n",
       "\t15 & 0 & 0 & 0 & 0 & 0 & 0 & 0 & 0 & 0 & 0 & 0 & 0 & $\\dots$ \\\\\n",
       "\t16 & 0 & 0 & 0 & 0 & 0 & 0 & 0 & 0 & 0 & 0 & 0 & 0 & $\\dots$ \\\\\n",
       "\t17 & 0 & 0 & 0 & 0 & 0 & 0 & 0 & 0 & 0 & 0 & 0 & 0 & $\\dots$ \\\\\n",
       "\t18 & 0 & 0 & 0 & 0 & 0 & 0 & 0 & 0 & 0 & 0 & 0 & 0 & $\\dots$ \\\\\n",
       "\t19 & 0 & 0 & 0 & 0 & 0 & 0 & 0 & 0 & 0 & 0 & 0 & 0 & $\\dots$ \\\\\n",
       "\t20 & 0 & 0 & 0 & 0 & 0 & 0 & 0 & 0 & 0 & 0 & 0 & 0 & $\\dots$ \\\\\n",
       "\t21 & 0 & 0 & 0 & 0 & 0 & 0 & 0 & 0 & 0 & 0 & 0 & 0 & $\\dots$ \\\\\n",
       "\t22 & 0 & 0 & 0 & 0 & 0 & 0 & 0 & 0 & 0 & 0 & 0 & 0 & $\\dots$ \\\\\n",
       "\t23 & 0 & 0 & 0 & 0 & 0 & 0 & 0 & 0 & 0 & 0 & 0 & 0 & $\\dots$ \\\\\n",
       "\t24 & 0 & 0 & 0 & 0 & 0 & 0 & 0 & 0 & 0 & 0 & 0 & 0 & $\\dots$ \\\\\n",
       "\t25 & 0 & 0 & 0 & 0 & 0 & 0 & 0 & 0 & 0 & 0 & 0 & 0 & $\\dots$ \\\\\n",
       "\t26 & 0 & 0 & 0 & 0 & 0 & 0 & 0 & 0 & 0 & 0 & 0 & 0 & $\\dots$ \\\\\n",
       "\t27 & 0 & 0 & 0 & 0 & 0 & 0 & 0 & 0 & 0 & 0 & 0 & 0 & $\\dots$ \\\\\n",
       "\t28 & 0 & 0 & 0 & 0 & 0 & 0 & 0 & 0 & 0 & 0 & 0 & 0 & $\\dots$ \\\\\n",
       "\t29 & 0 & 0 & 0 & 0 & 0 & 0 & 0 & 0 & 0 & 0 & 0 & 0 & $\\dots$ \\\\\n",
       "\t30 & 0 & 0 & 0 & 0 & 0 & 0 & 0 & 0 & 0 & 0 & 0 & 0 & $\\dots$ \\\\\n",
       "\t$\\dots$ & $\\dots$ & $\\dots$ & $\\dots$ & $\\dots$ & $\\dots$ & $\\dots$ & $\\dots$ & $\\dots$ & $\\dots$ & $\\dots$ & $\\dots$ & $\\dots$ &  \\\\\n",
       "\\end{tabular}\n"
      ],
      "text/plain": [
       "44×209 DataFrame. Omitted printing of 200 columns\n",
       "│ Row │ x1    │ x2    │ x3    │ x4    │ x5    │ x6    │ x7    │ x8    │ x9    │\n",
       "│     │ \u001b[90mInt64\u001b[39m │ \u001b[90mInt64\u001b[39m │ \u001b[90mInt64\u001b[39m │ \u001b[90mInt64\u001b[39m │ \u001b[90mInt64\u001b[39m │ \u001b[90mInt64\u001b[39m │ \u001b[90mInt64\u001b[39m │ \u001b[90mInt64\u001b[39m │ \u001b[90mInt64\u001b[39m │\n",
       "├─────┼───────┼───────┼───────┼───────┼───────┼───────┼───────┼───────┼───────┤\n",
       "│ 1   │ 0     │ 0     │ 0     │ 0     │ 0     │ 0     │ 0     │ 0     │ 0     │\n",
       "│ 2   │ 0     │ 0     │ 0     │ 0     │ 0     │ 0     │ 0     │ 0     │ 0     │\n",
       "│ 3   │ 0     │ 0     │ 0     │ 0     │ 0     │ 0     │ 0     │ 0     │ 0     │\n",
       "│ 4   │ 0     │ 0     │ 0     │ 0     │ 0     │ 0     │ 0     │ 0     │ 0     │\n",
       "│ 5   │ 0     │ 0     │ 0     │ 0     │ 0     │ 0     │ 0     │ 0     │ 0     │\n",
       "│ 6   │ 0     │ 0     │ 0     │ 0     │ 0     │ 0     │ 0     │ 0     │ 0     │\n",
       "│ 7   │ 0     │ 0     │ 0     │ 0     │ 0     │ 0     │ 0     │ 0     │ 0     │\n",
       "│ 8   │ 0     │ 0     │ 0     │ 0     │ 0     │ 0     │ 0     │ 0     │ 0     │\n",
       "│ 9   │ 0     │ 0     │ 0     │ 0     │ 0     │ 0     │ 0     │ 0     │ 0     │\n",
       "│ 10  │ 0     │ 0     │ 0     │ 0     │ 0     │ 0     │ 0     │ 0     │ 0     │\n",
       "⋮\n",
       "│ 34  │ 0     │ 0     │ 0     │ 0     │ 0     │ 0     │ 0     │ 0     │ 0     │\n",
       "│ 35  │ 0     │ 0     │ 0     │ 0     │ 0     │ 0     │ 0     │ 0     │ 0     │\n",
       "│ 36  │ 0     │ 0     │ 0     │ 0     │ 0     │ 0     │ 0     │ 0     │ 0     │\n",
       "│ 37  │ 0     │ 0     │ 0     │ 0     │ 0     │ 0     │ 0     │ 0     │ 0     │\n",
       "│ 38  │ 0     │ 0     │ 0     │ 0     │ 0     │ 0     │ 0     │ 0     │ 0     │\n",
       "│ 39  │ 0     │ 0     │ 0     │ 0     │ 0     │ 0     │ 0     │ 0     │ 0     │\n",
       "│ 40  │ 0     │ 0     │ 0     │ 0     │ 0     │ 0     │ 0     │ 0     │ 0     │\n",
       "│ 41  │ 0     │ 0     │ 0     │ 0     │ 0     │ 0     │ 0     │ 0     │ 0     │\n",
       "│ 42  │ 0     │ 0     │ 0     │ 0     │ 0     │ 0     │ 0     │ 0     │ 0     │\n",
       "│ 43  │ 0     │ 0     │ 0     │ 0     │ 0     │ 0     │ 0     │ 0     │ 0     │\n",
       "│ 44  │ 0     │ 0     │ 0     │ 0     │ 0     │ 0     │ 0     │ 0     │ 0     │"
      ]
     },
     "execution_count": 15,
     "metadata": {},
     "output_type": "execute_result"
    }
   ],
   "source": [
    "d = convert(DataFrame,y_save[:,:,1])"
   ]
  },
  {
   "cell_type": "code",
   "execution_count": 16,
   "metadata": {
    "scrolled": false
   },
   "outputs": [
    {
     "data": {
      "text/plain": [
       "31"
      ]
     },
     "execution_count": 16,
     "metadata": {},
     "output_type": "execute_result"
    }
   ],
   "source": [
    "sum(y_save[:,:,2])\n"
   ]
  },
  {
   "cell_type": "code",
   "execution_count": 17,
   "metadata": {},
   "outputs": [
    {
     "ename": "LoadError",
     "evalue": "\u001b[91mUndefVarError: json_string not defined\u001b[39m",
     "output_type": "error",
     "traceback": [
      "\u001b[91mUndefVarError: json_string not defined\u001b[39m",
      "",
      "Stacktrace:",
      " [1] (::var\"#3#4\")(::IOStream) at .\\In[17]:2",
      " [2] open(::var\"#3#4\", ::String, ::Vararg{String,N} where N; kwargs::Base.Iterators.Pairs{Union{},Union{},Tuple{},NamedTuple{(),Tuple{}}}) at .\\io.jl:325",
      " [3] open(::Function, ::String, ::String) at .\\io.jl:323",
      " [4] top-level scope at In[17]:1",
      " [5] include_string(::Function, ::Module, ::String, ::String) at .\\loading.jl:1091"
     ]
    }
   ],
   "source": [
    "open(\"stoch_y.json\",\"w\") do f\n",
    "    write(f, json_string)\n",
    "end"
   ]
  },
  {
   "cell_type": "code",
   "execution_count": 18,
   "metadata": {},
   "outputs": [
    {
     "name": "stderr",
     "output_type": "stream",
     "text": [
      "\u001b[32m\u001b[1m  Resolving\u001b[22m\u001b[39m package versions...\n",
      "\u001b[32m\u001b[1mNo Changes\u001b[22m\u001b[39m to `C:\\Users\\Owner\\Documents\\Austin\\AmbulanceDeployment\\AmbulanceDeployment.jl-legacy\\Project.toml`\n",
      "\u001b[32m\u001b[1mNo Changes\u001b[22m\u001b[39m to `C:\\Users\\Owner\\Documents\\Austin\\AmbulanceDeployment\\AmbulanceDeployment.jl-legacy\\Manifest.toml`\n"
     ]
    }
   ],
   "source": [
    "Pkg.add(\"NPZ\")"
   ]
  },
  {
   "cell_type": "code",
   "execution_count": 19,
   "metadata": {},
   "outputs": [],
   "source": [
    "using NPZ\n",
    "npzwrite(\"stoch_y.npz\",y_save)"
   ]
  },
  {
   "cell_type": "code",
   "execution_count": null,
   "metadata": {},
   "outputs": [],
   "source": []
  }
 ],
 "metadata": {
  "kernelspec": {
   "display_name": "Julia 1.5.2",
   "language": "julia",
   "name": "julia-1.5"
  },
  "language_info": {
   "file_extension": ".jl",
   "mimetype": "application/julia",
   "name": "julia",
   "version": "1.5.2"
  }
 },
 "nbformat": 4,
 "nbformat_minor": 2
}

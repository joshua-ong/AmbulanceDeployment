{
 "cells": [
  {
   "cell_type": "markdown",
   "metadata": {},
   "source": [
    "Author: Joshua\n",
    "Summary: Run a single instance of the two stage stochastic program"
   ]
  },
  {
   "cell_type": "code",
   "execution_count": 16,
   "metadata": {},
   "outputs": [
    {
     "name": "stderr",
     "output_type": "stream",
     "text": [
      "\u001b[32m\u001b[1m  Resolving\u001b[22m\u001b[39m package versions...\n",
      "\u001b[32m\u001b[1mNo Changes\u001b[22m\u001b[39m to `C:\\Users\\Owner\\Documents\\Austin\\AmbulanceDeployment\\AmbulanceDeployment.jl-legacy\\Project.toml`\n",
      "\u001b[32m\u001b[1mNo Changes\u001b[22m\u001b[39m to `C:\\Users\\Owner\\Documents\\Austin\\AmbulanceDeployment\\AmbulanceDeployment.jl-legacy\\Manifest.toml`\n",
      "\u001b[32m\u001b[1m  Resolving\u001b[22m\u001b[39m package versions...\n",
      "\u001b[32m\u001b[1mNo Changes\u001b[22m\u001b[39m to `C:\\Users\\Owner\\Documents\\Austin\\AmbulanceDeployment\\AmbulanceDeployment.jl-legacy\\Project.toml`\n",
      "\u001b[32m\u001b[1mNo Changes\u001b[22m\u001b[39m to `C:\\Users\\Owner\\Documents\\Austin\\AmbulanceDeployment\\AmbulanceDeployment.jl-legacy\\Manifest.toml`\n",
      "\u001b[32m\u001b[1m Activating\u001b[22m\u001b[39m environment at `C:\\Users\\Owner\\Documents\\Austin\\AmbulanceDeployment\\AmbulanceDeployment.jl-legacy\\Project.toml`\n"
     ]
    }
   ],
   "source": [
    "using Pkg\n",
    "Pkg.add(\"Pkg\")\n",
    "Pkg.add(\"Dates\")\n",
    "\n",
    "joshpath = \"C:/Users/Owner/Documents/Austin/AmbulanceDeployment/AmbulanceDeployment.jl-legacy\"\n",
    "\n",
    "PROJECT_ROOT = joshpath\n",
    "currentpath = joshpath\n",
    "\n",
    "cd(currentpath)\n",
    "Pkg.activate(\".\")\n",
    "\n",
    "#include(\".//src//problem.jl\")\n",
    "#include(\".//src//model.jl\")\n",
    "\n",
    "using AmbulanceDeployment \n",
    "using DataFrames, Winston, JLD, CSV, Gurobi, JuMP, GLPK, Dates"
   ]
  },
  {
   "cell_type": "code",
   "execution_count": 31,
   "metadata": {},
   "outputs": [
    {
     "data": {
      "text/html": [
       "<table class=\"data-frame\"><thead><tr><th></th><th>arrival_seconds</th><th>interarrival_seconds</th><th>neighborhood</th><th>dow</th><th>stn1_min</th><th>stn2_min</th></tr><tr><th></th><th>Int64</th><th>Int64</th><th>Int64</th><th>String</th><th>Float64</th><th>Float64</th></tr></thead><tbody><p>210,107 rows × 66 columns (omitted printing of 60 columns)</p><tr><th>1</th><td>0</td><td>0</td><td>56</td><td>Tue</td><td>556.96</td><td>1157.5</td></tr><tr><th>2</th><td>96</td><td>96</td><td>89</td><td>Tue</td><td>549.45</td><td>1480.94</td></tr><tr><th>3</th><td>332</td><td>236</td><td>89</td><td>Tue</td><td>637.8</td><td>1569.29</td></tr><tr><th>4</th><td>570</td><td>238</td><td>56</td><td>Tue</td><td>602.27</td><td>1123.65</td></tr><tr><th>5</th><td>600</td><td>30</td><td>72</td><td>Tue</td><td>280.01</td><td>1390.22</td></tr><tr><th>6</th><td>743</td><td>143</td><td>105</td><td>Tue</td><td>747.22</td><td>1678.7</td></tr><tr><th>7</th><td>896</td><td>153</td><td>72</td><td>Tue</td><td>407.23</td><td>1243.2</td></tr><tr><th>8</th><td>987</td><td>91</td><td>89</td><td>Tue</td><td>637.8</td><td>1569.29</td></tr><tr><th>9</th><td>988</td><td>1</td><td>72</td><td>Tue</td><td>223.54</td><td>1192.61</td></tr><tr><th>10</th><td>991</td><td>3</td><td>89</td><td>Tue</td><td>637.8</td><td>1569.29</td></tr><tr><th>11</th><td>1202</td><td>211</td><td>105</td><td>Tue</td><td>938.66</td><td>1870.14</td></tr><tr><th>12</th><td>1279</td><td>77</td><td>72</td><td>Tue</td><td>223.54</td><td>1192.61</td></tr><tr><th>13</th><td>1397</td><td>118</td><td>42</td><td>Tue</td><td>1305.92</td><td>1817.72</td></tr><tr><th>14</th><td>1486</td><td>89</td><td>122</td><td>Tue</td><td>1465.23</td><td>2396.72</td></tr><tr><th>15</th><td>1495</td><td>9</td><td>72</td><td>Tue</td><td>407.23</td><td>1243.2</td></tr><tr><th>16</th><td>1652</td><td>157</td><td>72</td><td>Tue</td><td>407.23</td><td>1243.2</td></tr><tr><th>17</th><td>1735</td><td>83</td><td>72</td><td>Tue</td><td>154.29</td><td>1219.62</td></tr><tr><th>18</th><td>1963</td><td>228</td><td>38</td><td>Tue</td><td>1142.47</td><td>455.49</td></tr><tr><th>19</th><td>2007</td><td>44</td><td>104</td><td>Tue</td><td>925.46</td><td>1678.98</td></tr><tr><th>20</th><td>2244</td><td>237</td><td>53</td><td>Tue</td><td>1259.54</td><td>879.66</td></tr><tr><th>21</th><td>2545</td><td>301</td><td>120</td><td>Tue</td><td>1110.81</td><td>1691.87</td></tr><tr><th>22</th><td>2656</td><td>111</td><td>23</td><td>Tue</td><td>865.32</td><td>651.61</td></tr><tr><th>23</th><td>2697</td><td>41</td><td>72</td><td>Tue</td><td>223.54</td><td>1192.61</td></tr><tr><th>24</th><td>2757</td><td>60</td><td>120</td><td>Tue</td><td>1067.93</td><td>1630.49</td></tr><tr><th>25</th><td>2812</td><td>55</td><td>122</td><td>Tue</td><td>1123.65</td><td>2055.14</td></tr><tr><th>26</th><td>2818</td><td>6</td><td>72</td><td>Tue</td><td>223.54</td><td>1192.61</td></tr><tr><th>27</th><td>2830</td><td>12</td><td>72</td><td>Tue</td><td>486.28</td><td>1280.92</td></tr><tr><th>28</th><td>3363</td><td>533</td><td>72</td><td>Tue</td><td>223.54</td><td>1192.61</td></tr><tr><th>29</th><td>3588</td><td>225</td><td>38</td><td>Tue</td><td>1180.26</td><td>552.68</td></tr><tr><th>30</th><td>3642</td><td>54</td><td>-8</td><td>Tue</td><td>0.0</td><td>0.0</td></tr><tr><th>&vellip;</th><td>&vellip;</td><td>&vellip;</td><td>&vellip;</td><td>&vellip;</td><td>&vellip;</td><td>&vellip;</td></tr></tbody></table>"
      ],
      "text/latex": [
       "\\begin{tabular}{r|ccccccc}\n",
       "\t& arrival\\_seconds & interarrival\\_seconds & neighborhood & dow & stn1\\_min & stn2\\_min & \\\\\n",
       "\t\\hline\n",
       "\t& Int64 & Int64 & Int64 & String & Float64 & Float64 & \\\\\n",
       "\t\\hline\n",
       "\t1 & 0 & 0 & 56 & Tue & 556.96 & 1157.5 & $\\dots$ \\\\\n",
       "\t2 & 96 & 96 & 89 & Tue & 549.45 & 1480.94 & $\\dots$ \\\\\n",
       "\t3 & 332 & 236 & 89 & Tue & 637.8 & 1569.29 & $\\dots$ \\\\\n",
       "\t4 & 570 & 238 & 56 & Tue & 602.27 & 1123.65 & $\\dots$ \\\\\n",
       "\t5 & 600 & 30 & 72 & Tue & 280.01 & 1390.22 & $\\dots$ \\\\\n",
       "\t6 & 743 & 143 & 105 & Tue & 747.22 & 1678.7 & $\\dots$ \\\\\n",
       "\t7 & 896 & 153 & 72 & Tue & 407.23 & 1243.2 & $\\dots$ \\\\\n",
       "\t8 & 987 & 91 & 89 & Tue & 637.8 & 1569.29 & $\\dots$ \\\\\n",
       "\t9 & 988 & 1 & 72 & Tue & 223.54 & 1192.61 & $\\dots$ \\\\\n",
       "\t10 & 991 & 3 & 89 & Tue & 637.8 & 1569.29 & $\\dots$ \\\\\n",
       "\t11 & 1202 & 211 & 105 & Tue & 938.66 & 1870.14 & $\\dots$ \\\\\n",
       "\t12 & 1279 & 77 & 72 & Tue & 223.54 & 1192.61 & $\\dots$ \\\\\n",
       "\t13 & 1397 & 118 & 42 & Tue & 1305.92 & 1817.72 & $\\dots$ \\\\\n",
       "\t14 & 1486 & 89 & 122 & Tue & 1465.23 & 2396.72 & $\\dots$ \\\\\n",
       "\t15 & 1495 & 9 & 72 & Tue & 407.23 & 1243.2 & $\\dots$ \\\\\n",
       "\t16 & 1652 & 157 & 72 & Tue & 407.23 & 1243.2 & $\\dots$ \\\\\n",
       "\t17 & 1735 & 83 & 72 & Tue & 154.29 & 1219.62 & $\\dots$ \\\\\n",
       "\t18 & 1963 & 228 & 38 & Tue & 1142.47 & 455.49 & $\\dots$ \\\\\n",
       "\t19 & 2007 & 44 & 104 & Tue & 925.46 & 1678.98 & $\\dots$ \\\\\n",
       "\t20 & 2244 & 237 & 53 & Tue & 1259.54 & 879.66 & $\\dots$ \\\\\n",
       "\t21 & 2545 & 301 & 120 & Tue & 1110.81 & 1691.87 & $\\dots$ \\\\\n",
       "\t22 & 2656 & 111 & 23 & Tue & 865.32 & 651.61 & $\\dots$ \\\\\n",
       "\t23 & 2697 & 41 & 72 & Tue & 223.54 & 1192.61 & $\\dots$ \\\\\n",
       "\t24 & 2757 & 60 & 120 & Tue & 1067.93 & 1630.49 & $\\dots$ \\\\\n",
       "\t25 & 2812 & 55 & 122 & Tue & 1123.65 & 2055.14 & $\\dots$ \\\\\n",
       "\t26 & 2818 & 6 & 72 & Tue & 223.54 & 1192.61 & $\\dots$ \\\\\n",
       "\t27 & 2830 & 12 & 72 & Tue & 486.28 & 1280.92 & $\\dots$ \\\\\n",
       "\t28 & 3363 & 533 & 72 & Tue & 223.54 & 1192.61 & $\\dots$ \\\\\n",
       "\t29 & 3588 & 225 & 38 & Tue & 1180.26 & 552.68 & $\\dots$ \\\\\n",
       "\t30 & 3642 & 54 & -8 & Tue & 0.0 & 0.0 & $\\dots$ \\\\\n",
       "\t$\\dots$ & $\\dots$ & $\\dots$ & $\\dots$ & $\\dots$ & $\\dots$ & $\\dots$ &  \\\\\n",
       "\\end{tabular}\n"
      ],
      "text/plain": [
       "210107×66 DataFrame. Omitted printing of 62 columns\n",
       "│ Row    │ arrival_seconds │ interarrival_seconds │ neighborhood │ dow    │\n",
       "│        │ \u001b[90mInt64\u001b[39m           │ \u001b[90mInt64\u001b[39m                │ \u001b[90mInt64\u001b[39m        │ \u001b[90mString\u001b[39m │\n",
       "├────────┼─────────────────┼──────────────────────┼──────────────┼────────┤\n",
       "│ 1      │ 0               │ 0                    │ 56           │ Tue    │\n",
       "│ 2      │ 96              │ 96                   │ 89           │ Tue    │\n",
       "│ 3      │ 332             │ 236                  │ 89           │ Tue    │\n",
       "│ 4      │ 570             │ 238                  │ 56           │ Tue    │\n",
       "│ 5      │ 600             │ 30                   │ 72           │ Tue    │\n",
       "│ 6      │ 743             │ 143                  │ 105          │ Tue    │\n",
       "│ 7      │ 896             │ 153                  │ 72           │ Tue    │\n",
       "│ 8      │ 987             │ 91                   │ 89           │ Tue    │\n",
       "│ 9      │ 988             │ 1                    │ 72           │ Tue    │\n",
       "│ 10     │ 991             │ 3                    │ 89           │ Tue    │\n",
       "⋮\n",
       "│ 210097 │ 51956975        │ 476                  │ 56           │ Mon    │\n",
       "│ 210098 │ 51957091        │ 116                  │ 56           │ Mon    │\n",
       "│ 210099 │ 51957496        │ 405                  │ 72           │ Mon    │\n",
       "│ 210100 │ 51957711        │ 215                  │ 104          │ Mon    │\n",
       "│ 210101 │ 51957754        │ 43                   │ 73           │ Mon    │\n",
       "│ 210102 │ 51957903        │ 149                  │ 72           │ Mon    │\n",
       "│ 210103 │ 51959045        │ 1142                 │ 57           │ Mon    │\n",
       "│ 210104 │ 51959599        │ 554                  │ 55           │ Mon    │\n",
       "│ 210105 │ 51959848        │ 249                  │ 39           │ Mon    │\n",
       "│ 210106 │ 51959908        │ 60                   │ 90           │ Mon    │\n",
       "│ 210107 │ 51960284        │ 376                  │ 88           │ Mon    │"
      ]
     },
     "execution_count": 31,
     "metadata": {},
     "output_type": "execute_result"
    }
   ],
   "source": [
    "# hourly calls - regions x hours x number of calls/ per region per hour (e.g. 210 x 10000 x Z)\n",
    "#adjacent_nbhd - boolean matrix, regionxregion (210x210) - if neighborhoods/region are adjacent?\n",
    "#coverage - boolean matrix, regions x stations (210x44) - true if station is within coverage of region\n",
    "#incidents - god object\n",
    "hourly_calls = CSV.File(PROJECT_ROOT * \"/test/austin-data/Full_WeekdayCalls.csv\") |> DataFrame\n",
    "# weekend_hourly_calls = CSV.File(\"data/processed/2-weekend_calls.csv\") |> DataFrame\n",
    "adjacent_nbhd = CSV.File(PROJECT_ROOT * \"/test/austin-data/adjacent_nbhd.csv\") |> DataFrame\n",
    "coverage = CSV.read(PROJECT_ROOT * \"/test/austin-data/coverage_real.csv\", DataFrame, header=false)\n",
    "coverage = convert(Array{Bool, 2}, coverage[:, :])\n",
    "incidents = CSV.File(PROJECT_ROOT * \"/test/austin-data/austin_incidents.csv\") |> DataFrame"
   ]
  },
  {
   "cell_type": "code",
   "execution_count": 32,
   "metadata": {},
   "outputs": [],
   "source": [
    "#regions - list of regions/neighborhoods where demands come from (1 ... 210)\n",
    "#locations -list of stations (1 ... 44)\n",
    "#demands - hours x regions = demands\n",
    "regions = Int[parse(Int,string(x)) for x in names(hourly_calls[:,6:ncol(hourly_calls)])]\n",
    "locations = collect(1:size(coverage,2))\n",
    "adjacent = convert(Array, adjacent_nbhd[:,2:ncol(adjacent_nbhd)])[regions,regions] .> 0.5\n",
    "demand = convert(Array,hourly_calls[:,6:end]);"
   ]
  },
  {
   "cell_type": "code",
   "execution_count": 19,
   "metadata": {},
   "outputs": [
    {
     "data": {
      "text/plain": [
       "Dict{Int64,Int64} with 209 entries:\n",
       "  11  => 10\n",
       "  134 => 133\n",
       "  158 => 157\n",
       "  160 => 159\n",
       "  29  => 28\n",
       "  131 => 130\n",
       "  207 => 206\n",
       "  173 => 172\n",
       "  74  => 73\n",
       "  201 => 200\n",
       "  176 => 175\n",
       "  57  => 56\n",
       "  31  => 30\n",
       "  70  => 69\n",
       "  33  => 32\n",
       "  114 => 113\n",
       "  165 => 164\n",
       "  96  => 95\n",
       "  133 => 132\n",
       "  49  => 48\n",
       "  84  => 83\n",
       "  117 => 116\n",
       "  93  => 92\n",
       "  50  => 49\n",
       "  77  => 76\n",
       "  ⋮   => ⋮"
      ]
     },
     "execution_count": 19,
     "metadata": {},
     "output_type": "execute_result"
    }
   ],
   "source": [
    "#filter incidents\n",
    "incidents = incidents[.~ismissing.(incidents[!,:stn1_min]), :] # drop 44 calls that were \"unreachable\" (because all stations are reachable from each other)\n",
    "incidents[!,:interarrival_seconds] = [0; incidents[!,:arrival_seconds][2:end] - incidents[!,:arrival_seconds][1:end-1]]\n",
    "incidents[!,:isweekday] .= true\n",
    "incidents[!,:isweekday][incidents[!,:dow] .== \"Sun\"] .= false\n",
    "incidents[!,:isweekday][incidents[!,:dow] .== \"Sat\"] .= false;\n",
    "incidents = incidents[incidents[!,:isweekday],:]\n",
    "\n",
    "regions2index = Dict{Int,Int}(regions[i]=>i for i in 1:length(regions))"
   ]
  },
  {
   "cell_type": "code",
   "execution_count": 20,
   "metadata": {},
   "outputs": [
    {
     "data": {
      "text/html": [
       "<table class=\"data-frame\"><thead><tr><th></th><th>hour</th><th>dow</th><th>month</th><th>year</th><th>neighborhood</th><th>interarrival_seconds</th><th>stn1_min</th><th>stn2_min</th></tr><tr><th></th><th>Int64</th><th>String</th><th>Int64</th><th>Int64</th><th>Int64</th><th>Int64</th><th>Float64</th><th>Float64</th></tr></thead><tbody><p>6 rows × 50 columns (omitted printing of 42 columns)</p><tr><th>1</th><td>0</td><td>Tue</td><td>1</td><td>2019</td><td>55</td><td>0</td><td>556.96</td><td>1157.5</td></tr><tr><th>2</th><td>0</td><td>Tue</td><td>1</td><td>2019</td><td>88</td><td>96</td><td>549.45</td><td>1480.94</td></tr><tr><th>3</th><td>0</td><td>Tue</td><td>1</td><td>2019</td><td>88</td><td>236</td><td>637.8</td><td>1569.29</td></tr><tr><th>4</th><td>0</td><td>Tue</td><td>1</td><td>2019</td><td>55</td><td>238</td><td>602.27</td><td>1123.65</td></tr><tr><th>5</th><td>0</td><td>Tue</td><td>1</td><td>2019</td><td>71</td><td>30</td><td>280.01</td><td>1390.22</td></tr><tr><th>6</th><td>0</td><td>Tue</td><td>1</td><td>2019</td><td>104</td><td>143</td><td>747.22</td><td>1678.7</td></tr></tbody></table>"
      ],
      "text/latex": [
       "\\begin{tabular}{r|ccccccccc}\n",
       "\t& hour & dow & month & year & neighborhood & interarrival\\_seconds & stn1\\_min & stn2\\_min & \\\\\n",
       "\t\\hline\n",
       "\t& Int64 & String & Int64 & Int64 & Int64 & Int64 & Float64 & Float64 & \\\\\n",
       "\t\\hline\n",
       "\t1 & 0 & Tue & 1 & 2019 & 55 & 0 & 556.96 & 1157.5 & $\\dots$ \\\\\n",
       "\t2 & 0 & Tue & 1 & 2019 & 88 & 96 & 549.45 & 1480.94 & $\\dots$ \\\\\n",
       "\t3 & 0 & Tue & 1 & 2019 & 88 & 236 & 637.8 & 1569.29 & $\\dots$ \\\\\n",
       "\t4 & 0 & Tue & 1 & 2019 & 55 & 238 & 602.27 & 1123.65 & $\\dots$ \\\\\n",
       "\t5 & 0 & Tue & 1 & 2019 & 71 & 30 & 280.01 & 1390.22 & $\\dots$ \\\\\n",
       "\t6 & 0 & Tue & 1 & 2019 & 104 & 143 & 747.22 & 1678.7 & $\\dots$ \\\\\n",
       "\\end{tabular}\n"
      ],
      "text/plain": [
       "6×50 DataFrame. Omitted printing of 44 columns\n",
       "│ Row │ hour  │ dow    │ month │ year  │ neighborhood │ interarrival_seconds │\n",
       "│     │ \u001b[90mInt64\u001b[39m │ \u001b[90mString\u001b[39m │ \u001b[90mInt64\u001b[39m │ \u001b[90mInt64\u001b[39m │ \u001b[90mInt64\u001b[39m        │ \u001b[90mInt64\u001b[39m                │\n",
       "├─────┼───────┼────────┼───────┼───────┼──────────────┼──────────────────────┤\n",
       "│ 1   │ 0     │ Tue    │ 1     │ 2019  │ 55           │ 0                    │\n",
       "│ 2   │ 0     │ Tue    │ 1     │ 2019  │ 88           │ 96                   │\n",
       "│ 3   │ 0     │ Tue    │ 1     │ 2019  │ 88           │ 236                  │\n",
       "│ 4   │ 0     │ Tue    │ 1     │ 2019  │ 55           │ 238                  │\n",
       "│ 5   │ 0     │ Tue    │ 1     │ 2019  │ 71           │ 30                   │\n",
       "│ 6   │ 0     │ Tue    │ 1     │ 2019  │ 104          │ 143                  │"
      ]
     },
     "execution_count": 20,
     "metadata": {},
     "output_type": "execute_result"
    }
   ],
   "source": [
    "#= previously there was an error that didnt account for all the regions because it\n",
    " it only included regions for incidents. the regions without incidents are changed\n",
    " to 0=#\n",
    "for x in incidents[!,:neighborhood]\n",
    "    if(!haskey(regions2index,x))\n",
    "        regions2index[x] = 0\n",
    "    end\n",
    "end\n",
    "incidents[!,:neighborhood] = [regions2index[x] for x in incidents[!,:neighborhood]];\n",
    "\n",
    "calls = incidents[:,[[:hour,:dow,:month,:year,:neighborhood,:interarrival_seconds];\n",
    "                     Symbol[Symbol(\"stn$(i)_min\") for i in locations]]]\n",
    "\n",
    "DataFrames.first(calls, 6)"
   ]
  },
  {
   "cell_type": "code",
   "execution_count": 21,
   "metadata": {},
   "outputs": [],
   "source": [
    "# We focus on emergency calls during the \"peak period\" (8AM - 8PM),\n",
    "# with the emergency calls from the first 3 month as our training set,\n",
    "# and the subsequent emergency calls from the remaining months as our test set\n",
    "peak_period = (hourly_calls[!,:hour] .>= 8) .* (hourly_calls[!,:hour] .<= 20)\n",
    "indices = 1:DataFrames.nrow(hourly_calls);\n",
    "train_filter = (hourly_calls[!,:year] .== 2019) .* (hourly_calls[!,:month] .<= 3)\n",
    "test_filter  = .~train_filter;\n",
    "train_indices = indices[train_filter]\n",
    "test_indices = indices[test_filter];\n",
    "\n",
    "# Same as for the hourly calls; but this is for individual emergency calls\n",
    "inc_peak_period = (calls[!,:hour] .>= 8) .* (calls[!,:hour] .<= 20)\n",
    "inc_indices = 1:DataFrames.nrow(calls);\n",
    "\n",
    "inc_train_filter = (calls[!,:year] .== 2019) .* (calls[!,:month] .<= 3)\n",
    "inc_test_filter  = .~inc_train_filter\n",
    "\n",
    "inc_train_indices = inc_indices[inc_train_filter]\n",
    "inc_test_indices = inc_indices[inc_test_filter];\n",
    "\n",
    "# we distinguish between peak and offpeak hours\n",
    "train_peak = indices[peak_period .* train_filter]\n",
    "train_offpeak = indices[.~peak_period .* train_filter]\n",
    "\n",
    "test_peak = indices[peak_period .* test_filter]\n",
    "test_offpeak = indices[.~peak_period .* test_filter]\n",
    "\n",
    "#will change the 30 later\n",
    "p = DeploymentProblem(30, length(locations), length(regions), demand, train_indices,\n",
    "                      test_indices, coverage[regions,:], Array{Bool,2}(adjacent));\n",
    "\n",
    "test_inc_peak = inc_peak_period .* inc_test_filter\n",
    "test_inc_offpeak = .~inc_peak_period .* inc_test_filter;"
   ]
  },
  {
   "cell_type": "code",
   "execution_count": 22,
   "metadata": {},
   "outputs": [
    {
     "data": {
      "text/plain": [
       "Dict{Symbol,Dict{Int64,Array{Int64,1}}}()"
      ]
     },
     "execution_count": 22,
     "metadata": {},
     "output_type": "execute_result"
    }
   ],
   "source": [
    "amb_deployment = Dict{Symbol, Dict{Int, Vector{Int}}}()  "
   ]
  },
  {
   "cell_type": "code",
   "execution_count": 33,
   "metadata": {},
   "outputs": [
    {
     "name": "stdout",
     "output_type": "stream",
     "text": [
      "Stochastic: \n",
      "50 \n",
      "time for model generation - stochastic 50 ambulances\n",
      "Academic license - for non-commercial use only\n",
      " 58.638713 seconds (56.67 M allocations: 4.433 GiB, 81.72% gc time)\n",
      "Academic license - for non-commercial use only\n",
      "time for model solution - stochastic 50 ambulances\n",
      "Academic license - for non-commercial use only\n",
      "Optimize a model with 126754 rows, 4702544 columns and 5902358 nonzeros\n",
      "Variable types: 0 continuous, 4702544 integer (0 binary)\n",
      "Coefficient statistics:\n",
      "  Matrix range     [1e+00, 1e+00]\n",
      "  Objective range  [1e-06, 1e+00]\n",
      "  Bounds range     [0e+00, 0e+00]\n",
      "  RHS range        [1e+00, 5e+01]\n",
      "Found heuristic solution: objective 6644.0000000\n",
      "Presolve removed 110313 rows and 4662566 columns (presolve time = 5s) ...\n",
      "Presolve removed 110313 rows and 4662566 columns\n",
      "Presolve time: 5.82s\n",
      "Presolved: 16441 rows, 39978 columns, 89622 nonzeros\n",
      "Found heuristic solution: objective 2111.0045330\n",
      "Variable types: 0 continuous, 39978 integer (24410 binary)\n",
      "\n",
      "Root simplex log...\n",
      "\n",
      "Iteration    Objective       Primal Inf.    Dual Inf.      Time\n",
      "       0   -2.5998459e+01   4.847500e+03   0.000000e+00      7s\n",
      "   12371    3.0066410e+00   0.000000e+00   0.000000e+00      8s\n",
      "\n",
      "Root relaxation: objective 3.006641e+00, 12371 iterations, 0.87 seconds\n",
      "\n",
      "    Nodes    |    Current Node    |     Objective Bounds      |     Work\n",
      " Expl Unexpl |  Obj  Depth IntInf | Incumbent    BestBd   Gap | It/Node Time\n",
      "\n",
      "*    0     0               0       3.0066410    3.00664  0.00%     -    7s\n",
      "\n",
      "Explored 0 nodes (12371 simplex iterations) in 7.96 seconds\n",
      "Thread count was 8 (of 8 available processors)\n",
      "\n",
      "Solution count 3: 3.00664 2111 5362 \n",
      "\n",
      "Optimal solution found (tolerance 1.00e-04)\n",
      "Best objective 3.006641000000e+00, best bound 3.006640999987e+00, gap 0.0000%\n",
      "113.508720 seconds (149.57 M allocations: 5.536 GiB, 59.78% gc time)\n"
     ]
    }
   ],
   "source": [
    "(deployment_model, name) = (next_dp -> StochasticDeployment(next_dp, nperiods=500), :Stochastic)\n",
    "println(\"$name: \")\n",
    "amb_deployment[name] = Dict{Int, Vector{Int}}()\n",
    "namb = 50\n",
    "println(\"$namb \")\n",
    "p.nambulances = namb\n",
    "println(\"time for model generation - stochastic $namb ambulances\")\n",
    "## make sure to include @time begin\n",
    "@time model = deployment_model(p)\n",
    "set_optimizer(model.m, Gurobi.Optimizer)\n",
    "println(\"time for model solution - stochastic $namb ambulances\")\n",
    "@time AmbulanceDeployment.optimize!(model, p)\n"
   ]
  },
  {
   "cell_type": "code",
   "execution_count": 34,
   "metadata": {},
   "outputs": [
    {
     "data": {
      "text/plain": [
       "println (generic function with 4 methods)"
      ]
     },
     "execution_count": 34,
     "metadata": {},
     "output_type": "execute_result"
    }
   ],
   "source": [
    "amb_deployment[name][namb] = deployment(model)\n",
    "println"
   ]
  },
  {
   "cell_type": "code",
   "execution_count": null,
   "metadata": {},
   "outputs": [],
   "source": []
  }
 ],
 "metadata": {
  "kernelspec": {
   "display_name": "Julia 1.5.2",
   "language": "julia",
   "name": "julia-1.5"
  },
  "language_info": {
   "file_extension": ".jl",
   "mimetype": "application/julia",
   "name": "julia",
   "version": "1.5.2"
  }
 },
 "nbformat": 4,
 "nbformat_minor": 2
}

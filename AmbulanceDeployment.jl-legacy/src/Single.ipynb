{
 "cells": [
  {
   "cell_type": "markdown",
   "metadata": {},
   "source": [
    "Author: Joshua\n",
    "Summary: Run a single instance of the two stage stochastic program\n",
    "Input:\n",
    "Output:"
   ]
  },
  {
   "cell_type": "code",
   "execution_count": 1,
   "metadata": {},
   "outputs": [
    {
     "name": "stderr",
     "output_type": "stream",
     "text": [
      "\u001b[32m\u001b[1m   Updating\u001b[22m\u001b[39m registry at `C:\\Users\\Owner\\.julia\\registries\\General`\n",
      "\u001b[32m\u001b[1m  Resolving\u001b[22m\u001b[39m package versions...\n",
      "\u001b[32m\u001b[1mNo Changes\u001b[22m\u001b[39m to `C:\\Users\\Owner\\Documents\\Austin\\AmbulanceDeployment\\AmbulanceDeployment.jl-legacy\\Project.toml`\n",
      "\u001b[32m\u001b[1mNo Changes\u001b[22m\u001b[39m to `C:\\Users\\Owner\\Documents\\Austin\\AmbulanceDeployment\\AmbulanceDeployment.jl-legacy\\Manifest.toml`\n",
      "\u001b[32m\u001b[1m  Resolving\u001b[22m\u001b[39m package versions...\n",
      "\u001b[32m\u001b[1mNo Changes\u001b[22m\u001b[39m to `C:\\Users\\Owner\\Documents\\Austin\\AmbulanceDeployment\\AmbulanceDeployment.jl-legacy\\Project.toml`\n",
      "\u001b[32m\u001b[1mNo Changes\u001b[22m\u001b[39m to `C:\\Users\\Owner\\Documents\\Austin\\AmbulanceDeployment\\AmbulanceDeployment.jl-legacy\\Manifest.toml`\n",
      "\u001b[32m\u001b[1m Activating\u001b[22m\u001b[39m environment at `C:\\Users\\Owner\\Documents\\Austin\\AmbulanceDeployment\\AmbulanceDeployment.jl-legacy\\Project.toml`\n",
      "┌ Info: Precompiling AmbulanceDeployment [d2c08a37-75f3-4934-bcbc-64feba624d07]\n",
      "└ @ Base loading.jl:1278\n",
      "┌ Warning: Package AmbulanceDeployment does not have Random in its dependencies:\n",
      "│ - If you have AmbulanceDeployment checked out for development and have\n",
      "│   added Random as a dependency but haven't updated your primary\n",
      "│   environment's manifest file, try `Pkg.resolve()`.\n",
      "│ - Otherwise you may need to report an issue with AmbulanceDeployment\n",
      "└ Loading Random into AmbulanceDeployment from project dependency, future warnings for AmbulanceDeployment are suppressed.\n",
      "ERROR: LoadError: LoadError: UndefVarError: RedeployModel not defined\n",
      "Stacktrace:\n",
      " [1] top-level scope at C:\\Users\\Owner\\Documents\\Austin\\AmbulanceDeployment\\AmbulanceDeployment.jl-legacy\\src\\model.jl:11\n",
      " [2] include(::Function, ::Module, ::String) at .\\Base.jl:380\n",
      " [3] include at .\\Base.jl:368 [inlined]\n",
      " [4] include(::String) at C:\\Users\\Owner\\Documents\\Austin\\AmbulanceDeployment\\AmbulanceDeployment.jl-legacy\\src\\AmbulanceDeployment.jl:6\n",
      " [5] top-level scope at C:\\Users\\Owner\\Documents\\Austin\\AmbulanceDeployment\\AmbulanceDeployment.jl-legacy\\src\\AmbulanceDeployment.jl:21\n",
      " [6] include(::Function, ::Module, ::String) at .\\Base.jl:380\n",
      " [7] include(::Module, ::String) at .\\Base.jl:368\n",
      " [8] top-level scope at none:2\n",
      " [9] eval at .\\boot.jl:331 [inlined]\n",
      " [10] eval(::Expr) at .\\client.jl:467\n",
      " [11] top-level scope at .\\none:3\n",
      "in expression starting at C:\\Users\\Owner\\Documents\\Austin\\AmbulanceDeployment\\AmbulanceDeployment.jl-legacy\\src\\model.jl:11\n",
      "in expression starting at C:\\Users\\Owner\\Documents\\Austin\\AmbulanceDeployment\\AmbulanceDeployment.jl-legacy\\src\\AmbulanceDeployment.jl:21\n"
     ]
    },
    {
     "ename": "LoadError",
     "evalue": "\u001b[91mFailed to precompile AmbulanceDeployment [d2c08a37-75f3-4934-bcbc-64feba624d07] to C:\\Users\\Owner\\.julia\\compiled\\v1.5\\AmbulanceDeployment\\7u3Yr_ZG3xL.ji.\u001b[39m",
     "output_type": "error",
     "traceback": [
      "\u001b[91mFailed to precompile AmbulanceDeployment [d2c08a37-75f3-4934-bcbc-64feba624d07] to C:\\Users\\Owner\\.julia\\compiled\\v1.5\\AmbulanceDeployment\\7u3Yr_ZG3xL.ji.\u001b[39m",
      "",
      "Stacktrace:",
      " [1] error(::String) at .\\error.jl:33",
      " [2] compilecache(::Base.PkgId, ::String) at .\\loading.jl:1305",
      " [3] _require(::Base.PkgId) at .\\loading.jl:1030",
      " [4] require(::Base.PkgId) at .\\loading.jl:928",
      " [5] require(::Module, ::Symbol) at .\\loading.jl:923",
      " [6] include_string(::Function, ::Module, ::String, ::String) at .\\loading.jl:1091"
     ]
    }
   ],
   "source": [
    "using Pkg\n",
    "Pkg.add(\"Pkg\")\n",
    "Pkg.add(\"Dates\")\n",
    "\n",
    "joshpath = \"C:/Users/Owner/Documents/Austin/AmbulanceDeployment/AmbulanceDeployment.jl-legacy\"\n",
    "\n",
    "PROJECT_ROOT = joshpath\n",
    "currentpath = joshpath\n",
    "\n",
    "cd(currentpath)\n",
    "Pkg.activate(\".\")\n",
    "\n",
    "#include(\".//src//problem.jl\")\n",
    "#include(\".//src//model.jl\")\n",
    "\n",
    "using AmbulanceDeployment \n",
    "using DataFrames, Winston, JLD, CSV, Gurobi, JuMP, GLPK, Dates"
   ]
  },
  {
   "cell_type": "code",
   "execution_count": 2,
   "metadata": {},
   "outputs": [
    {
     "ename": "LoadError",
     "evalue": "\u001b[91mUndefVarError: CSV not defined\u001b[39m",
     "output_type": "error",
     "traceback": [
      "\u001b[91mUndefVarError: CSV not defined\u001b[39m",
      "",
      "Stacktrace:",
      " [1] top-level scope at In[2]:5",
      " [2] include_string(::Function, ::Module, ::String, ::String) at .\\loading.jl:1091"
     ]
    }
   ],
   "source": [
    "# hourly calls - regions x hours x number of calls/ per region per hour (e.g. 210 x 10000 x Z)\n",
    "#adjacent_nbhd - boolean matrix, regionxregion (210x210) - if neighborhoods/region are adjacent?\n",
    "#coverage - boolean matrix, regions x stations (210x44) - true if station is within coverage of region\n",
    "#incidents - god object\n",
    "hourly_calls = CSV.File(PROJECT_ROOT * \"/test/austin-data/Full_WeekdayCalls.csv\") |> DataFrame\n",
    "# weekend_hourly_calls = CSV.File(\"data/processed/2-weekend_calls.csv\") |> DataFrame\n",
    "adjacent_nbhd = CSV.File(PROJECT_ROOT * \"/test/austin-data/adjacent_nbhd.csv\") |> DataFrame\n",
    "coverage = CSV.read(PROJECT_ROOT * \"/test/austin-data/coverage_real.csv\", DataFrame, header=false)\n",
    "coverage = convert(Array{Bool, 2}, coverage[:, :])\n",
    "incidents = CSV.File(PROJECT_ROOT * \"/test/austin-data/austin_incidents.csv\") |> DataFrame"
   ]
  },
  {
   "cell_type": "code",
   "execution_count": 3,
   "metadata": {},
   "outputs": [
    {
     "ename": "LoadError",
     "evalue": "\u001b[91mUndefVarError: ncol not defined\u001b[39m",
     "output_type": "error",
     "traceback": [
      "\u001b[91mUndefVarError: ncol not defined\u001b[39m",
      "",
      "Stacktrace:",
      " [1] top-level scope at .\\In[3]:4",
      " [2] include_string(::Function, ::Module, ::String, ::String) at .\\loading.jl:1091"
     ]
    }
   ],
   "source": [
    "#regions - list of regions/neighborhoods where demands come from (1 ... 210)\n",
    "#locations -list of stations (1 ... 44)\n",
    "#demands - hours x regions = demands\n",
    "regions = Int[parse(Int,string(x)) for x in names(hourly_calls[:,6:ncol(hourly_calls)])]\n",
    "locations = collect(1:size(coverage,2))\n",
    "adjacent = convert(Array, adjacent_nbhd[:,2:ncol(adjacent_nbhd)])[regions,regions] .> 0.5\n",
    "demand = convert(Array,hourly_calls[:,6:end]);"
   ]
  },
  {
   "cell_type": "code",
   "execution_count": 4,
   "metadata": {},
   "outputs": [
    {
     "ename": "LoadError",
     "evalue": "\u001b[91mUndefVarError: incidents not defined\u001b[39m",
     "output_type": "error",
     "traceback": [
      "\u001b[91mUndefVarError: incidents not defined\u001b[39m",
      "",
      "Stacktrace:",
      " [1] top-level scope at In[4]:2",
      " [2] include_string(::Function, ::Module, ::String, ::String) at .\\loading.jl:1091"
     ]
    }
   ],
   "source": [
    "#filter incidents\n",
    "incidents = incidents[.~ismissing.(incidents[!,:stn1_min]), :] # drop 44 calls that were \"unreachable\" (because all stations are reachable from each other)\n",
    "#remove \"faulty data\" if events in the log do not come in order\n",
    "incidents[!,:interarrival_seconds] = [0; incidents[!,:arrival_seconds][2:end] - incidents[!,:arrival_seconds][1:end-1]]\n",
    "incidents[!,:isweekday] .= true\n",
    "incidents[!,:isweekday][incidents[!,:dow] .== \"Sun\"] .= false\n",
    "incidents[!,:isweekday][incidents[!,:dow] .== \"Sat\"] .= false;\n",
    "incidents = incidents[incidents[!,:isweekday],:]\n",
    "\n",
    "regions2index = Dict{Int,Int}(regions[i]=>i for i in 1:length(regions))"
   ]
  },
  {
   "cell_type": "code",
   "execution_count": 5,
   "metadata": {},
   "outputs": [
    {
     "ename": "LoadError",
     "evalue": "\u001b[91mUndefVarError: incidents not defined\u001b[39m",
     "output_type": "error",
     "traceback": [
      "\u001b[91mUndefVarError: incidents not defined\u001b[39m",
      "",
      "Stacktrace:",
      " [1] top-level scope at .\\In[5]:4",
      " [2] include_string(::Function, ::Module, ::String, ::String) at .\\loading.jl:1091"
     ]
    }
   ],
   "source": [
    "#= previously there was an error that didnt account for all the regions because it\n",
    " it only included regions for incidents. the regions without incidents are changed\n",
    " to 0=#\n",
    "for x in incidents[!,:neighborhood]\n",
    "    if(!haskey(regions2index,x))\n",
    "        regions2index[x] = 0\n",
    "    end\n",
    "end\n",
    "incidents[!,:neighborhood] = [regions2index[x] for x in incidents[!,:neighborhood]];\n",
    "\n",
    "calls = incidents[:,[[:hour,:dow,:month,:year,:neighborhood,:interarrival_seconds];\n",
    "                     Symbol[Symbol(\"stn$(i)_min\") for i in locations]]]\n",
    "\n",
    "DataFrames.first(calls, 6)"
   ]
  },
  {
   "cell_type": "code",
   "execution_count": 6,
   "metadata": {},
   "outputs": [
    {
     "ename": "LoadError",
     "evalue": "\u001b[91mUndefVarError: hourly_calls not defined\u001b[39m",
     "output_type": "error",
     "traceback": [
      "\u001b[91mUndefVarError: hourly_calls not defined\u001b[39m",
      "",
      "Stacktrace:",
      " [1] top-level scope at In[6]:4",
      " [2] include_string(::Function, ::Module, ::String, ::String) at .\\loading.jl:1091"
     ]
    }
   ],
   "source": [
    "# We focus on emergency calls during the \"peak period\" (8AM - 8PM),\n",
    "# with the emergency calls from the first 3 month as our training set,\n",
    "# and the subsequent emergency calls from the remaining months as our test set\n",
    "peak_period = (hourly_calls[!,:hour] .>= 8) .* (hourly_calls[!,:hour] .<= 20)\n",
    "indices = 1:DataFrames.nrow(hourly_calls);\n",
    "train_filter = (hourly_calls[!,:year] .== 2019) .* (hourly_calls[!,:month] .<= 3)\n",
    "test_filter  = .~train_filter;\n",
    "train_indices = indices[train_filter]\n",
    "test_indices = indices[test_filter];\n",
    "\n",
    "#will change the 30 later\n",
    "p = DeploymentProblem(30, length(locations), length(regions), demand, train_indices,\n",
    "                      test_indices, coverage[regions,:], Array{Bool,2}(adjacent));\n",
    "\n",
    "test_inc_peak = inc_peak_period .* inc_test_filter\n",
    "test_inc_offpeak = .~inc_peak_period .* inc_test_filter;"
   ]
  },
  {
   "cell_type": "code",
   "execution_count": 7,
   "metadata": {},
   "outputs": [
    {
     "data": {
      "text/plain": [
       "Dict{Symbol,Dict{Int64,Array{Int64,1}}}()"
      ]
     },
     "execution_count": 7,
     "metadata": {},
     "output_type": "execute_result"
    }
   ],
   "source": [
    "amb_deployment = Dict{Symbol, Dict{Int, Vector{Int}}}()  "
   ]
  },
  {
   "cell_type": "code",
   "execution_count": 8,
   "metadata": {},
   "outputs": [
    {
     "name": "stdout",
     "output_type": "stream",
     "text": [
      "Stochastic: \n",
      "50 \n"
     ]
    },
    {
     "ename": "LoadError",
     "evalue": "\u001b[91mUndefVarError: p not defined\u001b[39m",
     "output_type": "error",
     "traceback": [
      "\u001b[91mUndefVarError: p not defined\u001b[39m",
      "",
      "Stacktrace:",
      " [1] top-level scope at In[8]:6",
      " [2] include_string(::Function, ::Module, ::String, ::String) at .\\loading.jl:1091"
     ]
    }
   ],
   "source": [
    "(deployment_model, name) = (next_dp -> StochasticDeployment(next_dp, nperiods=500), :Stochastic)\n",
    "println(\"$name: \")\n",
    "amb_deployment[name] = Dict{Int, Vector{Int}}()\n",
    "namb = 50\n",
    "println(\"$namb \")\n",
    "p.nambulances = namb\n",
    "println(\"time for model generation - stochastic $namb ambulances\")\n",
    "## make sure to include @time begin\n",
    "@time model = deployment_model(p)\n",
    "set_optimizer(model.m, Gurobi.Optimizer)\n",
    "println(\"time for model solution - stochastic $namb ambulances\")\n",
    "@time AmbulanceDeployment.optimize!(model, p)\n"
   ]
  },
  {
   "cell_type": "code",
   "execution_count": 9,
   "metadata": {},
   "outputs": [
    {
     "ename": "LoadError",
     "evalue": "\u001b[91mUndefVarError: deployment not defined\u001b[39m",
     "output_type": "error",
     "traceback": [
      "\u001b[91mUndefVarError: deployment not defined\u001b[39m",
      "",
      "Stacktrace:",
      " [1] top-level scope at In[9]:1",
      " [2] include_string(::Function, ::Module, ::String, ::String) at .\\loading.jl:1091"
     ]
    }
   ],
   "source": [
    "amb_deployment[name][namb] = deployment(model)\n",
    "println"
   ]
  },
  {
   "cell_type": "code",
   "execution_count": null,
   "metadata": {},
   "outputs": [],
   "source": []
  }
 ],
 "metadata": {
  "kernelspec": {
   "display_name": "Julia 1.5.2",
   "language": "julia",
   "name": "julia-1.5"
  },
  "language_info": {
   "file_extension": ".jl",
   "mimetype": "application/julia",
   "name": "julia",
   "version": "1.5.2"
  }
 },
 "nbformat": 4,
 "nbformat_minor": 2
}

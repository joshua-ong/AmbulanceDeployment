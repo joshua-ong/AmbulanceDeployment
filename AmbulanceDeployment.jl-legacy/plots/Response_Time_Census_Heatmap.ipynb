{
 "cells": [
  {
   "cell_type": "code",
   "execution_count": 1,
   "metadata": {},
   "outputs": [
    {
     "name": "stderr",
     "output_type": "stream",
     "text": [
      "In C:\\Users\\zande\\Anaconda3\\lib\\site-packages\\matplotlib\\mpl-data\\stylelib\\_classic_test.mplstyle: \n",
      "The text.latex.preview rcparam was deprecated in Matplotlib 3.3 and will be removed two minor releases later.\n",
      "In C:\\Users\\zande\\Anaconda3\\lib\\site-packages\\matplotlib\\mpl-data\\stylelib\\_classic_test.mplstyle: \n",
      "The mathtext.fallback_to_cm rcparam was deprecated in Matplotlib 3.3 and will be removed two minor releases later.\n",
      "In C:\\Users\\zande\\Anaconda3\\lib\\site-packages\\matplotlib\\mpl-data\\stylelib\\_classic_test.mplstyle: Support for setting the 'mathtext.fallback_to_cm' rcParam is deprecated since 3.3 and will be removed two minor releases later; use 'mathtext.fallback : 'cm' instead.\n",
      "In C:\\Users\\zande\\Anaconda3\\lib\\site-packages\\matplotlib\\mpl-data\\stylelib\\_classic_test.mplstyle: \n",
      "The validate_bool_maybe_none function was deprecated in Matplotlib 3.3 and will be removed two minor releases later.\n",
      "In C:\\Users\\zande\\Anaconda3\\lib\\site-packages\\matplotlib\\mpl-data\\stylelib\\_classic_test.mplstyle: \n",
      "The savefig.jpeg_quality rcparam was deprecated in Matplotlib 3.3 and will be removed two minor releases later.\n",
      "In C:\\Users\\zande\\Anaconda3\\lib\\site-packages\\matplotlib\\mpl-data\\stylelib\\_classic_test.mplstyle: \n",
      "The keymap.all_axes rcparam was deprecated in Matplotlib 3.3 and will be removed two minor releases later.\n",
      "In C:\\Users\\zande\\Anaconda3\\lib\\site-packages\\matplotlib\\mpl-data\\stylelib\\_classic_test.mplstyle: \n",
      "The animation.avconv_path rcparam was deprecated in Matplotlib 3.3 and will be removed two minor releases later.\n",
      "In C:\\Users\\zande\\Anaconda3\\lib\\site-packages\\matplotlib\\mpl-data\\stylelib\\_classic_test.mplstyle: \n",
      "The animation.avconv_args rcparam was deprecated in Matplotlib 3.3 and will be removed two minor releases later.\n"
     ]
    }
   ],
   "source": [
    "import csv\n",
    "import collections\n",
    "import pandas as pd\n",
    "import numpy as np\n",
    "import math\n",
    "import json\n",
    "import matplotlib.pyplot as plt\n",
    "import simplekml\n",
    "import fiona"
   ]
  },
  {
   "cell_type": "code",
   "execution_count": 2,
   "metadata": {},
   "outputs": [],
   "source": [
    "shape = fiona.open(\"inputs/tl_2019_48_tract/tl_2019_48_tract.shp\")\n",
    "d = {}\n",
    "for s in shape:\n",
    "    if s[\"properties\"][\"COUNTYFP\"] == \"453\":\n",
    "        d[s[\"properties\"][\"NAME\"]] = s[\"geometry\"][\"coordinates\"]"
   ]
  },
  {
   "cell_type": "code",
   "execution_count": 3,
   "metadata": {},
   "outputs": [],
   "source": [
    "# Straight up grid\n",
    "class Grid():\n",
    "    def __init__(self, grid_json):\n",
    "        self.grid = grid_json\n",
    "        self.min_lat = self.grid[\"latitude_min\"]\n",
    "        self.min_lon = self.grid[\"longitude_min\"]\n",
    "        self.max_lat = self.grid[\"latitude_max\"]\n",
    "        self.max_lon = self.grid[\"longitude_max\"]\n",
    "        self.latitude_delta = self.grid[\"latitude_step\"]\n",
    "        self.longitude_delta = self.grid[\"longitude_step\"]\n",
    "        self.nrows = math.ceil((self.max_lat - self.min_lat) / self.latitude_delta)\n",
    "        self.ncols = math.ceil((self.max_lon - self.min_lon) / self.longitude_delta)\n",
    "        self.times = self.grid[\"time_matrix\"]\n",
    "        self.census_tract_region_map = self.grid[\"census_tract_region_mapping\"]\n",
    "        self.region_to_tract = collections.defaultdict(list)\n",
    "        for census_tract in self.census_tract_region_map:\n",
    "            for region in self.census_tract_region_map[census_tract]:\n",
    "                self.region_to_tract[region].append(census_tract)\n",
    "    def map_point_to_region(self, latitude, longitude):\n",
    "        return math.floor((latitude-self.min_lat)/self.latitude_delta) * self.ncols  + math.floor((longitude-self.min_lon)/self.longitude_delta)\n",
    "    def get_representative(self, region_num):\n",
    "        row_num = region_num//self.ncols\n",
    "        col_num = region_num - row_num*self.ncols\n",
    "        lat = self.min_lat + row_num * self.latitude_delta + 0.5*self.latitude_delta\n",
    "        lon = self.min_lon + col_num * self.longitude_delta + 0.5*self.longitude_delta\n",
    "        return [lon, lat]\n",
    "    def get_time(self, region1, region2):\n",
    "        try:\n",
    "            return self.times[region1][region2]\n",
    "        except IndexError:\n",
    "            return -1\n",
    "    def region_to_census_tract(self, region):\n",
    "        try:\n",
    "            return self.region_to_tract[region]\n",
    "        except KeyError:\n",
    "            return \"0_0\""
   ]
  },
  {
   "cell_type": "markdown",
   "metadata": {},
   "source": [
    "## Load in data"
   ]
  },
  {
   "cell_type": "code",
   "execution_count": 7,
   "metadata": {},
   "outputs": [],
   "source": [
    "with open('inputs/austin_response_times.json') as f:\n",
    "    austin_response_times = json.load(f)\n",
    "    "
   ]
  },
  {
   "cell_type": "code",
   "execution_count": 11,
   "metadata": {},
   "outputs": [
    {
     "name": "stdout",
     "output_type": "stream",
     "text": [
      "   interarrival_seconds  neighborhood  dow  stn1_min  stn2_min  stn3_min  \\\n",
      "0                    38            83  Wed    300.00   1619.74    647.46   \n",
      "1                   537            38  Wed   1012.38   1580.48   1369.76   \n",
      "2                    98           129  Wed   1291.87   2280.92   1335.77   \n",
      "3                    18           107  Wed   2655.15   2258.48   2196.05   \n",
      "4                   475           113  Wed    879.18   1770.93    923.08   \n",
      "\n",
      "   stn4_min  stn5_min  stn6_min  stn7_min  ...  hosp3_min  hosp4_min  \\\n",
      "0    790.88    647.46    603.90   2503.11  ...    1152.23    1196.41   \n",
      "1   1379.66   1369.76   1568.98   2946.06  ...    1826.82    1399.17   \n",
      "2   1106.28   1335.77   1046.35   2601.02  ...     767.74    1857.59   \n",
      "3   3050.22   2196.05   2764.35   1082.07  ...    2716.38    2120.80   \n",
      "4    805.69    923.08    641.56   1977.15  ...     586.79    1444.90   \n",
      "\n",
      "   hosp5_min  hosp6_min  hosp7_min  hosp8_min  hosp9_min  hosp10_min  \\\n",
      "0    2361.74    1371.38     603.90     647.46     821.15      603.90   \n",
      "1    2564.49    1574.13    1568.98    1369.76    1554.31     1568.98   \n",
      "2    2935.34    2032.55    1046.35    1335.77    1321.60     1046.35   \n",
      "3     610.13    1684.74    2764.35    2196.05    2172.70     2764.35   \n",
      "4    2311.47    1585.96     641.56     923.08     793.20      641.56   \n",
      "\n",
      "   hosp11_min  hosp12_min  \n",
      "0     1710.09      821.15  \n",
      "1     2298.14     1554.31  \n",
      "2     2353.39     1321.60  \n",
      "3     2496.61     2172.70  \n",
      "4     1729.53      793.20  \n",
      "\n",
      "[5 rows x 59 columns]\n"
     ]
    }
   ],
   "source": [
    "ncalls = 100\n",
    "calls = pd.read_csv(\"inputs/austin_test_calls.csv\")\n",
    "print(calls.head())\n"
   ]
  },
  {
   "cell_type": "code",
   "execution_count": 41,
   "metadata": {},
   "outputs": [
    {
     "name": "stdout",
     "output_type": "stream",
     "text": [
      "   region_num  response_time\n",
      "0          83    1559.750000\n",
      "1          38    1497.100000\n",
      "2         129    1466.966667\n",
      "3         107    2449.733333\n",
      "4         113     300.000000\n"
     ]
    }
   ],
   "source": [
    "data = pd.DataFrame()\n",
    "data['region_num'] = calls['neighborhood'][:ncalls]\n",
    "data['response_time'] = austin_response_times['Robust005']['40']\n",
    "print(data.head())"
   ]
  },
  {
   "cell_type": "markdown",
   "metadata": {},
   "source": [
    "## Prepare data for heatmap using grid"
   ]
  },
  {
   "cell_type": "code",
   "execution_count": 42,
   "metadata": {},
   "outputs": [],
   "source": [
    "# Using old distance matrix to get an idea of how close we are\n",
    "with open(\"inputs/grid_info_smaller.json\", \"r\") as f:\n",
    "    grid_json = json.load(f)"
   ]
  },
  {
   "cell_type": "code",
   "execution_count": 43,
   "metadata": {},
   "outputs": [],
   "source": [
    "g = Grid(grid_json)"
   ]
  },
  {
   "cell_type": "code",
   "execution_count": 44,
   "metadata": {
    "scrolled": true
   },
   "outputs": [],
   "source": [
    "data[\"census_tract\"] = data.apply(lambda x: g.region_to_census_tract(x[\"region_num\"]), axis=1)"
   ]
  },
  {
   "cell_type": "code",
   "execution_count": 47,
   "metadata": {
    "scrolled": true
   },
   "outputs": [
    {
     "data": {
      "text/html": [
       "<div>\n",
       "<style scoped>\n",
       "    .dataframe tbody tr th:only-of-type {\n",
       "        vertical-align: middle;\n",
       "    }\n",
       "\n",
       "    .dataframe tbody tr th {\n",
       "        vertical-align: top;\n",
       "    }\n",
       "\n",
       "    .dataframe thead th {\n",
       "        text-align: right;\n",
       "    }\n",
       "</style>\n",
       "<table border=\"1\" class=\"dataframe\">\n",
       "  <thead>\n",
       "    <tr style=\"text-align: right;\">\n",
       "      <th></th>\n",
       "      <th>region_num</th>\n",
       "      <th>response_time</th>\n",
       "      <th>census_tract</th>\n",
       "    </tr>\n",
       "  </thead>\n",
       "  <tbody>\n",
       "    <tr>\n",
       "      <th>0</th>\n",
       "      <td>83</td>\n",
       "      <td>1559.750000</td>\n",
       "      <td>[3_06, 10, 9_01, 9_02, 21_08, 21_09, 23_04, 23...</td>\n",
       "    </tr>\n",
       "    <tr>\n",
       "      <th>1</th>\n",
       "      <td>38</td>\n",
       "      <td>1497.100000</td>\n",
       "      <td>[24_32, 24_35, 24_36]</td>\n",
       "    </tr>\n",
       "    <tr>\n",
       "      <th>2</th>\n",
       "      <td>129</td>\n",
       "      <td>1466.966667</td>\n",
       "      <td>[18_39, 18_48, 18_40, 18_41, 18_42, 18_24, 18_...</td>\n",
       "    </tr>\n",
       "    <tr>\n",
       "      <th>3</th>\n",
       "      <td>107</td>\n",
       "      <td>2449.733333</td>\n",
       "      <td>[17_68, 17_80, 17_64]</td>\n",
       "    </tr>\n",
       "    <tr>\n",
       "      <th>4</th>\n",
       "      <td>113</td>\n",
       "      <td>300.000000</td>\n",
       "      <td>[18_04, 18_11, 18_05, 18_13, 18_06, 18_12, 18_...</td>\n",
       "    </tr>\n",
       "    <tr>\n",
       "      <th>...</th>\n",
       "      <td>...</td>\n",
       "      <td>...</td>\n",
       "      <td>...</td>\n",
       "    </tr>\n",
       "    <tr>\n",
       "      <th>95</th>\n",
       "      <td>142</td>\n",
       "      <td>722.350000</td>\n",
       "      <td>[17_55, 17_82, 17_54, 17_56, 17_81, 17_85, 17_...</td>\n",
       "    </tr>\n",
       "    <tr>\n",
       "      <th>96</th>\n",
       "      <td>66</td>\n",
       "      <td>1466.783333</td>\n",
       "      <td>[20_03, 20_02, 20_05, 17_50, 20_04, 24_10, 24_...</td>\n",
       "    </tr>\n",
       "    <tr>\n",
       "      <th>97</th>\n",
       "      <td>98</td>\n",
       "      <td>607.933333</td>\n",
       "      <td>[18_11, 3_02, 18_12, 3_05, 3_04, 3_06, 3_07, 2...</td>\n",
       "    </tr>\n",
       "    <tr>\n",
       "      <th>98</th>\n",
       "      <td>113</td>\n",
       "      <td>669.683333</td>\n",
       "      <td>[18_04, 18_11, 18_05, 18_13, 18_06, 18_12, 18_...</td>\n",
       "    </tr>\n",
       "    <tr>\n",
       "      <th>99</th>\n",
       "      <td>68</td>\n",
       "      <td>300.000000</td>\n",
       "      <td>[9800, 23_18, 23_13, 23_12, 24_31, 23_04, 23_1...</td>\n",
       "    </tr>\n",
       "  </tbody>\n",
       "</table>\n",
       "<p>100 rows × 3 columns</p>\n",
       "</div>"
      ],
      "text/plain": [
       "    region_num  response_time  \\\n",
       "0           83    1559.750000   \n",
       "1           38    1497.100000   \n",
       "2          129    1466.966667   \n",
       "3          107    2449.733333   \n",
       "4          113     300.000000   \n",
       "..         ...            ...   \n",
       "95         142     722.350000   \n",
       "96          66    1466.783333   \n",
       "97          98     607.933333   \n",
       "98         113     669.683333   \n",
       "99          68     300.000000   \n",
       "\n",
       "                                         census_tract  \n",
       "0   [3_06, 10, 9_01, 9_02, 21_08, 21_09, 23_04, 23...  \n",
       "1                               [24_32, 24_35, 24_36]  \n",
       "2   [18_39, 18_48, 18_40, 18_41, 18_42, 18_24, 18_...  \n",
       "3                               [17_68, 17_80, 17_64]  \n",
       "4   [18_04, 18_11, 18_05, 18_13, 18_06, 18_12, 18_...  \n",
       "..                                                ...  \n",
       "95  [17_55, 17_82, 17_54, 17_56, 17_81, 17_85, 17_...  \n",
       "96  [20_03, 20_02, 20_05, 17_50, 20_04, 24_10, 24_...  \n",
       "97  [18_11, 3_02, 18_12, 3_05, 3_04, 3_06, 3_07, 2...  \n",
       "98  [18_04, 18_11, 18_05, 18_13, 18_06, 18_12, 18_...  \n",
       "99  [9800, 23_18, 23_13, 23_12, 24_31, 23_04, 23_1...  \n",
       "\n",
       "[100 rows x 3 columns]"
      ]
     },
     "execution_count": 47,
     "metadata": {},
     "output_type": "execute_result"
    }
   ],
   "source": [
    "data"
   ]
  },
  {
   "cell_type": "code",
   "execution_count": 61,
   "metadata": {},
   "outputs": [
    {
     "name": "stdout",
     "output_type": "stream",
     "text": [
      "['10' '11' '12' '13_03' '13_04' '13_05' '13_07' '13_08' '14_01' '14_02'\n",
      " '14_03' '15_03' '15_04' '15_05' '16_02' '16_03' '16_04' '16_05' '16_06'\n",
      " '17_05' '17_06' '17_07' '17_12' '17_13' '17_14' '17_16' '17_22' '17_28'\n",
      " '17_29' '17_33' '17_37' '17_38' '17_40' '17_41' '17_42' '17_45' '17_46'\n",
      " '17_47' '17_48' '17_49' '17_50' '17_53' '17_54' '17_55' '17_56' '17_57'\n",
      " '17_60' '17_61' '17_64' '17_65' '17_68' '17_70' '17_71' '17_72' '17_73'\n",
      " '17_74' '17_75' '17_76' '17_77' '17_78' '17_80' '17_81' '17_82' '17_84'\n",
      " '17_85' '17_86' '18_04' '18_05' '18_06' '18_11' '18_12' '18_13' '18_17'\n",
      " '18_18' '18_19' '18_20' '18_21' '18_22' '18_23' '18_24' '18_26' '18_28'\n",
      " '18_29' '18_32' '18_33' '18_34' '18_35' '18_39' '18_40' '18_41' '18_42'\n",
      " '18_43' '18_44' '18_45' '18_46' '18_47' '18_48' '18_49' '18_50' '18_51'\n",
      " '18_55' '18_56' '18_57' '18_60' '18_61' '18_62' '18_63' '19_01' '19_10'\n",
      " '19_11' '19_12' '19_13' '19_14' '19_15' '19_17' '19_19' '1_01' '1_02'\n",
      " '20_02' '20_03' '20_04' '20_05' '21_04' '21_05' '21_06' '21_07' '21_08'\n",
      " '21_09' '21_10' '21_11' '21_12' '21_13' '22_01' '22_02' '22_07' '22_08'\n",
      " '22_09' '22_10' '22_11' '22_12' '23_04' '23_07' '23_08' '23_10' '23_12'\n",
      " '23_13' '23_14' '23_15' '23_16' '23_17' '23_18' '23_19' '24_02' '24_03'\n",
      " '24_07' '24_09' '24_10' '24_11' '24_12' '24_13' '24_19' '24_21' '24_22'\n",
      " '24_23' '24_24' '24_25' '24_26' '24_27' '24_28' '24_29' '24_30' '24_31'\n",
      " '24_32' '24_33' '24_34' '24_35' '24_36' '25' '2_03' '2_04' '2_05' '2_06'\n",
      " '3_02' '3_04' '3_05' '3_06' '3_07' '4_01' '4_02' '5' '6_01' '6_03' '6_04'\n",
      " '7' '8_01' '8_02' '8_03' '8_04' '9800' '9_01' '9_02']\n",
      "201\n"
     ]
    }
   ],
   "source": [
    "# Find unique census tracts\n",
    "census_tract_list = data[\"census_tract\"].to_numpy()\n",
    "census_tract_list = census_tract_list.ravel()\n",
    "\n",
    "flat_census_tract_list = []\n",
    "for sublist in census_tract_list:\n",
    "    for census_tract in sublist:\n",
    "        flat_census_tract_list.append(census_tract)\n",
    "\n",
    "#print(len(flat_census_tract_list))\n",
    "print(np.unique(flat_census_tract_list))\n",
    "print(len(np.unique(flat_census_tract_list)))"
   ]
  },
  {
   "cell_type": "markdown",
   "metadata": {},
   "source": [
    "## ignore"
   ]
  },
  {
   "cell_type": "code",
   "execution_count": 18,
   "metadata": {},
   "outputs": [],
   "source": [
    "error = (data[\"transport_time\"] - data[\"grid_time\"])/(data[\"grid_time\"])*100"
   ]
  },
  {
   "cell_type": "code",
   "execution_count": 22,
   "metadata": {
    "scrolled": true
   },
   "outputs": [
    {
     "name": "stdout",
     "output_type": "stream",
     "text": [
      "Plot of the percent error in times (transport time - grid time)/(grid time)\n"
     ]
    },
    {
     "data": {
      "text/plain": [
       "<AxesSubplot:title={'center':'Percent Error'}, ylabel='Frequency'>"
      ]
     },
     "execution_count": 22,
     "metadata": {},
     "output_type": "execute_result"
    },
    {
     "data": {
      "image/png": "[encoded data removed]",
      "text/plain": [
       "<Figure size 432x288 with 1 Axes>"
      ]
     },
     "metadata": {
      "needs_background": "light"
     },
     "output_type": "display_data"
    }
   ],
   "source": [
    "print(\"Plot of the percent error in times (transport time - grid time)/(grid time)\")\n",
    "error.plot.hist(bins=50000, xlim=(-500, 500), title=\"Percent Error\")"
   ]
  },
  {
   "cell_type": "code",
   "execution_count": 25,
   "metadata": {},
   "outputs": [],
   "source": [
    "# Filtering\n",
    "errors = collections.defaultdict(int)\n",
    "counts = collections.defaultdict(int)\n",
    "for index, row in data.iterrows():\n",
    "    for census_tract in row[\"census_tract\"]:\n",
    "        errors[census_tract] += (row[\"transport_time\"]-row[\"grid_time\"])\n",
    "        counts[census_tract] += 1\n",
    "\n",
    "for census_tract in errors:\n",
    "    if counts[census_tract] > 50:\n",
    "        errors[census_tract] /= counts[census_tract]\n",
    "    else:\n",
    "        errors[census_tract] = 0\n"
   ]
  },
  {
   "cell_type": "markdown",
   "metadata": {},
   "source": [
    "## Create heatmaps"
   ]
  },
  {
   "cell_type": "code",
   "execution_count": 36,
   "metadata": {},
   "outputs": [
    {
     "ename": "KeyError",
     "evalue": "'census_tract'",
     "output_type": "error",
     "traceback": [
      "\u001b[1;31m---------------------------------------------------------------------------\u001b[0m",
      "\u001b[1;31mKeyError\u001b[0m                                  Traceback (most recent call last)",
      "\u001b[1;32m~\\Anaconda3\\lib\\site-packages\\pandas\\core\\indexes\\base.py\u001b[0m in \u001b[0;36mget_loc\u001b[1;34m(self, key, method, tolerance)\u001b[0m\n\u001b[0;32m   2894\u001b[0m             \u001b[1;32mtry\u001b[0m\u001b[1;33m:\u001b[0m\u001b[1;33m\u001b[0m\u001b[1;33m\u001b[0m\u001b[0m\n\u001b[1;32m-> 2895\u001b[1;33m                 \u001b[1;32mreturn\u001b[0m \u001b[0mself\u001b[0m\u001b[1;33m.\u001b[0m\u001b[0m_engine\u001b[0m\u001b[1;33m.\u001b[0m\u001b[0mget_loc\u001b[0m\u001b[1;33m(\u001b[0m\u001b[0mcasted_key\u001b[0m\u001b[1;33m)\u001b[0m\u001b[1;33m\u001b[0m\u001b[1;33m\u001b[0m\u001b[0m\n\u001b[0m\u001b[0;32m   2896\u001b[0m             \u001b[1;32mexcept\u001b[0m \u001b[0mKeyError\u001b[0m \u001b[1;32mas\u001b[0m \u001b[0merr\u001b[0m\u001b[1;33m:\u001b[0m\u001b[1;33m\u001b[0m\u001b[1;33m\u001b[0m\u001b[0m\n",
      "\u001b[1;32mpandas\\_libs\\index.pyx\u001b[0m in \u001b[0;36mpandas._libs.index.IndexEngine.get_loc\u001b[1;34m()\u001b[0m\n",
      "\u001b[1;32mpandas\\_libs\\index.pyx\u001b[0m in \u001b[0;36mpandas._libs.index.IndexEngine.get_loc\u001b[1;34m()\u001b[0m\n",
      "\u001b[1;32mpandas\\_libs\\hashtable_class_helper.pxi\u001b[0m in \u001b[0;36mpandas._libs.hashtable.PyObjectHashTable.get_item\u001b[1;34m()\u001b[0m\n",
      "\u001b[1;32mpandas\\_libs\\hashtable_class_helper.pxi\u001b[0m in \u001b[0;36mpandas._libs.hashtable.PyObjectHashTable.get_item\u001b[1;34m()\u001b[0m\n",
      "\u001b[1;31mKeyError\u001b[0m: 'census_tract'",
      "\nThe above exception was the direct cause of the following exception:\n",
      "\u001b[1;31mKeyError\u001b[0m                                  Traceback (most recent call last)",
      "\u001b[1;32m<ipython-input-36-095c26e637e2>\u001b[0m in \u001b[0;36m<module>\u001b[1;34m\u001b[0m\n\u001b[0;32m      2\u001b[0m \u001b[0mcounts\u001b[0m \u001b[1;33m=\u001b[0m \u001b[0mcollections\u001b[0m\u001b[1;33m.\u001b[0m\u001b[0mdefaultdict\u001b[0m\u001b[1;33m(\u001b[0m\u001b[0mint\u001b[0m\u001b[1;33m)\u001b[0m\u001b[1;33m\u001b[0m\u001b[1;33m\u001b[0m\u001b[0m\n\u001b[0;32m      3\u001b[0m \u001b[1;32mfor\u001b[0m \u001b[0mindex\u001b[0m\u001b[1;33m,\u001b[0m \u001b[0mrow\u001b[0m \u001b[1;32min\u001b[0m \u001b[0mdata\u001b[0m\u001b[1;33m.\u001b[0m\u001b[0miterrows\u001b[0m\u001b[1;33m(\u001b[0m\u001b[1;33m)\u001b[0m\u001b[1;33m:\u001b[0m\u001b[1;33m\u001b[0m\u001b[1;33m\u001b[0m\u001b[0m\n\u001b[1;32m----> 4\u001b[1;33m     \u001b[1;32mfor\u001b[0m \u001b[0mcensus_tract\u001b[0m \u001b[1;32min\u001b[0m \u001b[0mrow\u001b[0m\u001b[1;33m[\u001b[0m\u001b[1;34m\"census_tract\"\u001b[0m\u001b[1;33m]\u001b[0m\u001b[1;33m:\u001b[0m\u001b[1;33m\u001b[0m\u001b[1;33m\u001b[0m\u001b[0m\n\u001b[0m\u001b[0;32m      5\u001b[0m         \u001b[1;31m#errors[census_tract] += (row[\"transport_time\"]-row[\"grid_time\"])\u001b[0m\u001b[1;33m\u001b[0m\u001b[1;33m\u001b[0m\u001b[1;33m\u001b[0m\u001b[0m\n\u001b[0;32m      6\u001b[0m         \u001b[0merrors\u001b[0m\u001b[1;33m[\u001b[0m\u001b[0mcensus_tract\u001b[0m\u001b[1;33m]\u001b[0m \u001b[1;33m+=\u001b[0m \u001b[0mrow\u001b[0m\u001b[1;33m[\u001b[0m\u001b[1;34m'response_time'\u001b[0m\u001b[1;33m]\u001b[0m\u001b[1;33m\u001b[0m\u001b[1;33m\u001b[0m\u001b[0m\n",
      "\u001b[1;32m~\\Anaconda3\\lib\\site-packages\\pandas\\core\\series.py\u001b[0m in \u001b[0;36m__getitem__\u001b[1;34m(self, key)\u001b[0m\n\u001b[0;32m    880\u001b[0m \u001b[1;33m\u001b[0m\u001b[0m\n\u001b[0;32m    881\u001b[0m         \u001b[1;32melif\u001b[0m \u001b[0mkey_is_scalar\u001b[0m\u001b[1;33m:\u001b[0m\u001b[1;33m\u001b[0m\u001b[1;33m\u001b[0m\u001b[0m\n\u001b[1;32m--> 882\u001b[1;33m             \u001b[1;32mreturn\u001b[0m \u001b[0mself\u001b[0m\u001b[1;33m.\u001b[0m\u001b[0m_get_value\u001b[0m\u001b[1;33m(\u001b[0m\u001b[0mkey\u001b[0m\u001b[1;33m)\u001b[0m\u001b[1;33m\u001b[0m\u001b[1;33m\u001b[0m\u001b[0m\n\u001b[0m\u001b[0;32m    883\u001b[0m \u001b[1;33m\u001b[0m\u001b[0m\n\u001b[0;32m    884\u001b[0m         \u001b[1;32mif\u001b[0m \u001b[0mis_hashable\u001b[0m\u001b[1;33m(\u001b[0m\u001b[0mkey\u001b[0m\u001b[1;33m)\u001b[0m\u001b[1;33m:\u001b[0m\u001b[1;33m\u001b[0m\u001b[1;33m\u001b[0m\u001b[0m\n",
      "\u001b[1;32m~\\Anaconda3\\lib\\site-packages\\pandas\\core\\series.py\u001b[0m in \u001b[0;36m_get_value\u001b[1;34m(self, label, takeable)\u001b[0m\n\u001b[0;32m    987\u001b[0m \u001b[1;33m\u001b[0m\u001b[0m\n\u001b[0;32m    988\u001b[0m         \u001b[1;31m# Similar to Index.get_value, but we do not fall back to positional\u001b[0m\u001b[1;33m\u001b[0m\u001b[1;33m\u001b[0m\u001b[1;33m\u001b[0m\u001b[0m\n\u001b[1;32m--> 989\u001b[1;33m         \u001b[0mloc\u001b[0m \u001b[1;33m=\u001b[0m \u001b[0mself\u001b[0m\u001b[1;33m.\u001b[0m\u001b[0mindex\u001b[0m\u001b[1;33m.\u001b[0m\u001b[0mget_loc\u001b[0m\u001b[1;33m(\u001b[0m\u001b[0mlabel\u001b[0m\u001b[1;33m)\u001b[0m\u001b[1;33m\u001b[0m\u001b[1;33m\u001b[0m\u001b[0m\n\u001b[0m\u001b[0;32m    990\u001b[0m         \u001b[1;32mreturn\u001b[0m \u001b[0mself\u001b[0m\u001b[1;33m.\u001b[0m\u001b[0mindex\u001b[0m\u001b[1;33m.\u001b[0m\u001b[0m_get_values_for_loc\u001b[0m\u001b[1;33m(\u001b[0m\u001b[0mself\u001b[0m\u001b[1;33m,\u001b[0m \u001b[0mloc\u001b[0m\u001b[1;33m,\u001b[0m \u001b[0mlabel\u001b[0m\u001b[1;33m)\u001b[0m\u001b[1;33m\u001b[0m\u001b[1;33m\u001b[0m\u001b[0m\n\u001b[0;32m    991\u001b[0m \u001b[1;33m\u001b[0m\u001b[0m\n",
      "\u001b[1;32m~\\Anaconda3\\lib\\site-packages\\pandas\\core\\indexes\\base.py\u001b[0m in \u001b[0;36mget_loc\u001b[1;34m(self, key, method, tolerance)\u001b[0m\n\u001b[0;32m   2895\u001b[0m                 \u001b[1;32mreturn\u001b[0m \u001b[0mself\u001b[0m\u001b[1;33m.\u001b[0m\u001b[0m_engine\u001b[0m\u001b[1;33m.\u001b[0m\u001b[0mget_loc\u001b[0m\u001b[1;33m(\u001b[0m\u001b[0mcasted_key\u001b[0m\u001b[1;33m)\u001b[0m\u001b[1;33m\u001b[0m\u001b[1;33m\u001b[0m\u001b[0m\n\u001b[0;32m   2896\u001b[0m             \u001b[1;32mexcept\u001b[0m \u001b[0mKeyError\u001b[0m \u001b[1;32mas\u001b[0m \u001b[0merr\u001b[0m\u001b[1;33m:\u001b[0m\u001b[1;33m\u001b[0m\u001b[1;33m\u001b[0m\u001b[0m\n\u001b[1;32m-> 2897\u001b[1;33m                 \u001b[1;32mraise\u001b[0m \u001b[0mKeyError\u001b[0m\u001b[1;33m(\u001b[0m\u001b[0mkey\u001b[0m\u001b[1;33m)\u001b[0m \u001b[1;32mfrom\u001b[0m \u001b[0merr\u001b[0m\u001b[1;33m\u001b[0m\u001b[1;33m\u001b[0m\u001b[0m\n\u001b[0m\u001b[0;32m   2898\u001b[0m \u001b[1;33m\u001b[0m\u001b[0m\n\u001b[0;32m   2899\u001b[0m         \u001b[1;32mif\u001b[0m \u001b[0mtolerance\u001b[0m \u001b[1;32mis\u001b[0m \u001b[1;32mnot\u001b[0m \u001b[1;32mNone\u001b[0m\u001b[1;33m:\u001b[0m\u001b[1;33m\u001b[0m\u001b[1;33m\u001b[0m\u001b[0m\n",
      "\u001b[1;31mKeyError\u001b[0m: 'census_tract'"
     ]
    }
   ],
   "source": [
    "errors = collections.defaultdict(int)\n",
    "counts = collections.defaultdict(int)\n",
    "for index, row in data.iterrows():\n",
    "    for census_tract in row[\"census_tract\"]:\n",
    "        #errors[census_tract] += (row[\"transport_time\"]-row[\"grid_time\"])\n",
    "        errors[census_tract] += row['response_time']\n",
    "        counts[census_tract] += 1\n",
    "\n",
    "print(errors)\n",
    "        \n",
    "        \n",
    "kml = simplekml.Kml(open=1)\n",
    "\n",
    "# Gradient Plot\n",
    "LATITUDE_DELTA = grid_json[\"latitude_step\"]\n",
    "LONGITUDE_DELTA = grid_json[\"longitude_step\"]\n",
    "min_error = min([e if e != 0 else float(\"inf\") for e in errors.values()])\n",
    "max_error = max(errors.values())\n",
    "for census_tract in errors:\n",
    "    if errors[census_tract] == 0:\n",
    "        pol = kml.newpolygon(name=\"Tract: {}, Error: {}, Count: {}\".format\n",
    "                             (census_tract, ((errors[census_tract]*100)//1)/100, counts[census_tract]))\n",
    "        pol.outerboundaryis = d[census_tract.replace(\"_\", \".\")][0]\n",
    "        pol.style.polystyle.color = \"FFFFFFFF\"\n",
    "        continue\n",
    "    pol = kml.newpolygon(name=\"Tract: {}, Error: {}%, Count: {}\".format\n",
    "                         (census_tract, int(((errors[census_tract]*100)//1)), counts[census_tract]))    \n",
    "    pol.outerboundaryis = d[census_tract.replace(\"_\", \".\")][0]\n",
    "    color = int((errors[census_tract] - min_error)/(max_error-min_error)*511)\n",
    "    if errors[census_tract] == 0:\n",
    "        pol.style.polystyle.fill = 0\n",
    "    elif color <= 255:\n",
    "        pol.style.polystyle.color = \"{:0>2}FF0000\".format(hex((255-(-64)) - (color*(256-64)//256+64))[2:])\n",
    "    elif color > 255:\n",
    "        pol.style.polystyle.color = \"{:0>2}0000FF\".format(hex((color-256)*(256-64)//256+64)[2:])\n",
    "\n",
    "kml.save(\"austin_simulation_response_time_heatmap.kml\")"
   ]
  },
  {
   "cell_type": "code",
   "execution_count": 572,
   "metadata": {},
   "outputs": [],
   "source": [
    "# # Std\n",
    "# errors = collections.defaultdict(list)\n",
    "# for index, row in data.iterrows():\n",
    "#     for census_tract in row[\"census_tract\"]:\n",
    "#         errors[census_tract].append(row[\"transport_time\"] - row[\"grid_time\"])\n",
    "\n",
    "# for census_tract in errors:\n",
    "#     errors[census_tract] = np.std(errors[census_tract])\n"
   ]
  },
  {
   "cell_type": "code",
   "execution_count": 573,
   "metadata": {},
   "outputs": [],
   "source": [
    "# # L1\n",
    "# errors = collections.defaultdict(int)\n",
    "# counts = collections.defaultdict(int)\n",
    "# for index, row in data.iterrows():\n",
    "#     for census_tract in row[\"census_tract\"]:\n",
    "#         errors[census_tract] += abs(row[\"transport_time\"] - row[\"grid_time\"])\n",
    "#         counts[census_tract] += 1\n",
    "# for census_tract in errors:\n",
    "#     errors[census_tract] /= counts[census_tract]"
   ]
  },
  {
   "cell_type": "code",
   "execution_count": 574,
   "metadata": {},
   "outputs": [],
   "source": [
    "# # L1 divided mean\n",
    "# errors = collections.defaultdict(int)\n",
    "# counts = collections.defaultdict(int)\n",
    "# transports = collections.defaultdict(int)\n",
    "# for index, row in data.iterrows():\n",
    "#     for census_tract in row[\"census_tract\"]:\n",
    "#         errors[census_tract] += abs(row[\"transport_time\"] - row[\"grid_time\"])\n",
    "#         transports[census_tract] += row[\"transport_time\"]\n",
    "#         counts[census_tract] += 1\n",
    "# for census_tract in errors:\n",
    "#     errors[census_tract] /= counts[census_tract]\n",
    "#     # Divide out the mean\n",
    "#     errors[census_tract] /= (transports[census_tract]/counts[census_tract])"
   ]
  },
  {
   "cell_type": "code",
   "execution_count": 599,
   "metadata": {},
   "outputs": [],
   "source": [
    "kml = simplekml.Kml(open=1)"
   ]
  },
  {
   "cell_type": "code",
   "execution_count": 600,
   "metadata": {},
   "outputs": [],
   "source": [
    "# # Gradient Data\n",
    "# LATITUDE_DELTA = grid_json[\"latitude_step\"]\n",
    "# LONGITUDE_DELTA = grid_json[\"longitude_step\"]\n",
    "# min_error = min([e if e != 0 else float(\"inf\") for e in errors.values()])\n",
    "# max_error = max(errors.values())\n",
    "# for census_tract in errors:\n",
    "# #     if census_tract == \"0_0\":\n",
    "# #         continue\n",
    "#     if errors[census_tract] == 0:\n",
    "#         pol = kml.newpolygon(name=\"Tract: {}, Error: {}, Count: {}\".format(census_tract, ((errors[census_tract]*100)//1)/100, counts[census_tract]))\n",
    "#         pol.outerboundaryis = d[census_tract.replace(\"_\", \".\")][0]\n",
    "#         pol.style.polystyle.color = \"FFFFFFFF\"\n",
    "#         continue\n",
    "#     pol = kml.newpolygon(name=\"Tract: {}, Error: {}%, Count: {}\".format(census_tract, int(((errors[census_tract]*100)//1)), counts[census_tract]))    \n",
    "#     pol.outerboundaryis = d[census_tract.replace(\"_\", \".\")][0]\n",
    "#     color = int((errors[census_tract] - min_error)/(max_error-min_error)*511)\n",
    "#     if errors[census_tract] == 0:\n",
    "#         pol.style.polystyle.fill = 0\n",
    "#     elif color <= 255:\n",
    "#         pol.style.polystyle.color = \"{:0>2}FF0000\".format(hex((255-(-64)) - (color*(256-64)//256+64))[2:])\n",
    "#     elif color > 255:\n",
    "#         pol.style.polystyle.color = \"{:0>2}0000FF\".format(hex((color-256)*(256-64)//256+64)[2:])\n"
   ]
  },
  {
   "cell_type": "code",
   "execution_count": 601,
   "metadata": {},
   "outputs": [],
   "source": [
    "# Binary Data\n",
    "LATITUDE_DELTA = grid_json[\"latitude_step\"]\n",
    "LONGITUDE_DELTA = grid_json[\"longitude_step\"]\n",
    "min_error = min(errors.values())\n",
    "max_error = max(errors.values())\n",
    "for census_tract in errors:\n",
    "#     if census_tract == \"0_0\":\n",
    "#         continue\n",
    "    pol = kml.newpolygon(name=\"Tract: {}, Skew: {}%, Count: {}\".format(census_tract, int(((errors[census_tract]*100)//1)), counts[census_tract]))\n",
    "    pol.outerboundaryis = d[census_tract.replace(\"_\", \".\")][0]\n",
    "    color = 511 if errors[census_tract] > 0.50 else 0\n",
    "    if errors[census_tract] == 0:\n",
    "        pol.style.polystyle.fill = 0\n",
    "    elif color <= 255:\n",
    "        pol.style.polystyle.color = \"{:0>2}FF0000\".format(hex((255-(-64)) - (color*(256-64)//256+64))[2:])\n",
    "    elif color > 255:\n",
    "        pol.style.polystyle.color = \"{:0>2}0000FF\".format(hex((color-256)*(256-64)//256+64)[2:])\n",
    "\n"
   ]
  },
  {
   "cell_type": "code",
   "execution_count": 602,
   "metadata": {},
   "outputs": [],
   "source": [
    "# # Count\n",
    "# LATITUDE_DELTA = grid_json[\"latitude_step\"]\n",
    "# LONGITUDE_DELTA = grid_json[\"longitude_step\"]\n",
    "# min_error = min(counts.values())\n",
    "# max_error = max(counts.values())\n",
    "# for census_tract in errors:\n",
    "#     pol = kml.newpolygon(name=\"{} : {}\".format(census_tract, counts[census_tract]))\n",
    "#     pol.outerboundaryis = d[census_tract.replace(\"_\", \".\")][0]\n",
    "#     color = int((counts[census_tract] - min_error)/(max_error-min_error)*511)\n",
    "#     if errors[census_tract] == 0:\n",
    "#         pol.style.polystyle.fill = 0\n",
    "#     elif color <= 255:\n",
    "#         pol.style.polystyle.color = \"{:0>2}FF0000\".format(hex((255-(-64)) - (color*(256-64)//256+64))[2:])\n",
    "#     elif color > 255:\n",
    "#         pol.style.polystyle.color = \"{:0>2}0000FF\".format(hex((color-256)*(256-64)//256+64)[2:])\n",
    "\n"
   ]
  },
  {
   "cell_type": "code",
   "execution_count": 603,
   "metadata": {},
   "outputs": [],
   "source": [
    "kml.save(\"census_skew.kml\")"
   ]
  },
  {
   "cell_type": "code",
   "execution_count": 608,
   "metadata": {
    "scrolled": true
   },
   "outputs": [
    {
     "data": {
      "text/plain": [
       "[1792,\n",
       " 1793,\n",
       " 1794,\n",
       " 1795,\n",
       " 1668,\n",
       " 1669,\n",
       " 1670,\n",
       " 1671,\n",
       " 1672,\n",
       " 1673,\n",
       " 1546,\n",
       " 1547,\n",
       " 1548,\n",
       " 1549,\n",
       " 1550,\n",
       " 1423,\n",
       " 1424,\n",
       " 1425,\n",
       " 1729,\n",
       " 1730,\n",
       " 1731,\n",
       " 1732,\n",
       " 1733,\n",
       " 1734,\n",
       " 1607,\n",
       " 1608,\n",
       " 1609,\n",
       " 1610,\n",
       " 1611,\n",
       " 1484,\n",
       " 1485,\n",
       " 1486,\n",
       " 1487,\n",
       " 1488,\n",
       " 1362,\n",
       " 1363]"
      ]
     },
     "execution_count": 608,
     "metadata": {},
     "output_type": "execute_result"
    }
   ],
   "source": [
    "g.census_tract_region_map[\"17_60\"]"
   ]
  },
  {
   "cell_type": "code",
   "execution_count": 340,
   "metadata": {},
   "outputs": [
    {
     "data": {
      "text/plain": [
       "3.6893462861557573"
      ]
     },
     "execution_count": 340,
     "metadata": {},
     "output_type": "execute_result"
    }
   ],
   "source": [
    "sum(counts.values())/len(data)"
   ]
  },
  {
   "cell_type": "code",
   "execution_count": 593,
   "metadata": {},
   "outputs": [
    {
     "data": {
      "text/plain": [
       "0.6696269982238011"
      ]
     },
     "execution_count": 593,
     "metadata": {},
     "output_type": "execute_result"
    }
   ],
   "source": [
    "max_error"
   ]
  },
  {
   "cell_type": "markdown",
   "metadata": {},
   "source": [
    "##### 4th to last data point\n",
    "##### https://www.google.com/maps/dir/30.224984,-97.774368/30.204,+-97.789/@30.2139373,-97.7904536,15z/data=!3m1!4b1!4m7!4m6!1m0!1m3!2m2!1d-97.789!2d30.204!3e0"
   ]
  },
  {
   "cell_type": "code",
   "execution_count": 606,
   "metadata": {},
   "outputs": [
    {
     "data": {
      "text/plain": [
       "18525"
      ]
     },
     "execution_count": 606,
     "metadata": {},
     "output_type": "execute_result"
    }
   ],
   "source": [
    "max(counts.values())"
   ]
  },
  {
   "cell_type": "code",
   "execution_count": 607,
   "metadata": {},
   "outputs": [
    {
     "data": {
      "text/plain": [
       "array(['M09', 'DM03', 'DMO02', 'M10', 'M04', 'M20', 'M31', 'M15', 'M06',\n",
       "       'M28', 'M14', 'M13', 'M02', 'M08', 'DM01', 'DM05', 'M19', 'M29',\n",
       "       'M33', 'DM06', 'M05', 'DM02', 'M12', 'M07', 'M23', 'M01', 'M35',\n",
       "       'DC05', 'M03', 'M18', 'M34', 'M26', 'DMO05', 'M22', 'M11', 'M21',\n",
       "       'M32', 'M30', 'DM04', 'DM10', 'M17', 'DIV03', 'DC01', 'DC03',\n",
       "       'DC06', 'M16', 'M37', 'DM07', 'DM08', 'M25', 'M24', 'DIV05',\n",
       "       'DC02', 'DM09', 'PRU02', 'CHP100', 'DC04', 'DMO04', 'CHP21',\n",
       "       'CHP01', 'CHP02', 'CHP12', 'PA01', 'DC05a', 'DC03a', 'DC06a',\n",
       "       'MD2', 'M27', 'CHP07', 'ATU01', 'EMSPIO3', 'CHP03', 'PRU01',\n",
       "       'DM30', 'MOC05', 'CHP06', 'MTRC3', 'MCOT01', 'MD1', 'DM12',\n",
       "       'EMSPIO1', 'CHP11', 'DM14s', 'M36', 'DM15', 'MD4', 'DM11', 'CHP09',\n",
       "       'DMO03', 'DC02a', 'CAPT03', 'EMS3', 'DIV04', 'DIV01', 'CHP08',\n",
       "       'DC13', 'SUP7', 'SEM4', 'DC04a', 'EMSPIO2', 'MOC03', 'DM15s',\n",
       "       'DM11s', 'CAPT01', 'DMO01', 'MCOT02', 'MCOT05', 'SUP1', 'MD6',\n",
       "       'CHP10', 'DM14', 'DC07a', 'MCOT04', 'DC07', 'DC01a', 'DC10',\n",
       "       'DIV02', 'DECON1', 'OMD02', 'DC12', 'DECON2', 'CHP05', 'SOTC1',\n",
       "       'SUP2', 'MOC02', 'MCOT03', 'MOC04', 'DC09', 'SRU1', 'SRU5',\n",
       "       'DM10s', 'MPV701', 'SOTC2', 'RTF01', 'DM12s', 'CHP20', 'CHP04',\n",
       "       'DM73', 'SEL01', 'SRU4', 'MTRC6', 'MTRC1', 'CAPT02', 'DM76',\n",
       "       'MCRU1', 'DM74', 'DM77', 'DM78', 'DM75', 'SRU2', 'DM71', 'DM72',\n",
       "       'EXPL01', 'EOC01', 'DIV06', 'EOC02', 'DC14', 'RTF02', 'DM70',\n",
       "       'MTRC2', 'ESQ01', 'CCP2', 'DM08s', 'CCP3', 'SRU3', 'CCP1', 'BK02',\n",
       "       'CART10', 'CART09', 'CART12', 'BK01', 'CART13', 'CART11', 'CART14',\n",
       "       'BFT02', 'BK04', 'BFT05', 'BK03', 'BK06', 'BK05', 'CART18',\n",
       "       'BFT06', 'MTRC4', 'CC04', 'BOAT91', 'SELC01', 'MOC06', 'DECON3',\n",
       "       'SUP3'], dtype=object)"
      ]
     },
     "execution_count": 607,
     "metadata": {},
     "output_type": "execute_result"
    }
   ],
   "source": [
    "data[\"Radio_Name\"].unique()"
   ]
  },
  {
   "cell_type": "code",
   "execution_count": 24,
   "metadata": {},
   "outputs": [
    {
     "data": {
      "text/plain": [
       "191567"
      ]
     },
     "execution_count": 24,
     "metadata": {},
     "output_type": "execute_result"
    }
   ],
   "source": [
    "len(data)"
   ]
  },
  {
   "cell_type": "code",
   "execution_count": 29,
   "metadata": {},
   "outputs": [
    {
     "data": {
      "text/plain": [
       "-955.7083258928578"
      ]
     },
     "execution_count": 29,
     "metadata": {},
     "output_type": "execute_result"
    }
   ],
   "source": [
    "min(errors.values())"
   ]
  },
  {
   "cell_type": "code",
   "execution_count": 28,
   "metadata": {},
   "outputs": [
    {
     "data": {
      "text/plain": [
       "90.5403552397864"
      ]
     },
     "execution_count": 28,
     "metadata": {},
     "output_type": "execute_result"
    }
   ],
   "source": [
    "max(errors.values())"
   ]
  },
  {
   "cell_type": "code",
   "execution_count": null,
   "metadata": {},
   "outputs": [],
   "source": []
  }
 ],
 "metadata": {
  "kernelspec": {
   "display_name": "Python 3",
   "language": "python",
   "name": "python3"
  },
  "language_info": {
   "codemirror_mode": {
    "name": "ipython",
    "version": 3
   },
   "file_extension": ".py",
   "mimetype": "text/x-python",
   "name": "python",
   "nbconvert_exporter": "python",
   "pygments_lexer": "ipython3",
   "version": "3.7.4"
  }
 },
 "nbformat": 4,
 "nbformat_minor": 4
}

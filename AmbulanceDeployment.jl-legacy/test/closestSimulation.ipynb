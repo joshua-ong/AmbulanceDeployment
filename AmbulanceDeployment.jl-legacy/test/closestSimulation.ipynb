{
 "cells": [
  {
   "cell_type": "code",
   "execution_count": 2,
   "metadata": {},
   "outputs": [
    {
     "name": "stderr",
     "output_type": "stream",
     "text": [
      "\u001b[32m\u001b[1m  Resolving\u001b[22m\u001b[39m package versions...\n",
      "\u001b[32m\u001b[1mNo Changes\u001b[22m\u001b[39m to `~/.git/AmbulanceDeployement/AmbulanceDeployment.jl-legacy/Project.toml`\n",
      "\u001b[32m\u001b[1mNo Changes\u001b[22m\u001b[39m to `~/.git/AmbulanceDeployement/AmbulanceDeployment.jl-legacy/Manifest.toml`\n",
      "\u001b[32m\u001b[1m  Resolving\u001b[22m\u001b[39m package versions...\n",
      "\u001b[32m\u001b[1mNo Changes\u001b[22m\u001b[39m to `~/.git/AmbulanceDeployement/AmbulanceDeployment.jl-legacy/Project.toml`\n",
      "\u001b[32m\u001b[1mNo Changes\u001b[22m\u001b[39m to `~/.git/AmbulanceDeployement/AmbulanceDeployment.jl-legacy/Manifest.toml`\n",
      "\u001b[32m\u001b[1m Activating\u001b[22m\u001b[39m environment at `~/.git/AmbulanceDeployement/AmbulanceDeployment.jl-legacy/Project.toml`\n",
      "┌ Info: Precompiling DataFrames [a93c6f00-e57d-5684-b7b6-d8193f3e46c0]\n",
      "└ @ Base loading.jl:1278\n",
      "┌ Info: Precompiling CSV [336ed68f-0bac-5ca0-87d4-7b16caf5d00b]\n",
      "└ @ Base loading.jl:1278\n",
      "┌ Info: Precompiling Plots [91a5bcdd-55d7-5caf-9e0b-520d859cae80]\n",
      "└ @ Base loading.jl:1278\n"
     ]
    },
    {
     "data": {
      "text/plain": [
       "\"/Users/guyfarmer/.git/AmbulanceDeployement/AmbulanceDeployment.jl-legacy\""
      ]
     },
     "execution_count": 2,
     "metadata": {},
     "output_type": "execute_result"
    }
   ],
   "source": [
    "import Pkg\n",
    "Pkg.add(\"Pkg\")\n",
    "Pkg.add(\"Dates\")\n",
    "\n",
    "cd(\"/Users/guyfarmer/ambulance_connect/AmbulanceDeployement/AmbulanceDeployment.jl-legacy/\")\n",
    "Pkg.activate(\".\")\n",
    "\n",
    "using DataFrames, JLD, Distributions, CSV, Random, Plots,JSON\n",
    "import DataStructures: PriorityQueue, enqueue!, dequeue!\n",
    "\n",
    "turnaround = Distributions.LogNormal(3.65, 0.3)\n",
    "lambda = 0\n",
    "local_path = \"\"\n",
    "model_name = \"Stochastic\"\n",
    "namb = 40\n",
    "ncalls = 1000\n",
    "#using AmbulanceDeployment\n",
    "\n",
    "pwd()"
   ]
  },
  {
   "cell_type": "code",
   "execution_count": 3,
   "metadata": {},
   "outputs": [
    {
     "data": {
      "text/plain": [
       "\"/Users/guyfarmer/.git/AmbulanceDeployement/AmbulanceDeployment.jl-legacy/test\""
      ]
     },
     "execution_count": 3,
     "metadata": {},
     "output_type": "execute_result"
    }
   ],
   "source": [
    "cd(\"test/\")\n",
    "pwd()"
   ]
  },
  {
   "cell_type": "code",
   "execution_count": 4,
   "metadata": {},
   "outputs": [],
   "source": [
    "#using AmbulanceDeployment\n",
    "using Dates"
   ]
  },
  {
   "cell_type": "code",
   "execution_count": null,
   "metadata": {},
   "outputs": [],
   "source": []
  },
  {
   "cell_type": "code",
   "execution_count": 7,
   "metadata": {},
   "outputs": [
    {
     "name": "stderr",
     "output_type": "stream",
     "text": [
      "\u001b[32m\u001b[1m  Resolving\u001b[22m\u001b[39m package versions...\n",
      "\u001b[32m\u001b[1mNo Changes\u001b[22m\u001b[39m to `~/.git/AmbulanceDeployement/AmbulanceDeployment.jl-legacy/Project.toml`\n",
      "\u001b[32m\u001b[1mNo Changes\u001b[22m\u001b[39m to `~/.git/AmbulanceDeployement/AmbulanceDeployment.jl-legacy/Manifest.toml`\n",
      "\u001b[32m\u001b[1m  Resolving\u001b[22m\u001b[39m package versions...\n",
      "\u001b[32m\u001b[1mNo Changes\u001b[22m\u001b[39m to `~/.git/AmbulanceDeployement/AmbulanceDeployment.jl-legacy/Project.toml`\n",
      "\u001b[32m\u001b[1mNo Changes\u001b[22m\u001b[39m to `~/.git/AmbulanceDeployement/AmbulanceDeployment.jl-legacy/Manifest.toml`\n"
     ]
    },
    {
     "ename": "LoadError",
     "evalue": "LoadError: syntax: incomplete: \"function\" at /Users/guyfarmer/.git/AmbulanceDeployement/AmbulanceDeployment.jl-legacy/src/simulate.jl:50 requires end\nin expression starting at /Users/guyfarmer/.git/AmbulanceDeployement/AmbulanceDeployment.jl-legacy/src/simulate.jl:50",
     "output_type": "error",
     "traceback": [
      "LoadError: syntax: incomplete: \"function\" at /Users/guyfarmer/.git/AmbulanceDeployement/AmbulanceDeployment.jl-legacy/src/simulate.jl:50 requires end\nin expression starting at /Users/guyfarmer/.git/AmbulanceDeployement/AmbulanceDeployment.jl-legacy/src/simulate.jl:50",
      "",
      "Stacktrace:",
      " [1] top-level scope at /Users/guyfarmer/.git/AmbulanceDeployement/AmbulanceDeployment.jl-legacy/src/simulate.jl:50",
      " [2] include(::String) at ./client.jl:457",
      " [3] top-level scope at In[7]:5",
      " [4] include_string(::Function, ::Module, ::String, ::String) at ./loading.jl:1091",
      " [5] execute_code(::String, ::String) at /Users/guyfarmer/.julia/packages/IJulia/a1SNk/src/execute_request.jl:27",
      " [6] execute_request(::ZMQ.Socket, ::IJulia.Msg) at /Users/guyfarmer/.julia/packages/IJulia/a1SNk/src/execute_request.jl:86",
      " [7] #invokelatest#1 at ./essentials.jl:710 [inlined]",
      " [8] invokelatest at ./essentials.jl:709 [inlined]",
      " [9] eventloop(::ZMQ.Socket) at /Users/guyfarmer/.julia/packages/IJulia/a1SNk/src/eventloop.jl:8",
      " [10] (::IJulia.var\"#15#18\")() at ./task.jl:356"
     ]
    }
   ],
   "source": [
    "include(\"..//src//model.jl\")\n",
    "include(\"..//src//dispatch/closestdispatch.jl\")\n",
    "include(\"..//src//problem.jl\")\n",
    "include(\"..//src//evaluate.jl\")\n",
    "include(\"..//src//simulate.jl\")"
   ]
  },
  {
   "cell_type": "code",
   "execution_count": 78,
   "metadata": {},
   "outputs": [],
   "source": [
    "hospitals = CSV.File(string(local_path,\"../test/austin-data/hospitals.csv\")) |> DataFrame\n",
    "stations = CSV.File(string(local_path,\"../test/austin-data/stations.csv\")) |> DataFrame\n",
    "hourly_calls = CSV.File(\"../test/austin-data/Full_WeekdayCalls.csv\") |> DataFrame\n",
    "adjacent_nbhd = CSV.File(\"../test/austin-data/adjacent_nbhd.csv\") |> DataFrame\n",
    "coverage = CSV.read(\"../test/austin-data/coverage_real.csv\", DataFrame, header=false)\n",
    "coverage = convert(Array{Bool, 2}, coverage[:, :])\n",
    "incidents = CSV.File(\"../test/austin-data/austin_incidents.csv\") |> DataFrame\n",
    "solverstats = JLD.load(\"../src/outputs/austin_team_stats_1_03.jld\")\n",
    "amb_deployment = solverstats[\"amb_deployment\"]\n",
    "model_dict = Dict{String, Symbol}(\"Stochastic\"=>:Stochastic, \"Robust01\"=>:Robust01, \"Robust005\"=>:Robust005, \"Robust001\"=>:Robust001, \"Robust0001\"=>:Robust0001,\n",
    "          \"Robust00001\"=>:Robust00001, \"MEXCLP\"=>:MEXCLP, \"MALP\"=>:MALP)"
   ]
  },
  {
   "cell_type": "code",
   "execution_count": 79,
   "metadata": {},
   "outputs": [],
   "source": [
    "p = DeploymentProblem(\n",
    "          hourly_calls,\n",
    "          adjacent_nbhd,\n",
    "          coverage,\n",
    "          namb = namb,\n",
    "          train_filter = (hourly_calls[!,:year] .== 2019) .* (hourly_calls[!,:month] .<= 3)\n",
    "          )\n",
    "test_calls = CSV.File(\"../test/austin-data/austin_test_calls.csv\")|> DataFrame\n",
    "test_calls = test_calls[1:ncalls,:]\n",
    "println(\"running $namb ambuances & $ncalls calls\")\n",
    "\n",
    "# distribution of ambulances across all of the stations\n",
    "x = amb_deployment[model_dict[model_name]][namb]\n",
    "\n",
    "#establishes the dispatch problem\n",
    "problem = DispatchProblem(test_calls, hospitals, stations, p.coverage, x, turnaround=turnaround)\n",
    "\n",
    "#establishes the dispatch model\n",
    "dispatch = ClosestDispatch(p, problem)\n",
    "\n",
    "Random.seed!(1234)\n",
    "@time df, guiArray = simulate_events!(problem, dispatch)"
   ]
  },
  {
   "cell_type": "code",
   "execution_count": null,
   "metadata": {},
   "outputs": [],
   "source": []
  },
  {
   "cell_type": "code",
   "execution_count": null,
   "metadata": {},
   "outputs": [],
   "source": []
  },
  {
   "cell_type": "code",
   "execution_count": null,
   "metadata": {},
   "outputs": [],
   "source": []
  },
  {
   "cell_type": "code",
   "execution_count": null,
   "metadata": {},
   "outputs": [],
   "source": []
  },
  {
   "cell_type": "code",
   "execution_count": null,
   "metadata": {},
   "outputs": [],
   "source": []
  }
 ],
 "metadata": {
  "kernelspec": {
   "display_name": "Julia 1.5.1",
   "language": "julia",
   "name": "julia-1.5"
  },
  "language_info": {
   "file_extension": ".jl",
   "mimetype": "application/julia",
   "name": "julia",
   "version": "1.5.1"
  }
 },
 "nbformat": 4,
 "nbformat_minor": 4
}

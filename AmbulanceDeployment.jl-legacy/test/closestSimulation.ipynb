{
 "cells": [
  {
   "cell_type": "code",
   "execution_count": 24,
   "metadata": {},
   "outputs": [
    {
     "name": "stderr",
     "output_type": "stream",
     "text": [
      "\u001b[32m\u001b[1m  Resolving\u001b[22m\u001b[39m package versions...\n",
      "\u001b[32m\u001b[1mNo Changes\u001b[22m\u001b[39m to `~/.git/AmbulanceDeployement/AmbulanceDeployment.jl-legacy/Project.toml`\n",
      "\u001b[32m\u001b[1mNo Changes\u001b[22m\u001b[39m to `~/.git/AmbulanceDeployement/AmbulanceDeployment.jl-legacy/Manifest.toml`\n",
      "\u001b[32m\u001b[1m  Resolving\u001b[22m\u001b[39m package versions...\n",
      "\u001b[32m\u001b[1mNo Changes\u001b[22m\u001b[39m to `~/.git/AmbulanceDeployement/AmbulanceDeployment.jl-legacy/Project.toml`\n",
      "\u001b[32m\u001b[1mNo Changes\u001b[22m\u001b[39m to `~/.git/AmbulanceDeployement/AmbulanceDeployment.jl-legacy/Manifest.toml`\n",
      "\u001b[32m\u001b[1m Activating\u001b[22m\u001b[39m environment at `~/.git/AmbulanceDeployement/AmbulanceDeployment.jl-legacy/Project.toml`\n",
      "\u001b[32m\u001b[1m  Resolving\u001b[22m\u001b[39m package versions...\n",
      "\u001b[32m\u001b[1mNo Changes\u001b[22m\u001b[39m to `~/.git/AmbulanceDeployement/AmbulanceDeployment.jl-legacy/Project.toml`\n",
      "\u001b[32m\u001b[1mNo Changes\u001b[22m\u001b[39m to `~/.git/AmbulanceDeployement/AmbulanceDeployment.jl-legacy/Manifest.toml`\n",
      "\u001b[32m\u001b[1m  Resolving\u001b[22m\u001b[39m package versions...\n",
      "\u001b[32m\u001b[1mNo Changes\u001b[22m\u001b[39m to `~/.git/AmbulanceDeployement/AmbulanceDeployment.jl-legacy/Project.toml`\n",
      "\u001b[32m\u001b[1mNo Changes\u001b[22m\u001b[39m to `~/.git/AmbulanceDeployement/AmbulanceDeployment.jl-legacy/Manifest.toml`\n"
     ]
    },
    {
     "name": "stdout",
     "output_type": "stream",
     "text": [
      "running 40 ambuances & 1000 calls\n",
      "creating the dispatch problem :[1, 2, 1, 1, 1, 0, 1, 2, 2, 0, 1, 0, 0, 1, 1, 1, 4, 3, 1, 0, 0, 2, 0, 0, 1, 2, 0, 1, 1, 1, 1, 1, 1, 2, 0, 0, 0, 0, 1, 0, 1, 0, 1, 1]\n"
     ]
    },
    {
     "data": {
      "text/plain": [
       "MersenneTwister(UInt32[0x000004d2], Random.DSFMT.DSFMT_state(Int32[-1393240018, 1073611148, 45497681, 1072875908, 436273599, 1073674613, -2043716458, 1073445557, -254908435, 1072827086  …  -599655111, 1073144102, 367655457, 1072985259, -1278750689, 1018350124, -597141475, 249849711, 382, 0]), [0.0, 0.0, 0.0, 0.0, 0.0, 0.0, 0.0, 0.0, 0.0, 0.0  …  0.0, 0.0, 0.0, 0.0, 0.0, 0.0, 0.0, 0.0, 0.0, 0.0], UInt128[0x00000000000000000000000000000000, 0x00000000000000000000000000000000, 0x00000000000000000000000000000000, 0x00000000000000000000000000000000, 0x00000000000000000000000000000000, 0x00000000000000000000000000000000, 0x00000000000000000000000000000000, 0x00000000000000000000000000000000, 0x00000000000000000000000000000000, 0x00000000000000000000000000000000  …  0x00000000000000000000000000000000, 0x00000000000000000000000000000000, 0x00000000000000000000000000000000, 0x00000000000000000000000000000000, 0x00000000000000000000000000000000, 0x00000000000000000000000000000000, 0x00000000000000000000000000000000, 0x00000000000000000000000000000000, 0x00000000000000000000000000000000, 0x00000000000000000000000000000000], 1002, 0)"
      ]
     },
     "execution_count": 24,
     "metadata": {},
     "output_type": "execute_result"
    }
   ],
   "source": [
    "import Pkg\n",
    "Pkg.add(\"Pkg\")\n",
    "Pkg.add(\"Dates\")\n",
    "\n",
    "guypath = \"/Users/guyfarmer/ambulance_connect/AmbulanceDeployement/AmbulanceDeployment.jl-legacy/\"\n",
    "michaelpath= \"/home/mhilborn/Desktop/UT-Spring2021/SeniorLab/AmbulanceDeployement/AmbulanceDeployment.jl-legacy\"\n",
    "\n",
    "cd(guypath)\n",
    "Pkg.activate(\".\")\n",
    "\n",
    "using DataFrames, JLD, Distributions, CSV, Random, Plots,JSON\n",
    "import DataStructures: PriorityQueue, enqueue!, dequeue!\n",
    "\n",
    "turnaround = Distributions.LogNormal(3.65, 0.3)\n",
    "lambda = 0\n",
    "local_path = \"\"\n",
    "model_name = \"Stochastic\"\n",
    "namb = 40\n",
    "ncalls = 1000\n",
    "#using AmbulanceDeployment\n",
    "\n",
    "pwd()\n",
    "\n",
    "cd(\"test/\")\n",
    "pwd()\n",
    "\n",
    "#using AmbulanceDeployment\n",
    "using Dates\n",
    "\n",
    "include(\"..//src//model.jl\")\n",
    "include(\"..//src//dispatch/closestdispatch.jl\")\n",
    "include(\"..//src//problem.jl\")\n",
    "include(\"..//src//evaluate.jl\")\n",
    "#include(\"..//src//simulate.jl\")\n",
    "\n",
    "hospitals = CSV.File(string(local_path,\"../test/austin-data/hospitals.csv\")) |> DataFrame\n",
    "stations = CSV.File(string(local_path,\"../test/austin-data/stations.csv\")) |> DataFrame\n",
    "hourly_calls = CSV.File(\"../test/austin-data/Full_WeekdayCalls.csv\") |> DataFrame\n",
    "adjacent_nbhd = CSV.File(\"../test/austin-data/adjacent_nbhd.csv\") |> DataFrame\n",
    "coverage = CSV.read(\"../test/austin-data/coverage_real.csv\", DataFrame, header=false)\n",
    "coverage = convert(Array{Bool, 2}, coverage[:, :])\n",
    "incidents = CSV.File(\"../test/austin-data/austin_incidents.csv\") |> DataFrame\n",
    "solverstats = JLD.load(\"../src/outputs/austin_team_stats_1_03.jld\")\n",
    "amb_deployment = solverstats[\"amb_deployment\"]\n",
    "model_dict = Dict{String, Symbol}(\"Stochastic\"=>:Stochastic, \"Robust01\"=>:Robust01, \"Robust005\"=>:Robust005, \"Robust001\"=>:Robust001, \"Robust0001\"=>:Robust0001,\n",
    "          \"Robust00001\"=>:Robust00001, \"MEXCLP\"=>:MEXCLP, \"MALP\"=>:MALP)\n",
    "\n",
    "\n",
    "p = DeploymentProblem(\n",
    "          hourly_calls,\n",
    "          adjacent_nbhd,\n",
    "          coverage,\n",
    "          namb = namb,\n",
    "          train_filter = (hourly_calls[!,:year] .== 2019) .* (hourly_calls[!,:month] .<= 3)\n",
    "          )\n",
    "test_calls = CSV.File(\"../test/austin-data/austin_test_calls.csv\")|> DataFrame\n",
    "test_calls = test_calls[1:ncalls,:]\n",
    "println(\"running $namb ambuances & $ncalls calls\")\n",
    "\n",
    "# distribution of ambulances across all of the stations\n",
    "x = amb_deployment[model_dict[model_name]][namb]\n",
    "\n",
    "#establishes the dispatch problem\n",
    "problem = DispatchProblem(test_calls, hospitals, stations, p.coverage, x, turnaround=turnaround)\n",
    "\n",
    "#establishes the dispatch model\n",
    "dispatch = ClosestDispatch(p, problem)\n",
    "\n",
    "Random.seed!(1234)\n",
    "\n"
   ]
  },
  {
   "cell_type": "code",
   "execution_count": 25,
   "metadata": {},
   "outputs": [],
   "source": [
    "using AmbulanceDeployment, Dates"
   ]
  },
  {
   "cell_type": "code",
   "execution_count": 30,
   "metadata": {},
   "outputs": [
    {
     "data": {
      "text/plain": [
       "call_event! (generic function with 1 method)"
      ]
     },
     "execution_count": 30,
     "metadata": {},
     "output_type": "execute_result"
    }
   ],
   "source": [
    "struct EMSEngine{T}\n",
    "    eventlog::DataFrame\n",
    "    eventqueue::PriorityQueue{T,Int,Base.Order.ForwardOrdering}\n",
    "    guiArray::Array{Any, 1}\n",
    "end\n",
    "\n",
    "struct gui_event\n",
    "    #call made / call responded / ambulance arrived\n",
    "    event_type::String\n",
    "    #neighborhood where call is made from\n",
    "    neighborhood_id::Int\n",
    "    # station where call is made from\n",
    "    deployment_id::Int\n",
    "    # id of the event generated\n",
    "    event_id::Int\n",
    "    ambulance_id::Int\n",
    "    arrival_time::Int\n",
    "    remaining_amb::Int\n",
    "    # current timestamp of event\n",
    "    timestamp::DateTime\n",
    "end\n",
    "\n",
    "## generates the priority queue and instantiates the EMSEngine struct\n",
    "function generateCalls(problem::DispatchProblem)\n",
    "    ncalls = nrow(problem.emergency_calls)\n",
    "    eventlog = DataFrame(\n",
    "        id = 1:ncalls,\n",
    "        dispatch_from = zeros(Int, ncalls),\n",
    "        waittime = fill(0.0, ncalls),\n",
    "        responsetime = fill(Inf, ncalls),\n",
    "        scenetime = fill(Inf, ncalls),\n",
    "        conveytime = fill(Inf, ncalls),\n",
    "        returntime = fill(Inf, ncalls),\n",
    "        return_to = zeros(Int, ncalls),\n",
    "        return_type = fill(:station, ncalls),\n",
    "        hospital = zeros(Int, ncalls),\n",
    "        ambulance = zeros(Int, ncalls)\n",
    "    )\n",
    "    eventqueue = PriorityQueue{Tuple{Symbol,Int,Int,Int},Int}()\n",
    "    guiArray = Any[]\n",
    "    for i in 1:nrow(problem.emergency_calls)\n",
    "        t = problem.emergency_calls[i, :arrival_seconds]\n",
    "        enqueue!(eventqueue, (:call, i, t, problem.emergency_calls[i, :neighborhood]), t)\n",
    "    end\n",
    "    EMSEngine{Tuple{Symbol,Int,Int,Int}}(eventlog, eventqueue,guiArray) ## returns the ems engine struct\n",
    "end\n",
    "\n",
    "function simulate_events!(problem::DispatchProblem, dispatch::ClosestDispatch)\n",
    "    engine = generateCalls(problem)\n",
    "    while(~isempty(engine.eventqueue))\n",
    "        (event, id, t, value) = dequeue!(engine.eventqueue)\n",
    "\n",
    "        if event == :call\n",
    "            # if the event is reachable then change event to station2call\n",
    "            # if not it is a shortfall\n",
    "            println(\"calling event id: $id time: $t value: $value\")\n",
    "            call_event!(engine, problem, dispatch, id, t, value)\n",
    "           \n",
    "        elseif event == :station2call\n",
    "            #\n",
    "        elseif event == :call2hospital\n",
    "\n",
    "        elseif event == :hospital2station\n",
    "\n",
    "        end\n",
    "    end\n",
    "\n",
    "end\n",
    "\n",
    "\n",
    "function call_event!(\n",
    "        ems::EMSEngine,\n",
    "        problem::DispatchProblem,\n",
    "        dispatch::DispatchModel,\n",
    "        id::Int, # the id of the emergency call\n",
    "        t::Int, # the time of the emergency call\n",
    "        nbhd::Int; # the neighborhood the call is from\n",
    "    )\n",
    "\n",
    "    #check if there is an ambulance within the coverage matrix\n",
    "    if sum(problem.deployment[problem.coverage[nbhd,:]]) == 0\n",
    "        @assert false \"$id: no ambulance reachable for call at $nbhd\"\n",
    "    #check if one of the ambulances within the coverage is available\n",
    "    elseif sum(problem.available[problem.coverage[nbhd,:]]) > 0\n",
    "        i = closest_available(dispatch, id, problem)\n",
    "        println(\"closest available station : $i\")\n",
    "        @assert i > 0 \"$id: dispatch from $i to nbhd $nbhd\" # assume valid i (enforced by <if> condition)\n",
    "        update_ambulances!(dispatch, i, -1)\n",
    "        ems.eventlog[id, :dispatch_from] = i\n",
    "        @assert problem.available[i] >= 0\n",
    "        \n",
    "\n",
    "        travel_time = ceil(Int, 60*2*problem.emergency_calls[id, Symbol(\"stn$(i)_min\")])\n",
    "        @assert travel_time >= 0\n",
    "        ems.eventlog[id, :responsetime] = travel_time / 60 # minutes\n",
    "\n",
    "        #amb = respond_to!(redeploy, i, t)\n",
    "        #ems.eventlog[id, :ambulance] = amb\n",
    "\n",
    "        event = gui_event(\"call responded\", problem.emergency_calls[id, :neighborhood], i, id, amb,-1, problem.available[i] ,Dates.now())\n",
    "        num_ambulances_array = Array{Integer}(undef, size(problem.available, 1))\n",
    "        for i in 1:size(problem.available, 1)\n",
    "            num_ambulances_array[i] = problem.available[i]\n",
    "        end\n",
    "        push!(ems.guiArray,event)\n",
    "        push!(ems.guiArray,num_ambulances_array)\n",
    "        enqueue!(ems.eventqueue, (:arrive, id, t + travel_time, amb), t + travel_time)\n",
    "    #else queue it\n",
    "    else\n",
    "        # println(id, \": call from \", nbhd, \" queued behind \", problem.wait_queue[nbhd])\n",
    "        # event = gui_event(\"call made\", nbhd, -1, id, -1,-1,-1,Dates.now())\n",
    "        # push!(ems.guiArray,event)\n",
    "        # problem.shortfalls = problem.shortfalls + 1\n",
    "        # #push!(problem.shortfalls) # count shortfalls\n",
    "        # push!(problem.wait_queue[nbhd], id) # queue the emergency call\n",
    "        println(id, \": call from \", nbhd, \" is a shortfall\")\n",
    "    end\n",
    "end\n"
   ]
  },
  {
   "cell_type": "code",
   "execution_count": 31,
   "metadata": {},
   "outputs": [
    {
     "name": "stdout",
     "output_type": "stream",
     "text": [
      "calling event id: 1 time: 38 value: 83\n",
      "apparently this station is available : 3 and here is the amount of ambulances avalable: 1\n",
      "apparently this station is available : 19 and here is the amount of ambulances avalable: 1\n",
      "closest available station : 19\n"
     ]
    },
    {
     "ename": "LoadError",
     "evalue": "UndefVarError: amb not defined",
     "output_type": "error",
     "traceback": [
      "UndefVarError: amb not defined",
      "",
      "Stacktrace:",
      " [1] call_event!(::EMSEngine{Tuple{Symbol,Int64,Int64,Int64}}, ::DispatchProblem, ::ClosestDispatch, ::Int64, ::Int64, ::Int64) at ./In[30]:98",
      " [2] simulate_events!(::DispatchProblem, ::ClosestDispatch) at ./In[30]:57",
      " [3] top-level scope at ./timing.jl:174 [inlined]",
      " [4] top-level scope at ./In[31]:0",
      " [5] include_string(::Function, ::Module, ::String, ::String) at ./loading.jl:1091",
      " [6] execute_code(::String, ::String) at /Users/guyfarmer/.julia/packages/IJulia/a1SNk/src/execute_request.jl:27",
      " [7] execute_request(::ZMQ.Socket, ::IJulia.Msg) at /Users/guyfarmer/.julia/packages/IJulia/a1SNk/src/execute_request.jl:86",
      " [8] #invokelatest#1 at ./essentials.jl:710 [inlined]",
      " [9] invokelatest at ./essentials.jl:709 [inlined]",
      " [10] eventloop(::ZMQ.Socket) at /Users/guyfarmer/.julia/packages/IJulia/a1SNk/src/eventloop.jl:8",
      " [11] (::IJulia.var\"#15#18\")() at ./task.jl:356"
     ]
    }
   ],
   "source": [
    "@time df, guiArray = simulate_events!(problem, dispatch)"
   ]
  },
  {
   "cell_type": "code",
   "execution_count": 23,
   "metadata": {},
   "outputs": [
    {
     "data": {
      "text/plain": [
       "44-element Array{Int64,1}:\n",
       " 1\n",
       " 2\n",
       " 1\n",
       " 1\n",
       " 1\n",
       " 0\n",
       " 1\n",
       " 2\n",
       " 2\n",
       " 0\n",
       " 1\n",
       " 0\n",
       " 0\n",
       " ⋮\n",
       " 1\n",
       " 2\n",
       " 0\n",
       " 0\n",
       " 0\n",
       " 0\n",
       " 1\n",
       " 0\n",
       " 1\n",
       " 0\n",
       " 1\n",
       " 1"
      ]
     },
     "execution_count": 23,
     "metadata": {},
     "output_type": "execute_result"
    }
   ],
   "source": [
    "dispatch.available"
   ]
  },
  {
   "cell_type": "code",
   "execution_count": null,
   "metadata": {},
   "outputs": [],
   "source": []
  },
  {
   "cell_type": "code",
   "execution_count": null,
   "metadata": {},
   "outputs": [],
   "source": []
  },
  {
   "cell_type": "code",
   "execution_count": null,
   "metadata": {},
   "outputs": [],
   "source": []
  },
  {
   "cell_type": "code",
   "execution_count": null,
   "metadata": {},
   "outputs": [],
   "source": []
  },
  {
   "cell_type": "code",
   "execution_count": null,
   "metadata": {},
   "outputs": [],
   "source": []
  },
  {
   "cell_type": "code",
   "execution_count": null,
   "metadata": {},
   "outputs": [],
   "source": []
  },
  {
   "cell_type": "code",
   "execution_count": null,
   "metadata": {},
   "outputs": [],
   "source": []
  }
 ],
 "metadata": {
  "kernelspec": {
   "display_name": "Julia 1.5.1",
   "language": "julia",
   "name": "julia-1.5"
  },
  "language_info": {
   "file_extension": ".jl",
   "mimetype": "application/julia",
   "name": "julia",
   "version": "1.5.1"
  }
 },
 "nbformat": 4,
 "nbformat_minor": 4
}

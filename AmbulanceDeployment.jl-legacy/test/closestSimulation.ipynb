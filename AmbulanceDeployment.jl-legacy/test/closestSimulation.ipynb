{
 "cells": [
  {
   "cell_type": "code",
   "execution_count": 2,
   "metadata": {},
   "outputs": [
    {
     "name": "stderr",
     "output_type": "stream",
     "text": [
      "\u001b[32m\u001b[1m  Resolving\u001b[22m\u001b[39m package versions...\n",
      "\u001b[32m\u001b[1mNo Changes\u001b[22m\u001b[39m to `~/.git/AmbulanceDeployement/AmbulanceDeployment.jl-legacy/Project.toml`\n",
      "\u001b[32m\u001b[1mNo Changes\u001b[22m\u001b[39m to `~/.git/AmbulanceDeployement/AmbulanceDeployment.jl-legacy/Manifest.toml`\n",
      "\u001b[32m\u001b[1m  Resolving\u001b[22m\u001b[39m package versions...\n",
      "\u001b[32m\u001b[1mNo Changes\u001b[22m\u001b[39m to `~/.git/AmbulanceDeployement/AmbulanceDeployment.jl-legacy/Project.toml`\n",
      "\u001b[32m\u001b[1mNo Changes\u001b[22m\u001b[39m to `~/.git/AmbulanceDeployement/AmbulanceDeployment.jl-legacy/Manifest.toml`\n",
      "\u001b[32m\u001b[1m Activating\u001b[22m\u001b[39m environment at `~/.git/AmbulanceDeployement/AmbulanceDeployment.jl-legacy/Project.toml`\n",
      "┌ Info: Precompiling DataFrames [a93c6f00-e57d-5684-b7b6-d8193f3e46c0]\n",
      "└ @ Base loading.jl:1278\n",
      "┌ Info: Precompiling CSV [336ed68f-0bac-5ca0-87d4-7b16caf5d00b]\n",
      "└ @ Base loading.jl:1278\n",
      "┌ Info: Precompiling Plots [91a5bcdd-55d7-5caf-9e0b-520d859cae80]\n",
      "└ @ Base loading.jl:1278\n"
     ]
    },
    {
     "data": {
      "text/plain": [
       "\"/home/mhilborn/Desktop/UT-Spring2021/SeniorLab/AmbulanceDeployement/AmbulanceDeployment.jl-legacy\""
      ]
     },
     "execution_count": 2,
     "metadata": {},
     "output_type": "execute_result"
    }
   ],
   "source": [
    "import Pkg\n",
    "Pkg.add(\"Pkg\")\n",
    "Pkg.add(\"Dates\")\n",
    "\n",
    "michaels_path = \"/home/mhilborn/Desktop/UT-Spring2021/SeniorLab/AmbulanceDeployement/AmbulanceDeployment.jl-legacy/\"\n",
    "guys_path = \"/Users/guyfarmer/ambulance_connect/AmbulanceDeployement/AmbulanceDeployment.jl-legacy/\"\n",
    "\n",
    "#cd(guys_path)\n",
    "cd(michaels_path)\n",
    "\n",
    "Pkg.activate(\".\")\n",
    "\n",
    "using DataFrames, JLD, Distributions, CSV, Random, Plots,JSON\n",
    "import DataStructures: PriorityQueue, enqueue!, dequeue!\n",
    "\n",
    "turnaround = Distributions.LogNormal(3.65, 0.3)\n",
    "lambda = 0\n",
    "local_path = \"\"\n",
    "model_name = \"Stochastic\"\n",
    "namb = 40\n",
    "ncalls = 1000\n",
    "#using AmbulanceDeployment\n",
    "\n",
    "pwd()"
   ]
  },
  {
   "cell_type": "code",
   "execution_count": 4,
   "metadata": {},
   "outputs": [
    {
     "data": {
      "text/plain": [
       "\"/home/mhilborn/Desktop/UT-Spring2021/SeniorLab/AmbulanceDeployement/AmbulanceDeployment.jl-legacy/test\""
      ]
     },
     "execution_count": 4,
     "metadata": {},
     "output_type": "execute_result"
    }
   ],
   "source": [
    "cd(\"test/\")\n",
    "pwd()"
   ]
  },
  {
   "cell_type": "code",
   "execution_count": 5,
   "metadata": {},
   "outputs": [],
   "source": [
    "#using AmbulanceDeployment\n",
    "using Dates"
   ]
  },
  {
   "cell_type": "code",
   "execution_count": null,
   "metadata": {},
   "outputs": [],
   "source": []
  },
  {
   "cell_type": "code",
   "execution_count": 6,
   "metadata": {},
   "outputs": [
    {
     "name": "stderr",
     "output_type": "stream",
     "text": [
      "WARNING: using Gurobi.model_name in module Main conflicts with an existing identifier.\n",
      "\u001b[32m\u001b[1m  Resolving\u001b[22m\u001b[39m package versions...\n",
      "\u001b[32m\u001b[1mNo Changes\u001b[22m\u001b[39m to `~/Desktop/UT-Spring2021/SeniorLab/AmbulanceDeployement/AmbulanceDeployment.jl-legacy/Project.toml`\n",
      "\u001b[32m\u001b[1mNo Changes\u001b[22m\u001b[39m to `~/Desktop/UT-Spring2021/SeniorLab/AmbulanceDeployement/AmbulanceDeployment.jl-legacy/Manifest.toml`\n",
      "\u001b[32m\u001b[1m  Resolving\u001b[22m\u001b[39m package versions...\n",
      "\u001b[32m\u001b[1mNo Changes\u001b[22m\u001b[39m to `~/Desktop/UT-Spring2021/SeniorLab/AmbulanceDeployement/AmbulanceDeployment.jl-legacy/Project.toml`\n",
      "\u001b[32m\u001b[1mNo Changes\u001b[22m\u001b[39m to `~/Desktop/UT-Spring2021/SeniorLab/AmbulanceDeployement/AmbulanceDeployment.jl-legacy/Manifest.toml`\n",
      "┌ Info: Precompiling AmbulanceDeployment [d2c08a37-75f3-4934-bcbc-64feba624d07]\n",
      "└ @ Base loading.jl:1278\n",
      "┌ Warning: Package AmbulanceDeployment does not have Pkg in its dependencies:\n",
      "│ - If you have AmbulanceDeployment checked out for development and have\n",
      "│   added Pkg as a dependency but haven't updated your primary\n",
      "│   environment's manifest file, try `Pkg.resolve()`.\n",
      "│ - Otherwise you may need to report an issue with AmbulanceDeployment\n",
      "└ Loading Pkg into AmbulanceDeployment from project dependency, future warnings for AmbulanceDeployment are suppressed.\n",
      "   Updating registry at `~/.julia/registries/General`\n"
     ]
    },
    {
     "name": "stdout",
     "output_type": "stream",
     "text": [
      "\u001b[?25l"
     ]
    },
    {
     "name": "stderr",
     "output_type": "stream",
     "text": [
      "   Updating git-repo `https://github.com/JuliaRegistries/General.git`\n"
     ]
    },
    {
     "name": "stdout",
     "output_type": "stream",
     "text": [
      "\u001b[2K\u001b[?25h"
     ]
    },
    {
     "name": "stderr",
     "output_type": "stream",
     "text": [
      "  Resolving package versions...\n",
      "No Changes to `~/Desktop/UT-Spring2021/SeniorLab/AmbulanceDeployement/AmbulanceDeployment.jl-legacy/Project.toml`\n",
      "No Changes to `~/Desktop/UT-Spring2021/SeniorLab/AmbulanceDeployement/AmbulanceDeployment.jl-legacy/Manifest.toml`\n",
      "  Resolving package versions...\n",
      "No Changes to `~/Desktop/UT-Spring2021/SeniorLab/AmbulanceDeployement/AmbulanceDeployment.jl-legacy/Project.toml`\n",
      "No Changes to `~/Desktop/UT-Spring2021/SeniorLab/AmbulanceDeployement/AmbulanceDeployment.jl-legacy/Manifest.toml`\n",
      "WARNING: Method definition (::Type{AmbulanceDeployment.Params})(Float64, Float64, Float64, Int64, Int64) in module AmbulanceDeployment at /home/mhilborn/Desktop/UT-Spring2021/SeniorLab/AmbulanceDeployement/AmbulanceDeployment.jl-legacy/src/problem.jl:119 overwritten at /home/mhilborn/Desktop/UT-Spring2021/SeniorLab/AmbulanceDeployement/AmbulanceDeployment.jl-legacy/src/deployment/robust.jl:21.\n",
      "  ** incremental compilation may be fatally broken for this module **\n",
      "\n",
      "WARNING: Method definition (::Type{AmbulanceDeployment.Params})(Any, Any, Any, Any, Any) in module AmbulanceDeployment at /home/mhilborn/Desktop/UT-Spring2021/SeniorLab/AmbulanceDeployement/AmbulanceDeployment.jl-legacy/src/problem.jl:119 overwritten at /home/mhilborn/Desktop/UT-Spring2021/SeniorLab/AmbulanceDeployement/AmbulanceDeployment.jl-legacy/src/deployment/robust.jl:21.\n",
      "  ** incremental compilation may be fatally broken for this module **\n",
      "\n",
      "WARNING: Method definition optimize!(AmbulanceDeployment.RobustDeployment, AmbulanceDeployment.DeploymentProblem) in module AmbulanceDeployment at /home/mhilborn/Desktop/UT-Spring2021/SeniorLab/AmbulanceDeployement/AmbulanceDeployment.jl-legacy/src/deployment/robust.jl:217 overwritten at /home/mhilborn/Desktop/UT-Spring2021/SeniorLab/AmbulanceDeployement/AmbulanceDeployment.jl-legacy/src/deployment/robust.jl:251.\n",
      "  ** incremental compilation may be fatally broken for this module **\n",
      "\n",
      "WARNING: Method definition (::Type{AmbulanceDeployment.ClosestDispatch})(DataFrames.DataFrame, Array{Array{Int64, 1}, 1}) in module AmbulanceDeployment at /home/mhilborn/Desktop/UT-Spring2021/SeniorLab/AmbulanceDeployement/AmbulanceDeployment.jl-legacy/src/dispatch/closestdispatch.jl:7 overwritten at /home/mhilborn/Desktop/UT-Spring2021/SeniorLab/AmbulanceDeployement/AmbulanceDeployment.jl-legacy/src/dispatch/closestdispatch.jl:7.\n",
      "  ** incremental compilation may be fatally broken for this module **\n",
      "\n",
      "WARNING: Method definition (::Type{AmbulanceDeployment.ClosestDispatch})(Any, Any) in module AmbulanceDeployment at /home/mhilborn/Desktop/UT-Spring2021/SeniorLab/AmbulanceDeployement/AmbulanceDeployment.jl-legacy/src/dispatch/closestdispatch.jl:7 overwritten at /home/mhilborn/Desktop/UT-Spring2021/SeniorLab/AmbulanceDeployement/AmbulanceDeployment.jl-legacy/src/dispatch/closestdispatch.jl:7.\n",
      "  ** incremental compilation may be fatally broken for this module **\n",
      "\n",
      "WARNING: Method definition (::Type{AmbulanceDeployment.ClosestDispatch})(AmbulanceDeployment.DeploymentProblem, DataFrames.DataFrame) in module AmbulanceDeployment at /home/mhilborn/Desktop/UT-Spring2021/SeniorLab/AmbulanceDeployement/AmbulanceDeployment.jl-legacy/src/dispatch/closestdispatch.jl:11 overwritten at /home/mhilborn/Desktop/UT-Spring2021/SeniorLab/AmbulanceDeployement/AmbulanceDeployment.jl-legacy/src/dispatch/closestdispatch.jl:11.\n",
      "  ** incremental compilation may be fatally broken for this module **\n",
      "\n",
      "WARNING: Method definition (::Type{AmbulanceDeployment.ClosestDispatch})(AmbulanceDeployment.DeploymentProblem, AmbulanceDeployment.DispatchProblem) in module AmbulanceDeployment at /home/mhilborn/Desktop/UT-Spring2021/SeniorLab/AmbulanceDeployement/AmbulanceDeployment.jl-legacy/src/dispatch/closestdispatch.jl:20 overwritten at /home/mhilborn/Desktop/UT-Spring2021/SeniorLab/AmbulanceDeployement/AmbulanceDeployment.jl-legacy/src/dispatch/closestdispatch.jl:20.\n",
      "  ** incremental compilation may be fatally broken for this module **\n",
      "\n",
      "WARNING: Method definition update_ambulances!(AmbulanceDeployment.ClosestDispatch, Int64, Int64) in module AmbulanceDeployment at /home/mhilborn/Desktop/UT-Spring2021/SeniorLab/AmbulanceDeployement/AmbulanceDeployment.jl-legacy/src/dispatch/closestdispatch.jl:25 overwritten at /home/mhilborn/Desktop/UT-Spring2021/SeniorLab/AmbulanceDeployement/AmbulanceDeployment.jl-legacy/src/dispatch/closestdispatch.jl:25.\n",
      "  ** incremental compilation may be fatally broken for this module **\n",
      "\n",
      "WARNING: Method definition closest_available(AmbulanceDeployment.ClosestDispatch, Int64, AmbulanceDeployment.DispatchProblem) in module AmbulanceDeployment at /home/mhilborn/Desktop/UT-Spring2021/SeniorLab/AmbulanceDeployement/AmbulanceDeployment.jl-legacy/src/dispatch/closestdispatch.jl:30 overwritten at /home/mhilborn/Desktop/UT-Spring2021/SeniorLab/AmbulanceDeployement/AmbulanceDeployment.jl-legacy/src/dispatch/closestdispatch.jl:30.\n",
      "  ** incremental compilation may be fatally broken for this module **\n",
      "\n",
      "WARNING: Method definition (::Type{AmbulanceDeployment.DeploymentProblem})(Int64, Int64, Int64, Array{Int64, 2}, Array{Int64, 1}, Array{Int64, 1}, Array{Bool, 2}, Array{Bool, 2}) in module AmbulanceDeployment at /home/mhilborn/Desktop/UT-Spring2021/SeniorLab/AmbulanceDeployement/AmbulanceDeployment.jl-legacy/src/problem.jl:12 overwritten at /home/mhilborn/Desktop/UT-Spring2021/SeniorLab/AmbulanceDeployement/AmbulanceDeployment.jl-legacy/src/problem.jl:12.\n",
      "  ** incremental compilation may be fatally broken for this module **\n",
      "\n",
      "WARNING: Method definition (::Type{AmbulanceDeployment.DeploymentProblem})(Any, Any, Any, Any, Any, Any, Any, Any) in module AmbulanceDeployment at /home/mhilborn/Desktop/UT-Spring2021/SeniorLab/AmbulanceDeployement/AmbulanceDeployment.jl-legacy/src/problem.jl:12 overwritten at /home/mhilborn/Desktop/UT-Spring2021/SeniorLab/AmbulanceDeployement/AmbulanceDeployment.jl-legacy/src/problem.jl:12.\n",
      "  ** incremental compilation may be fatally broken for this module **\n",
      "\n",
      "WARNING: Method definition (::Type{AmbulanceDeployment.DeploymentProblem})(DataFrames.DataFrame, DataFrames.DataFrame, Array{Bool, 2}) in module AmbulanceDeployment at /home/mhilborn/Desktop/UT-Spring2021/SeniorLab/AmbulanceDeployement/AmbulanceDeployment.jl-legacy/src/problem.jl:22 overwritten at /home/mhilborn/Desktop/UT-Spring2021/SeniorLab/AmbulanceDeployement/AmbulanceDeployment.jl-legacy/src/problem.jl:22.\n",
      "  ** incremental compilation may be fatally broken for this module **\n",
      "\n",
      "WARNING: Method definition Type##kw(Any, Type{AmbulanceDeployment.DeploymentProblem}, DataFrames.DataFrame, DataFrames.DataFrame, Array{Bool, 2}) in module AmbulanceDeployment at /home/mhilborn/Desktop/UT-Spring2021/SeniorLab/AmbulanceDeployement/AmbulanceDeployment.jl-legacy/src/problem.jl:22 overwritten at /home/mhilborn/Desktop/UT-Spring2021/SeniorLab/AmbulanceDeployement/AmbulanceDeployment.jl-legacy/src/problem.jl:22.\n",
      "  ** incremental compilation may be fatally broken for this module **\n",
      "\n",
      "WARNING: Method definition naive_solution(AmbulanceDeployment.DeploymentProblem) in module AmbulanceDeployment at /home/mhilborn/Desktop/UT-Spring2021/SeniorLab/AmbulanceDeployement/AmbulanceDeployment.jl-legacy/src/problem.jl:49 overwritten at /home/mhilborn/Desktop/UT-Spring2021/SeniorLab/AmbulanceDeployement/AmbulanceDeployment.jl-legacy/src/problem.jl:49.\n",
      "  ** incremental compilation may be fatally broken for this module **\n",
      "\n",
      "WARNING: Method definition (::Type{AmbulanceDeployment.DispatchProblem})(DataFrames.DataFrame, DataFrames.DataFrame, DataFrames.DataFrame, Array{Bool, 2}) in module AmbulanceDeployment at /home/mhilborn/Desktop/UT-Spring2021/SeniorLab/AmbulanceDeployement/AmbulanceDeployment.jl-legacy/src/problem.jl:76 overwritten at /home/mhilborn/Desktop/UT-Spring2021/SeniorLab/AmbulanceDeployement/AmbulanceDeployment.jl-legacy/src/problem.jl:76.\n",
      "  ** incremental compilation may be fatally broken for this module **\n",
      "\n",
      "WARNING: Method definition Type##kw(Any, Type{AmbulanceDeployment.DispatchProblem}, DataFrames.DataFrame, DataFrames.DataFrame, DataFrames.DataFrame, Array{Bool, 2}) in module AmbulanceDeployment at /home/mhilborn/Desktop/UT-Spring2021/SeniorLab/AmbulanceDeployement/AmbulanceDeployment.jl-legacy/src/problem.jl:76 overwritten at /home/mhilborn/Desktop/UT-Spring2021/SeniorLab/AmbulanceDeployement/AmbulanceDeployment.jl-legacy/src/problem.jl:76.\n",
      "  ** incremental compilation may be fatally broken for this module **\n",
      "\n",
      "WARNING: Method definition initialize!(AmbulanceDeployment.DispatchProblem, Array{Int64, 1}) in module AmbulanceDeployment at /home/mhilborn/Desktop/UT-Spring2021/SeniorLab/AmbulanceDeployement/AmbulanceDeployment.jl-legacy/src/problem.jl:81 overwritten at /home/mhilborn/Desktop/UT-Spring2021/SeniorLab/AmbulanceDeployement/AmbulanceDeployment.jl-legacy/src/problem.jl:81.\n",
      "  ** incremental compilation may be fatally broken for this module **\n",
      "\n",
      "WARNING: Method definition (::Type{AmbulanceDeployment.DispatchProblem})(DataFrames.DataFrame, DataFrames.DataFrame, DataFrames.DataFrame, Array{Bool, 2}, Array{Int64, 1}) in module AmbulanceDeployment at /home/mhilborn/Desktop/UT-Spring2021/SeniorLab/AmbulanceDeployement/AmbulanceDeployment.jl-legacy/src/problem.jl:94 overwritten at /home/mhilborn/Desktop/UT-Spring2021/SeniorLab/AmbulanceDeployement/AmbulanceDeployment.jl-legacy/src/problem.jl:94.\n",
      "  ** incremental compilation may be fatally broken for this module **\n",
      "\n",
      "WARNING: Method definition Type##kw(Any, Type{AmbulanceDeployment.DispatchProblem}, DataFrames.DataFrame, DataFrames.DataFrame, DataFrames.DataFrame, Array{Bool, 2}, Array{Int64, 1}) in module AmbulanceDeployment at /home/mhilborn/Desktop/UT-Spring2021/SeniorLab/AmbulanceDeployement/AmbulanceDeployment.jl-legacy/src/problem.jl:94 overwritten at /home/mhilborn/Desktop/UT-Spring2021/SeniorLab/AmbulanceDeployement/AmbulanceDeployment.jl-legacy/src/problem.jl:94.\n",
      "  ** incremental compilation may be fatally broken for this module **\n",
      "\n",
      "WARNING: Method definition returned_to!(AmbulanceDeployment.DispatchProblem, Int64, Int64) in module AmbulanceDeployment at /home/mhilborn/Desktop/UT-Spring2021/SeniorLab/AmbulanceDeployement/AmbulanceDeployment.jl-legacy/src/problem.jl:113 overwritten at /home/mhilborn/Desktop/UT-Spring2021/SeniorLab/AmbulanceDeployement/AmbulanceDeployment.jl-legacy/src/problem.jl:113.\n",
      "  ** incremental compilation may be fatally broken for this module **\n",
      "\n",
      "WARNING: Method definition (::Type{AmbulanceDeployment.Params})(Float64, Float64, Float64, Int64, Int64) in module AmbulanceDeployment at /home/mhilborn/Desktop/UT-Spring2021/SeniorLab/AmbulanceDeployement/AmbulanceDeployment.jl-legacy/src/deployment/robust.jl:21 overwritten at /home/mhilborn/Desktop/UT-Spring2021/SeniorLab/AmbulanceDeployement/AmbulanceDeployment.jl-legacy/src/problem.jl:119.\n",
      "  ** incremental compilation may be fatally broken for this module **\n",
      "\n",
      "WARNING: Method definition (::Type{AmbulanceDeployment.Params})(Any, Any, Any, Any, Any) in module AmbulanceDeployment at /home/mhilborn/Desktop/UT-Spring2021/SeniorLab/AmbulanceDeployement/AmbulanceDeployment.jl-legacy/src/deployment/robust.jl:21 overwritten at /home/mhilborn/Desktop/UT-Spring2021/SeniorLab/AmbulanceDeployement/AmbulanceDeployment.jl-legacy/src/problem.jl:119.\n",
      "  ** incremental compilation may be fatally broken for this module **\n",
      "\n"
     ]
    },
    {
     "name": "stderr",
     "output_type": "stream",
     "text": [
      "  Resolving package versions...\n",
      "No Changes to `~/Desktop/UT-Spring2021/SeniorLab/AmbulanceDeployement/AmbulanceDeployment.jl-legacy/Project.toml`\n",
      "No Changes to `~/Desktop/UT-Spring2021/SeniorLab/AmbulanceDeployement/AmbulanceDeployment.jl-legacy/Manifest.toml`\n",
      "  Resolving package versions...\n",
      "No Changes to `~/Desktop/UT-Spring2021/SeniorLab/AmbulanceDeployement/AmbulanceDeployment.jl-legacy/Project.toml`\n",
      "No Changes to `~/Desktop/UT-Spring2021/SeniorLab/AmbulanceDeployement/AmbulanceDeployment.jl-legacy/Manifest.toml`\n",
      "  Resolving package versions...\n",
      "No Changes to `~/Desktop/UT-Spring2021/SeniorLab/AmbulanceDeployement/AmbulanceDeployment.jl-legacy/Project.toml`\n",
      "No Changes to `~/Desktop/UT-Spring2021/SeniorLab/AmbulanceDeployement/AmbulanceDeployment.jl-legacy/Manifest.toml`\n",
      "  Resolving package versions...\n",
      "No Changes to `~/Desktop/UT-Spring2021/SeniorLab/AmbulanceDeployement/AmbulanceDeployment.jl-legacy/Project.toml`\n",
      "No Changes to `~/Desktop/UT-Spring2021/SeniorLab/AmbulanceDeployement/AmbulanceDeployment.jl-legacy/Manifest.toml`\n",
      "  Resolving package versions...\n",
      "No Changes to `~/Desktop/UT-Spring2021/SeniorLab/AmbulanceDeployement/AmbulanceDeployment.jl-legacy/Project.toml`\n",
      "No Changes to `~/Desktop/UT-Spring2021/SeniorLab/AmbulanceDeployement/AmbulanceDeployment.jl-legacy/Manifest.toml`\n",
      "Gtk-Message: 14:14:06.490: Failed to load module \"canberra-gtk-module\"\n",
      "Gtk-Message: 14:14:06.491: Failed to load module \"canberra-gtk-module\"\n",
      "Gtk-Message: 14:14:13.855: Failed to load module \"canberra-gtk-module\"\n",
      "Gtk-Message: 14:14:13.855: Failed to load module \"canberra-gtk-module\"\n",
      "Gtk-Message: 14:14:29.217: Failed to load module \"canberra-gtk-module\"\n",
      "Gtk-Message: 14:14:29.217: Failed to load module \"canberra-gtk-module\"\n",
      "WARNING: using AmbulanceDeployment.RobustDeployment in module Main conflicts with an existing identifier.\n",
      "WARNING: using AmbulanceDeployment.ClosestDispatch in module Main conflicts with an existing identifier.\n",
      "WARNING: using AmbulanceDeployment.deployment in module Main conflicts with an existing identifier.\n",
      "WARNING: using AmbulanceDeployment.evaluate in module Main conflicts with an existing identifier.\n",
      "WARNING: using AmbulanceDeployment.test_performance in module Main conflicts with an existing identifier.\n",
      "WARNING: using AmbulanceDeployment.MEXCLPDeployment in module Main conflicts with an existing identifier.\n",
      "WARNING: using AmbulanceDeployment.AssignmentModel in module Main conflicts with an existing identifier.\n",
      "WARNING: using AmbulanceDeployment.initialize! in module Main conflicts with an existing identifier.\n",
      "WARNING: using AmbulanceDeployment.performance in module Main conflicts with an existing identifier.\n",
      "WARNING: using AmbulanceDeployment.DeploymentProblem in module Main conflicts with an existing identifier.\n",
      "WARNING: using AmbulanceDeployment.StochasticDeployment in module Main conflicts with an existing identifier.\n",
      "WARNING: using AmbulanceDeployment.DispatchProblem in module Main conflicts with an existing identifier.\n",
      "WARNING: using AmbulanceDeployment.MALPDeployment in module Main conflicts with an existing identifier.\n",
      "WARNING: using AmbulanceDeployment.NoRedeployModel in module Main conflicts with an existing identifier.\n"
     ]
    },
    {
     "data": {
      "text/plain": [
       "call_event! (generic function with 1 method)"
      ]
     },
     "execution_count": 6,
     "metadata": {},
     "output_type": "execute_result"
    }
   ],
   "source": [
    "include(\"..//src//model.jl\")\n",
    "include(\"..//src//dispatch/closestdispatch.jl\")\n",
    "include(\"..//src//problem.jl\")\n",
    "include(\"..//src//evaluate.jl\")\n",
    "include(\"..//src//simulate.jl\")"
   ]
  },
  {
   "cell_type": "code",
   "execution_count": 7,
   "metadata": {},
   "outputs": [
    {
     "data": {
      "text/plain": [
       "Dict{String,Symbol} with 8 entries:\n",
       "  \"Robust001\"   => :Robust001\n",
       "  \"Robust0001\"  => :Robust0001\n",
       "  \"Stochastic\"  => :Stochastic\n",
       "  \"MEXCLP\"      => :MEXCLP\n",
       "  \"Robust005\"   => :Robust005\n",
       "  \"MALP\"        => :MALP\n",
       "  \"Robust01\"    => :Robust01\n",
       "  \"Robust00001\" => :Robust00001"
      ]
     },
     "execution_count": 7,
     "metadata": {},
     "output_type": "execute_result"
    }
   ],
   "source": [
    "hospitals = CSV.File(string(local_path,\"../test/austin-data/hospitals.csv\")) |> DataFrame\n",
    "stations = CSV.File(string(local_path,\"../test/austin-data/stations.csv\")) |> DataFrame\n",
    "hourly_calls = CSV.File(\"../test/austin-data/Full_WeekdayCalls.csv\") |> DataFrame\n",
    "adjacent_nbhd = CSV.File(\"../test/austin-data/adjacent_nbhd.csv\") |> DataFrame\n",
    "coverage = CSV.read(\"../test/austin-data/coverage_real.csv\", DataFrame, header=false)\n",
    "coverage = convert(Array{Bool, 2}, coverage[:, :])\n",
    "incidents = CSV.File(\"../test/austin-data/austin_incidents.csv\") |> DataFrame\n",
    "solverstats = JLD.load(\"../src/outputs/austin_team_stats_1_03.jld\")\n",
    "amb_deployment = solverstats[\"amb_deployment\"]\n",
    "model_dict = Dict{String, Symbol}(\"Stochastic\"=>:Stochastic, \"Robust01\"=>:Robust01, \"Robust005\"=>:Robust005, \"Robust001\"=>:Robust001, \"Robust0001\"=>:Robust0001,\n",
    "          \"Robust00001\"=>:Robust00001, \"MEXCLP\"=>:MEXCLP, \"MALP\"=>:MALP)"
   ]
  },
  {
   "cell_type": "code",
   "execution_count": 10,
   "metadata": {},
   "outputs": [
    {
     "name": "stdout",
     "output_type": "stream",
     "text": [
      "running 40 ambuances & 1000 calls\n"
     ]
    },
    {
     "ename": "LoadError",
     "evalue": "\u001b[91mtype ClosestDispatch has no field available\u001b[39m",
     "output_type": "error",
     "traceback": [
      "\u001b[91mtype ClosestDispatch has no field available\u001b[39m",
      "",
      "Stacktrace:",
      " [1] getproperty(::ClosestDispatch, ::Symbol) at ./Base.jl:33",
      " [2] update_ambulances!(::ClosestDispatch, ::Int64, ::Int64) at /home/mhilborn/Desktop/UT-Spring2021/SeniorLab/AmbulanceDeployement/AmbulanceDeployment.jl-legacy/src/dispatch/closestdispatch.jl:26",
      " [3] call_event!(::EMSEngine{Tuple{Symbol,Int64,Int64,Int64}}, ::DispatchProblem, ::ClosestDispatch, ::Int64, ::Int64, ::Int64) at /home/mhilborn/Desktop/UT-Spring2021/SeniorLab/AmbulanceDeployement/AmbulanceDeployment.jl-legacy/src/simulate.jl:86",
      " [4] simulate_events!(::DispatchProblem, ::ClosestDispatch) at /home/mhilborn/Desktop/UT-Spring2021/SeniorLab/AmbulanceDeployement/AmbulanceDeployment.jl-legacy/src/simulate.jl:58",
      " [5] top-level scope at ./timing.jl:174 [inlined]",
      " [6] top-level scope at ./In[10]:0",
      " [7] include_string(::Function, ::Module, ::String, ::String) at ./loading.jl:1091"
     ]
    }
   ],
   "source": [
    "p = DeploymentProblem(\n",
    "          hourly_calls,\n",
    "          adjacent_nbhd,\n",
    "          coverage,\n",
    "          namb = namb,\n",
    "          train_filter = (hourly_calls[!,:year] .== 2019) .* (hourly_calls[!,:month] .<= 3)\n",
    "          )\n",
    "test_calls = CSV.File(\"../test/austin-data/austin_test_calls.csv\")|> DataFrame\n",
    "test_calls = test_calls[1:ncalls,:]\n",
    "println(\"running $namb ambuances & $ncalls calls\")\n",
    "\n",
    "# distribution of ambulances across all of the stations\n",
    "x = amb_deployment[model_dict[model_name]][namb]\n",
    "\n",
    "#establishes the dispatch problem\n",
    "problem = DispatchProblem(test_calls, hospitals, stations, p.coverage, x, turnaround=turnaround)\n",
    "\n",
    "#establishes the dispatch model\n",
    "dispatch = ClosestDispatch(p, problem)\n",
    "\n",
    "Random.seed!(1234)\n",
    "@time df, guiArray = simulate_events!(problem, dispatch)"
   ]
  },
  {
   "cell_type": "code",
   "execution_count": null,
   "metadata": {},
   "outputs": [],
   "source": []
  },
  {
   "cell_type": "code",
   "execution_count": null,
   "metadata": {},
   "outputs": [],
   "source": []
  },
  {
   "cell_type": "code",
   "execution_count": null,
   "metadata": {},
   "outputs": [],
   "source": []
  },
  {
   "cell_type": "code",
   "execution_count": null,
   "metadata": {},
   "outputs": [],
   "source": []
  },
  {
   "cell_type": "code",
   "execution_count": null,
   "metadata": {},
   "outputs": [],
   "source": []
  }
 ],
 "metadata": {
  "kernelspec": {
   "display_name": "Julia 1.5.3",
   "language": "julia",
   "name": "julia-1.5"
  },
  "language_info": {
   "file_extension": ".jl",
   "mimetype": "application/julia",
   "name": "julia",
   "version": "1.5.3"
  }
 },
 "nbformat": 4,
 "nbformat_minor": 4
}

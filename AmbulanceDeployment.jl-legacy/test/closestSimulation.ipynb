{
 "cells": [
  {
   "cell_type": "code",
   "execution_count": 1,
   "metadata": {},
   "outputs": [
    {
     "name": "stderr",
     "output_type": "stream",
     "text": [
      "\u001b[32m\u001b[1m   Updating\u001b[22m\u001b[39m registry at `~/.julia/registries/General`\n",
      "######################################################################### 100.0%                                      22.9%                                    39.6%\n",
      "\u001b[32m\u001b[1m  Resolving\u001b[22m\u001b[39m package versions...\n",
      "\u001b[32m\u001b[1m  Installed\u001b[22m\u001b[39m FFMPEG ────────── v0.3.0\n",
      "\u001b[32m\u001b[1m  Installed\u001b[22m\u001b[39m PlotThemes ────── v1.0.3\n",
      "\u001b[32m\u001b[1m  Installed\u001b[22m\u001b[39m PlotUtils ─────── v0.6.5\n",
      "\u001b[32m\u001b[1m  Installed\u001b[22m\u001b[39m Plots ─────────── v1.0.14\n",
      "\u001b[32m\u001b[1m  Installed\u001b[22m\u001b[39m FileIO ────────── v1.6.4\n",
      "\u001b[32m\u001b[1m  Installed\u001b[22m\u001b[39m ForwardDiff ───── v0.10.17\n",
      "\u001b[32m\u001b[1m  Installed\u001b[22m\u001b[39m Gtk ───────────── v1.1.7\n",
      "\u001b[32m\u001b[1m  Installed\u001b[22m\u001b[39m RecipesPipeline ─ v0.1.13\n",
      "\u001b[32m\u001b[1m  Installed\u001b[22m\u001b[39m GeometryTypes ─── v0.8.4\n",
      "\u001b[32m\u001b[1m  Installed\u001b[22m\u001b[39m GR ────────────── v0.48.0\n",
      "\u001b[32m\u001b[1mUpdating\u001b[22m\u001b[39m `~/.git/AmbulanceDeployement/AmbulanceDeployment.jl-legacy/test/Project.toml`\n",
      " \u001b[90m [44cfe95a] \u001b[39m\u001b[92m+ Pkg\u001b[39m\n",
      "\u001b[32m\u001b[1mUpdating\u001b[22m\u001b[39m `~/.git/AmbulanceDeployement/AmbulanceDeployment.jl-legacy/test/Manifest.toml`\n",
      " \u001b[90m [621f4979] \u001b[39m\u001b[93m↑ AbstractFFTs v1.0.0 ⇒ v1.0.1\u001b[39m\n",
      " \u001b[90m [79e6a3ab] \u001b[39m\u001b[93m↑ Adapt v2.3.0 ⇒ v3.2.0\u001b[39m\n",
      " \u001b[90m [4fba245c] \u001b[39m\u001b[91m- ArrayInterface v2.14.13\u001b[39m\n",
      " \u001b[90m [336ed68f] \u001b[39m\u001b[93m↑ CSV v0.8.2 ⇒ v0.8.4\u001b[39m\n",
      " \u001b[90m [9a962f9c] \u001b[39m\u001b[93m↑ DataAPI v1.4.0 ⇒ v1.6.0\u001b[39m\n",
      " \u001b[90m [01453d9d] \u001b[39m\u001b[91m- DiffEqDiffTools v1.7.0\u001b[39m\n",
      " \u001b[90m [b4f34e82] \u001b[39m\u001b[93m↑ Distances v0.10.0 ⇒ v0.10.2\u001b[39m\n",
      " \u001b[90m [31c24e10] \u001b[39m\u001b[93m↑ Distributions v0.23.8 ⇒ v0.23.11\u001b[39m\n",
      " \u001b[90m [c87230d0] \u001b[39m\u001b[92m+ FFMPEG v0.3.0\u001b[39m\n",
      " \u001b[90m [b22a6f82] \u001b[39m\u001b[92m+ FFMPEG_jll v4.3.1+4\u001b[39m\n",
      " \u001b[90m [7a1cc6ca] \u001b[39m\u001b[93m↑ FFTW v1.3.1 ⇒ v1.3.2\u001b[39m\n",
      " \u001b[90m [5789e2e9] \u001b[39m\u001b[93m↑ FileIO v1.4.5 ⇒ v1.6.4\u001b[39m\n",
      " \u001b[90m [1a297f60] \u001b[39m\u001b[93m↑ FillArrays v0.8.14 ⇒ v0.9.7\u001b[39m\n",
      " \u001b[90m [f6369f11] \u001b[39m\u001b[93m↑ ForwardDiff v0.10.14 ⇒ v0.10.17\u001b[39m\n",
      " \u001b[90m [28b8d3ca] \u001b[39m\u001b[92m+ GR v0.48.0\u001b[39m\n",
      " \u001b[90m [77ec8976] \u001b[39m\u001b[93m↑ GTK3_jll v3.24.11+4 ⇒ v3.24.11+5\u001b[39m\n",
      " \u001b[90m [4d00f742] \u001b[39m\u001b[92m+ GeometryTypes v0.8.4\u001b[39m\n",
      " \u001b[90m [4c0ca9eb] \u001b[39m\u001b[93m↑ Gtk v1.1.5 ⇒ v1.1.7\u001b[39m\n",
      " \u001b[90m [1d5cc7b8] \u001b[39m\u001b[93m↑ IntelOpenMP_jll v2018.0.3+0 ⇒ v2018.0.3+2\u001b[39m\n",
      " \u001b[90m [a98d9a8b] \u001b[39m\u001b[93m↑ Interpolations v0.12.10 ⇒ v0.13.1\u001b[39m\n",
      " \u001b[90m [692b3bcd] \u001b[39m\u001b[93m↑ JLLWrappers v1.1.4 ⇒ v1.2.0\u001b[39m\n",
      " \u001b[90m [5ab0869b] \u001b[39m\u001b[93m↑ KernelDensity v0.5.1 ⇒ v0.6.2\u001b[39m\n",
      " \u001b[90m [c1c5ebd0] \u001b[39m\u001b[92m+ LAME_jll v3.100.0+3\u001b[39m\n",
      " \u001b[90m [4af54fe1] \u001b[39m\u001b[92m+ LazyArtifacts v1.3.0\u001b[39m\n",
      " \u001b[90m [dd192d2f] \u001b[39m\u001b[92m+ LibVPX_jll v1.9.0+1\u001b[39m\n",
      " \u001b[90m [d3d80556] \u001b[39m\u001b[91m- LineSearches v7.1.1\u001b[39m\n",
      " \u001b[90m [856f044c] \u001b[39m\u001b[93m↑ MKL_jll v2020.2.254+0 ⇒ v2021.1.1+1\u001b[39m\n",
      " \u001b[90m [b8f27783] \u001b[39m\u001b[93m↑ MathOptInterface v0.9.19 ⇒ v0.9.20\u001b[39m\n",
      " \u001b[90m [e1d29d7a] \u001b[39m\u001b[93m↑ Missings v0.4.4 ⇒ v0.4.5\u001b[39m\n",
      " \u001b[90m [d8a4904e] \u001b[39m\u001b[93m↑ MutableArithmetics v0.2.13 ⇒ v0.2.14\u001b[39m\n",
      " \u001b[90m [d41bc354] \u001b[39m\u001b[91m- NLSolversBase v7.5.0\u001b[39m\n",
      " \u001b[90m [6fe1bfb0] \u001b[39m\u001b[93m↑ OffsetArrays v1.4.3 ⇒ v1.6.2\u001b[39m\n",
      " \u001b[90m [e7412a2a] \u001b[39m\u001b[92m+ Ogg_jll v1.3.4+2\u001b[39m\n",
      " \u001b[90m [429524aa] \u001b[39m\u001b[91m- Optim v0.20.1\u001b[39m\n",
      " \u001b[90m [91d4177d] \u001b[39m\u001b[92m+ Opus_jll v1.3.1+3\u001b[39m\n",
      " \u001b[90m [bac558e1] \u001b[39m\u001b[93m↑ OrderedCollections v1.3.2 ⇒ v1.4.0\u001b[39m\n",
      " \u001b[90m [d96e819e] \u001b[39m\u001b[91m- Parameters v0.12.1\u001b[39m\n",
      " \u001b[90m [69de0a69] \u001b[39m\u001b[93m↑ Parsers v1.0.15 ⇒ v1.0.16\u001b[39m\n",
      " \u001b[90m [ccf2f8ad] \u001b[39m\u001b[92m+ PlotThemes v1.0.3\u001b[39m\n",
      " \u001b[90m [995b91a9] \u001b[39m\u001b[92m+ PlotUtils v0.6.5\u001b[39m\n",
      " \u001b[90m [91a5bcdd] \u001b[39m\u001b[92m+ Plots v1.0.14\u001b[39m\n",
      " \u001b[90m [85a6dd25] \u001b[39m\u001b[91m- PositiveFactorizations v0.2.4\u001b[39m\n",
      " \u001b[90m [2aef5ad7] \u001b[39m\u001b[93m↑ QueryOperators v0.9.2 ⇒ v0.9.3\u001b[39m\n",
      " \u001b[90m [01d81517] \u001b[39m\u001b[92m+ RecipesPipeline v0.1.13\u001b[39m\n",
      " \u001b[90m [ae029012] \u001b[39m\u001b[93m↑ Requires v1.1.2 ⇒ v1.1.3\u001b[39m\n",
      " \u001b[90m [90137ffa] \u001b[39m\u001b[93m↑ StaticArrays v0.12.5 ⇒ v1.0.1\u001b[39m\n",
      " \u001b[90m [2913bbd2] \u001b[39m\u001b[93m↑ StatsBase v0.32.2 ⇒ v0.33.3\u001b[39m\n",
      " \u001b[90m [856f2bd8] \u001b[39m\u001b[93m↑ StructTypes v1.2.1 ⇒ v1.4.0\u001b[39m\n",
      " \u001b[90m [bd369af6] \u001b[39m\u001b[93m↑ Tables v1.2.2 ⇒ v1.4.0\u001b[39m\n",
      " \u001b[90m [3a884ed6] \u001b[39m\u001b[91m- UnPack v1.0.2\u001b[39m\n",
      " \u001b[90m [3161d3a3] \u001b[39m\u001b[93m↑ Zstd_jll v1.4.5+2 ⇒ v1.4.8+0\u001b[39m\n",
      " \u001b[90m [0ac62f75] \u001b[39m\u001b[92m+ libass_jll v0.14.0+4\u001b[39m\n",
      " \u001b[90m [f638f0a6] \u001b[39m\u001b[92m+ libfdk_aac_jll v0.1.6+4\u001b[39m\n",
      " \u001b[90m [f27f6e37] \u001b[39m\u001b[92m+ libvorbis_jll v1.3.6+6\u001b[39m\n",
      " \u001b[90m [1270edf5] \u001b[39m\u001b[92m+ x264_jll v2020.7.14+2\u001b[39m\n",
      " \u001b[90m [dfaa095f] \u001b[39m\u001b[92m+ x265_jll v3.0.0+3\u001b[39m\n",
      "\u001b[32m\u001b[1m   Building\u001b[22m\u001b[39m GR ───→ `~/.julia/packages/GR/yMV3y/deps/build.log`\n",
      "\u001b[32m\u001b[1m   Building\u001b[22m\u001b[39m Plots → `~/.julia/packages/Plots/8GUYs/deps/build.log`\n",
      "\u001b[32m\u001b[1m  Resolving\u001b[22m\u001b[39m package versions...\n",
      "\u001b[32m\u001b[1mUpdating\u001b[22m\u001b[39m `~/.git/AmbulanceDeployement/AmbulanceDeployment.jl-legacy/test/Project.toml`\n",
      " \u001b[90m [ade2ca70] \u001b[39m\u001b[92m+ Dates\u001b[39m\n",
      "\u001b[32m\u001b[1mNo Changes\u001b[22m\u001b[39m to `~/.git/AmbulanceDeployement/AmbulanceDeployment.jl-legacy/test/Manifest.toml`\n",
      "\u001b[32m\u001b[1m Activating\u001b[22m\u001b[39m environment at `~/.git/AmbulanceDeployement/AmbulanceDeployment.jl-legacy/Project.toml`\n",
      "┌ Info: Precompiling DataFrames [a93c6f00-e57d-5684-b7b6-d8193f3e46c0]\n",
      "└ @ Base loading.jl:1278\n",
      "┌ Info: Precompiling CSV [336ed68f-0bac-5ca0-87d4-7b16caf5d00b]\n",
      "└ @ Base loading.jl:1278\n",
      "┌ Info: Precompiling Plots [91a5bcdd-55d7-5caf-9e0b-520d859cae80]\n",
      "└ @ Base loading.jl:1278\n"
     ]
    },
    {
     "data": {
      "text/plain": [
       "\"/Users/guyfarmer/.git/AmbulanceDeployement/AmbulanceDeployment.jl-legacy\""
      ]
     },
     "execution_count": 1,
     "metadata": {},
     "output_type": "execute_result"
    }
   ],
   "source": [
    "import Pkg\n",
    "Pkg.add(\"Pkg\")\n",
    "Pkg.add(\"Dates\")\n",
    "\n",
    "cd(\"/Users/guyfarmer/ambulance_connect/AmbulanceDeployement/AmbulanceDeployment.jl-legacy/\")\n",
    "Pkg.activate(\".\")\n",
    "\n",
    "using DataFrames, JLD, Distributions, CSV, Random, Plots,JSON\n",
    "import DataStructures: PriorityQueue, enqueue!, dequeue!\n",
    "\n",
    "turnaround = Distributions.LogNormal(3.65, 0.3)\n",
    "lambda = 0\n",
    "local_path = \"\"\n",
    "model_name = \"Stochastic\"\n",
    "namb = 40\n",
    "ncalls = 1000\n",
    "#using AmbulanceDeployment\n",
    "\n",
    "pwd()"
   ]
  },
  {
   "cell_type": "code",
   "execution_count": 3,
   "metadata": {},
   "outputs": [
    {
     "data": {
      "text/plain": [
       "\"/Users/guyfarmer/.git/AmbulanceDeployement/AmbulanceDeployment.jl-legacy/test\""
      ]
     },
     "execution_count": 3,
     "metadata": {},
     "output_type": "execute_result"
    }
   ],
   "source": [
    "cd(\"test/\")\n",
    "pwd()"
   ]
  },
  {
   "cell_type": "code",
   "execution_count": 4,
   "metadata": {},
   "outputs": [],
   "source": [
    "#using AmbulanceDeployment\n",
    "using Dates"
   ]
  },
  {
   "cell_type": "code",
   "execution_count": null,
   "metadata": {},
   "outputs": [],
   "source": []
  },
  {
   "cell_type": "code",
   "execution_count": 7,
   "metadata": {},
   "outputs": [
    {
     "name": "stderr",
     "output_type": "stream",
     "text": [
      "\u001b[32m\u001b[1m  Resolving\u001b[22m\u001b[39m package versions...\n",
      "\u001b[32m\u001b[1mNo Changes\u001b[22m\u001b[39m to `~/.git/AmbulanceDeployement/AmbulanceDeployment.jl-legacy/Project.toml`\n",
      "\u001b[32m\u001b[1mNo Changes\u001b[22m\u001b[39m to `~/.git/AmbulanceDeployement/AmbulanceDeployment.jl-legacy/Manifest.toml`\n",
      "\u001b[32m\u001b[1m  Resolving\u001b[22m\u001b[39m package versions...\n",
      "\u001b[32m\u001b[1mNo Changes\u001b[22m\u001b[39m to `~/.git/AmbulanceDeployement/AmbulanceDeployment.jl-legacy/Project.toml`\n",
      "\u001b[32m\u001b[1mNo Changes\u001b[22m\u001b[39m to `~/.git/AmbulanceDeployement/AmbulanceDeployment.jl-legacy/Manifest.toml`\n"
     ]
    },
    {
     "ename": "LoadError",
     "evalue": "LoadError: syntax: incomplete: \"function\" at /Users/guyfarmer/.git/AmbulanceDeployement/AmbulanceDeployment.jl-legacy/src/simulate.jl:50 requires end\nin expression starting at /Users/guyfarmer/.git/AmbulanceDeployement/AmbulanceDeployment.jl-legacy/src/simulate.jl:50",
     "output_type": "error",
     "traceback": [
      "LoadError: syntax: incomplete: \"function\" at /Users/guyfarmer/.git/AmbulanceDeployement/AmbulanceDeployment.jl-legacy/src/simulate.jl:50 requires end\nin expression starting at /Users/guyfarmer/.git/AmbulanceDeployement/AmbulanceDeployment.jl-legacy/src/simulate.jl:50",
      "",
      "Stacktrace:",
      " [1] top-level scope at /Users/guyfarmer/.git/AmbulanceDeployement/AmbulanceDeployment.jl-legacy/src/simulate.jl:50",
      " [2] include(::String) at ./client.jl:457",
      " [3] top-level scope at In[7]:5",
      " [4] include_string(::Function, ::Module, ::String, ::String) at ./loading.jl:1091",
      " [5] execute_code(::String, ::String) at /Users/guyfarmer/.julia/packages/IJulia/a1SNk/src/execute_request.jl:27",
      " [6] execute_request(::ZMQ.Socket, ::IJulia.Msg) at /Users/guyfarmer/.julia/packages/IJulia/a1SNk/src/execute_request.jl:86",
      " [7] #invokelatest#1 at ./essentials.jl:710 [inlined]",
      " [8] invokelatest at ./essentials.jl:709 [inlined]",
      " [9] eventloop(::ZMQ.Socket) at /Users/guyfarmer/.julia/packages/IJulia/a1SNk/src/eventloop.jl:8",
      " [10] (::IJulia.var\"#15#18\")() at ./task.jl:356"
     ]
    }
   ],
   "source": [
    "include(\"..//src//model.jl\")\n",
    "include(\"..//src//dispatch/closestdispatch.jl\")\n",
    "include(\"..//src//problem.jl\")\n",
    "include(\"..//src//evaluate.jl\")\n",
    "include(\"..//src//simulate.jl\")"
   ]
  },
  {
   "cell_type": "code",
   "execution_count": 78,
   "metadata": {},
   "outputs": [],
   "source": [
    "hospitals = CSV.File(string(local_path,\"../test/austin-data/hospitals.csv\")) |> DataFrame\n",
    "stations = CSV.File(string(local_path,\"../test/austin-data/stations.csv\")) |> DataFrame\n",
    "hourly_calls = CSV.File(\"../test/austin-data/Full_WeekdayCalls.csv\") |> DataFrame\n",
    "adjacent_nbhd = CSV.File(\"../test/austin-data/adjacent_nbhd.csv\") |> DataFrame\n",
    "coverage = CSV.read(\"../test/austin-data/coverage_real.csv\", DataFrame, header=false)\n",
    "coverage = convert(Array{Bool, 2}, coverage[:, :])\n",
    "incidents = CSV.File(\"../test/austin-data/austin_incidents.csv\") |> DataFrame\n",
    "solverstats = JLD.load(\"../src/outputs/austin_team_stats_1_03.jld\")\n",
    "amb_deployment = solverstats[\"amb_deployment\"]\n",
    "model_dict = Dict{String, Symbol}(\"Stochastic\"=>:Stochastic, \"Robust01\"=>:Robust01, \"Robust005\"=>:Robust005, \"Robust001\"=>:Robust001, \"Robust0001\"=>:Robust0001,\n",
    "          \"Robust00001\"=>:Robust00001, \"MEXCLP\"=>:MEXCLP, \"MALP\"=>:MALP)"
   ]
  },
  {
   "cell_type": "code",
   "execution_count": 79,
   "metadata": {},
   "outputs": [],
   "source": [
    "p = DeploymentProblem(\n",
    "          hourly_calls,\n",
    "          adjacent_nbhd,\n",
    "          coverage,\n",
    "          namb = namb,\n",
    "          train_filter = (hourly_calls[!,:year] .== 2019) .* (hourly_calls[!,:month] .<= 3)\n",
    "          )\n",
    "test_calls = CSV.File(\"../test/austin-data/austin_test_calls.csv\")|> DataFrame\n",
    "test_calls = test_calls[1:ncalls,:]\n",
    "println(\"running $namb ambuances & $ncalls calls\")\n",
    "\n",
    "# distribution of ambulances across all of the stations\n",
    "x = amb_deployment[model_dict[model_name]][namb]\n",
    "\n",
    "#establishes the dispatch problem\n",
    "problem = DispatchProblem(test_calls, hospitals, stations, p.coverage, x, turnaround=turnaround)\n",
    "\n",
    "#establishes the dispatch model\n",
    "dispatch = ClosestDispatch(p, problem)\n",
    "\n",
    "Random.seed!(1234)\n",
    "@time df, guiArray = simulate_events!(problem, dispatch)"
   ]
  },
  {
   "cell_type": "code",
   "execution_count": null,
   "metadata": {},
   "outputs": [],
   "source": []
  },
  {
   "cell_type": "code",
   "execution_count": null,
   "metadata": {},
   "outputs": [],
   "source": []
  },
  {
   "cell_type": "code",
   "execution_count": null,
   "metadata": {},
   "outputs": [],
   "source": []
  },
  {
   "cell_type": "code",
   "execution_count": null,
   "metadata": {},
   "outputs": [],
   "source": []
  },
  {
   "cell_type": "code",
   "execution_count": null,
   "metadata": {},
   "outputs": [],
   "source": []
  }
 ],
 "metadata": {
  "kernelspec": {
   "display_name": "Julia 1.5.1",
   "language": "julia",
   "name": "julia-1.5"
  },
  "language_info": {
   "file_extension": ".jl",
   "mimetype": "application/julia",
   "name": "julia",
   "version": "1.5.1"
  }
 },
 "nbformat": 4,
 "nbformat_minor": 4
}

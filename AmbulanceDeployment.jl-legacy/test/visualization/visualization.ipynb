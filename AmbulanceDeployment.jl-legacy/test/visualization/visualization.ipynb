{
 "cells": [
  {
   "cell_type": "code",
   "execution_count": 1,
   "metadata": {},
   "outputs": [],
   "source": [
    "import numpy as np\n",
    "import matplotlib.pyplot as plt\n",
    "import seaborn as sns"
   ]
  },
  {
   "cell_type": "code",
   "execution_count": 2,
   "metadata": {},
   "outputs": [],
   "source": [
    "#returns shortfall percentage \n",
    "def count_shortfalls(data):\n",
    "    sf_count = 0\n",
    "    for i in range(data.shape[0]):\n",
    "        if data[i] > 10:\n",
    "            sf_count = sf_count + 1\n",
    "    sf_count = sf_count / data.shape[0]\n",
    "    return sf_count"
   ]
  },
  {
   "cell_type": "code",
   "execution_count": 3,
   "metadata": {},
   "outputs": [],
   "source": [
    "#a = []\n",
    "# a.append(np.genfromtxt(\"Stochastic30calls1000.csv\", delimiter=\" \"))\n",
    "# a.append(np.genfromtxt(\"Stochastic35calls1000.csv\", delimiter=\" \"))\n",
    "# a.append(np.genfromtxt(\"Stochastic40calls1000.csv\", delimiter=\" \"))\n",
    "# a.append(np.genfromtxt(\"Stochastic45calls1000.csv\", delimiter=\" \"))\n",
    "# a.append(np.genfromtxt(\"Stochastic50calls1000.csv\", delimiter=\" \"))\n"
   ]
  },
  {
   "cell_type": "code",
   "execution_count": 4,
   "metadata": {},
   "outputs": [
    {
     "ename": "NameError",
     "evalue": "name 'a' is not defined",
     "output_type": "error",
     "traceback": [
      "\u001b[1;31m---------------------------------------------------------------------------\u001b[0m",
      "\u001b[1;31mNameError\u001b[0m                                 Traceback (most recent call last)",
      "\u001b[1;32m<ipython-input-4-ed26ca57a523>\u001b[0m in \u001b[0;36m<module>\u001b[1;34m\u001b[0m\n\u001b[1;32m----> 1\u001b[1;33m \u001b[0mplt\u001b[0m\u001b[1;33m.\u001b[0m\u001b[0mviolinplot\u001b[0m\u001b[1;33m(\u001b[0m\u001b[0ma\u001b[0m\u001b[1;33m,\u001b[0m\u001b[0mshowmeans\u001b[0m\u001b[1;33m=\u001b[0m\u001b[1;32mTrue\u001b[0m\u001b[1;33m)\u001b[0m\u001b[1;33m\u001b[0m\u001b[1;33m\u001b[0m\u001b[0m\n\u001b[0m\u001b[0;32m      2\u001b[0m \u001b[0mplt\u001b[0m\u001b[1;33m.\u001b[0m\u001b[0mylim\u001b[0m\u001b[1;33m(\u001b[0m\u001b[1;33m[\u001b[0m\u001b[1;36m0\u001b[0m\u001b[1;33m,\u001b[0m \u001b[1;36m100\u001b[0m\u001b[1;33m]\u001b[0m\u001b[1;33m)\u001b[0m\u001b[1;33m\u001b[0m\u001b[1;33m\u001b[0m\u001b[0m\n",
      "\u001b[1;31mNameError\u001b[0m: name 'a' is not defined"
     ]
    }
   ],
   "source": [
    "plt.violinplot(a,showmeans=True)\n",
    "plt.ylim([0, 100])"
   ]
  },
  {
   "cell_type": "code",
   "execution_count": 7,
   "metadata": {},
   "outputs": [],
   "source": [
    "original_data = (np.genfromtxt(\"backend_calls.csv\", delimiter=\",\"))\n",
    "original_data_s = (np.genfromtxt(\"backend_calls.csv\", delimiter=\",\", dtype = str))"
   ]
  },
  {
   "cell_type": "code",
   "execution_count": 8,
   "metadata": {},
   "outputs": [
    {
     "data": {
      "text/plain": [
       "array(['Time_Assigned', 'Time_Enroute', 'Time_ArrivedAtScene',\n",
       "       'Time_Depart_Scene', 'Time_Arrive_Destination', 'Time_Available',\n",
       "       'Time_Call_Cleared', 'Call_Disposition', 'Longitude_Of_Emergency',\n",
       "       'Latitude_Of_Emergency', 'transport_time', 'grid_time',\n",
       "       'Time_Arrived', 'timedelta', 'arrival_seconds',\n",
       "       'interarrival_seconds', 'neighborhood', 'dow'], dtype='<U30')"
      ]
     },
     "execution_count": 8,
     "metadata": {},
     "output_type": "execute_result"
    }
   ],
   "source": [
    "original_data_s[0,6:]"
   ]
  },
  {
   "cell_type": "code",
   "execution_count": 9,
   "metadata": {},
   "outputs": [],
   "source": [
    "ncalls = 1000;\n",
    "travel_time = original_data[1:,-8];\n",
    "travel_time = travel_time / 60;\n",
    "grid_time = original_data[1:ncalls,-7];\n",
    "grid_time = grid_time / 60;\n",
    "stoch40 = np.genfromtxt(\"Stochastic40calls1000.csv\", delimiter=\" \");\n",
    "stoch50 = np.genfromtxt(\"Stochastic50calls1000.csv\", delimiter=\" \");\n",
    "robust40 = np.genfromtxt(\"Robust0140calls1000.csv\", delimiter=\" \");\n",
    "robust50 = np.genfromtxt(\"Robust0150calls1000.csv\", delimiter=\" \");"
   ]
  },
  {
   "cell_type": "code",
   "execution_count": null,
   "metadata": {},
   "outputs": [],
   "source": []
  },
  {
   "cell_type": "code",
   "execution_count": null,
   "metadata": {},
   "outputs": [],
   "source": []
  },
  {
   "cell_type": "code",
   "execution_count": null,
   "metadata": {},
   "outputs": [],
   "source": [
    "stoch40.shape[0]"
   ]
  },
  {
   "cell_type": "code",
   "execution_count": null,
   "metadata": {},
   "outputs": [],
   "source": [
    "#0 minute travel time is impossible, so should we delete it?\n",
    "travel_time \n",
    "zero_ind = np.where(travel_time >= 1)\n",
    "np.mean(travel_time[zero_ind])\n",
    "travel_time = travel_time[zero_ind]"
   ]
  },
  {
   "cell_type": "code",
   "execution_count": null,
   "metadata": {},
   "outputs": [],
   "source": [
    "np.mean(stoch40) "
   ]
  },
  {
   "cell_type": "code",
   "execution_count": null,
   "metadata": {},
   "outputs": [],
   "source": [
    "np.mean(stoch50) * .92 \n",
    "#travel time -8.147\n",
    "#robust - 7.75\n",
    "#stochastic - 8.34"
   ]
  },
  {
   "cell_type": "code",
   "execution_count": null,
   "metadata": {},
   "outputs": [],
   "source": [
    "# Density plot\n",
    "n, bins, patches = plt.hist(x=travel_time, bins='auto', color='#0504aa',\n",
    "                            alpha=0.7, rwidth=0.85)"
   ]
  },
  {
   "cell_type": "code",
   "execution_count": null,
   "metadata": {},
   "outputs": [],
   "source": [
    "stoch40_c = np.genfromtxt(\"Stochastic40calls1000closest.csv\", delimiter=\" \");\n",
    "stoch40_l = np.genfromtxt(\"Stochastic40calls1000lists.csv\", delimiter=\" \");\n",
    "stoch40_u = np.genfromtxt(\"Stochastic40calls1000closest_xuniform.csv\", delimiter=\" \");"
   ]
  },
  {
   "cell_type": "code",
   "execution_count": null,
   "metadata": {},
   "outputs": [],
   "source": [
    "print(count_shortfalls(stoch40_c))\n",
    "print(count_shortfalls(stoch40_l))\n",
    "print(count_shortfalls(stoch40_u))"
   ]
  },
  {
   "cell_type": "code",
   "execution_count": null,
   "metadata": {},
   "outputs": [],
   "source": [
    "modifier = .92\n",
    "sns.kdeplot(travel_time)\n",
    "#sns.kdeplot(grid_time)\n",
    "#sns.kdeplot(stoch40*modifier)\n",
    "sns.kdeplot(stoch40_c*modifier)\n",
    "#sns.kdeplot(robust40*modifier)\n",
    "sns.kdeplot(stoch40_u*modifier)\n",
    "plt.legend(['reported time', 'closest', 'lists'])\n",
    "plt.xlabel(\"Response Time (min)\")\n",
    "plt.ylabel(\"Frequency\")\n",
    "plt.title(\"Response times of Austin Ambulances\")\n",
    "plt.xlim([0, 20])"
   ]
  },
  {
   "cell_type": "code",
   "execution_count": null,
   "metadata": {},
   "outputs": [],
   "source": [
    "batch1 = np.genfromtxt(\"Robust0150calls1000batch1.csv\", delimiter=\" \");\n",
    "batch2 = np.genfromtxt(\"Robust0150calls1000batch2.csv\", delimiter=\" \");\n",
    "batch3 = np.genfromtxt(\"Robust0150calls1000batch3.csv\", delimiter=\" \");\n",
    "batch4 = np.genfromtxt(\"Robust0150calls1000batch4.csv\", delimiter=\" \");\n",
    "batch5 = np.genfromtxt(\"Robust0150calls1000batch5.csv\", delimiter=\" \");\n",
    "batch6 = np.genfromtxt(\"Robust0150calls1000batch6.csv\", delimiter=\" \");\n",
    "batch7 = np.genfromtxt(\"Robust0150calls1000batch7.csv\", delimiter=\" \");\n",
    "batch8 = np.genfromtxt(\"Robust0150calls1000batch8.csv\", delimiter=\" \");\n",
    "batch9 = np.genfromtxt(\"Robust0150calls1000batch9.csv\", delimiter=\" \");\n",
    "batch10 = np.genfromtxt(\"Robust0150calls1000batch10.csv\", delimiter=\" \");\n",
    "batch11 = np.genfromtxt(\"Robust0150calls1000batch11.csv\", delimiter=\" \");\n",
    "batch12 = np.genfromtxt(\"Robust0150calls1000batch12.csv\", delimiter=\" \");\n"
   ]
  },
  {
   "cell_type": "code",
   "execution_count": 5,
   "metadata": {},
   "outputs": [
    {
     "ename": "NameError",
     "evalue": "name 'batch1' is not defined",
     "output_type": "error",
     "traceback": [
      "\u001b[1;31m---------------------------------------------------------------------------\u001b[0m",
      "\u001b[1;31mNameError\u001b[0m                                 Traceback (most recent call last)",
      "\u001b[1;32m<ipython-input-5-8587643cb218>\u001b[0m in \u001b[0;36m<module>\u001b[1;34m\u001b[0m\n\u001b[1;32m----> 1\u001b[1;33m \u001b[0msns\u001b[0m\u001b[1;33m.\u001b[0m\u001b[0mkdeplot\u001b[0m\u001b[1;33m(\u001b[0m\u001b[0mbatch1\u001b[0m\u001b[1;33m)\u001b[0m\u001b[1;33m\u001b[0m\u001b[1;33m\u001b[0m\u001b[0m\n\u001b[0m\u001b[0;32m      2\u001b[0m \u001b[0msns\u001b[0m\u001b[1;33m.\u001b[0m\u001b[0mkdeplot\u001b[0m\u001b[1;33m(\u001b[0m\u001b[0mbatch2\u001b[0m\u001b[1;33m)\u001b[0m\u001b[1;33m\u001b[0m\u001b[1;33m\u001b[0m\u001b[0m\n\u001b[0;32m      3\u001b[0m \u001b[0msns\u001b[0m\u001b[1;33m.\u001b[0m\u001b[0mkdeplot\u001b[0m\u001b[1;33m(\u001b[0m\u001b[0mbatch3\u001b[0m\u001b[1;33m)\u001b[0m\u001b[1;33m\u001b[0m\u001b[1;33m\u001b[0m\u001b[0m\n\u001b[0;32m      4\u001b[0m \u001b[0msns\u001b[0m\u001b[1;33m.\u001b[0m\u001b[0mkdeplot\u001b[0m\u001b[1;33m(\u001b[0m\u001b[0mbatch4\u001b[0m\u001b[1;33m)\u001b[0m\u001b[1;33m\u001b[0m\u001b[1;33m\u001b[0m\u001b[0m\n\u001b[0;32m      5\u001b[0m \u001b[0msns\u001b[0m\u001b[1;33m.\u001b[0m\u001b[0mkdeplot\u001b[0m\u001b[1;33m(\u001b[0m\u001b[0mbatch5\u001b[0m\u001b[1;33m)\u001b[0m\u001b[1;33m\u001b[0m\u001b[1;33m\u001b[0m\u001b[0m\n",
      "\u001b[1;31mNameError\u001b[0m: name 'batch1' is not defined"
     ]
    }
   ],
   "source": [
    "sns.kdeplot(batch1)\n",
    "sns.kdeplot(batch2)\n",
    "sns.kdeplot(batch3)\n",
    "sns.kdeplot(batch4)\n",
    "sns.kdeplot(batch5)\n",
    "sns.kdeplot(batch6)\n",
    "sns.kdeplot(batch7)\n",
    "sns.kdeplot(batch8)\n",
    "sns.kdeplot(batch9)\n",
    "sns.kdeplot(batch10)\n",
    "sns.kdeplot(batch11)\n",
    "sns.kdeplot(batch12)\n",
    "plt.xlim([0, 30])"
   ]
  },
  {
   "cell_type": "code",
   "execution_count": null,
   "metadata": {},
   "outputs": [],
   "source": []
  }
 ],
 "metadata": {
  "kernelspec": {
   "display_name": "Python 3",
   "language": "python",
   "name": "python3"
  },
  "language_info": {
   "codemirror_mode": {
    "name": "ipython",
    "version": 3
   },
   "file_extension": ".py",
   "mimetype": "text/x-python",
   "name": "python",
   "nbconvert_exporter": "python",
   "pygments_lexer": "ipython3",
   "version": "3.7.3"
  }
 },
 "nbformat": 4,
 "nbformat_minor": 2
}

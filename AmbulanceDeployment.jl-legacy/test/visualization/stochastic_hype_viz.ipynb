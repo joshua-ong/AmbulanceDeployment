{
 "cells": [
  {
   "cell_type": "code",
   "execution_count": 1,
   "id": "181f63a8",
   "metadata": {},
   "outputs": [],
   "source": [
    "import numpy as np\n",
    "import matplotlib.pyplot as plt\n",
    "import seaborn as sns\n",
    "import os"
   ]
  },
  {
   "cell_type": "code",
   "execution_count": 3,
   "id": "4014bc33",
   "metadata": {},
   "outputs": [
    {
     "data": {
      "text/plain": [
       "['.ipynb_checkpoints',\n",
       " 'backend_calls.csv',\n",
       " 'batchs',\n",
       " 'batch_viz.ipynb',\n",
       " 'cleaned_data.csv',\n",
       " 'cross_validation',\n",
       " 'cross_validation.ipynb',\n",
       " 'Robust0140calls1000.csv',\n",
       " 'Robust0150calls1000.csv',\n",
       " 'Stochastic40calls1000.csv',\n",
       " 'Stochastic50calls1000.csv',\n",
       " 'stochastic_hype_viz.ipynb',\n",
       " 'time_adjust',\n",
       " 'visualization.ipynb']"
      ]
     },
     "execution_count": 3,
     "metadata": {},
     "output_type": "execute_result"
    }
   ],
   "source": [
    "os.listdir()"
   ]
  },
  {
   "cell_type": "code",
   "execution_count": 6,
   "id": "d5ae9148",
   "metadata": {},
   "outputs": [
    {
     "name": "stdout",
     "output_type": "stream",
     "text": [
      "6.113766666666667\n",
      "6.065216666666667\n",
      "6.042549999999999\n",
      "6.013283333333333\n",
      "6.031083333333333\n",
      "6.0658666666666665\n",
      "6.054200000000001\n",
      "6.01765\n",
      "5.997916666666666\n",
      "6.078866666666666\n",
      "5.9199166666666665\n",
      "6.017883333333333\n",
      "6.0209166666666665\n",
      "6.005766666666666\n",
      "5.9665\n",
      "5.974616666666667\n"
     ]
    }
   ],
   "source": [
    "data = {}\n",
    "data = []\n",
    "path = 'stoch_hyp'\n",
    "for i in os.listdir(path):\n",
    "    original_data = (np.genfromtxt(path + \"/\" + i, delimiter=\",\"))\n",
    "    print(np.mean(original_data))\n",
    "    #data[i] = np.mean(original_data)\n",
    "    data.append(np.mean(original_data))"
   ]
  },
  {
   "cell_type": "code",
   "execution_count": 9,
   "id": "79ae1058",
   "metadata": {},
   "outputs": [
    {
     "data": {
      "text/plain": [
       "['stoch_35.csv',\n",
       " 'stoch_36.csv',\n",
       " 'stoch_37.csv',\n",
       " 'stoch_38.csv',\n",
       " 'stoch_39.csv',\n",
       " 'stoch_40.csv',\n",
       " 'stoch_41.csv',\n",
       " 'stoch_42.csv',\n",
       " 'stoch_43.csv',\n",
       " 'stoch_44.csv',\n",
       " 'stoch_45.csv',\n",
       " 'stoch_extra_amb_1.csv',\n",
       " 'stoch_extra_amb_2.csv',\n",
       " 'stoch_extra_amb_3.csv',\n",
       " 'stoch_extra_amb_4.csv',\n",
       " 'stoch_extra_amb_5.csv']"
      ]
     },
     "execution_count": 9,
     "metadata": {},
     "output_type": "execute_result"
    }
   ],
   "source": [
    "os.listdir('stoch_hyp')"
   ]
  },
  {
   "cell_type": "code",
   "execution_count": 7,
   "id": "63032ed8",
   "metadata": {},
   "outputs": [
    {
     "data": {
      "text/plain": [
       "[6.113766666666667,\n",
       " 6.065216666666667,\n",
       " 6.042549999999999,\n",
       " 6.013283333333333,\n",
       " 6.031083333333333,\n",
       " 6.0658666666666665,\n",
       " 6.054200000000001,\n",
       " 6.01765,\n",
       " 5.997916666666666,\n",
       " 6.078866666666666,\n",
       " 5.9199166666666665,\n",
       " 6.017883333333333,\n",
       " 6.0209166666666665,\n",
       " 6.005766666666666,\n",
       " 5.9665,\n",
       " 5.974616666666667]"
      ]
     },
     "execution_count": 7,
     "metadata": {},
     "output_type": "execute_result"
    }
   ],
   "source": [
    "data"
   ]
  },
  {
   "cell_type": "code",
   "execution_count": 34,
   "id": "6f3ead2a",
   "metadata": {},
   "outputs": [
    {
     "data": {
      "text/plain": [
       "[6.113766666666667,\n",
       " 6.065216666666667,\n",
       " 6.042549999999999,\n",
       " 6.013283333333333,\n",
       " 6.031083333333333,\n",
       " 6.0658666666666665]"
      ]
     },
     "execution_count": 34,
     "metadata": {},
     "output_type": "execute_result"
    }
   ],
   "source": [
    "removed"
   ]
  },
  {
   "cell_type": "code",
   "execution_count": 35,
   "id": "fcb86825",
   "metadata": {},
   "outputs": [
    {
     "data": {
      "text/plain": [
       "[6.01765,\n",
       " 5.997916666666666,\n",
       " 6.078866666666666,\n",
       " 5.9199166666666665,\n",
       " 6.017883333333333]"
      ]
     },
     "execution_count": 35,
     "metadata": {},
     "output_type": "execute_result"
    }
   ],
   "source": [
    "opt_added"
   ]
  },
  {
   "cell_type": "code",
   "execution_count": 38,
   "id": "07d3f87b",
   "metadata": {},
   "outputs": [
    {
     "name": "stdout",
     "output_type": "stream",
     "text": [
      "6\n",
      "5\n",
      "5\n"
     ]
    }
   ],
   "source": [
    "removed = data[0:6]\n",
    "opt_added = data[6:11]\n",
    "hyp_added = data[-6:-1]\n",
    "print(len(removed))\n",
    "print(len(opt_added)) \n",
    "print(len(hyp_added))\n",
    "removed_x = np.arange(35, 41)\n",
    "opt_x = np.arange(41,46)"
   ]
  },
  {
   "cell_type": "code",
   "execution_count": 40,
   "id": "79442a00",
   "metadata": {},
   "outputs": [
    {
     "data": {
      "text/plain": [
       "Text(0, 0.5, 'Mean Response Time')"
      ]
     },
     "execution_count": 40,
     "metadata": {},
     "output_type": "execute_result"
    },
    {
     "data": {
      "image/png": "[encoded data removed]",
      "text/plain": [
       "<Figure size 432x288 with 1 Axes>"
      ]
     },
     "metadata": {
      "needs_background": "light"
     },
     "output_type": "display_data"
    }
   ],
   "source": [
    "plt.plot(removed_x,removed,'o-')\n",
    "plt.plot(opt_x,opt_added,'o-')\n",
    "plt.plot(opt_x,hyp_added,'o-')\n",
    "plt.legend(['remove ambulances', 'optimally add ambulances', 'add new ambulances'])\n",
    "plt.xlabel(\"Number of ambulances\")\n",
    "plt.ylabel(\"Mean Response Time\")"
   ]
  },
  {
   "cell_type": "code",
   "execution_count": null,
   "id": "0724e4ad",
   "metadata": {},
   "outputs": [],
   "source": []
  }
 ],
 "metadata": {
  "kernelspec": {
   "display_name": "Python 3",
   "language": "python",
   "name": "python3"
  },
  "language_info": {
   "codemirror_mode": {
    "name": "ipython",
    "version": 3
   },
   "file_extension": ".py",
   "mimetype": "text/x-python",
   "name": "python",
   "nbconvert_exporter": "python",
   "pygments_lexer": "ipython3",
   "version": "3.7.3"
  }
 },
 "nbformat": 4,
 "nbformat_minor": 5
}

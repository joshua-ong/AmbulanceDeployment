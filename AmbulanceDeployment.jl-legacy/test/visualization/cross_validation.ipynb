{
 "cells": [
  {
   "cell_type": "code",
   "execution_count": 4,
   "id": "afd4b206",
   "metadata": {},
   "outputs": [],
   "source": [
    "import numpy as np\n",
    "import matplotlib.pyplot as plt\n",
    "import seaborn as sns\n",
    "import os"
   ]
  },
  {
   "cell_type": "code",
   "execution_count": 2,
   "id": "c32ab13c",
   "metadata": {},
   "outputs": [],
   "source": [
    "original_data = (np.genfromtxt(\"batchs/austin_test_calls_v4.csv\", delimiter=\",\"))\n",
    "original_data_s = (np.genfromtxt(\"batchs/austin_test_calls_v4.csv\", delimiter=\",\", dtype = str))"
   ]
  },
  {
   "cell_type": "code",
   "execution_count": 11,
   "id": "e6725e2a",
   "metadata": {},
   "outputs": [
    {
     "name": "stdout",
     "output_type": "stream",
     "text": [
      "6.562366666666667\n",
      "6.807283333333333\n",
      "7.190666666666667\n",
      "6.806066666666666\n",
      "7.5908\n"
     ]
    }
   ],
   "source": [
    "data = {}\n",
    "path = 'cross_validation'\n",
    "for i in os.listdir(path):\n",
    "    original_data = (np.genfromtxt(path + \"/\" + i, delimiter=\",\"))\n",
    "    print(np.mean(original_data))\n",
    "    data[i] = np.mean(original_data)\n",
    "    \n",
    "\n"
   ]
  },
  {
   "cell_type": "code",
   "execution_count": 12,
   "id": "fa0bf6e9",
   "metadata": {},
   "outputs": [
    {
     "data": {
      "text/plain": [
       "{'cross1robust0.0001.csv': 6.562366666666667,\n",
       " 'cross1robust0.1.csv': 6.807283333333333,\n",
       " 'cross2robust0.0001.csv': 7.190666666666667,\n",
       " 'cross2robust0.1.csv': 6.806066666666666,\n",
       " 'cross3robust0.0001.csv': 7.5908}"
      ]
     },
     "execution_count": 12,
     "metadata": {},
     "output_type": "execute_result"
    }
   ],
   "source": [
    "data"
   ]
  },
  {
   "cell_type": "code",
   "execution_count": 13,
   "id": "69f826a2",
   "metadata": {},
   "outputs": [
    {
     "name": "stdout",
     "output_type": "stream",
     "text": [
      "[0. 1. 1. 0. 0. 0. 1. 0. 0. 0. 0. 0. 0. 0. 0. 1. 0. 4. 0. 0. 5. 5. 1. 0.\n",
      " 1. 2. 0. 0. 1. 5. 1. 1. 1. 1. 2. 0. 0. 1. 1. 0. 1. 1. 1. 1.]\n",
      "/n\n",
      "[0. 1. 1. 0. 0. 0. 1. 0. 0. 0. 0. 0. 0. 0. 0. 1. 0. 4. 0. 0. 5. 5. 1. 0.\n",
      " 1. 2. 0. 0. 1. 5. 1. 1. 1. 1. 2. 0. 0. 1. 1. 0. 1. 1. 1. 1.]\n",
      "/n\n",
      "[0. 1. 1. 0. 0. 0. 1. 0. 0. 0. 0. 0. 0. 0. 0. 1. 0. 4. 0. 0. 5. 5. 1. 0.\n",
      " 1. 2. 0. 0. 1. 5. 1. 1. 1. 1. 2. 0. 0. 1. 1. 0. 1. 1. 1. 1.]\n",
      "/n\n",
      "[0. 1. 1. 0. 0. 0. 1. 0. 0. 0. 0. 0. 0. 0. 0. 1. 0. 4. 0. 0. 5. 5. 1. 0.\n",
      " 1. 2. 0. 0. 1. 5. 1. 1. 1. 1. 2. 0. 0. 1. 1. 0. 1. 1. 1. 1.]\n",
      "/n\n",
      "[0. 1. 5. 1. 0. 0. 2. 0. 0. 0. 0. 0. 0. 0. 0. 2. 1. 2. 0. 0. 0. 0. 0. 0.\n",
      " 1. 2. 1. 0. 2. 2. 2. 2. 1. 4. 1. 0. 0. 4. 1. 0. 1. 0. 1. 1.]\n",
      "/n\n",
      "[1. 4. 0. 2. 0. 0. 2. 0. 0. 0. 0. 0. 0. 0. 0. 4. 1. 5. 0. 0. 0. 0. 0. 0.\n",
      " 1. 2. 1. 0. 1. 1. 5. 1. 3. 1. 0. 0. 1. 0. 1. 0. 1. 0. 1. 1.]\n",
      "/n\n",
      "[1. 4. 0. 2. 0. 0. 2. 0. 0. 0. 0. 0. 0. 0. 0. 4. 1. 5. 0. 0. 0. 0. 0. 0.\n",
      " 1. 2. 1. 0. 1. 1. 5. 1. 3. 1. 0. 0. 1. 0. 1. 0. 1. 0. 1. 1.]\n",
      "/n\n",
      "[1. 4. 0. 2. 0. 0. 2. 0. 0. 0. 0. 0. 0. 0. 0. 4. 1. 5. 0. 0. 0. 0. 0. 0.\n",
      " 1. 2. 1. 0. 1. 1. 5. 1. 3. 1. 0. 0. 1. 0. 1. 0. 1. 0. 1. 1.]\n",
      "/n\n",
      "[1. 4. 0. 2. 0. 0. 2. 0. 0. 0. 0. 0. 0. 0. 0. 4. 1. 5. 0. 0. 0. 0. 0. 0.\n",
      " 1. 2. 1. 0. 1. 1. 5. 1. 3. 1. 0. 0. 1. 0. 1. 0. 1. 0. 1. 1.]\n",
      "/n\n",
      "[0. 3. 0. 0. 0. 0. 1. 0. 0. 0. 0. 0. 1. 0. 0. 1. 1. 5. 0. 0. 3. 0. 3. 0.\n",
      " 1. 4. 1. 0. 1. 1. 2. 1. 2. 1. 1. 0. 2. 1. 1. 0. 1. 0. 1. 1.]\n",
      "/n\n",
      "[0. 5. 1. 0. 0. 0. 1. 1. 0. 0. 0. 0. 0. 0. 0. 1. 0. 5. 0. 0. 0. 0. 1. 0.\n",
      " 1. 1. 0. 0. 2. 1. 5. 1. 5. 1. 0. 0. 0. 0. 1. 0. 1. 1. 4. 1.]\n",
      "/n\n",
      "[0. 5. 1. 0. 0. 0. 1. 1. 0. 0. 0. 0. 0. 0. 0. 1. 0. 5. 0. 0. 0. 0. 1. 0.\n",
      " 1. 1. 0. 0. 2. 1. 5. 1. 5. 1. 0. 0. 0. 0. 1. 0. 1. 1. 4. 1.]\n",
      "/n\n",
      "[0. 5. 1. 0. 0. 0. 1. 1. 0. 0. 0. 0. 0. 0. 0. 1. 0. 5. 0. 0. 0. 0. 1. 0.\n",
      " 1. 1. 0. 0. 2. 1. 5. 1. 5. 1. 0. 0. 0. 0. 1. 0. 1. 1. 4. 1.]\n",
      "/n\n",
      "[0. 5. 1. 0. 0. 0. 1. 1. 0. 0. 0. 0. 0. 0. 0. 1. 0. 5. 0. 0. 0. 0. 1. 0.\n",
      " 1. 1. 0. 0. 2. 1. 5. 1. 5. 1. 0. 0. 0. 0. 1. 0. 1. 1. 4. 1.]\n",
      "/n\n",
      "[0. 5. 1. 0. 0. 0. 1. 1. 0. 0. 0. 0. 0. 0. 0. 1. 0. 5. 0. 0. 0. 0. 1. 0.\n",
      " 1. 1. 0. 0. 2. 1. 5. 1. 5. 1. 0. 0. 0. 0. 1. 0. 1. 1. 4. 1.]\n",
      "/n\n"
     ]
    }
   ],
   "source": [
    "path = \"../austin_data_3200/cross_val_1\"\n",
    "for i in os.listdir(path):\n",
    "    original_data = (np.genfromtxt(path + \"/\" + i, delimiter=\",\"))\n",
    "    print(original_data)\n",
    "    print(\"/n\")"
   ]
  },
  {
   "cell_type": "code",
   "execution_count": null,
   "id": "8d5632f9",
   "metadata": {},
   "outputs": [],
   "source": []
  }
 ],
 "metadata": {
  "kernelspec": {
   "display_name": "Python 3",
   "language": "python",
   "name": "python3"
  },
  "language_info": {
   "codemirror_mode": {
    "name": "ipython",
    "version": 3
   },
   "file_extension": ".py",
   "mimetype": "text/x-python",
   "name": "python",
   "nbconvert_exporter": "python",
   "pygments_lexer": "ipython3",
   "version": "3.7.3"
  }
 },
 "nbformat": 4,
 "nbformat_minor": 5
}

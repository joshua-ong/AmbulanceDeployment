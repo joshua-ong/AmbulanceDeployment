{
 "cells": [
  {
   "cell_type": "code",
   "execution_count": 17,
   "metadata": {},
   "outputs": [],
   "source": [
    "import numpy as np\n",
    "import matplotlib.pyplot as plt"
   ]
  },
  {
   "cell_type": "code",
   "execution_count": 15,
   "metadata": {},
   "outputs": [],
   "source": [
    "a = []\n",
    "a.append(np.genfromtxt(\"Stochastic30calls1000.csv\", delimiter=\" \"))\n",
    "a.append(np.genfromtxt(\"Stochastic35calls1000.csv\", delimiter=\" \"))\n",
    "a.append(np.genfromtxt(\"Stochastic40calls1000.csv\", delimiter=\" \"))\n",
    "a.append(np.genfromtxt(\"Stochastic45calls1000.csv\", delimiter=\" \"))\n",
    "a.append(np.genfromtxt(\"Stochastic50calls1000.csv\", delimiter=\" \"))\n"
   ]
  },
  {
   "cell_type": "code",
   "execution_count": 21,
   "metadata": {},
   "outputs": [
    {
     "data": {
      "text/plain": [
       "{'bodies': [<matplotlib.collections.PolyCollection at 0x21282f07208>,\n",
       "  <matplotlib.collections.PolyCollection at 0x21282f074a8>,\n",
       "  <matplotlib.collections.PolyCollection at 0x21282f07710>,\n",
       "  <matplotlib.collections.PolyCollection at 0x21282f07978>],\n",
       " 'cmeans': <matplotlib.collections.LineCollection at 0x21282efdfd0>,\n",
       " 'cmaxes': <matplotlib.collections.LineCollection at 0x21282f07ef0>,\n",
       " 'cmins': <matplotlib.collections.LineCollection at 0x21282f07e80>,\n",
       " 'cbars': <matplotlib.collections.LineCollection at 0x21282f14550>,\n",
       " 'cmedians': <matplotlib.collections.LineCollection at 0x21282f14860>}"
      ]
     },
     "execution_count": 21,
     "metadata": {},
     "output_type": "execute_result"
    },
    {
     "data": {
      "image/png": "[encoded data removed]",
      "text/plain": [
       "<Figure size 432x288 with 1 Axes>"
      ]
     },
     "metadata": {
      "needs_background": "light"
     },
     "output_type": "display_data"
    }
   ],
   "source": [
    "plt.violinplot(all_data,\n",
    "                  showmeans=True)\n"
   ]
  },
  {
   "cell_type": "code",
   "execution_count": 12,
   "metadata": {},
   "outputs": [
    {
     "data": {
      "text/plain": [
       "(100,)"
      ]
     },
     "execution_count": 12,
     "metadata": {},
     "output_type": "execute_result"
    }
   ],
   "source": []
  },
  {
   "cell_type": "code",
   "execution_count": null,
   "metadata": {},
   "outputs": [],
   "source": []
  }
 ],
 "metadata": {
  "kernelspec": {
   "display_name": "Python 3",
   "language": "python",
   "name": "python3"
  },
  "language_info": {
   "codemirror_mode": {
    "name": "ipython",
    "version": 3
   },
   "file_extension": ".py",
   "mimetype": "text/x-python",
   "name": "python",
   "nbconvert_exporter": "python",
   "pygments_lexer": "ipython3",
   "version": "3.7.3"
  }
 },
 "nbformat": 4,
 "nbformat_minor": 2
}

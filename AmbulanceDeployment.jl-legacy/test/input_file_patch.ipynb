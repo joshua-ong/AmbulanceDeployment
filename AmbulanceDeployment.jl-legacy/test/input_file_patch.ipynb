{
 "cells": [
  {
   "cell_type": "markdown",
   "id": "c9633914",
   "metadata": {},
   "source": [
    "In test calls .csv there exists neighborhoods with negative Ids which are breaking the system"
   ]
  },
  {
   "cell_type": "code",
   "execution_count": 82,
   "id": "e6612f6a",
   "metadata": {},
   "outputs": [],
   "source": [
    "import numpy as np"
   ]
  },
  {
   "cell_type": "code",
   "execution_count": 83,
   "id": "b989d6db",
   "metadata": {},
   "outputs": [],
   "source": [
    "test_calls = np.genfromtxt(\"../test/austin-data/austin_test_calls.csv\", delimiter=\",\")\n",
    "test_calls_s = np.genfromtxt(\"../test/austin-data/austin_test_calls.csv\", delimiter=\",\",dtype = str)"
   ]
  },
  {
   "cell_type": "code",
   "execution_count": 84,
   "id": "cb71f3ae",
   "metadata": {},
   "outputs": [
    {
     "data": {
      "text/plain": [
       "(30197, 59)"
      ]
     },
     "execution_count": 84,
     "metadata": {},
     "output_type": "execute_result"
    }
   ],
   "source": [
    "test_calls.shape"
   ]
  },
  {
   "cell_type": "code",
   "execution_count": 94,
   "id": "eba409eb",
   "metadata": {},
   "outputs": [
    {
     "data": {
      "text/plain": [
       "(array([6421, 6422], dtype=int64),)"
      ]
     },
     "execution_count": 94,
     "metadata": {},
     "output_type": "execute_result"
    }
   ],
   "source": [
    "bad_index = np.where(test_calls[:,1] > 209)\n",
    "bad_index[0].shape\n",
    "bad_index\n"
   ]
  },
  {
   "cell_type": "code",
   "execution_count": 107,
   "id": "a4b689c2",
   "metadata": {},
   "outputs": [
    {
     "data": {
      "text/plain": [
       "array([0, 1, 2, 3, 4, 5, 6, 7, 8, 9])"
      ]
     },
     "execution_count": 107,
     "metadata": {},
     "output_type": "execute_result"
    }
   ],
   "source": [
    "#remove negative indixes\n",
    "bad_index = np.where(test_calls[:,1] < 0)\n",
    "good_index = []\n",
    "good_index = np.append(good_index, [0], axis=None) #add header\n",
    "no_neg = np.where(test_calls[:,1] > 0)\n",
    "no_great = np.where(test_calls[:,1] < 209)\n",
    "intersect = np.intersect1d(no_neg, no_great)\n",
    "good_index =  np.append(good_index, intersect, axis=None)\n",
    "good_index = good_index.astype(int)\n",
    "good_index[0:10]"
   ]
  },
  {
   "cell_type": "code",
   "execution_count": 108,
   "id": "eae829ad",
   "metadata": {},
   "outputs": [
    {
     "name": "stdout",
     "output_type": "stream",
     "text": [
      "(30148,)\n",
      "(30194,)\n",
      "(30146,)\n"
     ]
    },
    {
     "data": {
      "text/plain": [
       "array([    1,     2,     3, ..., 30194, 30195, 30196], dtype=int64)"
      ]
     },
     "execution_count": 108,
     "metadata": {},
     "output_type": "execute_result"
    }
   ],
   "source": [
    "print(no_neg[0].shape)\n",
    "print(no_great[0].shape)\n",
    "print(intersect.shape)\n",
    "intersect"
   ]
  },
  {
   "cell_type": "code",
   "execution_count": 77,
   "id": "2fa99a5d",
   "metadata": {},
   "outputs": [
    {
     "data": {
      "text/plain": [
       "array([[  -10., -8528., -8528., -8528., -8528., -8528., -8528., -8528.,\n",
       "        -8528., -8528., -8528., -8528., -8528., -8528., -8528., -8528.,\n",
       "        -8528., -8528., -8528., -8528.,   -10., -8528., -8528., -8528.,\n",
       "        -8528., -8528., -8528., -8528., -8528., -8528., -8528., -8528.,\n",
       "        -8528., -8528., -8528., -8528., -8528., -8528., -8528., -8528.,\n",
       "        -8528., -8528., -8528., -8528., -8528., -8528., -8528., -8528.]])"
      ]
     },
     "execution_count": 77,
     "metadata": {},
     "output_type": "execute_result"
    }
   ],
   "source": [
    "#remove indixes greater than number of neighborhoods\n",
    "test_calls[bad_index,1]"
   ]
  },
  {
   "cell_type": "code",
   "execution_count": 109,
   "id": "b0450eeb",
   "metadata": {},
   "outputs": [],
   "source": [
    "test_calls_good = test_calls_s[good_index,:] #remove who row"
   ]
  },
  {
   "cell_type": "code",
   "execution_count": 111,
   "id": "e80f924b",
   "metadata": {},
   "outputs": [
    {
     "name": "stdout",
     "output_type": "stream",
     "text": [
      "(30147, 59)\n",
      "(30197, 59)\n"
     ]
    }
   ],
   "source": [
    "test_calls_good = test_calls_good.reshape(30147,59) #GOTTA CHANGE THIS EVERY TIME THE SHAPE CHANGES. todo\n",
    "print(test_calls_good.shape)\n",
    "print(test_calls.shape)"
   ]
  },
  {
   "cell_type": "code",
   "execution_count": 112,
   "id": "ed1590c1",
   "metadata": {},
   "outputs": [],
   "source": [
    "np.savetxt('../test/austin-data/austin_test_calls_update1.csv', test_calls_good, delimiter=',', fmt='%s')"
   ]
  },
  {
   "cell_type": "code",
   "execution_count": null,
   "id": "f28b9a57",
   "metadata": {},
   "outputs": [],
   "source": []
  }
 ],
 "metadata": {
  "kernelspec": {
   "display_name": "Python 3",
   "language": "python",
   "name": "python3"
  },
  "language_info": {
   "codemirror_mode": {
    "name": "ipython",
    "version": 3
   },
   "file_extension": ".py",
   "mimetype": "text/x-python",
   "name": "python",
   "nbconvert_exporter": "python",
   "pygments_lexer": "ipython3",
   "version": "3.7.3"
  }
 },
 "nbformat": 4,
 "nbformat_minor": 5
}

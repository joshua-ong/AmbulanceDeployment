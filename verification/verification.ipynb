{
 "cells": [
  {
   "cell_type": "markdown",
   "id": "eeb241dd",
   "metadata": {},
   "source": [
    "Summary: verify travel times. Judge by comparing the error between grid and reported travel times. (assume I can use 3200 grid?)"
   ]
  },
  {
   "cell_type": "code",
   "execution_count": 1,
   "id": "69096555",
   "metadata": {},
   "outputs": [],
   "source": [
    "import csv\n",
    "import collections\n",
    "import pandas as pd\n",
    "import numpy as np\n",
    "import math\n",
    "import json\n",
    "import matplotlib.pyplot as plt\n",
    "import seaborn as sns"
   ]
  },
  {
   "cell_type": "markdown",
   "id": "48eac003",
   "metadata": {},
   "source": [
    "## load all data"
   ]
  },
  {
   "cell_type": "code",
   "execution_count": 2,
   "id": "4f7e8a1d",
   "metadata": {},
   "outputs": [],
   "source": [
    "# This is the grid object, which is used throughout all data preprocessing.\n",
    "# It represents the city of Austin through a series of grids.\n",
    "# It thus makes a tractable way to compute distance between grids, ect. \n",
    "class Grid():\n",
    "    def __init__(self, grid_json):\n",
    "        self.grid = grid_json\n",
    "        self.min_lat = self.grid[\"latitude_min\"]\n",
    "        self.min_lon = self.grid[\"longitude_min\"]\n",
    "        self.max_lat = self.grid[\"latitude_max\"]\n",
    "        self.max_lon = self.grid[\"longitude_max\"]\n",
    "        self.latitude_delta = self.grid[\"latitude_step\"]\n",
    "        self.longitude_delta = self.grid[\"longitude_step\"]\n",
    "        self.nrows = math.ceil((self.max_lat - self.min_lat) / self.latitude_delta)\n",
    "        self.ncols = math.ceil((self.max_lon - self.min_lon) / self.longitude_delta)\n",
    "        self.times = self.grid[\"time_matrix\"]\n",
    "        self.census_tract_region_map = self.grid[\"census_tract_region_mapping\"]\n",
    "        self.region_to_tract = collections.defaultdict(list)\n",
    "        for census_tract in self.census_tract_region_map:\n",
    "            for region in self.census_tract_region_map[census_tract]:\n",
    "                self.region_to_tract[region].append(census_tract)\n",
    "    def map_point_to_region(self, latitude, longitude):\n",
    "        return math.floor((latitude-self.min_lat)/self.latitude_delta) * self.ncols  + math.floor((longitude-self.min_lon)/self.longitude_delta)\n",
    "    def get_representative(self, region_num):\n",
    "        row_num = region_num//self.ncols\n",
    "        col_num = region_num - row_num*self.ncols\n",
    "        lat = self.min_lat + row_num * self.latitude_delta + 0.5*self.latitude_delta\n",
    "        lon = self.min_lon + col_num * self.longitude_delta + 0.5*self.longitude_delta\n",
    "        return [lon, lat]\n",
    "    def get_time(self, region1, region2):\n",
    "        try:\n",
    "            return self.times[region1][region2]\n",
    "        except IndexError:\n",
    "            return -1\n",
    "    def region_to_census_tract(self, region):\n",
    "        try:\n",
    "            return self.region_to_tract[region]\n",
    "        except KeyError:\n",
    "            return \"0_0\""
   ]
  },
  {
   "cell_type": "code",
   "execution_count": 3,
   "id": "a6348a2b",
   "metadata": {},
   "outputs": [],
   "source": [
    "peakHours = (np.genfromtxt(\"..\\Output_Data/peakhours.csv\", delimiter=\",\", dtype = str))\n",
    "peakHours = (np.genfromtxt(\"..\\Output_Data/peakhours.csv\", delimiter=\",\"))\n",
    "#peakHours = (np.genfromtxt(\"..\\Output_Data/austin_data_3200/austin_test_calls_v4.csv\", delimiter=\",\", dtype = str))\n",
    "\n",
    "with open(\"..\\Input_Data/grid_info_3200_v3.json\", \"r\") as f:\n",
    "    grid_json = json.load(f)\n",
    "g = Grid(grid_json)"
   ]
  },
  {
   "cell_type": "code",
   "execution_count": 4,
   "id": "d81c75ab",
   "metadata": {},
   "outputs": [
    {
     "data": {
      "text/plain": [
       "array([nan, nan, nan, nan, nan, nan, nan, nan, nan, nan, nan, nan, nan,\n",
       "       nan, nan, nan, nan])"
      ]
     },
     "execution_count": 4,
     "metadata": {},
     "output_type": "execute_result"
    }
   ],
   "source": [
    "peakHours[0]"
   ]
  },
  {
   "cell_type": "markdown",
   "id": "be8de974",
   "metadata": {},
   "source": [
    "## compare error with no adjustment\n",
    "possibly adjust for dow, hour, number of grid tiles, specific path"
   ]
  },
  {
   "cell_type": "code",
   "execution_count": 5,
   "id": "827635ed",
   "metadata": {},
   "outputs": [
    {
     "name": "stdout",
     "output_type": "stream",
     "text": [
      "nan\n",
      "nan\n",
      "nan\n",
      "nan\n",
      "nan\n"
     ]
    }
   ],
   "source": [
    "print(peakHours[0,3]) #transport_time\n",
    "print(peakHours[0,4]) #Longitude_Of_Emergency\n",
    "print(peakHours[0,5]) #Latitude_Of_Emergency\n",
    "print(peakHours[0,6]) #Longitude_At_Assign_Time\n",
    "print(peakHours[0,7]) #Latitude_At_Assign_Time\n",
    "# print(peakHours[0,3]) #Longitude_At_Assign_Time #-97\n",
    "# print(peakHours[0,4]) #Latitude_At_Assign_Time #30\n",
    "# print(peakHours[0,5]) #Time_Assigned\n",
    "# print(peakHours[0,6]) #Time_Enroute\n",
    "# print(peakHours[0,7]) #Time_ArrivedAtScene\n",
    "# print(peakHours[0,8]) #Time_Depart_Scene\n",
    "# print(peakHours[0,9]) #Time_Arrive_Destination\n",
    "# print(peakHours[0,10]) #Time_Available\n",
    "# print(peakHours[0,11]) #Time_Call_Cleared\n",
    "# print(peakHours[0,13]) #Longitude_Of_Emergency\n",
    "# print(peakHours[0,14]) #Latitude_Of_Emergency\n",
    "# print(peakHours[0,15]) #travel_time\n",
    "# print(peakHours[0,16]) #grid_time"
   ]
  },
  {
   "cell_type": "code",
   "execution_count": 6,
   "id": "7096d2d5",
   "metadata": {},
   "outputs": [
    {
     "ename": "ValueError",
     "evalue": "cannot convert float NaN to integer",
     "output_type": "error",
     "traceback": [
      "\u001b[1;31m---------------------------------------------------------------------------\u001b[0m",
      "\u001b[1;31mValueError\u001b[0m                                Traceback (most recent call last)",
      "\u001b[1;32m<ipython-input-6-0f23c59bf56c>\u001b[0m in \u001b[0;36m<module>\u001b[1;34m\u001b[0m\n\u001b[0;32m      9\u001b[0m \u001b[1;31m#     print(str(grid_time) + \" :: \" + peakHours[i,16])\u001b[0m\u001b[1;33m\u001b[0m\u001b[1;33m\u001b[0m\u001b[1;33m\u001b[0m\u001b[0m\n\u001b[0;32m     10\u001b[0m \u001b[1;31m#     reported_time = float(peakHours[i,15])\u001b[0m\u001b[1;33m\u001b[0m\u001b[1;33m\u001b[0m\u001b[1;33m\u001b[0m\u001b[0m\n\u001b[1;32m---> 11\u001b[1;33m     \u001b[0mstart_pt\u001b[0m \u001b[1;33m=\u001b[0m \u001b[0mg\u001b[0m\u001b[1;33m.\u001b[0m\u001b[0mmap_point_to_region\u001b[0m\u001b[1;33m(\u001b[0m\u001b[0mfloat\u001b[0m\u001b[1;33m(\u001b[0m\u001b[0mpeakHours\u001b[0m\u001b[1;33m[\u001b[0m\u001b[0mi\u001b[0m\u001b[1;33m,\u001b[0m\u001b[1;36m5\u001b[0m\u001b[1;33m]\u001b[0m\u001b[1;33m)\u001b[0m\u001b[1;33m,\u001b[0m\u001b[0mfloat\u001b[0m\u001b[1;33m(\u001b[0m\u001b[0mpeakHours\u001b[0m\u001b[1;33m[\u001b[0m\u001b[0mi\u001b[0m\u001b[1;33m,\u001b[0m\u001b[1;36m4\u001b[0m\u001b[1;33m]\u001b[0m\u001b[1;33m)\u001b[0m\u001b[1;33m)\u001b[0m\u001b[1;33m\u001b[0m\u001b[1;33m\u001b[0m\u001b[0m\n\u001b[0m\u001b[0;32m     12\u001b[0m     \u001b[0mend_pt\u001b[0m \u001b[1;33m=\u001b[0m \u001b[0mg\u001b[0m\u001b[1;33m.\u001b[0m\u001b[0mmap_point_to_region\u001b[0m\u001b[1;33m(\u001b[0m\u001b[0mfloat\u001b[0m\u001b[1;33m(\u001b[0m\u001b[0mpeakHours\u001b[0m\u001b[1;33m[\u001b[0m\u001b[0mi\u001b[0m\u001b[1;33m,\u001b[0m\u001b[1;36m7\u001b[0m\u001b[1;33m]\u001b[0m\u001b[1;33m)\u001b[0m\u001b[1;33m,\u001b[0m\u001b[0mfloat\u001b[0m\u001b[1;33m(\u001b[0m\u001b[0mpeakHours\u001b[0m\u001b[1;33m[\u001b[0m\u001b[0mi\u001b[0m\u001b[1;33m,\u001b[0m\u001b[1;36m6\u001b[0m\u001b[1;33m]\u001b[0m\u001b[1;33m)\u001b[0m\u001b[1;33m)\u001b[0m\u001b[1;33m\u001b[0m\u001b[1;33m\u001b[0m\u001b[0m\n\u001b[0;32m     13\u001b[0m     \u001b[0mgrid_time\u001b[0m \u001b[1;33m=\u001b[0m \u001b[0mg\u001b[0m\u001b[1;33m.\u001b[0m\u001b[0mget_time\u001b[0m\u001b[1;33m(\u001b[0m\u001b[0mstart_pt\u001b[0m\u001b[1;33m,\u001b[0m\u001b[0mend_pt\u001b[0m\u001b[1;33m)\u001b[0m\u001b[1;33m\u001b[0m\u001b[1;33m\u001b[0m\u001b[0m\n",
      "\u001b[1;32m<ipython-input-2-91cb064057f0>\u001b[0m in \u001b[0;36mmap_point_to_region\u001b[1;34m(self, latitude, longitude)\u001b[0m\n\u001b[0;32m     20\u001b[0m                 \u001b[0mself\u001b[0m\u001b[1;33m.\u001b[0m\u001b[0mregion_to_tract\u001b[0m\u001b[1;33m[\u001b[0m\u001b[0mregion\u001b[0m\u001b[1;33m]\u001b[0m\u001b[1;33m.\u001b[0m\u001b[0mappend\u001b[0m\u001b[1;33m(\u001b[0m\u001b[0mcensus_tract\u001b[0m\u001b[1;33m)\u001b[0m\u001b[1;33m\u001b[0m\u001b[1;33m\u001b[0m\u001b[0m\n\u001b[0;32m     21\u001b[0m     \u001b[1;32mdef\u001b[0m \u001b[0mmap_point_to_region\u001b[0m\u001b[1;33m(\u001b[0m\u001b[0mself\u001b[0m\u001b[1;33m,\u001b[0m \u001b[0mlatitude\u001b[0m\u001b[1;33m,\u001b[0m \u001b[0mlongitude\u001b[0m\u001b[1;33m)\u001b[0m\u001b[1;33m:\u001b[0m\u001b[1;33m\u001b[0m\u001b[1;33m\u001b[0m\u001b[0m\n\u001b[1;32m---> 22\u001b[1;33m         \u001b[1;32mreturn\u001b[0m \u001b[0mmath\u001b[0m\u001b[1;33m.\u001b[0m\u001b[0mfloor\u001b[0m\u001b[1;33m(\u001b[0m\u001b[1;33m(\u001b[0m\u001b[0mlatitude\u001b[0m\u001b[1;33m-\u001b[0m\u001b[0mself\u001b[0m\u001b[1;33m.\u001b[0m\u001b[0mmin_lat\u001b[0m\u001b[1;33m)\u001b[0m\u001b[1;33m/\u001b[0m\u001b[0mself\u001b[0m\u001b[1;33m.\u001b[0m\u001b[0mlatitude_delta\u001b[0m\u001b[1;33m)\u001b[0m \u001b[1;33m*\u001b[0m \u001b[0mself\u001b[0m\u001b[1;33m.\u001b[0m\u001b[0mncols\u001b[0m  \u001b[1;33m+\u001b[0m \u001b[0mmath\u001b[0m\u001b[1;33m.\u001b[0m\u001b[0mfloor\u001b[0m\u001b[1;33m(\u001b[0m\u001b[1;33m(\u001b[0m\u001b[0mlongitude\u001b[0m\u001b[1;33m-\u001b[0m\u001b[0mself\u001b[0m\u001b[1;33m.\u001b[0m\u001b[0mmin_lon\u001b[0m\u001b[1;33m)\u001b[0m\u001b[1;33m/\u001b[0m\u001b[0mself\u001b[0m\u001b[1;33m.\u001b[0m\u001b[0mlongitude_delta\u001b[0m\u001b[1;33m)\u001b[0m\u001b[1;33m\u001b[0m\u001b[1;33m\u001b[0m\u001b[0m\n\u001b[0m\u001b[0;32m     23\u001b[0m     \u001b[1;32mdef\u001b[0m \u001b[0mget_representative\u001b[0m\u001b[1;33m(\u001b[0m\u001b[0mself\u001b[0m\u001b[1;33m,\u001b[0m \u001b[0mregion_num\u001b[0m\u001b[1;33m)\u001b[0m\u001b[1;33m:\u001b[0m\u001b[1;33m\u001b[0m\u001b[1;33m\u001b[0m\u001b[0m\n\u001b[0;32m     24\u001b[0m         \u001b[0mrow_num\u001b[0m \u001b[1;33m=\u001b[0m \u001b[0mregion_num\u001b[0m\u001b[1;33m//\u001b[0m\u001b[0mself\u001b[0m\u001b[1;33m.\u001b[0m\u001b[0mncols\u001b[0m\u001b[1;33m\u001b[0m\u001b[1;33m\u001b[0m\u001b[0m\n",
      "\u001b[1;31mValueError\u001b[0m: cannot convert float NaN to integer"
     ]
    }
   ],
   "source": [
    "nsamples = 1000 #len(peakHours)\n",
    "error_list = []\n",
    "error_percent = []\n",
    "grid_list = []\n",
    "for i in range(1,nsamples):\n",
    "#     start_pt = g.map_point_to_region(float(peakHours[i,4]),float(peakHours[i,3]))\n",
    "#     end_pt = g.map_point_to_region(float(peakHours[i,14]),float(peakHours[i,13]))\n",
    "#     grid_time = g.get_time(start_pt,end_pt) #check if \n",
    "#     print(str(grid_time) + \" :: \" + peakHours[i,16])\n",
    "#     reported_time = float(peakHours[i,15])\n",
    "    start_pt = g.map_point_to_region(float(peakHours[i,5]),float(peakHours[i,4]))\n",
    "    end_pt = g.map_point_to_region(float(peakHours[i,7]),float(peakHours[i,6]))\n",
    "    grid_time = g.get_time(start_pt,end_pt)\n",
    "    reported_time = float(peakHours[i,3])\n",
    "    if(reported_time > 1800):\n",
    "        continue\n",
    "        \n",
    "    error_list.append(reported_time -  grid_time)\n",
    "    if np.abs(reported_time -  grid_time) > 1000:\n",
    "        print(str(reported_time) + \"::\" + str(grid_time))\n",
    "    #error percent\n",
    "    if(grid_time > reported_time):\n",
    "        error_percent.append(grid_time/reported_time - 1)\n",
    "    else: #grid_time <= reported_time\n",
    "        error_percent.append(-1 * (1 - grid_time/reported_time))"
   ]
  },
  {
   "cell_type": "code",
   "execution_count": null,
   "id": "95b34955",
   "metadata": {},
   "outputs": [],
   "source": [
    "a = plt.hist(error_list, bins = 100, range = (-10,1000), log = True)"
   ]
  },
  {
   "cell_type": "code",
   "execution_count": null,
   "id": "ff819ab4",
   "metadata": {},
   "outputs": [],
   "source": [
    "#plt.hist(error_list, bins = 100, log = True)\n",
    "a = plt.hist(error_percent, bins = 100, range = (-10,100), log = True)\n",
    "print(np.mean(np.abs(error_percent)))\n",
    "print(np.mean(error_percent))\n",
    "print(np.std(error_percent))\n",
    "print(np.max(np.abs(error_percent)))"
   ]
  },
  {
   "cell_type": "markdown",
   "id": "825b4c72",
   "metadata": {
    "scrolled": true
   },
   "source": [
    "## Batches"
   ]
  },
  {
   "cell_type": "code",
   "execution_count": 7,
   "id": "7ab598b1",
   "metadata": {},
   "outputs": [],
   "source": [
    "#Summary: here we are comparing grid and reported travel time\n",
    "#jupyter functions assume many variables are global like g (grid object) and peakHours (np array)\n",
    "def nsample_verification(sample_start,nsamples):\n",
    "    error_list = []\n",
    "    error_percent = []\n",
    "    for i in range(sample_start,sample_start + nsamples):\n",
    "#         start_pt = g.map_point_to_region(float(peakHours[i,5]),float(peakHours[i,4]))\n",
    "#         end_pt = g.map_point_to_region(float(peakHours[i,7]),float(peakHours[i,6]))\n",
    "#         grid_time = g.get_time(start_pt,end_pt)\n",
    "#         reported_time = float(peakHours[i,3])\n",
    "        start_pt = g.map_point_to_region(float(peakHours[i,4]),float(peakHours[i,3]))\n",
    "        end_pt = g.map_point_to_region(float(peakHours[i,14]),float(peakHours[i,13]))\n",
    "        grid_time = g.get_time(start_pt,end_pt) #check if \n",
    "        reported_time = float(peakHours[i,15])\n",
    "#         if(reported_time > 1800):\n",
    "#             continue\n",
    "        error_list.append(reported_time -  grid_time)\n",
    "    return (error_list, np.mean(error_list), np.std(error_list), np.mean(peakHours[sample_start:sample_start+1000,15]), np.mean(peakHours[sample_start:sample_start+1000,16]))"
   ]
  },
  {
   "cell_type": "code",
   "execution_count": 9,
   "id": "0cf0136b",
   "metadata": {},
   "outputs": [],
   "source": [
    "#log-log linear regression\n",
    "# slope = 0.23868463365149437  #peakhours\n",
    "# intercept = 1.261777659720721 #peakhours\n",
    "slope= 0.4011478655815724 #test calls\n",
    "intercept= 1.0469242277715907 #test calls\n",
    "\n",
    "\n",
    "                \n",
    "def nsample_verification_log_regression(sample_start,nsamples):\n",
    "    error_list = []\n",
    "    error_percent = []\n",
    "    grid_list = []\n",
    "    for i in range(sample_start,sample_start + nsamples):\n",
    "#         start_pt = g.map_point_to_region(float(peakHours[i,5]),float(peakHours[i,4]))\n",
    "#         end_pt = g.map_point_to_region(float(peakHours[i,7]),float(peakHours[i,6]))\n",
    "#         grid_time = g.get_time(start_pt,end_pt)\n",
    "#         reported_time = float(peakHours[i,3])\n",
    "        start_pt = g.map_point_to_region(float(peakHours[i,4]),float(peakHours[i,3]))\n",
    "        end_pt = g.map_point_to_region(float(peakHours[i,14]),float(peakHours[i,13]))\n",
    "        grid_time = g.get_time(start_pt,end_pt) #check if \n",
    "        #print(str(grid_time) + \" :: \" + peakHours[i,16])\n",
    "        reported_time = float(peakHours[i,15])\n",
    "\n",
    "        grid_time = grid_time / 60\n",
    "        if(grid_time  < .1):\n",
    "            continue\n",
    "        grid_time = np.exp(np.log(grid_time)*slope + intercept) * 60       \n",
    "#         if(reported_time > 1800):\n",
    "#             continue\n",
    "        \n",
    "        grid_list.append( grid_time)\n",
    "        error_list.append(reported_time -  grid_time)\n",
    "    return (error_list, np.mean(error_list), np.std(error_list), np.mean(peakHours[sample_start:sample_start+1000,15]), np.mean(grid_list) )\n"
   ]
  },
  {
   "cell_type": "code",
   "execution_count": 20,
   "id": "aaedf5da",
   "metadata": {},
   "outputs": [
    {
     "name": "stdout",
     "output_type": "stream",
     "text": [
      "2.415655768853356\n"
     ]
    }
   ],
   "source": [
    "np.random.seed(0)\n",
    "mrp_mean_secs = []\n",
    "mrp_std_secs = []\n",
    "sample_ind = []\n",
    "vanilla_mean = []\n",
    "reported_mean = []\n",
    "regression_mean =[]\n",
    "\n",
    "for i in range(20):\n",
    "    nsamples = 1000\n",
    "    start = np.random.randint(low = 1, high = len(peakHours) - nsamples)\n",
    "    error_list, mean_seconds, std_seconds, reported, regression = nsample_verification_log_regression(start,nsamples)\n",
    "    #error_list, mean_seconds, std_seconds, reported, regression = nsample_verification(start,nsamples)\n",
    "    mrp_mean_secs.append(mean_seconds)\n",
    "    mrp_std_secs.append(std_seconds)\n",
    "    sample_ind.append(start)\n",
    "    regression_mean.append(regression)\n",
    "\n",
    "print(np.mean(mrp_mean_secs))"
   ]
  },
  {
   "cell_type": "code",
   "execution_count": 22,
   "id": "91c07583",
   "metadata": {
    "scrolled": true
   },
   "outputs": [],
   "source": [
    "np.random.seed(0)\n",
    "mrp_mean_secs = []\n",
    "mrp_std_secs = []\n",
    "sample_ind = []\n",
    "vanilla_mean = []\n",
    "reported_mean = []\n",
    "regression_mean =[]\n",
    "\n",
    "for i in range(20):\n",
    "    nsamples = 1000\n",
    "    start = np.random.randint(low = 1, high = len(peakHours) - nsamples)\n",
    "    error_list, mean_seconds, std_seconds, reported, regression = nsample_verification_log_regression(start,nsamples)\n",
    "    mrp_mean_secs.append(mean_seconds)\n",
    "    mrp_std_secs.append(std_seconds)\n",
    "    sample_ind.append(start)\n",
    "    regression_mean.append(regression)\n",
    "\n",
    "mrp_mean_secs = []\n",
    "mrp_std_secs = []\n",
    "sample_ind = []\n",
    "for i in range(20):\n",
    "    nsamples = 1000\n",
    "    start = np.random.randint(low = 1, high = len(peakHours) - nsamples)\n",
    "    erros_list, mean_seconds, std_seconds,reported,vanilla = nsample_verification(start,nsamples)\n",
    "    mrp_mean_secs.append(mean_seconds)\n",
    "    mrp_std_secs.append(std_seconds)\n",
    "    sample_ind.append(start)\n",
    "    vanilla_mean.append(vanilla)\n",
    "    reported_mean.append(reported)\n",
    "#vanilla_mean = mrp_mean_secs"
   ]
  },
  {
   "cell_type": "code",
   "execution_count": 24,
   "id": "e2cd3c48",
   "metadata": {},
   "outputs": [
    {
     "data": {
      "text/plain": [
       "-186.23065900000003"
      ]
     },
     "execution_count": 24,
     "metadata": {},
     "output_type": "execute_result"
    }
   ],
   "source": [
    "np.mean(mrp_mean_secs)"
   ]
  },
  {
   "cell_type": "code",
   "execution_count": 13,
   "id": "f75225dc",
   "metadata": {},
   "outputs": [
    {
     "name": "stdout",
     "output_type": "stream",
     "text": [
      "604.263379\n",
      "37.70987249357932\n",
      "420.1837339669707\n",
      "439.6201\n",
      "54.22021886796474\n"
     ]
    }
   ],
   "source": [
    "print(np.mean(vanilla_mean))\n",
    "print(np.std(vanilla_mean))\n",
    "print(np.mean(regression_mean))\n",
    "print(np.mean(reported_mean))\n",
    "print(np.std(reported_mean))"
   ]
  },
  {
   "cell_type": "code",
   "execution_count": 14,
   "id": "718a51c1",
   "metadata": {},
   "outputs": [],
   "source": [
    "vanilla_mean = np.array(vanilla_mean) / 60\n",
    "regression_mean = np.array(regression_mean) / 60\n",
    "reported_mean = np.array(reported_mean) / 60"
   ]
  },
  {
   "cell_type": "code",
   "execution_count": 15,
   "id": "35128e8f",
   "metadata": {},
   "outputs": [
    {
     "data": {
      "text/plain": [
       "<matplotlib.legend.Legend at 0x28547b56240>"
      ]
     },
     "execution_count": 15,
     "metadata": {},
     "output_type": "execute_result"
    },
    {
     "data": {
      "image/png": "[encoded data removed]",
      "text/plain": [
       "<Figure size 432x288 with 1 Axes>"
      ]
     },
     "metadata": {
      "needs_background": "light"
     },
     "output_type": "display_data"
    }
   ],
   "source": [
    "plt.plot(vanilla_mean, 'o-')\n",
    "plt.plot(regression_mean, 'o-')\n",
    "plt.plot(reported_mean , 'o-')\n",
    "plt.xticks(np.arange(0, 20, step=1))\n",
    "plt.xlabel(\"2 weeks worth of calls\" )\n",
    "plt.ylabel(\"mean response time\")\n",
    "plt.ylim([5,14])\n",
    "plt.legend([\"Original Mean\",\"Time Adjusted Mean\",\"Reported Mean\"], loc = 'upper right')\n",
    "\n"
   ]
  },
  {
   "cell_type": "code",
   "execution_count": null,
   "id": "37c68ab1",
   "metadata": {
    "scrolled": true
   },
   "outputs": [],
   "source": [
    "print(np.mean(mrp_mean_secs))\n",
    "print(np.std(mrp_mean_secs))\n",
    "print(np.mean(mrp_std_secs))\n",
    "print(np.std(mrp_std_secs))"
   ]
  },
  {
   "cell_type": "code",
   "execution_count": null,
   "id": "d703b4ff",
   "metadata": {},
   "outputs": [],
   "source": [
    "\n"
   ]
  },
  {
   "cell_type": "markdown",
   "id": "de9d6299",
   "metadata": {},
   "source": [
    "Journal #2 7_19_21\n",
    "\n",
    "print(np.mean(mrp_mean_secs))\n",
    "print(np.std(mrp_mean_secs))\n",
    "print(np.mean(mrp_std_secs))\n",
    "print(np.std(mrp_std_secs))\n",
    "\n",
    "Original:\n",
    "    -68.305403375\n",
    "    47.64801015196787\n",
    "    777.3492421206404\n",
    "    828.4805357610593\n",
    "\n",
    "Remove reported times over 30 minutes:\n",
    "    -105.88601923255867\n",
    "    18.183563418857975\n",
    "    347.6933307854862\n",
    "    17.073839379764028\n",
    "    \n",
    "Regression:\n",
    "    141.29845800855966\n",
    "    47.2311297535124\n",
    "    723.2293615600521\n",
    "    846.9660056437793\n",
    "    \n",
    "Regression w/ trimmed data (over 30 min reported time):\n",
    "    47.50713002905095\n",
    "    19.61630741356194\n",
    "    244.53452698069003\n",
    "    12.47188670082997\n",
    "\n",
    "\n",
    "    \n"
   ]
  },
  {
   "cell_type": "markdown",
   "id": "9e3839af",
   "metadata": {},
   "source": [
    "JOURNAL #1\n",
    "\n",
    "print(np.mean(mrp_mean_secs))\n",
    "print(np.std(mrp_mean_secs))\n",
    "print(np.mean(mrp_std_secs))\n",
    "print(np.std(mrp_std_secs))\n",
    "\n",
    "Original:\n",
    "    -169.3827825\n",
    "    43.433218727562995\n",
    "    865.5796475482963\n",
    "    909.0123950506306\n",
    "Global:\n",
    "    -23.382782499999998\n",
    "    43.433218727562995\n",
    "    865.5796475482963\n",
    "    909.0123950506306\n",
    "Bins:   \n",
    "    -10.426597950259458\n",
    "    37.34551863813396\n",
    "    734.4298909383522\n",
    "    965.1893347678395\n",
    "log-log regression:\n",
    "<!--     0.9459934054929257 #was this in minutes??\n",
    "    0.5485883217552645\n",
    "    10.312311628294795\n",
    "    15.522823813900242 -->\n",
    "    41.841701892569695\n",
    "    17.676115368057115\n",
    "    212.17378569138637\n",
    "    19.27757626181333\n",
    "\n",
    "\n"
   ]
  },
  {
   "cell_type": "code",
   "execution_count": null,
   "id": "6b92aa42",
   "metadata": {},
   "outputs": [],
   "source": [
    "#MRP? https://uweb.engr.arizona.edu/~guzinb/webpage_before_June_30_2008/files/bm_compstat.pdf"
   ]
  },
  {
   "cell_type": "code",
   "execution_count": null,
   "id": "d4a413ab",
   "metadata": {},
   "outputs": [],
   "source": []
  }
 ],
 "metadata": {
  "kernelspec": {
   "display_name": "Python 3",
   "language": "python",
   "name": "python3"
  },
  "language_info": {
   "codemirror_mode": {
    "name": "ipython",
    "version": 3
   },
   "file_extension": ".py",
   "mimetype": "text/x-python",
   "name": "python",
   "nbconvert_exporter": "python",
   "pygments_lexer": "ipython3",
   "version": "3.7.3"
  }
 },
 "nbformat": 4,
 "nbformat_minor": 5
}

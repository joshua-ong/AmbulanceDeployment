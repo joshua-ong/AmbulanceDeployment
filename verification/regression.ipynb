{
 "cells": [
  {
   "cell_type": "markdown",
   "id": "efe49366",
   "metadata": {},
   "source": [
    "Summary: Follow Nogcs regression steps\n",
    "1) trim the 5% quantiles\n",
    "2) plot grid time vs reported time\n",
    "3) (include delta x and delta y)\n",
    "4) 4.44 + .3 x (check your answer later)\n",
    "5) log-log transform data? (make sure residuals are constant)\n",
    "6) \n"
   ]
  },
  {
   "cell_type": "markdown",
   "id": "96d330a9",
   "metadata": {},
   "source": [
    "Questions for David: \n",
    "* Radio_Name can you explain this again which should I remove?"
   ]
  },
  {
   "cell_type": "markdown",
   "id": "9a771cca",
   "metadata": {},
   "source": [
    "Ngocs code\n",
    "\n",
    "rm(list = ls())\n",
    "setwd(\"/home/ngoc/gitfolders/students/ems\")\n",
    "\n",
    "data <- read.csv(\"peakhours.csv\",header=T)\n",
    "data$transport_time <- data$transport_time/60\n",
    "subset <- data[data$transport_time < 60 & data$transport_time > 1 & data$grid_time  > 0.1,]\n",
    "subset$grid_time <- subset$grid_time/60\n",
    "model <- lm(transport_time ~ grid_time,data=subset)\n",
    "summary(model)\n",
    "par(mfrow = c(2,2))\n",
    "plot(model)\n",
    "model <- lm(log(transport_time) ~ log(grid_time),data=subset)\n",
    "summary(model)\n",
    "plot(model)"
   ]
  },
  {
   "cell_type": "code",
   "execution_count": 1,
   "id": "a1094053",
   "metadata": {},
   "outputs": [],
   "source": [
    "import csv\n",
    "import collections\n",
    "import pandas as pd\n",
    "import numpy as np\n",
    "import math\n",
    "import json\n",
    "import matplotlib.pyplot as plt\n",
    "import seaborn as sns \n",
    "import scipy.stats as stats"
   ]
  },
  {
   "cell_type": "code",
   "execution_count": 2,
   "id": "fc9918d4",
   "metadata": {},
   "outputs": [],
   "source": [
    "peakHours = (np.genfromtxt(\"../Output_Data/peakHours.csv\", delimiter=\",\", dtype = str))\n",
    "clean = np.genfromtxt('../Input_Data/cleaned_data.csv', delimiter=\",\", dtype=str) #210k x 17"
   ]
  },
  {
   "cell_type": "code",
   "execution_count": 5,
   "id": "f246154f",
   "metadata": {},
   "outputs": [
    {
     "data": {
      "text/plain": [
       "'It looks like I filter out 70/190 radio names in my peak hour data'"
      ]
     },
     "execution_count": 5,
     "metadata": {},
     "output_type": "execute_result"
    }
   ],
   "source": [
    "\"\"\"It looks like I filter out 70/190 radio names in my peak hour data\"\"\"\n",
    "# unique_entry = []\n",
    "# for i in range(len(peakHours[:,2])):\n",
    "#     if(peakHours[i,2] not in unique_entry):\n",
    "#         unique_entry.append(peakHours[i,2])\n",
    "# print(len(unique_entry))"
   ]
  },
  {
   "cell_type": "code",
   "execution_count": 6,
   "id": "1a0485f4",
   "metadata": {},
   "outputs": [
    {
     "name": "stdout",
     "output_type": "stream",
     "text": [
      "Longitude_At_Assign_Time\n",
      "Latitude_At_Assign_Time\n",
      "Time_Assigned\n",
      "Time_Enroute\n",
      "Time_ArrivedAtScene\n",
      "Time_Depart_Scene\n",
      "Time_Arrive_Destination\n",
      "Time_Available\n",
      "Time_Call_Cleared\n",
      "Longitude_Of_Emergency\n",
      "Latitude_Of_Emergency\n",
      "transport_time\n",
      "grid_time\n"
     ]
    }
   ],
   "source": [
    "print(peakHours[0,3]) #Longitude_At_Assign_Time\n",
    "print(peakHours[0,4]) #Latitude_At_Assign_Time\n",
    "print(peakHours[0,5]) #Time_Assigned\n",
    "print(peakHours[0,6]) #Time_Enroute\n",
    "print(peakHours[0,7]) #Time_ArrivedAtScene\n",
    "print(peakHours[0,8]) #Time_Depart_Scene\n",
    "print(peakHours[0,9]) #Time_Arrive_Destination\n",
    "print(peakHours[0,10]) #Time_Available\n",
    "print(peakHours[0,11]) #Time_Call_Cleared\n",
    "print(peakHours[0,13]) #Longitude_Of_Emergency\n",
    "print(peakHours[0,14]) #Latitude_Of_Emergency\n",
    "print(peakHours[0,15]) #travel_time\n",
    "print(peakHours[0,16]) #grid_time"
   ]
  },
  {
   "cell_type": "code",
   "execution_count": 7,
   "id": "a58b69cf",
   "metadata": {},
   "outputs": [
    {
     "name": "stdout",
     "output_type": "stream",
     "text": [
      "report time\n",
      "DescribeResult(nobs=60959, minmax=(1.0, 86399.0), mean=429.19398284092586, variance=1372547.9136971834, skewness=69.07822650009624, kurtosis=5012.362410303811)\n",
      "grid time\n",
      "DescribeResult(nobs=60959, minmax=(-1.0, 6124.84), mean=595.3708689447005, variance=153390.91394845417, skewness=1.3756086838362203, kurtosis=5.0873225087845135)\n"
     ]
    }
   ],
   "source": [
    "#nobs # of observations;\n",
    "#what is skew? https://towardsdatascience.com/skewness-kurtosis-simplified-1338e094fc85\n",
    "print(\"report time\")\n",
    "print(stats.describe(np.array(peakHours[1:,15]).astype(float)))\n",
    "print(\"grid time\")\n",
    "print(stats.describe(np.array(peakHours[1:,16]).astype(float)))"
   ]
  },
  {
   "cell_type": "markdown",
   "id": "558759f0",
   "metadata": {},
   "source": [
    "### 1) trim the 5% quantiles"
   ]
  },
  {
   "cell_type": "code",
   "execution_count": 6,
   "id": "83cec643",
   "metadata": {},
   "outputs": [],
   "source": [
    "#lets remove some quantile data\n",
    "# np.quantile(grid_time,.99) #32.4 * 60 seconds\n",
    "# np.quantile(grid_time,.05) #0 * 60 seconds\n",
    "# np.quantile(report_time,.05) #1 * 60 seconds\n",
    "# np.quantile(report_time,.995) #25 hmmm * 60 seconds"
   ]
  },
  {
   "cell_type": "code",
   "execution_count": 8,
   "id": "f7186af7",
   "metadata": {},
   "outputs": [
    {
     "name": "stdout",
     "output_type": "stream",
     "text": [
      "(60959,)\n",
      "filter_2:  5071\n",
      "filter_3:  28\n",
      "filter_4:  449\n",
      "(55411,)\n"
     ]
    }
   ],
   "source": [
    "report_time = np.array(peakHours[1:,15]).astype(float)\n",
    "report_time = report_time/60\n",
    "grid_time = np.array(peakHours[1:,16]).astype(float)\n",
    "grid_time = grid_time / 60\n",
    "#subset <- data[data$transport_time < 60 & data$transport_time > 1 & data$grid_time  > 0.1,]\n",
    "print(report_time.shape)\n",
    "# print(\"filter_1:  \" + str(len(np.where(grid_time > (32.4*60))[0])))\n",
    "# filter_ind = np.where(grid_time < (32.4*60))\n",
    "# grid_time = grid_time[filter_ind]\n",
    "# report_time = report_time[filter_ind]\n",
    "print(\"filter_2:  \" + str(len(np.where(grid_time <= 0)[0])))\n",
    "filter_ind = np.where(grid_time > 0.1)\n",
    "grid_time = grid_time[filter_ind]\n",
    "report_time = report_time[filter_ind]\n",
    "print(\"filter_3:  \" + str(len(np.where(report_time > 60)[0])))\n",
    "filter_ind = np.where(report_time <= (60))\n",
    "grid_time = grid_time[filter_ind]\n",
    "report_time = report_time[filter_ind]\n",
    "print(\"filter_4:  \" + str(len(np.where(report_time <= 1)[0])))\n",
    "filter_ind = np.where(report_time > 1)\n",
    "grid_time = grid_time[filter_ind]\n",
    "report_time = report_time[filter_ind]\n",
    "print(report_time.shape)\n",
    "#I remember this was significantly less work for Ngoc. Maybe I should try pandas"
   ]
  },
  {
   "cell_type": "markdown",
   "id": "1dc8b644",
   "metadata": {},
   "source": [
    "### 5) log-log transform data? (make sure residuals are constant)"
   ]
  },
  {
   "cell_type": "code",
   "execution_count": 9,
   "id": "7bf18445",
   "metadata": {},
   "outputs": [
    {
     "name": "stdout",
     "output_type": "stream",
     "text": [
      "slope:: 0.1430919014731839 intercept:: 5.391695615423912 r2_value::0.04703393979677209\n",
      "r-squared: 0.04703393979677209\n"
     ]
    },
    {
     "data": {
      "image/png": "[encoded data removed]",
      "text/plain": [
       "<Figure size 432x288 with 1 Axes>"
      ]
     },
     "metadata": {
      "needs_background": "light"
     },
     "output_type": "display_data"
    }
   ],
   "source": [
    "#linear regression on time slots\n",
    "slope, intercept, r_value, p_value, std_err = stats.linregress(grid_time,report_time)\n",
    "print(\"slope:: \" + str(slope) + \" intercept:: \" + str(intercept) + \" r2_value::\" + str(r_value**2))\n",
    "x = np.linspace(0, 4000, num=50)\n",
    "y = slope * np.linspace(0, 4000, num=50) + intercept\n",
    "plt.plot(x,y, 'orange')\n",
    "plt.scatter(grid_time, report_time)\n",
    "plt.ylim([0,60])\n",
    "plt.xlim([0,60])\n",
    "plt.xlabel(\"grid time\")\n",
    "plt.ylabel(\"reported time\")\n",
    "print(\"r-squared:\", r_value**2)"
   ]
  },
  {
   "cell_type": "code",
   "execution_count": 9,
   "id": "4048ca5a",
   "metadata": {},
   "outputs": [
    {
     "data": {
      "text/plain": [
       "<matplotlib.collections.PathCollection at 0x1919d7a6af0>"
      ]
     },
     "execution_count": 9,
     "metadata": {},
     "output_type": "execute_result"
    },
    {
     "data": {
      "image/png": "[encoded data removed]",
      "text/plain": [
       "<Figure size 432x288 with 1 Axes>"
      ]
     },
     "metadata": {
      "needs_background": "light"
     },
     "output_type": "display_data"
    }
   ],
   "source": [
    "#plot residuals\n",
    "#use R in python https://warwick.ac.uk/fac/sci/moac/people/students/peter_cock/python/lin_reg/\n",
    "slope = 0.1430919014731839\n",
    "intercept = 5.391695615423912\n",
    "y_pred = np.zeros(report_time.shape)\n",
    "for i in range(len(report_time)):\n",
    "    ax = grid_time[i]*slope\n",
    "    y_pred[i] = ax + intercept\n",
    "residuals = report_time - y_pred\n",
    "plt.scatter(residuals,y_pred)\n",
    "#this also looks fine..?"
   ]
  },
  {
   "cell_type": "code",
   "execution_count": 13,
   "id": "4d9a8a1f",
   "metadata": {
    "scrolled": true
   },
   "outputs": [
    {
     "name": "stdout",
     "output_type": "stream",
     "text": [
      "slope:: 0.23868463365149437 intercept:: 1.261777659720721 r2_value::0.05617530203041822\n",
      "r-squared: 0.05617530203041822\n"
     ]
    },
    {
     "data": {
      "image/png": "[encoded data removed]",
      "text/plain": [
       "<Figure size 432x288 with 1 Axes>"
      ]
     },
     "metadata": {
      "needs_background": "light"
     },
     "output_type": "display_data"
    }
   ],
   "source": [
    "#linear regression on time slots\n",
    "log_report_time =(np.log(report_time))\n",
    "log_grid_time =(np.log(grid_time))\n",
    "slope, intercept, r_value, p_value, std_err = stats.linregress(log_grid_time,log_report_time)\n",
    "print(\"slope:: \" + str(slope) + \" intercept:: \" + str(intercept) + \" r2_value::\" + str(r_value**2))\n",
    "x = np.linspace(0, 4000, num=50)\n",
    "y = slope * np.linspace(0, 4000, num=50) + intercept\n",
    "plt.plot(x,y, 'orange')\n",
    "plt.scatter(log_grid_time, log_report_time, s = 0.001)\n",
    "plt.ylim([0,10])\n",
    "plt.xlim([0,10])\n",
    "plt.xlabel(\"grid time\")\n",
    "plt.ylabel(\"reported time\")\n",
    "print(\"r-squared:\", r_value**2)"
   ]
  },
  {
   "cell_type": "code",
   "execution_count": 11,
   "id": "c086b26f",
   "metadata": {},
   "outputs": [
    {
     "data": {
      "text/plain": [
       "2"
      ]
     },
     "execution_count": 11,
     "metadata": {},
     "output_type": "execute_result"
    }
   ],
   "source": [
    "1+1"
   ]
  },
  {
   "cell_type": "code",
   "execution_count": 23,
   "id": "8cfa7ff7",
   "metadata": {},
   "outputs": [
    {
     "data": {
      "text/plain": [
       "3.712"
      ]
     },
     "execution_count": 23,
     "metadata": {},
     "output_type": "execute_result"
    }
   ],
   "source": [
    "grid_time[0]"
   ]
  },
  {
   "cell_type": "code",
   "execution_count": 12,
   "id": "17b41ae4",
   "metadata": {},
   "outputs": [
    {
     "data": {
      "text/plain": [
       "array([3.53169406, 5.18580849, 6.11882044, 6.74059116, 7.21969653,\n",
       "       7.95333399, 8.51863827, 8.98464885, 9.38426914])"
      ]
     },
     "execution_count": 12,
     "metadata": {},
     "output_type": "execute_result"
    }
   ],
   "source": [
    "#example\n",
    "#slope:: 0.23868463365149437 intercept:: 1.261777659720721\n",
    "source = np.array([1,5,10,15,20,30,40,50,60])\n",
    "ax = np.log(source)*slope\n",
    "sink = np.exp(ax + intercept)\n",
    "sink"
   ]
  },
  {
   "cell_type": "code",
   "execution_count": 22,
   "id": "bd61e370",
   "metadata": {},
   "outputs": [
    {
     "data": {
      "text/plain": [
       "4.829917849761265"
      ]
     },
     "execution_count": 22,
     "metadata": {},
     "output_type": "execute_result"
    }
   ],
   "source": []
  },
  {
   "cell_type": "code",
   "execution_count": 19,
   "id": "e17e1bc3",
   "metadata": {},
   "outputs": [
    {
     "data": {
      "text/plain": [
       "<matplotlib.collections.PathCollection at 0x1919f47a3d0>"
      ]
     },
     "execution_count": 19,
     "metadata": {},
     "output_type": "execute_result"
    },
    {
     "data": {
      "image/png": "[encoded data removed]",
      "text/plain": [
       "<Figure size 432x288 with 1 Axes>"
      ]
     },
     "metadata": {
      "needs_background": "light"
     },
     "output_type": "display_data"
    }
   ],
   "source": [
    "#plot residuals\n",
    "#use R in python https://warwick.ac.uk/fac/sci/moac/people/students/peter_cock/python/lin_reg/\n",
    "grid_time_adjusted = np.zeros(report_time.shape)\n",
    "for i in range(len(report_time)):\n",
    "    ax = np.log(grid_time[i])*slope\n",
    "    grid_time_adjusted[i] = np.exp(ax + intercept)\n",
    "    \n",
    "y_pred = np.log(grid_time_adjusted)\n",
    "residuals = np.log(report_time) - y_pred\n",
    "plt.scatter(residuals,y_pred)"
   ]
  },
  {
   "cell_type": "code",
   "execution_count": 15,
   "id": "48f413fd",
   "metadata": {},
   "outputs": [
    {
     "data": {
      "text/plain": [
       "<AxesSubplot:ylabel='Density'>"
      ]
     },
     "execution_count": 15,
     "metadata": {},
     "output_type": "execute_result"
    },
    {
     "data": {
      "image/png": "[encoded data removed]",
      "text/plain": [
       "<Figure size 432x288 with 1 Axes>"
      ]
     },
     "metadata": {
      "needs_background": "light"
     },
     "output_type": "display_data"
    }
   ],
   "source": [
    "sns.kdeplot(report_time)\n",
    "sns.kdeplot(grid_time)\n",
    "sns.kdeplot(grid_time_adjusted)"
   ]
  },
  {
   "cell_type": "code",
   "execution_count": 16,
   "id": "59df7bdb",
   "metadata": {},
   "outputs": [
    {
     "data": {
      "text/plain": [
       "(array([7.380e+02, 1.280e+03, 2.070e+03, 2.819e+03, 3.518e+03, 4.111e+03,\n",
       "        4.498e+03, 4.320e+03, 4.134e+03, 3.804e+03, 3.541e+03, 3.169e+03,\n",
       "        2.791e+03, 2.417e+03, 2.032e+03, 1.631e+03, 1.441e+03, 1.174e+03,\n",
       "        9.810e+02, 7.890e+02, 6.610e+02, 5.020e+02, 4.070e+02, 4.010e+02,\n",
       "        2.920e+02, 2.440e+02, 2.120e+02, 1.860e+02, 1.490e+02, 1.330e+02,\n",
       "        1.160e+02, 1.020e+02, 7.000e+01, 6.400e+01, 7.300e+01, 5.300e+01,\n",
       "        5.100e+01, 3.400e+01, 3.200e+01, 2.500e+01, 2.700e+01, 2.400e+01,\n",
       "        2.300e+01, 2.400e+01, 1.900e+01, 2.100e+01, 9.000e+00, 1.500e+01,\n",
       "        1.800e+01, 1.600e+01, 1.600e+01, 7.000e+00, 9.000e+00, 5.000e+00,\n",
       "        6.000e+00, 9.000e+00, 6.000e+00, 7.000e+00, 6.000e+00, 4.000e+00,\n",
       "        3.000e+00, 7.000e+00, 4.000e+00, 4.000e+00, 5.000e+00, 4.000e+00,\n",
       "        4.000e+00, 3.000e+00, 3.000e+00, 4.000e+00, 3.000e+00, 3.000e+00,\n",
       "        2.000e+00, 2.000e+00, 1.000e+00, 1.000e+00, 2.000e+00, 1.000e+00,\n",
       "        2.000e+00, 1.000e+00, 1.000e+00, 3.000e+00, 0.000e+00, 2.000e+00,\n",
       "        2.000e+00, 1.000e+00, 0.000e+00, 0.000e+00, 0.000e+00, 0.000e+00,\n",
       "        0.000e+00, 0.000e+00, 1.000e+00, 2.000e+00, 1.000e+00, 0.000e+00,\n",
       "        1.000e+00, 0.000e+00, 1.000e+00, 1.000e+00]),\n",
       " array([ 1.01666667,  1.586     ,  2.15533333,  2.72466667,  3.294     ,\n",
       "         3.86333333,  4.43266667,  5.002     ,  5.57133333,  6.14066667,\n",
       "         6.71      ,  7.27933333,  7.84866667,  8.418     ,  8.98733333,\n",
       "         9.55666667, 10.126     , 10.69533333, 11.26466667, 11.834     ,\n",
       "        12.40333333, 12.97266667, 13.542     , 14.11133333, 14.68066667,\n",
       "        15.25      , 15.81933333, 16.38866667, 16.958     , 17.52733333,\n",
       "        18.09666667, 18.666     , 19.23533333, 19.80466667, 20.374     ,\n",
       "        20.94333333, 21.51266667, 22.082     , 22.65133333, 23.22066667,\n",
       "        23.79      , 24.35933333, 24.92866667, 25.498     , 26.06733333,\n",
       "        26.63666667, 27.206     , 27.77533333, 28.34466667, 28.914     ,\n",
       "        29.48333333, 30.05266667, 30.622     , 31.19133333, 31.76066667,\n",
       "        32.33      , 32.89933333, 33.46866667, 34.038     , 34.60733333,\n",
       "        35.17666667, 35.746     , 36.31533333, 36.88466667, 37.454     ,\n",
       "        38.02333333, 38.59266667, 39.162     , 39.73133333, 40.30066667,\n",
       "        40.87      , 41.43933333, 42.00866667, 42.578     , 43.14733333,\n",
       "        43.71666667, 44.286     , 44.85533333, 45.42466667, 45.994     ,\n",
       "        46.56333333, 47.13266667, 47.702     , 48.27133333, 48.84066667,\n",
       "        49.41      , 49.97933333, 50.54866667, 51.118     , 51.68733333,\n",
       "        52.25666667, 52.826     , 53.39533333, 53.96466667, 54.534     ,\n",
       "        55.10333333, 55.67266667, 56.242     , 56.81133333, 57.38066667,\n",
       "        57.95      ]),\n",
       " <BarContainer object of 100 artists>)"
      ]
     },
     "execution_count": 16,
     "metadata": {},
     "output_type": "execute_result"
    },
    {
     "data": {
      "image/png": "[encoded data removed]",
      "text/plain": [
       "<Figure size 432x288 with 1 Axes>"
      ]
     },
     "metadata": {
      "needs_background": "light"
     },
     "output_type": "display_data"
    }
   ],
   "source": [
    "plt.hist(report_time, bins = 100)"
   ]
  },
  {
   "cell_type": "code",
   "execution_count": 17,
   "id": "e76833bf",
   "metadata": {},
   "outputs": [
    {
     "data": {
      "text/plain": [
       "(array([3.000e+00, 5.760e+02, 4.280e+03, 4.052e+03, 4.005e+03, 4.023e+03,\n",
       "        3.731e+03, 3.542e+03, 5.229e+03, 4.882e+03, 2.342e+03, 3.929e+03,\n",
       "        3.022e+03, 1.761e+03, 2.061e+03, 1.470e+03, 1.193e+03, 8.830e+02,\n",
       "        7.800e+02, 6.990e+02, 5.660e+02, 4.240e+02, 2.370e+02, 2.750e+02,\n",
       "        2.370e+02, 1.400e+02, 1.260e+02, 1.060e+02, 6.400e+01, 7.600e+01,\n",
       "        9.600e+01, 7.400e+01, 7.600e+01, 7.000e+01, 5.200e+01, 5.400e+01,\n",
       "        4.400e+01, 2.900e+01, 4.800e+01, 3.600e+01, 9.000e+00, 7.000e+00,\n",
       "        1.300e+01, 2.000e+01, 9.000e+00, 4.000e+00, 1.500e+01, 7.000e+00,\n",
       "        5.000e+00, 0.000e+00, 9.000e+00, 2.000e+00, 5.000e+00, 1.000e+00,\n",
       "        1.000e+00, 1.000e+00, 3.000e+00, 0.000e+00, 0.000e+00, 1.000e+00,\n",
       "        1.000e+00, 0.000e+00, 1.000e+00, 0.000e+00, 0.000e+00, 2.000e+00,\n",
       "        0.000e+00, 0.000e+00, 0.000e+00, 0.000e+00, 0.000e+00, 0.000e+00,\n",
       "        0.000e+00, 0.000e+00, 0.000e+00, 0.000e+00, 0.000e+00, 0.000e+00,\n",
       "        0.000e+00, 0.000e+00, 0.000e+00, 0.000e+00, 0.000e+00, 0.000e+00,\n",
       "        0.000e+00, 0.000e+00, 1.000e+00, 0.000e+00, 0.000e+00, 0.000e+00,\n",
       "        0.000e+00, 0.000e+00, 0.000e+00, 0.000e+00, 0.000e+00, 0.000e+00,\n",
       "        0.000e+00, 0.000e+00, 0.000e+00, 1.000e+00]),\n",
       " array([  1.11233333,   2.12201667,   3.1317    ,   4.14138333,\n",
       "          5.15106667,   6.16075   ,   7.17043333,   8.18011667,\n",
       "          9.1898    ,  10.19948333,  11.20916667,  12.21885   ,\n",
       "         13.22853333,  14.23821667,  15.2479    ,  16.25758333,\n",
       "         17.26726667,  18.27695   ,  19.28663333,  20.29631667,\n",
       "         21.306     ,  22.31568333,  23.32536667,  24.33505   ,\n",
       "         25.34473333,  26.35441667,  27.3641    ,  28.37378333,\n",
       "         29.38346667,  30.39315   ,  31.40283333,  32.41251667,\n",
       "         33.4222    ,  34.43188333,  35.44156667,  36.45125   ,\n",
       "         37.46093333,  38.47061667,  39.4803    ,  40.48998333,\n",
       "         41.49966667,  42.50935   ,  43.51903333,  44.52871667,\n",
       "         45.5384    ,  46.54808333,  47.55776667,  48.56745   ,\n",
       "         49.57713333,  50.58681667,  51.5965    ,  52.60618333,\n",
       "         53.61586667,  54.62555   ,  55.63523333,  56.64491667,\n",
       "         57.6546    ,  58.66428333,  59.67396667,  60.68365   ,\n",
       "         61.69333333,  62.70301667,  63.7127    ,  64.72238333,\n",
       "         65.73206667,  66.74175   ,  67.75143333,  68.76111667,\n",
       "         69.7708    ,  70.78048333,  71.79016667,  72.79985   ,\n",
       "         73.80953333,  74.81921667,  75.8289    ,  76.83858333,\n",
       "         77.84826667,  78.85795   ,  79.86763333,  80.87731667,\n",
       "         81.887     ,  82.89668333,  83.90636667,  84.91605   ,\n",
       "         85.92573333,  86.93541667,  87.9451    ,  88.95478333,\n",
       "         89.96446667,  90.97415   ,  91.98383333,  92.99351667,\n",
       "         94.0032    ,  95.01288333,  96.02256667,  97.03225   ,\n",
       "         98.04193333,  99.05161667, 100.0613    , 101.07098333,\n",
       "        102.08066667]),\n",
       " <BarContainer object of 100 artists>)"
      ]
     },
     "execution_count": 17,
     "metadata": {},
     "output_type": "execute_result"
    },
    {
     "data": {
      "image/png": "[encoded data removed]",
      "text/plain": [
       "<Figure size 432x288 with 1 Axes>"
      ]
     },
     "metadata": {
      "needs_background": "light"
     },
     "output_type": "display_data"
    }
   ],
   "source": [
    "plt.hist(grid_time,bins = 100)"
   ]
  },
  {
   "cell_type": "code",
   "execution_count": null,
   "id": "6df3a244",
   "metadata": {},
   "outputs": [],
   "source": []
  }
 ],
 "metadata": {
  "kernelspec": {
   "display_name": "Python 3",
   "language": "python",
   "name": "python3"
  },
  "language_info": {
   "codemirror_mode": {
    "name": "ipython",
    "version": 3
   },
   "file_extension": ".py",
   "mimetype": "text/x-python",
   "name": "python",
   "nbconvert_exporter": "python",
   "pygments_lexer": "ipython3",
   "version": "3.7.3"
  }
 },
 "nbformat": 4,
 "nbformat_minor": 5
}

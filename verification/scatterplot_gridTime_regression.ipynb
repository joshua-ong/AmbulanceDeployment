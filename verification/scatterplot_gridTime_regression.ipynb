{
 "cells": [
  {
   "cell_type": "markdown",
   "id": "c4c190d8",
   "metadata": {},
   "source": [
    "Summary: lets plot a scatterplot and some regressions of travel time w.r.t. grid time, dow, and grid pieces."
   ]
  },
  {
   "cell_type": "code",
   "execution_count": 38,
   "id": "9934ce56",
   "metadata": {},
   "outputs": [],
   "source": [
    "import csv\n",
    "import collections\n",
    "import pandas as pd\n",
    "import numpy as np\n",
    "import math\n",
    "import json\n",
    "import matplotlib.pyplot as plt\n",
    "import seaborn as sns \n",
    "import scipy.stats as stats"
   ]
  },
  {
   "cell_type": "markdown",
   "id": "6b4f82da",
   "metadata": {},
   "source": [
    "## load the data"
   ]
  },
  {
   "cell_type": "code",
   "execution_count": 10,
   "id": "984c3436",
   "metadata": {},
   "outputs": [],
   "source": [
    "# This is the grid object, which is used throughout all data preprocessing.\n",
    "# It represents the city of Austin through a series of grids.\n",
    "# It thus makes a tractable way to compute distance between grids, ect. \n",
    "class Grid():\n",
    "    def __init__(self, grid_json):\n",
    "        self.grid = grid_json\n",
    "        self.min_lat = self.grid[\"latitude_min\"]\n",
    "        self.min_lon = self.grid[\"longitude_min\"]\n",
    "        self.max_lat = self.grid[\"latitude_max\"]\n",
    "        self.max_lon = self.grid[\"longitude_max\"]\n",
    "        self.latitude_delta = self.grid[\"latitude_step\"]\n",
    "        self.longitude_delta = self.grid[\"longitude_step\"]\n",
    "        self.nrows = math.ceil((self.max_lat - self.min_lat) / self.latitude_delta)\n",
    "        self.ncols = math.ceil((self.max_lon - self.min_lon) / self.longitude_delta)\n",
    "        self.times = self.grid[\"time_matrix\"]\n",
    "        self.census_tract_region_map = self.grid[\"census_tract_region_mapping\"]\n",
    "        self.region_to_tract = collections.defaultdict(list)\n",
    "        for census_tract in self.census_tract_region_map:\n",
    "            for region in self.census_tract_region_map[census_tract]:\n",
    "                self.region_to_tract[region].append(census_tract)\n",
    "    def map_point_to_region(self, latitude, longitude):\n",
    "        return math.floor((latitude-self.min_lat)/self.latitude_delta) * self.ncols  + math.floor((longitude-self.min_lon)/self.longitude_delta)\n",
    "    def get_representative(self, region_num):\n",
    "        row_num = region_num//self.ncols\n",
    "        col_num = region_num - row_num*self.ncols\n",
    "        lat = self.min_lat + row_num * self.latitude_delta + 0.5*self.latitude_delta\n",
    "        lon = self.min_lon + col_num * self.longitude_delta + 0.5*self.longitude_delta\n",
    "        return [lon, lat]\n",
    "    def get_time(self, region1, region2):\n",
    "        try:\n",
    "            return self.times[region1][region2]\n",
    "        except IndexError:\n",
    "            return -1\n",
    "    def region_to_census_tract(self, region):\n",
    "        try:\n",
    "            return self.region_to_tract[region]\n",
    "        except KeyError:\n",
    "            return \"0_0\""
   ]
  },
  {
   "cell_type": "code",
   "execution_count": 11,
   "id": "3e12f44a",
   "metadata": {},
   "outputs": [],
   "source": [
    "peakHours = (np.genfromtxt(\"..\\Output_Data/peakHours.csv\", delimiter=\",\", dtype = str))\n",
    "\n",
    "with open(\"..\\Input_Data/grid_info_multiple.json\", \"r\") as f:\n",
    "    grid_json = json.load(f)\n",
    "g = Grid(grid_json)"
   ]
  },
  {
   "cell_type": "code",
   "execution_count": 55,
   "id": "91db87b7",
   "metadata": {},
   "outputs": [
    {
     "data": {
      "text/plain": [
       "array(['', 'IncidentForeignKey', 'Radio_Name', 'Longitude_At_Assign_Time',\n",
       "       'Latitude_At_Assign_Time', 'Time_Assigned', 'Time_Enroute',\n",
       "       'Time_ArrivedAtScene', 'Time_Depart_Scene',\n",
       "       'Time_Arrive_Destination', 'Time_Available', 'Time_Call_Cleared',\n",
       "       'Call_Disposition', 'Longitude_Of_Emergency',\n",
       "       'Latitude_Of_Emergency', 'transport_time', 'grid_time'],\n",
       "      dtype='<U30')"
      ]
     },
     "execution_count": 55,
     "metadata": {},
     "output_type": "execute_result"
    }
   ],
   "source": [
    "peakHours[0]"
   ]
  },
  {
   "cell_type": "code",
   "execution_count": 56,
   "id": "e2374033",
   "metadata": {},
   "outputs": [
    {
     "name": "stdout",
     "output_type": "stream",
     "text": [
      "Longitude_At_Assign_Time\n",
      "Latitude_At_Assign_Time\n",
      "Time_Assigned\n",
      "Time_Enroute\n",
      "Time_ArrivedAtScene\n",
      "Time_Depart_Scene\n",
      "Time_Arrive_Destination\n",
      "Time_Available\n",
      "Time_Call_Cleared\n",
      "Longitude_Of_Emergency\n",
      "Latitude_Of_Emergency\n",
      "transport_time\n",
      "grid_time\n"
     ]
    }
   ],
   "source": [
    "print(peakHours[0,3]) #Longitude_At_Assign_Time\n",
    "print(peakHours[0,4]) #Latitude_At_Assign_Time\n",
    "print(peakHours[0,5]) #Time_Assigned\n",
    "print(peakHours[0,6]) #Time_Enroute\n",
    "print(peakHours[0,7]) #Time_ArrivedAtScene\n",
    "print(peakHours[0,8]) #Time_Depart_Scene\n",
    "print(peakHours[0,9]) #Time_Arrive_Destination\n",
    "print(peakHours[0,10]) #Time_Available\n",
    "print(peakHours[0,11]) #Time_Call_Cleared\n",
    "print(peakHours[0,13]) #Longitude_Of_Emergency\n",
    "print(peakHours[0,14]) #Latitude_Of_Emergency\n",
    "print(peakHours[0,15]) #travel_time\n",
    "print(peakHours[0,16]) #grid_time"
   ]
  },
  {
   "cell_type": "markdown",
   "id": "45805ccd",
   "metadata": {},
   "source": [
    "## compare error with no adjustment\n",
    "possibly adjust for dow, hour, number of grid tiles, specific path"
   ]
  },
  {
   "cell_type": "code",
   "execution_count": 57,
   "id": "8cb3ef52",
   "metadata": {},
   "outputs": [],
   "source": [
    "import math\n",
    "from datetime import *; from dateutil.relativedelta import *\n",
    "import calendar\n",
    "def csv2calendar(index,type_event):\n",
    "    time1 = peakHours[index,type_event-1]  #note backend and clean data sets are off by one index\n",
    "    #time1 = backend[index,type_event]\n",
    "    if time1 == \"\":\n",
    "        return -1\n",
    "    [ymd,hmm] = time1.split()\n",
    "    [y,m,d] = ymd.split('-')\n",
    "    [h,minu,sec] = hmm.split(\":\")\n",
    "    y = int(y)\n",
    "    m = int(m)\n",
    "    d = int(d)\n",
    "    h = int(h)\n",
    "    minu = int(minu)\n",
    "    sec = math.floor(float(sec))\n",
    "    timearrive = datetime(y, m, d, h, minu, sec)\n",
    "    return timearrive"
   ]
  },
  {
   "cell_type": "code",
   "execution_count": 87,
   "id": "156704c3",
   "metadata": {},
   "outputs": [],
   "source": [
    "#this is a bad data structure. You could use a hashmap instead,it would have 3200*3200 entries though.\n",
    "paths = np.zeros([3200, 3200], dtype=object)\n",
    "for i in range(3200):\n",
    "    for j in range(3200):\n",
    "        paths[i,j] = []"
   ]
  },
  {
   "cell_type": "code",
   "execution_count": 224,
   "id": "561e4abc",
   "metadata": {},
   "outputs": [],
   "source": [
    "#this is a bad data structure. You could use a hashmap instead,it would have 3200*3200 entries though.\n",
    "grid_paths = np.zeros([3200, 3200], dtype=object)\n",
    "for i in range(3200):\n",
    "    for j in range(3200):\n",
    "        grid_paths[i,j] = []"
   ]
  },
  {
   "cell_type": "code",
   "execution_count": 128,
   "id": "615e1709",
   "metadata": {},
   "outputs": [],
   "source": [
    "len_paths =  np.zeros([3200, 3200])\n",
    "for i in range(3200):\n",
    "    for j in range(3200):\n",
    "        len_paths[i,j] = len(paths[i,j])"
   ]
  },
  {
   "cell_type": "code",
   "execution_count": 219,
   "id": "13ece366",
   "metadata": {},
   "outputs": [
    {
     "data": {
      "text/plain": [
       "(array([ 824,  824,  824,  824,  824,  824,  824,  824,  824,  824, 1132,\n",
       "        1132, 1132, 1132, 1132, 1132, 1132, 1132, 1132, 1194, 1194, 1194,\n",
       "        1194, 1866], dtype=int64),\n",
       " array([ 641,  642,  701,  712,  762,  765,  769,  822,  825,  889,  712,\n",
       "         769,  889, 1010, 1011, 1012, 1070, 1071, 1131, 1071, 1320, 1378,\n",
       "        1379, 1623], dtype=int64))"
      ]
     },
     "execution_count": 219,
     "metadata": {},
     "output_type": "execute_result"
    }
   ],
   "source": [
    "np.where(len_paths > 100)"
   ]
  },
  {
   "cell_type": "code",
   "execution_count": 220,
   "id": "c72a58de",
   "metadata": {},
   "outputs": [
    {
     "data": {
      "text/plain": [
       "130.0"
      ]
     },
     "execution_count": 220,
     "metadata": {},
     "output_type": "execute_result"
    }
   ],
   "source": [
    "len_paths[824,641]"
   ]
  },
  {
   "cell_type": "code",
   "execution_count": 232,
   "id": "2a7806a0",
   "metadata": {},
   "outputs": [
    {
     "data": {
      "text/plain": [
       "0.15973799999999017"
      ]
     },
     "execution_count": 232,
     "metadata": {},
     "output_type": "execute_result"
    }
   ],
   "source": [
    "float(peakHours[i,13]) - float(peakHours[i,3])"
   ]
  },
  {
   "cell_type": "code",
   "execution_count": 233,
   "id": "70a16bbc",
   "metadata": {},
   "outputs": [
    {
     "data": {
      "text/plain": [
       "805"
      ]
     },
     "execution_count": 233,
     "metadata": {},
     "output_type": "execute_result"
    }
   ],
   "source": [
    "nsamples = 10000 #len(peakHours)\n",
    "error_list = []\n",
    "error_percent = []\n",
    "grid_list = []\n",
    "report_list = []\n",
    "hour_list = []\n",
    "start_list = []\n",
    "end_list = []\n",
    "delta_x_list = []\n",
    "delta_y_list = []\n",
    "grid_zero_count = 0\n",
    "for i in range(1,nsamples):\n",
    "    start_pt = g.map_point_to_region(float(peakHours[i,4]),float(peakHours[i,3]))\n",
    "    end_pt = g.map_point_to_region(float(peakHours[i,14]),float(peakHours[i,13]))\n",
    "    grid_time = g.get_time(start_pt,end_pt)\n",
    "    reported_time = float(peakHours[i,15])\n",
    "    #remove 'bad' data\n",
    "    if(grid_time == 0) or (start_pt < 0) or (start_pt > 3200): #6 points are out of region index..\n",
    "        grid_zero_count = grid_zero_count + 1\n",
    "        continue\n",
    "    if(reported_time > 10000):\n",
    "        continue\n",
    "    grid_list.append(grid_time)\n",
    "    \n",
    "    start_list.append(start_pt)\n",
    "    end_list.append(end_pt)\n",
    "    report_list.append(reported_time)\n",
    "    error_list.append(reported_time -  grid_time)\n",
    "    paths[start_pt,end_pt].append(reported_time)\n",
    "    grid_paths[start_pt,end_pt].append(grid_time)\n",
    "    delta_x_list.append(float(peakHours[i,14]) - float(peakHours[i,4]))\n",
    "    delta_y_list.append(float(peakHours[i,13]) - float(peakHours[i,3]))\n",
    "    #time\n",
    "    Time_Enroute = csv2calendar(i,7)\n",
    "    hour_list.append(Time_Enroute.hour)\n",
    "grid_zero_count"
   ]
  },
  {
   "cell_type": "code",
   "execution_count": 242,
   "id": "e2e0c809",
   "metadata": {},
   "outputs": [
    {
     "data": {
      "text/plain": [
       "33.333333333333336"
      ]
     },
     "execution_count": 242,
     "metadata": {},
     "output_type": "execute_result"
    }
   ],
   "source": [
    "2000/60"
   ]
  },
  {
   "cell_type": "code",
   "execution_count": 241,
   "id": "e8fda8fa",
   "metadata": {},
   "outputs": [
    {
     "data": {
      "text/plain": [
       "<matplotlib.collections.PathCollection at 0x176803c29a0>"
      ]
     },
     "execution_count": 241,
     "metadata": {},
     "output_type": "execute_result"
    },
    {
     "data": {
      "image/png": "[encoded data removed]",
      "text/plain": [
       "<Figure size 432x288 with 1 Axes>"
      ]
     },
     "metadata": {
      "needs_background": "light"
     },
     "output_type": "display_data"
    }
   ],
   "source": [
    "plt.scatter(delta_x_list,report_list)"
   ]
  },
  {
   "cell_type": "code",
   "execution_count": 238,
   "id": "ea38bc4e",
   "metadata": {},
   "outputs": [
    {
     "data": {
      "text/plain": [
       "0.046515370692133406"
      ]
     },
     "execution_count": 238,
     "metadata": {},
     "output_type": "execute_result"
    }
   ],
   "source": [
    "#use everything to predict log(reported_time)\n",
    "data = np.array([np.array(delta_x_list),np.array(delta_y_list),np.array(grid_list),np.array(report_list)])\n",
    "data = data.transpose()\n",
    "df = pd.DataFrame(data, columns = ['deltaX','deltaY','grid_time','report_time'])\n",
    "X = df[['deltaX', 'deltaY','grid_time']]\n",
    "y = df['report_time']   \n",
    "from sklearn import linear_model\n",
    "regr = linear_model.LinearRegression()\n",
    "regr.fit(X, y)\n",
    "#generate r^2 value\n",
    "from sklearn.metrics import r2_score\n",
    "y_pred = []\n",
    "for i in range(len(report_list)):\n",
    "    y_pred.append(regr.predict([[delta_x_list[i], delta_y_list[i], grid_list[i]]]))\n",
    "r2_score(report_list, y_pred)\n",
    "#normal 0.046397200099616454\n",
    "#log 0.03547441423973152\n",
    "#add hour log 0.035680215875491195"
   ]
  },
  {
   "cell_type": "code",
   "execution_count": 47,
   "id": "9285aedf",
   "metadata": {},
   "outputs": [],
   "source": [
    "##  linear regression"
   ]
  },
  {
   "cell_type": "code",
   "execution_count": 102,
   "id": "068f9788",
   "metadata": {},
   "outputs": [
    {
     "name": "stdout",
     "output_type": "stream",
     "text": [
      "r-squared: 0.0008290617723345471\n"
     ]
    },
    {
     "data": {
      "image/png": "[encoded data removed]",
      "text/plain": [
       "<Figure size 432x288 with 1 Axes>"
      ]
     },
     "metadata": {
      "needs_background": "light"
     },
     "output_type": "display_data"
    }
   ],
   "source": [
    "#linear regression on time slots\n",
    "slope, intercept, r_value, p_value, std_err = stats.linregress(grid_list,report_list)\n",
    "x = np.linspace(0, 4000, num=50)\n",
    "y = slope * np.linspace(0, 4000, num=50) + intercept\n",
    "plt.plot(x,y, 'orange')\n",
    "plt.scatter(grid_list, report_list)\n",
    "plt.ylim([0,2000])\n",
    "plt.xlabel(\"grid time\")\n",
    "plt.ylabel(\"reported time\")\n",
    "print(\"r-squared:\", r_value**2)"
   ]
  },
  {
   "cell_type": "code",
   "execution_count": 1,
   "id": "7801de57",
   "metadata": {},
   "outputs": [
    {
     "ename": "NameError",
     "evalue": "name 'np' is not defined",
     "output_type": "error",
     "traceback": [
      "\u001b[1;31m---------------------------------------------------------------------------\u001b[0m",
      "\u001b[1;31mNameError\u001b[0m                                 Traceback (most recent call last)",
      "\u001b[1;32m<ipython-input-1-f0bfbc9c9036>\u001b[0m in \u001b[0;36m<module>\u001b[1;34m\u001b[0m\n\u001b[0;32m      1\u001b[0m \u001b[1;31m#linear regression on log time slots\u001b[0m\u001b[1;33m\u001b[0m\u001b[1;33m\u001b[0m\u001b[1;33m\u001b[0m\u001b[0m\n\u001b[1;32m----> 2\u001b[1;33m \u001b[0mlog_report_list\u001b[0m \u001b[1;33m=\u001b[0m \u001b[0mnp\u001b[0m\u001b[1;33m.\u001b[0m\u001b[0mlog\u001b[0m\u001b[1;33m(\u001b[0m\u001b[0mreport_list\u001b[0m\u001b[1;33m)\u001b[0m\u001b[1;33m\u001b[0m\u001b[1;33m\u001b[0m\u001b[0m\n\u001b[0m\u001b[0;32m      3\u001b[0m \u001b[0mslope\u001b[0m\u001b[1;33m,\u001b[0m \u001b[0mintercept\u001b[0m\u001b[1;33m,\u001b[0m \u001b[0mr_value\u001b[0m\u001b[1;33m,\u001b[0m \u001b[0mp_value\u001b[0m\u001b[1;33m,\u001b[0m \u001b[0mstd_err\u001b[0m \u001b[1;33m=\u001b[0m \u001b[0mstats\u001b[0m\u001b[1;33m.\u001b[0m\u001b[0mlinregress\u001b[0m\u001b[1;33m(\u001b[0m\u001b[0mnp\u001b[0m\u001b[1;33m.\u001b[0m\u001b[0mlog\u001b[0m\u001b[1;33m(\u001b[0m\u001b[0mgrid_list\u001b[0m\u001b[1;33m)\u001b[0m\u001b[1;33m,\u001b[0m\u001b[0mlog_report_list\u001b[0m\u001b[1;33m)\u001b[0m\u001b[1;33m\u001b[0m\u001b[1;33m\u001b[0m\u001b[0m\n\u001b[0;32m      4\u001b[0m \u001b[0mx\u001b[0m \u001b[1;33m=\u001b[0m \u001b[0mnp\u001b[0m\u001b[1;33m.\u001b[0m\u001b[0mlinspace\u001b[0m\u001b[1;33m(\u001b[0m\u001b[1;36m0\u001b[0m\u001b[1;33m,\u001b[0m \u001b[1;36m4000\u001b[0m\u001b[1;33m,\u001b[0m \u001b[0mnum\u001b[0m\u001b[1;33m=\u001b[0m\u001b[1;36m50\u001b[0m\u001b[1;33m)\u001b[0m\u001b[1;33m\u001b[0m\u001b[1;33m\u001b[0m\u001b[0m\n\u001b[0;32m      5\u001b[0m \u001b[0my\u001b[0m \u001b[1;33m=\u001b[0m \u001b[0mslope\u001b[0m \u001b[1;33m*\u001b[0m \u001b[0mnp\u001b[0m\u001b[1;33m.\u001b[0m\u001b[0mlinspace\u001b[0m\u001b[1;33m(\u001b[0m\u001b[1;36m0\u001b[0m\u001b[1;33m,\u001b[0m \u001b[1;36m4000\u001b[0m\u001b[1;33m,\u001b[0m \u001b[0mnum\u001b[0m\u001b[1;33m=\u001b[0m\u001b[1;36m50\u001b[0m\u001b[1;33m)\u001b[0m \u001b[1;33m+\u001b[0m \u001b[0mintercept\u001b[0m\u001b[1;33m\u001b[0m\u001b[1;33m\u001b[0m\u001b[0m\n",
      "\u001b[1;31mNameError\u001b[0m: name 'np' is not defined"
     ]
    }
   ],
   "source": [
    "#linear regression on log time slots\n",
    "log_report_list = np.log(report_list)\n",
    "slope, intercept, r_value, p_value, std_err = stats.linregress(grid_list,log_report_list)\n",
    "x = np.linspace(0, 4000, num=50)\n",
    "y = slope * np.linspace(0, 4000, num=50) + intercept\n",
    "plt.plot(x,y, 'orange')\n",
    "plt.scatter(grid_list, log_report_list)\n",
    "plt.ylim([0,10])\n",
    "plt.xlabel(\"grid time\")\n",
    "plt.ylabel(\"log of reported time\")\n",
    "print(\"r-squared:\", r_value**2)"
   ]
  },
  {
   "cell_type": "code",
   "execution_count": 216,
   "id": "1524ba6e",
   "metadata": {},
   "outputs": [
    {
     "name": "stdout",
     "output_type": "stream",
     "text": [
      "1\n",
      "r-squared: 0.051104413623035146\n"
     ]
    },
    {
     "data": {
      "image/png": "[encoded data removed]",
      "text/plain": [
       "<Figure size 432x288 with 1 Axes>"
      ]
     },
     "metadata": {
      "needs_background": "light"
     },
     "output_type": "display_data"
    }
   ],
   "source": [
    "#plot a specific hour\n",
    "hour_list = np.array(hour_list)\n",
    "report_list = np.array(report_list)\n",
    "grid_list = np.array(grid_list)\n",
    "hour8ind = np.where(hour_list == 13)\n",
    "print(len(hour8ind))\n",
    "slope, intercept, r_value, p_value, std_err = stats.linregress(grid_list[hour8ind],report_list[hour8ind])\n",
    "x = np.linspace(0, 4000, num=50)\n",
    "y = slope * np.linspace(0, 4000, num=50) + intercept\n",
    "plt.plot(x,y, 'orange')\n",
    "plt.scatter(grid_list[hour8ind], (report_list[hour8ind]))\n",
    "print(\"r-squared:\", r_value**2)"
   ]
  },
  {
   "cell_type": "code",
   "execution_count": 180,
   "id": "2c503315",
   "metadata": {},
   "outputs": [],
   "source": [
    "#sns.heatmap(len_paths,linewidths = 0)"
   ]
  },
  {
   "cell_type": "code",
   "execution_count": 147,
   "id": "87c36db1",
   "metadata": {
    "scrolled": true
   },
   "outputs": [
    {
     "data": {
      "image/png": "[encoded data removed]",
      "text/plain": [
       "<Figure size 432x288 with 1 Axes>"
      ]
     },
     "metadata": {
      "needs_background": "light"
     },
     "output_type": "display_data"
    }
   ],
   "source": [
    "fig = plt.figure()\n",
    "ax = plt.axes(projection='3d')\n",
    "ax.scatter3D(start_list, end_list, report_list)\n",
    "ax.set_xlabel('x')\n",
    "ax.set_ylabel('y')\n",
    "ax.set_zlabel('z');\n",
    "#delta x delta y regression?"
   ]
  },
  {
   "cell_type": "code",
   "execution_count": 177,
   "id": "8b0e3e81",
   "metadata": {},
   "outputs": [
    {
     "data": {
      "text/plain": [
       "0.0005932190948924054"
      ]
     },
     "execution_count": 177,
     "metadata": {},
     "output_type": "execute_result"
    }
   ],
   "source": [
    "#use input and output long and lat to predict log(reported_time)\n",
    "log_report_list = np.log(report_list)\n",
    "data = np.array([np.array(start_list),np.array(end_list),log_report_list])\n",
    "data = data.transpose()\n",
    "df = pd.DataFrame(data, columns = ['start_pt','end_pt','report_time'])\n",
    "X = df[['start_pt', 'end_pt']]\n",
    "y = df['report_time']   \n",
    "from sklearn import linear_model\n",
    "regr = linear_model.LinearRegression()\n",
    "regr.fit(X, y)\n",
    "#generate r^2 value\n",
    "from sklearn.metrics import r2_score\n",
    "y_pred = []\n",
    "for i in range(len(report_list)):\n",
    "    y_pred.append(regr.predict([[start_list[i], end_list[i]]]))\n",
    "r2_score(log_report_list, y_pred)"
   ]
  },
  {
   "cell_type": "code",
   "execution_count": 179,
   "id": "ce4029f3",
   "metadata": {},
   "outputs": [
    {
     "data": {
      "text/plain": [
       "0.0005066142826413156"
      ]
     },
     "execution_count": 179,
     "metadata": {},
     "output_type": "execute_result"
    }
   ],
   "source": [
    "data = np.array([np.array(start_list),np.array(end_list),report_list])\n",
    "data = data.transpose()\n",
    "df = pd.DataFrame(data, columns = ['start_pt','end_pt','report_time'])\n",
    "X = df[['start_pt', 'end_pt']]\n",
    "y = df['report_time']   \n",
    "from sklearn import linear_model\n",
    "regr = linear_model.LinearRegression()\n",
    "regr.fit(X, y)\n",
    "#generate r^2 value\n",
    "from sklearn.metrics import r2_score\n",
    "y_pred = []\n",
    "for i in range(len(report_list)):\n",
    "    y_pred.append(regr.predict([[start_list[i], end_list[i]]]))\n",
    "r2_score(report_list, y_pred)"
   ]
  },
  {
   "cell_type": "code",
   "execution_count": 201,
   "id": "79e7d654",
   "metadata": {},
   "outputs": [
    {
     "data": {
      "text/plain": [
       "0.046399336490412835"
      ]
     },
     "execution_count": 201,
     "metadata": {},
     "output_type": "execute_result"
    }
   ],
   "source": [
    "#use everything to predict log(reported_time)\n",
    "log_report_list = np.log(report_list)\n",
    "data = np.array([np.array(start_list),np.array(end_list),np.array(grid_list),np.array(hour_list),np.array(report_list)])\n",
    "data = data.transpose()\n",
    "df = pd.DataFrame(data, columns = ['start_pt','end_pt','grid_time','hour','report_time'])\n",
    "X = df[['start_pt', 'end_pt','grid_time', 'hour']]\n",
    "y = df['report_time']   \n",
    "from sklearn import linear_model\n",
    "regr = linear_model.LinearRegression()\n",
    "regr.fit(X, y)\n",
    "#generate r^2 value\n",
    "from sklearn.metrics import r2_score\n",
    "y_pred = []\n",
    "for i in range(len(report_list)):\n",
    "    y_pred.append(regr.predict([[start_list[i], end_list[i], grid_list[i], hour_list[i]]]))\n",
    "r2_score(report_list, y_pred)\n",
    "#normal 0.046397200099616454\n",
    "#log 0.03547441423973152\n",
    "#add hour log 0.035680215875491195\n"
   ]
  },
  {
   "cell_type": "code",
   "execution_count": 223,
   "id": "2ed57f8b",
   "metadata": {},
   "outputs": [
    {
     "data": {
      "text/plain": [
       "(array([64., 59., 35., 20.,  5., 22.,  0.,  0.,  0.,  5.]),\n",
       " array([ 233. ,  323.3,  413.6,  503.9,  594.2,  684.5,  774.8,  865.1,\n",
       "         955.4, 1045.7, 1136. ]),\n",
       " <BarContainer object of 10 artists>)"
      ]
     },
     "execution_count": 223,
     "metadata": {},
     "output_type": "execute_result"
    },
    {
     "data": {
      "image/png": "[encoded data removed]",
      "text/plain": [
       "<Figure size 432x288 with 1 Axes>"
      ]
     },
     "metadata": {
      "needs_background": "light"
     },
     "output_type": "display_data"
    }
   ],
   "source": [
    "plt.hist(paths[824,641])"
   ]
  },
  {
   "cell_type": "markdown",
   "id": "d7014566",
   "metadata": {},
   "source": [
    "specify : gird path i to j\n",
    "boxplot\n",
    "1) trim the 5% quantiles\n",
    "2) plot grid time vs reported time\n",
    "3) (include delta x and delta y)\n",
    "4) 4.44 + .3 x (check your answer later)\n",
    "5) log-log transform data? (make sure residuals are constant)\n",
    "6) "
   ]
  },
  {
   "cell_type": "code",
   "execution_count": null,
   "id": "0bbd4f63",
   "metadata": {},
   "outputs": [],
   "source": []
  }
 ],
 "metadata": {
  "kernelspec": {
   "display_name": "Python 3",
   "language": "python",
   "name": "python3"
  },
  "language_info": {
   "codemirror_mode": {
    "name": "ipython",
    "version": 3
   },
   "file_extension": ".py",
   "mimetype": "text/x-python",
   "name": "python",
   "nbconvert_exporter": "python",
   "pygments_lexer": "ipython3",
   "version": "3.8.10"
  }
 },
 "nbformat": 4,
 "nbformat_minor": 5
}

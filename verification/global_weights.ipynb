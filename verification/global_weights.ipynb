{
 "cells": [
  {
   "cell_type": "markdown",
   "metadata": {},
   "source": [
    "Summary: Find the global mean that the grid is off by\n",
    "# Resulting weight = 1.5673"
   ]
  },
  {
   "cell_type": "code",
   "execution_count": 1,
   "metadata": {},
   "outputs": [],
   "source": [
    "import csv\n",
    "import collections\n",
    "import pandas as pd\n",
    "import numpy as np\n",
    "import math\n",
    "import json\n",
    "import matplotlib.pyplot as plt\n",
    "import seaborn as sns"
   ]
  },
  {
   "cell_type": "markdown",
   "metadata": {},
   "source": [
    "## load all data"
   ]
  },
  {
   "cell_type": "code",
   "execution_count": 2,
   "metadata": {},
   "outputs": [],
   "source": [
    "# This is the grid object, which is used throughout all data preprocessing.\n",
    "# It represents the city of Austin through a series of grids.\n",
    "# It thus makes a tractable way to compute distance between grids, ect. \n",
    "class Grid():\n",
    "    def __init__(self, grid_json):\n",
    "        self.grid = grid_json\n",
    "        self.min_lat = self.grid[\"latitude_min\"]\n",
    "        self.min_lon = self.grid[\"longitude_min\"]\n",
    "        self.max_lat = self.grid[\"latitude_max\"]\n",
    "        self.max_lon = self.grid[\"longitude_max\"]\n",
    "        self.latitude_delta = self.grid[\"latitude_step\"]\n",
    "        self.longitude_delta = self.grid[\"longitude_step\"]\n",
    "        self.nrows = math.ceil((self.max_lat - self.min_lat) / self.latitude_delta)\n",
    "        self.ncols = math.ceil((self.max_lon - self.min_lon) / self.longitude_delta)\n",
    "        self.times = self.grid[\"time_matrix\"]\n",
    "        self.census_tract_region_map = self.grid[\"census_tract_region_mapping\"]\n",
    "        self.region_to_tract = collections.defaultdict(list)\n",
    "        for census_tract in self.census_tract_region_map:\n",
    "            for region in self.census_tract_region_map[census_tract]:\n",
    "                self.region_to_tract[region].append(census_tract)\n",
    "    def map_point_to_region(self, latitude, longitude):\n",
    "        return math.floor((latitude-self.min_lat)/self.latitude_delta) * self.ncols  + math.floor((longitude-self.min_lon)/self.longitude_delta)\n",
    "    def get_representative(self, region_num):\n",
    "        row_num = region_num//self.ncols\n",
    "        col_num = region_num - row_num*self.ncols\n",
    "        lat = self.min_lat + row_num * self.latitude_delta + 0.5*self.latitude_delta\n",
    "        lon = self.min_lon + col_num * self.longitude_delta + 0.5*self.longitude_delta\n",
    "        return [lon, lat]\n",
    "    def get_time(self, region1, region2):\n",
    "        try:\n",
    "            return self.times[region1][region2]\n",
    "        except IndexError:\n",
    "            return -1\n",
    "    def region_to_census_tract(self, region):\n",
    "        try:\n",
    "            return self.region_to_tract[region]\n",
    "        except KeyError:\n",
    "            return \"0_0\""
   ]
  },
  {
   "cell_type": "code",
   "execution_count": 3,
   "metadata": {},
   "outputs": [],
   "source": [
    "peakHours = (np.genfromtxt(\"..\\Output_Data/peakHours.csv\", delimiter=\",\", dtype = str))\n",
    "\n",
    "with open(\"..\\Input_Data/grid_info_multiple.json\", \"r\") as f:\n",
    "    grid_json = json.load(f)\n",
    "g = Grid(grid_json)"
   ]
  },
  {
   "cell_type": "code",
   "execution_count": 4,
   "metadata": {},
   "outputs": [
    {
     "data": {
      "text/plain": [
       "array(['', 'IncidentForeignKey', 'Radio_Name', 'Longitude_At_Assign_Time',\n",
       "       'Latitude_At_Assign_Time', 'Time_Assigned', 'Time_Enroute',\n",
       "       'Time_ArrivedAtScene', 'Time_Depart_Scene',\n",
       "       'Time_Arrive_Destination', 'Time_Available', 'Time_Call_Cleared',\n",
       "       'Call_Disposition', 'Longitude_Of_Emergency',\n",
       "       'Latitude_Of_Emergency', 'transport_time', 'grid_time'],\n",
       "      dtype='<U30')"
      ]
     },
     "execution_count": 4,
     "metadata": {},
     "output_type": "execute_result"
    }
   ],
   "source": [
    "peakHours[0]"
   ]
  },
  {
   "cell_type": "markdown",
   "metadata": {},
   "source": [
    "## compare error with no adjustment\n",
    "possibly adjust for dow, hour, number of grid tiles, specific path"
   ]
  },
  {
   "cell_type": "code",
   "execution_count": 5,
   "metadata": {},
   "outputs": [
    {
     "name": "stdout",
     "output_type": "stream",
     "text": [
      "Longitude_At_Assign_Time\n",
      "Latitude_At_Assign_Time\n",
      "Time_Assigned\n",
      "Time_Enroute\n",
      "Time_ArrivedAtScene\n",
      "Time_Depart_Scene\n",
      "Time_Arrive_Destination\n",
      "Time_Available\n",
      "Time_Call_Cleared\n",
      "Longitude_Of_Emergency\n",
      "Latitude_Of_Emergency\n",
      "transport_time\n",
      "grid_time\n"
     ]
    }
   ],
   "source": [
    "print(peakHours[0,3]) #Longitude_At_Assign_Time\n",
    "print(peakHours[0,4]) #Latitude_At_Assign_Time\n",
    "print(peakHours[0,5]) #Time_Assigned\n",
    "print(peakHours[0,6]) #Time_Enroute\n",
    "print(peakHours[0,7]) #Time_ArrivedAtScene\n",
    "print(peakHours[0,8]) #Time_Depart_Scene\n",
    "print(peakHours[0,9]) #Time_Arrive_Destination\n",
    "print(peakHours[0,10]) #Time_Available\n",
    "print(peakHours[0,11]) #Time_Call_Cleared\n",
    "print(peakHours[0,13]) #Longitude_Of_Emergency\n",
    "print(peakHours[0,14]) #Latitude_Of_Emergency\n",
    "print(peakHours[0,15]) #travel_time\n",
    "print(peakHours[0,16]) #grid_time"
   ]
  },
  {
   "cell_type": "code",
   "execution_count": 25,
   "metadata": {},
   "outputs": [],
   "source": [
    "nsamples = 1000 #len(peakHours)\n",
    "error_list = []\n",
    "error_percent = []\n",
    "grid_list = []\n",
    "report_list = []\n",
    "for i in range(1,nsamples):\n",
    "    start_pt = g.map_point_to_region(float(peakHours[i,4]),float(peakHours[i,3]))\n",
    "    end_pt = g.map_point_to_region(float(peakHours[i,14]),float(peakHours[i,13]))\n",
    "    grid_time = g.get_time(start_pt,end_pt)\n",
    "    grid_list.append(grid_time)\n",
    "    reported_time = float(peakHours[i,15])\n",
    "    report_list.append(reported_time)\n",
    "#     if(reported_time -  grid_time < 2000):\n",
    "#         print(str(start_pt) + \" \" + str(end_pt))\n",
    "    error_list.append(reported_time -  grid_time)\n",
    "    #error percent\n",
    "    if(grid_time > reported_time):\n",
    "        error_percent.append(grid_time/reported_time - 1)\n",
    "    else: #grid_time <= reported_time\n",
    "        error_percent.append(-1 * (1 - grid_time/reported_time))"
   ]
  },
  {
   "cell_type": "code",
   "execution_count": 14,
   "metadata": {},
   "outputs": [
    {
     "name": "stdout",
     "output_type": "stream",
     "text": [
      "-146.8555955955956\n"
     ]
    },
    {
     "data": {
      "text/plain": [
       "[<matplotlib.lines.Line2D at 0x19d72861550>]"
      ]
     },
     "execution_count": 14,
     "metadata": {},
     "output_type": "execute_result"
    },
    {
     "data": {
      "image/png": "[encoded data removed]",
      "text/plain": [
       "<Figure size 432x288 with 1 Axes>"
      ]
     },
     "metadata": {
      "needs_background": "light"
     },
     "output_type": "display_data"
    }
   ],
   "source": [
    "print(np.mean(error_list))\n",
    "plt.plot(error_list)"
   ]
  },
  {
   "cell_type": "code",
   "execution_count": 28,
   "metadata": {},
   "outputs": [
    {
     "name": "stdout",
     "output_type": "stream",
     "text": [
      "1.8048832749599404\n",
      "24.99134113626784\n"
     ]
    },
    {
     "data": {
      "text/plain": [
       "(-5.0, 0.0)"
      ]
     },
     "execution_count": 28,
     "metadata": {},
     "output_type": "execute_result"
    },
    {
     "data": {
      "image/png": "[encoded data removed]",
      "text/plain": [
       "<Figure size 432x288 with 1 Axes>"
      ]
     },
     "metadata": {
      "needs_background": "light"
     },
     "output_type": "display_data"
    }
   ],
   "source": [
    "print(np.mean(error_percent))\n",
    "print(np.std(error_percent))\n",
    "plt.plot(error_percent)\n",
    "plt.ylim((-5,0))\n"
   ]
  },
  {
   "cell_type": "code",
   "execution_count": 24,
   "metadata": {},
   "outputs": [
    {
     "name": "stdout",
     "output_type": "stream",
     "text": [
      "2.062205423408877\n",
      "1.8048832749599404\n",
      "24.99134113626784\n",
      "747.64\n"
     ]
    },
    {
     "data": {
      "image/png": "[encoded data removed]",
      "text/plain": [
       "<Figure size 432x288 with 1 Axes>"
      ]
     },
     "metadata": {
      "needs_background": "light"
     },
     "output_type": "display_data"
    }
   ],
   "source": [
    "#plt.hist(error_list, bins = 100, log = True)\n",
    "a = plt.hist(error_percent, bins = 100, range = (-10,10), log = True)\n",
    "print(np.mean(np.abs(error_percent)))\n",
    "print(np.mean(error_percent))\n",
    "print(np.std(error_percent))\n",
    "print(np.max(np.abs(error_percent)))"
   ]
  },
  {
   "cell_type": "markdown",
   "metadata": {
    "scrolled": true
   },
   "source": [
    "## Batches"
   ]
  },
  {
   "cell_type": "code",
   "execution_count": 43,
   "metadata": {},
   "outputs": [],
   "source": [
    "#jupyter functions assume many variables are global like g (grid object) and peakHours (np array)\n",
    "def nsample_verification(sample_start,nsamples):\n",
    "    error_list = []\n",
    "    error_percent = []\n",
    "    for i in range(sample_start,sample_start + nsamples):\n",
    "        start_pt = g.map_point_to_region(float(peakHours[i,4]),float(peakHours[i,3]))\n",
    "        end_pt = g.map_point_to_region(float(peakHours[i,14]),float(peakHours[i,13]))\n",
    "        grid_time = g.get_time(start_pt,end_pt)\n",
    "        reported_time = float(peakHours[i,15])\n",
    "    #     if(reported_time -  grid_time < 2000):\n",
    "    #         print(str(start_pt) + \" \" + str(end_pt))\n",
    "        error_list.append(reported_time -  grid_time)\n",
    "        #error percent\n",
    "        if(grid_time > reported_time):\n",
    "            error_percent.append(grid_time/reported_time - 1)\n",
    "        else: #grid_time <= reported_time\n",
    "            error_percent.append(-1 * (1 - grid_time/reported_time))\n",
    "#     print(np.mean(np.abs(error_percent)))\n",
    "#     print(np.mean(error_percent))\n",
    "#     print(np.std(error_percent))\n",
    "#     print(np.max(np.abs(error_percent)))\n",
    "    return (np.mean(np.abs(error_percent)), np.mean(error_percent),np.std(error_percent),np.max(np.abs(error_percent)))"
   ]
  },
  {
   "cell_type": "code",
   "execution_count": 31,
   "metadata": {},
   "outputs": [
    {
     "name": "stdout",
     "output_type": "stream",
     "text": [
      "2.0613610464932637\n",
      "1.8042962201927757\n",
      "24.97884923182392\n",
      "747.64\n"
     ]
    }
   ],
   "source": [
    "batch_abs_mean, batch_mean, batch_std, batch_max = nsample_verification(1,1000)"
   ]
  },
  {
   "cell_type": "code",
   "execution_count": 55,
   "metadata": {},
   "outputs": [],
   "source": [
    "sample_ind = []\n",
    "mrp_mean = []\n",
    "mrp_std = []\n",
    "for i in range(12):\n",
    "    nsamples = 1000\n",
    "    start = np.random.randint(low = 1, high = len(peakHours) - nsamples)\n",
    "    batch_abs_mean, batch_mean, batch_std, batch_max = nsample_verification(start,nsamples)\n",
    "    mrp_mean.append(batch_mean)\n",
    "    mrp_std.append(batch_std)\n",
    "    sample_ind.append(start)"
   ]
  },
  {
   "cell_type": "code",
   "execution_count": 56,
   "metadata": {},
   "outputs": [
    {
     "data": {
      "text/plain": [
       "[<matplotlib.lines.Line2D at 0x28cc452fc70>]"
      ]
     },
     "execution_count": 56,
     "metadata": {},
     "output_type": "execute_result"
    },
    {
     "data": {
      "image/png": "[encoded data removed]",
      "text/plain": [
       "<Figure size 432x288 with 1 Axes>"
      ]
     },
     "metadata": {
      "needs_background": "light"
     },
     "output_type": "display_data"
    }
   ],
   "source": [
    "plt.plot(mrp_mean)\n",
    "plt.plot(mrp_std)"
   ]
  },
  {
   "cell_type": "code",
   "execution_count": 57,
   "metadata": {},
   "outputs": [
    {
     "data": {
      "text/plain": [
       "[4996,\n",
       " 26134,\n",
       " 52800,\n",
       " 40726,\n",
       " 29699,\n",
       " 36575,\n",
       " 8354,\n",
       " 34181,\n",
       " 26250,\n",
       " 23996,\n",
       " 2100,\n",
       " 25265]"
      ]
     },
     "execution_count": 57,
     "metadata": {},
     "output_type": "execute_result"
    }
   ],
   "source": [
    "sample_ind"
   ]
  },
  {
   "cell_type": "code",
   "execution_count": 58,
   "metadata": {},
   "outputs": [],
   "source": [
    "#MRP? https://uweb.engr.arizona.edu/~guzinb/webpage_before_June_30_2008/files/bm_compstat.pdf"
   ]
  },
  {
   "cell_type": "code",
   "execution_count": null,
   "metadata": {},
   "outputs": [],
   "source": []
  }
 ],
 "metadata": {
  "kernelspec": {
   "display_name": "Python 3",
   "language": "python",
   "name": "python3"
  },
  "language_info": {
   "codemirror_mode": {
    "name": "ipython",
    "version": 3
   },
   "file_extension": ".py",
   "mimetype": "text/x-python",
   "name": "python",
   "nbconvert_exporter": "python",
   "pygments_lexer": "ipython3",
   "version": "3.8.5"
  }
 },
 "nbformat": 4,
 "nbformat_minor": 5
}

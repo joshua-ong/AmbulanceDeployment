{
 "cells": [
  {
   "cell_type": "markdown",
   "id": "2febfa8f",
   "metadata": {},
   "source": [
    "Summary: need to go from all calls to calls from 8am-8pm and monday-friday"
   ]
  },
  {
   "cell_type": "code",
   "execution_count": 1,
   "id": "2b406a4c",
   "metadata": {},
   "outputs": [],
   "source": [
    "import csv\n",
    "import collections\n",
    "import pandas as pd\n",
    "import numpy as np\n",
    "import math\n",
    "import json"
   ]
  },
  {
   "cell_type": "code",
   "execution_count": 25,
   "id": "3c1d1236",
   "metadata": {},
   "outputs": [
    {
     "name": "stdout",
     "output_type": "stream",
     "text": [
      "(210108, 17)\n",
      "(210108, 66)\n"
     ]
    }
   ],
   "source": [
    "clean = np.genfromtxt('..\\Input_Data/cleaned_data.csv', delimiter=\",\", dtype=str) #210k x 17\n",
    "a_i = np.genfromtxt('..\\Input_Data/austin_incidents.csv', delimiter=\",\", dtype=str) #210k x 17\n",
    "print(clean.shape)\n",
    "print(a_i.shape)"
   ]
  },
  {
   "cell_type": "code",
   "execution_count": 35,
   "id": "61c5141f",
   "metadata": {},
   "outputs": [
    {
     "data": {
      "text/plain": [
       "array(['arrival_seconds', 'interarrival_seconds', 'neighborhood', 'dow',\n",
       "       'stn1_min', 'stn2_min', 'stn3_min', 'stn4_min', 'stn5_min',\n",
       "       'stn6_min', 'stn7_min', 'stn8_min', 'stn9_min', 'stn10_min',\n",
       "       'stn11_min', 'stn12_min', 'stn13_min', 'stn14_min', 'stn15_min',\n",
       "       'stn16_min', 'stn17_min', 'stn18_min', 'stn19_min', 'stn20_min',\n",
       "       'stn21_min', 'stn22_min', 'stn23_min', 'stn24_min', 'stn25_min',\n",
       "       'stn26_min', 'stn27_min', 'stn28_min', 'stn29_min', 'stn30_min',\n",
       "       'stn31_min', 'stn32_min', 'stn33_min', 'stn34_min', 'stn35_min',\n",
       "       'stn36_min', 'stn37_min', 'stn38_min', 'stn39_min', 'stn40_min',\n",
       "       'stn41_min', 'stn42_min', 'stn43_min', 'stn44_min', 'hosp1_min',\n",
       "       'hosp2_min', 'hosp3_min', 'hosp4_min', 'hosp5_min', 'hosp6_min',\n",
       "       'hosp7_min', 'hosp8_min', 'hosp9_min', 'hosp10_min', 'hosp11_min',\n",
       "       'hosp12_min', 'hour', 'month', 'year', 'day', 'minute', 'second'],\n",
       "      dtype='<U20')"
      ]
     },
     "execution_count": 35,
     "metadata": {},
     "output_type": "execute_result"
    }
   ],
   "source": [
    "a_i[0]"
   ]
  },
  {
   "cell_type": "code",
   "execution_count": 26,
   "id": "f5307fa2",
   "metadata": {},
   "outputs": [
    {
     "name": "stdout",
     "output_type": "stream",
     "text": [
      "['1' '23397873' 'M09' '-97.972866' '30.333385' '2019-01-01 19:43:36.000'\n",
      " '2019-01-01 19:45:27.030' '2019-01-01 19:48:39.770'\n",
      " '2019-01-01 20:19:00.870' '2019-01-01 20:24:43.093'\n",
      " '2019-01-01 20:51:12.877' '2019-01-01 20:51:12.877'\n",
      " 'Baylor Scott & White - Lakeway' '-97.961' '30.325' '192' '222.72']\n",
      "['North Austin Hospital' 'Refusal' 'Dell Seton Med Ctr'\n",
      " 'Saint Davids Med Ctr' 'False Alarm Call' 'South Austin Hospital'\n",
      " 'Refusal' 'Call Cancelled' 'South Austin Hospital' 'Refusal' 'No Patient'\n",
      " 'Round Rock Hospital' 'Baylor Scott & White - Lakeway' 'No Patient'\n",
      " 'Refusal' 'False Alarm Call' 'No Patient' 'False Alarm Call' 'Refusal'\n",
      " 'False Alarm Call' 'South Austin Hospital' 'No Patient' 'Refusal'\n",
      " 'Refusal' 'No Patient' 'Call Cancelled' 'No Patient' 'No Patient'\n",
      " 'False Alarm Call' 'Call Cancelled' 'False Alarm Call' 'False Alarm Call'\n",
      " 'Round Rock Hospital' 'Refusal' 'No Patient' 'False Alarm Call'\n",
      " 'Call Cancelled' 'Refusal' 'Refusal' 'Refusal' 'No Patient'\n",
      " 'False Alarm Call' 'No Patient' 'No Patient' 'False Alarm Call'\n",
      " 'No Patient' 'No Patient' 'Call Cancelled' 'Refusal' 'False Alarm Call'\n",
      " 'False Alarm Call' 'Seton Med Ctr' 'False Alarm Call' 'Refusal' 'Refusal'\n",
      " 'No Patient' 'False Alarm Call' 'No Patient' 'Dell Seton Med Ctr'\n",
      " 'No Patient' 'No Patient' 'False Alarm Call' 'False Alarm Call'\n",
      " 'No Patient' 'Refusal' 'Call Cancelled' 'No Patient' 'No Patient'\n",
      " 'Refusal' 'No Patient' 'No Patient' 'North Austin Hospital' 'No Patient'\n",
      " 'South Austin Hospital' 'False Alarm Call' 'No Patient'\n",
      " 'North Austin Hospital' 'Saint Davids Med Ctr' 'Refusal' 'Refusal'\n",
      " 'Refusal' 'Refusal' 'Refusal' 'Refusal' 'False Alarm Call' 'Other'\n",
      " 'False Alarm Call' 'Refusal' 'South Austin Hospital' 'False Alarm Call'\n",
      " 'Round Rock Hospital' 'No Patient' 'No Patient'\n",
      " 'Referred MCOT (CHP Use Only)' 'Other' 'Refusal' 'No Patient'\n",
      " 'No Patient' 'Call Cancelled' 'Refusal']\n"
     ]
    }
   ],
   "source": [
    "clean[0]\n",
    "print(clean[1])\n",
    "print(clean[3000:3100,-5])"
   ]
  },
  {
   "cell_type": "code",
   "execution_count": 27,
   "id": "4f41dbee",
   "metadata": {},
   "outputs": [],
   "source": [
    "import math\n",
    "from datetime import *; from dateutil.relativedelta import *\n",
    "import calendar\n",
    "def csv2calendar(index,type_event):\n",
    "    time1 = clean[index,type_event-1]  #note backend and clean data sets are off by one index\n",
    "    #time1 = backend[index,type_event]\n",
    "    if time1 == \"\":\n",
    "        return -1\n",
    "    [ymd,hmm] = time1.split()\n",
    "    [y,m,d] = ymd.split('-')\n",
    "    [h,minu,sec] = hmm.split(\":\")\n",
    "    y = int(y)\n",
    "    m = int(m)\n",
    "    d = int(d)\n",
    "    h = int(h)\n",
    "    minu = int(minu)\n",
    "    sec = math.floor(float(sec))\n",
    "    timearrive = datetime(y, m, d, h, minu, sec)\n",
    "    return timearrive"
   ]
  },
  {
   "cell_type": "code",
   "execution_count": 37,
   "id": "eee64808",
   "metadata": {},
   "outputs": [
    {
     "data": {
      "text/plain": [
       "'grid_time'"
      ]
     },
     "execution_count": 37,
     "metadata": {},
     "output_type": "execute_result"
    }
   ],
   "source": [
    "clean[0,-1]"
   ]
  },
  {
   "cell_type": "code",
   "execution_count": 48,
   "id": "2316ca80",
   "metadata": {},
   "outputs": [
    {
     "name": "stderr",
     "output_type": "stream",
     "text": [
      "D:\\anaconda\\lib\\site-packages\\ipykernel_launcher.py:33: RuntimeWarning: divide by zero encountered in log\n"
     ]
    }
   ],
   "source": [
    "nsamples = len(clean)\n",
    "peak_hours = []\n",
    "peak_hours.append(clean[0]) #headers\n",
    "\n",
    "for i in range(1,nsamples):\n",
    "    Time_Enroute = csv2calendar(i,7)\n",
    "    #print(Time_Enroute)\n",
    "    #peak hour\n",
    "    if not ((Time_Enroute.hour < 21) and (Time_Enroute.hour > 7)):\n",
    "        continue\n",
    "        print(Time_Enroute.hour)\n",
    "    #dow\n",
    "    if not(Time_Enroute.weekday() < 5):\n",
    "        continue\n",
    "        print(Time_Enroute.weekday())\n",
    "    #was it a call that was answered?\n",
    "    #'No Patient' = 103k - 96835 = 7k\n",
    "    #'Refusal' = 96835 - 76986 = 19849 (sheesh)\n",
    "    #'Call Cancelled' 74197 = ~2k\n",
    "    #'False Alarm Call' 74197 - 73851 = ~1k\n",
    "    #'Dual w/ other ATCEMS Unit' 73851 - 66979 = 6872\n",
    "    #'Referred MCOT (CHP Use Only)' 66830 = ~0\n",
    "    #other 8k\n",
    "#     if (clean[i,-5] == 'No Patient') or (clean[i,-5] == 'Refusal') or (clean[i,-5] == 'Call Cancelled') or (clean[i,-5] == 'False Alarm Call') or (clean[i,-5] == 'Dual w/ other ATCEMS Unit') or (clean[i,-5] == 'Referred MCOT (CHP Use Only)') or  (clean[i,-5] == 'Other'):\n",
    "#         continue\n",
    "    peak_hours.append(clean[i])\n",
    "    \n",
    "slope= 0.4011478655815724 #test calls\n",
    "intercept= 1.0469242277715907 #test calls\n",
    "for i in range(1,len(peak_hours)):\n",
    "    grid_time = float(peak_hours[i][-1])\n",
    "    grid_time = grid_time / 60 #to minutes\n",
    "    ax = np.log(grid_time)*slope\n",
    "    new_time = np.exp(ax + intercept)\n",
    "    new_time = new_time * 60 #to seconds\n",
    "    peak_hours[i][-1] = new_time"
   ]
  },
  {
   "cell_type": "code",
   "execution_count": 56,
   "id": "b5c3ac74",
   "metadata": {},
   "outputs": [
    {
     "data": {
      "text/plain": [
       "(103955, 17)"
      ]
     },
     "execution_count": 56,
     "metadata": {},
     "output_type": "execute_result"
    }
   ],
   "source": [
    "x = np.array(peak_hours)\n",
    "x.shape"
   ]
  },
  {
   "cell_type": "code",
   "execution_count": 65,
   "id": "c5fb2708",
   "metadata": {},
   "outputs": [],
   "source": [
    "np.savetxt('..\\Output_Data/peakhours.csv', x, delimiter=',', fmt='%s') "
   ]
  },
  {
   "cell_type": "code",
   "execution_count": 42,
   "id": "6c75de55",
   "metadata": {},
   "outputs": [
    {
     "data": {
      "text/plain": [
       "(60960, 17)"
      ]
     },
     "execution_count": 42,
     "metadata": {},
     "output_type": "execute_result"
    }
   ],
   "source": [
    "y = (np.genfromtxt(\"..\\Output_Data/peakHours.csv\", delimiter=\",\", dtype = str))\n",
    "y.shape"
   ]
  },
  {
   "cell_type": "code",
   "execution_count": 44,
   "id": "588510d1",
   "metadata": {},
   "outputs": [
    {
     "data": {
      "text/plain": [
       "array(['Baylor Scott & White - Lakeway', 'Saint Davids Med Ctr',\n",
       "       'Saint Davids Med Ctr', 'Saint Davids Med Ctr',\n",
       "       'Saint Davids Med Ctr', 'North Austin Hospital', 'Seton Northwest',\n",
       "       'North Austin Hospital', 'South Austin Hospital',\n",
       "       'Saint Davids Med Ctr', 'Round Rock Hospital', 'Seton Northwest',\n",
       "       'Patient Contact', 'South Austin Hospital',\n",
       "       'North Austin Hospital', 'North Austin Hospital',\n",
       "       'Saint Davids Med Ctr', 'South Austin Hospital',\n",
       "       'South Austin Hospital', 'South Austin Hospital',\n",
       "       'North Austin Hospital', 'South Austin Hospital', 'Seton Med Ctr',\n",
       "       'North Austin Hospital', 'Round Rock Hospital',\n",
       "       'Saint Davids Med Ctr', 'North Austin Hospital',\n",
       "       'South Austin Hospital', 'Round Rock Hospital', 'Seton Northwest',\n",
       "       'Deceased on Scene', 'North Austin Hospital', 'Seton Med Ctr',\n",
       "       'North Austin Hospital', 'Dell Seton Med Ctr', 'Heart Hospital',\n",
       "       'North Austin Hospital', 'North Austin Hospital',\n",
       "       'North Austin Hospital', 'South Austin Hospital',\n",
       "       'North Austin Hospital', 'South Austin Hospital',\n",
       "       'South Austin Hospital', 'Dell Seton Med Ctr',\n",
       "       'South Austin Hospital', 'Referred Law Enforcement',\n",
       "       'South Austin Hospital', 'Round Rock Hospital',\n",
       "       'Saint Davids Med Ctr', 'Seton Northwest', 'Seton Med Ctr',\n",
       "       'South Austin Hospital', 'South Austin Hospital',\n",
       "       'Baylor Scott & White - Lakeway', 'North Austin Hospital',\n",
       "       'Referred Law Enforcement', 'Seton Northwest',\n",
       "       'Baylor Scott & White - Pfluger', 'Seton Med Ctr',\n",
       "       'Saint Davids Med Ctr', 'South Austin Hospital',\n",
       "       'Referred First Responder Org', 'Saint Davids Med Ctr',\n",
       "       'Saint Davids Med Ctr', 'Seton Med Ctr', 'North Austin Hospital',\n",
       "       'South Austin Hospital', 'North Austin Hospital',\n",
       "       'Westlake Hospital', 'South Austin Hospital',\n",
       "       'North Austin Hospital', 'Referred First Responder Org',\n",
       "       'South Austin Hospital', 'Saint Davids Med Ctr',\n",
       "       'South Austin Hospital', 'Seton Northwest', 'Dell Seton Med Ctr',\n",
       "       'Saint Davids Med Ctr', 'Saint Davids Med Ctr',\n",
       "       'Saint Davids Med Ctr', 'Round Rock Hospital',\n",
       "       'Saint Davids Med Ctr', 'Dell Seton Med Ctr', 'Dell Seton Med Ctr',\n",
       "       'Dell Seton Med Ctr', 'Dell Seton Med Ctr', 'Dell Seton Med Ctr',\n",
       "       'Saint Davids Med Ctr', 'Baylor Scott & White - Lakeway',\n",
       "       'South Austin Hospital', 'South Austin Hospital',\n",
       "       'Saint Davids Med Ctr', 'North Austin Hospital',\n",
       "       'Round Rock Hospital', 'South Austin Hospital',\n",
       "       'Round Rock Hospital', 'Seton Med Ctr', 'Seton Hays County',\n",
       "       'South Austin Hospital', 'Referred First Responder Org',\n",
       "       'Saint Davids Med Ctr', 'Seton Med Ctr', 'Seton Med Ctr',\n",
       "       'Referred First Responder Org', 'Seton Med Ctr', 'Seton Med Ctr',\n",
       "       'North Austin Hospital', 'Heart Hospital', 'Saint Davids Med Ctr',\n",
       "       'Saint Davids Med Ctr', 'South Austin Hospital',\n",
       "       'North Austin Hospital', 'Saint Davids Med Ctr',\n",
       "       'South Austin Hospital', 'South Austin Hospital',\n",
       "       'Dell Seton Med Ctr', 'Patient Contact', 'Heart Hospital',\n",
       "       'Seton Med Ctr', 'Seton Med Ctr', 'Seton Med Ctr',\n",
       "       'South Austin Hospital', 'South Austin Hospital',\n",
       "       'Baylor Scott & White - Lakeway', 'North Austin Hospital',\n",
       "       'Baylor Scott & White - Lakeway', 'South Austin Hospital',\n",
       "       'Dell Seton Med Ctr', 'Seton Med Ctr', 'South Austin Hospital',\n",
       "       'Seton Med Ctr', 'Saint Davids Med Ctr', 'North Austin Hospital',\n",
       "       'North Austin Hospital', 'Saint Davids Med Ctr',\n",
       "       'Seton Williamson County', 'South Austin Hospital',\n",
       "       'Referred First Responder Org', 'South Austin Hospital',\n",
       "       'Heart Hospital', 'Referred First Responder Org',\n",
       "       'Dell Seton Med Ctr', 'Referred First Responder Org',\n",
       "       'Round Rock Hospital', 'Referred First Responder Org',\n",
       "       'Dell Seton Med Ctr', 'North Austin Hospital',\n",
       "       'South Austin Hospital', 'Dell Childrens Med Ctr',\n",
       "       'Dell Childrens Med Ctr', 'Seton Med Ctr', 'Dell Seton Med Ctr',\n",
       "       'South Austin Hospital', 'South Austin Hospital',\n",
       "       'Dell Seton Med Ctr', 'Saint Davids Med Ctr',\n",
       "       'South Austin Hospital', 'North Austin Hospital',\n",
       "       'North Austin Hospital', 'Dell Seton Med Ctr',\n",
       "       'Saint Davids Med Ctr', 'Saint Davids Med Ctr', 'Referred',\n",
       "       'CHP Intervention(CHP use only)', 'CHP Intervention(CHP use only)',\n",
       "       'Saint Davids Med Ctr', 'Referred Law Enforcement',\n",
       "       'North Austin Hospital', 'South Austin Hospital',\n",
       "       'Round Rock Hospital', 'Saint Davids Med Ctr',\n",
       "       'Saint Davids Med Ctr', 'Dell Seton Med Ctr',\n",
       "       'Saint Davids Med Ctr', 'Dell Seton Med Ctr',\n",
       "       'North Austin Hospital', 'Seton Med Ctr', 'Dell Childrens Med Ctr',\n",
       "       'Westlake Hospital', 'South Austin Hospital',\n",
       "       'South Austin Hospital', 'North Austin Hospital',\n",
       "       'Dell Seton Med Ctr', 'Saint Davids Med Ctr',\n",
       "       'Cedar Park Regional Med Ctr', 'Baylor Scott & White - Lakeway',\n",
       "       'Round Rock Hospital', 'South Austin Hospital',\n",
       "       'Dell Seton Med Ctr', 'Dell Seton Med Ctr', 'Dell Seton Med Ctr',\n",
       "       'North Austin Pedi ER', 'Baylor Scott & White - Lakeway',\n",
       "       'South Austin Hospital', 'Baylor Scott & White - Lakeway',\n",
       "       'Seton Northwest', 'Seton Hays County', 'South Austin Hospital',\n",
       "       'Seton Med Ctr'], dtype='<U30')"
      ]
     },
     "execution_count": 44,
     "metadata": {},
     "output_type": "execute_result"
    }
   ],
   "source": [
    "y[1:200,-5]"
   ]
  },
  {
   "cell_type": "code",
   "execution_count": null,
   "id": "81aeae4f",
   "metadata": {},
   "outputs": [],
   "source": []
  }
 ],
 "metadata": {
  "kernelspec": {
   "display_name": "Python 3",
   "language": "python",
   "name": "python3"
  },
  "language_info": {
   "codemirror_mode": {
    "name": "ipython",
    "version": 3
   },
   "file_extension": ".py",
   "mimetype": "text/x-python",
   "name": "python",
   "nbconvert_exporter": "python",
   "pygments_lexer": "ipython3",
   "version": "3.7.3"
  }
 },
 "nbformat": 4,
 "nbformat_minor": 5
}

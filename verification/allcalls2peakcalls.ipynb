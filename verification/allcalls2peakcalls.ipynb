{
 "cells": [
  {
   "cell_type": "markdown",
   "metadata": {},
   "source": [
    "Summary: need to go from all calls to calls from 8am-8pm and monday-friday"
   ]
  },
  {
   "cell_type": "code",
   "execution_count": 1,
   "metadata": {},
   "outputs": [],
   "source": [
    "import csv\n",
    "import collections\n",
    "import pandas as pd\n",
    "import numpy as np\n",
    "import math\n",
    "import json"
   ]
  },
  {
   "cell_type": "code",
   "execution_count": 2,
   "metadata": {},
   "outputs": [],
   "source": [
    "clean = np.genfromtxt('..\\Input_Data/cleaned_data.csv', delimiter=\",\", dtype=str) #210k x 17\n",
    "a_i = np.genfromtxt('..\\Input_Data/austin_incidents.csv', delimiter=\",\", dtype=str) #210k x 17"
   ]
  },
  {
   "cell_type": "code",
   "execution_count": 3,
   "metadata": {},
   "outputs": [
    {
     "data": {
      "text/plain": [
       "array(['', 'IncidentForeignKey', 'Radio_Name', 'Longitude_At_Assign_Time',\n",
       "       'Latitude_At_Assign_Time', 'Time_Assigned', 'Time_Enroute',\n",
       "       'Time_ArrivedAtScene', 'Time_Depart_Scene',\n",
       "       'Time_Arrive_Destination', 'Time_Available', 'Time_Call_Cleared',\n",
       "       'Call_Disposition', 'Longitude_Of_Emergency',\n",
       "       'Latitude_Of_Emergency', 'transport_time', 'grid_time'],\n",
       "      dtype='<U30')"
      ]
     },
     "execution_count": 3,
     "metadata": {},
     "output_type": "execute_result"
    }
   ],
   "source": [
    "clean[0]"
   ]
  },
  {
   "cell_type": "code",
   "execution_count": 6,
   "metadata": {},
   "outputs": [
    {
     "data": {
      "text/plain": [
       "array(['1', '23397873', 'M09', '-97.972866', '30.333385',\n",
       "       '2019-01-01 19:43:36.000', '2019-01-01 19:45:27.030',\n",
       "       '2019-01-01 19:48:39.770', '2019-01-01 20:19:00.870',\n",
       "       '2019-01-01 20:24:43.093', '2019-01-01 20:51:12.877',\n",
       "       '2019-01-01 20:51:12.877', 'Baylor Scott & White - Lakeway',\n",
       "       '-97.961', '30.325', '192', '222.72'], dtype='<U30')"
      ]
     },
     "execution_count": 6,
     "metadata": {},
     "output_type": "execute_result"
    }
   ],
   "source": [
    "clean[1]"
   ]
  },
  {
   "cell_type": "code",
   "execution_count": 30,
   "metadata": {},
   "outputs": [
    {
     "data": {
      "text/plain": [
       "array(['North Austin Hospital', 'Refusal', 'Dell Seton Med Ctr',\n",
       "       'Saint Davids Med Ctr', 'False Alarm Call',\n",
       "       'South Austin Hospital', 'Refusal', 'Call Cancelled',\n",
       "       'South Austin Hospital', 'Refusal', 'No Patient',\n",
       "       'Round Rock Hospital', 'Baylor Scott & White - Lakeway',\n",
       "       'No Patient', 'Refusal', 'False Alarm Call', 'No Patient',\n",
       "       'False Alarm Call', 'Refusal', 'False Alarm Call',\n",
       "       'South Austin Hospital', 'No Patient', 'Refusal', 'Refusal',\n",
       "       'No Patient', 'Call Cancelled', 'No Patient', 'No Patient',\n",
       "       'False Alarm Call', 'Call Cancelled', 'False Alarm Call',\n",
       "       'False Alarm Call', 'Round Rock Hospital', 'Refusal', 'No Patient',\n",
       "       'False Alarm Call', 'Call Cancelled', 'Refusal', 'Refusal',\n",
       "       'Refusal', 'No Patient', 'False Alarm Call', 'No Patient',\n",
       "       'No Patient', 'False Alarm Call', 'No Patient', 'No Patient',\n",
       "       'Call Cancelled', 'Refusal', 'False Alarm Call',\n",
       "       'False Alarm Call', 'Seton Med Ctr', 'False Alarm Call', 'Refusal',\n",
       "       'Refusal', 'No Patient', 'False Alarm Call', 'No Patient',\n",
       "       'Dell Seton Med Ctr', 'No Patient', 'No Patient',\n",
       "       'False Alarm Call', 'False Alarm Call', 'No Patient', 'Refusal',\n",
       "       'Call Cancelled', 'No Patient', 'No Patient', 'Refusal',\n",
       "       'No Patient', 'No Patient', 'North Austin Hospital', 'No Patient',\n",
       "       'South Austin Hospital', 'False Alarm Call', 'No Patient',\n",
       "       'North Austin Hospital', 'Saint Davids Med Ctr', 'Refusal',\n",
       "       'Refusal', 'Refusal', 'Refusal', 'Refusal', 'Refusal',\n",
       "       'False Alarm Call', 'Other', 'False Alarm Call', 'Refusal',\n",
       "       'South Austin Hospital', 'False Alarm Call', 'Round Rock Hospital',\n",
       "       'No Patient', 'No Patient', 'Referred MCOT (CHP Use Only)',\n",
       "       'Other', 'Refusal', 'No Patient', 'No Patient', 'Call Cancelled',\n",
       "       'Refusal'], dtype='<U30')"
      ]
     },
     "execution_count": 30,
     "metadata": {},
     "output_type": "execute_result"
    }
   ],
   "source": [
    "clean[3000:3100,-5]"
   ]
  },
  {
   "cell_type": "code",
   "execution_count": 29,
   "metadata": {},
   "outputs": [
    {
     "ename": "TypeError",
     "evalue": "list indices must be integers or slices, not tuple",
     "output_type": "error",
     "traceback": [
      "\u001b[1;31m---------------------------------------------------------------------------\u001b[0m",
      "\u001b[1;31mTypeError\u001b[0m                                 Traceback (most recent call last)",
      "\u001b[1;32m<ipython-input-29-3b230941e974>\u001b[0m in \u001b[0;36m<module>\u001b[1;34m\u001b[0m\n\u001b[1;32m----> 1\u001b[1;33m \u001b[0mpeak_hours\u001b[0m\u001b[1;33m[\u001b[0m\u001b[1;36m1\u001b[0m\u001b[1;33m:\u001b[0m\u001b[1;36m100\u001b[0m\u001b[1;33m,\u001b[0m\u001b[1;33m-\u001b[0m\u001b[1;36m5\u001b[0m\u001b[1;33m]\u001b[0m\u001b[1;33m\u001b[0m\u001b[1;33m\u001b[0m\u001b[0m\n\u001b[0m",
      "\u001b[1;31mTypeError\u001b[0m: list indices must be integers or slices, not tuple"
     ]
    }
   ],
   "source": []
  },
  {
   "cell_type": "code",
   "execution_count": 4,
   "metadata": {},
   "outputs": [],
   "source": [
    "import math\n",
    "from datetime import *; from dateutil.relativedelta import *\n",
    "import calendar\n",
    "def csv2calendar(index,type_event):\n",
    "    time1 = clean[index,type_event-1]  #note backend and clean data sets are off by one index\n",
    "    #time1 = backend[index,type_event]\n",
    "    if time1 == \"\":\n",
    "        return -1\n",
    "    [ymd,hmm] = time1.split()\n",
    "    [y,m,d] = ymd.split('-')\n",
    "    [h,minu,sec] = hmm.split(\":\")\n",
    "    y = int(y)\n",
    "    m = int(m)\n",
    "    d = int(d)\n",
    "    h = int(h)\n",
    "    minu = int(minu)\n",
    "    sec = math.floor(float(sec))\n",
    "    timearrive = datetime(y, m, d, h, minu, sec)\n",
    "    return timearrive"
   ]
  },
  {
   "cell_type": "code",
   "execution_count": 5,
   "metadata": {},
   "outputs": [
    {
     "data": {
      "text/plain": [
       "210108"
      ]
     },
     "execution_count": 5,
     "metadata": {},
     "output_type": "execute_result"
    }
   ],
   "source": [
    "len(clean)"
   ]
  },
  {
   "cell_type": "code",
   "execution_count": 35,
   "metadata": {},
   "outputs": [],
   "source": [
    "nsamples = len(clean)\n",
    "peak_hours = []\n",
    "peak_hours.append(clean[0]) #headers\n",
    "\n",
    "for i in range(1,nsamples):\n",
    "    Time_Enroute = csv2calendar(i,7)\n",
    "    #print(Time_Enroute)\n",
    "    #peak hour\n",
    "    if not ((Time_Enroute.hour < 21) and (Time_Enroute.hour > 7)):\n",
    "        continue\n",
    "        print(Time_Enroute.hour)\n",
    "    #dow\n",
    "    if not(Time_Enroute.weekday() < 5):\n",
    "        continue\n",
    "        print(Time_Enroute.weekday())\n",
    "    #was it a call that was answered?\n",
    "    #'No Patient' = 103k - 96835 = 7k\n",
    "    #'Refusal' = 96835 - 76986 = 19849 (sheesh)\n",
    "    #'Call Cancelled' 74197 = ~2k\n",
    "    #'False Alarm Call' 74197 - 73851 = ~1k\n",
    "    #'Dual w/ other ATCEMS Unit' 73851 - 66979 = 6872\n",
    "    #'Referred MCOT (CHP Use Only)' 66830 = ~0\n",
    "    #other 8k\n",
    "    if (clean[i,-5] == 'No Patient') or (clean[i,-5] == 'Refusal') or (clean[i,-5] == 'Call Cancelled') or (clean[i,-5] == 'False Alarm Call') or (clean[i,-5] == 'Dual w/ other ATCEMS Unit') or (clean[i,-5] == 'Referred MCOT (CHP Use Only)') or  (clean[i,-5] == 'Other'):\n",
    "        continue\n",
    "    \n",
    "    peak_hours.append(clean[i])"
   ]
  },
  {
   "cell_type": "code",
   "execution_count": 37,
   "metadata": {},
   "outputs": [
    {
     "data": {
      "text/plain": [
       "(60960, 17)"
      ]
     },
     "execution_count": 37,
     "metadata": {},
     "output_type": "execute_result"
    }
   ],
   "source": [
    "x = np.array(peak_hours)\n",
    "x.shape"
   ]
  },
  {
   "cell_type": "code",
   "execution_count": 38,
   "metadata": {},
   "outputs": [
    {
     "data": {
      "text/plain": [
       "6872"
      ]
     },
     "execution_count": 38,
     "metadata": {},
     "output_type": "execute_result"
    }
   ],
   "source": [
    "73851 - 66979"
   ]
  },
  {
   "cell_type": "code",
   "execution_count": 41,
   "metadata": {},
   "outputs": [],
   "source": [
    "np.savetxt('..\\Output_Data/peakhours.csv', x, delimiter=',', fmt='%s') "
   ]
  },
  {
   "cell_type": "code",
   "execution_count": 42,
   "metadata": {},
   "outputs": [
    {
     "data": {
      "text/plain": [
       "(60960, 17)"
      ]
     },
     "execution_count": 42,
     "metadata": {},
     "output_type": "execute_result"
    }
   ],
   "source": [
    "y = (np.genfromtxt(\"..\\Output_Data/peakHours.csv\", delimiter=\",\", dtype = str))\n",
    "y.shape"
   ]
  },
  {
   "cell_type": "code",
   "execution_count": 44,
   "metadata": {},
   "outputs": [
    {
     "data": {
      "text/plain": [
       "array(['Baylor Scott & White - Lakeway', 'Saint Davids Med Ctr',\n",
       "       'Saint Davids Med Ctr', 'Saint Davids Med Ctr',\n",
       "       'Saint Davids Med Ctr', 'North Austin Hospital', 'Seton Northwest',\n",
       "       'North Austin Hospital', 'South Austin Hospital',\n",
       "       'Saint Davids Med Ctr', 'Round Rock Hospital', 'Seton Northwest',\n",
       "       'Patient Contact', 'South Austin Hospital',\n",
       "       'North Austin Hospital', 'North Austin Hospital',\n",
       "       'Saint Davids Med Ctr', 'South Austin Hospital',\n",
       "       'South Austin Hospital', 'South Austin Hospital',\n",
       "       'North Austin Hospital', 'South Austin Hospital', 'Seton Med Ctr',\n",
       "       'North Austin Hospital', 'Round Rock Hospital',\n",
       "       'Saint Davids Med Ctr', 'North Austin Hospital',\n",
       "       'South Austin Hospital', 'Round Rock Hospital', 'Seton Northwest',\n",
       "       'Deceased on Scene', 'North Austin Hospital', 'Seton Med Ctr',\n",
       "       'North Austin Hospital', 'Dell Seton Med Ctr', 'Heart Hospital',\n",
       "       'North Austin Hospital', 'North Austin Hospital',\n",
       "       'North Austin Hospital', 'South Austin Hospital',\n",
       "       'North Austin Hospital', 'South Austin Hospital',\n",
       "       'South Austin Hospital', 'Dell Seton Med Ctr',\n",
       "       'South Austin Hospital', 'Referred Law Enforcement',\n",
       "       'South Austin Hospital', 'Round Rock Hospital',\n",
       "       'Saint Davids Med Ctr', 'Seton Northwest', 'Seton Med Ctr',\n",
       "       'South Austin Hospital', 'South Austin Hospital',\n",
       "       'Baylor Scott & White - Lakeway', 'North Austin Hospital',\n",
       "       'Referred Law Enforcement', 'Seton Northwest',\n",
       "       'Baylor Scott & White - Pfluger', 'Seton Med Ctr',\n",
       "       'Saint Davids Med Ctr', 'South Austin Hospital',\n",
       "       'Referred First Responder Org', 'Saint Davids Med Ctr',\n",
       "       'Saint Davids Med Ctr', 'Seton Med Ctr', 'North Austin Hospital',\n",
       "       'South Austin Hospital', 'North Austin Hospital',\n",
       "       'Westlake Hospital', 'South Austin Hospital',\n",
       "       'North Austin Hospital', 'Referred First Responder Org',\n",
       "       'South Austin Hospital', 'Saint Davids Med Ctr',\n",
       "       'South Austin Hospital', 'Seton Northwest', 'Dell Seton Med Ctr',\n",
       "       'Saint Davids Med Ctr', 'Saint Davids Med Ctr',\n",
       "       'Saint Davids Med Ctr', 'Round Rock Hospital',\n",
       "       'Saint Davids Med Ctr', 'Dell Seton Med Ctr', 'Dell Seton Med Ctr',\n",
       "       'Dell Seton Med Ctr', 'Dell Seton Med Ctr', 'Dell Seton Med Ctr',\n",
       "       'Saint Davids Med Ctr', 'Baylor Scott & White - Lakeway',\n",
       "       'South Austin Hospital', 'South Austin Hospital',\n",
       "       'Saint Davids Med Ctr', 'North Austin Hospital',\n",
       "       'Round Rock Hospital', 'South Austin Hospital',\n",
       "       'Round Rock Hospital', 'Seton Med Ctr', 'Seton Hays County',\n",
       "       'South Austin Hospital', 'Referred First Responder Org',\n",
       "       'Saint Davids Med Ctr', 'Seton Med Ctr', 'Seton Med Ctr',\n",
       "       'Referred First Responder Org', 'Seton Med Ctr', 'Seton Med Ctr',\n",
       "       'North Austin Hospital', 'Heart Hospital', 'Saint Davids Med Ctr',\n",
       "       'Saint Davids Med Ctr', 'South Austin Hospital',\n",
       "       'North Austin Hospital', 'Saint Davids Med Ctr',\n",
       "       'South Austin Hospital', 'South Austin Hospital',\n",
       "       'Dell Seton Med Ctr', 'Patient Contact', 'Heart Hospital',\n",
       "       'Seton Med Ctr', 'Seton Med Ctr', 'Seton Med Ctr',\n",
       "       'South Austin Hospital', 'South Austin Hospital',\n",
       "       'Baylor Scott & White - Lakeway', 'North Austin Hospital',\n",
       "       'Baylor Scott & White - Lakeway', 'South Austin Hospital',\n",
       "       'Dell Seton Med Ctr', 'Seton Med Ctr', 'South Austin Hospital',\n",
       "       'Seton Med Ctr', 'Saint Davids Med Ctr', 'North Austin Hospital',\n",
       "       'North Austin Hospital', 'Saint Davids Med Ctr',\n",
       "       'Seton Williamson County', 'South Austin Hospital',\n",
       "       'Referred First Responder Org', 'South Austin Hospital',\n",
       "       'Heart Hospital', 'Referred First Responder Org',\n",
       "       'Dell Seton Med Ctr', 'Referred First Responder Org',\n",
       "       'Round Rock Hospital', 'Referred First Responder Org',\n",
       "       'Dell Seton Med Ctr', 'North Austin Hospital',\n",
       "       'South Austin Hospital', 'Dell Childrens Med Ctr',\n",
       "       'Dell Childrens Med Ctr', 'Seton Med Ctr', 'Dell Seton Med Ctr',\n",
       "       'South Austin Hospital', 'South Austin Hospital',\n",
       "       'Dell Seton Med Ctr', 'Saint Davids Med Ctr',\n",
       "       'South Austin Hospital', 'North Austin Hospital',\n",
       "       'North Austin Hospital', 'Dell Seton Med Ctr',\n",
       "       'Saint Davids Med Ctr', 'Saint Davids Med Ctr', 'Referred',\n",
       "       'CHP Intervention(CHP use only)', 'CHP Intervention(CHP use only)',\n",
       "       'Saint Davids Med Ctr', 'Referred Law Enforcement',\n",
       "       'North Austin Hospital', 'South Austin Hospital',\n",
       "       'Round Rock Hospital', 'Saint Davids Med Ctr',\n",
       "       'Saint Davids Med Ctr', 'Dell Seton Med Ctr',\n",
       "       'Saint Davids Med Ctr', 'Dell Seton Med Ctr',\n",
       "       'North Austin Hospital', 'Seton Med Ctr', 'Dell Childrens Med Ctr',\n",
       "       'Westlake Hospital', 'South Austin Hospital',\n",
       "       'South Austin Hospital', 'North Austin Hospital',\n",
       "       'Dell Seton Med Ctr', 'Saint Davids Med Ctr',\n",
       "       'Cedar Park Regional Med Ctr', 'Baylor Scott & White - Lakeway',\n",
       "       'Round Rock Hospital', 'South Austin Hospital',\n",
       "       'Dell Seton Med Ctr', 'Dell Seton Med Ctr', 'Dell Seton Med Ctr',\n",
       "       'North Austin Pedi ER', 'Baylor Scott & White - Lakeway',\n",
       "       'South Austin Hospital', 'Baylor Scott & White - Lakeway',\n",
       "       'Seton Northwest', 'Seton Hays County', 'South Austin Hospital',\n",
       "       'Seton Med Ctr'], dtype='<U30')"
      ]
     },
     "execution_count": 44,
     "metadata": {},
     "output_type": "execute_result"
    }
   ],
   "source": [
    "y[1:200,-5]"
   ]
  },
  {
   "cell_type": "code",
   "execution_count": null,
   "metadata": {},
   "outputs": [],
   "source": []
  }
 ],
 "metadata": {
  "kernelspec": {
   "display_name": "Python 3",
   "language": "python",
   "name": "python3"
  },
  "language_info": {
   "codemirror_mode": {
    "name": "ipython",
    "version": 3
   },
   "file_extension": ".py",
   "mimetype": "text/x-python",
   "name": "python",
   "nbconvert_exporter": "python",
   "pygments_lexer": "ipython3",
   "version": "3.8.5"
  }
 },
 "nbformat": 4,
 "nbformat_minor": 5
}

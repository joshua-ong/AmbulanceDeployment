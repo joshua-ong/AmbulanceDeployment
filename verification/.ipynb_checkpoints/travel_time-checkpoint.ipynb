{
 "cells": [
  {
   "cell_type": "markdown",
   "id": "b39fb1c1",
   "metadata": {},
   "source": [
    "Author: Joshua <br />\n",
    "Summary: Find travel time errors for not only the response time, but the serve time, hospital drive time and return time."
   ]
  },
  {
   "cell_type": "code",
   "execution_count": 1,
   "id": "832f5475",
   "metadata": {},
   "outputs": [],
   "source": [
    "import csv\n",
    "import collections\n",
    "import pandas as pd\n",
    "import numpy as np\n",
    "import math\n",
    "import json\n",
    "import matplotlib.pyplot as plt\n",
    "import seaborn as sns"
   ]
  },
  {
   "cell_type": "markdown",
   "id": "34ce1195",
   "metadata": {},
   "source": [
    "## load the data"
   ]
  },
  {
   "cell_type": "code",
   "execution_count": 2,
   "id": "b8762046",
   "metadata": {},
   "outputs": [],
   "source": [
    "hosp = np.genfromtxt('../Input_Data/calls_w_StnHospTimes.csv', delimiter=\",\", dtype=str)\n",
    "#f_wkc = np.genfromtxt('Input_Data/Full_WeekdayCalls.csv', delimiter=\",\", dtype=str)\n",
    "#wkc = np.genfromtxt('Input_Data/WeekdayCalls.csv', delimiter=\",\", dtype=str)\n",
    "a_i = np.genfromtxt('../Input_Data/austin_incidents.csv', delimiter=\",\", dtype=str)\n",
    "#a_test_call = np.genfromtxt('Input_Data/austin_test_calls.csv', delimiter=\",\", dtype=str)\n",
    "clean = np.genfromtxt('../Input_Data/cleaned_data.csv', delimiter=\",\", dtype=str) #210k x 17\n",
    "backend = np.genfromtxt('../Input_Data/backend_calls.csv', delimiter=\",\", dtype=str) #30k\n",
    "peakHours = np.genfromtxt('../Output_Data/peakhours.csv', delimiter=\",\", dtype=str)"
   ]
  },
  {
   "cell_type": "code",
   "execution_count": 3,
   "id": "99649789",
   "metadata": {},
   "outputs": [],
   "source": [
    "peakHours = np.genfromtxt('../Output_Data/peakhours.csv', delimiter=\",\", dtype=str)"
   ]
  },
  {
   "cell_type": "code",
   "execution_count": 10,
   "id": "dd60fa00",
   "metadata": {},
   "outputs": [
    {
     "name": "stdout",
     "output_type": "stream",
     "text": [
      "['' 'IncidentForeignKey' 'Radio_Name' 'Longitude_At_Assign_Time'\n",
      " 'Latitude_At_Assign_Time' 'Time_Assigned' 'Time_Enroute'\n",
      " 'Time_ArrivedAtScene' 'Time_Depart_Scene' 'Time_Arrive_Destination'\n",
      " 'Time_Available' 'Time_Call_Cleared' 'Call_Disposition'\n",
      " 'Longitude_Of_Emergency' 'Latitude_Of_Emergency' 'transport_time'\n",
      " 'grid_time']\n",
      "['' 'Unnamed: 0' 'IncidentForeignKey' 'Radio_Name'\n",
      " 'Longitude_At_Assign_Time' 'Latitude_At_Assign_Time' 'Time_Assigned'\n",
      " 'Time_Enroute' 'Time_ArrivedAtScene' 'Time_Depart_Scene'\n",
      " 'Time_Arrive_Destination' 'Time_Available' 'Time_Call_Cleared'\n",
      " 'Call_Disposition' 'Longitude_Of_Emergency' 'Latitude_Of_Emergency'\n",
      " 'transport_time' 'grid_time' 'Time_Arrived' 'timedelta' 'arrival_seconds'\n",
      " 'interarrival_seconds' 'neighborhood' 'dow']\n",
      "['neighborhood' '83' '38' '129' '107' '113' '51' '76' '67' '52']\n"
     ]
    }
   ],
   "source": [
    "print(clean[0])\n",
    "print(backend[0])\n",
    "print(backend[0:10,-2])"
   ]
  },
  {
   "cell_type": "code",
   "execution_count": 11,
   "id": "d2bb3e14",
   "metadata": {},
   "outputs": [],
   "source": [
    "#make sure the hospital times are the same at different times.\n",
    "# hosp = np.genfromtxt('Input_Data/calls_w_StnHospTimes.csv', delimiter=\",\", dtype=str)\n",
    "# hosp\n",
    "# hosp.shape #(210108, 67)\n",
    "# hosp[:,3] #neighborhood\n",
    "# hosp[:,5] #\n",
    "# where67 = np.where(hosp[:,3] == \"67\")\n",
    "# hosp[where67[0],8]"
   ]
  },
  {
   "cell_type": "markdown",
   "id": "2383b69c",
   "metadata": {},
   "source": [
    "## calculate times with calendar difference"
   ]
  },
  {
   "cell_type": "code",
   "execution_count": 16,
   "id": "ff1d04be",
   "metadata": {},
   "outputs": [
    {
     "name": "stdout",
     "output_type": "stream",
     "text": [
      "Time_Assigned\n",
      "Time_Assigned\n",
      "Time_Enroute\n",
      "Time_ArrivedAtScene\n",
      "Time_Depart_Scene\n",
      "Time_Arrive_Destination\n",
      "Time_Available\n",
      "Time_Call_Cleared\n",
      "grid_time\n",
      "Time_Assigned\n",
      "Time_Enroute\n",
      "Time_ArrivedAtScene\n",
      "Time_Depart_Scene\n",
      "Time_Arrive_Destination\n",
      "Time_Available\n",
      "Time_Call_Cleared\n",
      "grid_time\n"
     ]
    }
   ],
   "source": [
    "print(backend[0,6]) #Time_Assigned\n",
    "backend[0,7] #Time_Enroute\n",
    "backend[0,8] #Time_ArrivedAtScene\n",
    "backend[0,9] #Time_Depart_Scene\n",
    "backend[0,10] #Time_Arrive_Destination\n",
    "backend[0,11] #Time_Available\n",
    "backend[0,12] #Time_Call_Cleared\n",
    "backend[0,16] #transport_time\n",
    "backend[0,17] #grid_time\n",
    "\n",
    "print(peakHours[0,5]) #Time_Assigned\n",
    "print(peakHours[0,6]) #Time_Enroute\n",
    "print(peakHours[0,7]) #Time_ArrivedAtScene\n",
    "\n",
    "print(clean[0,8]) #Time_Depart_Scene\n",
    "print(clean[0,9]) #Time_Arrive_Destination\n",
    "print(clean[0,10]) #Time_Available\n",
    "print(clean[0,11]) #Time_Call_Cleared\n",
    "print(clean[0,16]) #grid_time\n",
    "\n"
   ]
  },
  {
   "cell_type": "markdown",
   "id": "65cfac49",
   "metadata": {},
   "source": [
    "####  small example"
   ]
  },
  {
   "cell_type": "code",
   "execution_count": 17,
   "id": "1720af2d",
   "metadata": {},
   "outputs": [
    {
     "ename": "NameError",
     "evalue": "name 'csv2calendar' is not defined",
     "output_type": "error",
     "traceback": [
      "\u001b[1;31m---------------------------------------------------------------------------\u001b[0m",
      "\u001b[1;31mNameError\u001b[0m                                 Traceback (most recent call last)",
      "\u001b[1;32m<ipython-input-17-702e44f67063>\u001b[0m in \u001b[0;36m<module>\u001b[1;34m\u001b[0m\n\u001b[0;32m      1\u001b[0m \u001b[0mi\u001b[0m \u001b[1;33m=\u001b[0m \u001b[1;36m1\u001b[0m\u001b[1;33m\u001b[0m\u001b[1;33m\u001b[0m\u001b[0m\n\u001b[1;32m----> 2\u001b[1;33m \u001b[0mTime_Assigned\u001b[0m \u001b[1;33m=\u001b[0m \u001b[0mcsv2calendar\u001b[0m\u001b[1;33m(\u001b[0m\u001b[0mi\u001b[0m\u001b[1;33m,\u001b[0m\u001b[1;36m6\u001b[0m\u001b[1;33m)\u001b[0m\u001b[1;33m\u001b[0m\u001b[1;33m\u001b[0m\u001b[0m\n\u001b[0m\u001b[0;32m      3\u001b[0m \u001b[0mTime_Enroute\u001b[0m \u001b[1;33m=\u001b[0m \u001b[0mcsv2calendar\u001b[0m\u001b[1;33m(\u001b[0m\u001b[0mi\u001b[0m\u001b[1;33m,\u001b[0m\u001b[1;36m7\u001b[0m\u001b[1;33m)\u001b[0m\u001b[1;33m\u001b[0m\u001b[1;33m\u001b[0m\u001b[0m\n\u001b[0;32m      4\u001b[0m \u001b[0mTime_ArrivedAtScene\u001b[0m \u001b[1;33m=\u001b[0m \u001b[0mcsv2calendar\u001b[0m\u001b[1;33m(\u001b[0m\u001b[0mi\u001b[0m\u001b[1;33m,\u001b[0m\u001b[1;36m8\u001b[0m\u001b[1;33m)\u001b[0m\u001b[1;33m\u001b[0m\u001b[1;33m\u001b[0m\u001b[0m\n\u001b[0;32m      5\u001b[0m \u001b[0mTime_Depart_Scene\u001b[0m \u001b[1;33m=\u001b[0m \u001b[0mcsv2calendar\u001b[0m\u001b[1;33m(\u001b[0m\u001b[0mi\u001b[0m\u001b[1;33m,\u001b[0m\u001b[1;36m9\u001b[0m\u001b[1;33m)\u001b[0m\u001b[1;33m\u001b[0m\u001b[1;33m\u001b[0m\u001b[0m\n",
      "\u001b[1;31mNameError\u001b[0m: name 'csv2calendar' is not defined"
     ]
    }
   ],
   "source": [
    "i = 1\n",
    "Time_Assigned = csv2calendar(i,6)\n",
    "Time_Enroute = csv2calendar(i,7)\n",
    "Time_ArrivedAtScene = csv2calendar(i,8)\n",
    "Time_Depart_Scene = csv2calendar(i,9)\n",
    "Time_Arrive_Destination = csv2calendar(i,10)\n",
    "Time_Available = csv2calendar(i,11)\n",
    "Time_Call_Cleared = csv2calendar(i,12)\n",
    "if Time_ArrivedAtScene == -1 or Time_Enroute == -1:\n",
    "        hist_station2call[i] = -1\n",
    "else:    \n",
    "    #print(Time_ArrivedAtScene - Time_Enroute.seconds / 60)\n",
    "    hist_station2call.append((Time_ArrivedAtScene - Time_Enroute).seconds / 60)"
   ]
  },
  {
   "cell_type": "code",
   "execution_count": 24,
   "id": "e4f3bd8e",
   "metadata": {},
   "outputs": [
    {
     "data": {
      "text/plain": [
       "30197"
      ]
     },
     "execution_count": 24,
     "metadata": {},
     "output_type": "execute_result"
    }
   ],
   "source": []
  },
  {
   "cell_type": "code",
   "execution_count": 33,
   "id": "628a6eb9",
   "metadata": {},
   "outputs": [],
   "source": [
    "import math\n",
    "from datetime import *; from dateutil.relativedelta import *\n",
    "import calendar\n",
    "def csv2calendar(index,type_event):\n",
    "    time1 = peakHours[index,type_event-1]  #note backend and clean data sets are off by one index\n",
    "    #time1 = backend[index,type_event]\n",
    "    #time1 = clean[index,type_event-1]\n",
    "    if time1 == \"\":\n",
    "        return -1\n",
    "    [ymd,hmm] = time1.split()\n",
    "    [y,m,d] = ymd.split('-')\n",
    "    [h,minu,sec] = hmm.split(\":\")\n",
    "    y = int(y)\n",
    "    m = int(m)\n",
    "    d = int(d)\n",
    "    h = int(h)\n",
    "    minu = int(minu)\n",
    "    sec = math.floor(float(sec))\n",
    "    timearrive = datetime(y, m, d, h, minu, sec)\n",
    "    return timearrive"
   ]
  },
  {
   "cell_type": "code",
   "execution_count": 27,
   "id": "cdf5dddf",
   "metadata": {},
   "outputs": [
    {
     "data": {
      "text/plain": [
       "'False Alarm Call'"
      ]
     },
     "execution_count": 27,
     "metadata": {},
     "output_type": "execute_result"
    }
   ],
   "source": [
    "clean[4,-5]"
   ]
  },
  {
   "cell_type": "code",
   "execution_count": 28,
   "id": "42f4a422",
   "metadata": {},
   "outputs": [
    {
     "name": "stdout",
     "output_type": "stream",
     "text": [
      "Time_Assigned\n",
      "Time_Enroute\n",
      "Time_ArrivedAtScene\n",
      "Time_Depart_Scene\n",
      "Time_Arrive_Destination\n",
      "Time_Available\n",
      "Time_Call_Cleared\n",
      "grid_time\n"
     ]
    }
   ],
   "source": [
    "print(clean[0,5]) #Time_Assigned\n",
    "print(clean[0,6]) #Time_Enroute\n",
    "print(clean[0,7]) #Time_ArrivedAtScene\n",
    "print(clean[0,8]) #Time_Depart_Scene\n",
    "print(clean[0,9]) #Time_Arrive_Destination\n",
    "print(clean[0,10]) #Time_Available\n",
    "print(clean[0,11]) #Time_Call_Cleared\n",
    "print(clean[0,16]) #grid_time"
   ]
  },
  {
   "cell_type": "code",
   "execution_count": 34,
   "id": "132a9a6c",
   "metadata": {},
   "outputs": [],
   "source": [
    "nsamples = len(peakHours) #len(clean) #= 1000\n",
    "hist_setUpTime = [] #np.zeros([10,1])\n",
    "hist_station2call = []\n",
    "hist_onSceneTime = []\n",
    "hist_call2hospital = []\n",
    "hist_hospital2station = []\n",
    "end = np.zeros([10,1])\n",
    "\n",
    "for i in range(1,nsamples):\n",
    "    #print(i)\n",
    "    Time_Assigned = csv2calendar(i,6)\n",
    "    Time_Enroute = csv2calendar(i,7)\n",
    "    Time_ArrivedAtScene = csv2calendar(i,8)\n",
    "    Time_Depart_Scene = csv2calendar(i,9)\n",
    "    Time_Arrive_Destination = csv2calendar(i,10)\n",
    "    Time_Available = csv2calendar(i,11)\n",
    "    Time_Call_Cleared = csv2calendar(i,12)\n",
    "    #print(str(Time_Assigned) + \"\\n\" + str(Time_Enroute) + \"\\n\" + str(Time_ArrivedAtScene) + \"\\n\"+ str(Time_Depart_Scene) + \"\\n\"+ str(Time_Arrive_Destination) + \"\\n\"+ str(Time_Available) + \"\\n\"+ str(Time_Call_Cleared))\n",
    "\n",
    "    #callAssignedTime\n",
    "    if Time_Assigned == -1 or Time_Enroute == -1:\n",
    "        hist_setUpTime.append(0)\n",
    "    else: \n",
    "        #print(str(Time_Enroute) + \"-\" + str(Time_Assigned))\n",
    "        hist_setUpTime.append((Time_Enroute - Time_Assigned).seconds / 60)\n",
    "    #station2call\n",
    "    if Time_ArrivedAtScene == -1 or Time_Enroute == -1:\n",
    "        hist_station2call.append(0)\n",
    "    else:    \n",
    "        #print(Time_ArrivedAtScene - Time_Enroute.seconds / 60)\n",
    "        hist_station2call.append((Time_ArrivedAtScene - Time_Enroute).seconds / 60)\n",
    "    \n",
    "    #on_scene_time\n",
    "    if Time_Depart_Scene == -1 or Time_ArrivedAtScene == -1:\n",
    "        hist_onSceneTime.append(0)\n",
    "    else:    \n",
    "        hist_onSceneTime.append((Time_Depart_Scene - Time_ArrivedAtScene).seconds / 60)\n",
    "    \n",
    "    #call2hospital\n",
    "    if Time_Arrive_Destination == -1 or Time_Enroute == -1:\n",
    "        hist_call2hospital.append(0)\n",
    "    else:  \n",
    "        hist_call2hospital.append((Time_Arrive_Destination - Time_Depart_Scene).seconds / 60)\n",
    "        \n",
    "    #hospital2station\n",
    "    if Time_Available == -1 or Time_Arrive_Destination == -1:\n",
    "        hist_hospital2station.append(0)\n",
    "    else:  \n",
    "        hist_hospital2station.append((Time_Available - Time_Arrive_Destination).seconds / 60)    "
   ]
  },
  {
   "cell_type": "code",
   "execution_count": 35,
   "id": "9e17e415",
   "metadata": {
    "scrolled": true
   },
   "outputs": [
    {
     "name": "stdout",
     "output_type": "stream",
     "text": [
      "hist_setUpTime: 1.0511059345899159\n",
      "hist_station2call: 7.114469834916365\n",
      "hist_onSceneTime: 22.01469758362178\n",
      "hist_call2hospital: 14.622384170781455\n",
      "hist_hospital2station: 26.888785358464983\n"
     ]
    },
    {
     "data": {
      "text/plain": [
       "71.6914428823745"
      ]
     },
     "execution_count": 35,
     "metadata": {},
     "output_type": "execute_result"
    }
   ],
   "source": [
    "print(\"hist_setUpTime: \" + str(np.mean(hist_setUpTime)))\n",
    "print(\"hist_station2call: \" + str(np.mean(hist_station2call)))\n",
    "print(\"hist_onSceneTime: \" + str(np.mean(hist_onSceneTime)))\n",
    "print(\"hist_call2hospital: \" + str(np.mean(hist_call2hospital)))\n",
    "print(\"hist_hospital2station: \" + str(np.mean(hist_hospital2station)))\n",
    "\n",
    "np.mean(hist_setUpTime) + np.mean(hist_station2call) + np.mean(hist_onSceneTime) + np.mean(hist_call2hospital) + np.mean(hist_hospital2station)"
   ]
  },
  {
   "cell_type": "markdown",
   "id": "ed13a871",
   "metadata": {},
   "source": [
    "## custom bins for xinyu \n",
    "### 3 periods before March 17 2020, between, and after Nay 1"
   ]
  },
  {
   "cell_type": "code",
   "execution_count": 62,
   "id": "922981da",
   "metadata": {},
   "outputs": [
    {
     "data": {
      "text/plain": [
       "7"
      ]
     },
     "execution_count": 62,
     "metadata": {},
     "output_type": "execute_result"
    }
   ],
   "source": [
    "csv2calendar(i,6).month"
   ]
  },
  {
   "cell_type": "code",
   "execution_count": null,
   "id": "26ba6d73",
   "metadata": {},
   "outputs": [],
   "source": [
    "period_setUpTime = [[],[],[]] #np.zeros([10,1])\n",
    "period_station2call = [[],[],[]]\n",
    "period_onSceneTime = [[],[],[]]\n",
    "period_call2hospital = [[],[],[]]\n",
    "period_hospital2station = [[],[],[]]\n",
    "\n",
    "for i in range(1,nsamples):\n",
    "    #print(i)\n",
    "    Time_Assigned = csv2calendar(i,6)\n",
    "    if Time_Assigned.year == 2019:\n",
    "        period_setUpTime[0].append(hist_setUpTime[i])\n",
    "        period_station2call[0].append(hist_station2call[i])\n",
    "        period_onSceneTime[0].append(hist_onSceneTime[i])\n",
    "        period_call2hospital[0].append(hist_call2hospital[i])\n",
    "        period_hospital2station[0].append(hist_hospital2station[i])\n",
    "    elif Time_Assigned.month < 3 :\n",
    "    elif Time_Assigned.month <= 3 and Time_Assigned.day <= 16:\n",
    "    elif Time_Assigned.month <= 5 and Time_Assigned.day <= 16:\n",
    "    "
   ]
  },
  {
   "cell_type": "markdown",
   "id": "ef152e68",
   "metadata": {},
   "source": [
    "#### Cleandata: (There are all these -1's)\n",
    "hist_setUpTime: 1.1232053985191675 <br>\n",
    "hist_station2call: 7.231526000244321 <br>\n",
    "hist_onSceneTime: 12.654019935873944 <br>\n",
    "hist_call2hospital: 7.752674986237172 <br>\n",
    "hist_hospital2station: 15.294203112382416 <br>\n",
    "44.05562943325702\n",
    "#### Peakhours: \n",
    "hist_setUpTime: 1.0511059345899159 <br>\n",
    "hist_station2call: 7.114469834916365 <br>\n",
    "hist_onSceneTime: 21.952787119211273 <br>\n",
    "hist_call2hospital: 14.560457301902373 <br>\n",
    "hist_hospital2station: 26.8268584895859 <br>\n",
    "71.50567868020583 <br>\n",
    "#### Peakhours -1 -> 0:\n",
    "hist_setUpTime: 1.0511059345899159 <br>\n",
    "hist_station2call: 7.114469834916365 <br>\n",
    "hist_onSceneTime: 22.01469758362178 <br>\n",
    "hist_call2hospital: 14.622384170781455 <br>\n",
    "hist_hospital2station: 26.888785358464983 <br>\n",
    "71.6914428823745"
   ]
  },
  {
   "cell_type": "markdown",
   "id": "9f10107a",
   "metadata": {},
   "source": [
    "## fitting lognormal service time"
   ]
  },
  {
   "cell_type": "code",
   "execution_count": 199,
   "id": "5b9151ff",
   "metadata": {},
   "outputs": [
    {
     "name": "stdout",
     "output_type": "stream",
     "text": [
      "1435.0333333333333\n"
     ]
    },
    {
     "data": {
      "text/plain": [
       "(array([2.000e+00, 6.000e+00, 1.500e+01, 4.700e+01, 8.500e+01, 1.760e+02,\n",
       "        3.090e+02, 4.830e+02, 6.410e+02, 8.350e+02, 1.072e+03, 1.359e+03,\n",
       "        1.606e+03, 1.804e+03, 2.068e+03, 2.345e+03, 2.363e+03, 2.575e+03,\n",
       "        2.686e+03, 2.775e+03, 2.626e+03, 2.684e+03, 2.598e+03, 2.501e+03,\n",
       "        2.383e+03, 2.366e+03, 2.159e+03, 1.974e+03, 1.836e+03, 1.637e+03,\n",
       "        1.569e+03, 1.427e+03, 1.346e+03, 1.202e+03, 1.101e+03, 8.910e+02,\n",
       "        8.500e+02, 7.460e+02, 7.150e+02, 6.250e+02, 5.520e+02, 5.110e+02,\n",
       "        4.530e+02, 3.590e+02, 3.400e+02, 2.900e+02, 2.560e+02, 2.280e+02,\n",
       "        1.690e+02, 1.760e+02, 1.590e+02, 1.250e+02, 9.800e+01, 8.800e+01,\n",
       "        9.000e+01, 7.900e+01, 6.100e+01, 6.900e+01, 4.100e+01, 3.100e+01,\n",
       "        3.600e+01, 3.700e+01, 2.800e+01, 2.000e+01, 2.900e+01, 2.300e+01,\n",
       "        2.300e+01, 1.400e+01, 2.000e+01, 7.000e+00, 1.200e+01, 7.000e+00,\n",
       "        3.000e+00, 1.000e+00, 5.000e+00, 4.000e+00, 4.000e+00, 1.000e+00,\n",
       "        2.000e+00, 2.000e+00, 2.000e+00, 0.000e+00, 3.000e+00, 3.000e+00,\n",
       "        2.000e+00, 4.000e+00, 0.000e+00, 0.000e+00, 0.000e+00, 1.000e+00,\n",
       "        0.000e+00, 0.000e+00, 0.000e+00, 1.000e+00, 0.000e+00, 0.000e+00,\n",
       "        0.000e+00, 0.000e+00, 0.000e+00, 2.000e+00]),\n",
       " array([ 6.04666917,  6.74726313,  7.44785709,  8.14845105,  8.84904501,\n",
       "         9.54963898, 10.25023294, 10.9508269 , 11.65142086, 12.35201482,\n",
       "        13.05260879, 13.75320275, 14.45379671, 15.15439067, 15.85498463,\n",
       "        16.5555786 , 17.25617256, 17.95676652, 18.65736048, 19.35795444,\n",
       "        20.05854841, 20.75914237, 21.45973633, 22.16033029, 22.86092425,\n",
       "        23.56151821, 24.26211218, 24.96270614, 25.6633001 , 26.36389406,\n",
       "        27.06448802, 27.76508199, 28.46567595, 29.16626991, 29.86686387,\n",
       "        30.56745783, 31.2680518 , 31.96864576, 32.66923972, 33.36983368,\n",
       "        34.07042764, 34.7710216 , 35.47161557, 36.17220953, 36.87280349,\n",
       "        37.57339745, 38.27399141, 38.97458538, 39.67517934, 40.3757733 ,\n",
       "        41.07636726, 41.77696122, 42.47755519, 43.17814915, 43.87874311,\n",
       "        44.57933707, 45.27993103, 45.980525  , 46.68111896, 47.38171292,\n",
       "        48.08230688, 48.78290084, 49.4834948 , 50.18408877, 50.88468273,\n",
       "        51.58527669, 52.28587065, 52.98646461, 53.68705858, 54.38765254,\n",
       "        55.0882465 , 55.78884046, 56.48943442, 57.19002839, 57.89062235,\n",
       "        58.59121631, 59.29181027, 59.99240423, 60.6929982 , 61.39359216,\n",
       "        62.09418612, 62.79478008, 63.49537404, 64.195968  , 64.89656197,\n",
       "        65.59715593, 66.29774989, 66.99834385, 67.69893781, 68.39953178,\n",
       "        69.10012574, 69.8007197 , 70.50131366, 71.20190762, 71.90250159,\n",
       "        72.60309555, 73.30368951, 74.00428347, 74.70487743, 75.40547139,\n",
       "        76.10606536]),\n",
       " <BarContainer object of 100 artists>)"
      ]
     },
     "execution_count": 199,
     "metadata": {},
     "output_type": "execute_result"
    },
    {
     "data": {
      "image/png": "[encoded data removed]",
      "text/plain": [
       "<Figure size 432x288 with 1 Axes>"
      ]
     },
     "metadata": {
      "needs_background": "light"
     },
     "output_type": "display_data"
    }
   ],
   "source": [
    "print(np.max(hist_onSceneTime))\n",
    "#plt.hist(hist_onSceneTime, range = (0,200), bins = 100)\n",
    "x = np.random.lognormal(3.0888,.3, len(hist_onSceneTime))\n",
    "plt.hist(hist_onSceneTime, range = (0,300), bins = 100, log = True)\n",
    "plt.hist(x, bins = 100, log = True) #,range = (0,300))"
   ]
  },
  {
   "cell_type": "code",
   "execution_count": 191,
   "id": "e94edaa1",
   "metadata": {},
   "outputs": [
    {
     "data": {
      "text/plain": [
       "240.21318124698533"
      ]
     },
     "execution_count": 191,
     "metadata": {},
     "output_type": "execute_result"
    }
   ],
   "source": [
    "np.var(hist_onSceneTime)"
   ]
  },
  {
   "cell_type": "code",
   "execution_count": null,
   "id": "11f30db0",
   "metadata": {},
   "outputs": [],
   "source": []
  }
 ],
 "metadata": {
  "kernelspec": {
   "display_name": "Python 3",
   "language": "python",
   "name": "python3"
  },
  "language_info": {
   "codemirror_mode": {
    "name": "ipython",
    "version": 3
   },
   "file_extension": ".py",
   "mimetype": "text/x-python",
   "name": "python",
   "nbconvert_exporter": "python",
   "pygments_lexer": "ipython3",
   "version": "3.7.3"
  }
 },
 "nbformat": 4,
 "nbformat_minor": 5
}

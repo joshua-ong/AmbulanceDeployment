{
 "cells": [
  {
   "cell_type": "markdown",
   "metadata": {},
   "source": [
    "Summary: need to go from all calls to calls from 8am-8pm and monday-friday"
   ]
  },
  {
   "cell_type": "code",
   "execution_count": 1,
   "metadata": {},
   "outputs": [],
   "source": [
    "import csv\n",
    "import collections\n",
    "import pandas as pd\n",
    "import numpy as np\n",
    "import math\n",
    "import json"
   ]
  },
  {
   "cell_type": "code",
   "execution_count": 2,
   "metadata": {},
   "outputs": [],
   "source": [
    "clean = np.genfromtxt('..\\Input_Data/cleaned_data.csv', delimiter=\",\", dtype=str) #210k x 17\n",
    "a_i = np.genfromtxt('..\\Input_Data/austin_incidents.csv', delimiter=\",\", dtype=str) #210k x 17"
   ]
  },
  {
   "cell_type": "code",
   "execution_count": 3,
   "metadata": {},
   "outputs": [
    {
     "data": {
      "text/plain": [
       "array(['', 'IncidentForeignKey', 'Radio_Name', 'Longitude_At_Assign_Time',\n",
       "       'Latitude_At_Assign_Time', 'Time_Assigned', 'Time_Enroute',\n",
       "       'Time_ArrivedAtScene', 'Time_Depart_Scene',\n",
       "       'Time_Arrive_Destination', 'Time_Available', 'Time_Call_Cleared',\n",
       "       'Call_Disposition', 'Longitude_Of_Emergency',\n",
       "       'Latitude_Of_Emergency', 'transport_time', 'grid_time'],\n",
       "      dtype='<U30')"
      ]
     },
     "execution_count": 3,
     "metadata": {},
     "output_type": "execute_result"
    }
   ],
   "source": [
    "clean[0]"
   ]
  },
  {
   "cell_type": "code",
   "execution_count": 6,
   "metadata": {},
   "outputs": [
    {
     "data": {
      "text/plain": [
       "array(['1', '23397873', 'M09', '-97.972866', '30.333385',\n",
       "       '2019-01-01 19:43:36.000', '2019-01-01 19:45:27.030',\n",
       "       '2019-01-01 19:48:39.770', '2019-01-01 20:19:00.870',\n",
       "       '2019-01-01 20:24:43.093', '2019-01-01 20:51:12.877',\n",
       "       '2019-01-01 20:51:12.877', 'Baylor Scott & White - Lakeway',\n",
       "       '-97.961', '30.325', '192', '222.72'], dtype='<U30')"
      ]
     },
     "execution_count": 6,
     "metadata": {},
     "output_type": "execute_result"
    }
   ],
   "source": [
    "clean[1]"
   ]
  },
  {
   "cell_type": "code",
   "execution_count": 8,
   "metadata": {},
   "outputs": [
    {
     "data": {
      "text/plain": [
       "array(['Baylor Scott & White - Lakeway', 'False Alarm Call',\n",
       "       'Dual w/ other ATCEMS Unit', 'False Alarm Call',\n",
       "       'Saint Davids Med Ctr', 'Refusal', 'False Alarm Call',\n",
       "       'False Alarm Call', 'No Patient', 'False Alarm Call',\n",
       "       'False Alarm Call', 'False Alarm Call', 'Refusal', 'No Patient',\n",
       "       'Refusal', 'Refusal', 'False Alarm Call', 'Saint Davids Med Ctr',\n",
       "       'False Alarm Call', 'Saint Davids Med Ctr', 'Saint Davids Med Ctr',\n",
       "       'No Patient', 'Refusal', 'Call Cancelled', 'Saint Davids Med Ctr',\n",
       "       'No Patient', 'No Patient', 'No Patient', 'Refusal',\n",
       "       'Saint Davids Med Ctr', 'False Alarm Call',\n",
       "       'North Austin Hospital', 'Referred Law Enforcement',\n",
       "       'False Alarm Call', 'North Austin Hospital', 'Patient Contact',\n",
       "       'Call Cancelled', 'No Patient', 'Seton Northwest',\n",
       "       'North Austin Hospital', 'No Patient', 'False Alarm Call',\n",
       "       'Refusal', 'Refusal', 'Dual w/ other ATCEMS Unit',\n",
       "       'Call Cancelled', 'False Alarm Call', 'Refusal',\n",
       "       'False Alarm Call', 'South Austin Hospital', 'No Patient',\n",
       "       'False Alarm Call', 'Refusal', 'Refusal', 'Saint Davids Med Ctr',\n",
       "       'No Patient', 'False Alarm Call', 'Refusal', 'No Patient',\n",
       "       'Refusal', 'South Austin Hospital', 'No Patient', 'Refusal',\n",
       "       'No Patient', 'Call Cancelled', 'Refusal', 'Call Cancelled',\n",
       "       'No Patient', 'False Alarm Call', 'Refusal', 'False Alarm Call',\n",
       "       'No Patient', 'No Patient', 'False Alarm Call', 'False Alarm Call',\n",
       "       'No Patient', 'No Patient', 'No Patient', 'False Alarm Call',\n",
       "       'Round Rock Hospital', 'South Austin Hospital', 'False Alarm Call',\n",
       "       'Dell Seton Med Ctr', 'Other', 'Refusal', 'Seton Northwest',\n",
       "       'Refusal', 'Refusal', 'Call Cancelled', 'No Patient',\n",
       "       'False Alarm Call', 'Refusal', 'No Patient', 'Call Cancelled',\n",
       "       'Refusal', 'Call Cancelled', 'Refusal', 'South Austin Hospital',\n",
       "       'Patient Contact'], dtype='<U30')"
      ]
     },
     "execution_count": 8,
     "metadata": {},
     "output_type": "execute_result"
    }
   ],
   "source": [
    "clean[1:100,-5]"
   ]
  },
  {
   "cell_type": "code",
   "execution_count": 4,
   "metadata": {},
   "outputs": [],
   "source": [
    "import math\n",
    "from datetime import *; from dateutil.relativedelta import *\n",
    "import calendar\n",
    "def csv2calendar(index,type_event):\n",
    "    time1 = clean[index,type_event-1]  #note backend and clean data sets are off by one index\n",
    "    #time1 = backend[index,type_event]\n",
    "    if time1 == \"\":\n",
    "        return -1\n",
    "    [ymd,hmm] = time1.split()\n",
    "    [y,m,d] = ymd.split('-')\n",
    "    [h,minu,sec] = hmm.split(\":\")\n",
    "    y = int(y)\n",
    "    m = int(m)\n",
    "    d = int(d)\n",
    "    h = int(h)\n",
    "    minu = int(minu)\n",
    "    sec = math.floor(float(sec))\n",
    "    timearrive = datetime(y, m, d, h, minu, sec)\n",
    "    return timearrive"
   ]
  },
  {
   "cell_type": "code",
   "execution_count": 5,
   "metadata": {},
   "outputs": [
    {
     "data": {
      "text/plain": [
       "210108"
      ]
     },
     "execution_count": 5,
     "metadata": {},
     "output_type": "execute_result"
    }
   ],
   "source": [
    "len(clean)"
   ]
  },
  {
   "cell_type": "code",
   "execution_count": 44,
   "metadata": {},
   "outputs": [],
   "source": [
    "nsamples = len(clean)\n",
    "peak_hours = []\n",
    "peak_hours.append(clean[0]) #headers\n",
    "\n",
    "for i in range(1,nsamples):\n",
    "    Time_Enroute = csv2calendar(i,7)\n",
    "    #print(Time_Enroute)\n",
    "    #peak hour\n",
    "    if not ((Time_Enroute.hour < 21) and (Time_Enroute.hour > 7)):\n",
    "        continue\n",
    "        print(Time_Enroute.hour)\n",
    "    #dow\n",
    "    if not(Time_Enroute.weekday() < 5):\n",
    "        continue\n",
    "        print(Time_Enroute.weekday())\n",
    "    #was it an\n",
    "    peak_hours.append(clean[i])"
   ]
  },
  {
   "cell_type": "code",
   "execution_count": 55,
   "metadata": {},
   "outputs": [
    {
     "data": {
      "text/plain": [
       "(103955, 17)"
      ]
     },
     "execution_count": 55,
     "metadata": {},
     "output_type": "execute_result"
    }
   ],
   "source": [
    "x = np.array(peak_hours)\n",
    "x.shape"
   ]
  },
  {
   "cell_type": "code",
   "execution_count": 51,
   "metadata": {},
   "outputs": [],
   "source": [
    "np.savetxt('Output_Data/peakhours.csv', x, delimiter=',', fmt='%s') "
   ]
  },
  {
   "cell_type": "code",
   "execution_count": 60,
   "metadata": {},
   "outputs": [
    {
     "data": {
      "text/plain": [
       "(103955, 17)"
      ]
     },
     "execution_count": 60,
     "metadata": {},
     "output_type": "execute_result"
    }
   ],
   "source": [
    "y = (np.genfromtxt(\"Output_Data/peakHours.csv\", delimiter=\",\", dtype = str))\n",
    "y.shape"
   ]
  },
  {
   "cell_type": "code",
   "execution_count": null,
   "metadata": {},
   "outputs": [],
   "source": []
  },
  {
   "cell_type": "code",
   "execution_count": null,
   "metadata": {},
   "outputs": [],
   "source": []
  }
 ],
 "metadata": {
  "kernelspec": {
   "display_name": "Python 3",
   "language": "python",
   "name": "python3"
  },
  "language_info": {
   "codemirror_mode": {
    "name": "ipython",
    "version": 3
   },
   "file_extension": ".py",
   "mimetype": "text/x-python",
   "name": "python",
   "nbconvert_exporter": "python",
   "pygments_lexer": "ipython3",
   "version": "3.8.5"
  }
 },
 "nbformat": 4,
 "nbformat_minor": 5
}

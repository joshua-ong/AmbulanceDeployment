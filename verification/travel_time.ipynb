{
 "cells": [
  {
   "cell_type": "markdown",
   "id": "b39fb1c1",
   "metadata": {},
   "source": [
    "Author: Joshua <br />\n",
    "Summary: Find travel time errors for not only the response time, but the serve time, hospital drive time and return time."
   ]
  },
  {
   "cell_type": "code",
   "execution_count": 17,
   "id": "832f5475",
   "metadata": {},
   "outputs": [],
   "source": [
    "import csv\n",
    "import collections\n",
    "import pandas as pd\n",
    "import numpy as np\n",
    "import math\n",
    "import json\n",
    "import matplotlib.pyplot as plt\n",
    "import seaborn as sns"
   ]
  },
  {
   "cell_type": "markdown",
   "id": "34ce1195",
   "metadata": {},
   "source": [
    "## load the data"
   ]
  },
  {
   "cell_type": "code",
   "execution_count": 35,
   "id": "b8762046",
   "metadata": {},
   "outputs": [],
   "source": [
    "hosp = np.genfromtxt('../Input_Data/calls_w_StnHospTimes.csv', delimiter=\",\", dtype=str)\n",
    "#f_wkc = np.genfromtxt('Input_Data/Full_WeekdayCalls.csv', delimiter=\",\", dtype=str)\n",
    "#wkc = np.genfromtxt('Input_Data/WeekdayCalls.csv', delimiter=\",\", dtype=str)\n",
    "a_i = np.genfromtxt('../Input_Data/austin_incidents.csv', delimiter=\",\", dtype=str)\n",
    "#a_test_call = np.genfromtxt('Input_Data/austin_test_calls.csv', delimiter=\",\", dtype=str)\n",
    "clean = np.genfromtxt('../Input_Data/cleaned_data.csv', delimiter=\",\", dtype=str) #210k x 17\n",
    "backend = np.genfromtxt('../Input_Data/backend_calls.csv', delimiter=\",\", dtype=str) #30k\n",
    "peakHours = np.genfromtxt('../Output_Data/peakhours.csv', delimiter=\",\", dtype=str)"
   ]
  },
  {
   "cell_type": "code",
   "execution_count": 36,
   "id": "99649789",
   "metadata": {},
   "outputs": [
    {
     "name": "stdout",
     "output_type": "stream",
     "text": [
      "(103955, 17)\n"
     ]
    }
   ],
   "source": [
    "peakHours = np.genfromtxt('../Output_Data/peakhours.csv', delimiter=\",\", dtype=str)\n",
    "print(peakHours.shape)"
   ]
  },
  {
   "cell_type": "code",
   "execution_count": 37,
   "id": "dd60fa00",
   "metadata": {},
   "outputs": [
    {
     "name": "stdout",
     "output_type": "stream",
     "text": [
      "['' 'IncidentForeignKey' 'Radio_Name' 'Longitude_At_Assign_Time'\n",
      " 'Latitude_At_Assign_Time' 'Time_Assigned' 'Time_Enroute'\n",
      " 'Time_ArrivedAtScene' 'Time_Depart_Scene' 'Time_Arrive_Destination'\n",
      " 'Time_Available' 'Time_Call_Cleared' 'Call_Disposition'\n",
      " 'Longitude_Of_Emergency' 'Latitude_Of_Emergency' 'transport_time'\n",
      " 'grid_time']\n",
      "['' 'Unnamed: 0' 'IncidentForeignKey' 'Radio_Name'\n",
      " 'Longitude_At_Assign_Time' 'Latitude_At_Assign_Time' 'Time_Assigned'\n",
      " 'Time_Enroute' 'Time_ArrivedAtScene' 'Time_Depart_Scene'\n",
      " 'Time_Arrive_Destination' 'Time_Available' 'Time_Call_Cleared'\n",
      " 'Call_Disposition' 'Longitude_Of_Emergency' 'Latitude_Of_Emergency'\n",
      " 'transport_time' 'grid_time' 'Time_Arrived' 'timedelta' 'arrival_seconds'\n",
      " 'interarrival_seconds' 'neighborhood' 'dow']\n",
      "['neighborhood' '83' '38' '129' '107' '113' '51' '76' '67' '52']\n"
     ]
    }
   ],
   "source": [
    "print(clean[0])\n",
    "print(backend[0])\n",
    "print(backend[0:10,-2])"
   ]
  },
  {
   "cell_type": "code",
   "execution_count": 38,
   "id": "d2bb3e14",
   "metadata": {},
   "outputs": [],
   "source": [
    "#make sure the hospital times are the same at different times.\n",
    "# hosp = np.genfromtxt('Input_Data/calls_w_StnHospTimes.csv', delimiter=\",\", dtype=str)\n",
    "# hosp\n",
    "# hosp.shape #(210108, 67)\n",
    "# hosp[:,3] #neighborhood\n",
    "# hosp[:,5] #\n",
    "# where67 = np.where(hosp[:,3] == \"67\")\n",
    "# hosp[where67[0],8]"
   ]
  },
  {
   "cell_type": "markdown",
   "id": "2383b69c",
   "metadata": {},
   "source": [
    "## calculate times with calendar difference"
   ]
  },
  {
   "cell_type": "code",
   "execution_count": 39,
   "id": "ff1d04be",
   "metadata": {},
   "outputs": [
    {
     "name": "stdout",
     "output_type": "stream",
     "text": [
      "Time_Assigned\n",
      "Time_Assigned\n",
      "Time_Enroute\n",
      "Time_ArrivedAtScene\n",
      "Time_Depart_Scene\n",
      "Time_Arrive_Destination\n",
      "Time_Available\n",
      "Time_Call_Cleared\n",
      "grid_time\n"
     ]
    }
   ],
   "source": [
    "print(backend[0,6]) #Time_Assigned\n",
    "backend[0,7] #Time_Enroute\n",
    "backend[0,8] #Time_ArrivedAtScene\n",
    "backend[0,9] #Time_Depart_Scene\n",
    "backend[0,10] #Time_Arrive_Destination\n",
    "backend[0,11] #Time_Available\n",
    "backend[0,12] #Time_Call_Cleared\n",
    "backend[0,16] #transport_time\n",
    "backend[0,17] #grid_time\n",
    "\n",
    "print(peakHours[0,5]) #Time_Assigned\n",
    "print(peakHours[0,6]) #Time_Enroute\n",
    "print(peakHours[0,7]) #Time_ArrivedAtScene\n",
    "\n",
    "print(clean[0,8]) #Time_Depart_Scene\n",
    "print(clean[0,9]) #Time_Arrive_Destination\n",
    "print(clean[0,10]) #Time_Available\n",
    "print(clean[0,11]) #Time_Call_Cleared\n",
    "print(clean[0,16]) #grid_time\n",
    "\n"
   ]
  },
  {
   "cell_type": "markdown",
   "id": "65cfac49",
   "metadata": {},
   "source": [
    "####  small example"
   ]
  },
  {
   "cell_type": "code",
   "execution_count": 40,
   "id": "1720af2d",
   "metadata": {},
   "outputs": [],
   "source": [
    "i = 1\n",
    "Time_Assigned = csv2calendar(i,6)\n",
    "Time_Enroute = csv2calendar(i,7)\n",
    "Time_ArrivedAtScene = csv2calendar(i,8)\n",
    "Time_Depart_Scene = csv2calendar(i,9)\n",
    "Time_Arrive_Destination = csv2calendar(i,10)\n",
    "Time_Available = csv2calendar(i,11)\n",
    "Time_Call_Cleared = csv2calendar(i,12)\n",
    "if Time_ArrivedAtScene == -1 or Time_Enroute == -1:\n",
    "        hist_station2call[i] = -1\n",
    "else:    \n",
    "    #print(Time_ArrivedAtScene - Time_Enroute.seconds / 60)\n",
    "    hist_station2call.append((Time_ArrivedAtScene - Time_Enroute).seconds / 60)"
   ]
  },
  {
   "cell_type": "code",
   "execution_count": 41,
   "id": "628a6eb9",
   "metadata": {},
   "outputs": [],
   "source": [
    "import math\n",
    "from datetime import *; from dateutil.relativedelta import *\n",
    "import calendar\n",
    "def csv2calendar(index,type_event):\n",
    "    time1 = peakHours[index,type_event-1]  #note backend and clean data sets are off by one index\n",
    "    #time1 = backend[index,type_event]\n",
    "    #time1 = clean[index,type_event-1]\n",
    "    if time1 == \"\":\n",
    "        return -1\n",
    "    [ymd,hmm] = time1.split()\n",
    "    [y,m,d] = ymd.split('-')\n",
    "    [h,minu,sec] = hmm.split(\":\")\n",
    "    y = int(y)\n",
    "    m = int(m)\n",
    "    d = int(d)\n",
    "    h = int(h)\n",
    "    minu = int(minu)\n",
    "    sec = math.floor(float(sec))\n",
    "    timearrive = datetime(y, m, d, h, minu, sec)\n",
    "    return timearrive"
   ]
  },
  {
   "cell_type": "code",
   "execution_count": 42,
   "id": "cdf5dddf",
   "metadata": {},
   "outputs": [
    {
     "data": {
      "text/plain": [
       "'False Alarm Call'"
      ]
     },
     "execution_count": 42,
     "metadata": {},
     "output_type": "execute_result"
    }
   ],
   "source": [
    "clean[4,-5]"
   ]
  },
  {
   "cell_type": "code",
   "execution_count": 43,
   "id": "ca934a77",
   "metadata": {},
   "outputs": [
    {
     "name": "stdout",
     "output_type": "stream",
     "text": [
      "Time_Assigned\n",
      "Time_Enroute\n",
      "Time_ArrivedAtScene\n",
      "Time_Depart_Scene\n",
      "Time_Arrive_Destination\n",
      "Time_Available\n",
      "Time_Call_Cleared\n",
      "grid_time\n"
     ]
    }
   ],
   "source": [
    "print(clean[0,5]) #Time_Assigned\n",
    "print(clean[0,6]) #Time_Enroute\n",
    "print(clean[0,7]) #Time_ArrivedAtScene\n",
    "print(clean[0,8]) #Time_Depart_Scene\n",
    "print(clean[0,9]) #Time_Arrive_Destination\n",
    "print(clean[0,10]) #Time_Available\n",
    "print(clean[0,11]) #Time_Call_Cleared\n",
    "print(clean[0,16]) #grid_time"
   ]
  },
  {
   "cell_type": "code",
   "execution_count": 44,
   "id": "132a9a6c",
   "metadata": {},
   "outputs": [],
   "source": [
    "nsamples = len(peakHours) #len(clean) #= 1000\n",
    "hist_setUpTime = [] #np.zeros([10,1])\n",
    "hist_station2call = []\n",
    "hist_onSceneTime = []\n",
    "hist_call2hospital = []\n",
    "hist_hospital2station = []\n",
    "end = np.zeros([10,1])\n",
    "\n",
    "for i in range(1,nsamples):\n",
    "    #print(i)\n",
    "    Time_Assigned = csv2calendar(i,6)\n",
    "    Time_Enroute = csv2calendar(i,7)\n",
    "    Time_ArrivedAtScene = csv2calendar(i,8)\n",
    "    Time_Depart_Scene = csv2calendar(i,9)\n",
    "    Time_Arrive_Destination = csv2calendar(i,10)\n",
    "    Time_Available = csv2calendar(i,11)\n",
    "    Time_Call_Cleared = csv2calendar(i,12)\n",
    "    #print(str(Time_Assigned) + \"\\n\" + str(Time_Enroute) + \"\\n\" + str(Time_ArrivedAtScene) + \"\\n\"+ str(Time_Depart_Scene) + \"\\n\"+ str(Time_Arrive_Destination) + \"\\n\"+ str(Time_Available) + \"\\n\"+ str(Time_Call_Cleared))\n",
    "\n",
    "    #callAssignedTime\n",
    "    if Time_Assigned == -1 or Time_Enroute == -1:\n",
    "        hist_setUpTime.append(0)\n",
    "    else: \n",
    "        #print(str(Time_Enroute) + \"-\" + str(Time_Assigned))\n",
    "        hist_setUpTime.append((Time_Enroute - Time_Assigned).seconds / 60)\n",
    "    #station2call\n",
    "    if Time_ArrivedAtScene == -1 or Time_Enroute == -1:\n",
    "        hist_station2call.append(0)\n",
    "    else:    \n",
    "        #print(Time_ArrivedAtScene - Time_Enroute.seconds / 60)\n",
    "        hist_station2call.append((Time_ArrivedAtScene - Time_Enroute).seconds / 60)\n",
    "    \n",
    "    #on_scene_time\n",
    "    if Time_Depart_Scene == -1 or Time_ArrivedAtScene == -1:\n",
    "        hist_onSceneTime.append(0)\n",
    "    else:    \n",
    "        hist_onSceneTime.append((Time_Depart_Scene - Time_ArrivedAtScene).seconds / 60)\n",
    "    \n",
    "    #call2hospital\n",
    "    if Time_Arrive_Destination == -1 or Time_Enroute == -1:\n",
    "        hist_call2hospital.append(0)\n",
    "    else:  \n",
    "        hist_call2hospital.append((Time_Arrive_Destination - Time_Depart_Scene).seconds / 60)\n",
    "        \n",
    "    #hospital2station\n",
    "    if Time_Available == -1 or Time_Arrive_Destination == -1:\n",
    "        hist_hospital2station.append(0)\n",
    "    else:  \n",
    "        hist_hospital2station.append((Time_Available - Time_Arrive_Destination).seconds / 60)    "
   ]
  },
  {
   "cell_type": "code",
   "execution_count": 45,
   "id": "358a00ba",
   "metadata": {},
   "outputs": [],
   "source": [
    "hist_setUpTime.insert(0,\"\")\n",
    "hist_station2call.insert(0,\"\")\n",
    "hist_onSceneTime.insert(0,\"\")\n",
    "hist_call2hospital.insert(0,\"\")\n",
    "hist_hospital2station.insert(0,\"\")"
   ]
  },
  {
   "cell_type": "code",
   "execution_count": 53,
   "id": "f2e2ae1a",
   "metadata": {},
   "outputs": [
    {
     "data": {
      "text/plain": [
       "<AxesSubplot:ylabel='Density'>"
      ]
     },
     "execution_count": 53,
     "metadata": {},
     "output_type": "execute_result"
    },
    {
     "data": {
      "image/png": "[encoded data removed]",
      "text/plain": [
       "<Figure size 432x288 with 1 Axes>"
      ]
     },
     "metadata": {
      "needs_background": "light"
     },
     "output_type": "display_data"
    }
   ],
   "source": [
    "import seaborn as sns\n",
    "sns.kdeplot(peakHours[1:,-1].astype(float) / 60)"
   ]
  },
  {
   "cell_type": "code",
   "execution_count": 46,
   "id": "455e3985",
   "metadata": {},
   "outputs": [
    {
     "data": {
      "text/html": [
       "<div>\n",
       "<style scoped>\n",
       "    .dataframe tbody tr th:only-of-type {\n",
       "        vertical-align: middle;\n",
       "    }\n",
       "\n",
       "    .dataframe tbody tr th {\n",
       "        vertical-align: top;\n",
       "    }\n",
       "\n",
       "    .dataframe thead th {\n",
       "        text-align: right;\n",
       "    }\n",
       "</style>\n",
       "<table border=\"1\" class=\"dataframe\">\n",
       "  <thead>\n",
       "    <tr style=\"text-align: right;\">\n",
       "      <th></th>\n",
       "      <th>0</th>\n",
       "      <th>1</th>\n",
       "      <th>2</th>\n",
       "      <th>3</th>\n",
       "      <th>4</th>\n",
       "      <th>5</th>\n",
       "      <th>6</th>\n",
       "      <th>7</th>\n",
       "      <th>8</th>\n",
       "      <th>9</th>\n",
       "      <th>...</th>\n",
       "      <th>12</th>\n",
       "      <th>13</th>\n",
       "      <th>14</th>\n",
       "      <th>15</th>\n",
       "      <th>16</th>\n",
       "      <th>callAssign2TimeEnroute</th>\n",
       "      <th>station2call</th>\n",
       "      <th>onSceneTime</th>\n",
       "      <th>call2HospitalTime</th>\n",
       "      <th>hospital2StationTime</th>\n",
       "    </tr>\n",
       "  </thead>\n",
       "  <tbody>\n",
       "    <tr>\n",
       "      <th>0</th>\n",
       "      <td></td>\n",
       "      <td>IncidentForeignKey</td>\n",
       "      <td>Radio_Name</td>\n",
       "      <td>Longitude_At_Assign_Time</td>\n",
       "      <td>Latitude_At_Assign_Time</td>\n",
       "      <td>Time_Assigned</td>\n",
       "      <td>Time_Enroute</td>\n",
       "      <td>Time_ArrivedAtScene</td>\n",
       "      <td>Time_Depart_Scene</td>\n",
       "      <td>Time_Arrive_Destination</td>\n",
       "      <td>...</td>\n",
       "      <td>Call_Disposition</td>\n",
       "      <td>Longitude_Of_Emergency</td>\n",
       "      <td>Latitude_Of_Emergency</td>\n",
       "      <td>transport_time</td>\n",
       "      <td>grid_time</td>\n",
       "      <td></td>\n",
       "      <td></td>\n",
       "      <td></td>\n",
       "      <td></td>\n",
       "      <td></td>\n",
       "    </tr>\n",
       "    <tr>\n",
       "      <th>1</th>\n",
       "      <td>1</td>\n",
       "      <td>23397873</td>\n",
       "      <td>M09</td>\n",
       "      <td>-97.972866</td>\n",
       "      <td>30.333385</td>\n",
       "      <td>2019-01-01 19:43:36.000</td>\n",
       "      <td>2019-01-01 19:45:27.030</td>\n",
       "      <td>2019-01-01 19:48:39.770</td>\n",
       "      <td>2019-01-01 20:19:00.870</td>\n",
       "      <td>2019-01-01 20:24:43.093</td>\n",
       "      <td>...</td>\n",
       "      <td>Baylor Scott &amp; White - Lakeway</td>\n",
       "      <td>-97.961</td>\n",
       "      <td>30.325</td>\n",
       "      <td>192</td>\n",
       "      <td>321.27507045599737</td>\n",
       "      <td>1.85</td>\n",
       "      <td>3.2</td>\n",
       "      <td>30.35</td>\n",
       "      <td>5.716667</td>\n",
       "      <td>26.483333</td>\n",
       "    </tr>\n",
       "    <tr>\n",
       "      <th>2</th>\n",
       "      <td>3</td>\n",
       "      <td>23408585</td>\n",
       "      <td>DM03</td>\n",
       "      <td>-97.751235</td>\n",
       "      <td>30.246114</td>\n",
       "      <td>2019-01-03 14:20:41.000</td>\n",
       "      <td>2019-01-03 14:20:54.110</td>\n",
       "      <td>2019-01-03 14:27:27.613</td>\n",
       "      <td></td>\n",
       "      <td></td>\n",
       "      <td>...</td>\n",
       "      <td>False Alarm Call</td>\n",
       "      <td>-97.777</td>\n",
       "      <td>30.251</td>\n",
       "      <td>393</td>\n",
       "      <td>344.47756370270764</td>\n",
       "      <td>0.216667</td>\n",
       "      <td>6.55</td>\n",
       "      <td>0</td>\n",
       "      <td>0</td>\n",
       "      <td>0</td>\n",
       "    </tr>\n",
       "    <tr>\n",
       "      <th>3</th>\n",
       "      <td>4</td>\n",
       "      <td>23408585</td>\n",
       "      <td>DMO02</td>\n",
       "      <td>-97.751966</td>\n",
       "      <td>30.245411</td>\n",
       "      <td>2019-01-03 14:20:58.117</td>\n",
       "      <td>2019-01-03 14:20:58.140</td>\n",
       "      <td>2019-01-03 14:26:59.083</td>\n",
       "      <td></td>\n",
       "      <td></td>\n",
       "      <td>...</td>\n",
       "      <td>Dual w/ other ATCEMS Unit</td>\n",
       "      <td>-97.777</td>\n",
       "      <td>30.251</td>\n",
       "      <td>360</td>\n",
       "      <td>344.47756370270764</td>\n",
       "      <td>0.0</td>\n",
       "      <td>6.016667</td>\n",
       "      <td>0</td>\n",
       "      <td>0</td>\n",
       "      <td>0</td>\n",
       "    </tr>\n",
       "    <tr>\n",
       "      <th>4</th>\n",
       "      <td>8</td>\n",
       "      <td>23439455</td>\n",
       "      <td>M10</td>\n",
       "      <td>-97.74259</td>\n",
       "      <td>30.418169</td>\n",
       "      <td>2019-01-07 17:28:48.000</td>\n",
       "      <td>2019-01-07 17:30:12.067</td>\n",
       "      <td>2019-01-07 17:47:53.030</td>\n",
       "      <td></td>\n",
       "      <td></td>\n",
       "      <td>...</td>\n",
       "      <td>False Alarm Call</td>\n",
       "      <td>-97.747</td>\n",
       "      <td>30.407</td>\n",
       "      <td>1060</td>\n",
       "      <td>354.7832311645281</td>\n",
       "      <td>1.4</td>\n",
       "      <td>17.683333</td>\n",
       "      <td>0</td>\n",
       "      <td>0</td>\n",
       "      <td>0</td>\n",
       "    </tr>\n",
       "    <tr>\n",
       "      <th>...</th>\n",
       "      <td>...</td>\n",
       "      <td>...</td>\n",
       "      <td>...</td>\n",
       "      <td>...</td>\n",
       "      <td>...</td>\n",
       "      <td>...</td>\n",
       "      <td>...</td>\n",
       "      <td>...</td>\n",
       "      <td>...</td>\n",
       "      <td>...</td>\n",
       "      <td>...</td>\n",
       "      <td>...</td>\n",
       "      <td>...</td>\n",
       "      <td>...</td>\n",
       "      <td>...</td>\n",
       "      <td>...</td>\n",
       "      <td>...</td>\n",
       "      <td>...</td>\n",
       "      <td>...</td>\n",
       "      <td>...</td>\n",
       "      <td>...</td>\n",
       "    </tr>\n",
       "    <tr>\n",
       "      <th>103950</th>\n",
       "      <td>279971</td>\n",
       "      <td>27262452</td>\n",
       "      <td>CHP11</td>\n",
       "      <td>-97.769524</td>\n",
       "      <td>30.231354</td>\n",
       "      <td>2020-06-29 14:57:29.090</td>\n",
       "      <td>2020-06-29 14:57:29.090</td>\n",
       "      <td>2020-06-29 15:33:16.447</td>\n",
       "      <td></td>\n",
       "      <td></td>\n",
       "      <td>...</td>\n",
       "      <td>Other</td>\n",
       "      <td>-97.654</td>\n",
       "      <td>30.379</td>\n",
       "      <td>2147</td>\n",
       "      <td>427.73106999831066</td>\n",
       "      <td>0.0</td>\n",
       "      <td>35.783333</td>\n",
       "      <td>0</td>\n",
       "      <td>0</td>\n",
       "      <td>0</td>\n",
       "    </tr>\n",
       "    <tr>\n",
       "      <th>103951</th>\n",
       "      <td>279972</td>\n",
       "      <td>27317236</td>\n",
       "      <td>CHP11</td>\n",
       "      <td>-97.774368</td>\n",
       "      <td>30.224984</td>\n",
       "      <td>2020-07-07 10:03:20.000</td>\n",
       "      <td>2020-07-07 10:03:55.657</td>\n",
       "      <td>2020-07-07 11:17:14.023</td>\n",
       "      <td></td>\n",
       "      <td></td>\n",
       "      <td>...</td>\n",
       "      <td>Other</td>\n",
       "      <td>-97.789</td>\n",
       "      <td>30.204</td>\n",
       "      <td>4398</td>\n",
       "      <td>337.8117335859198</td>\n",
       "      <td>0.583333</td>\n",
       "      <td>73.316667</td>\n",
       "      <td>0</td>\n",
       "      <td>0</td>\n",
       "      <td>0</td>\n",
       "    </tr>\n",
       "    <tr>\n",
       "      <th>103952</th>\n",
       "      <td>279973</td>\n",
       "      <td>27336505</td>\n",
       "      <td>CHP21</td>\n",
       "      <td>-97.734738</td>\n",
       "      <td>30.275694</td>\n",
       "      <td>2020-07-10 09:10:57.000</td>\n",
       "      <td>2020-07-10 09:11:46.533</td>\n",
       "      <td>2020-07-10 09:22:19.883</td>\n",
       "      <td></td>\n",
       "      <td></td>\n",
       "      <td>...</td>\n",
       "      <td>Other</td>\n",
       "      <td>-97.767</td>\n",
       "      <td>30.19</td>\n",
       "      <td>633</td>\n",
       "      <td>391.0035898770869</td>\n",
       "      <td>0.816667</td>\n",
       "      <td>10.55</td>\n",
       "      <td>0</td>\n",
       "      <td>0</td>\n",
       "      <td>0</td>\n",
       "    </tr>\n",
       "    <tr>\n",
       "      <th>103953</th>\n",
       "      <td>279974</td>\n",
       "      <td>27413735</td>\n",
       "      <td>CHP08</td>\n",
       "      <td>-97.770123</td>\n",
       "      <td>30.191624</td>\n",
       "      <td>2020-07-22 13:10:46.880</td>\n",
       "      <td>2020-07-22 13:10:46.880</td>\n",
       "      <td>2020-07-22 13:42:29.970</td>\n",
       "      <td></td>\n",
       "      <td></td>\n",
       "      <td>...</td>\n",
       "      <td>CHP Intervention(CHP use only)</td>\n",
       "      <td>-97.694</td>\n",
       "      <td>30.227</td>\n",
       "      <td>1903</td>\n",
       "      <td>391.2125183986271</td>\n",
       "      <td>0.0</td>\n",
       "      <td>31.716667</td>\n",
       "      <td>0</td>\n",
       "      <td>0</td>\n",
       "      <td>0</td>\n",
       "    </tr>\n",
       "    <tr>\n",
       "      <th>103954</th>\n",
       "      <td>279975</td>\n",
       "      <td>27445705</td>\n",
       "      <td>CHP11</td>\n",
       "      <td>-97.85297</td>\n",
       "      <td>30.227779</td>\n",
       "      <td>2020-07-27 11:58:31.933</td>\n",
       "      <td>2020-07-27 11:58:31.973</td>\n",
       "      <td>2020-07-27 12:52:03.167</td>\n",
       "      <td></td>\n",
       "      <td></td>\n",
       "      <td>...</td>\n",
       "      <td>No Patient</td>\n",
       "      <td>-97.756</td>\n",
       "      <td>30.179</td>\n",
       "      <td>3211</td>\n",
       "      <td>405.9430689107738</td>\n",
       "      <td>0.0</td>\n",
       "      <td>53.533333</td>\n",
       "      <td>0</td>\n",
       "      <td>0</td>\n",
       "      <td>0</td>\n",
       "    </tr>\n",
       "  </tbody>\n",
       "</table>\n",
       "<p>103955 rows × 22 columns</p>\n",
       "</div>"
      ],
      "text/plain": [
       "             0                   1           2                         3  \\\n",
       "0               IncidentForeignKey  Radio_Name  Longitude_At_Assign_Time   \n",
       "1            1            23397873         M09                -97.972866   \n",
       "2            3            23408585        DM03                -97.751235   \n",
       "3            4            23408585       DMO02                -97.751966   \n",
       "4            8            23439455         M10                 -97.74259   \n",
       "...        ...                 ...         ...                       ...   \n",
       "103950  279971            27262452       CHP11                -97.769524   \n",
       "103951  279972            27317236       CHP11                -97.774368   \n",
       "103952  279973            27336505       CHP21                -97.734738   \n",
       "103953  279974            27413735       CHP08                -97.770123   \n",
       "103954  279975            27445705       CHP11                 -97.85297   \n",
       "\n",
       "                              4                        5  \\\n",
       "0       Latitude_At_Assign_Time            Time_Assigned   \n",
       "1                     30.333385  2019-01-01 19:43:36.000   \n",
       "2                     30.246114  2019-01-03 14:20:41.000   \n",
       "3                     30.245411  2019-01-03 14:20:58.117   \n",
       "4                     30.418169  2019-01-07 17:28:48.000   \n",
       "...                         ...                      ...   \n",
       "103950                30.231354  2020-06-29 14:57:29.090   \n",
       "103951                30.224984  2020-07-07 10:03:20.000   \n",
       "103952                30.275694  2020-07-10 09:10:57.000   \n",
       "103953                30.191624  2020-07-22 13:10:46.880   \n",
       "103954                30.227779  2020-07-27 11:58:31.933   \n",
       "\n",
       "                              6                        7  \\\n",
       "0                  Time_Enroute      Time_ArrivedAtScene   \n",
       "1       2019-01-01 19:45:27.030  2019-01-01 19:48:39.770   \n",
       "2       2019-01-03 14:20:54.110  2019-01-03 14:27:27.613   \n",
       "3       2019-01-03 14:20:58.140  2019-01-03 14:26:59.083   \n",
       "4       2019-01-07 17:30:12.067  2019-01-07 17:47:53.030   \n",
       "...                         ...                      ...   \n",
       "103950  2020-06-29 14:57:29.090  2020-06-29 15:33:16.447   \n",
       "103951  2020-07-07 10:03:55.657  2020-07-07 11:17:14.023   \n",
       "103952  2020-07-10 09:11:46.533  2020-07-10 09:22:19.883   \n",
       "103953  2020-07-22 13:10:46.880  2020-07-22 13:42:29.970   \n",
       "103954  2020-07-27 11:58:31.973  2020-07-27 12:52:03.167   \n",
       "\n",
       "                              8                        9  ...  \\\n",
       "0             Time_Depart_Scene  Time_Arrive_Destination  ...   \n",
       "1       2019-01-01 20:19:00.870  2019-01-01 20:24:43.093  ...   \n",
       "2                                                         ...   \n",
       "3                                                         ...   \n",
       "4                                                         ...   \n",
       "...                         ...                      ...  ...   \n",
       "103950                                                    ...   \n",
       "103951                                                    ...   \n",
       "103952                                                    ...   \n",
       "103953                                                    ...   \n",
       "103954                                                    ...   \n",
       "\n",
       "                                    12                      13  \\\n",
       "0                     Call_Disposition  Longitude_Of_Emergency   \n",
       "1       Baylor Scott & White - Lakeway                 -97.961   \n",
       "2                     False Alarm Call                 -97.777   \n",
       "3            Dual w/ other ATCEMS Unit                 -97.777   \n",
       "4                     False Alarm Call                 -97.747   \n",
       "...                                ...                     ...   \n",
       "103950                           Other                 -97.654   \n",
       "103951                           Other                 -97.789   \n",
       "103952                           Other                 -97.767   \n",
       "103953  CHP Intervention(CHP use only)                 -97.694   \n",
       "103954                      No Patient                 -97.756   \n",
       "\n",
       "                           14              15                  16  \\\n",
       "0       Latitude_Of_Emergency  transport_time           grid_time   \n",
       "1                      30.325             192  321.27507045599737   \n",
       "2                      30.251             393  344.47756370270764   \n",
       "3                      30.251             360  344.47756370270764   \n",
       "4                      30.407            1060   354.7832311645281   \n",
       "...                       ...             ...                 ...   \n",
       "103950                 30.379            2147  427.73106999831066   \n",
       "103951                 30.204            4398   337.8117335859198   \n",
       "103952                  30.19             633   391.0035898770869   \n",
       "103953                 30.227            1903   391.2125183986271   \n",
       "103954                 30.179            3211   405.9430689107738   \n",
       "\n",
       "       callAssign2TimeEnroute station2call onSceneTime call2HospitalTime  \\\n",
       "0                                                                          \n",
       "1                        1.85          3.2       30.35          5.716667   \n",
       "2                    0.216667         6.55           0                 0   \n",
       "3                         0.0     6.016667           0                 0   \n",
       "4                         1.4    17.683333           0                 0   \n",
       "...                       ...          ...         ...               ...   \n",
       "103950                    0.0    35.783333           0                 0   \n",
       "103951               0.583333    73.316667           0                 0   \n",
       "103952               0.816667        10.55           0                 0   \n",
       "103953                    0.0    31.716667           0                 0   \n",
       "103954                    0.0    53.533333           0                 0   \n",
       "\n",
       "       hospital2StationTime  \n",
       "0                            \n",
       "1                 26.483333  \n",
       "2                         0  \n",
       "3                         0  \n",
       "4                         0  \n",
       "...                     ...  \n",
       "103950                    0  \n",
       "103951                    0  \n",
       "103952                    0  \n",
       "103953                    0  \n",
       "103954                    0  \n",
       "\n",
       "[103955 rows x 22 columns]"
      ]
     },
     "execution_count": 46,
     "metadata": {},
     "output_type": "execute_result"
    }
   ],
   "source": [
    "import math\n",
    "\n",
    "df = pd.DataFrame(peakHours)\n",
    "df[\"callAssign2TimeEnroute\"] = hist_setUpTime\n",
    "df[\"station2call\"] = hist_station2call\n",
    "df[\"onSceneTime\"] = hist_onSceneTime\n",
    "df[\"call2HospitalTime\"] = hist_call2hospital\n",
    "df[\"hospital2StationTime\"] = hist_hospital2station\n",
    "df.to_csv('peakHours.csv')\n",
    "df"
   ]
  },
  {
   "cell_type": "code",
   "execution_count": 47,
   "id": "30694033",
   "metadata": {},
   "outputs": [],
   "source": [
    "df.to_csv('../Input_Data/processed_data.csv')"
   ]
  },
  {
   "cell_type": "code",
   "execution_count": null,
   "id": "65f15622",
   "metadata": {},
   "outputs": [],
   "source": []
  },
  {
   "cell_type": "code",
   "execution_count": 48,
   "id": "ac55aac9",
   "metadata": {},
   "outputs": [
    {
     "name": "stdout",
     "output_type": "stream",
     "text": [
      "103955\n",
      "103955\n",
      "103955\n",
      "103955\n",
      "103955\n"
     ]
    }
   ],
   "source": [
    "print(len(hist_setUpTime))\n",
    "print(len(hist_station2call))\n",
    "print(len(hist_onSceneTime))\n",
    "print(len(hist_call2hospital))\n",
    "print(len(hist_hospital2station))"
   ]
  },
  {
   "cell_type": "code",
   "execution_count": 35,
   "id": "9e17e415",
   "metadata": {
    "scrolled": true
   },
   "outputs": [
    {
     "name": "stdout",
     "output_type": "stream",
     "text": [
      "hist_setUpTime: 1.0511059345899159\n",
      "hist_station2call: 7.114469834916365\n",
      "hist_onSceneTime: 22.01469758362178\n",
      "hist_call2hospital: 14.622384170781455\n",
      "hist_hospital2station: 26.888785358464983\n"
     ]
    },
    {
     "data": {
      "text/plain": [
       "71.6914428823745"
      ]
     },
     "execution_count": 35,
     "metadata": {},
     "output_type": "execute_result"
    }
   ],
   "source": [
    "print(\"hist_setUpTime: \" + str(np.mean(hist_setUpTime)))\n",
    "print(\"hist_station2call: \" + str(np.mean(hist_station2call)))\n",
    "print(\"hist_onSceneTime: \" + str(np.mean(hist_onSceneTime)))\n",
    "print(\"hist_call2hospital: \" + str(np.mean(hist_call2hospital)))\n",
    "print(\"hist_hospital2station: \" + str(np.mean(hist_hospital2station)))\n",
    "\n",
    "np.mean(hist_setUpTime) + np.mean(hist_station2call) + np.mean(hist_onSceneTime) + np.mean(hist_call2hospital) + np.mean(hist_hospital2station)"
   ]
  },
  {
   "cell_type": "markdown",
   "id": "6e121be2",
   "metadata": {},
   "source": [
    "## custom bins for xinyu \n",
    "### 3 periods before March 17 2020, between, and after Nay 1"
   ]
  },
  {
   "cell_type": "code",
   "execution_count": 64,
   "id": "7de7220f",
   "metadata": {},
   "outputs": [],
   "source": [
    "csv2calendar(i,6).month\n"
   ]
  },
  {
   "cell_type": "code",
   "execution_count": null,
   "id": "ea1dab56",
   "metadata": {},
   "outputs": [],
   "source": []
  },
  {
   "cell_type": "code",
   "execution_count": 74,
   "id": "0e310417",
   "metadata": {},
   "outputs": [],
   "source": [
    "period_setUpTime = [[],[],[]] #np.zeros([10,1])\n",
    "period_station2call = [[],[],[]]\n",
    "period_onSceneTime = [[],[],[]]\n",
    "period_call2hospital = [[],[],[]]\n",
    "period_hospital2station = [[],[],[]]\n",
    "\n",
    "for i in range(1,nsamples-1):\n",
    "    #print(i)\n",
    "    Time_Assigned = csv2calendar(i,6)\n",
    "    if Time_Assigned.year == 2019 or Time_Assigned.month < 3 :\n",
    "        period_setUpTime[0].append(hist_setUpTime[i])\n",
    "        period_station2call[0].append(hist_station2call[i])\n",
    "        period_onSceneTime[0].append(hist_onSceneTime[i])\n",
    "        period_call2hospital[0].append(hist_call2hospital[i])\n",
    "        period_hospital2station[0].append(hist_hospital2station[i])     \n",
    "    elif Time_Assigned.month <= 3 and Time_Assigned.day <= 16:\n",
    "        period_setUpTime[0].append(hist_setUpTime[i])\n",
    "        period_station2call[0].append(hist_station2call[i])\n",
    "        period_onSceneTime[0].append(hist_onSceneTime[i])\n",
    "        period_call2hospital[0].append(hist_call2hospital[i])\n",
    "        period_hospital2station[0].append(hist_hospital2station[i])    \n",
    "    elif Time_Assigned.month <= 5 and Time_Assigned.day <= 16:\n",
    "        period_setUpTime[1].append(hist_setUpTime[i])\n",
    "        period_station2call[1].append(hist_station2call[i])\n",
    "        period_onSceneTime[1].append(hist_onSceneTime[i])\n",
    "        period_call2hospital[1].append(hist_call2hospital[i])\n",
    "        period_hospital2station[1].append(hist_hospital2station[i])\n",
    "    else:\n",
    "        period_setUpTime[2].append(hist_setUpTime[i])\n",
    "        period_station2call[2].append(hist_station2call[i])\n",
    "        period_onSceneTime[2].append(hist_onSceneTime[i])\n",
    "        period_call2hospital[2].append(hist_call2hospital[i])\n",
    "        period_hospital2station[2].append(hist_hospital2station[i])\n",
    "    "
   ]
  },
  {
   "cell_type": "code",
   "execution_count": 75,
   "id": "a111b483",
   "metadata": {},
   "outputs": [
    {
     "name": "stdout",
     "output_type": "stream",
     "text": [
      "46805\n",
      "2458\n",
      "11695\n"
     ]
    }
   ],
   "source": [
    "print(len(period_onSceneTime[0]))\n",
    "print(len(period_onSceneTime[1]))\n",
    "print(len(period_onSceneTime[2]))"
   ]
  },
  {
   "cell_type": "code",
   "execution_count": 90,
   "id": "2b8d3441",
   "metadata": {},
   "outputs": [
    {
     "data": {
      "text/plain": [
       "(0.0, 20.0)"
      ]
     },
     "execution_count": 90,
     "metadata": {},
     "output_type": "execute_result"
    },
    {
     "data": {
      "image/png": "[encoded data removed]",
      "text/plain": [
       "<Figure size 432x288 with 1 Axes>"
      ]
     },
     "metadata": {
      "needs_background": "light"
     },
     "output_type": "display_data"
    }
   ],
   "source": [
    "sns.kdeplot(period_station2call[0], clip = [0,100])\n",
    "sns.kdeplot(period_station2call[1], clip = [0,100])\n",
    "sns.kdeplot(period_station2call[2], clip = [0,100])\n",
    "plt.legend([\"period 1\", \"period 2\", \"period 3\"])\n",
    "plt.xlim([0,20])"
   ]
  },
  {
   "cell_type": "code",
   "execution_count": 86,
   "id": "11860ce0",
   "metadata": {},
   "outputs": [
    {
     "data": {
      "text/plain": [
       "(0.0, 100.0)"
      ]
     },
     "execution_count": 86,
     "metadata": {},
     "output_type": "execute_result"
    },
    {
     "data": {
      "image/png": "[encoded data removed]",
      "text/plain": [
       "<Figure size 432x288 with 1 Axes>"
      ]
     },
     "metadata": {
      "needs_background": "light"
     },
     "output_type": "display_data"
    }
   ],
   "source": [
    "import seaborn as sns\n",
    "sns.kdeplot(period_onSceneTime[0], label = \"period 1\")\n",
    "sns.kdeplot(period_onSceneTime[1])\n",
    "sns.kdeplot(period_onSceneTime[2])\n",
    "plt.legend([\"period 1\", \"period 2\", \"period 3\"])\n",
    "plt.xlim([0,100])\n"
   ]
  },
  {
   "cell_type": "code",
   "execution_count": 78,
   "id": "1650a294",
   "metadata": {},
   "outputs": [
    {
     "data": {
      "text/plain": [
       "(array([1.02e+03, 4.00e+00, 5.00e+00, 7.00e+00, 2.00e+01, 4.70e+01,\n",
       "        7.90e+01, 1.19e+02, 1.22e+02, 1.85e+02, 2.36e+02, 2.62e+02,\n",
       "        2.88e+02, 3.45e+02, 4.38e+02, 3.97e+02, 4.48e+02, 4.11e+02,\n",
       "        4.97e+02, 4.67e+02, 4.87e+02, 4.64e+02, 3.97e+02, 4.10e+02,\n",
       "        3.98e+02, 3.66e+02, 3.62e+02, 3.11e+02, 3.10e+02, 2.67e+02,\n",
       "        2.63e+02, 2.14e+02, 2.34e+02, 1.74e+02, 1.58e+02, 1.69e+02,\n",
       "        1.39e+02, 1.11e+02, 1.10e+02, 8.50e+01, 7.40e+01, 7.70e+01,\n",
       "        7.60e+01, 7.10e+01, 6.50e+01, 5.00e+01, 5.90e+01, 4.10e+01,\n",
       "        3.60e+01, 2.60e+01, 2.00e+01, 2.80e+01, 2.40e+01, 2.00e+01,\n",
       "        1.70e+01, 1.40e+01, 1.60e+01, 1.20e+01, 1.10e+01, 8.00e+00,\n",
       "        1.10e+01, 1.20e+01, 9.00e+00, 1.10e+01, 1.30e+01, 6.00e+00,\n",
       "        4.00e+00, 0.00e+00, 3.00e+00, 8.00e+00, 3.00e+00, 2.00e+00,\n",
       "        3.00e+00, 4.00e+00, 1.00e+00, 3.00e+00, 3.00e+00, 2.00e+00,\n",
       "        3.00e+00, 1.00e+00, 0.00e+00, 1.00e+00, 1.00e+00, 0.00e+00,\n",
       "        1.00e+00, 2.00e+00, 1.00e+00, 0.00e+00, 0.00e+00, 1.00e+00,\n",
       "        0.00e+00, 0.00e+00, 1.00e+00, 1.00e+00, 0.00e+00, 1.00e+00,\n",
       "        1.00e+00, 0.00e+00, 0.00e+00, 0.00e+00]),\n",
       " array([  0.,   1.,   2.,   3.,   4.,   5.,   6.,   7.,   8.,   9.,  10.,\n",
       "         11.,  12.,  13.,  14.,  15.,  16.,  17.,  18.,  19.,  20.,  21.,\n",
       "         22.,  23.,  24.,  25.,  26.,  27.,  28.,  29.,  30.,  31.,  32.,\n",
       "         33.,  34.,  35.,  36.,  37.,  38.,  39.,  40.,  41.,  42.,  43.,\n",
       "         44.,  45.,  46.,  47.,  48.,  49.,  50.,  51.,  52.,  53.,  54.,\n",
       "         55.,  56.,  57.,  58.,  59.,  60.,  61.,  62.,  63.,  64.,  65.,\n",
       "         66.,  67.,  68.,  69.,  70.,  71.,  72.,  73.,  74.,  75.,  76.,\n",
       "         77.,  78.,  79.,  80.,  81.,  82.,  83.,  84.,  85.,  86.,  87.,\n",
       "         88.,  89.,  90.,  91.,  92.,  93.,  94.,  95.,  96.,  97.,  98.,\n",
       "         99., 100.]),\n",
       " <BarContainer object of 100 artists>)"
      ]
     },
     "execution_count": 78,
     "metadata": {},
     "output_type": "execute_result"
    },
    {
     "data": {
      "image/png": "[encoded data removed]",
      "text/plain": [
       "<Figure size 432x288 with 1 Axes>"
      ]
     },
     "metadata": {
      "needs_background": "light"
     },
     "output_type": "display_data"
    }
   ],
   "source": [
    "plt.hist(period_onSceneTime[0],range = (0,100), bins = 100,)\n",
    "plt.hist(period_onSceneTime[1],range = (0,100), bins = 100,)\n",
    "plt.hist(period_onSceneTime[2],range = (0,100), bins = 100,)"
   ]
  },
  {
   "cell_type": "markdown",
   "id": "ef152e68",
   "metadata": {},
   "source": [
    "#### Cleandata: (There are all these -1's)\n",
    "hist_setUpTime: 1.1232053985191675 <br>\n",
    "hist_station2call: 7.231526000244321 <br>\n",
    "hist_onSceneTime: 12.654019935873944 <br>\n",
    "hist_call2hospital: 7.752674986237172 <br>\n",
    "hist_hospital2station: 15.294203112382416 <br>\n",
    "44.05562943325702\n",
    "#### Peakhours: \n",
    "hist_setUpTime: 1.0511059345899159 <br>\n",
    "hist_station2call: 7.114469834916365 <br>\n",
    "hist_onSceneTime: 21.952787119211273 <br>\n",
    "hist_call2hospital: 14.560457301902373 <br>\n",
    "hist_hospital2station: 26.8268584895859 <br>\n",
    "71.50567868020583 <br>\n",
    "#### Peakhours -1 -> 0:\n",
    "hist_setUpTime: 1.0511059345899159 <br>\n",
    "hist_station2call: 7.114469834916365 <br>\n",
    "hist_onSceneTime: 22.01469758362178 <br>\n",
    "hist_call2hospital: 14.622384170781455 <br>\n",
    "hist_hospital2station: 26.888785358464983 <br>\n",
    "71.6914428823745"
   ]
  },
  {
   "cell_type": "markdown",
   "id": "9f10107a",
   "metadata": {},
   "source": [
    "## fitting lognormal service time"
   ]
  },
  {
   "cell_type": "code",
   "execution_count": 199,
   "id": "5b9151ff",
   "metadata": {},
   "outputs": [
    {
     "name": "stdout",
     "output_type": "stream",
     "text": [
      "1435.0333333333333\n"
     ]
    },
    {
     "data": {
      "text/plain": [
       "(array([2.000e+00, 6.000e+00, 1.500e+01, 4.700e+01, 8.500e+01, 1.760e+02,\n",
       "        3.090e+02, 4.830e+02, 6.410e+02, 8.350e+02, 1.072e+03, 1.359e+03,\n",
       "        1.606e+03, 1.804e+03, 2.068e+03, 2.345e+03, 2.363e+03, 2.575e+03,\n",
       "        2.686e+03, 2.775e+03, 2.626e+03, 2.684e+03, 2.598e+03, 2.501e+03,\n",
       "        2.383e+03, 2.366e+03, 2.159e+03, 1.974e+03, 1.836e+03, 1.637e+03,\n",
       "        1.569e+03, 1.427e+03, 1.346e+03, 1.202e+03, 1.101e+03, 8.910e+02,\n",
       "        8.500e+02, 7.460e+02, 7.150e+02, 6.250e+02, 5.520e+02, 5.110e+02,\n",
       "        4.530e+02, 3.590e+02, 3.400e+02, 2.900e+02, 2.560e+02, 2.280e+02,\n",
       "        1.690e+02, 1.760e+02, 1.590e+02, 1.250e+02, 9.800e+01, 8.800e+01,\n",
       "        9.000e+01, 7.900e+01, 6.100e+01, 6.900e+01, 4.100e+01, 3.100e+01,\n",
       "        3.600e+01, 3.700e+01, 2.800e+01, 2.000e+01, 2.900e+01, 2.300e+01,\n",
       "        2.300e+01, 1.400e+01, 2.000e+01, 7.000e+00, 1.200e+01, 7.000e+00,\n",
       "        3.000e+00, 1.000e+00, 5.000e+00, 4.000e+00, 4.000e+00, 1.000e+00,\n",
       "        2.000e+00, 2.000e+00, 2.000e+00, 0.000e+00, 3.000e+00, 3.000e+00,\n",
       "        2.000e+00, 4.000e+00, 0.000e+00, 0.000e+00, 0.000e+00, 1.000e+00,\n",
       "        0.000e+00, 0.000e+00, 0.000e+00, 1.000e+00, 0.000e+00, 0.000e+00,\n",
       "        0.000e+00, 0.000e+00, 0.000e+00, 2.000e+00]),\n",
       " array([ 6.04666917,  6.74726313,  7.44785709,  8.14845105,  8.84904501,\n",
       "         9.54963898, 10.25023294, 10.9508269 , 11.65142086, 12.35201482,\n",
       "        13.05260879, 13.75320275, 14.45379671, 15.15439067, 15.85498463,\n",
       "        16.5555786 , 17.25617256, 17.95676652, 18.65736048, 19.35795444,\n",
       "        20.05854841, 20.75914237, 21.45973633, 22.16033029, 22.86092425,\n",
       "        23.56151821, 24.26211218, 24.96270614, 25.6633001 , 26.36389406,\n",
       "        27.06448802, 27.76508199, 28.46567595, 29.16626991, 29.86686387,\n",
       "        30.56745783, 31.2680518 , 31.96864576, 32.66923972, 33.36983368,\n",
       "        34.07042764, 34.7710216 , 35.47161557, 36.17220953, 36.87280349,\n",
       "        37.57339745, 38.27399141, 38.97458538, 39.67517934, 40.3757733 ,\n",
       "        41.07636726, 41.77696122, 42.47755519, 43.17814915, 43.87874311,\n",
       "        44.57933707, 45.27993103, 45.980525  , 46.68111896, 47.38171292,\n",
       "        48.08230688, 48.78290084, 49.4834948 , 50.18408877, 50.88468273,\n",
       "        51.58527669, 52.28587065, 52.98646461, 53.68705858, 54.38765254,\n",
       "        55.0882465 , 55.78884046, 56.48943442, 57.19002839, 57.89062235,\n",
       "        58.59121631, 59.29181027, 59.99240423, 60.6929982 , 61.39359216,\n",
       "        62.09418612, 62.79478008, 63.49537404, 64.195968  , 64.89656197,\n",
       "        65.59715593, 66.29774989, 66.99834385, 67.69893781, 68.39953178,\n",
       "        69.10012574, 69.8007197 , 70.50131366, 71.20190762, 71.90250159,\n",
       "        72.60309555, 73.30368951, 74.00428347, 74.70487743, 75.40547139,\n",
       "        76.10606536]),\n",
       " <BarContainer object of 100 artists>)"
      ]
     },
     "execution_count": 199,
     "metadata": {},
     "output_type": "execute_result"
    },
    {
     "data": {
      "image/png": "[encoded data removed]",
      "text/plain": [
       "<Figure size 432x288 with 1 Axes>"
      ]
     },
     "metadata": {
      "needs_background": "light"
     },
     "output_type": "display_data"
    }
   ],
   "source": [
    "print(np.max(hist_onSceneTime))\n",
    "#plt.hist(hist_onSceneTime, range = (0,200), bins = 100)\n",
    "x = np.random.lognormal(3.0888,.3, len(hist_onSceneTime))\n",
    "plt.hist(hist_onSceneTime, range = (0,300), bins = 100, log = True)\n",
    "plt.hist(x, bins = 100, log = True) #,range = (0,300))"
   ]
  },
  {
   "cell_type": "code",
   "execution_count": 191,
   "id": "e94edaa1",
   "metadata": {},
   "outputs": [
    {
     "data": {
      "text/plain": [
       "240.21318124698533"
      ]
     },
     "execution_count": 191,
     "metadata": {},
     "output_type": "execute_result"
    }
   ],
   "source": [
    "np.var(hist_onSceneTime)"
   ]
  },
  {
   "cell_type": "code",
   "execution_count": null,
   "id": "11f30db0",
   "metadata": {},
   "outputs": [],
   "source": []
  }
 ],
 "metadata": {
  "kernelspec": {
   "display_name": "Python 3",
   "language": "python",
   "name": "python3"
  },
  "language_info": {
   "codemirror_mode": {
    "name": "ipython",
    "version": 3
   },
   "file_extension": ".py",
   "mimetype": "text/x-python",
   "name": "python",
   "nbconvert_exporter": "python",
   "pygments_lexer": "ipython3",
   "version": "3.7.3"
  }
 },
 "nbformat": 4,
 "nbformat_minor": 5
}

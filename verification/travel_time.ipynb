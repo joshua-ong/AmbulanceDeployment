{
 "cells": [
  {
   "cell_type": "markdown",
   "metadata": {},
   "source": [
    "Author: Joshua <br />\n",
    "Summary: Find travel time errors for not only the response time, but the serve time, hospital drive time and return time."
   ]
  },
  {
   "cell_type": "code",
   "execution_count": 1,
   "metadata": {},
   "outputs": [],
   "source": [
    "import csv\n",
    "import collections\n",
    "import pandas as pd\n",
    "import numpy as np\n",
    "import math\n",
    "import json"
   ]
  },
  {
   "cell_type": "markdown",
   "metadata": {},
   "source": [
    "## load the data"
   ]
  },
  {
   "cell_type": "code",
   "execution_count": 60,
   "metadata": {},
   "outputs": [],
   "source": [
    "hosp = np.genfromtxt('Input_Data/calls_w_StnHospTimes.csv', delimiter=\",\", dtype=str)\n",
    "#f_wkc = np.genfromtxt('Input_Data/Full_WeekdayCalls.csv', delimiter=\",\", dtype=str)\n",
    "#wkc = np.genfromtxt('Input_Data/WeekdayCalls.csv', delimiter=\",\", dtype=str)\n",
    "a_i = np.genfromtxt('Input_Data/austin_incidents.csv', delimiter=\",\", dtype=str)\n",
    "#a_test_call = np.genfromtxt('Input_Data/austin_test_calls.csv', delimiter=\",\", dtype=str)\n",
    "clean = np.genfromtxt('Input_Data/cleaned_data.csv', delimiter=\",\", dtype=str) #210k x 17\n",
    "backend = np.genfromtxt('Input_Data/backend_calls.csv', delimiter=\",\", dtype=str) #30k"
   ]
  },
  {
   "cell_type": "code",
   "execution_count": 59,
   "metadata": {},
   "outputs": [
    {
     "data": {
      "text/plain": [
       "array(['', 'IncidentForeignKey', 'Radio_Name', 'Longitude_At_Assign_Time',\n",
       "       'Latitude_At_Assign_Time', 'Time_Assigned', 'Time_Enroute',\n",
       "       'Time_ArrivedAtScene', 'Time_Depart_Scene',\n",
       "       'Time_Arrive_Destination', 'Time_Available', 'Time_Call_Cleared',\n",
       "       'Call_Disposition', 'Longitude_Of_Emergency',\n",
       "       'Latitude_Of_Emergency', 'transport_time', 'grid_time'],\n",
       "      dtype='<U30')"
      ]
     },
     "execution_count": 59,
     "metadata": {},
     "output_type": "execute_result"
    }
   ],
   "source": [
    "clean[0]"
   ]
  },
  {
   "cell_type": "code",
   "execution_count": 61,
   "metadata": {},
   "outputs": [
    {
     "data": {
      "text/plain": [
       "array(['', 'Unnamed: 0', 'IncidentForeignKey', 'Radio_Name',\n",
       "       'Longitude_At_Assign_Time', 'Latitude_At_Assign_Time',\n",
       "       'Time_Assigned', 'Time_Enroute', 'Time_ArrivedAtScene',\n",
       "       'Time_Depart_Scene', 'Time_Arrive_Destination', 'Time_Available',\n",
       "       'Time_Call_Cleared', 'Call_Disposition', 'Longitude_Of_Emergency',\n",
       "       'Latitude_Of_Emergency', 'transport_time', 'grid_time',\n",
       "       'Time_Arrived', 'timedelta', 'arrival_seconds',\n",
       "       'interarrival_seconds', 'neighborhood', 'dow'], dtype='<U30')"
      ]
     },
     "execution_count": 61,
     "metadata": {},
     "output_type": "execute_result"
    }
   ],
   "source": [
    "backend[0]"
   ]
  },
  {
   "cell_type": "code",
   "execution_count": 68,
   "metadata": {},
   "outputs": [
    {
     "data": {
      "text/plain": [
       "array(['neighborhood', '83', '38', '129', '107', '113', '51', '76', '67',\n",
       "       '52'], dtype='<U30')"
      ]
     },
     "execution_count": 68,
     "metadata": {},
     "output_type": "execute_result"
    }
   ],
   "source": [
    "backend[0:10,-2]"
   ]
  },
  {
   "cell_type": "code",
   "execution_count": 70,
   "metadata": {},
   "outputs": [
    {
     "data": {
      "text/plain": [
       "array(['neighborhood', '83', '38', '129', '107', '113', '51', '76', '67',\n",
       "       '52', '67', '67', '82', '98', '113', '98', '67', '93', '66', '66',\n",
       "       '113', '9', '83', '66', '97', '127', '52', '113', '52', '82', '99',\n",
       "       '128', '66', '82', '50', '113', '68', '98', '98', '52', '98',\n",
       "       '128', '67', '113', '51', '99', '124', '144', '69', '84', '100',\n",
       "       '113', '69', '82', '67', '113', '97', '108', '82', '98', '98',\n",
       "       '114', '67', '98', '51', '98', '113', '36', '66', '52', '97', '98',\n",
       "       '67', '82', '126', '83', '98', '113', '98', '98', '52', '114',\n",
       "       '98', '115', '98', '50', '82', '50', '66', '128', '63', '67', '98',\n",
       "       '66', '66', '99', '142', '66', '98', '113', '68', '82', '67', '66',\n",
       "       '82', '67', '128', '52', '128', '113', '129', '54', '99', '128',\n",
       "       '113', '52', '98', '99', '52', '113', '98', '113', '82', '108',\n",
       "       '67', '109', '143', '97', '82', '141', '68', '83', '80', '131',\n",
       "       '66', '99', '36', '113', '67', '68', '67', '67', '93', '82', '82',\n",
       "       '51', '67', '82', '93', '93', '82', '127', '51', '36', '83', '128',\n",
       "       '98', '65', '128', '98', '98', '82', '98', '51', '66', '82', '129',\n",
       "       '68', '85', '82', '85', '36', '98', '98', '110', '113', '97',\n",
       "       '113', '114', '98', '80', '129', '83', '156', '98', '143', '97',\n",
       "       '112', '50', '125', '83', '70', '70', '128', '141', '37', '97',\n",
       "       '113', '82', '52'], dtype='<U30')"
      ]
     },
     "execution_count": 70,
     "metadata": {},
     "output_type": "execute_result"
    }
   ],
   "source": [
    "backend[0:200,-2]"
   ]
  },
  {
   "cell_type": "code",
   "execution_count": 4,
   "metadata": {},
   "outputs": [],
   "source": [
    "#make sure the hospital times are the same at different times.\n",
    "# hosp = np.genfromtxt('Input_Data/calls_w_StnHospTimes.csv', delimiter=\",\", dtype=str)\n",
    "# hosp\n",
    "# hosp.shape #(210108, 67)\n",
    "# hosp[:,3] #neighborhood\n",
    "# hosp[:,5] #\n",
    "# where67 = np.where(hosp[:,3] == \"67\")\n",
    "# hosp[where67[0],8]"
   ]
  },
  {
   "cell_type": "markdown",
   "metadata": {},
   "source": [
    "## calculate times with calendar difference"
   ]
  },
  {
   "cell_type": "code",
   "execution_count": 5,
   "metadata": {},
   "outputs": [
    {
     "name": "stdout",
     "output_type": "stream",
     "text": [
      "Time_Assigned\n"
     ]
    },
    {
     "data": {
      "text/plain": [
       "'grid_time'"
      ]
     },
     "execution_count": 5,
     "metadata": {},
     "output_type": "execute_result"
    }
   ],
   "source": [
    "print(backend[0,6]) #Time_Assigned\n",
    "backend[0,7] #Time_Enroute\n",
    "backend[0,8] #Time_ArrivedAtScene\n",
    "backend[0,9] #Time_Depart_Scene\n",
    "backend[0,10] #Time_Arrive_Destination\n",
    "backend[0,11] #Time_Available\n",
    "backend[0,12] #Time_Call_Cleared\n",
    "backend[0,16] #transport_time\n",
    "backend[0,17] #grid_time"
   ]
  },
  {
   "cell_type": "code",
   "execution_count": 17,
   "metadata": {},
   "outputs": [
    {
     "name": "stdout",
     "output_type": "stream",
     "text": [
      "Time_Assigned\n",
      "Time_Enroute\n",
      "Time_ArrivedAtScene\n",
      "Time_Depart_Scene\n",
      "Time_Arrive_Destination\n",
      "Time_Available\n",
      "Time_Call_Cleared\n",
      "grid_time\n"
     ]
    }
   ],
   "source": [
    "print(clean[0,5]) #Time_Assigned\n",
    "print(clean[0,6]) #Time_Enroute\n",
    "print(clean[0,7]) #Time_ArrivedAtScene\n",
    "print(clean[0,8]) #Time_Depart_Scene\n",
    "print(clean[0,9]) #Time_Arrive_Destination\n",
    "print(clean[0,10]) #Time_Available\n",
    "print(clean[0,11]) #Time_Call_Cleared\n",
    "print(clean[0,16]) #grid_time\n",
    "\n"
   ]
  },
  {
   "cell_type": "markdown",
   "metadata": {},
   "source": [
    "####  small example"
   ]
  },
  {
   "cell_type": "code",
   "execution_count": 19,
   "metadata": {},
   "outputs": [
    {
     "name": "stdout",
     "output_type": "stream",
     "text": [
      "2020-04-23 09:08:06.787\n"
     ]
    },
    {
     "data": {
      "text/plain": [
       "datetime.datetime(2019, 1, 23, 18, 8, 22)"
      ]
     },
     "execution_count": 19,
     "metadata": {},
     "output_type": "execute_result"
    }
   ],
   "source": [
    "print(backend[128,7])\n",
    "a = csv2calendar(128,7)\n",
    "a"
   ]
  },
  {
   "cell_type": "code",
   "execution_count": 20,
   "metadata": {},
   "outputs": [
    {
     "name": "stdout",
     "output_type": "stream",
     "text": [
      "2020-04-23 10:37:18.267\n"
     ]
    },
    {
     "data": {
      "text/plain": [
       "datetime.datetime(2019, 1, 23, 19, 20, 41)"
      ]
     },
     "execution_count": 20,
     "metadata": {},
     "output_type": "execute_result"
    }
   ],
   "source": [
    "print(backend[128,12])\n",
    "b = csv2calendar(128,12)\n",
    "b"
   ]
  },
  {
   "cell_type": "code",
   "execution_count": 15,
   "metadata": {},
   "outputs": [
    {
     "data": {
      "text/plain": [
       "89.2"
      ]
     },
     "execution_count": 15,
     "metadata": {},
     "output_type": "execute_result"
    }
   ],
   "source": [
    "(b-a).seconds / 60"
   ]
  },
  {
   "cell_type": "code",
   "execution_count": 21,
   "metadata": {},
   "outputs": [
    {
     "name": "stdout",
     "output_type": "stream",
     "text": [
      "Time_Assigned\n",
      "Time_Enroute\n",
      "Time_ArrivedAtScene\n",
      "Time_Depart_Scene\n",
      "Time_Arrive_Destination\n",
      "Time_Available\n",
      "Time_Call_Cleared\n",
      "grid_time\n"
     ]
    }
   ],
   "source": [
    "print(clean[0,5]) #Time_Assigned\n",
    "print(clean[0,6]) #Time_Enroute\n",
    "print(clean[0,7]) #Time_ArrivedAtScene\n",
    "print(clean[0,8]) #Time_Depart_Scene\n",
    "print(clean[0,9]) #Time_Arrive_Destination\n",
    "print(clean[0,10]) #Time_Available\n",
    "print(clean[0,11]) #Time_Call_Cleared\n",
    "print(clean[0,16]) #grid_time"
   ]
  },
  {
   "cell_type": "code",
   "execution_count": 22,
   "metadata": {},
   "outputs": [
    {
     "data": {
      "text/plain": [
       "datetime.datetime(2019, 1, 14, 23, 44, 39)"
      ]
     },
     "execution_count": 22,
     "metadata": {},
     "output_type": "execute_result"
    }
   ],
   "source": [
    "Time_Enroute"
   ]
  },
  {
   "cell_type": "code",
   "execution_count": 23,
   "metadata": {},
   "outputs": [],
   "source": [
    "i = 1\n",
    "Time_Assigned = csv2calendar(i,6)\n",
    "Time_Enroute = csv2calendar(i,7)\n",
    "Time_ArrivedAtScene = csv2calendar(i,8)\n",
    "Time_Depart_Scene = csv2calendar(i,9)\n",
    "Time_Arrive_Destination = csv2calendar(i,10)\n",
    "Time_Available = csv2calendar(i,11)\n",
    "Time_Call_Cleared = csv2calendar(i,12)\n",
    "if Time_ArrivedAtScene == -1 or Time_Enroute == -1:\n",
    "        hist_station2call[i] = -1\n",
    "else:    \n",
    "    #print(Time_ArrivedAtScene - Time_Enroute.seconds / 60)\n",
    "    hist_station2call.append((Time_ArrivedAtScene - Time_Enroute).seconds / 60)"
   ]
  },
  {
   "cell_type": "code",
   "execution_count": 35,
   "metadata": {},
   "outputs": [],
   "source": [
    "import math\n",
    "from datetime import *; from dateutil.relativedelta import *\n",
    "import calendar\n",
    "def csv2calendar(index,type_event):\n",
    "    time1 = clean[index,type_event-1]  #note backend and clean data sets are off by one index\n",
    "    #time1 = backend[index,type_event]\n",
    "    if time1 == \"\":\n",
    "        return -1\n",
    "    [ymd,hmm] = time1.split()\n",
    "    [y,m,d] = ymd.split('-')\n",
    "    [h,minu,sec] = hmm.split(\":\")\n",
    "    y = int(y)\n",
    "    m = int(m)\n",
    "    d = int(d)\n",
    "    h = int(h)\n",
    "    minu = int(minu)\n",
    "    sec = math.floor(float(sec))\n",
    "    timearrive = datetime(y, m, d, h, minu, sec)\n",
    "    return timearrive"
   ]
  },
  {
   "cell_type": "code",
   "execution_count": 36,
   "metadata": {},
   "outputs": [],
   "source": [
    "nsamples = 100\n",
    "hist_setUpTime = [] #np.zeros([10,1])\n",
    "hist_station2call = []\n",
    "hist_onSceneTime = []\n",
    "hist_call2hospital = []\n",
    "hist_hospital2station = []\n",
    "end = np.zeros([10,1])\n",
    "\n",
    "for i in range(1,nsamples):\n",
    "    Time_Assigned = csv2calendar(i,6)\n",
    "    Time_Enroute = csv2calendar(i,7)\n",
    "    Time_ArrivedAtScene = csv2calendar(i,8)\n",
    "    Time_Depart_Scene = csv2calendar(i,9)\n",
    "    Time_Arrive_Destination = csv2calendar(i,10)\n",
    "    Time_Available = csv2calendar(i,11)\n",
    "    Time_Call_Cleared = csv2calendar(i,12)\n",
    "    #print(str(Time_Assigned) + \"\\n\" + str(Time_Enroute) + \"\\n\" + str(Time_ArrivedAtScene) + \"\\n\"+ str(Time_Depart_Scene) + \"\\n\"+ str(Time_Arrive_Destination) + \"\\n\"+ str(Time_Available) + \"\\n\"+ str(Time_Call_Cleared))\n",
    "\n",
    "    #callAssignedTime\n",
    "    if Time_Assigned == -1 or Time_Enroute == -1:\n",
    "        hist_setUpTime.append(-1)\n",
    "    else: \n",
    "        #print(str(Time_Enroute) + \"-\" + str(Time_Assigned))\n",
    "        hist_setUpTime.append((Time_Enroute - Time_Assigned).seconds / 60)\n",
    "    #station2call\n",
    "    if Time_ArrivedAtScene == -1 or Time_Enroute == -1:\n",
    "        hist_station2call[i] = -1\n",
    "    else:    \n",
    "        #print(Time_ArrivedAtScene - Time_Enroute.seconds / 60)\n",
    "        hist_station2call.append((Time_ArrivedAtScene - Time_Enroute).seconds / 60)\n",
    "    \n",
    "    \n",
    "    #on_scene_time\n",
    "    if Time_Depart_Scene == -1 or Time_ArrivedAtScene == -1:\n",
    "        hist_onSceneTime.append(-1)\n",
    "    else:    \n",
    "        hist_onSceneTime.append((Time_Depart_Scene - Time_ArrivedAtScene).seconds / 60)\n",
    "    \n",
    "    #call2hospital\n",
    "    if Time_Arrive_Destination == -1 or Time_Enroute == -1:\n",
    "        hist_call2hospital.append(-1)\n",
    "    else:  \n",
    "        hist_call2hospital.append((Time_Arrive_Destination - Time_Depart_Scene).seconds / 60)\n",
    "        \n",
    "    #hospital2station\n",
    "    if Time_ArrivedAtScene == -1 or Time_Depart_Scene == -1:\n",
    "        hist_hospital2station.append(-1)\n",
    "    else:  \n",
    "        hist_hospital2station.append((Time_Available - Time_Arrive_Destination).seconds / 60)    "
   ]
  },
  {
   "cell_type": "code",
   "execution_count": 30,
   "metadata": {},
   "outputs": [
    {
     "name": "stdout",
     "output_type": "stream",
     "text": [
      "1.9000000000000001\n",
      "6.792592592592594\n",
      "12.209259259259259\n",
      "9.003703703703703\n",
      "10.562962962962963\n"
     ]
    },
    {
     "data": {
      "text/plain": [
       "40.46851851851852"
      ]
     },
     "execution_count": 30,
     "metadata": {},
     "output_type": "execute_result"
    }
   ],
   "source": [
    "print(np.mean(hist_setUpTime))\n",
    "print(np.mean(hist_station2call))\n",
    "print(np.mean(hist_onSceneTime))\n",
    "print(np.mean(hist_call2hospital))\n",
    "print(np.mean(hist_hospital2station))\n",
    "\n",
    "np.mean(hist_setUpTime) + np.mean(hist_station2call) + np.mean(hist_onSceneTime) + np.mean(hist_call2hospital) + np.mean(hist_hospital2station)"
   ]
  },
  {
   "cell_type": "markdown",
   "metadata": {},
   "source": [
    "## find variance w.r.t. \n",
    "### * time dow, hour, universal, \n",
    "### * spatial number grids away, every path, universal"
   ]
  },
  {
   "cell_type": "code",
   "execution_count": 76,
   "metadata": {},
   "outputs": [
    {
     "name": "stdout",
     "output_type": "stream",
     "text": [
      "transport_time\n",
      "[ -2.21666667  -7.56666667  -0.1         13.31666667   0.33333333\n",
      "   0.58333333  -2.86666667  10.2          6.68333333   5.2\n",
      "  -1.95        -1.           0.81666667  -1.18333333  -2.3\n",
      "   1.36666667 -10.15         0.28333333  -3.          17.45\n",
      "  -8.21666667  -2.93333333   5.4         -3.28333333   1.23333333\n",
      "   0.08333333   2.31666667   3.18333333  -2.58333333  -1.25\n",
      "   3.93333333 -38.08333333 -14.91666667  -1.43333333  -4.6\n",
      "   3.88333333   6.65         0.11666667  -2.81666667   0.21666667\n",
      "  -2.03333333   0.05        -8.           2.9         16.41666667\n",
      "  -7.56666667  -5.31666667  -3.2         -0.58333333  -4.78333333\n",
      "   3.9         -4.3         -0.9          2.6          4.85\n",
      "  -1.61666667  -8.88333333   5.31666667  -2.7         -8.11666667\n",
      "   0.93333333   2.63333333  -3.           2.75         1.71666667\n",
      "   2.63333333  -3.35        -1.08333333   5.76666667 -27.05\n",
      "   6.86666667  -1.13333333  -1.51666667  -7.45         5.95\n",
      "  -9.03333333  -2.31666667  -0.63333333  -2.71666667 -10.86666667\n",
      "   0.15        -1.08333333   5.61666667  -2.63333333  -2.25\n",
      "  -1.          -4.05        -0.3         -0.66666667   3.8\n",
      "  -9.55        -0.86666667  -3.28333333   0.48333333   0.16666667\n",
      "  -3.98333333  -0.2          0.45        -0.76666667]\n",
      "[3.2, 6.55, 6.016666666666667, 17.683333333333334, 8.516666666666667, 7.416666666666667, 8.916666666666666, 12.416666666666666, 8.65, 10.5]\n",
      "[ 5.41666667 14.11666667  6.11666667  4.36666667  8.18333333  6.83333333\n",
      " 11.78333333  2.21666667  1.96666667]\n"
     ]
    }
   ],
   "source": [
    "#sanit check\n",
    "print(backend[0,16])\n",
    "print(hist_station2call[0:100] - backend[1:100,16].astype(float) / 60)\n",
    "print(hist_station2call[0:10])\n",
    "print(backend[1:10,16].astype(float) / 60) #transport_time"
   ]
  },
  {
   "cell_type": "code",
   "execution_count": 74,
   "metadata": {},
   "outputs": [
    {
     "data": {
      "text/plain": [
       "'transport_time'"
      ]
     },
     "execution_count": 74,
     "metadata": {},
     "output_type": "execute_result"
    }
   ],
   "source": [
    "clean[0,15]"
   ]
  },
  {
   "cell_type": "code",
   "execution_count": 75,
   "metadata": {},
   "outputs": [
    {
     "name": "stdout",
     "output_type": "stream",
     "text": [
      "[0.         0.         0.01666667 0.01666667 0.01666667 0.01666667\n",
      " 0.01666667 0.         0.         0.01666667]\n",
      "[3.2, 6.55, 6.016666666666667, 17.683333333333334, 8.516666666666667, 7.416666666666667, 8.916666666666666, 12.416666666666666, 8.65, 10.5]\n",
      "[ 3.2         6.55        6.         17.66666667  8.5         7.4\n",
      "  8.9        12.41666667  8.65      ]\n"
     ]
    }
   ],
   "source": [
    "print(hist_station2call[0:10] - clean[1:11,15].astype(float) / 60)\n",
    "print(hist_station2call[0:10])\n",
    "print(clean[1:10,15].astype(float) / 60) #transport_time"
   ]
  },
  {
   "cell_type": "code",
   "execution_count": null,
   "metadata": {},
   "outputs": [],
   "source": []
  }
 ],
 "metadata": {
  "kernelspec": {
   "display_name": "Python 3",
   "language": "python",
   "name": "python3"
  },
  "language_info": {
   "codemirror_mode": {
    "name": "ipython",
    "version": 3
   },
   "file_extension": ".py",
   "mimetype": "text/x-python",
   "name": "python",
   "nbconvert_exporter": "python",
   "pygments_lexer": "ipython3",
   "version": "3.8.5"
  }
 },
 "nbformat": 4,
 "nbformat_minor": 5
}

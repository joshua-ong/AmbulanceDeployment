{
 "cells": [
  {
   "cell_type": "markdown",
   "metadata": {},
   "source": [
    "## Station Preparation"
   ]
  },
  {
   "cell_type": "code",
   "execution_count": 1,
   "metadata": {},
   "outputs": [],
   "source": [
    "import requests\n",
    "import math\n",
    "import pprint\n",
    "import time\n",
    "import numpy as np\n",
    "import pandas as pd\n",
    "import urllib"
   ]
  },
  {
   "cell_type": "code",
   "execution_count": 4,
   "metadata": {},
   "outputs": [
    {
     "name": "stdout",
     "output_type": "stream",
     "text": [
      "(51, 30)\n",
      "(44, 30)\n",
      "[[-97.7217247499999, 30.25948737],\n",
      " [-97.8602694099999, 30.15636358],\n",
      " [-97.7503950699999, 30.24662518],\n",
      " [-97.6615917999999, 30.32339149],\n",
      " [-97.7482999999999, 30.265327],\n",
      " [-97.7259999999999, 30.326725],\n",
      " [-97.9295778989999, 30.39848581],\n",
      " [-97.7678132899999, 30.22977355],\n",
      " [-97.8054399999999, 30.206495],\n",
      " [-97.7343149999999, 30.274637],\n",
      " [-97.6842324899999, 30.27824902],\n",
      " [-97.7264146799999, 30.32672533],\n",
      " [-97.7394194699999, 30.26582831],\n",
      " [-97.7231080899999, 30.37236405],\n",
      " [-97.7588594799999, 30.33455506],\n",
      " [-97.9348469179999, 30.302810828],\n",
      " [-97.7427673899999, 30.41819953],\n",
      " [-97.8535901899999, 30.22782184],\n",
      " [-97.7132197299999, 30.2292149],\n",
      " [-97.6784999999999, 30.35271081],\n",
      " [-97.6895245299999, 30.32525961],\n",
      " [-97.7936091899999, 30.17470861],\n",
      " [-97.8368195599999, 30.40433212],\n",
      " [-97.7725225199999, 30.27734164],\n",
      " [-97.6923538799999, 30.38399792],\n",
      " [-97.8018875799999, 30.44651026],\n",
      " [-97.8239838099999, 30.13933909],\n",
      " [-97.8200249299999, 30.27945028],\n",
      " [-98.0006876299999, 30.43210206],\n",
      " [-97.5612131399999, 30.34180422],\n",
      " [-97.7443559999999, 30.0997659999999],\n",
      " [-97.9225452899999, 30.49262833],\n",
      " [-98.066519, 30.3555008],\n",
      " [-97.9685019359999, 30.346232091],\n",
      " [-97.7424767099999, 30.18690915],\n",
      " [-97.6532561099999, 30.39952596],\n",
      " [-97.6557479799999, 30.21606195],\n",
      " [-97.8975703899999, 30.18291397],\n",
      " [-97.9197071299999, 30.23950007],\n",
      " [-97.7092092399999, 30.29974433],\n",
      " [-97.7657451699999, 30.48172221],\n",
      " [-97.6131239699999, 30.3470128],\n",
      " [-97.6436239999999, 30.157544],\n",
      " [-97.5826048799999, 30.24623636]]\n"
     ]
    }
   ],
   "source": [
    "# Read in data\n",
    "ems_data = pd.read_excel(\"ems_facilities_2020Aug12.xlsx\")\n",
    "print(ems_data.shape)\n",
    "\n",
    "# Filter data\n",
    "facility_type = ['Medic Station', 'Demand Medic Station']\n",
    "ems_data = ems_data[ems_data['FACILITY_TYPE'].isin(facility_type)]\n",
    "print(ems_data.shape)\n",
    "\n",
    "# Get coords\n",
    "ems_longitudes = ems_data['LONGITUDE']\n",
    "ems_latitudes = ems_data['LATITUDE']\n",
    "\n",
    "ems_coords = [list(c) for c in zip(ems_longitudes, ems_latitudes)]\n",
    "pprint.pprint(ems_coords)"
   ]
  },
  {
   "cell_type": "code",
   "execution_count": 5,
   "metadata": {},
   "outputs": [
    {
     "name": "stdout",
     "output_type": "stream",
     "text": [
      "   station_name  longitude   latitude\n",
      "0     Demand 01 -97.721725  30.259487\n",
      "1   Demand 02   -97.860269  30.156364\n",
      "2   Demand 03   -97.750395  30.246625\n",
      "3    Demand 04  -97.661592  30.323391\n",
      "4     Demand 05 -97.748300  30.265327\n",
      "5     Demand 06 -97.726000  30.326725\n",
      "6     Demand 07 -97.929578  30.398486\n",
      "7    Station 01 -97.767813  30.229774\n",
      "8    Station 02 -97.805440  30.206495\n",
      "9    Station 03 -97.734315  30.274637\n",
      "10   Station 04 -97.684232  30.278249\n",
      "11   Station 05 -97.726415  30.326725\n",
      "12   Station 06 -97.739419  30.265828\n",
      "13   Station 07 -97.723108  30.372364\n",
      "14   Station 08 -97.758859  30.334555\n",
      "15   Station 09 -97.934847  30.302811\n",
      "16   Station 10 -97.742767  30.418200\n",
      "17   Station 11 -97.853590  30.227822\n",
      "18   Station 12 -97.713220  30.229215\n",
      "19   Station 13 -97.678500  30.352711\n",
      "20   Station 14 -97.689525  30.325260\n",
      "21   Station 15 -97.793609  30.174709\n",
      "22   Station 16 -97.836820  30.404332\n",
      "23   Station 17 -97.772523  30.277342\n",
      "24   Station 18 -97.692354  30.383998\n",
      "25   Station 19 -97.801888  30.446510\n",
      "26   Station 20 -97.823984  30.139339\n",
      "27   Station 21 -97.820025  30.279450\n",
      "28   Station 22 -98.000688  30.432102\n",
      "29   Station 23 -97.561213  30.341804\n",
      "30   Station 24 -97.744356  30.099766\n",
      "31   Station 25 -97.922545  30.492628\n",
      "32   Station 26 -98.066519  30.355501\n",
      "33   Station 27 -97.968502  30.346232\n",
      "34   Station 28 -97.742477  30.186909\n",
      "35   Station 29 -97.653256  30.399526\n",
      "36   Station 30 -97.655748  30.216062\n",
      "37   Station 31 -97.897570  30.182914\n",
      "38   Station 32 -97.919707  30.239500\n",
      "39   Station 33 -97.709209  30.299744\n",
      "40   Station 34 -97.765745  30.481722\n",
      "41   Station 35 -97.613124  30.347013\n",
      "42   Station 36 -97.643624  30.157544\n",
      "43   Station 37 -97.582605  30.246236\n"
     ]
    }
   ],
   "source": [
    "# Write to csv\n",
    "dataset = pd.DataFrame({'station_name': ems_data['FACILITY_NAME'], \"longitude\": ems_data['LONGITUDE'], \"latitude\": ems_data['LATITUDE']})\n",
    "print(dataset)\n",
    "\n",
    "dataset.to_csv('ems_stations.csv', index = False)"
   ]
  }
 ],
 "metadata": {
  "kernelspec": {
   "display_name": "Python 3",
   "language": "python",
   "name": "python3"
  },
  "language_info": {
   "codemirror_mode": {
    "name": "ipython",
    "version": 3
   },
   "file_extension": ".py",
   "mimetype": "text/x-python",
   "name": "python",
   "nbconvert_exporter": "python",
   "pygments_lexer": "ipython3",
   "version": "3.7.4"
  }
 },
 "nbformat": 4,
 "nbformat_minor": 2
}

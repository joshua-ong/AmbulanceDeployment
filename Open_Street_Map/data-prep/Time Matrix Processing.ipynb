{
 "cells": [
  {
   "cell_type": "markdown",
   "metadata": {},
   "source": [
    "## Time Matrix Processing"
   ]
  },
  {
   "cell_type": "code",
   "execution_count": 1,
   "metadata": {},
   "outputs": [],
   "source": [
    "import requests\n",
    "import math\n",
    "import pprint\n",
    "import time\n",
    "import numpy as np\n",
    "import pandas as pd"
   ]
  },
  {
   "cell_type": "markdown",
   "metadata": {},
   "source": [
    "### Station to Station"
   ]
  },
  {
   "cell_type": "code",
   "execution_count": 61,
   "metadata": {},
   "outputs": [],
   "source": [
    "headers = {\n",
    "    'Accept': 'application/json, application/geo+json, application/gpx+xml, img/png; charset=utf-8',\n",
    "    #'Authorization': '5b3ce3597851110001cf624884518d9d4075408e95e3401165976247',\n",
    "    'Authorization': '5b3ce3597851110001cf62485eef3a0ab19d4b3e8ad2d8c88dca3d19',\n",
    "    'Content-Type': 'application/json; charset=utf-8'\n",
    "}"
   ]
  },
  {
   "cell_type": "code",
   "execution_count": 15,
   "metadata": {},
   "outputs": [
    {
     "name": "stdout",
     "output_type": "stream",
     "text": [
      "  station_name  longitude   latitude\n",
      "0    Demand 01 -97.721725  30.259487\n",
      "1  Demand 02   -97.860269  30.156364\n",
      "2  Demand 03   -97.750395  30.246625\n",
      "3   Demand 04  -97.661592  30.323391\n",
      "4    Demand 05 -97.748300  30.265327\n"
     ]
    }
   ],
   "source": [
    "stations = pd.read_csv('ems_stations.csv')  \n",
    "print(stations.head())"
   ]
  },
  {
   "cell_type": "code",
   "execution_count": 34,
   "metadata": {},
   "outputs": [
    {
     "name": "stdout",
     "output_type": "stream",
     "text": [
      "[[-97.72172474999991, 30.25948737],\n",
      " [-97.8602694099999, 30.15636358],\n",
      " [-97.75039506999991, 30.24662518],\n",
      " [-97.66159179999991, 30.32339149],\n",
      " [-97.7482999999999, 30.265327000000003],\n",
      " [-97.7259999999999, 30.326725],\n",
      " [-97.9295778989999, 30.39848581],\n",
      " [-97.7678132899999, 30.22977355],\n",
      " [-97.8054399999999, 30.206495],\n",
      " [-97.73431499999991, 30.274637],\n",
      " [-97.6842324899999, 30.27824902],\n",
      " [-97.7264146799999, 30.32672533],\n",
      " [-97.7394194699999, 30.26582831],\n",
      " [-97.72310808999991, 30.37236405],\n",
      " [-97.7588594799999, 30.33455506],\n",
      " [-97.93484691799989, 30.302810828000002],\n",
      " [-97.7427673899999, 30.41819953],\n",
      " [-97.8535901899999, 30.22782184],\n",
      " [-97.7132197299999, 30.2292149],\n",
      " [-97.6784999999999, 30.35271081],\n",
      " [-97.6895245299999, 30.32525961],\n",
      " [-97.7936091899999, 30.17470861],\n",
      " [-97.83681955999991, 30.40433212],\n",
      " [-97.77252251999991, 30.27734164],\n",
      " [-97.6923538799999, 30.38399792],\n",
      " [-97.8018875799999, 30.44651026],\n",
      " [-97.8239838099999, 30.13933909],\n",
      " [-97.8200249299999, 30.27945028],\n",
      " [-98.0006876299999, 30.43210206],\n",
      " [-97.56121313999991, 30.34180422],\n",
      " [-97.74435599999991, 30.0997659999999],\n",
      " [-97.9225452899999, 30.49262833],\n",
      " [-98.066519, 30.3555008],\n",
      " [-97.96850193599991, 30.346232090999997],\n",
      " [-97.7424767099999, 30.18690915],\n",
      " [-97.6532561099999, 30.39952596],\n",
      " [-97.6557479799999, 30.21606195],\n",
      " [-97.8975703899999, 30.18291397],\n",
      " [-97.9197071299999, 30.23950007],\n",
      " [-97.70920923999991, 30.29974433],\n",
      " [-97.7657451699999, 30.48172221],\n",
      " [-97.6131239699999, 30.3470128],\n",
      " [-97.6436239999999, 30.157544],\n",
      " [-97.5826048799999, 30.24623636]]\n"
     ]
    }
   ],
   "source": [
    "station_coords = [[x,y] for x,y in zip(stations['longitude'], stations['latitude'])]\n",
    "pprint.pprint(station_coords)"
   ]
  },
  {
   "cell_type": "code",
   "execution_count": 35,
   "metadata": {},
   "outputs": [],
   "source": [
    "body = {\"locations\": station_coords}\n",
    "call = requests.post('https://api.openrouteservice.org/v2/matrix/driving-car', json=body, headers=headers)"
   ]
  },
  {
   "cell_type": "code",
   "execution_count": 37,
   "metadata": {
    "scrolled": true
   },
   "outputs": [],
   "source": [
    "#print(call.json())\n",
    "durations = call.json()['durations']\n",
    "#pprint.pprint(durations)"
   ]
  },
  {
   "cell_type": "code",
   "execution_count": 7,
   "metadata": {},
   "outputs": [],
   "source": [
    "np.savetxt(\"s2s_time_matrix.csv\", np.array(durations), delimiter=\",\", fmt=\"%s\")"
   ]
  },
  {
   "cell_type": "code",
   "execution_count": 8,
   "metadata": {},
   "outputs": [],
   "source": [
    "# Build output csv from time matrix\n",
    "result = pd.read_csv('s2s_time_matrix.csv', header=None)\n",
    "#print(result.head())\n",
    "\n",
    "_, num_rows = result.shape\n",
    "\n",
    "headers = [\"stn{}_min\".format(i) for i in range(1, num_rows+1)]\n",
    "#print(headers)\n",
    "\n",
    "result.columns = headers\n",
    "#print(result.head())\n"
   ]
  },
  {
   "cell_type": "code",
   "execution_count": 9,
   "metadata": {},
   "outputs": [
    {
     "name": "stdout",
     "output_type": "stream",
     "text": [
      "   stn1_min  stn2_min  stn3_min  stn4_min  stn5_min  stn6_min  stn7_min  \\\n",
      "0      0.00   1356.69    501.44    819.80    377.81    742.39   2543.19   \n",
      "1   1402.96      0.00   1261.77   1841.37   1255.82   1528.76   2361.47   \n",
      "2    517.92   1213.92      0.00    984.83    334.14    907.42   2272.62   \n",
      "3    872.67   1813.66    958.41      0.00    859.98    492.27   2257.82   \n",
      "4    390.70   1276.00    308.76    861.73      0.00    784.32   2284.04   \n",
      "\n",
      "   stn8_min  stn9_min  stn10_min  ...  stn39_min  stn40_min  stn41_min  \\\n",
      "0    631.78    925.03     300.42  ...    1451.87     557.34    1558.08   \n",
      "1   1046.53    730.42    1344.65  ...    1043.24    1578.91    2221.75   \n",
      "2    228.16    630.56     488.11  ...    1157.41     722.37    1723.11   \n",
      "3   1088.75   1382.00     693.09  ...    1908.84     660.74    1272.71   \n",
      "4    400.55    802.96     256.42  ...    1286.47     599.26    1552.05   \n",
      "\n",
      "   stn42_min  stn43_min  stn44_min  STATION_NAME  LONGITUDE   LATITUDE  \\\n",
      "0    1028.15    1026.71    1243.95     Demand 01 -97.721725  30.259487   \n",
      "1    2049.72    1497.45    1957.65   Demand 02   -97.860269  30.156364   \n",
      "2    1193.18    1158.55    1375.79   Demand 03   -97.750395  30.246625   \n",
      "3     455.80    1299.52    1031.84    Demand 04  -97.661592  30.323391   \n",
      "4    1070.08    1314.12    1495.41     Demand 05 -97.748300  30.265327   \n",
      "\n",
      "   OBJECTID_1  \n",
      "0           1  \n",
      "1           2  \n",
      "2           3  \n",
      "3           4  \n",
      "4           5  \n",
      "\n",
      "[5 rows x 48 columns]\n"
     ]
    }
   ],
   "source": [
    "# Add columns\n",
    "result['STATION_NAME'] = stations['station_name']\n",
    "result['LONGITUDE'] = stations['longitude']\n",
    "result['LATITUDE'] = stations['latitude']\n",
    "result['OBJECTID_1'] = list(range(1, num_rows+1))\n",
    "\n",
    "print(result.head())"
   ]
  },
  {
   "cell_type": "code",
   "execution_count": 14,
   "metadata": {},
   "outputs": [],
   "source": [
    "# Export result to csv\n",
    "result.to_csv(\"s2s_formatted.csv\", index=False)"
   ]
  },
  {
   "cell_type": "markdown",
   "metadata": {},
   "source": [
    "### Hospital to Station"
   ]
  },
  {
   "cell_type": "code",
   "execution_count": 56,
   "metadata": {},
   "outputs": [
    {
     "name": "stdout",
     "output_type": "stream",
     "text": [
      "                                   hospital_name  longitude   latitude\n",
      "0        St. David's South Austin Medical Center -97.774567  30.226063\n",
      "1                      Ascension Seton Northwest -97.743752  30.405210\n",
      "2        St. David's North Austin Medical Center -97.706390  30.411560\n",
      "3   Baylor Scott & White Medical Center - Austin -97.835693  30.235437\n",
      "4  Baylor Scott & White Medical Center - Lakeway -97.971420  30.332939\n"
     ]
    }
   ],
   "source": [
    "hospitals = pd.read_csv(\"ems_hospitals.csv\")\n",
    "print(hospitals.head())"
   ]
  },
  {
   "cell_type": "code",
   "execution_count": 57,
   "metadata": {},
   "outputs": [
    {
     "name": "stdout",
     "output_type": "stream",
     "text": [
      "[[-97.72172474999991, 30.25948737],\n",
      " [-97.8602694099999, 30.15636358],\n",
      " [-97.75039506999991, 30.24662518],\n",
      " [-97.66159179999991, 30.32339149],\n",
      " [-97.7482999999999, 30.265327000000003],\n",
      " [-97.7259999999999, 30.326725],\n",
      " [-97.9295778989999, 30.39848581],\n",
      " [-97.7678132899999, 30.22977355],\n",
      " [-97.8054399999999, 30.206495],\n",
      " [-97.73431499999991, 30.274637],\n",
      " [-97.6842324899999, 30.27824902],\n",
      " [-97.7264146799999, 30.32672533],\n",
      " [-97.7394194699999, 30.26582831],\n",
      " [-97.72310808999991, 30.37236405],\n",
      " [-97.7588594799999, 30.33455506],\n",
      " [-97.93484691799989, 30.302810828000002],\n",
      " [-97.7427673899999, 30.41819953],\n",
      " [-97.8535901899999, 30.22782184],\n",
      " [-97.7132197299999, 30.2292149],\n",
      " [-97.6784999999999, 30.35271081],\n",
      " [-97.6895245299999, 30.32525961],\n",
      " [-97.7936091899999, 30.17470861],\n",
      " [-97.83681955999991, 30.40433212],\n",
      " [-97.77252251999991, 30.27734164],\n",
      " [-97.6923538799999, 30.38399792],\n",
      " [-97.8018875799999, 30.44651026],\n",
      " [-97.8239838099999, 30.13933909],\n",
      " [-97.8200249299999, 30.27945028],\n",
      " [-98.0006876299999, 30.43210206],\n",
      " [-97.56121313999991, 30.34180422],\n",
      " [-97.74435599999991, 30.0997659999999],\n",
      " [-97.9225452899999, 30.49262833],\n",
      " [-98.066519, 30.3555008],\n",
      " [-97.96850193599991, 30.346232090999997],\n",
      " [-97.7424767099999, 30.18690915],\n",
      " [-97.6532561099999, 30.39952596],\n",
      " [-97.6557479799999, 30.21606195],\n",
      " [-97.8975703899999, 30.18291397],\n",
      " [-97.9197071299999, 30.23950007],\n",
      " [-97.70920923999991, 30.29974433],\n",
      " [-97.7657451699999, 30.48172221],\n",
      " [-97.6131239699999, 30.3470128],\n",
      " [-97.6436239999999, 30.157544],\n",
      " [-97.5826048799999, 30.24623636]]\n"
     ]
    }
   ],
   "source": [
    "hospital_coords = [[x,y] for x,y in zip(hospitals['longitude'], hospitals['latitude'])]\n",
    "pprint.pprint(station_coords)"
   ]
  },
  {
   "cell_type": "code",
   "execution_count": 58,
   "metadata": {},
   "outputs": [],
   "source": [
    "# Prep for API call\n",
    "locations = hospital_coords + station_coords\n",
    "#print(locations)\n",
    "\n",
    "num_hospitals = len(hospital_coords)\n",
    "num_stations = len(station_coords)\n",
    "\n",
    "sources = [i for i in range(num_hospitals)]\n",
    "destinations = [i + num_hospitals for i in range(num_stations)]\n",
    "\n",
    "#print(sources)\n",
    "#print(destinations)"
   ]
  },
  {
   "cell_type": "code",
   "execution_count": 62,
   "metadata": {},
   "outputs": [],
   "source": [
    "body = {\"locations\": locations, \"sources\": sources, \"destinations\": destinations}\n",
    "call = requests.post('https://api.openrouteservice.org/v2/matrix/driving-car', json=body, headers=headers)"
   ]
  },
  {
   "cell_type": "code",
   "execution_count": 63,
   "metadata": {},
   "outputs": [],
   "source": [
    "#print(call.json())\n",
    "durations = call.json()['durations']\n",
    "#pprint.pprint(durations)"
   ]
  },
  {
   "cell_type": "code",
   "execution_count": 64,
   "metadata": {},
   "outputs": [],
   "source": [
    "np.savetxt(\"h2s_time_matrix.csv\", np.array(durations), delimiter=\",\", fmt=\"%s\")"
   ]
  },
  {
   "cell_type": "code",
   "execution_count": 68,
   "metadata": {},
   "outputs": [
    {
     "name": "stdout",
     "output_type": "stream",
     "text": [
      "    stn1_min  stn2_min  stn3_min  stn4_min  stn5_min  stn6_min  stn7_min  \\\n",
      "0     704.82   1096.51    366.82   1143.23    564.59   1065.82   2141.48   \n",
      "1    1107.72   1714.22   1193.46    823.66   1032.89    737.32   1811.67   \n",
      "2    1259.42   1759.63   1345.16    975.36   1078.29    889.02   2002.44   \n",
      "3     882.24    809.02    629.30   1320.65    736.20   1009.15   2018.34   \n",
      "4    2087.17   1870.90   1834.23   2410.75   1796.88   2069.82    591.10   \n",
      "5    1295.94    832.08   1043.00   1734.35   1100.68   1373.62   1736.77   \n",
      "6     618.92   1559.91    704.66    569.77    606.22    414.23   2285.00   \n",
      "7     302.63   1265.85    410.60    666.35    266.18    588.93   2372.02   \n",
      "8     705.44   1299.26    791.18    757.54    545.67    328.87   2083.39   \n",
      "9     382.16   1323.15    467.90    625.24    369.46    485.48   2348.63   \n",
      "10   1165.55   1155.69    913.43   1435.39    866.63   1139.57   1569.59   \n",
      "11    676.14   1338.94    761.87    704.21    585.35    275.54   2111.11   \n",
      "\n",
      "    stn8_min  stn9_min  stn10_min  ...  stn35_min  stn36_min  stn37_min  \\\n",
      "0     151.58    446.06     646.51  ...     602.41    1394.35     732.30   \n",
      "1    1280.26   1441.23     928.14  ...    1543.96     976.63    1448.58   \n",
      "2    1325.67   1486.64    1079.84  ...    1691.44     632.40    1600.28   \n",
      "3     414.06    574.50     823.93  ...     779.83    1571.77     909.72   \n",
      "4    1618.99   1709.88    1961.51  ...    1984.77    2674.31    2114.66   \n",
      "5     827.76    847.09    1237.63  ...    1193.53    1985.47    1323.42   \n",
      "6     835.00   1128.24     439.34  ...    1055.16     812.73    1117.13   \n",
      "7     540.94    834.19      30.33  ...     761.10     917.47     927.52   \n",
      "8     865.31   1026.27     532.10  ...    1141.68    1103.07    1308.10   \n",
      "9     598.24    891.49     223.82  ...     818.40     876.36     984.82   \n",
      "10    698.19    859.15    1031.27  ...    1063.96    1698.95    1193.85   \n",
      "11    892.21   1065.95     517.79  ...    1112.38    1066.90    1278.80   \n",
      "\n",
      "    stn38_min  stn39_min  stn40_min  stn41_min  stn42_min  stn43_min  \\\n",
      "0      847.80    1026.27     880.77    1823.84    1351.58    1015.27   \n",
      "1     1465.52    1724.69     932.35     700.50    1032.13    1731.55   \n",
      "2     1510.92    1770.10    1084.04     703.97    1180.33    1883.24   \n",
      "3      560.32     903.13    1058.19    1702.14    1529.00    1192.69   \n",
      "4     1595.41    1007.67    2263.12    2153.36    2619.22    2397.62   \n",
      "5      526.92     324.23    1471.88    2066.61    1942.70    1606.39   \n",
      "6     1476.62    1655.09     159.15    1299.89     778.12    1400.09   \n",
      "7     1165.39    1361.03     403.88    1404.63     874.70    1210.49   \n",
      "8     1050.56    1309.73     544.97    1299.69     965.89    1591.07   \n",
      "9     1239.87    1418.33     318.26    1363.52     833.59    1267.79   \n",
      "10     906.98    1166.16    1342.31    1486.58    1643.86    1476.81   \n",
      "11    1090.24    1349.41     508.13    1300.38     912.56    1561.76   \n",
      "\n",
      "    stn44_min  \n",
      "0     1232.50  \n",
      "1     1555.60  \n",
      "2     1707.30  \n",
      "3     1409.93  \n",
      "4     2614.86  \n",
      "5     1823.62  \n",
      "6     1166.59  \n",
      "7     1261.73  \n",
      "8     1534.74  \n",
      "9     1306.68  \n",
      "10    1694.05  \n",
      "11    1490.27  \n",
      "\n",
      "[12 rows x 44 columns]\n"
     ]
    }
   ],
   "source": [
    "# Build output csv from time matrix\n",
    "result = pd.read_csv('h2s_time_matrix.csv', header=None)\n",
    "#print(result.head())\n",
    "\n",
    "_, num_rows = result.shape\n",
    "\n",
    "headers = [\"stn{}_min\".format(i) for i in range(1, num_stations+1)]\n",
    "#print(headers)\n",
    "\n",
    "result.columns = headers\n",
    "print(result)\n"
   ]
  },
  {
   "cell_type": "code",
   "execution_count": 69,
   "metadata": {
    "scrolled": false
   },
   "outputs": [
    {
     "name": "stdout",
     "output_type": "stream",
     "text": [
      "   stn1_min  stn2_min  stn3_min  stn4_min  stn5_min  stn6_min  stn7_min  \\\n",
      "0    704.82   1096.51    366.82   1143.23    564.59   1065.82   2141.48   \n",
      "1   1107.72   1714.22   1193.46    823.66   1032.89    737.32   1811.67   \n",
      "2   1259.42   1759.63   1345.16    975.36   1078.29    889.02   2002.44   \n",
      "3    882.24    809.02    629.30   1320.65    736.20   1009.15   2018.34   \n",
      "4   2087.17   1870.90   1834.23   2410.75   1796.88   2069.82    591.10   \n",
      "\n",
      "   stn8_min  stn9_min  stn10_min  ...  stn39_min  stn40_min  stn41_min  \\\n",
      "0    151.58    446.06     646.51  ...    1026.27     880.77    1823.84   \n",
      "1   1280.26   1441.23     928.14  ...    1724.69     932.35     700.50   \n",
      "2   1325.67   1486.64    1079.84  ...    1770.10    1084.04     703.97   \n",
      "3    414.06    574.50     823.93  ...     903.13    1058.19    1702.14   \n",
      "4   1618.99   1709.88    1961.51  ...    1007.67    2263.12    2153.36   \n",
      "\n",
      "   stn42_min  stn43_min  stn44_min  \\\n",
      "0    1351.58    1015.27    1232.50   \n",
      "1    1032.13    1731.55    1555.60   \n",
      "2    1180.33    1883.24    1707.30   \n",
      "3    1529.00    1192.69    1409.93   \n",
      "4    2619.22    2397.62    2614.86   \n",
      "\n",
      "                                   HOSPITAL_NAME  LONGITUDE   LATITUDE  \\\n",
      "0        St. David's South Austin Medical Center -97.774567  30.226063   \n",
      "1                      Ascension Seton Northwest -97.743752  30.405210   \n",
      "2        St. David's North Austin Medical Center -97.706390  30.411560   \n",
      "3   Baylor Scott & White Medical Center - Austin -97.835693  30.235437   \n",
      "4  Baylor Scott & White Medical Center - Lakeway -97.971420  30.332939   \n",
      "\n",
      "   OBJECTID_1  \n",
      "0           1  \n",
      "1           2  \n",
      "2           3  \n",
      "3           4  \n",
      "4           5  \n",
      "\n",
      "[5 rows x 48 columns]\n"
     ]
    }
   ],
   "source": [
    "# Add columns\n",
    "result['HOSPITAL_NAME'] = hospitals['hospital_name']\n",
    "result['LONGITUDE'] = hospitals['longitude']\n",
    "result['LATITUDE'] = hospitals['latitude']\n",
    "result['OBJECTID_1'] = list(range(1, num_hospitals+1))\n",
    "\n",
    "print(result.head())"
   ]
  },
  {
   "cell_type": "code",
   "execution_count": 70,
   "metadata": {},
   "outputs": [],
   "source": [
    "# Export result to csv\n",
    "result.to_csv(\"h2s_formatted.csv\", index=False)"
   ]
  },
  {
   "cell_type": "code",
   "execution_count": null,
   "metadata": {},
   "outputs": [],
   "source": []
  }
 ],
 "metadata": {
  "kernelspec": {
   "display_name": "Python 3",
   "language": "python",
   "name": "python3"
  },
  "language_info": {
   "codemirror_mode": {
    "name": "ipython",
    "version": 3
   },
   "file_extension": ".py",
   "mimetype": "text/x-python",
   "name": "python",
   "nbconvert_exporter": "python",
   "pygments_lexer": "ipython3",
   "version": "3.7.4"
  }
 },
 "nbformat": 4,
 "nbformat_minor": 2
}

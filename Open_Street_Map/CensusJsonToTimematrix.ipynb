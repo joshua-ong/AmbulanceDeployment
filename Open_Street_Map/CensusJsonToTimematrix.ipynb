{
 "cells": [
  {
   "cell_type": "markdown",
   "metadata": {},
   "source": [
    "Author Joshua, Sudeep, Xander <br >\n",
    "Summary "
   ]
  },
  {
   "cell_type": "code",
   "execution_count": 23,
   "metadata": {},
   "outputs": [],
   "source": [
    "import json\n",
    "import requests\n",
    "import math"
   ]
  },
  {
   "cell_type": "code",
   "execution_count": 19,
   "metadata": {},
   "outputs": [],
   "source": [
    "with open(\"census_tracts_info_2.json\", \"r\") as f:\n",
    "    data = json.load(f)\n",
    "output_data = {}"
   ]
  },
  {
   "cell_type": "code",
   "execution_count": 15,
   "metadata": {},
   "outputs": [],
   "source": [
    "#populate dict.\n",
    "output_data[\"census_tracts_bounding\"] = data[\"census_tracts_bounding\"]\n",
    "output_data[\"census_tract_grids\"] = {}\n",
    "number_to_region = {}\n",
    "region_num = 0\n",
    "for census_tract in data[\"census_tract_grids\"]:\n",
    "#     output_data[\"census_tract_grids\"][census_tract] = [x + [region_num+i] for i, x in enumerate(data[\"census_tract_grids\"][census_tract])]\n",
    "    output_data[\"census_tract_grids\"][census_tract] = []\n",
    "    for i, x in enumerate(data[\"census_tract_grids\"][census_tract]):\n",
    "        output_data[\"census_tract_grids\"][census_tract] += x + [region_num + i]\n",
    "        number_to_region[region_num + i] = x\n",
    "    region_num += len(data[\"census_tract_grids\"][census_tract])\n",
    "latitude_delta = data[\"LATITUDE_DELTA\"]\n",
    "longitude_delta = data[\"LONGITUDE_DELTA\"]"
   ]
  },
  {
   "cell_type": "code",
   "execution_count": 16,
   "metadata": {},
   "outputs": [],
   "source": [
    "#number to region\n",
    "def get_representative(region_num):\n",
    "    return [number_to_region[region_num][0] + latitude_delta/2, number_to_region[region_num][1] + longitude_delta/2]"
   ]
  },
  {
   "cell_type": "code",
   "execution_count": 20,
   "metadata": {},
   "outputs": [],
   "source": [
    "locations = [get_representative(i) for i in range(data[\"NUMBER_GRIDS\"])]"
   ]
  },
  {
   "cell_type": "code",
   "execution_count": 24,
   "metadata": {},
   "outputs": [
    {
     "name": "stdout",
     "output_type": "stream",
     "text": [
      "0\n"
     ]
    }
   ],
   "source": [
    "batch_size = 20\n",
    "num_batches = math.ceil(len(locations) / batch_size)\n",
    "remainder = len(locations) % batch_size\n",
    "\n",
    "print(num_batches)"
   ]
  },
  {
   "cell_type": "code",
   "execution_count": 25,
   "metadata": {},
   "outputs": [],
   "source": [
    "headers = {\n",
    "    'Accept': 'application/json, application/geo+json, application/gpx+xml, img/png; charset=utf-8',\n",
    "    'Authorization': '5b3ce3597851110001cf624884518d9d4075408e95e3401165976247',\n",
    "    'Content-Type': 'application/json; charset=utf-8'\n",
    "}"
   ]
  },
  {
   "cell_type": "code",
   "execution_count": 28,
   "metadata": {},
   "outputs": [
    {
     "ename": "NameError",
     "evalue": "name 'durations' is not defined",
     "output_type": "error",
     "traceback": [
      "\u001b[1;31m---------------------------------------------------------------------------\u001b[0m",
      "\u001b[1;31mNameError\u001b[0m                                 Traceback (most recent call last)",
      "\u001b[1;32m<ipython-input-28-623dcf8feeca>\u001b[0m in \u001b[0;36m<module>\u001b[1;34m\u001b[0m\n\u001b[0;32m     17\u001b[0m     \u001b[0mtime\u001b[0m\u001b[1;33m.\u001b[0m\u001b[0msleep\u001b[0m\u001b[1;33m(\u001b[0m\u001b[1;36m2\u001b[0m\u001b[1;33m)\u001b[0m\u001b[1;33m\u001b[0m\u001b[1;33m\u001b[0m\u001b[0m\n\u001b[0;32m     18\u001b[0m \u001b[1;33m\u001b[0m\u001b[0m\n\u001b[1;32m---> 19\u001b[1;33m \u001b[0mprint\u001b[0m\u001b[1;33m(\u001b[0m\u001b[0mdurations\u001b[0m\u001b[1;33m)\u001b[0m\u001b[1;33m\u001b[0m\u001b[1;33m\u001b[0m\u001b[0m\n\u001b[0m",
      "\u001b[1;31mNameError\u001b[0m: name 'durations' is not defined"
     ]
    }
   ],
   "source": [
    "for i in :\n",
    "    print(\"batch \", i)\n",
    "    start = i * batch_size\n",
    "    sources = list(range(start, start + batch_size))\n",
    "    \n",
    "    # handle last partial batch\n",
    "    if(sources[batch_size - 1] >= len(locations)):\n",
    "        sources = sources[:remainder]\n",
    "    \n",
    "    body = {\"locations\": locations, \"sources\": sources}\n",
    "    call = requests.post('https://api.openrouteservice.org/v2/matrix/driving-car', json=body, headers=headers)\n",
    "    \n",
    "    duration_batch = call.json()['durations']\n",
    "    for j in range(len(duration_batch)):\n",
    "        durations.append(duration_batch[j])\n",
    "        \n",
    "    time.sleep(2)\n",
    "    \n"
   ]
  },
  {
   "cell_type": "code",
   "execution_count": 32,
   "metadata": {},
   "outputs": [
    {
     "data": {
      "text/plain": [
       "range(0, 0)"
      ]
     },
     "execution_count": 32,
     "metadata": {},
     "output_type": "execute_result"
    }
   ],
   "source": [
    "range(num_batches)"
   ]
  },
  {
   "cell_type": "code",
   "execution_count": null,
   "metadata": {},
   "outputs": [],
   "source": []
  }
 ],
 "metadata": {
  "kernelspec": {
   "display_name": "Python 3",
   "language": "python",
   "name": "python3"
  },
  "language_info": {
   "codemirror_mode": {
    "name": "ipython",
    "version": 3
   },
   "file_extension": ".py",
   "mimetype": "text/x-python",
   "name": "python",
   "nbconvert_exporter": "python",
   "pygments_lexer": "ipython3",
   "version": "3.7.3"
  }
 },
 "nbformat": 4,
 "nbformat_minor": 4
}

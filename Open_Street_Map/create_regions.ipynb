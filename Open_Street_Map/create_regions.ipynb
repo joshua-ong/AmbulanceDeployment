{
 "cells": [
  {
   "cell_type": "markdown",
   "metadata": {},
   "source": [
    "Author Joshua, Sudeep <br >\n",
    "Summary <br> smh dude. This code generates the distance matrix? by loading texas data and open routing service api. In the end we output \"gridinfosmaller.json\n",
    "1. load texas data (census_tracts_2018_fips / census_tracts_2018)\n",
    "2. texas data -> latitude longitude\n",
    "3. latitude longitude -> distance matrix api calls\n"
   ]
  },
  {
   "cell_type": "code",
   "execution_count": 1,
   "metadata": {},
   "outputs": [],
   "source": [
    "# unzip input file first\n",
    "import xml.etree.ElementTree as ET\n",
    "import requests\n",
    "import math\n",
    "import pprint\n",
    "import time\n",
    "import numpy as np\n",
    "import pandas as pd\n",
    "import os\n",
    "import collections"
   ]
  },
  {
   "cell_type": "markdown",
   "metadata": {},
   "source": [
    "### automate how big the grid is"
   ]
  },
  {
   "cell_type": "code",
   "execution_count": 2,
   "metadata": {},
   "outputs": [],
   "source": [
    "# Assuming we want to make 400 squares, how should we partition the vertically/horizontally\n",
    "NUM_REGIONS = 3200\n"
   ]
  },
  {
   "cell_type": "code",
   "execution_count": 3,
   "metadata": {},
   "outputs": [
    {
     "name": "stdout",
     "output_type": "stream",
     "text": [
      "min() arg is an empty sequence\n",
      "14_03.txt\n",
      "[]\n",
      "min() arg is an empty sequence\n",
      "15_01.txt\n",
      "[]\n",
      "min() arg is an empty sequence\n",
      "15_03.txt\n",
      "[]\n",
      "min() arg is an empty sequence\n",
      "16_05.txt\n",
      "[]\n",
      "min() arg is an empty sequence\n",
      "17_07.txt\n",
      "[]\n",
      "min() arg is an empty sequence\n",
      "17_12.txt\n",
      "[]\n",
      "min() arg is an empty sequence\n",
      "17_22.txt\n",
      "[]\n",
      "min() arg is an empty sequence\n",
      "17_29.txt\n",
      "[]\n",
      "min() arg is an empty sequence\n",
      "17_49.txt\n",
      "[]\n",
      "min() arg is an empty sequence\n",
      "17_53.txt\n",
      "[]\n",
      "min() arg is an empty sequence\n",
      "17_55.txt\n",
      "[]\n",
      "min() arg is an empty sequence\n",
      "17_56.txt\n",
      "[]\n",
      "min() arg is an empty sequence\n",
      "17_61.txt\n",
      "[]\n",
      "min() arg is an empty sequence\n",
      "17_76.txt\n",
      "[]\n",
      "min() arg is an empty sequence\n",
      "17_77.txt\n",
      "[]\n",
      "min() arg is an empty sequence\n",
      "17_81.txt\n",
      "[]\n",
      "min() arg is an empty sequence\n",
      "17_86.txt\n",
      "[]\n",
      "min() arg is an empty sequence\n",
      "18_05.txt\n",
      "[]\n",
      "min() arg is an empty sequence\n",
      "18_06.txt\n",
      "[]\n",
      "min() arg is an empty sequence\n",
      "18_19.txt\n",
      "[]\n",
      "min() arg is an empty sequence\n",
      "18_32.txt\n",
      "[]\n",
      "min() arg is an empty sequence\n",
      "18_41.txt\n",
      "[]\n",
      "min() arg is an empty sequence\n",
      "18_47.txt\n",
      "[]\n",
      "min() arg is an empty sequence\n",
      "18_49.txt\n",
      "[]\n",
      "min() arg is an empty sequence\n",
      "18_57.txt\n",
      "[]\n",
      "min() arg is an empty sequence\n",
      "18_61.txt\n",
      "[]\n",
      "min() arg is an empty sequence\n",
      "18_63.txt\n",
      "[]\n",
      "min() arg is an empty sequence\n",
      "19_08.txt\n",
      "[]\n",
      "min() arg is an empty sequence\n",
      "19_16.txt\n",
      "[]\n",
      "min() arg is an empty sequence\n",
      "19_18.txt\n",
      "[]\n",
      "min() arg is an empty sequence\n",
      "1_01.txt\n",
      "[]\n",
      "min() arg is an empty sequence\n",
      "20_05.txt\n",
      "[]\n",
      "min() arg is an empty sequence\n",
      "22_12.txt\n",
      "[]\n",
      "min() arg is an empty sequence\n",
      "23_08.txt\n",
      "[]\n",
      "min() arg is an empty sequence\n",
      "23_12.txt\n",
      "[]\n",
      "min() arg is an empty sequence\n",
      "24_02.txt\n",
      "[]\n",
      "min() arg is an empty sequence\n",
      "24_07.txt\n",
      "[]\n",
      "min() arg is an empty sequence\n",
      "24_11.txt\n",
      "[]\n",
      "min() arg is an empty sequence\n",
      "24_23.txt\n",
      "[]\n",
      "min() arg is an empty sequence\n",
      "2_03.txt\n",
      "[]\n",
      "min() arg is an empty sequence\n",
      "3_05.txt\n",
      "[]\n",
      "min() arg is an empty sequence\n",
      "7.txt\n",
      "[]\n",
      "min() arg is an empty sequence\n",
      "8_04.txt\n",
      "[]\n"
     ]
    }
   ],
   "source": [
    "# Read all census tracts and put points in dict\n",
    "# CENSUS_TRACTS_DIR = \"census_tracts\"\n",
    "CENSUS_TRACTS_DIR = \"census_tracts_2018\"\n",
    "census_tracts_points = {} #multiple points?\n",
    "census_tracts_bounding = {} #rectangle bounds?\n",
    "for fname in os.listdir(CENSUS_TRACTS_DIR):\n",
    "    latitudes = []\n",
    "    longitudes = []\n",
    "    try:\n",
    "        # Parse the XML file\n",
    "        root = ET.parse(\"{}/{}\".format(CENSUS_TRACTS_DIR, fname)).getroot()\n",
    "        for type_tag in root.findall(\"node\"):\n",
    "            d = type_tag.attrib\n",
    "            latitudes.append(float(d[\"lat\"]))\n",
    "            longitudes.append(float(d[\"lon\"]))\n",
    "        census_tracts_points[fname.strip(\".txt\")] = list(zip(latitudes, longitudes))\n",
    "        census_tracts_bounding[fname.strip(\".txt\")] = [(min(latitudes), min(longitudes)), (max(latitudes), max(longitudes))]\n",
    "    except Exception as e:\n",
    "        print(e)\n",
    "        print(fname)\n",
    "        print(list(zip(latitudes, longitudes)))"
   ]
  },
  {
   "cell_type": "code",
   "execution_count": 4,
   "metadata": {},
   "outputs": [],
   "source": [
    "census_tracts_points;"
   ]
  },
  {
   "cell_type": "markdown",
   "metadata": {},
   "source": [
    "## Travis County Boundary API"
   ]
  },
  {
   "cell_type": "code",
   "execution_count": 7,
   "metadata": {},
   "outputs": [],
   "source": [
    "# root = ET.parse('input-files/RoughlyTravisCounty.osm').getroot()"
   ]
  },
  {
   "cell_type": "code",
   "execution_count": 8,
   "metadata": {},
   "outputs": [],
   "source": [
    "latitudes = []\n",
    "longitudes = []\n",
    "# for type_tag in root.findall(\"node\"):\n",
    "#     d = type_tag.attrib\n",
    "#     latitudes.append(float(d[\"lat\"]))\n",
    "#     longitudes.append(float(d[\"lon\"]))\n",
    "# min_lat_travis, max_lat_travis, min_lon_travis, max_lon_travis = float(\"inf\"), float(\"-inf\"), float(\"inf\"), float(\"-inf\")\n",
    "for tract_name in census_tracts_points:\n",
    "    for lat, lon in census_tracts_points[tract_name]:\n",
    "#         if lat < min_lat_travis:\n",
    "#             min_lat_travis = lat\n",
    "#         if lon < min_lon_travis:\n",
    "#             min_lon_travis = lon\n",
    "#         if lat > max_lat_travis:\n",
    "#             max_lat_travis = lat\n",
    "#         if lon > max_lon_travis:\n",
    "#             max_lon_travis = lon\n",
    "        latitudes.append(lat)\n",
    "        longitudes.append(lon)"
   ]
  },
  {
   "cell_type": "markdown",
   "metadata": {},
   "source": [
    "## Region Mapping"
   ]
  },
  {
   "cell_type": "code",
   "execution_count": 9,
   "metadata": {},
   "outputs": [],
   "source": [
    "LATITUDE_MILES = 69\n",
    "LONGITUDE_MILES = 54.6\n",
    "\n",
    "vertical_distance = (max(latitudes) - min(latitudes))*LATITUDE_MILES\n",
    "horizontal_distance = (max(longitudes) - min(longitudes))*LONGITUDE_MILES"
   ]
  },
  {
   "cell_type": "code",
   "execution_count": 10,
   "metadata": {},
   "outputs": [],
   "source": [
    "# Assuming we want to make 400 squares, how should we partition the vertically/horizontally\n",
    "# NUM_REGIONS = 200\n",
    "# square_len = (vertical_distance*horizontal_distance/NUM_REGIONS)**0.5"
   ]
  },
  {
   "cell_type": "code",
   "execution_count": 11,
   "metadata": {},
   "outputs": [
    {
     "data": {
      "text/plain": [
       "2.1323175834794137"
      ]
     },
     "execution_count": 11,
     "metadata": {},
     "output_type": "execute_result"
    }
   ],
   "source": [
    "square_len = (vertical_distance*horizontal_distance/NUM_REGIONS)**0.5\n",
    "square_len"
   ]
  },
  {
   "cell_type": "code",
   "execution_count": 12,
   "metadata": {},
   "outputs": [
    {
     "data": {
      "text/plain": [
       "0.039053435594861054"
      ]
     },
     "execution_count": 12,
     "metadata": {},
     "output_type": "execute_result"
    }
   ],
   "source": [
    "latitude_delta = square_len/LATITUDE_MILES\n",
    "LATITUDE_DELTA = square_len/LATITUDE_MILES\n",
    "longitude_delta = square_len/LONGITUDE_MILES\n",
    "LONGITUDE_DELTA = square_len/LONGITUDE_MILES\n",
    "longitude_delta"
   ]
  },
  {
   "cell_type": "code",
   "execution_count": 104,
   "metadata": {},
   "outputs": [],
   "source": [
    "lat_lon = zip(latitudes, longitudes) #joins lists"
   ]
  },
  {
   "cell_type": "code",
   "execution_count": 105,
   "metadata": {},
   "outputs": [],
   "source": [
    "min_lat = min(latitudes)\n",
    "min_lon = min(longitudes)\n",
    "max_lat = max(latitudes)\n",
    "max_lon = max(longitudes)\n",
    "nrows = math.ceil((max_lat - min_lat) / latitude_delta)\n",
    "ncols = math.ceil((max_lon - min_lon) / longitude_delta)\n",
    "def map_point_to_region(latitude, longitude):\n",
    "    return math.floor((latitude-min_lat)/latitude_delta) * ncols  + math.floor((longitude-min_lon)/longitude_delta)"
   ]
  },
  {
   "cell_type": "code",
   "execution_count": 106,
   "metadata": {},
   "outputs": [],
   "source": [
    "def get_representative(region_num): # 8 cols per row, # R10 --> row_num = 1, col_num = 2\n",
    "    row_num = region_num//ncols # Correct\n",
    "    col_num = region_num - row_num*ncols\n",
    "    lat = min_lat + row_num * latitude_delta + 0.5*latitude_delta\n",
    "    lon = min_lon + col_num * longitude_delta + 0.5*longitude_delta\n",
    "    return [lon, lat]"
   ]
  },
  {
   "cell_type": "code",
   "execution_count": 107,
   "metadata": {},
   "outputs": [
    {
     "data": {
      "text/plain": [
       "32"
      ]
     },
     "execution_count": 107,
     "metadata": {},
     "output_type": "execute_result"
    }
   ],
   "source": [
    "map_point_to_region(30.084446, -97.702885)"
   ]
  },
  {
   "cell_type": "code",
   "execution_count": 108,
   "metadata": {},
   "outputs": [
    {
     "data": {
      "text/plain": [
       "[-97.64344371946936, 30.04071777669188]"
      ]
     },
     "execution_count": 108,
     "metadata": {},
     "output_type": "execute_result"
    }
   ],
   "source": [
    "get_representative(13)"
   ]
  },
  {
   "cell_type": "code",
   "execution_count": 16,
   "metadata": {},
   "outputs": [],
   "source": [
    "valid_regions = set()\n",
    "for lat, lon in zip(latitudes, longitudes):\n",
    "    valid_regions.add(map_point_to_region(lat, lon))"
   ]
  },
  {
   "cell_type": "code",
   "execution_count": 17,
   "metadata": {},
   "outputs": [],
   "source": [
    "valid_regions = list(valid_regions)\n",
    "valid_regions.sort()"
   ]
  },
  {
   "cell_type": "code",
   "execution_count": 18,
   "metadata": {},
   "outputs": [],
   "source": [
    "region_coords = [get_representative(i) for i in range(NUM_REGIONS)]"
   ]
  },
  {
   "cell_type": "markdown",
   "metadata": {},
   "source": [
    "## Batch calls of distance matrix"
   ]
  },
  {
   "cell_type": "code",
   "execution_count": 109,
   "metadata": {},
   "outputs": [],
   "source": [
    "# Prepare data for api call\n",
    "locations = region_coords\n",
    "# locations = region_coords + ems_coords + hospital_coords\n",
    "durations = [[0 for i in range(200)] for j in range(NUM_REGIONS)]"
   ]
  },
  {
   "cell_type": "code",
   "execution_count": 110,
   "metadata": {
    "scrolled": true
   },
   "outputs": [
    {
     "name": "stdout",
     "output_type": "stream",
     "text": [
      "1597\n"
     ]
    }
   ],
   "source": [
    "batch_size = 1\n",
    "num_batches = math.ceil(len(valid_regions) / batch_size)\n",
    "num_batches_per_round = math.ceil(num_batches/4)\n",
    "current_branch = 3\n",
    "remainder = len(valid_regions) % batch_size\n",
    "print(num_batches)"
   ]
  },
  {
   "cell_type": "code",
   "execution_count": 115,
   "metadata": {},
   "outputs": [
    {
     "name": "stdout",
     "output_type": "stream",
     "text": [
      "400\n",
      "200\n"
     ]
    }
   ],
   "source": [
    "print(len(durations))\n",
    "print(len(durations[0]))"
   ]
  },
  {
   "cell_type": "markdown",
   "metadata": {},
   "source": [
    "###  (API Key needed (https://openrouteservice.org/))"
   ]
  },
  {
   "cell_type": "code",
   "execution_count": 111,
   "metadata": {},
   "outputs": [],
   "source": [
    "headers = {\n",
    "    'Accept': 'application/json, application/geo+json, application/gpx+xml, img/png; charset=utf-8',\n",
    "    'Authorization': '5b3ce3597851110001cf6248f4d896877baa45689a97ee0efab1d43b',\n",
    "    'Content-Type': 'application/json; charset=utf-8'\n",
    "}"
   ]
  },
  {
   "cell_type": "code",
   "execution_count": 22,
   "metadata": {},
   "outputs": [],
   "source": [
    "# for i in range(num_batches_per_round*current_branch, min(num_batches_per_round*current_branch+num_batches_per_round, len(valid_regions))):\n",
    "#     print(\"batch \", i)\n",
    "#     start = i * batch_size\n",
    "#     sources = list(range(start, start + batch_size))\n",
    "\n",
    "#     # handle last partial batch\n",
    "#     if(sources[batch_size - 1] >= len(locations)):\n",
    "#         sources = sources[:remainder]\n",
    "\n",
    "#     locations = [get_representative(valid_regions[j]) for j in range(len(valid_regions))]\n",
    "\n",
    "#     body = {\"locations\": locations, \"sources\": sources}\n",
    "#     call = requests.post('https://api.openrouteservice.org/v2/matrix/driving-car', json=body, headers=headers)\n",
    "\n",
    "#     duration_batch = call.json()['durations']\n",
    "\n",
    "#     for j in range(len(duration_batch)):\n",
    "#         for k in range(len(duration_batch[0])):\n",
    "#             durations[valid_regions[i*batch_size + j]][valid_regions[k]] = duration_batch[j][k]\n",
    "#     time.sleep(0.1)\n"
   ]
  },
  {
   "cell_type": "code",
   "execution_count": 23,
   "metadata": {},
   "outputs": [],
   "source": [
    "#ONE API CALL FOR DEBUGGING\n",
    "# locations = [get_representative(i) for i in range(NUM_REGIONS)]\n",
    "\n",
    "# durations = []\n",
    "# start = 1 * 8\n",
    "# sources = list(range(start, start + 8))\n",
    "# body = {\"locations\": locations, \"sources\": sources}\n",
    "# call = requests.post('https://api.openrouteservice.org/v2/matrix/driving-car', json=body, headers=headers)\n",
    "# call.json()\n",
    "# duration_batch = call.json()['durations']\n",
    "# for j in range(len(duration_batch)):\n",
    "#     durations.append(duration_batch[j])\n",
    "# durations"
   ]
  },
  {
   "cell_type": "code",
   "execution_count": 188,
   "metadata": {},
   "outputs": [
    {
     "data": {
      "text/plain": [
       "400"
      ]
     },
     "execution_count": 188,
     "metadata": {},
     "output_type": "execute_result"
    }
   ],
   "source": []
  },
  {
   "cell_type": "code",
   "execution_count": 455,
   "metadata": {},
   "outputs": [
    {
     "name": "stdout",
     "output_type": "stream",
     "text": [
      "0 0\n"
     ]
    },
    {
     "ename": "KeyError",
     "evalue": "'durations'",
     "output_type": "error",
     "traceback": [
      "\u001b[1;31m---------------------------------------------------------------------------\u001b[0m",
      "\u001b[1;31mKeyError\u001b[0m                                  Traceback (most recent call last)",
      "\u001b[1;32m<ipython-input-455-d3cb11db4668>\u001b[0m in \u001b[0;36m<module>\u001b[1;34m\u001b[0m\n\u001b[0;32m     21\u001b[0m         \u001b[0mcall\u001b[0m \u001b[1;33m=\u001b[0m \u001b[0mrequests\u001b[0m\u001b[1;33m.\u001b[0m\u001b[0mpost\u001b[0m\u001b[1;33m(\u001b[0m\u001b[1;34m'https://api.openrouteservice.org/v2/matrix/driving-car'\u001b[0m\u001b[1;33m,\u001b[0m \u001b[0mjson\u001b[0m\u001b[1;33m=\u001b[0m\u001b[0mbody\u001b[0m\u001b[1;33m,\u001b[0m \u001b[0mheaders\u001b[0m\u001b[1;33m=\u001b[0m\u001b[0mheaders\u001b[0m\u001b[1;33m)\u001b[0m\u001b[1;33m\u001b[0m\u001b[1;33m\u001b[0m\u001b[0m\n\u001b[0;32m     22\u001b[0m         \u001b[1;31m#print(call.json())\u001b[0m\u001b[1;33m\u001b[0m\u001b[1;33m\u001b[0m\u001b[1;33m\u001b[0m\u001b[0m\n\u001b[1;32m---> 23\u001b[1;33m         \u001b[0mduration_batch\u001b[0m \u001b[1;33m=\u001b[0m \u001b[0mcall\u001b[0m\u001b[1;33m.\u001b[0m\u001b[0mjson\u001b[0m\u001b[1;33m(\u001b[0m\u001b[1;33m)\u001b[0m\u001b[1;33m[\u001b[0m\u001b[1;34m'durations'\u001b[0m\u001b[1;33m]\u001b[0m\u001b[1;33m\u001b[0m\u001b[1;33m\u001b[0m\u001b[0m\n\u001b[0m\u001b[0;32m     24\u001b[0m         \u001b[1;32mfor\u001b[0m \u001b[0mj\u001b[0m \u001b[1;32min\u001b[0m \u001b[0mrange\u001b[0m\u001b[1;33m(\u001b[0m\u001b[0mlen\u001b[0m\u001b[1;33m(\u001b[0m\u001b[0mduration_batch\u001b[0m\u001b[1;33m)\u001b[0m\u001b[1;33m)\u001b[0m\u001b[1;33m:\u001b[0m\u001b[1;33m\u001b[0m\u001b[1;33m\u001b[0m\u001b[0m\n\u001b[0;32m     25\u001b[0m             \u001b[0mdurations\u001b[0m\u001b[1;33m[\u001b[0m\u001b[0my_start\u001b[0m\u001b[1;33m:\u001b[0m\u001b[0my_start\u001b[0m\u001b[1;33m+\u001b[0m\u001b[0mbatch_size\u001b[0m\u001b[1;33m,\u001b[0m \u001b[0mx_start\u001b[0m\u001b[1;33m+\u001b[0m\u001b[0mj\u001b[0m\u001b[1;33m]\u001b[0m \u001b[1;33m=\u001b[0m \u001b[0mduration_batch\u001b[0m\u001b[1;33m[\u001b[0m\u001b[0mj\u001b[0m\u001b[1;33m]\u001b[0m\u001b[1;33m[\u001b[0m\u001b[0mbatch_size\u001b[0m\u001b[1;33m:\u001b[0m\u001b[1;33m]\u001b[0m\u001b[1;33m\u001b[0m\u001b[1;33m\u001b[0m\u001b[0m\n",
      "\u001b[1;31mKeyError\u001b[0m: 'durations'"
     ]
    }
   ],
   "source": [
    "\"\"\" new code \"\"\"\n",
    "\"\"\"doing 1x1 queries is 400x400 calls\"\"\"\n",
    "\"\"\"doing 20x20 queries is 400 calls\"\"\"\n",
    "#you have to index code slowly or you call make too many api calls a minute. Only 40 per minute\n",
    "durations = np.zeros([NUM_REGIONS,NUM_REGIONS])\n",
    "locations = [get_representative(i) for i in range(NUM_REGIONS)]\n",
    "\n",
    "len(locations)\n",
    "batch_size = 20\n",
    "for i in range(0,int(NUM_REGIONS / batch_size)):\n",
    "    for j in range(int(NUM_REGIONS / batch_size)):\n",
    "        time.sleep(2)\n",
    "        #if(i == j):\n",
    "        x_start = i*batch_size\n",
    "        y_start = j*batch_size\n",
    "        print(str(x_start) + \" \" + str(y_start))\n",
    "        location_batch = locations[x_start:x_start+batch_size] + locations[y_start:y_start+batch_size]\n",
    "        sources = list(range(0, batch_size))\n",
    "        body = {\"locations\": location_batch, \"sources\": sources}\n",
    "        #print(len(body[\"locations\"]))\n",
    "        call = requests.post('https://api.openrouteservice.org/v2/matrix/driving-car', json=body, headers=headers)\n",
    "        #print(call.json())\n",
    "        duration_batch = call.json()['durations']\n",
    "        for j in range(len(duration_batch)):\n",
    "            durations[y_start:y_start+batch_size, x_start+j] = duration_batch[j][batch_size:]\n",
    "            #print(duration_batch[j])\n",
    "            #print(\"newline\")\n",
    "        "
   ]
  },
  {
   "cell_type": "code",
   "execution_count": 465,
   "metadata": {},
   "outputs": [
    {
     "name": "stdout",
     "output_type": "stream",
     "text": [
      "0 0\n",
      "[0.0, 961.57, 2006.0, 1703.25, 1966.77, 2196.37, 3745.08, 2974.18, 3182.53, 3505.84, 3856.11, 4228.19, 4218.59, 4478.41, 4731.4, 5013.93, 4969.52, 5837.53, 5408.04, 5788.88, 6262.38, 2380.21, 1870.67, 1577.84, 2831.08, 0.0, 961.57, 2006.0, 1703.25, 1966.77, 2196.37, 3745.08, 2974.18, 3182.53, 3505.84, 3856.11, 4228.19, 4218.59, 4478.41, 4731.4, 5013.93, 4969.52, 5837.53, 5408.04, 5788.88, 6262.38, 2380.21, 1870.67, 1577.84, 2831.08]\n",
      "[961.57, 0.0, 1206.35, 903.6, 1167.13, 1396.72, 2783.55, 2174.53, 2382.89, 2706.19, 3056.47, 3428.54, 3418.94, 3678.76, 3931.76, 4214.28, 4169.87, 5037.88, 4608.39, 4989.23, 5384.97, 1690.63, 909.14, 616.31, 2031.43, 961.57, 0.0, 1206.35, 903.6, 1167.13, 1396.72, 2783.55, 2174.53, 2382.89, 2706.19, 3056.47, 3428.54, 3418.94, 3678.76, 3931.76, 4214.28, 4169.87, 5037.88, 4608.39, 4989.23, 5384.97, 1690.63, 909.14, 616.31, 2031.43]\n",
      "[2006.0, 1206.35, 0.0, 456.56, 720.08, 949.68, 2718.52, 1727.49, 1935.84, 2259.15, 2609.42, 2981.5, 2971.89, 3231.72, 3484.71, 3767.23, 3722.82, 4590.84, 4161.34, 4542.19, 5015.69, 2896.94, 1938.32, 1439.07, 1584.38, 2006.0, 1206.35, 0.0, 456.56, 720.08, 949.68, 2718.52, 1727.49, 1935.84, 2259.15, 2609.42, 2981.5, 2971.89, 3231.72, 3484.71, 3767.23, 3722.82, 4590.84, 4161.34, 4542.19, 5015.69, 2896.94, 1938.32, 1439.07, 1584.38]\n",
      "[1703.25, 903.6, 456.56, 0.0, 263.57, 493.17, 2262.01, 1270.98, 1479.33, 1802.64, 2152.91, 2524.99, 2515.38, 2775.21, 3028.2, 3310.72, 3266.31, 4134.33, 3704.83, 4085.68, 4559.18, 2594.19, 1635.57, 982.56, 1127.87, 1703.25, 903.6, 456.56, 0.0, 263.57, 493.17, 2262.01, 1270.98, 1479.33, 1802.64, 2152.91, 2524.99, 2515.38, 2775.21, 3028.2, 3310.72, 3266.31, 4134.33, 3704.83, 4085.68, 4559.18, 2594.19, 1635.57, 982.56, 1127.87]\n",
      "[1966.77, 1167.13, 720.08, 263.57, 0.0, 229.63, 1998.47, 1007.44, 1215.79, 1539.1, 1889.37, 2261.45, 2251.84, 2511.67, 2764.66, 3047.18, 3002.77, 3870.79, 3441.29, 3822.14, 4295.64, 2857.72, 1899.09, 1090.74, 1214.55, 1966.77, 1167.13, 720.08, 263.57, 0.0, 229.63, 1998.47, 1007.44, 1215.79, 1539.1, 1889.37, 2261.45, 2251.84, 2511.67, 2764.66, 3047.18, 3002.77, 3870.79, 3441.29, 3822.14, 4295.64, 2857.72, 1899.09, 1090.74, 1214.55]\n",
      "[2196.37, 1396.72, 949.68, 493.17, 229.63, 0.0, 1833.92, 777.82, 986.17, 1309.48, 1659.75, 2031.83, 2022.22, 2282.05, 2535.04, 2817.56, 2773.16, 3641.17, 3211.68, 3592.52, 4066.02, 3087.31, 2128.69, 1320.34, 1444.14, 2196.37, 1396.72, 949.68, 493.17, 229.63, 0.0, 1833.92, 777.82, 986.17, 1309.48, 1659.75, 2031.83, 2022.22, 2282.05, 2535.04, 2817.56, 2773.16, 3641.17, 3211.68, 3592.52, 4066.02, 3087.31, 2128.69, 1320.34, 1444.14]\n",
      "[3745.08, 2783.55, 2718.52, 2262.01, 1998.47, 1833.92, 0.0, 1118.34, 1495.32, 1749.52, 2001.78, 2159.77, 2150.16, 2586.51, 2839.51, 3122.03, 3077.62, 3945.64, 3516.14, 3896.99, 4370.49, 4474.14, 3451.73, 2856.79, 3212.99, 3745.08, 2783.55, 2718.52, 2262.01, 1998.47, 1833.92, 0.0, 1118.34, 1495.32, 1749.52, 2001.78, 2159.77, 2150.16, 2586.51, 2839.51, 3122.03, 3077.62, 3945.64, 3516.14, 3896.99, 4370.49, 4474.14, 3451.73, 2856.79, 3212.99]\n",
      "[2937.92, 2138.27, 1691.22, 1234.71, 971.17, 741.55, 1130.32, 0.0, 376.98, 700.28, 1050.55, 1392.26, 1382.65, 1819.0, 2072.0, 2354.52, 2310.11, 3178.12, 2748.63, 3129.47, 3602.97, 3828.86, 2870.24, 2061.88, 2185.69, 2937.92, 2138.27, 1691.22, 1234.71, 971.17, 741.55, 1130.32, 0.0, 376.98, 700.28, 1050.55, 1392.26, 1382.65, 1819.0, 2072.0, 2354.52, 2310.11, 3178.12, 2748.63, 3129.47, 3602.97, 3828.86, 2870.24, 2061.88, 2185.69]\n",
      "[3393.03, 2593.39, 2146.34, 1689.83, 1426.29, 1196.67, 1508.98, 619.5, 0.0, 401.05, 751.32, 1134.63, 1125.02, 1561.37, 1814.37, 2096.89, 2052.48, 2920.49, 2491.0, 2871.84, 3345.34, 4283.98, 3325.35, 2517.0, 2640.81, 3393.03, 2593.39, 2146.34, 1689.83, 1426.29, 1196.67, 1508.98, 619.5, 0.0, 401.05, 751.32, 1134.63, 1125.02, 1561.37, 1814.37, 2096.89, 2052.48, 2920.49, 2491.0, 2871.84, 3345.34, 4283.98, 3325.35, 2517.0, 2640.81]\n",
      "[3502.14, 2702.49, 2255.44, 1798.93, 1535.39, 1305.77, 1734.03, 728.6, 401.05, 0.0, 459.3, 899.84, 1030.49, 1283.19, 1536.18, 1818.7, 1774.3, 2642.31, 2212.82, 2593.66, 3067.16, 4393.08, 3434.46, 2626.1, 2749.91, 3502.14, 2702.49, 2255.44, 1798.93, 1535.39, 1305.77, 1734.03, 728.6, 401.05, 0.0, 459.3, 899.84, 1030.49, 1283.19, 1536.18, 1818.7, 1774.3, 2642.31, 2212.82, 2593.66, 3067.16, 4393.08, 3434.46, 2626.1, 2749.91]\n",
      "[3852.41, 3052.76, 2605.71, 2149.2, 1885.66, 1656.04, 1986.3, 1078.87, 751.32, 459.3, 0.0, 511.4, 834.65, 1087.35, 1340.35, 1622.87, 1578.46, 2446.47, 2016.98, 2397.82, 2871.32, 4743.35, 3784.73, 2976.37, 3100.18, 3852.41, 3052.76, 2605.71, 2149.2, 1885.66, 1656.04, 1986.3, 1078.87, 751.32, 459.3, 0.0, 511.4, 834.65, 1087.35, 1340.35, 1622.87, 1578.46, 2446.47, 2016.98, 2397.82, 2871.32, 4743.35, 3784.73, 2976.37, 3100.18]\n",
      "[4200.35, 3400.71, 2953.66, 2497.15, 2233.61, 2003.99, 2242.15, 1402.16, 1191.86, 899.84, 511.4, 0.0, 469.05, 773.76, 1026.76, 1309.28, 1264.87, 2132.89, 1703.39, 2084.24, 2557.74, 5091.3, 4132.67, 3324.32, 3448.13, 4200.35, 3400.71, 2953.66, 2497.15, 2233.61, 2003.99, 2242.15, 1402.16, 1191.86, 899.84, 511.4, 0.0, 469.05, 773.76, 1026.76, 1309.28, 1264.87, 2132.89, 1703.39, 2084.24, 2557.74, 5091.3, 4132.67, 3324.32, 3448.13]\n",
      "[4184.64, 3385.0, 2937.95, 2481.44, 2217.9, 1988.28, 2226.44, 1386.45, 1249.46, 1041.57, 845.73, 532.14, 0.0, 580.78, 833.77, 1116.29, 1071.89, 1939.9, 1510.41, 1891.25, 2364.75, 5075.59, 4116.96, 3308.61, 3432.42, 4184.64, 3385.0, 2937.95, 2481.44, 2217.9, 1988.28, 2226.44, 1386.45, 1249.46, 1041.57, 845.73, 532.14, 0.0, 580.78, 833.77, 1116.29, 1071.89, 1939.9, 1510.41, 1891.25, 2364.75, 5075.59, 4116.96, 3308.61, 3432.42]\n",
      "[4479.86, 3680.22, 3233.17, 2776.66, 2513.12, 2283.5, 2673.71, 1833.72, 1575.19, 1283.17, 1087.33, 773.74, 580.78, 0.0, 755.43, 1037.95, 993.54, 1861.55, 1432.06, 1812.9, 2286.4, 5370.81, 4412.18, 3603.83, 3727.64, 4479.86, 3680.22, 3233.17, 2776.66, 2513.12, 2283.5, 2673.71, 1833.72, 1575.19, 1283.17, 1087.33, 773.74, 580.78, 0.0, 755.43, 1037.95, 993.54, 1861.55, 1432.06, 1812.9, 2286.4, 5370.81, 4412.18, 3603.83, 3727.64]\n",
      "[4732.86, 3933.21, 3486.17, 3029.66, 2766.12, 2536.5, 2926.7, 2086.71, 1828.18, 1536.16, 1340.32, 1026.74, 833.77, 755.43, 0.0, 1139.03, 1094.62, 1962.63, 1533.14, 1913.98, 2387.48, 5623.8, 4665.18, 3856.83, 3980.63, 4732.86, 3933.21, 3486.17, 3029.66, 2766.12, 2536.5, 2926.7, 2086.71, 1828.18, 1536.16, 1340.32, 1026.74, 833.77, 755.43, 0.0, 1139.03, 1094.62, 1962.63, 1533.14, 1913.98, 2387.48, 5623.8, 4665.18, 3856.83, 3980.63]\n",
      "[5028.13, 4228.48, 3781.44, 3324.93, 3061.39, 2831.77, 3221.97, 2381.98, 2123.45, 1831.43, 1635.59, 1322.01, 1129.04, 1050.69, 1151.78, 0.0, 519.73, 1820.48, 1390.99, 1771.83, 2245.33, 5919.07, 4960.45, 4152.1, 4275.9, 5028.13, 4228.48, 3781.44, 3324.93, 3061.39, 2831.77, 3221.97, 2381.98, 2123.45, 1831.43, 1635.59, 1322.01, 1129.04, 1050.69, 1151.78, 0.0, 519.73, 1820.48, 1390.99, 1771.83, 2245.33, 5919.07, 4960.45, 4152.1, 4275.9]\n",
      "[4983.72, 4184.07, 3737.03, 3280.52, 3016.98, 2787.36, 3177.56, 2337.57, 2079.04, 1787.02, 1591.19, 1277.6, 1084.63, 1006.29, 1107.37, 519.73, 0.0, 1693.96, 1264.46, 1645.31, 2118.81, 5874.66, 4916.04, 4107.69, 4231.49, 4983.72, 4184.07, 3737.03, 3280.52, 3016.98, 2787.36, 3177.56, 2337.57, 2079.04, 1787.02, 1591.19, 1277.6, 1084.63, 1006.29, 1107.37, 519.73, 0.0, 1693.96, 1264.46, 1645.31, 2118.81, 5874.66, 4916.04, 4107.69, 4231.49]\n",
      "[5838.96, 5039.32, 4592.27, 4135.76, 3872.22, 3642.6, 4032.81, 3192.82, 2934.29, 2642.27, 2446.43, 2132.84, 1939.88, 1861.53, 1962.61, 1820.48, 1693.96, 0.0, 1393.56, 1774.4, 2353.03, 6729.91, 5771.28, 4962.93, 5086.74, 5838.96, 5039.32, 4592.27, 4135.76, 3872.22, 3642.6, 4032.81, 3192.82, 2934.29, 2642.27, 2446.43, 2132.84, 1939.88, 1861.53, 1962.61, 1820.48, 1693.96, 0.0, 1393.56, 1774.4, 2353.03, 6729.91, 5771.28, 4962.93, 5086.74]\n",
      "[5409.47, 4609.82, 4162.78, 3706.27, 3442.73, 3213.11, 3603.31, 2763.32, 2504.8, 2212.77, 2016.94, 1703.35, 1510.39, 1432.04, 1533.12, 1390.99, 1264.46, 1393.56, 0.0, 766.3, 1344.93, 6300.42, 5341.79, 4533.44, 4657.24, 5409.47, 4609.82, 4162.78, 3706.27, 3442.73, 3213.11, 3603.31, 2763.32, 2504.8, 2212.77, 2016.94, 1703.35, 1510.39, 1432.04, 1533.12, 1390.99, 1264.46, 1393.56, 0.0, 766.3, 1344.93, 6300.42, 5341.79, 4533.44, 4657.24]\n",
      "[5790.31, 4990.67, 4543.62, 4087.11, 3823.57, 3593.95, 3984.16, 3144.17, 2885.64, 2593.62, 2397.78, 2084.19, 1891.23, 1812.88, 1913.96, 1771.83, 1645.31, 1774.4, 766.3, 0.0, 578.66, 6681.26, 5722.63, 4914.28, 5038.09, 5790.31, 4990.67, 4543.62, 4087.11, 3823.57, 3593.95, 3984.16, 3144.17, 2885.64, 2593.62, 2397.78, 2084.19, 1891.23, 1812.88, 1913.96, 1771.83, 1645.31, 1774.4, 766.3, 0.0, 578.66, 6681.26, 5722.63, 4914.28, 5038.09]\n",
      "[6264.42, 5411.4, 5017.73, 4561.22, 4297.68, 4068.06, 4458.27, 3618.28, 3359.75, 3067.72, 2871.89, 2558.3, 2365.34, 2286.99, 2388.07, 2245.94, 2119.42, 2353.03, 1344.93, 578.66, 0.0, 7102.0, 6079.58, 5388.39, 5512.19, 6264.42, 5411.4, 5017.73, 4561.22, 4297.68, 4068.06, 4458.27, 3618.28, 3359.75, 3067.72, 2871.89, 2558.3, 2365.34, 2286.99, 2388.07, 2245.94, 2119.42, 2353.03, 1344.93, 578.66, 0.0, 7102.0, 6079.58, 5388.39, 5512.19]\n",
      "[2380.21, 1690.63, 2896.94, 2594.19, 2857.72, 3087.31, 4474.14, 3865.13, 4073.48, 4396.79, 4747.06, 5119.14, 5109.53, 5369.35, 5622.35, 5904.87, 5860.46, 6728.47, 6298.98, 6679.82, 7075.56, 0.0, 2599.73, 2306.9, 3722.02, 2380.21, 1690.63, 2896.94, 2594.19, 2857.72, 3087.31, 4474.14, 3865.13, 4073.48, 4396.79, 4747.06, 5119.14, 5109.53, 5369.35, 5622.35, 5904.87, 5860.46, 6728.47, 6298.98, 6679.82, 7075.56, 0.0, 2599.73, 2306.9, 3722.02]\n",
      "[1870.67, 909.14, 1938.32, 1635.57, 1899.09, 2128.69, 3451.73, 2906.5, 3114.85, 3438.16, 3788.43, 4160.51, 4150.9, 4410.73, 4663.72, 4946.25, 4901.84, 5769.85, 5340.36, 5720.83, 6053.14, 2599.73, 0.0, 1284.48, 2763.4, 1870.67, 909.14, 1938.32, 1635.57, 1899.09, 2128.69, 3451.73, 2906.5, 3114.85, 3438.16, 3788.43, 4160.51, 4150.9, 4410.73, 4663.72, 4946.25, 4901.84, 5769.85, 5340.36, 5720.83, 6053.14, 2599.73, 0.0, 1284.48, 2763.4]\n",
      "[1577.84, 616.31, 1439.07, 982.56, 1090.74, 1320.34, 2856.79, 2098.15, 2306.5, 2629.81, 2980.08, 3352.16, 3342.55, 3602.38, 3855.37, 4137.89, 4093.48, 4961.5, 4532.0, 4912.85, 5386.35, 2306.9, 1284.48, 0.0, 1955.04, 1577.84, 616.31, 1439.07, 982.56, 1090.74, 1320.34, 2856.79, 2098.15, 2306.5, 2629.81, 2980.08, 3352.16, 3342.55, 3602.38, 3855.37, 4137.89, 4093.48, 4961.5, 4532.0, 4912.85, 5386.35, 2306.9, 1284.48, 0.0, 1955.04]\n",
      "[2831.08, 2031.43, 1584.38, 1127.87, 1214.55, 1444.14, 3212.99, 2221.95, 2430.31, 2753.61, 3103.89, 3475.97, 3466.36, 3726.18, 3979.18, 4261.7, 4217.29, 5085.3, 4655.81, 5036.65, 5510.15, 3722.02, 2763.4, 1955.04, 0.0, 2831.08, 2031.43, 1584.38, 1127.87, 1214.55, 1444.14, 3212.99, 2221.95, 2430.31, 2753.61, 3103.89, 3475.97, 3466.36, 3726.18, 3979.18, 4261.7, 4217.29, 5085.3, 4655.81, 5036.65, 5510.15, 3722.02, 2763.4, 1955.04, 0.0]\n"
     ]
    }
   ],
   "source": [
    "i = 0\n",
    "j = 0\n",
    "batch_size = 25\n",
    "x_start = i*batch_size\n",
    "y_start = j*batch_size\n",
    "print(str(x_start) + \" \" + str(y_start))\n",
    "location_batch = locations[x_start:x_start+batch_size] + locations[y_start:y_start+batch_size]\n",
    "sources = list(range(0, batch_size))\n",
    "body = {\"locations\": location_batch, \"sources\": sources}\n",
    "#print(len(body[\"locations\"]))\n",
    "call = requests.post('https://api.openrouteservice.org/v2/matrix/driving-car', json=body, headers=headers)\n",
    "duration_batch = call.json()['durations']\n",
    "for j in range(len(duration_batch)):\n",
    "    durations[y_start:y_start+batch_size, x_start+j] = duration_batch[j][batch_size:]\n",
    "    print(duration_batch[j])\n",
    "    #print(\"newline\")"
   ]
  },
  {
   "cell_type": "code",
   "execution_count": 463,
   "metadata": {},
   "outputs": [
    {
     "data": {
      "text/plain": [
       "100"
      ]
     },
     "execution_count": 463,
     "metadata": {},
     "output_type": "execute_result"
    }
   ],
   "source": [
    "len(location_batch)"
   ]
  },
  {
   "cell_type": "code",
   "execution_count": null,
   "metadata": {},
   "outputs": [],
   "source": [
    "import numpy as np\n",
    "import seaborn as sns\n",
    "import matplotlib.pylab as plt\n",
    "\n",
    "uniform_data = np.random.rand(400, 400)\n",
    "#ax = sns.heatmap(durations, linewidth=0.00001)\n",
    "ax = sns.heatmap(uniform_data, linewidth=0.00001)\n",
    "plt.show()"
   ]
  },
  {
   "cell_type": "code",
   "execution_count": null,
   "metadata": {},
   "outputs": [],
   "source": []
  },
  {
   "cell_type": "code",
   "execution_count": 119,
   "metadata": {},
   "outputs": [
    {
     "data": {
      "text/plain": [
       "400"
      ]
     },
     "execution_count": 119,
     "metadata": {},
     "output_type": "execute_result"
    }
   ],
   "source": [
    "locations = [get_representative(i) for i in range(NUM_REGIONS)]\n",
    "len(locations)"
   ]
  },
  {
   "cell_type": "code",
   "execution_count": 2,
   "metadata": {},
   "outputs": [
    {
     "ename": "NameError",
     "evalue": "name 'NUM_REGIONS' is not defined",
     "output_type": "error",
     "traceback": [
      "\u001b[1;31m---------------------------------------------------------------------------\u001b[0m",
      "\u001b[1;31mNameError\u001b[0m                                 Traceback (most recent call last)",
      "\u001b[1;32m<ipython-input-2-590e9ff4c36a>\u001b[0m in \u001b[0;36m<module>\u001b[1;34m\u001b[0m\n\u001b[1;32m----> 1\u001b[1;33m \u001b[0mlocations\u001b[0m \u001b[1;33m=\u001b[0m \u001b[1;33m[\u001b[0m\u001b[0mget_representative\u001b[0m\u001b[1;33m(\u001b[0m\u001b[0mi\u001b[0m\u001b[1;33m)\u001b[0m \u001b[1;32mfor\u001b[0m \u001b[0mi\u001b[0m \u001b[1;32min\u001b[0m \u001b[0mrange\u001b[0m\u001b[1;33m(\u001b[0m\u001b[0mNUM_REGIONS\u001b[0m\u001b[1;33m)\u001b[0m\u001b[1;33m]\u001b[0m\u001b[1;33m\u001b[0m\u001b[1;33m\u001b[0m\u001b[0m\n\u001b[0m\u001b[0;32m      2\u001b[0m \u001b[1;33m\u001b[0m\u001b[0m\n\u001b[0;32m      3\u001b[0m \u001b[0mdurations\u001b[0m \u001b[1;33m=\u001b[0m \u001b[1;33m[\u001b[0m\u001b[1;33m]\u001b[0m\u001b[1;33m\u001b[0m\u001b[1;33m\u001b[0m\u001b[0m\n\u001b[0;32m      4\u001b[0m \u001b[1;33m\u001b[0m\u001b[0m\n\u001b[0;32m      5\u001b[0m \u001b[1;32mfor\u001b[0m \u001b[0mi\u001b[0m \u001b[1;32min\u001b[0m \u001b[0mrange\u001b[0m\u001b[1;33m(\u001b[0m\u001b[1;36m25\u001b[0m\u001b[1;33m)\u001b[0m\u001b[1;33m:\u001b[0m\u001b[1;33m\u001b[0m\u001b[1;33m\u001b[0m\u001b[0m\n",
      "\u001b[1;31mNameError\u001b[0m: name 'NUM_REGIONS' is not defined"
     ]
    }
   ],
   "source": [
    "locations = [get_representative(i) for i in range(NUM_REGIONS)]\n",
    "\n",
    "durations = []\n",
    "\n",
    "for i in range(25):\n",
    "    start = i * 8\n",
    "    sources = list(range(start, start + 8))\n",
    "    body = {\"locations\": locations, \"sources\": sources}\n",
    "    \n",
    "    call = requests.post('https://api.openrouteservice.org/v2/matrix/driving-car', json=body, headers=headers)\n",
    "    \n",
    "    duration_batch = call.json()['durations']\n",
    "    for j in range(len(duration_batch)):\n",
    "        durations.append(duration_batch[j])\n",
    "        \n",
    "    time.sleep(0.1)\n",
    "    \n",
    "pprint.pprint(durations)\n"
   ]
  },
  {
   "cell_type": "code",
   "execution_count": 468,
   "metadata": {},
   "outputs": [
    {
     "data": {
      "text/plain": [
       "200"
      ]
     },
     "execution_count": 468,
     "metadata": {},
     "output_type": "execute_result"
    }
   ],
   "source": [
    "len(durations)"
   ]
  },
  {
   "cell_type": "code",
   "execution_count": 127,
   "metadata": {},
   "outputs": [],
   "source": [
    "#This is setting the time from region i to i. By default we set it to 5 minutes.\n",
    "for i in range(len(durations)):\n",
    "    for j in range(len(durations[0])):\n",
    "        if i != j:\n",
    "            continue\n",
    "        durations[i][j] = 300\n"
   ]
  },
  {
   "cell_type": "code",
   "execution_count": 128,
   "metadata": {},
   "outputs": [],
   "source": [
    "for i in range(len(durations)):\n",
    "    for j in range(len(durations[0])):\n",
    "        if durations[i][j] is None:\n",
    "            print(i,j)\n",
    "            durations[i][j] = 300"
   ]
  },
  {
   "cell_type": "code",
   "execution_count": 129,
   "metadata": {},
   "outputs": [
    {
     "data": {
      "text/plain": [
       "200"
      ]
     },
     "execution_count": 129,
     "metadata": {},
     "output_type": "execute_result"
    }
   ],
   "source": [
    "len(durations)"
   ]
  },
  {
   "cell_type": "code",
   "execution_count": null,
   "metadata": {},
   "outputs": [],
   "source": [
    "#never used?\n",
    "#def in_grid(grid_lat, grid_lon, lat, lon):\n",
    "#    return (grid_lat <= lat <= grid_lat + LATITUDE_DELTA and grid_lon <= lon <= grid_lon + LONGITUDE_DELTA)"
   ]
  },
  {
   "cell_type": "code",
   "execution_count": 130,
   "metadata": {},
   "outputs": [],
   "source": [
    "census_tract_grids = collections.defaultdict(set)\n",
    "visited = set()\n",
    "for tract_name in census_tracts_points:\n",
    "    for lat, lon in census_tracts_points[tract_name]:\n",
    "        region = map_point_to_region(lat, lon)\n",
    "#         if region not in visited:\n",
    "        census_tract_grids[tract_name].add(region)\n",
    "#         visited.add(region)\n",
    "    census_tract_grids[tract_name] = list(census_tract_grids[tract_name])"
   ]
  },
  {
   "cell_type": "markdown",
   "metadata": {},
   "source": [
    "### This is where we export the json"
   ]
  },
  {
   "cell_type": "code",
   "execution_count": 131,
   "metadata": {},
   "outputs": [
    {
     "data": {
      "text/plain": [
       "'grid_info_400.json'"
      ]
     },
     "execution_count": 131,
     "metadata": {},
     "output_type": "execute_result"
    }
   ],
   "source": [
    "import json\n",
    "\n",
    "d = {\"latitude_min\": min_lat, \"longitude_min\": min_lon, \"latitude_max\": max_lat, \"longitude_max\": max_lon, \"latitude_step\": latitude_delta, \"longitude_step\": longitude_delta}\n",
    "d[\"time_matrix\"] = durations\n",
    "d[\"census_tract_region_mapping\"] = dict(census_tract_grids)\n",
    "d[\"NUM_REGIONS\"] = NUM_REGIONS\n",
    "# with open(\"grid_info_multiple.json\", \"w\") as j:\n",
    "s = \"grid_info_\" + str(NUM_REGIONS) + \".json\"\n",
    "s"
   ]
  },
  {
   "cell_type": "code",
   "execution_count": 137,
   "metadata": {},
   "outputs": [
    {
     "data": {
      "text/plain": [
       "200"
      ]
     },
     "execution_count": 137,
     "metadata": {},
     "output_type": "execute_result"
    }
   ],
   "source": []
  },
  {
   "cell_type": "code",
   "execution_count": null,
   "metadata": {},
   "outputs": [],
   "source": [
    "with open(s, \"w\") as j:\n",
    "    json.dump(d, j)"
   ]
  },
  {
   "cell_type": "code",
   "execution_count": null,
   "metadata": {},
   "outputs": [],
   "source": [
    "import json\n",
    "with open(\"../austin-ems-data/grid_info_multiple.json\", \"r\") as j:\n",
    "    info = json.load(j)"
   ]
  },
  {
   "cell_type": "code",
   "execution_count": null,
   "metadata": {},
   "outputs": [],
   "source": [
    "info[\"time_matrix\"]"
   ]
  },
  {
   "cell_type": "code",
   "execution_count": null,
   "metadata": {},
   "outputs": [],
   "source": []
  }
 ],
 "metadata": {
  "kernelspec": {
   "display_name": "Python 3",
   "language": "python",
   "name": "python3"
  },
  "language_info": {
   "codemirror_mode": {
    "name": "ipython",
    "version": 3
   },
   "file_extension": ".py",
   "mimetype": "text/x-python",
   "name": "python",
   "nbconvert_exporter": "python",
   "pygments_lexer": "ipython3",
   "version": "3.8.5"
  }
 },
 "nbformat": 4,
 "nbformat_minor": 4
}

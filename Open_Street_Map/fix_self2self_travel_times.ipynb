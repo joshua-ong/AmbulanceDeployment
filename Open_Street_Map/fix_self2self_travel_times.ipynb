{
 "cells": [
  {
   "cell_type": "code",
   "execution_count": null,
   "id": "b82ede3d",
   "metadata": {},
   "outputs": [],
   "source": []
  },
  {
   "cell_type": "code",
   "execution_count": 4,
   "id": "7c0bf116",
   "metadata": {},
   "outputs": [],
   "source": [
    "import numpy as np\n",
    "import matplotlib.pyplot as plt\n",
    "import seaborn as sns\n",
    "import csv\n",
    "import collections\n",
    "import pandas as pd\n",
    "import math\n",
    "import json\n"
   ]
  },
  {
   "cell_type": "code",
   "execution_count": 5,
   "id": "af6de3eb",
   "metadata": {},
   "outputs": [],
   "source": [
    "#load grid \n",
    "# This is the grid object, which is used throughout all data preprocessing.\n",
    "# It represents the city of Austin through a series of grids.\n",
    "# It thus makes a tractable way to compute distance between grids, ect. \n",
    "class Grid():\n",
    "    def __init__(self, grid_json):\n",
    "        self.grid = grid_json\n",
    "        self.min_lat = self.grid[\"latitude_min\"]\n",
    "        self.min_lon = self.grid[\"longitude_min\"]\n",
    "        self.max_lat = self.grid[\"latitude_max\"]\n",
    "        self.max_lon = self.grid[\"longitude_max\"]\n",
    "        self.latitude_delta = self.grid[\"latitude_step\"]\n",
    "        self.longitude_delta = self.grid[\"longitude_step\"]\n",
    "        self.nrows = math.ceil((self.max_lat - self.min_lat) / self.latitude_delta)\n",
    "        self.ncols = math.ceil((self.max_lon - self.min_lon) / self.longitude_delta)\n",
    "        self.times = self.grid[\"time_matrix\"]\n",
    "        self.census_tract_region_map = self.grid[\"census_tract_region_mapping\"]\n",
    "        self.region_to_tract = collections.defaultdict(list)\n",
    "        for census_tract in self.census_tract_region_map:\n",
    "            for region in self.census_tract_region_map[census_tract]:\n",
    "                self.region_to_tract[region].append(census_tract)\n",
    "    def map_point_to_region(self, latitude, longitude):\n",
    "        return math.floor((latitude-self.min_lat)/self.latitude_delta) * self.ncols  + math.floor((longitude-self.min_lon)/self.longitude_delta)\n",
    "    def get_representative(self, region_num):\n",
    "        row_num = region_num//self.ncols\n",
    "        col_num = region_num - row_num*self.ncols\n",
    "        lat = self.min_lat + row_num * self.latitude_delta + 0.5*self.latitude_delta\n",
    "        lon = self.min_lon + col_num * self.longitude_delta + 0.5*self.longitude_delta\n",
    "        return [lon, lat]\n",
    "    def get_time(self, region1, region2):\n",
    "        try:\n",
    "            return self.times[region1][region2]\n",
    "        except IndexError:\n",
    "            return -1\n",
    "    def region_to_census_tract(self, region):\n",
    "        try:\n",
    "            return self.region_to_tract[region]\n",
    "        except KeyError:\n",
    "            return \"0_0\""
   ]
  },
  {
   "cell_type": "code",
   "execution_count": 6,
   "id": "26b9af19",
   "metadata": {},
   "outputs": [],
   "source": [
    "# Using smaller distance matrix for hopefully faster runtime of Julia code\n",
    "with open(\"../Input_Data/grid_info_multiple.json\", \"r\") as f:\n",
    "    grid_json = json.load(f)\n",
    "g = Grid(grid_json)"
   ]
  },
  {
   "cell_type": "code",
   "execution_count": 23,
   "id": "3d372936",
   "metadata": {},
   "outputs": [],
   "source": [
    "def writeNeighbors(reg_num, numrows, numcols):\n",
    "    reg_idx = reg_num\n",
    "    neighbors = []\n",
    "    \n",
    "    #write at reg_num\n",
    "#     if (reg_num>=1) and (reg_num<=numrows*numcols):\n",
    "#         neighbors.append(reg_idx)\n",
    "    \n",
    "    #row-1, col\n",
    "    if not (reg_num//numcols == 0):\n",
    "        neighbors.append(reg_idx-numcols)\n",
    "    \n",
    "    #row+1, col\n",
    "    if  (reg_num <= (numrows-1)*numcols):\n",
    "        neighbors.append(reg_idx+numcols)\n",
    "    \n",
    "    #row, col-1\n",
    "    if not (reg_num%numcols == 1):\n",
    "        neighbors.append(reg_idx-1)\n",
    "    \n",
    "    #row, col+1\n",
    "    if  not (reg_num%numcols == 0):\n",
    "        neighbors.append(reg_idx+1) \n",
    "    return neighbors"
   ]
  },
  {
   "cell_type": "code",
   "execution_count": 48,
   "id": "3b7ec954",
   "metadata": {},
   "outputs": [
    {
     "data": {
      "text/plain": [
       "0"
      ]
     },
     "execution_count": 48,
     "metadata": {},
     "output_type": "execute_result"
    }
   ],
   "source": [
    "g.times[1][2]"
   ]
  },
  {
   "cell_type": "code",
   "execution_count": 51,
   "id": "40a33ee7",
   "metadata": {},
   "outputs": [
    {
     "data": {
      "text/plain": [
       "0"
      ]
     },
     "execution_count": 51,
     "metadata": {},
     "output_type": "execute_result"
    }
   ],
   "source": [
    "#23k ->0\n",
    "none_count = 0\n",
    "for i in range(len(g.times)):\n",
    "    for j in range(len(g.times)):\n",
    "        if(g.get_time(i,j) == None):\n",
    "            g.times[i][j] = 0\n",
    "            none_count = none_count + 1\n",
    "none_count"
   ]
  },
  {
   "cell_type": "code",
   "execution_count": 56,
   "id": "2db91e71",
   "metadata": {},
   "outputs": [
    {
     "data": {
      "text/plain": [
       "4023530.5700000003"
      ]
     },
     "execution_count": 56,
     "metadata": {},
     "output_type": "execute_result"
    }
   ],
   "source": []
  },
  {
   "cell_type": "code",
   "execution_count": null,
   "id": "a9561ad7",
   "metadata": {},
   "outputs": [],
   "source": []
  },
  {
   "cell_type": "code",
   "execution_count": 90,
   "id": "a5590117",
   "metadata": {},
   "outputs": [],
   "source": [
    "def selfTime(regionNumber):\n",
    "    nbhs = writeNeighbors(regionNumber,g.nrows,g.ncols)\n",
    "    mean_time = 0\n",
    "    for i in range(len(nbhs)):\n",
    "        #print(a[i])\n",
    "        #print(g.get_time(regionNumber,nbhs[i]))\n",
    "        mean_time = mean_time + g.get_time(regionNumber,nbhs[i])\n",
    "    mean_time = mean_time / len(nbhs)\n",
    "    return mean_time"
   ]
  },
  {
   "cell_type": "code",
   "execution_count": 81,
   "id": "bdc41348",
   "metadata": {
    "scrolled": true
   },
   "outputs": [
    {
     "name": "stdout",
     "output_type": "stream",
     "text": [
      "762.2\n",
      "409.66\n",
      "246.39\n",
      "80.66\n"
     ]
    },
    {
     "data": {
      "text/plain": [
       "374.7275"
      ]
     },
     "execution_count": 81,
     "metadata": {},
     "output_type": "execute_result"
    }
   ],
   "source": [
    "\n"
   ]
  },
  {
   "cell_type": "code",
   "execution_count": 85,
   "id": "4864cfde",
   "metadata": {
    "scrolled": true
   },
   "outputs": [
    {
     "name": "stdout",
     "output_type": "stream",
     "text": [
      "762.2\n",
      "409.66\n",
      "246.39\n",
      "80.66\n"
     ]
    },
    {
     "data": {
      "text/plain": [
       "374.7275"
      ]
     },
     "execution_count": 85,
     "metadata": {},
     "output_type": "execute_result"
    }
   ],
   "source": [
    "selfTime(1000)"
   ]
  },
  {
   "cell_type": "code",
   "execution_count": 91,
   "id": "2b97123a",
   "metadata": {},
   "outputs": [],
   "source": [
    "#This is setting the time from region i to i. By default we set it to 5 minutes.\n",
    "#selfTimeList = [] \n",
    "for i in range(len(g.times)):\n",
    "    #selfTimeList.append(selfTime(i))\n",
    "    g.times[i][i] = selfTime(i)"
   ]
  },
  {
   "cell_type": "code",
   "execution_count": 101,
   "id": "b1c39ed4",
   "metadata": {},
   "outputs": [
    {
     "data": {
      "text/plain": [
       "326.60992135416666"
      ]
     },
     "execution_count": 101,
     "metadata": {},
     "output_type": "execute_result"
    }
   ],
   "source": [
    "np.mean(selfTimeList)"
   ]
  },
  {
   "cell_type": "code",
   "execution_count": 97,
   "id": "2f5e0bc4",
   "metadata": {},
   "outputs": [],
   "source": [
    "import json\n",
    "d = {\"latitude_min\": g.min_lat, \"longitude_min\": g.min_lon, \"latitude_max\": g.max_lat, \"longitude_max\": g.max_lon, \"latitude_step\": g.latitude_delta, \"longitude_step\": g.longitude_delta}\n",
    "d[\"time_matrix\"] = g.times\n",
    "d[\"census_tract_region_mapping\"] = g.grid[\"census_tract_region_mapping\"]\n",
    "d[\"NUM_REGIONS\"] = 3200\n",
    "# with open(\"grid_info_multiple.json\", \"w\") as j:\n",
    "s = \"grid_info_\" + str(3200) + \".json\"\n",
    "\n",
    "with open(s, \"w\") as j:\n",
    "    json.dump(d, j)\n",
    "    "
   ]
  },
  {
   "cell_type": "code",
   "execution_count": 98,
   "id": "8f82ecb4",
   "metadata": {},
   "outputs": [],
   "source": [
    "# Using smaller distance matrix for hopefully faster runtime of Julia code\n",
    "with open(\"../Input_Data/grid_info_3200_v2.json\", \"r\") as f:\n",
    "    grid_json = json.load(f)\n",
    "g = Grid(grid_json)"
   ]
  },
  {
   "cell_type": "code",
   "execution_count": 100,
   "id": "570f23be",
   "metadata": {
    "scrolled": true
   },
   "outputs": [
    {
     "data": {
      "text/plain": [
       "80.66"
      ]
     },
     "execution_count": 100,
     "metadata": {},
     "output_type": "execute_result"
    }
   ],
   "source": [
    "g.get_time(1000,1001)"
   ]
  },
  {
   "cell_type": "code",
   "execution_count": null,
   "id": "8fee9930",
   "metadata": {},
   "outputs": [],
   "source": []
  }
 ],
 "metadata": {
  "kernelspec": {
   "display_name": "Python 3",
   "language": "python",
   "name": "python3"
  },
  "language_info": {
   "codemirror_mode": {
    "name": "ipython",
    "version": 3
   },
   "file_extension": ".py",
   "mimetype": "text/x-python",
   "name": "python",
   "nbconvert_exporter": "python",
   "pygments_lexer": "ipython3",
   "version": "3.8.10"
  }
 },
 "nbformat": 4,
 "nbformat_minor": 5
}

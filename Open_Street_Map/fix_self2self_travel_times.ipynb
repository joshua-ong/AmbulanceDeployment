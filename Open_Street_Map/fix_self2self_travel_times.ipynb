{
 "cells": [
  {
   "cell_type": "markdown",
   "id": "8635555e",
   "metadata": {},
   "source": [
    "Summary\n",
    "* v1 remove none travel times\n",
    "* v2 fix time to self \n",
    "* v3 I think 0 minute travel times might be breaking the simulation so I might change it to 5 minutes? The other solution would be to query and find why the travel times are zero. Wait can I do this today?"
   ]
  },
  {
   "cell_type": "code",
   "execution_count": 1,
   "id": "5b491722",
   "metadata": {},
   "outputs": [],
   "source": [
    "import numpy as np\n",
    "import matplotlib.pyplot as plt\n",
    "import seaborn as sns\n",
    "import csv\n",
    "import collections\n",
    "import pandas as pd\n",
    "import math\n",
    "import json\n"
   ]
  },
  {
   "cell_type": "code",
   "execution_count": 2,
   "id": "2a2c52d7",
   "metadata": {},
   "outputs": [],
   "source": [
    "#load grid \n",
    "# This is the grid object, which is used throughout all data preprocessing.\n",
    "# It represents the city of Austin through a series of grids.\n",
    "# It thus makes a tractable way to compute distance between grids, ect. \n",
    "class Grid():\n",
    "    def __init__(self, grid_json):\n",
    "        self.grid = grid_json\n",
    "        self.min_lat = self.grid[\"latitude_min\"]\n",
    "        self.min_lon = self.grid[\"longitude_min\"]\n",
    "        self.max_lat = self.grid[\"latitude_max\"]\n",
    "        self.max_lon = self.grid[\"longitude_max\"]\n",
    "        self.latitude_delta = self.grid[\"latitude_step\"]\n",
    "        self.longitude_delta = self.grid[\"longitude_step\"]\n",
    "        self.nrows = math.ceil((self.max_lat - self.min_lat) / self.latitude_delta)\n",
    "        self.ncols = math.ceil((self.max_lon - self.min_lon) / self.longitude_delta)\n",
    "        self.times = self.grid[\"time_matrix\"]\n",
    "        self.census_tract_region_map = self.grid[\"census_tract_region_mapping\"]\n",
    "        self.region_to_tract = collections.defaultdict(list)\n",
    "        for census_tract in self.census_tract_region_map:\n",
    "            for region in self.census_tract_region_map[census_tract]:\n",
    "                self.region_to_tract[region].append(census_tract)\n",
    "    def map_point_to_region(self, latitude, longitude):\n",
    "        return math.floor((latitude-self.min_lat)/self.latitude_delta) * self.ncols  + math.floor((longitude-self.min_lon)/self.longitude_delta)\n",
    "    def get_representative(self, region_num):\n",
    "        row_num = region_num//self.ncols\n",
    "        col_num = region_num - row_num*self.ncols\n",
    "        lat = self.min_lat + row_num * self.latitude_delta + 0.5*self.latitude_delta\n",
    "        lon = self.min_lon + col_num * self.longitude_delta + 0.5*self.longitude_delta\n",
    "        return [lon, lat]\n",
    "    def get_time(self, region1, region2):\n",
    "        try:\n",
    "            return self.times[region1][region2]\n",
    "        except IndexError:\n",
    "            return -1\n",
    "    def region_to_census_tract(self, region):\n",
    "        try:\n",
    "            return self.region_to_tract[region]\n",
    "        except KeyError:\n",
    "            return \"0_0\""
   ]
  },
  {
   "cell_type": "code",
   "execution_count": 8,
   "id": "be309e4b",
   "metadata": {},
   "outputs": [],
   "source": [
    "# Using smaller distance matrix for hopefully faster runtime of Julia code\n",
    "with open(\"../Input_Data/grid_info_3200_v3.json\", \"r\") as f:\n",
    "    grid_json = json.load(f)\n",
    "g = Grid(grid_json)"
   ]
  },
  {
   "cell_type": "code",
   "execution_count": 9,
   "id": "cc2d9af3",
   "metadata": {},
   "outputs": [],
   "source": [
    "def writeNeighbors(reg_num, numrows, numcols):\n",
    "    reg_idx = reg_num\n",
    "    neighbors = []\n",
    "    #write at reg_num\n",
    "#     if (reg_num>=1) and (reg_num<=numrows*numcols):\n",
    "#         neighbors.append(reg_idx)\n",
    "    #row-1, col\n",
    "    if not (reg_num//numcols == 0):\n",
    "        neighbors.append(reg_idx-numcols)\n",
    "    \n",
    "    #row+1, col\n",
    "    if  (reg_num <= (numrows-1)*numcols):\n",
    "        neighbors.append(reg_idx+numcols)\n",
    "    \n",
    "    #row, col-1\n",
    "    if not (reg_num%numcols == 1):\n",
    "        neighbors.append(reg_idx-1)\n",
    "    \n",
    "    #row, col+1\n",
    "    if  not (reg_num%numcols == 0):\n",
    "        neighbors.append(reg_idx+1) \n",
    "    return neighbors"
   ]
  },
  {
   "cell_type": "code",
   "execution_count": 11,
   "id": "2298dcd7",
   "metadata": {},
   "outputs": [
    {
     "data": {
      "text/plain": [
       "True"
      ]
     },
     "execution_count": 11,
     "metadata": {},
     "output_type": "execute_result"
    }
   ],
   "source": [
    "g.times[1][2] "
   ]
  },
  {
   "cell_type": "code",
   "execution_count": 24,
   "id": "9cc2f6e1",
   "metadata": {},
   "outputs": [
    {
     "data": {
      "text/plain": [
       "0"
      ]
     },
     "execution_count": 24,
     "metadata": {},
     "output_type": "execute_result"
    }
   ],
   "source": [
    "#23k ->0\n",
    "none_count = 0\n",
    "for i in range(len(g.times)):\n",
    "    for j in range(len(g.times)):\n",
    "        if(g.get_time(i,j) == None):\n",
    "            g.times[i][j] = 0\n",
    "            none_count = none_count + 1\n",
    "none_count"
   ]
  },
  {
   "cell_type": "code",
   "execution_count": 31,
   "id": "d7a3460e",
   "metadata": {},
   "outputs": [
    {
     "data": {
      "text/plain": [
       "0.6317001953125"
      ]
     },
     "execution_count": 31,
     "metadata": {},
     "output_type": "execute_result"
    }
   ],
   "source": [
    "zero_count = 0\n",
    "for i in range(len(g.times)):\n",
    "    for j in range(len(g.times)):\n",
    "        if(g.get_time(i,j) == 0):\n",
    "            g.times[i][j] = 300\n",
    "            zero_count = zero_count + 1\n",
    "zero_count / (3200* 3200)"
   ]
  },
  {
   "cell_type": "code",
   "execution_count": 32,
   "id": "54c627bc",
   "metadata": {},
   "outputs": [],
   "source": [
    "def selfTime(regionNumber):\n",
    "    nbhs = writeNeighbors(regionNumber,g.nrows,g.ncols)\n",
    "    mean_time = 0\n",
    "    for i in range(len(nbhs)):\n",
    "        #print(a[i])\n",
    "        #print(g.get_time(regionNumber,nbhs[i]))\n",
    "        mean_time = mean_time + g.get_time(regionNumber,nbhs[i])\n",
    "    mean_time = mean_time / len(nbhs)\n",
    "    return mean_time"
   ]
  },
  {
   "cell_type": "code",
   "execution_count": 33,
   "id": "e36da160",
   "metadata": {
    "scrolled": true
   },
   "outputs": [
    {
     "data": {
      "text/plain": [
       "374.7275"
      ]
     },
     "execution_count": 33,
     "metadata": {},
     "output_type": "execute_result"
    }
   ],
   "source": [
    "selfTime(1000)"
   ]
  },
  {
   "cell_type": "code",
   "execution_count": 34,
   "id": "0309779e",
   "metadata": {},
   "outputs": [],
   "source": [
    "#This is setting the time from region i to i. By default we set it to 5 minutes.\n",
    "selfTimeList = [] \n",
    "for i in range(len(g.times)):\n",
    "    selfTimeList.append(selfTime(i))\n",
    "    g.times[i][i] = selfTime(i)"
   ]
  },
  {
   "cell_type": "code",
   "execution_count": 35,
   "id": "298ec8a2",
   "metadata": {},
   "outputs": [
    {
     "data": {
      "text/plain": [
       "450.0708588541667"
      ]
     },
     "execution_count": 35,
     "metadata": {},
     "output_type": "execute_result"
    }
   ],
   "source": [
    "np.mean(selfTimeList)"
   ]
  },
  {
   "cell_type": "code",
   "execution_count": 38,
   "id": "ed816dcf",
   "metadata": {},
   "outputs": [],
   "source": [
    "import json\n",
    "d = {\"latitude_min\": g.min_lat, \"longitude_min\": g.min_lon, \"latitude_max\": g.max_lat, \"longitude_max\": g.max_lon, \"latitude_step\": g.latitude_delta, \"longitude_step\": g.longitude_delta}\n",
    "d[\"time_matrix\"] = g.times\n",
    "d[\"census_tract_region_mapping\"] = g.grid[\"census_tract_region_mapping\"]\n",
    "d[\"NUM_REGIONS\"] = 3200\n",
    "# with open(\"grid_info_multiple.json\", \"w\") as j:\n",
    "s = \"grid_info_\" + str(3200) + \"_v3.json\"\n",
    "\n",
    "with open(s, \"w\") as j:\n",
    "    json.dump(d, j)\n",
    "    "
   ]
  },
  {
   "cell_type": "code",
   "execution_count": 39,
   "id": "e4f8103a",
   "metadata": {},
   "outputs": [
    {
     "ename": "FileNotFoundError",
     "evalue": "[Errno 2] No such file or directory: '../Input_Data/grid_info_3200_v3.json'",
     "output_type": "error",
     "traceback": [
      "\u001b[1;31m---------------------------------------------------------------------------\u001b[0m",
      "\u001b[1;31mFileNotFoundError\u001b[0m                         Traceback (most recent call last)",
      "\u001b[1;32m<ipython-input-39-e679eb6b5542>\u001b[0m in \u001b[0;36m<module>\u001b[1;34m\u001b[0m\n\u001b[0;32m      1\u001b[0m \u001b[1;31m# Using smaller distance matrix for hopefully faster runtime of Julia code\u001b[0m\u001b[1;33m\u001b[0m\u001b[1;33m\u001b[0m\u001b[1;33m\u001b[0m\u001b[0m\n\u001b[1;32m----> 2\u001b[1;33m \u001b[1;32mwith\u001b[0m \u001b[0mopen\u001b[0m\u001b[1;33m(\u001b[0m\u001b[1;34m\"../Input_Data/grid_info_3200_v3.json\"\u001b[0m\u001b[1;33m,\u001b[0m \u001b[1;34m\"r\"\u001b[0m\u001b[1;33m)\u001b[0m \u001b[1;32mas\u001b[0m \u001b[0mf\u001b[0m\u001b[1;33m:\u001b[0m\u001b[1;33m\u001b[0m\u001b[1;33m\u001b[0m\u001b[0m\n\u001b[0m\u001b[0;32m      3\u001b[0m     \u001b[0mgrid_json\u001b[0m \u001b[1;33m=\u001b[0m \u001b[0mjson\u001b[0m\u001b[1;33m.\u001b[0m\u001b[0mload\u001b[0m\u001b[1;33m(\u001b[0m\u001b[0mf\u001b[0m\u001b[1;33m)\u001b[0m\u001b[1;33m\u001b[0m\u001b[1;33m\u001b[0m\u001b[0m\n\u001b[0;32m      4\u001b[0m \u001b[0mg\u001b[0m \u001b[1;33m=\u001b[0m \u001b[0mGrid\u001b[0m\u001b[1;33m(\u001b[0m\u001b[0mgrid_json\u001b[0m\u001b[1;33m)\u001b[0m\u001b[1;33m\u001b[0m\u001b[1;33m\u001b[0m\u001b[0m\n",
      "\u001b[1;31mFileNotFoundError\u001b[0m: [Errno 2] No such file or directory: '../Input_Data/grid_info_3200_v3.json'"
     ]
    }
   ],
   "source": [
    "# Using smaller distance matrix for hopefully faster runtime of Julia code\n",
    "with open(\"../Input_Data/grid_info_3200_v3.json\", \"r\") as f:\n",
    "    grid_json = json.load(f)\n",
    "g = Grid(grid_json)"
   ]
  },
  {
   "cell_type": "code",
   "execution_count": null,
   "id": "96a993cc",
   "metadata": {},
   "outputs": [],
   "source": []
  }
 ],
 "metadata": {
  "kernelspec": {
   "display_name": "Python 3",
   "language": "python",
   "name": "python3"
  },
  "language_info": {
   "codemirror_mode": {
    "name": "ipython",
    "version": 3
   },
   "file_extension": ".py",
   "mimetype": "text/x-python",
   "name": "python",
   "nbconvert_exporter": "python",
   "pygments_lexer": "ipython3",
   "version": "3.7.3"
  }
 },
 "nbformat": 4,
 "nbformat_minor": 5
}

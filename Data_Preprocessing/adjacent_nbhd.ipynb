{
 "cells": [
  {
   "cell_type": "markdown",
   "metadata": {},
   "source": [
    "Author: Joshua, Will, Ethan <br />\n",
    "Summary: Given a grid, makes an adjacency matrix. I.e. {0,1} if two squares in a grid are adjacent.  "
   ]
  },
  {
   "cell_type": "code",
   "execution_count": 1,
   "metadata": {},
   "outputs": [],
   "source": [
    "import csv\n",
    "import collections\n",
    "import pandas as pd\n",
    "import numpy as np\n",
    "import math\n",
    "import json"
   ]
  },
  {
   "cell_type": "code",
   "execution_count": 2,
   "metadata": {},
   "outputs": [],
   "source": [
    "# This is the grid object, which is used throughout all data preprocessing.\n",
    "# It represents the city of Austin through a series of grids.\n",
    "# It thus makes a tractable way to compute distance between grids, ect. \n",
    "# Note 1: grid starts counting at 0 (not 1).\n",
    "class Grid():\n",
    "    def __init__(self, grid_json):\n",
    "        self.grid = grid_json\n",
    "        self.min_lat = self.grid[\"latitude_min\"]\n",
    "        self.min_lon = self.grid[\"longitude_min\"]\n",
    "        self.max_lat = self.grid[\"latitude_max\"]\n",
    "        self.max_lon = self.grid[\"longitude_max\"]\n",
    "        self.latitude_delta = self.grid[\"latitude_step\"]\n",
    "        self.longitude_delta = self.grid[\"longitude_step\"]\n",
    "        self.nrows = math.ceil((self.max_lat - self.min_lat) / self.latitude_delta)\n",
    "        self.ncols = math.ceil((self.max_lon - self.min_lon) / self.longitude_delta)\n",
    "        self.times = self.grid[\"time_matrix\"]\n",
    "        self.census_tract_region_map = self.grid[\"census_tract_region_mapping\"]\n",
    "        self.region_to_tract = collections.defaultdict(list)\n",
    "        for census_tract in self.census_tract_region_map:\n",
    "            for region in self.census_tract_region_map[census_tract]:\n",
    "                self.region_to_tract[region].append(census_tract)\n",
    "    def map_point_to_region(self, latitude, longitude):\n",
    "        return math.floor((latitude-self.min_lat)/self.latitude_delta) * self.ncols  + math.floor((longitude-self.min_lon)/self.longitude_delta)\n",
    "    def get_representative(self, region_num):\n",
    "        row_num = region_num//self.ncols\n",
    "        col_num = region_num - row_num*self.ncols\n",
    "        lat = self.min_lat + row_num * self.latitude_delta + 0.5*self.latitude_delta\n",
    "        lon = self.min_lon + col_num * self.longitude_delta + 0.5*self.longitude_delta\n",
    "        return [lon, lat]\n",
    "    def get_time(self, region1, region2):\n",
    "        try:\n",
    "            return self.times[region1][region2]\n",
    "        except IndexError:\n",
    "            return -1\n",
    "    def region_to_census_tract(self, region):\n",
    "        try:\n",
    "            return self.region_to_tract[region]\n",
    "        except KeyError:\n",
    "            return \"0_0\""
   ]
  },
  {
   "cell_type": "code",
   "execution_count": 4,
   "metadata": {},
   "outputs": [],
   "source": [
    "# Using old distance matrix to get an idea of how close we are (?)\n",
    "with open(\"../Input_Data/grid_info_3200_v2.json\", \"r\") as f:\n",
    "    grid_json = json.load(f)\n",
    "g = Grid(grid_json)\n",
    "#g.map_point_to_region(0, 5)\n",
    "#g.region_to_tract"
   ]
  },
  {
   "cell_type": "code",
   "execution_count": 5,
   "metadata": {},
   "outputs": [
    {
     "name": "stdout",
     "output_type": "stream",
     "text": [
      "53 61\n"
     ]
    }
   ],
   "source": [
    "numregions = g.nrows*g.ncols\n",
    "print(g.nrows, g.ncols)"
   ]
  },
  {
   "cell_type": "code",
   "execution_count": 6,
   "metadata": {},
   "outputs": [],
   "source": [
    "#adj = np.zeros((numregions, numregions), dtype=np.uint8) #this is the adjacency matrix"
   ]
  },
  {
   "cell_type": "code",
   "execution_count": 7,
   "metadata": {},
   "outputs": [
    {
     "data": {
      "text/plain": [
       "array([[0, 0, 0, 0, 0, 0, 0, 0, 0, 0],\n",
       "       [0, 0, 0, 0, 0, 0, 0, 0, 0, 0],\n",
       "       [0, 0, 0, 0, 0, 0, 0, 0, 0, 0],\n",
       "       [0, 0, 0, 0, 0, 0, 0, 0, 0, 0],\n",
       "       [0, 0, 0, 0, 0, 0, 0, 0, 0, 0],\n",
       "       [0, 0, 0, 0, 0, 0, 0, 0, 0, 0],\n",
       "       [0, 0, 0, 0, 0, 0, 0, 0, 0, 0],\n",
       "       [0, 0, 0, 0, 0, 0, 0, 0, 0, 0],\n",
       "       [0, 0, 0, 0, 0, 0, 0, 0, 0, 1],\n",
       "       [0, 0, 0, 0, 0, 0, 0, 0, 1, 1]], dtype=uint8)"
      ]
     },
     "execution_count": 7,
     "metadata": {},
     "output_type": "execute_result"
    }
   ],
   "source": [
    "#fun and funny are an example, we use it on the grid later\n",
    "fun = np.zeros((10,10), dtype=np.uint8)\n",
    "funny = fun.ravel()\n",
    "\n",
    "def writeNeighbors(reg_num, numrows, numcols, grid_index):\n",
    "    reg_idx = reg_num  #why was the off indexed by 1?\n",
    "     \n",
    "    #write at reg_num\n",
    "    if (reg_num<=numrows*numcols): #(reg_num>=1) and\n",
    "        if(reg_idx >= len(g.times)):\n",
    "            print(\"error\")\n",
    "            pass\n",
    "        else:\n",
    "            grid_index[reg_idx] = 1\n",
    "    \n",
    "    #row-1, col\n",
    "    if not (reg_num//numcols == 0):\n",
    "        if(reg_idx-numcols >= len(g.times)):\n",
    "            pass\n",
    "        else:\n",
    "            grid_index[(reg_idx-numcols)] = 1\n",
    "    \n",
    "    #row+1, col\n",
    "    if  (reg_num <= (numrows-1)*numcols):\n",
    "        if(reg_idx+numcols >= len(g.times)):\n",
    "            pass\n",
    "        else:\n",
    "            grid_index[(reg_idx+numcols)] = 1\n",
    "    \n",
    "    #row, col-1\n",
    "    if not (reg_num%numcols == 0):\n",
    "        if(reg_idx - 1 >= len(g.times)):\n",
    "            pass\n",
    "        else:\n",
    "            grid_index[(reg_idx-1)] = 1\n",
    "    \n",
    "    #row, col+1\n",
    "    if  not (reg_num%numcols == numcols - 1):\n",
    "        if(reg_idx + 1 >= len(g.times)):\n",
    "            pass\n",
    "        else:\n",
    "            grid_index[(reg_idx+1)] = 1\n",
    "\n",
    "#you can change the first number and see how the adjancency \n",
    "writeNeighbors(99, 10, 10, funny)\n",
    "fun"
   ]
  },
  {
   "cell_type": "code",
   "execution_count": 8,
   "metadata": {},
   "outputs": [
    {
     "data": {
      "text/plain": [
       "0"
      ]
     },
     "execution_count": 8,
     "metadata": {},
     "output_type": "execute_result"
    }
   ],
   "source": [
    "10%10"
   ]
  },
  {
   "cell_type": "code",
   "execution_count": 9,
   "metadata": {},
   "outputs": [],
   "source": [
    "writeNeighbors(0, 10, 10, funny)"
   ]
  },
  {
   "cell_type": "code",
   "execution_count": 10,
   "metadata": {},
   "outputs": [
    {
     "data": {
      "text/plain": [
       "array([[1, 1, 0, 0, 0, 0, 0, 0, 0, 0],\n",
       "       [1, 0, 0, 0, 0, 0, 0, 0, 0, 0],\n",
       "       [0, 0, 0, 0, 0, 0, 0, 0, 0, 0],\n",
       "       [0, 0, 0, 0, 0, 0, 0, 0, 0, 0],\n",
       "       [0, 0, 0, 0, 0, 0, 0, 0, 0, 0],\n",
       "       [0, 0, 0, 0, 0, 0, 0, 0, 0, 0],\n",
       "       [0, 0, 0, 0, 0, 0, 0, 0, 0, 0],\n",
       "       [0, 0, 0, 0, 0, 0, 0, 0, 0, 0],\n",
       "       [0, 0, 0, 0, 0, 0, 0, 0, 0, 1],\n",
       "       [0, 0, 0, 0, 0, 0, 0, 0, 1, 1]], dtype=uint8)"
      ]
     },
     "execution_count": 10,
     "metadata": {},
     "output_type": "execute_result"
    }
   ],
   "source": [
    "fun"
   ]
  },
  {
   "cell_type": "code",
   "execution_count": 11,
   "metadata": {},
   "outputs": [],
   "source": [
    "data = pd.DataFrame()\n",
    "#data[\"id\"] = [x for x in range(1, g.nrows*g.ncols+1)] #I just have to remove this header later\n",
    "\n",
    "for i in range(0, len(g.times)): #g.nrows*g.ncols+1):\n",
    "    column = [0 for x in range(0,len(g.times))] #g.nrows*g.ncols+1):\n",
    "    writeNeighbors(i, g.nrows, g.ncols, column)\n",
    "    data[\"{}\".format(i)] = column\n",
    "data"
   ]
  },
  {
   "cell_type": "code",
   "execution_count": 124,
   "metadata": {},
   "outputs": [
    {
     "data": {
      "text/plain": [
       "210"
      ]
     },
     "execution_count": 124,
     "metadata": {},
     "output_type": "execute_result"
    }
   ],
   "source": [
    "14*15"
   ]
  },
  {
   "cell_type": "code",
   "execution_count": 12,
   "metadata": {},
   "outputs": [],
   "source": [
    "#data.to_csv(\"../Output_Data/austin_data/adjacent_nbhd.csv\", index=False)\n",
    "np.savetxt(\"../Output_Data/austin_data_3200/adjacent_nbhd.csv\", data, delimiter=',')"
   ]
  },
  {
   "cell_type": "code",
   "execution_count": 13,
   "metadata": {
    "scrolled": true
   },
   "outputs": [
    {
     "name": "stdout",
     "output_type": "stream",
     "text": [
      "(3200, 3200)\n",
      "4\n",
      "15772\n"
     ]
    },
    {
     "data": {
      "text/plain": [
       "16165"
      ]
     },
     "execution_count": 13,
     "metadata": {},
     "output_type": "execute_result"
    }
   ],
   "source": [
    "x = data.to_numpy()\n",
    "print(x.shape)\n",
    "print(np.sum(x[2,:])) \n",
    "print(np.sum(x[:,:])) \n",
    "#15938 should not be possible?\n",
    "3233 * 5 #at most adjacent to 4 neighbors and yourself."
   ]
  },
  {
   "cell_type": "code",
   "execution_count": 121,
   "metadata": {
    "scrolled": true
   },
   "outputs": [
    {
     "data": {
      "text/plain": [
       "array([[0, 1, 1, 1, 0, 0, 0, 0, 0, 0],\n",
       "       [0, 0, 1, 1, 1, 0, 0, 0, 0, 0]], dtype=int64)"
      ]
     },
     "execution_count": 121,
     "metadata": {},
     "output_type": "execute_result"
    }
   ],
   "source": [
    "x[2:4,0:10]\n",
    "#3np.where(x[2] != 0) #each row should sum to at most 5"
   ]
  },
  {
   "cell_type": "code",
   "execution_count": null,
   "metadata": {},
   "outputs": [],
   "source": [
    ";"
   ]
  }
 ],
 "metadata": {
  "kernelspec": {
   "display_name": "Python 3",
   "language": "python",
   "name": "python3"
  },
  "language_info": {
   "codemirror_mode": {
    "name": "ipython",
    "version": 3
   },
   "file_extension": ".py",
   "mimetype": "text/x-python",
   "name": "python",
   "nbconvert_exporter": "python",
   "pygments_lexer": "ipython3",
   "version": "3.8.5"
  }
 },
 "nbformat": 4,
 "nbformat_minor": 4
}

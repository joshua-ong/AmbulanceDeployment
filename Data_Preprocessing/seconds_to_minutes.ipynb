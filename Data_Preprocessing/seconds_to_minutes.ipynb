{
 "cells": [
  {
   "cell_type": "code",
   "execution_count": 1,
   "metadata": {},
   "outputs": [],
   "source": [
    "import csv\n",
    "import collections\n",
    "import pandas as pd\n",
    "import numpy as np\n",
    "import math"
   ]
  },
  {
   "cell_type": "code",
   "execution_count": 5,
   "metadata": {},
   "outputs": [],
   "source": [
    "files_to_convert = [{'title':'austin_test_calls', 'hasHosp':True},\n",
    "                    {'title':'austin_incidents', 'hasHosp':True},\n",
    "                    {'title':'hospitals', 'hasHosp':False},\n",
    "                    {'title':'stations', 'hasHosp':False}\n",
    "                   ]\n",
    "folder = 'Austin_Data/'\n",
    "extension = '.csv'\n",
    "\n",
    "for file in files_to_convert:\n",
    "    data = pd.read_csv(folder + file['title'] + extension)\n",
    "    for i in range(1, 45):\n",
    "        data[\"stn{}_min\".format(i)] = data[\"stn{}_min\".format(i)] / 60\n",
    "    \n",
    "    if file['hasHosp']:\n",
    "        for i in range(1, 13):\n",
    "            data[\"hosp{}_min\".format(i)] = data[\"hosp{}_min\".format(i)] / 60\n",
    "    \n",
    "    data.to_csv(folder + file['title'] + extension, index=False)"
   ]
  },
  {
   "cell_type": "code",
   "execution_count": null,
   "metadata": {},
   "outputs": [],
   "source": []
  }
 ],
 "metadata": {
  "kernelspec": {
   "display_name": "Python 3",
   "language": "python",
   "name": "python3"
  },
  "language_info": {
   "codemirror_mode": {
    "name": "ipython",
    "version": 3
   },
   "file_extension": ".py",
   "mimetype": "text/x-python",
   "name": "python",
   "nbconvert_exporter": "python",
   "pygments_lexer": "ipython3",
   "version": "3.6.5"
  }
 },
 "nbformat": 4,
 "nbformat_minor": 2
}

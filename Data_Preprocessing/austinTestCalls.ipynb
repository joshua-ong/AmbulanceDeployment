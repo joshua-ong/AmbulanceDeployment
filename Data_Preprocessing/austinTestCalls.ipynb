{
 "cells": [
  {
   "cell_type": "markdown",
   "id": "c90bbeb7",
   "metadata": {},
   "source": [
    "#### Summary: austin_test_calls_update1 - remove any negative indices\n",
    "v2 - remove regions greater than max region count (2) remove regions that are not covered (150?) remove regions that are outside of grid (0)"
   ]
  },
  {
   "cell_type": "code",
   "execution_count": 72,
   "id": "ec760d6f",
   "metadata": {},
   "outputs": [],
   "source": [
    "#test_calls = CSV.File(\"../test/austin-data/austin_test_calls_update1.csv\")|> DataFrame "
   ]
  },
  {
   "cell_type": "code",
   "execution_count": 33,
   "id": "6217f2ad",
   "metadata": {},
   "outputs": [],
   "source": [
    "import numpy as np\n",
    "import matplotlib.pyplot as plt\n",
    "import seaborn as sns\n",
    "import csv\n",
    "import collections\n",
    "import pandas as pd\n",
    "import math\n",
    "import json"
   ]
  },
  {
   "cell_type": "code",
   "execution_count": 34,
   "id": "7912af97",
   "metadata": {},
   "outputs": [],
   "source": [
    "# This is the grid object, which is used throughout all data preprocessing.\n",
    "# It represents the city of Austin through a series of grids.\n",
    "# It thus makes a tractable way to compute distance between grids, ect. \n",
    "class Grid():\n",
    "    def __init__(self, grid_json):\n",
    "        self.grid = grid_json\n",
    "        self.min_lat = self.grid[\"latitude_min\"]\n",
    "        self.min_lon = self.grid[\"longitude_min\"]\n",
    "        self.max_lat = self.grid[\"latitude_max\"]\n",
    "        self.max_lon = self.grid[\"longitude_max\"]\n",
    "        self.latitude_delta = self.grid[\"latitude_step\"]\n",
    "        self.longitude_delta = self.grid[\"longitude_step\"]\n",
    "        self.nrows = math.ceil((self.max_lat - self.min_lat) / self.latitude_delta)\n",
    "        self.ncols = math.ceil((self.max_lon - self.min_lon) / self.longitude_delta)\n",
    "        self.times = self.grid[\"time_matrix\"]\n",
    "        self.census_tract_region_map = self.grid[\"census_tract_region_mapping\"]\n",
    "        self.region_to_tract = collections.defaultdict(list)\n",
    "        for census_tract in self.census_tract_region_map:\n",
    "            for region in self.census_tract_region_map[census_tract]:\n",
    "                self.region_to_tract[region].append(census_tract)\n",
    "    def map_point_to_region(self, latitude, longitude):\n",
    "        return math.floor((latitude-self.min_lat)/self.latitude_delta) * self.ncols  + math.floor((longitude-self.min_lon)/self.longitude_delta)\n",
    "    def get_representative(self, region_num):\n",
    "        row_num = region_num//self.ncols\n",
    "        col_num = region_num - row_num*self.ncols\n",
    "        lat = self.min_lat + row_num * self.latitude_delta + 0.5*self.latitude_delta\n",
    "        lon = self.min_lon + col_num * self.longitude_delta + 0.5*self.longitude_delta\n",
    "        return [lon, lat]\n",
    "    def get_time(self, region1, region2):\n",
    "        try:\n",
    "            return self.times[region1][region2]\n",
    "        except IndexError:\n",
    "            return -1\n",
    "    def region_to_census_tract(self, region):\n",
    "        try:\n",
    "            return self.region_to_tract[region]\n",
    "        except KeyError:\n",
    "            return \"0_0\""
   ]
  },
  {
   "cell_type": "code",
   "execution_count": 35,
   "id": "61a5fcc1",
   "metadata": {},
   "outputs": [],
   "source": [
    "with open(\"..\\Input_Data/grid_info_3200_v3.json\", \"r\") as f:\n",
    "    grid_json = json.load(f)\n",
    "g = Grid(grid_json)"
   ]
  },
  {
   "cell_type": "code",
   "execution_count": 36,
   "id": "24c6ce4a",
   "metadata": {},
   "outputs": [],
   "source": [
    "data = (np.genfromtxt(\"../Output_Data/austin_data_3200/austin_test_calls_v3.csv\", delimiter=\",\"))\n",
    "data_s = (np.genfromtxt(\"../Output_Data/austin_data_3200/austin_test_calls_v3.csv\", delimiter=\",\", dtype = str))\n",
    "coverage = (np.genfromtxt(\"../Output_Data/austin_data_3200/coverage_regression.csv\", delimiter=\",\"))"
   ]
  },
  {
   "cell_type": "code",
   "execution_count": 37,
   "id": "d7a0feb4",
   "metadata": {},
   "outputs": [
    {
     "name": "stdout",
     "output_type": "stream",
     "text": [
      "['interarrival_seconds' 'neighborhood' 'dow' 'Longitude_Of_Emergency'\n",
      " 'Latitude_Of_Emergency' 'stn1_min' 'stn2_min' 'stn3_min' 'stn4_min'\n",
      " 'stn5_min' 'stn6_min' 'stn7_min' 'stn8_min' 'stn9_min' 'stn10_min'\n",
      " 'stn11_min' 'stn12_min' 'stn13_min' 'stn14_min' 'stn15_min' 'stn16_min'\n",
      " 'stn17_min' 'stn18_min' 'stn19_min' 'stn20_min' 'stn21_min' 'stn22_min'\n",
      " 'stn23_min' 'stn24_min' 'stn25_min' 'stn26_min' 'stn27_min' 'stn28_min'\n",
      " 'stn29_min' 'stn30_min' 'stn31_min' 'stn32_min' 'stn33_min' 'stn34_min'\n",
      " 'stn35_min' 'stn36_min' 'stn37_min' 'stn38_min' 'stn39_min' 'stn40_min'\n",
      " 'stn41_min' 'stn42_min' 'stn43_min' 'stn44_min' 'hosp1_min' 'hosp2_min'\n",
      " 'hosp3_min' 'hosp4_min' 'hosp5_min' 'hosp6_min' 'hosp7_min' 'hosp8_min'\n",
      " 'hosp9_min' 'hosp10_min' 'hosp11_min' 'hosp12_min']\n"
     ]
    },
    {
     "data": {
      "text/plain": [
       "'neighborhood'"
      ]
     },
     "execution_count": 37,
     "metadata": {},
     "output_type": "execute_result"
    }
   ],
   "source": [
    "print(data_s[0])\n",
    "data_s[0,1]"
   ]
  },
  {
   "cell_type": "code",
   "execution_count": 38,
   "id": "ecd32929",
   "metadata": {},
   "outputs": [
    {
     "data": {
      "text/plain": [
       "(30105, 61)"
      ]
     },
     "execution_count": 38,
     "metadata": {},
     "output_type": "execute_result"
    }
   ],
   "source": [
    "data.shape"
   ]
  },
  {
   "cell_type": "code",
   "execution_count": 39,
   "id": "2854616d",
   "metadata": {},
   "outputs": [
    {
     "name": "stdout",
     "output_type": "stream",
     "text": [
      "0\n"
     ]
    }
   ],
   "source": [
    "maxmin_skipped = 0\n",
    "covered_skipped = 0\n",
    "data_update = []\n",
    "data_update.append(data_s[0,:])\n",
    "for i in range(1, data.shape[0]):\n",
    "    #call should be withhin grid\n",
    "    lon = data[0,-1]\n",
    "    lat = data[0,-1]\n",
    "    if (lon > g.max_lon) or (lon < g.min_lon):\n",
    "        print(\"invalid grid\")\n",
    "    if (lat > g.max_lat) or (lat < g.min_lat):\n",
    "        print(\"invalid grid\")\n",
    "    #coverage\n",
    "    if(data[i,1] > 3200):\n",
    "        #print(data[i,1])\n",
    "        maxmin_skipped = maxmin_skipped + 1\n",
    "        continue\n",
    "    #no negative nbhd indices\n",
    "    if(data[i,1] < 0):\n",
    "        maxmin_skipped = maxmin_skipped + 1\n",
    "        continue\n",
    "    covered = np.sum(coverage[1:,int(data[i,1])])\n",
    "    if(covered == 0):\n",
    "        #print(data[i,1])\n",
    "        covered_skipped = covered_skipped + 1\n",
    "        continue\n",
    "    data_update.append(data_s[i,:])\n",
    "    \n",
    "print(maxmin_skipped)    "
   ]
  },
  {
   "cell_type": "code",
   "execution_count": 40,
   "id": "5dda869e",
   "metadata": {},
   "outputs": [
    {
     "data": {
      "text/plain": [
       "30105"
      ]
     },
     "execution_count": 40,
     "metadata": {},
     "output_type": "execute_result"
    }
   ],
   "source": [
    "len(data_update)"
   ]
  },
  {
   "cell_type": "code",
   "execution_count": 41,
   "id": "a9ef69dc",
   "metadata": {},
   "outputs": [
    {
     "data": {
      "text/plain": [
       "array(['interarrival_seconds', 'neighborhood', 'dow',\n",
       "       'Longitude_Of_Emergency', 'Latitude_Of_Emergency', 'stn1_min',\n",
       "       'stn2_min', 'stn3_min', 'stn4_min', 'stn5_min', 'stn6_min',\n",
       "       'stn7_min', 'stn8_min', 'stn9_min', 'stn10_min', 'stn11_min',\n",
       "       'stn12_min', 'stn13_min', 'stn14_min', 'stn15_min', 'stn16_min',\n",
       "       'stn17_min', 'stn18_min', 'stn19_min', 'stn20_min', 'stn21_min',\n",
       "       'stn22_min', 'stn23_min', 'stn24_min', 'stn25_min', 'stn26_min',\n",
       "       'stn27_min', 'stn28_min', 'stn29_min', 'stn30_min', 'stn31_min',\n",
       "       'stn32_min', 'stn33_min', 'stn34_min', 'stn35_min', 'stn36_min',\n",
       "       'stn37_min', 'stn38_min', 'stn39_min', 'stn40_min', 'stn41_min',\n",
       "       'stn42_min', 'stn43_min', 'stn44_min', 'hosp1_min', 'hosp2_min',\n",
       "       'hosp3_min', 'hosp4_min', 'hosp5_min', 'hosp6_min', 'hosp7_min',\n",
       "       'hosp8_min', 'hosp9_min', 'hosp10_min', 'hosp11_min', 'hosp12_min'],\n",
       "      dtype='<U22')"
      ]
     },
     "execution_count": 41,
     "metadata": {},
     "output_type": "execute_result"
    }
   ],
   "source": [
    "data_update = np.array(data_update)\n",
    "data_update[0]"
   ]
  },
  {
   "cell_type": "code",
   "execution_count": 42,
   "id": "b3a064c6",
   "metadata": {},
   "outputs": [
    {
     "data": {
      "text/plain": [
       "(30105, 61)"
      ]
     },
     "execution_count": 42,
     "metadata": {},
     "output_type": "execute_result"
    }
   ],
   "source": [
    "data_update.shape"
   ]
  },
  {
   "cell_type": "code",
   "execution_count": 32,
   "id": "cc80bdd5",
   "metadata": {},
   "outputs": [],
   "source": [
    "np.savetxt('../Output_Data/austin_data_3200/austin_test_calls_v3.csv', data_update, delimiter=',', fmt='%s') "
   ]
  },
  {
   "cell_type": "code",
   "execution_count": 18,
   "id": "24a83cf1",
   "metadata": {},
   "outputs": [
    {
     "data": {
      "text/plain": [
       "array([461.,   1.,   1.,   1.,   1.,   1.,   1.,   1.,   1.,   1.,   1.,\n",
       "         1.,   1.,   1.,   1.,   1.,   1.,   1.,   1.,   1.,   1.,   1.,\n",
       "         1.,   1.,   1.,   1.,   1.,   1.,   1.,   1.,   1.,   1.,   1.,\n",
       "         1.,   1.,   1.,   1.,   1.,   1.,   1.,   1.,   1.,   1.,   1.,\n",
       "         1.])"
      ]
     },
     "execution_count": 18,
     "metadata": {},
     "output_type": "execute_result"
    }
   ],
   "source": [
    "coverage[:,461]"
   ]
  },
  {
   "cell_type": "code",
   "execution_count": 43,
   "id": "1dc3326f",
   "metadata": {},
   "outputs": [],
   "source": [
    "#### New issue what if the times are in seconds for some reason?"
   ]
  },
  {
   "cell_type": "code",
   "execution_count": null,
   "id": "cebab899",
   "metadata": {},
   "outputs": [],
   "source": []
  }
 ],
 "metadata": {
  "kernelspec": {
   "display_name": "Python 3",
   "language": "python",
   "name": "python3"
  },
  "language_info": {
   "codemirror_mode": {
    "name": "ipython",
    "version": 3
   },
   "file_extension": ".py",
   "mimetype": "text/x-python",
   "name": "python",
   "nbconvert_exporter": "python",
   "pygments_lexer": "ipython3",
   "version": "3.7.3"
  }
 },
 "nbformat": 4,
 "nbformat_minor": 5
}

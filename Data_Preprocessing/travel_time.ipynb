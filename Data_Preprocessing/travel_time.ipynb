{
 "cells": [
  {
   "cell_type": "markdown",
   "id": "8c69a368",
   "metadata": {},
   "source": [
    "Author: Joshua <br />\n",
    "Summary: Find travel time errors for not only the response time, but the serve time, hospital drive time and return time."
   ]
  },
  {
   "cell_type": "code",
   "execution_count": 1,
   "id": "4c1b0a72",
   "metadata": {},
   "outputs": [],
   "source": [
    "import csv\n",
    "import collections\n",
    "import pandas as pd\n",
    "import numpy as np\n",
    "import math\n",
    "import json"
   ]
  },
  {
   "cell_type": "markdown",
   "id": "c8c24404",
   "metadata": {},
   "source": [
    "## load the data"
   ]
  },
  {
   "cell_type": "code",
   "execution_count": 2,
   "id": "be336e7c",
   "metadata": {},
   "outputs": [],
   "source": [
    "hosp = np.genfromtxt('Input_Data/calls_w_StnHospTimes.csv', delimiter=\",\", dtype=str)\n",
    "f_wkc = np.genfromtxt('Input_Data/Full_WeekdayCalls.csv', delimiter=\",\", dtype=str)\n",
    "wkc = np.genfromtxt('Input_Data/WeekdayCalls.csv', delimiter=\",\", dtype=str)\n",
    "a_i = np.genfromtxt('Input_Data/austin_incidents.csv', delimiter=\",\", dtype=str)\n",
    "#a_test_call = np.genfromtxt('Input_Data/austin_test_calls.csv', delimiter=\",\", dtype=str)"
   ]
  },
  {
   "cell_type": "code",
   "execution_count": 3,
   "id": "2205e410",
   "metadata": {},
   "outputs": [],
   "source": [
    "clean = np.genfromtxt('Input_Data/cleaned_data.csv', delimiter=\",\", dtype=str) #210k x 17\n",
    "backend = np.genfromtxt('Input_Data/backend_calls.csv', delimiter=\",\", dtype=str) #30k"
   ]
  },
  {
   "cell_type": "code",
   "execution_count": 4,
   "id": "698255d6",
   "metadata": {},
   "outputs": [
    {
     "data": {
      "text/plain": [
       "array([['', 'arrival_seconds', 'interarrival_seconds', ..., 'day',\n",
       "        'minute', 'second'],\n",
       "       ['51208', '0', '0', ..., '1', '7', '26'],\n",
       "       ['43271', '96', '96', ..., '1', '5', '58'],\n",
       "       ...,\n",
       "       ['165764', '51959848', '249', ..., '24', '22', '27'],\n",
       "       ['24424', '51959908', '60', ..., '24', '19', '2'],\n",
       "       ['185223', '51960284', '376', ..., '24', '26', '35']], dtype='<U20')"
      ]
     },
     "execution_count": 4,
     "metadata": {},
     "output_type": "execute_result"
    }
   ],
   "source": [
    "#make sure the hospital times are the same at different times.\n",
    "hosp = np.genfromtxt('Input_Data/calls_w_StnHospTimes.csv', delimiter=\",\", dtype=str)\n",
    "hosp"
   ]
  },
  {
   "cell_type": "code",
   "execution_count": 5,
   "id": "a877269e",
   "metadata": {},
   "outputs": [
    {
     "data": {
      "text/plain": [
       "array(['1384.38', '1384.38', '1384.38', ..., '1384.38', '1384.38',\n",
       "       '1384.38'], dtype='<U20')"
      ]
     },
     "execution_count": 5,
     "metadata": {},
     "output_type": "execute_result"
    }
   ],
   "source": [
    "hosp.shape #(210108, 67)\n",
    "hosp[:,3] #neighborhood\n",
    "hosp[:,5] #\n",
    "where67 = np.where(hosp[:,3] == \"67\")\n",
    "hosp[where67[0],8]"
   ]
  },
  {
   "cell_type": "code",
   "execution_count": 6,
   "id": "13c89732",
   "metadata": {},
   "outputs": [
    {
     "data": {
      "text/plain": [
       "array(['', 'Unnamed: 0', 'IncidentForeignKey', 'Radio_Name',\n",
       "       'Longitude_At_Assign_Time', 'Latitude_At_Assign_Time',\n",
       "       'Time_Assigned', 'Time_Enroute', 'Time_ArrivedAtScene',\n",
       "       'Time_Depart_Scene', 'Time_Arrive_Destination', 'Time_Available',\n",
       "       'Time_Call_Cleared', 'Call_Disposition', 'Longitude_Of_Emergency',\n",
       "       'Latitude_Of_Emergency', 'transport_time', 'grid_time',\n",
       "       'Time_Arrived', 'timedelta', 'arrival_seconds',\n",
       "       'interarrival_seconds', 'neighborhood', 'dow'], dtype='<U30')"
      ]
     },
     "execution_count": 6,
     "metadata": {},
     "output_type": "execute_result"
    }
   ],
   "source": [
    "backend[0]"
   ]
  },
  {
   "cell_type": "code",
   "execution_count": 7,
   "id": "3fb25725",
   "metadata": {},
   "outputs": [
    {
     "data": {
      "text/plain": [
       "array(['', 'Unnamed: 0', 'IncidentForeignKey', 'Radio_Name',\n",
       "       'Longitude_At_Assign_Time', 'Latitude_At_Assign_Time',\n",
       "       'Time_Assigned', 'Time_Enroute', 'Time_ArrivedAtScene',\n",
       "       'Time_Depart_Scene', 'Time_Arrive_Destination', 'Time_Available',\n",
       "       'Time_Call_Cleared', 'Call_Disposition', 'Longitude_Of_Emergency',\n",
       "       'Latitude_Of_Emergency', 'transport_time', 'grid_time',\n",
       "       'Time_Arrived', 'timedelta', 'arrival_seconds',\n",
       "       'interarrival_seconds', 'neighborhood', 'dow'], dtype='<U30')"
      ]
     },
     "execution_count": 7,
     "metadata": {},
     "output_type": "execute_result"
    }
   ],
   "source": [
    "#filter 1) dow- sat and sunday out already filtered. 2) times outside of 8am-8pm\n",
    "backend[0]"
   ]
  },
  {
   "cell_type": "code",
   "execution_count": 8,
   "id": "ea95f301",
   "metadata": {},
   "outputs": [
    {
     "data": {
      "text/plain": [
       "'grid_time'"
      ]
     },
     "execution_count": 8,
     "metadata": {},
     "output_type": "execute_result"
    }
   ],
   "source": [
    "backend[0,6] #Time_Assigned\n",
    "backend[0,7] #Time_Enroute\n",
    "backend[0,8] #Time_ArrivedAtScene\n",
    "backend[0,9] #Time_Depart_Scene\n",
    "backend[0,10] #Time_Arrive_Destination\n",
    "backend[0,11] #Time_Available\n",
    "backend[0,12] #Time_Call_Cleared\n",
    "backend[0,16] #transport_time\n",
    "backend[0,17] #grid_time"
   ]
  },
  {
   "cell_type": "code",
   "execution_count": 9,
   "id": "0c825096",
   "metadata": {},
   "outputs": [
    {
     "name": "stdout",
     "output_type": "stream",
     "text": [
      "2020-04-23 09:08:06.787\n",
      "2020-04-23 09:20:14.760\n",
      "12.116666666666667\n"
     ]
    }
   ],
   "source": [
    "index = 128\n",
    "print(backend[index,7])\n",
    "print(backend[index,8])\n",
    "print(float(backend[index,16])/60)"
   ]
  },
  {
   "cell_type": "markdown",
   "id": "81a39185",
   "metadata": {},
   "source": [
    "## calculate times with calendar difference"
   ]
  },
  {
   "cell_type": "code",
   "execution_count": 10,
   "id": "500642bc",
   "metadata": {},
   "outputs": [],
   "source": [
    "import math\n",
    "from datetime import *; from dateutil.relativedelta import *\n",
    "import calendar\n",
    "def csv2calendar(index,type_event):\n",
    "    time1 = backend[index,type_event]\n",
    "    if time1 == \"\":\n",
    "        return -1\n",
    "    [ymd,hmm] = time1.split()\n",
    "    [y,m,d] = ymd.split('-')\n",
    "    [h,minu,sec] = hmm.split(\":\")\n",
    "    y = int(y)\n",
    "    m = int(m)\n",
    "    d = int(d)\n",
    "    h = int(h)\n",
    "    minu = int(minu)\n",
    "    sec = math.floor(float(sec))\n",
    "    timearrive = datetime(y, m, d, h, minu, sec)\n",
    "    return timearrive"
   ]
  },
  {
   "cell_type": "markdown",
   "id": "c1472f48",
   "metadata": {},
   "source": [
    "####  small example"
   ]
  },
  {
   "cell_type": "code",
   "execution_count": 11,
   "id": "d652304e",
   "metadata": {},
   "outputs": [
    {
     "name": "stdout",
     "output_type": "stream",
     "text": [
      "2020-04-23 09:08:06.787\n"
     ]
    },
    {
     "data": {
      "text/plain": [
       "datetime.datetime(2020, 4, 23, 9, 8, 6)"
      ]
     },
     "execution_count": 11,
     "metadata": {},
     "output_type": "execute_result"
    }
   ],
   "source": [
    "print(backend[128,7])\n",
    "a = csv2calendar(128,7)\n",
    "a"
   ]
  },
  {
   "cell_type": "code",
   "execution_count": 12,
   "id": "0c121b0f",
   "metadata": {},
   "outputs": [
    {
     "name": "stdout",
     "output_type": "stream",
     "text": [
      "2020-04-23 10:37:18.267\n"
     ]
    },
    {
     "data": {
      "text/plain": [
       "datetime.datetime(2020, 4, 23, 10, 37, 18)"
      ]
     },
     "execution_count": 12,
     "metadata": {},
     "output_type": "execute_result"
    }
   ],
   "source": [
    "print(backend[128,12])\n",
    "b = csv2calendar(128,12)\n",
    "b"
   ]
  },
  {
   "cell_type": "code",
   "execution_count": 13,
   "id": "71a69c88",
   "metadata": {},
   "outputs": [
    {
     "data": {
      "text/plain": [
       "89.2"
      ]
     },
     "execution_count": 13,
     "metadata": {},
     "output_type": "execute_result"
    }
   ],
   "source": [
    "(b-a).seconds / 60"
   ]
  },
  {
   "cell_type": "code",
   "execution_count": 25,
   "id": "c83d6d1f",
   "metadata": {},
   "outputs": [],
   "source": [
    "backend[0,6] #Time_Assigned\n",
    "backend[0,7] #Time_Enroute\n",
    "backend[0,8] #Time_ArrivedAtScene\n",
    "backend[0,9] #Time_Depart_Scene\n",
    "backend[0,10] #Time_Arrive_Destination\n",
    "backend[0,11] #Time_Available\n",
    "backend[0,12] #Time_Call_Cleared\n",
    "backend[0,16] #transport_time\n",
    "backend[0,17] #grid_time\n",
    "nsamples = 10\n",
    "callAssignedTime = [] #np.zeros([10,1])\n",
    "station2call = []\n",
    "on_scene_time = []\n",
    "call2hospital = []\n",
    "hospital2station = []\n",
    "end = np.zeros([10,1])"
   ]
  },
  {
   "cell_type": "code",
   "execution_count": 21,
   "id": "968083df",
   "metadata": {},
   "outputs": [
    {
     "name": "stdout",
     "output_type": "stream",
     "text": [
      "2020-04-22 20:26:56-2020-04-22 20:25:53\n",
      "2020-04-22 20:27:11-2020-04-22 20:25:50\n",
      "2020-04-22 20:36:49-2020-04-22 20:35:32\n",
      "2020-04-22 20:38:52-2020-04-22 20:37:22\n",
      "2020-04-22 20:42:58-2020-04-22 20:42:13\n",
      "2020-04-22 20:44:40-2020-04-22 20:43:18\n",
      "2020-04-22 20:44:06-2020-04-22 20:41:49\n",
      "2020-04-22 20:55:48-2020-04-22 20:55:38\n",
      "2020-04-22 20:57:06-2020-04-22 20:49:45\n"
     ]
    }
   ],
   "source": [
    "for i in range(1,nsamples):\n",
    "    Time_Assigned = csv2calendar(i,6)\n",
    "    Time_Enroute = csv2calendar(i,7)\n",
    "    Time_ArrivedAtScene = csv2calendar(i,8)\n",
    "    Time_Depart_Scene = csv2calendar(i,9)\n",
    "    Time_Arrive_Destination = csv2calendar(i,10)\n",
    "    Time_Available = csv2calendar(i,11)\n",
    "    Time_Call_Cleared = csv2calendar(i,12)\n",
    "    \n",
    "    #callAssignedTime\n",
    "    if Time_Assigned == -1 or Time_Enroute == -1:\n",
    "        callAssignedTime.append(-1)\n",
    "    else: \n",
    "        print(str(Time_Enroute) + \"-\" + str(Time_Assigned))\n",
    "        callAssignedTime.append((Time_Enroute - Time_Assigned).seconds / 60)\n",
    "        callAssignedTime[i] = float(t)\n",
    "    \n",
    "    #station2call\n",
    "    if Time_ArrivedAtScene == -1 or Time_Enroute == -1:\n",
    "        station2call[i] = -1\n",
    "    else:    \n",
    "        station2call[i] = (Time_ArrivedAtScene - Time_Enroute).seconds / 60\n",
    "    \n",
    "    #on_scene_time\n",
    "    if Time_Depart_Scene == -1 or Time_ArrivedAtScene == -1:\n",
    "        on_scene_time[i] = -1\n",
    "    else:    \n",
    "        on_scene_time[i] = (Time_Depart_Scene - Time_ArrivedAtScene).seconds / 60\n",
    "    \n",
    "    #call2hospital\n",
    "    if Time_Arrive_Destination == -1 or Time_Enroute == -1:\n",
    "        call2hospital[i] = -1\n",
    "    else:    \n",
    "        call2hospital[i] = (Time_Arrive_Destination - Time_Enroute).seconds / 60\n",
    "    \n",
    "    if Time_ArrivedAtScene == -1 or Time_Depart_Scene == -1:\n",
    "        station2call[i] = -1\n",
    "    else:    \n",
    "        station2call[i] = (Time_ArrivedAtScene - Time_Depart_Scene).seconds / 60\n",
    "    \n",
    "    #hospital2station\n",
    "    if Time_ArrivedAtScene == -1 or Time_Depart_Scene == -1:\n",
    "        hospital2station[i] = -1\n",
    "    else:    \n",
    "        hospital2station[i] = (Time_Available - Time_Arrive_Destination).seconds / 60\n"
   ]
  },
  {
   "cell_type": "code",
   "execution_count": 24,
   "id": "1088421b",
   "metadata": {},
   "outputs": [
    {
     "name": "stdout",
     "output_type": "stream",
     "text": [
      "1.67027027027027\n",
      "1.67027027027027\n",
      "1.67027027027027\n",
      "1.67027027027027\n",
      "1.67027027027027\n"
     ]
    }
   ],
   "source": [
    "print(np.mean(callAssignedTime))\n",
    "print(np.mean(callAssignedTime))\n",
    "print(np.mean(callAssignedTime))\n",
    "print(np.mean(callAssignedTime))\n",
    "print(np.mean(callAssignedTime))"
   ]
  },
  {
   "cell_type": "code",
   "execution_count": 16,
   "id": "b6215993",
   "metadata": {},
   "outputs": [
    {
     "name": "stdout",
     "output_type": "stream",
     "text": [
      "<class 'float'>\n"
     ]
    },
    {
     "data": {
      "text/plain": [
       "1.05"
      ]
     },
     "execution_count": 16,
     "metadata": {},
     "output_type": "execute_result"
    }
   ],
   "source": [
    "i = 1\n",
    "Time_Assigned = csv2calendar(i,6)\n",
    "Time_Enroute = csv2calendar(i,7)\n",
    "Time_ArrivedAtScene = csv2calendar(i,8)\n",
    "Time_Depart_Scene = csv2calendar(i,9)\n",
    "Time_Arrive_Destination = csv2calendar(i,10)\n",
    "Time_Available = csv2calendar(i,11)\n",
    "Time_Call_Cleared = csv2calendar(i,12)\n",
    "\n",
    "#callAssignedTime\n",
    "t = float((Time_Enroute - Time_Assigned).seconds / 60)\n",
    "print(type(t))\n",
    "t"
   ]
  },
  {
   "cell_type": "code",
   "execution_count": null,
   "id": "b6d1334d",
   "metadata": {},
   "outputs": [],
   "source": [
    "t = (Time_Enroute - Time_Assigned).seconds"
   ]
  },
  {
   "cell_type": "code",
   "execution_count": null,
   "id": "c31f0ded",
   "metadata": {},
   "outputs": [],
   "source": [
    "t + 1"
   ]
  },
  {
   "cell_type": "code",
   "execution_count": null,
   "id": "a03bcc92",
   "metadata": {},
   "outputs": [],
   "source": [
    "ls = []\n",
    "ls.append(t)"
   ]
  },
  {
   "cell_type": "code",
   "execution_count": null,
   "id": "72258d7d",
   "metadata": {},
   "outputs": [],
   "source": [
    "ls"
   ]
  },
  {
   "cell_type": "code",
   "execution_count": null,
   "id": "5201b407",
   "metadata": {},
   "outputs": [],
   "source": []
  }
 ],
 "metadata": {
  "kernelspec": {
   "display_name": "Python 3",
   "language": "python",
   "name": "python3"
  },
  "language_info": {
   "codemirror_mode": {
    "name": "ipython",
    "version": 3
   },
   "file_extension": ".py",
   "mimetype": "text/x-python",
   "name": "python",
   "nbconvert_exporter": "python",
   "pygments_lexer": "ipython3",
   "version": "3.7.3"
  }
 },
 "nbformat": 4,
 "nbformat_minor": 5
}

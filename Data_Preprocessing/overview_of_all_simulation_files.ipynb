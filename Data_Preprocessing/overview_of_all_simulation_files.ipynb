{
 "cells": [
  {
   "cell_type": "markdown",
   "metadata": {},
   "source": [
    "Summary: these are the files required for the Julia simulation:\n",
    "\n",
    "hospitals = CSV.File(string(local_path,\"../test/austin-data/hospitals.csv\")) |> DataFrame\n",
    "stations = CSV.File(string(local_path,\"../test/austin-data/stations.csv\")) |> DataFrame\n",
    "hourly_calls = CSV.File(\"../test/austin-data/Full_WeekdayCalls.csv\") |> DataFrame\n",
    "adjacent_nbhd = CSV.File(\"../test/austin-data/adjacent_nbhd.csv\") |> DataFrame\n",
    "coverage = CSV.read(\"../test/austin-data/coverage_real.csv\", DataFrame, header=false)\n",
    "test_calls = CSV.File(\"../test/austin-data/austin_test_calls_v1.csv\")|> DataFrame "
   ]
  },
  {
   "cell_type": "code",
   "execution_count": 51,
   "metadata": {},
   "outputs": [],
   "source": [
    "import csv\n",
    "import collections\n",
    "import pandas as pd\n",
    "import numpy as np\n",
    "import math\n",
    "import json\n",
    "import matplotlib.pyplot as plt\n",
    "import seaborn as sns"
   ]
  },
  {
   "cell_type": "markdown",
   "metadata": {},
   "source": [
    "### looks like hospitals does not need to be updated for grid size. It is used in (call2hosp_event!) so I think I want demand2Hospital."
   ]
  },
  {
   "cell_type": "code",
   "execution_count": 27,
   "metadata": {},
   "outputs": [
    {
     "data": {
      "text/plain": [
       "array(['stn1_min', 'stn2_min', 'stn3_min', 'stn4_min', 'stn5_min',\n",
       "       'stn6_min', 'stn7_min', 'stn8_min', 'stn9_min', 'stn10_min',\n",
       "       'stn11_min', 'stn12_min', 'stn13_min', 'stn14_min', 'stn15_min',\n",
       "       'stn16_min', 'stn17_min', 'stn18_min', 'stn19_min', 'stn20_min',\n",
       "       'stn21_min', 'stn22_min', 'stn23_min', 'stn24_min', 'stn25_min',\n",
       "       'stn26_min', 'stn27_min', 'stn28_min', 'stn29_min', 'stn30_min',\n",
       "       'stn31_min', 'stn32_min', 'stn33_min', 'stn34_min', 'stn35_min',\n",
       "       'stn36_min', 'stn37_min', 'stn38_min', 'stn39_min', 'stn40_min',\n",
       "       'stn41_min', 'stn42_min', 'stn43_min', 'stn44_min',\n",
       "       'HOSPITAL_NAME', 'LONGITUDE', 'LATITUDE', 'OBJECTID_1'],\n",
       "      dtype='<U52')"
      ]
     },
     "execution_count": 27,
     "metadata": {},
     "output_type": "execute_result"
    }
   ],
   "source": [
    "hospitals = (np.genfromtxt(\"../Input_Data/austin_data/hospitals.csv\", delimiter=\",\", dtype = str))\n",
    "hospitals[0]"
   ]
  },
  {
   "cell_type": "markdown",
   "metadata": {},
   "source": [
    "### This also does not depend on grid, although I would be damned if I knew what it did. (I cannot find if it is used in the simulation.  It does tell the station longitude and latitude. "
   ]
  },
  {
   "cell_type": "code",
   "execution_count": 28,
   "metadata": {},
   "outputs": [
    {
     "data": {
      "text/plain": [
       "array(['stn1_min', 'stn2_min', 'stn3_min', 'stn4_min', 'stn5_min',\n",
       "       'stn6_min', 'stn7_min', 'stn8_min', 'stn9_min', 'stn10_min',\n",
       "       'stn11_min', 'stn12_min', 'stn13_min', 'stn14_min', 'stn15_min',\n",
       "       'stn16_min', 'stn17_min', 'stn18_min', 'stn19_min', 'stn20_min',\n",
       "       'stn21_min', 'stn22_min', 'stn23_min', 'stn24_min', 'stn25_min',\n",
       "       'stn26_min', 'stn27_min', 'stn28_min', 'stn29_min', 'stn30_min',\n",
       "       'stn31_min', 'stn32_min', 'stn33_min', 'stn34_min', 'stn35_min',\n",
       "       'stn36_min', 'stn37_min', 'stn38_min', 'stn39_min', 'stn40_min',\n",
       "       'stn41_min', 'stn42_min', 'stn43_min', 'stn44_min', 'STATION_NAME',\n",
       "       'LONGITUDE', 'LATITUDE', 'OBJECTID_1'], dtype='<U19')"
      ]
     },
     "execution_count": 28,
     "metadata": {},
     "output_type": "execute_result"
    }
   ],
   "source": [
    "stations = (np.genfromtxt(\"../Input_Data/austin_data/stations.csv\", delimiter=\",\", dtype = str))\n",
    "stations[0]"
   ]
  },
  {
   "cell_type": "code",
   "execution_count": 35,
   "metadata": {},
   "outputs": [
    {
     "data": {
      "text/plain": [
       "array(['STATION_NAME', 'Demand 01', 'Demand 02  ', 'Demand 03  ',\n",
       "       'Demand 04 ', 'Demand 05', 'Demand 06', 'Demand 07', 'Station 01',\n",
       "       'Station 02', 'Station 03', 'Station 04', 'Station 05',\n",
       "       'Station 06', 'Station 07', 'Station 08', 'Station 09',\n",
       "       'Station 10', 'Station 11', 'Station 12', 'Station 13',\n",
       "       'Station 14', 'Station 15', 'Station 16', 'Station 17',\n",
       "       'Station 18', 'Station 19', 'Station 20', 'Station 21',\n",
       "       'Station 22', 'Station 23', 'Station 24', 'Station 25',\n",
       "       'Station 26', 'Station 27', 'Station 28', 'Station 29',\n",
       "       'Station 30', 'Station 31', 'Station 32', 'Station 33',\n",
       "       'Station 34', 'Station 35', 'Station 36', 'Station 37'],\n",
       "      dtype='<U19')"
      ]
     },
     "execution_count": 35,
     "metadata": {},
     "output_type": "execute_result"
    }
   ],
   "source": [
    "stations[:,-4] "
   ]
  },
  {
   "cell_type": "markdown",
   "metadata": {},
   "source": [
    "### Full_WeekdayCalls - call per regions? I feel like this is for the LP"
   ]
  },
  {
   "cell_type": "code",
   "execution_count": 38,
   "metadata": {},
   "outputs": [
    {
     "data": {
      "text/plain": [
       "array(['year', 'month', 'day', 'hour', '1', '2', '3', '4', '5', '6', '7',\n",
       "       '8', '9', '10', '11', '12', '13', '14', '15', '16', '17', '18',\n",
       "       '19', '20', '21', '22', '23', '24', '25', '26', '27', '28', '29',\n",
       "       '30', '31', '32', '33', '34', '35', '36', '37', '38', '39', '40',\n",
       "       '41', '42', '43', '44', '45', '46', '47', '48', '49', '50', '51',\n",
       "       '52', '53', '54', '55', '56', '57', '58', '59', '60', '61', '62',\n",
       "       '63', '64', '65', '66', '67', '68', '69', '70', '71', '72', '73',\n",
       "       '74', '75', '76', '77', '78', '79', '80', '81', '82', '83', '84',\n",
       "       '85', '86', '87', '88', '89', '90', '91', '92', '93', '94', '95',\n",
       "       '96', '97', '98', '99', '100', '101', '102', '103', '104', '105',\n",
       "       '106', '107', '108', '109', '110', '111', '112', '113', '114',\n",
       "       '115', '116', '117', '118', '119', '120', '121', '122', '123',\n",
       "       '124', '125', '126', '127', '128', '129', '130', '131', '132',\n",
       "       '133', '134', '135', '136', '137', '138', '139', '140', '141',\n",
       "       '142', '143', '144', '145', '146', '147', '148', '149', '150',\n",
       "       '151', '152', '153', '154', '155', '156', '157', '158', '159',\n",
       "       '160', '161', '162', '163', '164', '165', '166', '167', '168',\n",
       "       '169', '170', '171', '172', '173', '174', '175', '176', '177',\n",
       "       '178', '179', '180', '181', '182', '183', '184', '185', '186',\n",
       "       '187', '188', '189', '190', '191', '192', '193', '194', '195',\n",
       "       '196', '197', '198', '199', '200', '201', '202', '203', '204',\n",
       "       '205', '206', '207', '208', '209', '210'], dtype='<U5')"
      ]
     },
     "execution_count": 38,
     "metadata": {},
     "output_type": "execute_result"
    }
   ],
   "source": [
    "Full_WeekdayCalls = (np.genfromtxt(\"../Input_Data/austin_data/Full_WeekdayCalls.csv\", delimiter=\",\", dtype = str))\n",
    "Full_WeekdayCalls[0]"
   ]
  },
  {
   "cell_type": "markdown",
   "metadata": {},
   "source": [
    "### adjacent_nbhd this is a 1-0 matrix"
   ]
  },
  {
   "cell_type": "code",
   "execution_count": 52,
   "metadata": {},
   "outputs": [
    {
     "name": "stdout",
     "output_type": "stream",
     "text": [
      "(225, 225)\n"
     ]
    },
    {
     "data": {
      "text/plain": [
       "array(['1', '1', '1', '0', '0', '0', '0', '0', '0', '0', '0', '0', '0',\n",
       "       '0', '0', '0', '0', '1', '0', '0', '0', '0', '0', '0', '0', '0',\n",
       "       '0', '0', '0', '0', '0', '0', '0', '0', '0', '0', '0', '0', '0',\n",
       "       '0', '0', '0', '0', '0', '0', '0', '0', '0', '0', '0', '0', '0',\n",
       "       '0', '0', '0', '0', '0', '0', '0', '0', '0', '0', '0', '0', '0',\n",
       "       '0', '0', '0', '0', '0', '0', '0', '0', '0', '0', '0', '0', '0',\n",
       "       '0', '0', '0', '0', '0', '0', '0', '0', '0', '0', '0', '0', '0',\n",
       "       '0', '0', '0', '0', '0', '0', '0', '0', '0', '0', '0', '0', '0',\n",
       "       '0', '0', '0', '0', '0', '0', '0', '0', '0', '0', '0', '0', '0',\n",
       "       '0', '0', '0', '0', '0', '0', '0', '0', '0', '0', '0', '0', '0',\n",
       "       '0', '0', '0', '0', '0', '0', '0', '0', '0', '0', '0', '0', '0',\n",
       "       '0', '0', '0', '0', '0', '0', '0', '0', '0', '0', '0', '0', '0',\n",
       "       '0', '0', '0', '0', '0', '0', '0', '0', '0', '0', '0', '0', '0',\n",
       "       '0', '0', '0', '0', '0', '0', '0', '0', '0', '0', '0', '0', '0',\n",
       "       '0', '0', '0', '0', '0', '0', '0', '0', '0', '0', '0', '0', '0',\n",
       "       '0', '0', '0', '0', '0', '0', '0', '0', '0', '0', '0', '0', '0',\n",
       "       '0', '0', '0', '0', '0', '0', '0', '0', '0', '0', '0', '0', '0',\n",
       "       '0', '0', '0', '0'], dtype='<U3')"
      ]
     },
     "execution_count": 52,
     "metadata": {},
     "output_type": "execute_result"
    }
   ],
   "source": [
    "adjacent_nbhd = (np.genfromtxt(\"../Input_Data/austin_data/adjacent_nbhd.csv\", delimiter=\",\", dtype = str))\n",
    "print(adjacent_nbhd.shape)\n",
    "adjacent_nbhd[1]"
   ]
  },
  {
   "cell_type": "markdown",
   "metadata": {},
   "source": [
    "### coverage- this one might be tricky"
   ]
  },
  {
   "cell_type": "code",
   "execution_count": 44,
   "metadata": {},
   "outputs": [
    {
     "name": "stdout",
     "output_type": "stream",
     "text": [
      "(210, 44)\n"
     ]
    }
   ],
   "source": [
    "coverage_real = (np.genfromtxt(\"../Input_Data/austin_data/coverage_real.csv\", delimiter=\",\", dtype = str))\n",
    "print(coverage_real.shape)"
   ]
  },
  {
   "cell_type": "code",
   "execution_count": 50,
   "metadata": {},
   "outputs": [],
   "source": [
    "### austin_test_calls_v1- I just need to change station numbers I think. Although I can check the mins if they are used."
   ]
  },
  {
   "cell_type": "code",
   "execution_count": 47,
   "metadata": {},
   "outputs": [
    {
     "name": "stdout",
     "output_type": "stream",
     "text": [
      "(30149, 59)\n"
     ]
    },
    {
     "data": {
      "text/plain": [
       "array(['interarrival_seconds', 'neighborhood', 'dow', 'stn1_min',\n",
       "       'stn2_min', 'stn3_min', 'stn4_min', 'stn5_min', 'stn6_min',\n",
       "       'stn7_min', 'stn8_min', 'stn9_min', 'stn10_min', 'stn11_min',\n",
       "       'stn12_min', 'stn13_min', 'stn14_min', 'stn15_min', 'stn16_min',\n",
       "       'stn17_min', 'stn18_min', 'stn19_min', 'stn20_min', 'stn21_min',\n",
       "       'stn22_min', 'stn23_min', 'stn24_min', 'stn25_min', 'stn26_min',\n",
       "       'stn27_min', 'stn28_min', 'stn29_min', 'stn30_min', 'stn31_min',\n",
       "       'stn32_min', 'stn33_min', 'stn34_min', 'stn35_min', 'stn36_min',\n",
       "       'stn37_min', 'stn38_min', 'stn39_min', 'stn40_min', 'stn41_min',\n",
       "       'stn42_min', 'stn43_min', 'stn44_min', 'hosp1_min', 'hosp2_min',\n",
       "       'hosp3_min', 'hosp4_min', 'hosp5_min', 'hosp6_min', 'hosp7_min',\n",
       "       'hosp8_min', 'hosp9_min', 'hosp10_min', 'hosp11_min', 'hosp12_min'],\n",
       "      dtype='<U21')"
      ]
     },
     "execution_count": 47,
     "metadata": {},
     "output_type": "execute_result"
    }
   ],
   "source": [
    "austin_test_calls_v1 = (np.genfromtxt(\"../Input_Data/austin_data/austin_test_calls_v1.csv\", delimiter=\",\", dtype = str))\n",
    "print(austin_test_calls_v1.shape)\n",
    "austin_test_calls_v1[0]"
   ]
  },
  {
   "cell_type": "code",
   "execution_count": 1,
   "metadata": {},
   "outputs": [
    {
     "ename": "NameError",
     "evalue": "name 'austin_test_calls_v1' is not defined",
     "output_type": "error",
     "traceback": [
      "\u001b[1;31m---------------------------------------------------------------------------\u001b[0m",
      "\u001b[1;31mNameError\u001b[0m                                 Traceback (most recent call last)",
      "\u001b[1;32m<ipython-input-1-285fbbfdef17>\u001b[0m in \u001b[0;36m<module>\u001b[1;34m\u001b[0m\n\u001b[1;32m----> 1\u001b[1;33m \u001b[0maustin_test_calls_v1\u001b[0m\u001b[1;33m[\u001b[0m\u001b[1;36m0\u001b[0m\u001b[1;33m]\u001b[0m\u001b[1;33m\u001b[0m\u001b[1;33m\u001b[0m\u001b[0m\n\u001b[0m",
      "\u001b[1;31mNameError\u001b[0m: name 'austin_test_calls_v1' is not defined"
     ]
    }
   ],
   "source": [
    "austin_test_calls_v1[0]"
   ]
  },
  {
   "cell_type": "code",
   "execution_count": null,
   "metadata": {},
   "outputs": [],
   "source": []
  }
 ],
 "metadata": {
  "kernelspec": {
   "display_name": "Python 3",
   "language": "python",
   "name": "python3"
  },
  "language_info": {
   "codemirror_mode": {
    "name": "ipython",
    "version": 3
   },
   "file_extension": ".py",
   "mimetype": "text/x-python",
   "name": "python",
   "nbconvert_exporter": "python",
   "pygments_lexer": "ipython3",
   "version": "3.8.5"
  }
 },
 "nbformat": 4,
 "nbformat_minor": 5
}

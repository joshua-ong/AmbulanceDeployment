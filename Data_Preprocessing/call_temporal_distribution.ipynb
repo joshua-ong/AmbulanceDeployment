{
 "cells": [
  {
   "cell_type": "markdown",
   "id": "cd857494",
   "metadata": {},
   "source": [
    "Summary: Want a graph that shows how likely you will recieve a call based off od Day of week (Dow) and hour."
   ]
  },
  {
   "cell_type": "code",
   "execution_count": 131,
   "id": "ec5e5a65",
   "metadata": {},
   "outputs": [],
   "source": [
    "import numpy as np\n",
    "import matplotlib.pyplot as plt\n",
    "import seaborn as sns"
   ]
  },
  {
   "cell_type": "code",
   "execution_count": 132,
   "id": "91e1b610",
   "metadata": {},
   "outputs": [],
   "source": [
    "#time_stamp: a time format string like this\n",
    "def csv2hour(time_stamp):\n",
    "    time1 = time_stamp\n",
    "    if time1 == \"\":\n",
    "        return -1\n",
    "    [ymd,hmm] = time1.split()\n",
    "    [y,m,d] = ymd.split('-')\n",
    "    [h,minu,sec] = hmm.split(\":\")\n",
    "    y = int(y)\n",
    "    m = int(m)\n",
    "    d = int(d)\n",
    "    h = int(h)\n",
    "#     minu = int(minu)\n",
    "#     sec = math.floor(float(sec))\n",
    "#     timearrive = datetime(y, m, d, h, minu, sec)\n",
    "    return h"
   ]
  },
  {
   "cell_type": "code",
   "execution_count": 139,
   "id": "0588a6e8",
   "metadata": {},
   "outputs": [],
   "source": [
    "test_data = (np.genfromtxt(\"backend_calls.csv\", delimiter=\",\"))\n",
    "test_data_s = (np.genfromtxt(\"backend_calls.csv\", delimiter=\",\", dtype = str))\n",
    "clean_data = (np.genfromtxt(\"cleaned_data.csv\", delimiter=\",\"))\n",
    "clean_data_s = (np.genfromtxt(\"cleaned_data.csv\", delimiter=\",\", dtype = str))\n",
    "ausint_inc_s = (np.genfromtxt(\"austin_incidents.csv\", delimiter=\",\", dtype = str))"
   ]
  },
  {
   "cell_type": "code",
   "execution_count": 14,
   "id": "304d8118",
   "metadata": {},
   "outputs": [
    {
     "name": "stdout",
     "output_type": "stream",
     "text": [
      "30197\n",
      "210108\n"
     ]
    }
   ],
   "source": [
    "print(len(test_data))\n",
    "print(len(clean_data))"
   ]
  },
  {
   "cell_type": "code",
   "execution_count": 97,
   "id": "d3d730c9",
   "metadata": {},
   "outputs": [
    {
     "data": {
      "text/plain": [
       "'hour'"
      ]
     },
     "execution_count": 97,
     "metadata": {},
     "output_type": "execute_result"
    }
   ],
   "source": []
  },
  {
   "cell_type": "code",
   "execution_count": 92,
   "id": "ad80cba5",
   "metadata": {},
   "outputs": [
    {
     "data": {
      "text/plain": [
       "array(['', 'IncidentForeignKey', 'Radio_Name', 'Longitude_At_Assign_Time',\n",
       "       'Latitude_At_Assign_Time', 'Time_Assigned', 'Time_Enroute',\n",
       "       'Time_ArrivedAtScene', 'Time_Depart_Scene',\n",
       "       'Time_Arrive_Destination', 'Time_Available', 'Time_Call_Cleared',\n",
       "       'Call_Disposition', 'Longitude_Of_Emergency',\n",
       "       'Latitude_Of_Emergency', 'transport_time', 'grid_time'],\n",
       "      dtype='<U30')"
      ]
     },
     "execution_count": 92,
     "metadata": {},
     "output_type": "execute_result"
    }
   ],
   "source": [
    "clean_data_s[0]"
   ]
  },
  {
   "cell_type": "code",
   "execution_count": 84,
   "id": "524ffed3",
   "metadata": {},
   "outputs": [],
   "source": [
    "dow_dict = {\n",
    "    'Mon': 0,\n",
    "    'Tue': 1,\n",
    "    'Wed': 2,\n",
    "    'Thu': 3,\n",
    "    'Fri': 4,\n",
    "    'Sat': 5,\n",
    "    'Sun': 6   \n",
    "}\n",
    "\n",
    "hour_dict = {\n",
    "    0: 0, \n",
    "    1: 1, \n",
    "    2: 2, \n",
    "    3: 3, \n",
    "    4: 4, \n",
    "    5: 5, \n",
    "    6: 6, \n",
    "    7: 7, \n",
    "    8: 8, \n",
    "    9: 9, \n",
    "    10: 10, \n",
    "    11: 11, \n",
    "    12: 12, \n",
    "    13: 13, \n",
    "    14: 14, \n",
    "    15: 15, \n",
    "    16: 16, \n",
    "    17: 17, \n",
    "    18: 18, \n",
    "    19: 19, \n",
    "    20: 20, \n",
    "    21: 21, \n",
    "    22: 22, \n",
    "    23: 23, \n",
    "}"
   ]
  },
  {
   "cell_type": "code",
   "execution_count": 144,
   "id": "3457dac2",
   "metadata": {},
   "outputs": [
    {
     "data": {
      "text/plain": [
       "210108"
      ]
     },
     "execution_count": 144,
     "metadata": {},
     "output_type": "execute_result"
    }
   ],
   "source": [
    "len(ausint_inc_s)"
   ]
  },
  {
   "cell_type": "code",
   "execution_count": 150,
   "id": "69aa4f35",
   "metadata": {},
   "outputs": [],
   "source": [
    "austin_temp_anal = np.zeros([7,24])\n",
    "for i in range(2,len(ausint_inc_s)): #len(ausint_inc_s)):\n",
    "#     if test_data[i,23] == 'nan':\n",
    "#         continue\n",
    "    #collect the dow and match it to the dictionary\n",
    "    ind_dow = dow_dict[ausint_inc_s[i][3]] \n",
    "    #collect the hour and match it to the dictionary\n",
    "    h = int(ausint_inc_s[i][-6])\n",
    "    ind_hour = hour_dict[h] \n",
    "    #add to frequency\n",
    "    #print(str(ind_dow) + \" \" + str(ind_hour))\n",
    "    austin_temp_anal[ind_dow, ind_hour] = austin_temp_anal[ind_dow, ind_hour] + 1"
   ]
  },
  {
   "cell_type": "code",
   "execution_count": null,
   "id": "7bbcb229",
   "metadata": {},
   "outputs": [],
   "source": [
    "# temp_data = np.zeros([7,24])\n",
    "# for i in range(2,len(test_data)):\n",
    "#     if test_data[i,23] == 'nan':\n",
    "#         continue\n",
    "#     #collect the dow and match it to the dictionary\n",
    "#     ind_dow = dow_dict[test_data_s[i,23]] \n",
    "#     #collect the hour and match it to the dictionary\n",
    "#     h = csv2hour(test_data_s[i][6]) \n",
    "#     ind_hour = hour_dict[h] \n",
    "#     #add to frequency\n",
    "#     #print(str(ind_dow) + \" \" + str(ind_hour))\n",
    "#     temp_data[ind_dow, ind_hour] = temp_data[ind_dow, ind_hour] + 1"
   ]
  },
  {
   "cell_type": "code",
   "execution_count": 105,
   "id": "495cc8b8",
   "metadata": {},
   "outputs": [],
   "source": [
    "# import numpy as np; np.random.seed(0)\n",
    "# import seaborn as sns; sns.set_theme()\n",
    "# uniform_data = np.random.rand(7, 14)\n",
    "# ax = sns.heatmap(uniform_data,linewidths=.5, square = True)"
   ]
  },
  {
   "cell_type": "code",
   "execution_count": 90,
   "id": "bb00a47b",
   "metadata": {},
   "outputs": [
    {
     "data": {
      "image/png": "[encoded data removed]",
      "text/plain": [
       "<Figure size 432x288 with 2 Axes>"
      ]
     },
     "metadata": {},
     "output_type": "display_data"
    }
   ],
   "source": [
    "ax = sns.heatmap(temp_data,linewidths=.5, square = True)"
   ]
  },
  {
   "cell_type": "code",
   "execution_count": 151,
   "id": "162d20a9",
   "metadata": {},
   "outputs": [
    {
     "data": {
      "text/plain": [
       "Text(30.5, 0.5, 'DoW')"
      ]
     },
     "execution_count": 151,
     "metadata": {},
     "output_type": "execute_result"
    },
    {
     "data": {
      "image/png": "[encoded data removed]",
      "text/plain": [
       "<Figure size 432x288 with 2 Axes>"
      ]
     },
     "metadata": {},
     "output_type": "display_data"
    }
   ],
   "source": [
    "ax = sns.heatmap(austin_temp_anal,linewidths=.5, square = True)\n",
    "\n",
    "#x = np.arange(2,10,2)\n",
    "y_ticks_labels = ['Mon','Tue','Wed','Thu','Fri','Sat','Sun']\n",
    "# Set number of ticks for x-axis\n",
    "ax.set_yticks(np.arange(0,7,1))\n",
    "# Set ticks labels for x-axis\n",
    "ax.set_yticklabels(y_ticks_labels, rotation='horizontal', fontsize=12)\n",
    "plt.xlabel ('Hour')\n",
    "plt.ylabel ('DoW')\n"
   ]
  },
  {
   "cell_type": "code",
   "execution_count": null,
   "id": "970a1750",
   "metadata": {},
   "outputs": [],
   "source": []
  },
  {
   "cell_type": "code",
   "execution_count": null,
   "id": "d798df1c",
   "metadata": {},
   "outputs": [],
   "source": []
  }
 ],
 "metadata": {
  "kernelspec": {
   "display_name": "Python 3",
   "language": "python",
   "name": "python3"
  },
  "language_info": {
   "codemirror_mode": {
    "name": "ipython",
    "version": 3
   },
   "file_extension": ".py",
   "mimetype": "text/x-python",
   "name": "python",
   "nbconvert_exporter": "python",
   "pygments_lexer": "ipython3",
   "version": "3.7.3"
  }
 },
 "nbformat": 4,
 "nbformat_minor": 5
}

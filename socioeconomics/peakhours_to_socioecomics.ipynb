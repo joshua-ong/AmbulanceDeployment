{
 "cells": [
  {
   "cell_type": "markdown",
   "id": "8056779d",
   "metadata": {},
   "source": [
    "Peakhours includes a filtered version of data from 8am to 8pm on Monday through Friday. Notably it was used on the simulation data to represent the highest stress on Austin data. It includes header columns: array(['', 'IncidentForeignKey', 'Radio_Name', 'Longitude_At_Assign_Time',\n",
    "       'Latitude_At_Assign_Time', 'Time_Assigned', 'Time_Enroute',\n",
    "       'Time_ArrivedAtScene', 'Time_Depart_Scene',\n",
    "       'Time_Arrive_Destination', 'Time_Available', 'Time_Call_Cleared',\n",
    "       'Call_Disposition', 'Longitude_Of_Emergency',\n",
    "       'Latitude_Of_Emergency', 'transport_time', 'grid_time'],\n",
    "      dtype='<U30')\n",
    "Which I will convert to [IncidentForeignKey, FIPS, call2station] "
   ]
  },
  {
   "cell_type": "code",
   "execution_count": 41,
   "id": "f583551e",
   "metadata": {},
   "outputs": [],
   "source": [
    "import pandas as pd\n",
    "import numpy as np\n",
    "import matplotlib.pyplot as plt\n",
    "#for grid\n",
    "import json\n",
    "import math\n",
    "import collections\n",
    "#for geographic data preprocessing\n",
    "import geopandas as gpd\n",
    "from shapely import geometry\n"
   ]
  },
  {
   "cell_type": "code",
   "execution_count": 18,
   "id": "e2d6c882",
   "metadata": {},
   "outputs": [],
   "source": [
    "peakhours_df = pd.read_csv(\"../Output_Data/peakhours.csv\")\n",
    "socioeconomic_df = pd.DataFrame()"
   ]
  },
  {
   "cell_type": "code",
   "execution_count": 6,
   "id": "bbff5f1d",
   "metadata": {},
   "outputs": [
    {
     "data": {
      "text/html": [
       "<div>\n",
       "<style scoped>\n",
       "    .dataframe tbody tr th:only-of-type {\n",
       "        vertical-align: middle;\n",
       "    }\n",
       "\n",
       "    .dataframe tbody tr th {\n",
       "        vertical-align: top;\n",
       "    }\n",
       "\n",
       "    .dataframe thead th {\n",
       "        text-align: right;\n",
       "    }\n",
       "</style>\n",
       "<table border=\"1\" class=\"dataframe\">\n",
       "  <thead>\n",
       "    <tr style=\"text-align: right;\">\n",
       "      <th></th>\n",
       "      <th>Unnamed: 0</th>\n",
       "      <th>IncidentForeignKey</th>\n",
       "      <th>Radio_Name</th>\n",
       "      <th>Longitude_At_Assign_Time</th>\n",
       "      <th>Latitude_At_Assign_Time</th>\n",
       "      <th>Time_Assigned</th>\n",
       "      <th>Time_Enroute</th>\n",
       "      <th>Time_ArrivedAtScene</th>\n",
       "      <th>Time_Depart_Scene</th>\n",
       "      <th>Time_Arrive_Destination</th>\n",
       "      <th>Time_Available</th>\n",
       "      <th>Time_Call_Cleared</th>\n",
       "      <th>Call_Disposition</th>\n",
       "      <th>Longitude_Of_Emergency</th>\n",
       "      <th>Latitude_Of_Emergency</th>\n",
       "      <th>transport_time</th>\n",
       "      <th>grid_time</th>\n",
       "    </tr>\n",
       "  </thead>\n",
       "  <tbody>\n",
       "    <tr>\n",
       "      <th>0</th>\n",
       "      <td>1</td>\n",
       "      <td>23397873</td>\n",
       "      <td>M09</td>\n",
       "      <td>-97.972866</td>\n",
       "      <td>30.333385</td>\n",
       "      <td>2019-01-01 19:43:36.000</td>\n",
       "      <td>2019-01-01 19:45:27.030</td>\n",
       "      <td>2019-01-01 19:48:39.770</td>\n",
       "      <td>2019-01-01 20:19:00.870</td>\n",
       "      <td>2019-01-01 20:24:43.093</td>\n",
       "      <td>2019-01-01 20:51:12.877</td>\n",
       "      <td>2019-01-01 20:51:12.877</td>\n",
       "      <td>Baylor Scott &amp; White - Lakeway</td>\n",
       "      <td>-97.961</td>\n",
       "      <td>30.325</td>\n",
       "      <td>192</td>\n",
       "      <td>321.275070</td>\n",
       "    </tr>\n",
       "    <tr>\n",
       "      <th>1</th>\n",
       "      <td>3</td>\n",
       "      <td>23408585</td>\n",
       "      <td>DM03</td>\n",
       "      <td>-97.751235</td>\n",
       "      <td>30.246114</td>\n",
       "      <td>2019-01-03 14:20:41.000</td>\n",
       "      <td>2019-01-03 14:20:54.110</td>\n",
       "      <td>2019-01-03 14:27:27.613</td>\n",
       "      <td>NaN</td>\n",
       "      <td>NaN</td>\n",
       "      <td>2019-01-03 14:35:14.657</td>\n",
       "      <td>2019-01-03 14:35:14.657</td>\n",
       "      <td>False Alarm Call</td>\n",
       "      <td>-97.777</td>\n",
       "      <td>30.251</td>\n",
       "      <td>393</td>\n",
       "      <td>344.477564</td>\n",
       "    </tr>\n",
       "    <tr>\n",
       "      <th>2</th>\n",
       "      <td>4</td>\n",
       "      <td>23408585</td>\n",
       "      <td>DMO02</td>\n",
       "      <td>-97.751966</td>\n",
       "      <td>30.245411</td>\n",
       "      <td>2019-01-03 14:20:58.117</td>\n",
       "      <td>2019-01-03 14:20:58.140</td>\n",
       "      <td>2019-01-03 14:26:59.083</td>\n",
       "      <td>NaN</td>\n",
       "      <td>NaN</td>\n",
       "      <td>2019-01-03 14:34:24.343</td>\n",
       "      <td>2019-01-03 14:34:24.343</td>\n",
       "      <td>Dual w/ other ATCEMS Unit</td>\n",
       "      <td>-97.777</td>\n",
       "      <td>30.251</td>\n",
       "      <td>360</td>\n",
       "      <td>344.477564</td>\n",
       "    </tr>\n",
       "    <tr>\n",
       "      <th>3</th>\n",
       "      <td>8</td>\n",
       "      <td>23439455</td>\n",
       "      <td>M10</td>\n",
       "      <td>-97.742590</td>\n",
       "      <td>30.418169</td>\n",
       "      <td>2019-01-07 17:28:48.000</td>\n",
       "      <td>2019-01-07 17:30:12.067</td>\n",
       "      <td>2019-01-07 17:47:53.030</td>\n",
       "      <td>NaN</td>\n",
       "      <td>NaN</td>\n",
       "      <td>2019-01-07 17:56:40.097</td>\n",
       "      <td>2019-01-07 17:56:40.097</td>\n",
       "      <td>False Alarm Call</td>\n",
       "      <td>-97.747</td>\n",
       "      <td>30.407</td>\n",
       "      <td>1060</td>\n",
       "      <td>354.783231</td>\n",
       "    </tr>\n",
       "    <tr>\n",
       "      <th>4</th>\n",
       "      <td>10</td>\n",
       "      <td>23444785</td>\n",
       "      <td>M04</td>\n",
       "      <td>-97.725892</td>\n",
       "      <td>30.290517</td>\n",
       "      <td>2019-01-08 13:55:38.000</td>\n",
       "      <td>2019-01-08 13:55:55.987</td>\n",
       "      <td>2019-01-08 14:04:26.413</td>\n",
       "      <td>2019-01-08 14:20:11.810</td>\n",
       "      <td>2019-01-08 14:41:12.577</td>\n",
       "      <td>2019-01-08 15:09:21.000</td>\n",
       "      <td>2019-01-08 15:09:21.000</td>\n",
       "      <td>Saint Davids Med Ctr</td>\n",
       "      <td>-97.626</td>\n",
       "      <td>30.294</td>\n",
       "      <td>510</td>\n",
       "      <td>408.916370</td>\n",
       "    </tr>\n",
       "  </tbody>\n",
       "</table>\n",
       "</div>"
      ],
      "text/plain": [
       "   Unnamed: 0  IncidentForeignKey Radio_Name  Longitude_At_Assign_Time  \\\n",
       "0           1            23397873        M09                -97.972866   \n",
       "1           3            23408585       DM03                -97.751235   \n",
       "2           4            23408585      DMO02                -97.751966   \n",
       "3           8            23439455        M10                -97.742590   \n",
       "4          10            23444785        M04                -97.725892   \n",
       "\n",
       "   Latitude_At_Assign_Time            Time_Assigned             Time_Enroute  \\\n",
       "0                30.333385  2019-01-01 19:43:36.000  2019-01-01 19:45:27.030   \n",
       "1                30.246114  2019-01-03 14:20:41.000  2019-01-03 14:20:54.110   \n",
       "2                30.245411  2019-01-03 14:20:58.117  2019-01-03 14:20:58.140   \n",
       "3                30.418169  2019-01-07 17:28:48.000  2019-01-07 17:30:12.067   \n",
       "4                30.290517  2019-01-08 13:55:38.000  2019-01-08 13:55:55.987   \n",
       "\n",
       "       Time_ArrivedAtScene        Time_Depart_Scene  Time_Arrive_Destination  \\\n",
       "0  2019-01-01 19:48:39.770  2019-01-01 20:19:00.870  2019-01-01 20:24:43.093   \n",
       "1  2019-01-03 14:27:27.613                      NaN                      NaN   \n",
       "2  2019-01-03 14:26:59.083                      NaN                      NaN   \n",
       "3  2019-01-07 17:47:53.030                      NaN                      NaN   \n",
       "4  2019-01-08 14:04:26.413  2019-01-08 14:20:11.810  2019-01-08 14:41:12.577   \n",
       "\n",
       "            Time_Available        Time_Call_Cleared  \\\n",
       "0  2019-01-01 20:51:12.877  2019-01-01 20:51:12.877   \n",
       "1  2019-01-03 14:35:14.657  2019-01-03 14:35:14.657   \n",
       "2  2019-01-03 14:34:24.343  2019-01-03 14:34:24.343   \n",
       "3  2019-01-07 17:56:40.097  2019-01-07 17:56:40.097   \n",
       "4  2019-01-08 15:09:21.000  2019-01-08 15:09:21.000   \n",
       "\n",
       "                 Call_Disposition  Longitude_Of_Emergency  \\\n",
       "0  Baylor Scott & White - Lakeway                 -97.961   \n",
       "1                False Alarm Call                 -97.777   \n",
       "2       Dual w/ other ATCEMS Unit                 -97.777   \n",
       "3                False Alarm Call                 -97.747   \n",
       "4            Saint Davids Med Ctr                 -97.626   \n",
       "\n",
       "   Latitude_Of_Emergency  transport_time   grid_time  \n",
       "0                 30.325             192  321.275070  \n",
       "1                 30.251             393  344.477564  \n",
       "2                 30.251             360  344.477564  \n",
       "3                 30.407            1060  354.783231  \n",
       "4                 30.294             510  408.916370  "
      ]
     },
     "execution_count": 6,
     "metadata": {},
     "output_type": "execute_result"
    }
   ],
   "source": [
    "peakhours_df.head()"
   ]
  },
  {
   "cell_type": "code",
   "execution_count": 29,
   "id": "9917402e",
   "metadata": {},
   "outputs": [],
   "source": [
    "IncidentForeignKey = peakhours_df.IncidentForeignKey\n",
    "transport_time = peakhours_df.transport_time\n",
    "grid_time = peakhours_df.grid_time\n",
    "lon_list = peakhours_df.Longitude_At_Assign_Time\n",
    "lat_list = peakhours_df.Latitude_At_Assign_Time"
   ]
  },
  {
   "cell_type": "code",
   "execution_count": 24,
   "id": "77ab2d53",
   "metadata": {
    "scrolled": true
   },
   "outputs": [
    {
     "data": {
      "text/html": [
       "<div>\n",
       "<style scoped>\n",
       "    .dataframe tbody tr th:only-of-type {\n",
       "        vertical-align: middle;\n",
       "    }\n",
       "\n",
       "    .dataframe tbody tr th {\n",
       "        vertical-align: top;\n",
       "    }\n",
       "\n",
       "    .dataframe thead th {\n",
       "        text-align: right;\n",
       "    }\n",
       "</style>\n",
       "<table border=\"1\" class=\"dataframe\">\n",
       "  <thead>\n",
       "    <tr style=\"text-align: right;\">\n",
       "      <th></th>\n",
       "      <th>IncidentForeignKey</th>\n",
       "      <th>call2station</th>\n",
       "    </tr>\n",
       "  </thead>\n",
       "  <tbody>\n",
       "    <tr>\n",
       "      <th>0</th>\n",
       "      <td>23397873</td>\n",
       "      <td>192</td>\n",
       "    </tr>\n",
       "    <tr>\n",
       "      <th>1</th>\n",
       "      <td>23408585</td>\n",
       "      <td>393</td>\n",
       "    </tr>\n",
       "  </tbody>\n",
       "</table>\n",
       "</div>"
      ],
      "text/plain": [
       "   IncidentForeignKey  call2station\n",
       "0            23397873           192\n",
       "1            23408585           393"
      ]
     },
     "execution_count": 24,
     "metadata": {},
     "output_type": "execute_result"
    }
   ],
   "source": [
    "socioeconomic_df['IncidentForeignKey'] = IncidentForeignKey\n",
    "socioeconomic_df['call2station'] = transport_time\n",
    "socioeconomic_df.head(2)"
   ]
  },
  {
   "cell_type": "code",
   "execution_count": 17,
   "id": "a1740417",
   "metadata": {},
   "outputs": [
    {
     "data": {
      "text/plain": [
       "(array([1414.,  195.,  177.,  169.,  261.,  259.,  389.,  425.,  525.,\n",
       "         706.]),\n",
       " array([  0.,  10.,  20.,  30.,  40.,  50.,  60.,  70.,  80.,  90., 100.]),\n",
       " <BarContainer object of 10 artists>)"
      ]
     },
     "execution_count": 17,
     "metadata": {},
     "output_type": "execute_result"
    },
    {
     "data": {
      "image/png": "[encoded data removed]",
      "text/plain": [
       "<Figure size 432x288 with 1 Axes>"
      ]
     },
     "metadata": {
      "needs_background": "light"
     },
     "output_type": "display_data"
    }
   ],
   "source": [
    "#sanity check that reported travel time looks correct\n",
    "plt.hist(transport_time, range=(0, 100))"
   ]
  },
  {
   "cell_type": "markdown",
   "id": "003e1945",
   "metadata": {},
   "source": [
    "### finally do the fips column"
   ]
  },
  {
   "cell_type": "code",
   "execution_count": 31,
   "id": "42037975",
   "metadata": {},
   "outputs": [],
   "source": [
    "#load grid \n",
    "# This is the grid object, which is used throughout all data preprocessing.\n",
    "# It represents the city of Austin through a series of grids.\n",
    "# It thus makes a tractable way to compute distance between grids, ect. \n",
    "class Grid():\n",
    "    def __init__(self, grid_json):\n",
    "        self.grid = grid_json\n",
    "        self.min_lat = self.grid[\"latitude_min\"]\n",
    "        self.min_lon = self.grid[\"longitude_min\"]\n",
    "        self.max_lat = self.grid[\"latitude_max\"]\n",
    "        self.max_lon = self.grid[\"longitude_max\"]\n",
    "        self.latitude_delta = self.grid[\"latitude_step\"]\n",
    "        self.longitude_delta = self.grid[\"longitude_step\"]\n",
    "        self.nrows = math.ceil((self.max_lat - self.min_lat) / self.latitude_delta)\n",
    "        self.ncols = math.ceil((self.max_lon - self.min_lon) / self.longitude_delta)\n",
    "        self.times = self.grid[\"time_matrix\"]\n",
    "        self.census_tract_region_map = self.grid[\"census_tract_region_mapping\"]\n",
    "        self.region_to_tract = collections.defaultdict(list)\n",
    "        for census_tract in self.census_tract_region_map:\n",
    "            for region in self.census_tract_region_map[census_tract]:\n",
    "                self.region_to_tract[region].append(census_tract)\n",
    "    def map_point_to_region(self, latitude, longitude):\n",
    "        return math.floor((latitude-self.min_lat)/self.latitude_delta) * self.ncols  + math.floor((longitude-self.min_lon)/self.longitude_delta)\n",
    "    def get_representative(self, region_num):\n",
    "        row_num = region_num//self.ncols\n",
    "        col_num = region_num - row_num*self.ncols\n",
    "        lat = self.min_lat + row_num * self.latitude_delta + 0.5*self.latitude_delta\n",
    "        lon = self.min_lon + col_num * self.longitude_delta + 0.5*self.longitude_delta\n",
    "        return [lon, lat]\n",
    "    def get_time(self, region1, region2):\n",
    "        try:\n",
    "            return self.times[region1][region2]\n",
    "        except IndexError:\n",
    "            return -1\n",
    "    def region_to_census_tract(self, region):\n",
    "        try:\n",
    "            return self.region_to_tract[region]\n",
    "        except KeyError:\n",
    "            return \"0_0\""
   ]
  },
  {
   "cell_type": "code",
   "execution_count": 39,
   "id": "ca3c5c45",
   "metadata": {},
   "outputs": [],
   "source": [
    "# Using smaller distance matrix for hopefully faster runtime of Julia code\n",
    "with open(\"../Input_Data/grid_info_3660.json\", \"r\") as f:\n",
    "    grid_json = json.load(f)\n",
    "g = Grid(grid_json)"
   ]
  },
  {
   "cell_type": "code",
   "execution_count": 38,
   "id": "6ce038eb",
   "metadata": {},
   "outputs": [],
   "source": [
    "#load shape data\n",
    "shapefile = gpd.read_file(\"../Input_Data/xinyu_shape_file/Travis_tracts.shp\")\n",
    "#print(shapefile)"
   ]
  },
  {
   "cell_type": "code",
   "execution_count": 67,
   "id": "be1ad594",
   "metadata": {},
   "outputs": [
    {
     "name": "stdout",
     "output_type": "stream",
     "text": [
      "0\n",
      "1000\n",
      "2000\n",
      "3000\n",
      "4000\n",
      "5000\n",
      "6000\n",
      "7000\n",
      "8000\n",
      "9000\n",
      "10000\n",
      "11000\n",
      "12000\n",
      "13000\n",
      "14000\n",
      "15000\n",
      "16000\n",
      "17000\n",
      "18000\n",
      "19000\n",
      "20000\n",
      "21000\n",
      "22000\n",
      "23000\n",
      "24000\n",
      "25000\n",
      "26000\n",
      "27000\n",
      "28000\n",
      "29000\n",
      "30000\n",
      "31000\n",
      "32000\n",
      "33000\n",
      "34000\n",
      "35000\n",
      "36000\n",
      "37000\n",
      "38000\n",
      "39000\n",
      "40000\n",
      "41000\n",
      "42000\n",
      "43000\n",
      "44000\n",
      "45000\n",
      "46000\n",
      "47000\n",
      "48000\n",
      "49000\n",
      "50000\n",
      "51000\n",
      "52000\n",
      "53000\n",
      "54000\n",
      "55000\n",
      "56000\n",
      "57000\n",
      "58000\n",
      "59000\n",
      "60000\n",
      "61000\n",
      "62000\n",
      "63000\n",
      "64000\n",
      "65000\n",
      "66000\n",
      "67000\n",
      "68000\n",
      "69000\n",
      "70000\n",
      "71000\n",
      "72000\n",
      "73000\n",
      "74000\n",
      "75000\n",
      "76000\n",
      "77000\n",
      "78000\n",
      "79000\n",
      "80000\n",
      "81000\n",
      "82000\n",
      "83000\n",
      "84000\n",
      "85000\n",
      "86000\n",
      "87000\n",
      "88000\n",
      "89000\n",
      "90000\n",
      "91000\n",
      "92000\n",
      "93000\n",
      "94000\n",
      "95000\n",
      "96000\n",
      "97000\n",
      "98000\n",
      "99000\n",
      "100000\n",
      "101000\n",
      "102000\n",
      "103000\n"
     ]
    }
   ],
   "source": [
    "fips_list = []\n",
    "out_of_bound_count = 0\n",
    "no_fips_count = 0\n",
    "for i in range(0,len(lon_list)):\n",
    "    lon = lon_list[i]\n",
    "    lat = lat_list[i]\n",
    "    if(lon < g.min_lon) or (lon > g.max_lon):\n",
    "            out_of_bound_count = out_of_bound_count + 1\n",
    "            fips_list.append(-1)\n",
    "            continue\n",
    "    elif(lat < g.min_lat) or (lat >g.max_lat):\n",
    "            out_of_bound_count = out_of_bound_count + 1\n",
    "            fips_list.append(-1)\n",
    "            continue\n",
    "    point = geometry.Point(lon, lat)\n",
    "    in_fip = 0 #bool mask\n",
    "    for j in range(len(shapefile[\"geometry\"])):\n",
    "        if(shapefile[\"geometry\"][j].contains(point)):\n",
    "            fips_list.append(shapefile[\"FIPS\"][j])\n",
    "            in_fip = 1\n",
    "            continue\n",
    "    if(not in_fip):\n",
    "        no_fips_count = no_fips_count + 1\n",
    "        fips_list.append(-1)\n",
    "    if(i % 1000 == 0):\n",
    "        print(i)\n"
   ]
  },
  {
   "cell_type": "code",
   "execution_count": 68,
   "id": "bcbacc2f",
   "metadata": {},
   "outputs": [
    {
     "data": {
      "text/plain": [
       "103954"
      ]
     },
     "execution_count": 68,
     "metadata": {},
     "output_type": "execute_result"
    }
   ],
   "source": [
    "len(fips_list)"
   ]
  },
  {
   "cell_type": "code",
   "execution_count": 55,
   "id": "cb9ebc9e",
   "metadata": {},
   "outputs": [
    {
     "ename": "ValueError",
     "evalue": "Length of values (99390) does not match length of index (103954)",
     "output_type": "error",
     "traceback": [
      "\u001b[1;31m---------------------------------------------------------------------------\u001b[0m",
      "\u001b[1;31mValueError\u001b[0m                                Traceback (most recent call last)",
      "\u001b[1;32m<ipython-input-55-cbf7d192046a>\u001b[0m in \u001b[0;36m<module>\u001b[1;34m\u001b[0m\n\u001b[1;32m----> 1\u001b[1;33m \u001b[0msocioeconomic_df\u001b[0m\u001b[1;33m[\u001b[0m\u001b[1;34m\"FIPS\"\u001b[0m\u001b[1;33m]\u001b[0m \u001b[1;33m=\u001b[0m \u001b[0mfips_list\u001b[0m\u001b[1;33m\u001b[0m\u001b[1;33m\u001b[0m\u001b[0m\n\u001b[0m",
      "\u001b[1;32mD:\\anaconda\\lib\\site-packages\\pandas\\core\\frame.py\u001b[0m in \u001b[0;36m__setitem__\u001b[1;34m(self, key, value)\u001b[0m\n\u001b[0;32m   3161\u001b[0m         \u001b[1;32melse\u001b[0m\u001b[1;33m:\u001b[0m\u001b[1;33m\u001b[0m\u001b[1;33m\u001b[0m\u001b[0m\n\u001b[0;32m   3162\u001b[0m             \u001b[1;31m# set column\u001b[0m\u001b[1;33m\u001b[0m\u001b[1;33m\u001b[0m\u001b[1;33m\u001b[0m\u001b[0m\n\u001b[1;32m-> 3163\u001b[1;33m             \u001b[0mself\u001b[0m\u001b[1;33m.\u001b[0m\u001b[0m_set_item\u001b[0m\u001b[1;33m(\u001b[0m\u001b[0mkey\u001b[0m\u001b[1;33m,\u001b[0m \u001b[0mvalue\u001b[0m\u001b[1;33m)\u001b[0m\u001b[1;33m\u001b[0m\u001b[1;33m\u001b[0m\u001b[0m\n\u001b[0m\u001b[0;32m   3164\u001b[0m \u001b[1;33m\u001b[0m\u001b[0m\n\u001b[0;32m   3165\u001b[0m     \u001b[1;32mdef\u001b[0m \u001b[0m_setitem_slice\u001b[0m\u001b[1;33m(\u001b[0m\u001b[0mself\u001b[0m\u001b[1;33m,\u001b[0m \u001b[0mkey\u001b[0m\u001b[1;33m:\u001b[0m \u001b[0mslice\u001b[0m\u001b[1;33m,\u001b[0m \u001b[0mvalue\u001b[0m\u001b[1;33m)\u001b[0m\u001b[1;33m:\u001b[0m\u001b[1;33m\u001b[0m\u001b[1;33m\u001b[0m\u001b[0m\n",
      "\u001b[1;32mD:\\anaconda\\lib\\site-packages\\pandas\\core\\frame.py\u001b[0m in \u001b[0;36m_set_item\u001b[1;34m(self, key, value)\u001b[0m\n\u001b[0;32m   3240\u001b[0m         \"\"\"\n\u001b[0;32m   3241\u001b[0m         \u001b[0mself\u001b[0m\u001b[1;33m.\u001b[0m\u001b[0m_ensure_valid_index\u001b[0m\u001b[1;33m(\u001b[0m\u001b[0mvalue\u001b[0m\u001b[1;33m)\u001b[0m\u001b[1;33m\u001b[0m\u001b[1;33m\u001b[0m\u001b[0m\n\u001b[1;32m-> 3242\u001b[1;33m         \u001b[0mvalue\u001b[0m \u001b[1;33m=\u001b[0m \u001b[0mself\u001b[0m\u001b[1;33m.\u001b[0m\u001b[0m_sanitize_column\u001b[0m\u001b[1;33m(\u001b[0m\u001b[0mkey\u001b[0m\u001b[1;33m,\u001b[0m \u001b[0mvalue\u001b[0m\u001b[1;33m)\u001b[0m\u001b[1;33m\u001b[0m\u001b[1;33m\u001b[0m\u001b[0m\n\u001b[0m\u001b[0;32m   3243\u001b[0m         \u001b[0mNDFrame\u001b[0m\u001b[1;33m.\u001b[0m\u001b[0m_set_item\u001b[0m\u001b[1;33m(\u001b[0m\u001b[0mself\u001b[0m\u001b[1;33m,\u001b[0m \u001b[0mkey\u001b[0m\u001b[1;33m,\u001b[0m \u001b[0mvalue\u001b[0m\u001b[1;33m)\u001b[0m\u001b[1;33m\u001b[0m\u001b[1;33m\u001b[0m\u001b[0m\n\u001b[0;32m   3244\u001b[0m \u001b[1;33m\u001b[0m\u001b[0m\n",
      "\u001b[1;32mD:\\anaconda\\lib\\site-packages\\pandas\\core\\frame.py\u001b[0m in \u001b[0;36m_sanitize_column\u001b[1;34m(self, key, value, broadcast)\u001b[0m\n\u001b[0;32m   3897\u001b[0m \u001b[1;33m\u001b[0m\u001b[0m\n\u001b[0;32m   3898\u001b[0m             \u001b[1;31m# turn me into an ndarray\u001b[0m\u001b[1;33m\u001b[0m\u001b[1;33m\u001b[0m\u001b[1;33m\u001b[0m\u001b[0m\n\u001b[1;32m-> 3899\u001b[1;33m             \u001b[0mvalue\u001b[0m \u001b[1;33m=\u001b[0m \u001b[0msanitize_index\u001b[0m\u001b[1;33m(\u001b[0m\u001b[0mvalue\u001b[0m\u001b[1;33m,\u001b[0m \u001b[0mself\u001b[0m\u001b[1;33m.\u001b[0m\u001b[0mindex\u001b[0m\u001b[1;33m)\u001b[0m\u001b[1;33m\u001b[0m\u001b[1;33m\u001b[0m\u001b[0m\n\u001b[0m\u001b[0;32m   3900\u001b[0m             \u001b[1;32mif\u001b[0m \u001b[1;32mnot\u001b[0m \u001b[0misinstance\u001b[0m\u001b[1;33m(\u001b[0m\u001b[0mvalue\u001b[0m\u001b[1;33m,\u001b[0m \u001b[1;33m(\u001b[0m\u001b[0mnp\u001b[0m\u001b[1;33m.\u001b[0m\u001b[0mndarray\u001b[0m\u001b[1;33m,\u001b[0m \u001b[0mIndex\u001b[0m\u001b[1;33m)\u001b[0m\u001b[1;33m)\u001b[0m\u001b[1;33m:\u001b[0m\u001b[1;33m\u001b[0m\u001b[1;33m\u001b[0m\u001b[0m\n\u001b[0;32m   3901\u001b[0m                 \u001b[1;32mif\u001b[0m \u001b[0misinstance\u001b[0m\u001b[1;33m(\u001b[0m\u001b[0mvalue\u001b[0m\u001b[1;33m,\u001b[0m \u001b[0mlist\u001b[0m\u001b[1;33m)\u001b[0m \u001b[1;32mand\u001b[0m \u001b[0mlen\u001b[0m\u001b[1;33m(\u001b[0m\u001b[0mvalue\u001b[0m\u001b[1;33m)\u001b[0m \u001b[1;33m>\u001b[0m \u001b[1;36m0\u001b[0m\u001b[1;33m:\u001b[0m\u001b[1;33m\u001b[0m\u001b[1;33m\u001b[0m\u001b[0m\n",
      "\u001b[1;32mD:\\anaconda\\lib\\site-packages\\pandas\\core\\internals\\construction.py\u001b[0m in \u001b[0;36msanitize_index\u001b[1;34m(data, index)\u001b[0m\n\u001b[0;32m    750\u001b[0m     \u001b[1;32mif\u001b[0m \u001b[0mlen\u001b[0m\u001b[1;33m(\u001b[0m\u001b[0mdata\u001b[0m\u001b[1;33m)\u001b[0m \u001b[1;33m!=\u001b[0m \u001b[0mlen\u001b[0m\u001b[1;33m(\u001b[0m\u001b[0mindex\u001b[0m\u001b[1;33m)\u001b[0m\u001b[1;33m:\u001b[0m\u001b[1;33m\u001b[0m\u001b[1;33m\u001b[0m\u001b[0m\n\u001b[0;32m    751\u001b[0m         raise ValueError(\n\u001b[1;32m--> 752\u001b[1;33m             \u001b[1;34m\"Length of values \"\u001b[0m\u001b[1;33m\u001b[0m\u001b[1;33m\u001b[0m\u001b[0m\n\u001b[0m\u001b[0;32m    753\u001b[0m             \u001b[1;34mf\"({len(data)}) \"\u001b[0m\u001b[1;33m\u001b[0m\u001b[1;33m\u001b[0m\u001b[0m\n\u001b[0;32m    754\u001b[0m             \u001b[1;34m\"does not match length of index \"\u001b[0m\u001b[1;33m\u001b[0m\u001b[1;33m\u001b[0m\u001b[0m\n",
      "\u001b[1;31mValueError\u001b[0m: Length of values (99390) does not match length of index (103954)"
     ]
    }
   ],
   "source": [
    "socioeconomic_df[\"FIPS\"] = fips_list"
   ]
  },
  {
   "cell_type": "code",
   "execution_count": 57,
   "id": "96bfbc0e",
   "metadata": {},
   "outputs": [
    {
     "data": {
      "text/plain": [
       "99390"
      ]
     },
     "execution_count": 57,
     "metadata": {},
     "output_type": "execute_result"
    }
   ],
   "source": [
    "len(fips_list)"
   ]
  },
  {
   "cell_type": "code",
   "execution_count": null,
   "id": "070fcdf2",
   "metadata": {},
   "outputs": [],
   "source": [
    "socioeconomic_df.to_csv('socioeconomic_df.csv', index=False)"
   ]
  }
 ],
 "metadata": {
  "kernelspec": {
   "display_name": "Python 3",
   "language": "python",
   "name": "python3"
  },
  "language_info": {
   "codemirror_mode": {
    "name": "ipython",
    "version": 3
   },
   "file_extension": ".py",
   "mimetype": "text/x-python",
   "name": "python",
   "nbconvert_exporter": "python",
   "pygments_lexer": "ipython3",
   "version": "3.7.3"
  }
 },
 "nbformat": 4,
 "nbformat_minor": 5
}
